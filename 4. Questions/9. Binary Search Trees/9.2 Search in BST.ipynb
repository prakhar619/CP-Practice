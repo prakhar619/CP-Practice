{
 "cells": [
  {
   "cell_type": "code",
   "execution_count": null,
   "id": "04a1c1dc",
   "metadata": {
    "vscode": {
     "languageId": "plaintext"
    }
   },
   "outputs": [],
   "source": [
    "/**\n",
    " * Definition for a binary tree node.\n",
    " * struct TreeNode {\n",
    " *     int val;\n",
    " *     TreeNode *left;\n",
    " *     TreeNode *right;\n",
    " *     TreeNode() : val(0), left(nullptr), right(nullptr) {}\n",
    " *     TreeNode(int x) : val(x), left(nullptr), right(nullptr) {}\n",
    " *     TreeNode(int x, TreeNode *left, TreeNode *right) : val(x), left(left), right(right) {}\n",
    " * };\n",
    " */\n",
    "class Solution {\n",
    "public:\n",
    "    TreeNode* searchBST(TreeNode* root, int val) {\n",
    "        if(root == nullptr)\n",
    "        return nullptr;\n",
    "\n",
    "        if(root->val == val)\n",
    "        return root;\n",
    "        else if(root->val < val)\n",
    "        {\n",
    "            return searchBST(root->right, val);\n",
    "        }\n",
    "        else\n",
    "        {\n",
    "            return searchBST(root->left,val);\n",
    "        }\n",
    "    }\n",
    "};"
   ]
  },
  {
   "cell_type": "markdown",
   "id": "781fe615",
   "metadata": {},
   "source": [
    "https://leetcode.com/problems/search-in-a-binary-search-tree/"
   ]
  }
 ],
 "metadata": {
  "language_info": {
   "name": "python"
  }
 },
 "nbformat": 4,
 "nbformat_minor": 5
}
