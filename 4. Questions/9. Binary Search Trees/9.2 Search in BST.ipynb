{
 "cells": [
  {
   "cell_type": "markdown",
   "id": "5d7331cb",
   "metadata": {},
   "source": [
    "#### Chapter 9: Binary Search Trees"
   ]
  },
  {
   "cell_type": "code",
   "execution_count": 1,
   "id": "d9e1eed5",
   "metadata": {
    "vscode": {
     "languageId": "cpp"
    }
   },
   "outputs": [],
   "source": [
    "using namespace std;"
   ]
  },
  {
   "cell_type": "markdown",
   "id": "e54c9780",
   "metadata": {},
   "source": [
    "### 2. Search in Binary Search Tree"
   ]
  },
  {
   "cell_type": "markdown",
   "id": "cdc91455",
   "metadata": {},
   "source": [
    "> Search for the value in given Binary Search Tree"
   ]
  },
  {
   "cell_type": "markdown",
   "id": "e7af08fb",
   "metadata": {},
   "source": [
    "**Best Possible Solution:**"
   ]
  },
  {
   "cell_type": "markdown",
   "id": "781fe615",
   "metadata": {},
   "source": [
    "*Leetcode Link:* https://leetcode.com/problems/search-in-a-binary-search-tree/"
   ]
  },
  {
   "cell_type": "markdown",
   "id": "69a51be9",
   "metadata": {},
   "source": [
    "### Method 1\n",
    "Time Complexity: O(log h)  \n",
    "Space Complexity: O(1)\n",
    "###### where h is height of BST"
   ]
  },
  {
   "cell_type": "code",
   "execution_count": 2,
   "id": "04a1c1dc",
   "metadata": {
    "vscode": {
     "languageId": "cpp"
    }
   },
   "outputs": [],
   "source": [
    "\n",
    " struct TreeNode {\n",
    "  int val;\n",
    "     TreeNode *left;\n",
    "     TreeNode *right;\n",
    "     TreeNode() : val(0), left(nullptr), right(nullptr) {}\n",
    "     TreeNode(int x) : val(x), left(nullptr), right(nullptr) {}\n",
    "     TreeNode(int x, TreeNode *left, TreeNode *right) : val(x), left(left), right(right) {}\n",
    " };\n",
    "\n",
    "class Solution {\n",
    "public:\n",
    "    TreeNode* searchBST(TreeNode* root, int val) {\n",
    "        if(root == nullptr)\n",
    "        return nullptr;\n",
    "\n",
    "        if(root->val == val)\n",
    "        return root;\n",
    "        else if(root->val < val)\n",
    "        {\n",
    "            return searchBST(root->right, val);\n",
    "        }\n",
    "        else\n",
    "        {\n",
    "            return searchBST(root->left,val);\n",
    "        }\n",
    "    }\n",
    "};"
   ]
  }
 ],
 "metadata": {
  "kernelspec": {
   "display_name": "C++17",
   "language": "C++17",
   "name": "xcpp17"
  },
  "language_info": {
   "codemirror_mode": "text/x-c++src",
   "file_extension": ".cpp",
   "mimetype": "text/x-c++src",
   "name": "c++",
   "version": "17"
  }
 },
 "nbformat": 4,
 "nbformat_minor": 5
}
