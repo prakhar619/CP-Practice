{
 "cells": [
  {
   "cell_type": "code",
   "execution_count": null,
   "id": "e412b264",
   "metadata": {
    "vscode": {
     "languageId": "plaintext"
    }
   },
   "outputs": [],
   "source": [
    "/**\n",
    " * Definition for a binary tree node.\n",
    " * struct TreeNode {\n",
    " *     int val;\n",
    " *     TreeNode *left;\n",
    " *     TreeNode *right;\n",
    " *     TreeNode(int x) : val(x), left(NULL), right(NULL) {}\n",
    " * };\n",
    " */\n",
    "class Codec {\n",
    "public:\n",
    "    string s = \"\";\n",
    "\n",
    "    void preorder(TreeNode* root)\n",
    "    {\n",
    "        if(root == nullptr)\n",
    "        {\n",
    "            s += \"NULL#\";\n",
    "            return;\n",
    "        }\n",
    "        s += to_string(root->val) + \"#\" ;\n",
    "        preorder(root->left);\n",
    "        preorder(root->right);\n",
    "    }\n",
    "    // Encodes a tree to a single string.\n",
    "    string serialize(TreeNode* root) {\n",
    "        preorder(root);\n",
    "        return s;\n",
    "    }\n",
    "\n",
    "    TreeNode* decode(string data, int&index)\n",
    "    {\n",
    "        if(index >= data.length())\n",
    "        return nullptr;\n",
    "\n",
    "        string num = \"\";\n",
    "        int cnt = 0;\n",
    "        int i;\n",
    "        for(i = index; i < data.length(); i++)\n",
    "        {\n",
    "            if(data[i] == '#')\n",
    "            {\n",
    "                cnt += 1;\n",
    "                if(cnt == 1)\n",
    "                break;\n",
    "            }\n",
    "            else\n",
    "            {\n",
    "                num += data[i];\n",
    "            }\n",
    "        }\n",
    "        //cout << num << endl;\n",
    "\n",
    "        index = i+1;\n",
    "        TreeNode* root;\n",
    "        if(num == \"NULL\")\n",
    "        root = nullptr;\n",
    "        else\n",
    "        {\n",
    "            root = new TreeNode(stoi(num));\n",
    "            root->left = decode(data,index);\n",
    "            root->right = decode(data,index);\n",
    "        }\n",
    "        return root;\n",
    "    }\n",
    "\n",
    "    // Decodes your encoded data to tree.\n",
    "    TreeNode* deserialize(string data) {\n",
    "        int index = 0;\n",
    "        //cout << data << endl;\n",
    "        return decode(data,index);\n",
    "\n",
    "    }\n",
    "};\n",
    "\n",
    "// Your Codec object will be instantiated and called as such:\n",
    "// Codec ser, deser;\n",
    "// TreeNode* ans = deser.deserialize(ser.serialize(root));"
   ]
  },
  {
   "cell_type": "markdown",
   "id": "cb94a6a6",
   "metadata": {},
   "source": [
    "https://leetcode.com/problems/serialize-and-deserialize-binary-tree/description/"
   ]
  },
  {
   "cell_type": "code",
   "execution_count": null,
   "id": "0ec07c4f",
   "metadata": {
    "vscode": {
     "languageId": "plaintext"
    }
   },
   "outputs": [],
   "source": [
    "think of stack/queue approach for preventing recursion"
   ]
  }
 ],
 "metadata": {
  "language_info": {
   "name": "python"
  }
 },
 "nbformat": 4,
 "nbformat_minor": 5
}
