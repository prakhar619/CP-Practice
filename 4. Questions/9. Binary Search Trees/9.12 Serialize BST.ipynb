{
 "cells": [
  {
   "cell_type": "markdown",
   "id": "deec3c82",
   "metadata": {},
   "source": [
    "#### Chapter 9: Binary Search Tree"
   ]
  },
  {
   "cell_type": "code",
   "execution_count": 1,
   "id": "ef4c04ae",
   "metadata": {
    "vscode": {
     "languageId": "cpp"
    }
   },
   "outputs": [],
   "source": [
    "#include <vector>\n",
    "#include <utility>\n",
    "using namespace std;"
   ]
  },
  {
   "cell_type": "markdown",
   "id": "7b198e10",
   "metadata": {},
   "source": [
    "### 12. Serialize BST"
   ]
  },
  {
   "cell_type": "markdown",
   "id": "3732ee35",
   "metadata": {},
   "source": [
    "> Convert BST to a string (writeable in file) and back to BST"
   ]
  },
  {
   "cell_type": "markdown",
   "id": "cb94a6a6",
   "metadata": {},
   "source": [
    "*Leetcode Link:* https://leetcode.com/problems/serialize-and-deserialize-binary-tree/description/"
   ]
  },
  {
   "cell_type": "markdown",
   "id": "a5109196",
   "metadata": {},
   "source": [
    "**Best Possible Solution**:"
   ]
  },
  {
   "cell_type": "markdown",
   "id": "5ea8a4ee",
   "metadata": {},
   "source": [
    "### Method 1\n",
    "Time Complexity: O(n)  \n",
    "Space Complexity: O(n)\n",
    "###### where n is size of input "
   ]
  },
  {
   "cell_type": "code",
   "execution_count": 2,
   "id": "e412b264",
   "metadata": {
    "vscode": {
     "languageId": "cpp"
    }
   },
   "outputs": [],
   "source": [
    "\n",
    " struct TreeNode {\n",
    "     int val;\n",
    "     TreeNode *left;\n",
    "     TreeNode *right;\n",
    "     TreeNode(int x) : val(x), left(NULL), right(NULL) {}\n",
    " };\n",
    "\n",
    "class Codec {\n",
    "public:\n",
    "    string s = \"\";\n",
    "\n",
    "    void preorder(TreeNode* root)\n",
    "    {\n",
    "        if(root == nullptr)\n",
    "        {\n",
    "            s += \"NULL#\";\n",
    "            return;\n",
    "        }\n",
    "        s += to_string(root->val) + \"#\" ;\n",
    "        preorder(root->left);\n",
    "        preorder(root->right);\n",
    "    }\n",
    "    // Encodes a tree to a single string.\n",
    "    string serialize(TreeNode* root) {\n",
    "        preorder(root);\n",
    "        return s;\n",
    "    }\n",
    "\n",
    "    TreeNode* decode(string data, int&index)\n",
    "    {\n",
    "        if(index >= data.length())\n",
    "        return nullptr;\n",
    "\n",
    "        string num = \"\";\n",
    "        int cnt = 0;\n",
    "        int i;\n",
    "        for(i = index; i < data.length(); i++)\n",
    "        {\n",
    "            if(data[i] == '#')\n",
    "            {\n",
    "                cnt += 1;\n",
    "                if(cnt == 1)\n",
    "                break;\n",
    "            }\n",
    "            else\n",
    "            {\n",
    "                num += data[i];\n",
    "            }\n",
    "        }\n",
    "        //cout << num << endl;\n",
    "\n",
    "        index = i+1;\n",
    "        TreeNode* root;\n",
    "        if(num == \"NULL\")\n",
    "        root = nullptr;\n",
    "        else\n",
    "        {\n",
    "            root = new TreeNode(stoi(num));\n",
    "            root->left = decode(data,index);\n",
    "            root->right = decode(data,index);\n",
    "        }\n",
    "        return root;\n",
    "    }\n",
    "\n",
    "    // Decodes your encoded data to tree.\n",
    "    TreeNode* deserialize(string data) {\n",
    "        int index = 0;\n",
    "        //cout << data << endl;\n",
    "        return decode(data,index);\n",
    "\n",
    "    }\n",
    "};\n",
    "\n",
    "// Your Codec object will be instantiated and called as such:\n",
    "// Codec ser, deser;\n",
    "// TreeNode* ans = deser.deserialize(ser.serialize(root));"
   ]
  },
  {
   "cell_type": "markdown",
   "id": "0ec07c4f",
   "metadata": {
    "vscode": {
     "languageId": "plaintext"
    }
   },
   "source": [
    "think of stack/queue approach for preventing recursion"
   ]
  }
 ],
 "metadata": {
  "kernelspec": {
   "display_name": "C++17",
   "language": "C++17",
   "name": "xcpp17"
  },
  "language_info": {
   "codemirror_mode": "text/x-c++src",
   "file_extension": ".cpp",
   "mimetype": "text/x-c++src",
   "name": "c++",
   "version": "17"
  }
 },
 "nbformat": 4,
 "nbformat_minor": 5
}
