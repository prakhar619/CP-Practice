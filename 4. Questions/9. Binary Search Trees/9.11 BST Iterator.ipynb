{
 "cells": [
  {
   "cell_type": "markdown",
   "id": "95300d0a",
   "metadata": {},
   "source": [
    "#### Chapter 9: Binary Search Tree"
   ]
  },
  {
   "cell_type": "code",
   "execution_count": 1,
   "id": "3f32ebd2",
   "metadata": {
    "vscode": {
     "languageId": "cpp"
    }
   },
   "outputs": [],
   "source": [
    "#include <queue>\n",
    "using namespace std;"
   ]
  },
  {
   "cell_type": "markdown",
   "id": "6dffdd7f",
   "metadata": {},
   "source": [
    "### 11. Binary Search Tree Iterator"
   ]
  },
  {
   "cell_type": "markdown",
   "id": "a73f2546",
   "metadata": {},
   "source": [
    "> Create an iterator structure/function for Binary Search Tree"
   ]
  },
  {
   "cell_type": "markdown",
   "id": "2adc84c3",
   "metadata": {},
   "source": [
    "*Leetcode Link:* https://leetcode.com/problems/binary-search-tree-iterator/"
   ]
  },
  {
   "cell_type": "markdown",
   "id": "0f6a7faa",
   "metadata": {},
   "source": [
    "**Best Possible Solution:**"
   ]
  },
  {
   "cell_type": "markdown",
   "id": "6111c724",
   "metadata": {},
   "source": [
    "### Method 1: InOrder\n",
    "Time Complexity: O(1)  \n",
    "Space Complexity: O(n)\n",
    "###### where n is number of node in bst"
   ]
  },
  {
   "cell_type": "code",
   "execution_count": 2,
   "id": "158f890a",
   "metadata": {
    "vscode": {
     "languageId": "cpp"
    }
   },
   "outputs": [],
   "source": [
    "struct TreeNode {\n",
    "    int val;\n",
    "    TreeNode *left;\n",
    "    TreeNode *right;\n",
    "    TreeNode() : val(0), left(nullptr), right(nullptr) {}\n",
    "    TreeNode(int x) : val(x), left(nullptr), right(nullptr) {}\n",
    "    TreeNode(int x, TreeNode *left, TreeNode *right) : val(x), left(left), right(right) {}\n",
    "};\n",
    "\n",
    "class BSTIterator {\n",
    "public:\n",
    "    queue<TreeNode*> st;\n",
    "\n",
    "    void inOrder(TreeNode* root)\n",
    "    {\n",
    "        if(root == nullptr)\n",
    "        return;\n",
    "\n",
    "        inOrder(root->left);\n",
    "        st.push(root);\n",
    "        inOrder(root->right);\n",
    "    }\n",
    "\n",
    "    BSTIterator(TreeNode* root) {\n",
    "        inOrder(root);\n",
    "    }\n",
    "    \n",
    "    int next() {\n",
    "        TreeNode* t = st.front(); st.pop();\n",
    "        return t->val;\n",
    "    }\n",
    "    \n",
    "    bool hasNext() {\n",
    "        return !st.empty();\n",
    "    }\n",
    "};\n",
    "\n",
    "/**\n",
    " * Your BSTIterator object will be instantiated and called as such:\n",
    " * BSTIterator* obj = new BSTIterator(root);\n",
    " * int param_1 = obj->next();\n",
    " * bool param_2 = obj->hasNext();\n",
    " */"
   ]
  }
 ],
 "metadata": {
  "kernelspec": {
   "display_name": "C++17",
   "language": "C++17",
   "name": "xcpp17"
  },
  "language_info": {
   "codemirror_mode": "text/x-c++src",
   "file_extension": ".cpp",
   "mimetype": "text/x-c++src",
   "name": "c++",
   "version": "17"
  }
 },
 "nbformat": 4,
 "nbformat_minor": 5
}
