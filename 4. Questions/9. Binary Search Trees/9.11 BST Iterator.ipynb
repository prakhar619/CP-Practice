{
 "cells": [
  {
   "cell_type": "code",
   "execution_count": null,
   "id": "158f890a",
   "metadata": {
    "vscode": {
     "languageId": "plaintext"
    }
   },
   "outputs": [],
   "source": [
    "/**\n",
    " * Definition for a binary tree node.\n",
    " * struct TreeNode {\n",
    " *     int val;\n",
    " *     TreeNode *left;\n",
    " *     TreeNode *right;\n",
    " *     TreeNode() : val(0), left(nullptr), right(nullptr) {}\n",
    " *     TreeNode(int x) : val(x), left(nullptr), right(nullptr) {}\n",
    " *     TreeNode(int x, TreeNode *left, TreeNode *right) : val(x), left(left), right(right) {}\n",
    " * };\n",
    " */\n",
    "class BSTIterator {\n",
    "public:\n",
    "    queue<TreeNode*> st;\n",
    "\n",
    "    void inOrder(TreeNode* root)\n",
    "    {\n",
    "        if(root == nullptr)\n",
    "        return;\n",
    "\n",
    "        inOrder(root->left);\n",
    "        st.push(root);\n",
    "        inOrder(root->right);\n",
    "    }\n",
    "\n",
    "    BSTIterator(TreeNode* root) {\n",
    "        inOrder(root);\n",
    "    }\n",
    "    \n",
    "    int next() {\n",
    "        TreeNode* t = st.front(); st.pop();\n",
    "        return t->val;\n",
    "    }\n",
    "    \n",
    "    bool hasNext() {\n",
    "        return !st.empty();\n",
    "    }\n",
    "};\n",
    "\n",
    "/**\n",
    " * Your BSTIterator object will be instantiated and called as such:\n",
    " * BSTIterator* obj = new BSTIterator(root);\n",
    " * int param_1 = obj->next();\n",
    " * bool param_2 = obj->hasNext();\n",
    " */"
   ]
  },
  {
   "cell_type": "markdown",
   "id": "2adc84c3",
   "metadata": {},
   "source": [
    "https://leetcode.com/problems/binary-search-tree-iterator/description/"
   ]
  }
 ],
 "metadata": {
  "language_info": {
   "name": "python"
  }
 },
 "nbformat": 4,
 "nbformat_minor": 5
}
