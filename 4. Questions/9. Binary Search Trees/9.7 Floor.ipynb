{
 "cells": [
  {
   "cell_type": "code",
   "execution_count": null,
   "id": "0f6694fb",
   "metadata": {
    "vscode": {
     "languageId": "plaintext"
    }
   },
   "outputs": [],
   "source": [
    "// User function Template for C++\n",
    "\n",
    "// Function to return the floor of given number in BST.\n",
    "int floor(Node* root, int key) {\n",
    "    if(root == nullptr)\n",
    "    return -1;\n",
    "    \n",
    "    if(root->data == key)\n",
    "    {\n",
    "        return root->data;\n",
    "    }\n",
    "    else if(root->data < key)\n",
    "    {\n",
    "        int x = floor(root->right, key);\n",
    "        if(x == -1)\n",
    "        return root->data;\n",
    "        \n",
    "        return x;\n",
    "    }\n",
    "    else\n",
    "    {\n",
    "        int x = floor(root->left, key);\n",
    "        return x;\n",
    "    }\n",
    "    \n",
    "    \n",
    "    \n",
    "    // Your code goes here\n",
    "}\n"
   ]
  },
  {
   "cell_type": "markdown",
   "id": "aafad43d",
   "metadata": {},
   "source": [
    "https://www.geeksforgeeks.org/problems/implementing-floor-in-bst/0"
   ]
  }
 ],
 "metadata": {
  "language_info": {
   "name": "python"
  }
 },
 "nbformat": 4,
 "nbformat_minor": 5
}
