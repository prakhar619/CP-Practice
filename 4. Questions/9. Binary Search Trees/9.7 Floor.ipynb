{
 "cells": [
  {
   "cell_type": "markdown",
   "id": "e6d16f51",
   "metadata": {},
   "source": [
    "#### Chapter 9: Binary Search Tree"
   ]
  },
  {
   "cell_type": "code",
   "execution_count": 1,
   "id": "76772419",
   "metadata": {
    "vscode": {
     "languageId": "cpp"
    }
   },
   "outputs": [],
   "source": [
    "using namespace std;"
   ]
  },
  {
   "cell_type": "markdown",
   "id": "4e656282",
   "metadata": {},
   "source": [
    "### 7. Floor"
   ]
  },
  {
   "cell_type": "markdown",
   "id": "3aae6c32",
   "metadata": {},
   "source": [
    "> Given a Binary Search tree and a number, return floor of the number present in tree"
   ]
  },
  {
   "cell_type": "markdown",
   "id": "aafad43d",
   "metadata": {},
   "source": [
    "*Leetcode Link:* https://www.geeksforgeeks.org/problems/implementing-floor-in-bst/0"
   ]
  },
  {
   "cell_type": "markdown",
   "id": "74339611",
   "metadata": {},
   "source": [
    "**Best Possible Solution:**"
   ]
  },
  {
   "cell_type": "markdown",
   "id": "285cad62",
   "metadata": {},
   "source": [
    "### Method 1\n",
    "Time Complexity: O(log n)  \n",
    "Space Complexity: O(h)\n",
    "###### where n is count of vertex in BST and h is height of BST"
   ]
  },
  {
   "cell_type": "code",
   "execution_count": null,
   "id": "0f6694fb",
   "metadata": {
    "vscode": {
     "languageId": "cpp"
    }
   },
   "outputs": [
    {
     "name": "stderr",
     "output_type": "stream",
     "text": [
      "input_line_8:3:11: error: unknown type name 'Node'\n",
      "int floor(Node* root, int key) {\n",
      "          ^\n",
      "input_line_8:11:29: error: expected '>'\n",
      "    else if(root->data < key)\n",
      "                            ^\n"
     ]
    },
    {
     "ename": "Interpreter Error",
     "evalue": "",
     "output_type": "error",
     "traceback": [
      "Interpreter Error: "
     ]
    }
   ],
   "source": [
    "// User function Template for C++\n",
    "\n",
    "// Function to return the floor of given number in BST.\n",
    "int floor(Node* root, int key) {\n",
    "    if(root == nullptr)\n",
    "    return -1;\n",
    "    \n",
    "    if(root->data == key)\n",
    "    {\n",
    "        return root->data;\n",
    "    }\n",
    "    else if(root->data < key)\n",
    "    {\n",
    "        int x = floor(root->right, key);\n",
    "        \n",
    "        if(x == -1)\n",
    "        return root->data;\n",
    "        \n",
    "        return x;\n",
    "    }\n",
    "    else\n",
    "    {\n",
    "        int x = floor(root->left, key);\n",
    "        return x;\n",
    "    }\n",
    "    \n",
    "    \n",
    "    \n",
    "    // Your code goes here\n",
    "}\n"
   ]
  },
  {
   "cell_type": "code",
   "execution_count": null,
   "id": "5acbe2f1",
   "metadata": {
    "vscode": {
     "languageId": "cpp"
    }
   },
   "outputs": [],
   "source": []
  }
 ],
 "metadata": {
  "kernelspec": {
   "display_name": "C++17",
   "language": "C++17",
   "name": "xcpp17"
  },
  "language_info": {
   "codemirror_mode": "text/x-c++src",
   "file_extension": ".cpp",
   "mimetype": "text/x-c++src",
   "name": "c++",
   "version": "17"
  }
 },
 "nbformat": 4,
 "nbformat_minor": 5
}
