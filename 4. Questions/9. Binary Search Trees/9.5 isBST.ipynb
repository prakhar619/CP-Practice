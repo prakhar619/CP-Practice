{
 "cells": [
  {
   "cell_type": "markdown",
   "id": "b6c00c09",
   "metadata": {},
   "source": [
    "#### Chapter 9: Binary Search Tree"
   ]
  },
  {
   "cell_type": "code",
   "execution_count": 1,
   "id": "3a2fa6bf",
   "metadata": {
    "vscode": {
     "languageId": "cpp"
    }
   },
   "outputs": [],
   "source": [
    "#include <vector>\n",
    "using namespace std;"
   ]
  },
  {
   "cell_type": "markdown",
   "id": "a881d179",
   "metadata": {},
   "source": [
    "### 5. isBST"
   ]
  },
  {
   "cell_type": "markdown",
   "id": "2207fe7e",
   "metadata": {},
   "source": [
    "> Check whether given Binary Tree is a Binary Search Tree"
   ]
  },
  {
   "cell_type": "markdown",
   "id": "26456df5",
   "metadata": {},
   "source": [
    "*Leetcode Link:* https://leetcode.com/problems/validate-binary-search-tree/"
   ]
  },
  {
   "cell_type": "markdown",
   "id": "d8dfb65a",
   "metadata": {},
   "source": [
    "**Best Possible Solution**:"
   ]
  },
  {
   "cell_type": "markdown",
   "id": "ed9231fb",
   "metadata": {},
   "source": [
    "### Method 1\n",
    "Time Complexity: O(n)  \n",
    "Space Complexity: O(n)\n",
    "###### where n in count of vertex in BST"
   ]
  },
  {
   "cell_type": "code",
   "execution_count": 2,
   "id": "d5eab22d",
   "metadata": {
    "vscode": {
     "languageId": "cpp"
    }
   },
   "outputs": [],
   "source": [
    " struct TreeNode {\n",
    "      int val;\n",
    "      TreeNode *left;\n",
    "      TreeNode *right;\n",
    "     TreeNode() : val(0), left(nullptr), right(nullptr) {}\n",
    "    TreeNode(int x) : val(x), left(nullptr), right(nullptr) {}\n",
    "     TreeNode(int x, TreeNode *left, TreeNode *right) : val(x), left(left), right(right) {}\n",
    "};\n",
    "\n",
    "class Solution {\n",
    "public:\n",
    "    bool isValidBST(TreeNode* root, long long minn = numeric_limits<long long>::min(), long long maxx = numeric_limits<long long>::max()) {\n",
    "\n",
    "        //why introduced minn and maxx\n",
    "        if(root == nullptr)\n",
    "        return true;\n",
    "\n",
    "        if(root->val >= maxx || root->val <= minn)\n",
    "        return false;\n",
    "\n",
    "        if(root->left && root->left->val >= root->val)\n",
    "        return false;\n",
    "\n",
    "        if(root->right && root->right->val <= root->val)\n",
    "        return false;\n",
    "\n",
    "        return isValidBST(root->left, minn, root->val) && isValidBST(root->right, root->val, maxx);\n",
    "    }\n",
    "};"
   ]
  },
  {
   "cell_type": "code",
   "execution_count": null,
   "id": "60fb7355",
   "metadata": {
    "vscode": {
     "languageId": "cpp"
    }
   },
   "outputs": [],
   "source": []
  }
 ],
 "metadata": {
  "kernelspec": {
   "display_name": "C++17",
   "language": "C++17",
   "name": "xcpp17"
  },
  "language_info": {
   "codemirror_mode": "text/x-c++src",
   "file_extension": ".cpp",
   "mimetype": "text/x-c++src",
   "name": "c++",
   "version": "17"
  }
 },
 "nbformat": 4,
 "nbformat_minor": 5
}
