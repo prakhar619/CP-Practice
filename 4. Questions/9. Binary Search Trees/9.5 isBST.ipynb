{
 "cells": [
  {
   "cell_type": "code",
   "execution_count": null,
   "id": "d5eab22d",
   "metadata": {
    "vscode": {
     "languageId": "plaintext"
    }
   },
   "outputs": [],
   "source": [
    "/**\n",
    " * Definition for a binary tree node.\n",
    " * struct TreeNode {\n",
    " *     int val;\n",
    " *     TreeNode *left;\n",
    " *     TreeNode *right;\n",
    " *     TreeNode() : val(0), left(nullptr), right(nullptr) {}\n",
    " *     TreeNode(int x) : val(x), left(nullptr), right(nullptr) {}\n",
    " *     TreeNode(int x, TreeNode *left, TreeNode *right) : val(x), left(left), right(right) {}\n",
    " * };\n",
    " */\n",
    "class Solution {\n",
    "public:\n",
    "    bool isValidBST(TreeNode* root, long long minn = numeric_limits<long long>::min(), long long maxx = numeric_limits<long long>::max()) {\n",
    "\n",
    "        //why introduced minn and maxx\n",
    "        if(root == nullptr)\n",
    "        return true;\n",
    "\n",
    "        if(root->val >= maxx || root->val <= minn)\n",
    "        return false;\n",
    "\n",
    "        if(root->left && root->left->val >= root->val)\n",
    "        return false;\n",
    "\n",
    "        if(root->right && root->right->val <= root->val)\n",
    "        return false;\n",
    "\n",
    "        return isValidBST(root->left, minn, root->val) && isValidBST(root->right, root->val, maxx);\n",
    "    }\n",
    "};"
   ]
  },
  {
   "cell_type": "markdown",
   "id": "26456df5",
   "metadata": {},
   "source": [
    "https://leetcode.com/problems/validate-binary-search-tree/description/"
   ]
  }
 ],
 "metadata": {
  "language_info": {
   "name": "python"
  }
 },
 "nbformat": 4,
 "nbformat_minor": 5
}
