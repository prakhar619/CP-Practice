{
 "cells": [
  {
   "cell_type": "code",
   "execution_count": null,
   "id": "b91d32fe",
   "metadata": {
    "vscode": {
     "languageId": "plaintext"
    }
   },
   "outputs": [],
   "source": [
    "/* struct Node {\n",
    "    int data;\n",
    "    struct Node* left;\n",
    "    struct Node* right;\n",
    "};  */\n",
    "\n",
    "int findCeil(Node* root, int input) {\n",
    "    // Your code here\n",
    "    if(root == nullptr)\n",
    "    return -1;\n",
    "    \n",
    "    if(root->data == input)\n",
    "    {\n",
    "        return root->data;\n",
    "    }\n",
    "    else if(root->data < input)\n",
    "    {\n",
    "        int x = findCeil(root->right, input);\n",
    "        return x;\n",
    "    }\n",
    "    else\n",
    "    {\n",
    "        int x = findCeil(root->left, input);\n",
    "        \n",
    "        if(x == -1)\n",
    "        return root->data;\n",
    "        \n",
    "        return x;\n",
    "    }\n",
    "}"
   ]
  },
  {
   "cell_type": "markdown",
   "id": "f541f579",
   "metadata": {},
   "source": [
    "https://www.geeksforgeeks.org/problems/implementing-ceil-in-bst/1"
   ]
  }
 ],
 "metadata": {
  "language_info": {
   "name": "python"
  }
 },
 "nbformat": 4,
 "nbformat_minor": 5
}
