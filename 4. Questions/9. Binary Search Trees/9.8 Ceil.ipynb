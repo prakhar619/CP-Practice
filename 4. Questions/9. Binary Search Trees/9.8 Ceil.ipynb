{
 "cells": [
  {
   "cell_type": "markdown",
   "id": "d9bea2e1",
   "metadata": {},
   "source": [
    "#### Chapter 9: Binary Search Tree"
   ]
  },
  {
   "cell_type": "code",
   "execution_count": 3,
   "id": "5100341e",
   "metadata": {
    "vscode": {
     "languageId": "cpp"
    }
   },
   "outputs": [],
   "source": [
    "using namespace std;"
   ]
  },
  {
   "cell_type": "markdown",
   "id": "ee6108e2",
   "metadata": {},
   "source": [
    "### 8. Ceil"
   ]
  },
  {
   "cell_type": "markdown",
   "id": "14ba096a",
   "metadata": {},
   "source": [
    "> Given a BST and a number, find the ceil of the number present in BST"
   ]
  },
  {
   "cell_type": "markdown",
   "id": "c8bd45ad",
   "metadata": {},
   "source": [
    "*Leetcode Link:* https://www.geeksforgeeks.org/problems/implementing-ceil-in-bst/1"
   ]
  },
  {
   "cell_type": "markdown",
   "id": "59f29b2f",
   "metadata": {},
   "source": [
    "**Best Possible Solution:**"
   ]
  },
  {
   "cell_type": "markdown",
   "id": "f541f579",
   "metadata": {},
   "source": [
    "### Method 1\n",
    "Time Complexity: O(log n)  \n",
    "Space Complexity: O(h)\n",
    "###### where n is count of nodes in BST and h is height of bst"
   ]
  },
  {
   "cell_type": "code",
   "execution_count": null,
   "id": "b91d32fe",
   "metadata": {
    "vscode": {
     "languageId": "cpp"
    }
   },
   "outputs": [
    {
     "name": "stderr",
     "output_type": "stream",
     "text": [
      "input_line_10:7:38: error: function definition is not allowed here\n",
      " int findCeil(Node* root, int input) {\n",
      "                                     ^\n"
     ]
    },
    {
     "ename": "Interpreter Error",
     "evalue": "",
     "output_type": "error",
     "traceback": [
      "Interpreter Error: "
     ]
    }
   ],
   "source": [
    "struct Node {\n",
    "    int data;\n",
    "    struct Node* left;\n",
    "    struct Node* right;\n",
    "};  \n",
    "\n",
    "int findCeil(Node* root, int input) {\n",
    "    // Your code here\n",
    "    if(root == nullptr)\n",
    "    return -1;\n",
    "    \n",
    "    if(root->data == input)\n",
    "    {\n",
    "        return root->data;\n",
    "    }\n",
    "    else if(root->data < input)\n",
    "    {\n",
    "        int x = findCeil(root->right, input);\n",
    "        return x;\n",
    "    }\n",
    "    else\n",
    "    {\n",
    "        int x = findCeil(root->left, input);\n",
    "        \n",
    "        if(x == -1)\n",
    "        return root->data;\n",
    "        \n",
    "        return x;\n",
    "    }\n",
    "}"
   ]
  }
 ],
 "metadata": {
  "kernelspec": {
   "display_name": "C++17",
   "language": "C++17",
   "name": "xcpp17"
  },
  "language_info": {
   "codemirror_mode": "text/x-c++src",
   "file_extension": ".cpp",
   "mimetype": "text/x-c++src",
   "name": "c++",
   "version": "17"
  }
 },
 "nbformat": 4,
 "nbformat_minor": 5
}
