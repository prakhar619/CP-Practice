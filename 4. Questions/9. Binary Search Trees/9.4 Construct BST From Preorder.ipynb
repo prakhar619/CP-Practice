{
 "cells": [
  {
   "cell_type": "code",
   "execution_count": null,
   "id": "196beb82",
   "metadata": {
    "vscode": {
     "languageId": "plaintext"
    }
   },
   "outputs": [],
   "source": [
    "/**\n",
    " * Definition for a binary tree node.\n",
    " * struct TreeNode {\n",
    " *     int val;\n",
    " *     TreeNode *left;\n",
    " *     TreeNode *right;\n",
    " *     TreeNode() : val(0), left(nullptr), right(nullptr) {}\n",
    " *     TreeNode(int x) : val(x), left(nullptr), right(nullptr) {}\n",
    " *     TreeNode(int x, TreeNode *left, TreeNode *right) : val(x), left(left), right(right) {}\n",
    " * };\n",
    " */\n",
    "class Solution {\n",
    "public:\n",
    "    TreeNode* bstFromPreorder(vector<int>& preorder) {\n",
    "        if(preorder.size() == 0)\n",
    "        return nullptr;\n",
    "\n",
    "        TreeNode* root = new TreeNode(preorder[0]);\n",
    "        int leftIndex = 0;\n",
    "        for(; leftIndex < preorder.size(); leftIndex++)\n",
    "        {\n",
    "            if(preorder[leftIndex] > root->val)\n",
    "            break;\n",
    "        }\n",
    "\n",
    "        vector<int> left(preorder.begin()+1, preorder.begin()+leftIndex);\n",
    "        vector<int> right(preorder.begin()+leftIndex, preorder.end());\n",
    "\n",
    "        root->left = bstFromPreorder(left);\n",
    "        root->right = bstFromPreorder(right);\n",
    "        return root;\n",
    "\n",
    "    }\n",
    "};"
   ]
  },
  {
   "cell_type": "markdown",
   "id": "6867a4e2",
   "metadata": {},
   "source": [
    "https://leetcode.com/problems/construct-binary-search-tree-from-preorder-traversal/"
   ]
  }
 ],
 "metadata": {
  "language_info": {
   "name": "python"
  }
 },
 "nbformat": 4,
 "nbformat_minor": 5
}
