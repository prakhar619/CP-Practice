{
 "cells": [
  {
   "cell_type": "markdown",
   "id": "9439c472",
   "metadata": {},
   "source": [
    "#### Chapter 9: Binary Search Trees"
   ]
  },
  {
   "cell_type": "code",
   "execution_count": 1,
   "id": "64e93951",
   "metadata": {
    "vscode": {
     "languageId": "cpp"
    }
   },
   "outputs": [],
   "source": [
    "#include <vector>\n",
    "using namespace std;"
   ]
  },
  {
   "cell_type": "markdown",
   "id": "5051d96b",
   "metadata": {},
   "source": [
    "### 4. Construct Binary Search Tree From Preorder Traversal"
   ]
  },
  {
   "cell_type": "markdown",
   "id": "c713fb8a",
   "metadata": {},
   "source": [
    "> Construct a Binary Search Tree using Preorder Traversal ordering"
   ]
  },
  {
   "cell_type": "markdown",
   "id": "6867a4e2",
   "metadata": {},
   "source": [
    "*Leetcode Link:* https://leetcode.com/problems/construct-binary-search-tree-from-preorder-traversal/"
   ]
  },
  {
   "cell_type": "markdown",
   "id": "43591e60",
   "metadata": {},
   "source": [
    "**Best Possible Solution:**"
   ]
  },
  {
   "cell_type": "markdown",
   "id": "4a1e9404",
   "metadata": {},
   "source": [
    "### Method 1\n",
    "Time Complexity: O(n^2)  \n",
    "Space Complexity: O(n^2)\n",
    "###### where n is size of input array"
   ]
  },
  {
   "cell_type": "code",
   "execution_count": 3,
   "id": "196beb82",
   "metadata": {
    "vscode": {
     "languageId": "cpp"
    }
   },
   "outputs": [],
   "source": [
    " struct TreeNode {\n",
    "     int val;\n",
    "     TreeNode *left;\n",
    "     TreeNode *right;\n",
    "     TreeNode() : val(0), left(nullptr), right(nullptr) {}\n",
    "     TreeNode(int x) : val(x), left(nullptr), right(nullptr) {}\n",
    "     TreeNode(int x, TreeNode *left, TreeNode *right) : val(x), left(left), right(right) {}\n",
    " };\n",
    " \n",
    "class Solution {\n",
    "public:\n",
    "    TreeNode* bstFromPreorder(vector<int>& preorder) {\n",
    "        if(preorder.size() == 0)\n",
    "        return nullptr;\n",
    "\n",
    "        TreeNode* root = new TreeNode(preorder[0]);\n",
    "        int leftIndex = 0;\n",
    "\n",
    "        //Getting all values less than root to left tree (therefore only preorder required for BST not both of inorder and preorder)\n",
    "        for(; leftIndex < preorder.size(); leftIndex++)\n",
    "        {\n",
    "            if(preorder[leftIndex] > root->val)\n",
    "            break;\n",
    "        }\n",
    "\n",
    "        vector<int> left(preorder.begin()+1, preorder.begin()+leftIndex);\n",
    "        vector<int> right(preorder.begin()+leftIndex, preorder.end());\n",
    "\n",
    "        root->left = bstFromPreorder(left);\n",
    "        root->right = bstFromPreorder(right);\n",
    "        return root;\n",
    "\n",
    "    }\n",
    "};"
   ]
  },
  {
   "cell_type": "markdown",
   "id": "195d8112",
   "metadata": {},
   "source": [
    "### Method 2\n",
    "Time Complexity: O(n)  \n",
    "Space Complexity: O(n)\n",
    "###### where n is size of input array"
   ]
  },
  {
   "cell_type": "code",
   "execution_count": null,
   "id": "d0c79f38",
   "metadata": {
    "vscode": {
     "languageId": "cpp"
    }
   },
   "outputs": [],
   "source": []
  }
 ],
 "metadata": {
  "kernelspec": {
   "display_name": "C++17",
   "language": "C++17",
   "name": "xcpp17"
  },
  "language_info": {
   "codemirror_mode": "text/x-c++src",
   "file_extension": ".cpp",
   "mimetype": "text/x-c++src",
   "name": "c++",
   "version": "17"
  }
 },
 "nbformat": 4,
 "nbformat_minor": 5
}
