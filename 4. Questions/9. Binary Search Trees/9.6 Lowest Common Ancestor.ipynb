{
 "cells": [
  {
   "cell_type": "code",
   "execution_count": null,
   "id": "7e7aa745",
   "metadata": {
    "vscode": {
     "languageId": "plaintext"
    }
   },
   "outputs": [],
   "source": [
    "/**\n",
    " * Definition for a binary tree node.\n",
    " * struct TreeNode {\n",
    " *     int val;\n",
    " *     TreeNode *left;\n",
    " *     TreeNode *right;\n",
    " *     TreeNode(int x) : val(x), left(NULL), right(NULL) {}\n",
    " * };\n",
    " */\n",
    "\n",
    "class Solution {\n",
    "public:\n",
    "    TreeNode* lowestCommonAncestor(TreeNode* root, TreeNode* p, TreeNode* q) {\n",
    "        if(root == nullptr)\n",
    "        return nullptr;\n",
    "\n",
    "        if(root == p || root == q)\n",
    "        return root;\n",
    "\n",
    "        TreeNode* left = lowestCommonAncestor(root->left,p,q);\n",
    "        TreeNode* right = lowestCommonAncestor(root->right,p,q) ;\n",
    "\n",
    "        if(left == p && right == q)\n",
    "        return root;\n",
    "\n",
    "        if(left == q && right == p)\n",
    "        return root;\n",
    "\n",
    "        return (left != nullptr)?left:right;\n",
    "\n",
    "    }\n",
    "};"
   ]
  },
  {
   "cell_type": "markdown",
   "id": "debfe793",
   "metadata": {},
   "source": [
    "https://leetcode.com/problems/lowest-common-ancestor-of-a-binary-search-tree/"
   ]
  },
  {
   "cell_type": "code",
   "execution_count": null,
   "id": "a2f6adc6",
   "metadata": {
    "vscode": {
     "languageId": "plaintext"
    }
   },
   "outputs": [],
   "source": [
    "/**\n",
    " * Definition for a binary tree node.\n",
    " * struct TreeNode {\n",
    " *     int val;\n",
    " *     TreeNode *left;\n",
    " *     TreeNode *right;\n",
    " *     TreeNode(int x) : val(x), left(NULL), right(NULL) {}\n",
    " * };\n",
    " */\n",
    "\n",
    "class Solution {\n",
    "public:\n",
    "    TreeNode* lowestCommonAncestor(TreeNode* root, TreeNode* p, TreeNode* q) {\n",
    "        if(root == nullptr)\n",
    "        return nullptr;\n",
    "\n",
    "        if(p->val > q->val)\n",
    "        {\n",
    "            TreeNode* temp = p;\n",
    "            p = q;\n",
    "            q = temp;\n",
    "        }\n",
    "\n",
    "       if(q->val < root->val)\n",
    "       return lowestCommonAncestor(root->left, p,q);\n",
    "       else if(p->val > root->val)\n",
    "       return lowestCommonAncestor(root->right, p,q);\n",
    "       else \n",
    "       //if(p->val < root->val && q->val > root->val)           :This condition cannot be written explicitly why?\n",
    "       return root;\n",
    "\n",
    "        \n",
    "\n",
    "    }\n",
    "};"
   ]
  }
 ],
 "metadata": {
  "language_info": {
   "name": "python"
  }
 },
 "nbformat": 4,
 "nbformat_minor": 5
}
