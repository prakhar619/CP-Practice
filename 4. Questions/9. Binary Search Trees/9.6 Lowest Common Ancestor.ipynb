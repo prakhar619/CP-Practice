{
 "cells": [
  {
   "cell_type": "markdown",
   "id": "669e91f8",
   "metadata": {},
   "source": [
    "#### Chapter 9: Binary Search Tree"
   ]
  },
  {
   "cell_type": "code",
   "execution_count": 1,
   "id": "f22c22ed",
   "metadata": {
    "vscode": {
     "languageId": "cpp"
    }
   },
   "outputs": [],
   "source": [
    "using namespace std;"
   ]
  },
  {
   "cell_type": "markdown",
   "id": "ad4852b7",
   "metadata": {},
   "source": [
    "### 6. Lowest Common Ancestor"
   ]
  },
  {
   "cell_type": "markdown",
   "id": "8a1a66e6",
   "metadata": {},
   "source": [
    "> Given a Binary Search Tree and 2 node values find the lowest common ancestor for both."
   ]
  },
  {
   "cell_type": "markdown",
   "id": "debfe793",
   "metadata": {},
   "source": [
    "*Leetcode Link:* https://leetcode.com/problems/lowest-common-ancestor-of-a-binary-search-tree/"
   ]
  },
  {
   "cell_type": "markdown",
   "id": "3740fc5d",
   "metadata": {},
   "source": [
    "**Best Possible Solution:**"
   ]
  },
  {
   "cell_type": "markdown",
   "id": "354d9910",
   "metadata": {},
   "source": [
    "### Method 1\n",
    "Time Complexity: O(n)  \n",
    "Space Complexity: O(n)\n",
    "###### where n is the count of nodes in tree"
   ]
  },
  {
   "cell_type": "code",
   "execution_count": 2,
   "id": "7e7aa745",
   "metadata": {
    "vscode": {
     "languageId": "cpp"
    }
   },
   "outputs": [],
   "source": [
    " struct TreeNode {\n",
    "     int val;\n",
    "      TreeNode *left;\n",
    "      TreeNode *right;\n",
    "      TreeNode(int x) : val(x), left(NULL), right(NULL) {}\n",
    "  };\n",
    "\n",
    "\n",
    "class Solution {\n",
    "public:\n",
    "    TreeNode* lowestCommonAncestor(TreeNode* root, TreeNode* p, TreeNode* q) {\n",
    "        if(root == nullptr)\n",
    "        return nullptr;\n",
    "\n",
    "        if(root == p || root == q)\n",
    "        return root;\n",
    "\n",
    "        TreeNode* left = lowestCommonAncestor(root->left,p,q);\n",
    "        TreeNode* right = lowestCommonAncestor(root->right,p,q) ;\n",
    "\n",
    "        if(left == p && right == q)\n",
    "        return root;\n",
    "\n",
    "        if(left == q && right == p)\n",
    "        return root;\n",
    "\n",
    "        return (left != nullptr)?left:right;\n",
    "\n",
    "    }\n",
    "};"
   ]
  },
  {
   "cell_type": "markdown",
   "id": "7390aca1",
   "metadata": {},
   "source": [
    "### Method 1\n",
    "Time Complexity: O(n)  \n",
    "Space Complexity: O(n)\n",
    "###### where n is the count of nodes in graph"
   ]
  },
  {
   "cell_type": "code",
   "execution_count": 3,
   "id": "a2f6adc6",
   "metadata": {
    "vscode": {
     "languageId": "cpp"
    }
   },
   "outputs": [],
   "source": [
    "struct TreeNode {\n",
    "     int val;\n",
    "    TreeNode *left;\n",
    "      TreeNode *right;\n",
    "      TreeNode(int x) : val(x), left(NULL), right(NULL) {}\n",
    "  };\n",
    "\n",
    "class Solution {\n",
    "public:\n",
    "    TreeNode* lowestCommonAncestor(TreeNode* root, TreeNode* p, TreeNode* q) {\n",
    "        if(root == nullptr)\n",
    "        return nullptr;\n",
    "\n",
    "        if(p->val > q->val)\n",
    "        {\n",
    "            TreeNode* temp = p;\n",
    "            p = q;\n",
    "            q = temp;\n",
    "        }\n",
    "\n",
    "       if(q->val < root->val)\n",
    "       return lowestCommonAncestor(root->left, p,q);\n",
    "       else if(p->val > root->val)\n",
    "       return lowestCommonAncestor(root->right, p,q);\n",
    "       else \n",
    "       //if(p->val < root->val && q->val > root->val)           :This condition cannot be written explicitly why?\n",
    "       return root;\n",
    "\n",
    "        \n",
    "\n",
    "    }\n",
    "};"
   ]
  }
 ],
 "metadata": {
  "kernelspec": {
   "display_name": "C++17",
   "language": "C++17",
   "name": "xcpp17"
  },
  "language_info": {
   "codemirror_mode": "text/x-c++src",
   "file_extension": ".cpp",
   "mimetype": "text/x-c++src",
   "name": "c++",
   "version": "17"
  }
 },
 "nbformat": 4,
 "nbformat_minor": 5
}
