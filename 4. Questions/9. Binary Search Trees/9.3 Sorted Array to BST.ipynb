{
 "cells": [
  {
   "cell_type": "markdown",
   "id": "a660141e",
   "metadata": {},
   "source": [
    "#### Chapter 9: Binary Search Tree"
   ]
  },
  {
   "cell_type": "code",
   "execution_count": 1,
   "id": "5ed73f6c",
   "metadata": {
    "vscode": {
     "languageId": "cpp"
    }
   },
   "outputs": [],
   "source": [
    "#include <vector>\n",
    "using namespace std;"
   ]
  },
  {
   "cell_type": "markdown",
   "id": "a4e72144",
   "metadata": {},
   "source": [
    "### 3. Sorted Array to Binary Search Tree"
   ]
  },
  {
   "cell_type": "markdown",
   "id": "bd28d57a",
   "metadata": {},
   "source": [
    "> Given a sorted array, transform it into a BST"
   ]
  },
  {
   "cell_type": "markdown",
   "id": "0c365889",
   "metadata": {},
   "source": [
    "*Leetcode Link:* https://leetcode.com/problems/convert-sorted-array-to-binary-search-tree/"
   ]
  },
  {
   "cell_type": "markdown",
   "id": "402bc235",
   "metadata": {},
   "source": [
    "**Best Possible Solution:**"
   ]
  },
  {
   "cell_type": "markdown",
   "id": "ee585df5",
   "metadata": {},
   "source": [
    "### Method 1\n",
    "Time Complexity: O(n)  \n",
    "Space Complexity: O(V)\n",
    "###### where V is same as input array size"
   ]
  },
  {
   "cell_type": "code",
   "execution_count": 2,
   "id": "30e2916f",
   "metadata": {
    "vscode": {
     "languageId": "cpp"
    }
   },
   "outputs": [],
   "source": [
    "\n",
    " struct TreeNode {\n",
    "     int val;\n",
    "     TreeNode *left;\n",
    "     TreeNode *right;\n",
    "     TreeNode() : val(0), left(nullptr), right(nullptr) {}\n",
    "     TreeNode(int x) : val(x), left(nullptr), right(nullptr) {}\n",
    "    TreeNode(int x, TreeNode *left, TreeNode *right) : val(x), left(left), right(right) {}\n",
    "};\n",
    "\n",
    "class Solution {\n",
    "public:\n",
    "    TreeNode* sortedArrayToBST(vector<int>& nums) {\n",
    "        //assumed array is sorted\n",
    "        if(nums.size() == 0)\n",
    "        return nullptr;\n",
    "\n",
    "        int mid = nums.size()/2;\n",
    "\n",
    "        TreeNode* root = new TreeNode(nums[mid]);\n",
    "\n",
    "        vector<int> left(nums.begin(), nums.begin()+mid);\n",
    "        vector<int> right(nums.begin()+mid+1, nums.end());\n",
    "\n",
    "        root->left = sortedArrayToBST(left);\n",
    "        root->right = sortedArrayToBST(right);\n",
    "        return root;\n",
    "\n",
    "    }\n",
    "};"
   ]
  }
 ],
 "metadata": {
  "kernelspec": {
   "display_name": "C++17",
   "language": "C++17",
   "name": "xcpp17"
  },
  "language_info": {
   "codemirror_mode": "text/x-c++src",
   "file_extension": ".cpp",
   "mimetype": "text/x-c++src",
   "name": "c++",
   "version": "17"
  }
 },
 "nbformat": 4,
 "nbformat_minor": 5
}
