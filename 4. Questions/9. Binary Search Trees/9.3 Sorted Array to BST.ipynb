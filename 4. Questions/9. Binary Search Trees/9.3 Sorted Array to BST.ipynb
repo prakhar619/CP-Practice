{
 "cells": [
  {
   "cell_type": "code",
   "execution_count": null,
   "id": "30e2916f",
   "metadata": {
    "vscode": {
     "languageId": "plaintext"
    }
   },
   "outputs": [],
   "source": [
    "/**\n",
    " * Definition for a binary tree node.\n",
    " * struct TreeNode {\n",
    " *     int val;\n",
    " *     TreeNode *left;\n",
    " *     TreeNode *right;\n",
    " *     TreeNode() : val(0), left(nullptr), right(nullptr) {}\n",
    " *     TreeNode(int x) : val(x), left(nullptr), right(nullptr) {}\n",
    " *     TreeNode(int x, TreeNode *left, TreeNode *right) : val(x), left(left), right(right) {}\n",
    " * };\n",
    " */\n",
    "class Solution {\n",
    "public:\n",
    "    TreeNode* sortedArrayToBST(vector<int>& nums) {\n",
    "        //assumed array is sorted\n",
    "        if(nums.size() == 0)\n",
    "        return nullptr;\n",
    "\n",
    "        int mid = nums.size()/2;\n",
    "\n",
    "        TreeNode* root = new TreeNode(nums[mid]);\n",
    "\n",
    "        vector<int> left(nums.begin(), nums.begin()+mid);\n",
    "        vector<int> right(nums.begin()+mid+1, nums.end());\n",
    "\n",
    "        root->left = sortedArrayToBST(left);\n",
    "        root->right = sortedArrayToBST(right);\n",
    "        return root;\n",
    "\n",
    "    }\n",
    "};"
   ]
  },
  {
   "cell_type": "markdown",
   "id": "0c365889",
   "metadata": {},
   "source": [
    "https://leetcode.com/problems/convert-sorted-array-to-binary-search-tree/"
   ]
  }
 ],
 "metadata": {
  "language_info": {
   "name": "python"
  }
 },
 "nbformat": 4,
 "nbformat_minor": 5
}
