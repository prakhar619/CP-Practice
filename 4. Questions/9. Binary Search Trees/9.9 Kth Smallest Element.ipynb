{
 "cells": [
  {
   "cell_type": "code",
   "execution_count": null,
   "id": "77b43cfb",
   "metadata": {
    "vscode": {
     "languageId": "plaintext"
    }
   },
   "outputs": [],
   "source": [
    "/**\n",
    " * Definition for a binary tree node.\n",
    " * struct TreeNode {\n",
    " *     int val;\n",
    " *     TreeNode *left;\n",
    " *     TreeNode *right;\n",
    " *     TreeNode() : val(0), left(nullptr), right(nullptr) {}\n",
    " *     TreeNode(int x) : val(x), left(nullptr), right(nullptr) {}\n",
    " *     TreeNode(int x, TreeNode *left, TreeNode *right) : val(x), left(left), right(right) {}\n",
    " * };\n",
    " */\n",
    "class Solution {\n",
    "public:\n",
    "    int helper(TreeNode* root, int k, int&cnt)\n",
    "    {\n",
    "        if(root == nullptr)\n",
    "        return -1;\n",
    "\n",
    "        int left = helper(root->left,k,cnt);\n",
    "        cnt++;\n",
    "        if(cnt == k)\n",
    "        return root->val;\n",
    "        int right = helper(root->right,k,cnt);\n",
    "\n",
    "        return max(left, right);\n",
    "    }\n",
    "    int kthSmallest(TreeNode* root, int k) {\n",
    "        \n",
    "        if(root == nullptr)\n",
    "        return -1;\n",
    "        int cnt = 0;\n",
    "        return helper(root,k,cnt);\n",
    "\n",
    "    }\n",
    "};"
   ]
  },
  {
   "cell_type": "markdown",
   "id": "57eb096c",
   "metadata": {},
   "source": [
    "https://leetcode.com/problems/kth-smallest-element-in-a-bst/description/"
   ]
  }
 ],
 "metadata": {
  "language_info": {
   "name": "python"
  }
 },
 "nbformat": 4,
 "nbformat_minor": 5
}
