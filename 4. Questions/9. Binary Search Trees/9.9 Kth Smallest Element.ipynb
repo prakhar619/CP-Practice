{
 "cells": [
  {
   "cell_type": "markdown",
   "id": "f89d4d67",
   "metadata": {},
   "source": [
    "#### Chapter 9: Binary Search Tree"
   ]
  },
  {
   "cell_type": "code",
   "execution_count": 1,
   "id": "ac825109",
   "metadata": {
    "vscode": {
     "languageId": "cpp"
    }
   },
   "outputs": [],
   "source": [
    "using namespace std;"
   ]
  },
  {
   "cell_type": "markdown",
   "id": "138200e1",
   "metadata": {},
   "source": [
    "### 9. Kth Smallest Element"
   ]
  },
  {
   "cell_type": "markdown",
   "id": "a08fff51",
   "metadata": {},
   "source": [
    "> Find the Kth smallest element in Binary Search Tree"
   ]
  },
  {
   "cell_type": "markdown",
   "id": "57eb096c",
   "metadata": {},
   "source": [
    "*Leetcode Link:* https://leetcode.com/problems/kth-smallest-element-in-a-bst/"
   ]
  },
  {
   "cell_type": "markdown",
   "id": "22b3234c",
   "metadata": {},
   "source": [
    "**Best Possible Solution:**"
   ]
  },
  {
   "cell_type": "markdown",
   "id": "642f7268",
   "metadata": {},
   "source": [
    "### Method 1:\n",
    "Time Complexity: O(k)  \n",
    "Space Complexity: O(h)\n",
    "###### where k is input number and h is height of binary search tree"
   ]
  },
  {
   "cell_type": "code",
   "execution_count": 2,
   "id": "77b43cfb",
   "metadata": {
    "vscode": {
     "languageId": "cpp"
    }
   },
   "outputs": [],
   "source": [
    "struct TreeNode {\n",
    "      int val;\n",
    "      TreeNode *left;\n",
    "      TreeNode *right;\n",
    "      TreeNode() : val(0), left(nullptr), right(nullptr) {}\n",
    "      TreeNode(int x) : val(x), left(nullptr), right(nullptr) {}\n",
    "      TreeNode(int x, TreeNode *left, TreeNode *right) : val(x), left(left), right(right) {}\n",
    "};\n",
    "\n",
    "class Solution {\n",
    "public:\n",
    "    int helper(TreeNode* root, int k, int&cnt)\n",
    "    {\n",
    "        if(root == nullptr)\n",
    "        return -1;\n",
    "\n",
    "        int left = helper(root->left,k,cnt);\n",
    "        cnt++;\n",
    "        if(cnt == k)\n",
    "        return root->val;\n",
    "        int right = helper(root->right,k,cnt);\n",
    "\n",
    "        return max(left, right);\n",
    "    }\n",
    "    int kthSmallest(TreeNode* root, int k) {\n",
    "        \n",
    "        if(root == nullptr)\n",
    "        return -1;\n",
    "        int cnt = 0;\n",
    "        return helper(root,k,cnt);\n",
    "\n",
    "    }\n",
    "};"
   ]
  },
  {
   "cell_type": "code",
   "execution_count": null,
   "id": "d35200a0",
   "metadata": {
    "vscode": {
     "languageId": "cpp"
    }
   },
   "outputs": [],
   "source": []
  }
 ],
 "metadata": {
  "kernelspec": {
   "display_name": "C++17",
   "language": "C++17",
   "name": "xcpp17"
  },
  "language_info": {
   "codemirror_mode": "text/x-c++src",
   "file_extension": ".cpp",
   "mimetype": "text/x-c++src",
   "name": "c++",
   "version": "17"
  }
 },
 "nbformat": 4,
 "nbformat_minor": 5
}
