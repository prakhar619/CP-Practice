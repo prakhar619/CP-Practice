{
 "cells": [
  {
   "cell_type": "markdown",
   "id": "1ed255aa",
   "metadata": {},
   "source": [
    "#### Chapter 9: Binary Search Trees"
   ]
  },
  {
   "cell_type": "code",
   "execution_count": 1,
   "id": "d83534c2",
   "metadata": {
    "vscode": {
     "languageId": "cpp"
    }
   },
   "outputs": [],
   "source": [
    "#include <vector>\n",
    "#include <queue>\n",
    "using namespace std;"
   ]
  },
  {
   "cell_type": "markdown",
   "id": "6dcf472e",
   "metadata": {},
   "source": [
    "### 1. Populating Next Right Pointer"
   ]
  },
  {
   "cell_type": "markdown",
   "id": "12728922",
   "metadata": {},
   "source": [
    "> Given a BST, integrate next pointer where next pointer points to right sibling, and rightmost sibling next is null"
   ]
  },
  {
   "cell_type": "markdown",
   "id": "032f1359",
   "metadata": {},
   "source": [
    "*Leetcode Link:* https://leetcode.com/problems/populating-next-right-pointers-in-each-node/description/"
   ]
  },
  {
   "cell_type": "markdown",
   "id": "752b8986",
   "metadata": {},
   "source": [
    "**Best Possible Solution:**"
   ]
  },
  {
   "cell_type": "markdown",
   "id": "cf4c4ac6",
   "metadata": {},
   "source": [
    "### Method 1: BFS\n",
    "Time Complexity: O(V)  \n",
    "Space Complexity: O(1)\n",
    "###### where v is count of vertex"
   ]
  },
  {
   "cell_type": "code",
   "execution_count": 2,
   "id": "c3759f14",
   "metadata": {
    "vscode": {
     "languageId": "cpp"
    }
   },
   "outputs": [],
   "source": [
    "class Node {\n",
    "public:\n",
    "    int val;\n",
    "    Node* left;\n",
    "    Node* right;\n",
    "    Node* next;\n",
    "\n",
    "    Node() : val(0), left(NULL), right(NULL), next(NULL) {}\n",
    "\n",
    "    Node(int _val) : val(_val), left(NULL), right(NULL), next(NULL) {}\n",
    "\n",
    "    Node(int _val, Node* _left, Node* _right, Node* _next)\n",
    "        : val(_val), left(_left), right(_right), next(_next) {}\n",
    "};\n",
    "\n",
    "\n",
    "class Solution {\n",
    "public:\n",
    "    Node* connect(Node* root) {\n",
    "        queue<Node*> q;\n",
    "\n",
    "        if(root != nullptr)\n",
    "        q.push(root);\n",
    "\n",
    "        while(!q.empty())\n",
    "        {\n",
    "            int currentSize = q.size();\n",
    "            Node* nextPtr = nullptr;\n",
    "            for(int i = 0; i < currentSize; i++)\n",
    "            {\n",
    "                Node* current = q.front(); q.pop();\n",
    "\n",
    "                current->next = nextPtr;\n",
    "                nextPtr = current;\n",
    "\n",
    "                if(current->right != nullptr)\n",
    "                q.push(current->right);\n",
    "\n",
    "                if(current->left != nullptr)\n",
    "                q.push(current->left);\n",
    "            }\n",
    "\n",
    "        }\n",
    "            return root;\n",
    "    }\n",
    "};"
   ]
  }
 ],
 "metadata": {
  "kernelspec": {
   "display_name": "C++17",
   "language": "C++17",
   "name": "xcpp17"
  },
  "language_info": {
   "codemirror_mode": "text/x-c++src",
   "file_extension": ".cpp",
   "mimetype": "text/x-c++src",
   "name": "c++",
   "version": "17"
  }
 },
 "nbformat": 4,
 "nbformat_minor": 5
}
