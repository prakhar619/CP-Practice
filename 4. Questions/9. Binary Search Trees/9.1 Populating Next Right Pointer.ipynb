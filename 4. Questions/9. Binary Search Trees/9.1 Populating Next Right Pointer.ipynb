{
 "cells": [
  {
   "cell_type": "code",
   "execution_count": null,
   "id": "c3759f14",
   "metadata": {
    "vscode": {
     "languageId": "plaintext"
    }
   },
   "outputs": [],
   "source": [
    "/*\n",
    "// Definition for a Node.\n",
    "class Node {\n",
    "public:\n",
    "    int val;\n",
    "    Node* left;\n",
    "    Node* right;\n",
    "    Node* next;\n",
    "\n",
    "    Node() : val(0), left(NULL), right(NULL), next(NULL) {}\n",
    "\n",
    "    Node(int _val) : val(_val), left(NULL), right(NULL), next(NULL) {}\n",
    "\n",
    "    Node(int _val, Node* _left, Node* _right, Node* _next)\n",
    "        : val(_val), left(_left), right(_right), next(_next) {}\n",
    "};\n",
    "*/\n",
    "\n",
    "class Solution {\n",
    "public:\n",
    "    Node* connect(Node* root) {\n",
    "        queue<Node*> q;\n",
    "\n",
    "        if(root != nullptr)\n",
    "        q.push(root);\n",
    "\n",
    "        while(!q.empty())\n",
    "        {\n",
    "            int currentSize = q.size();\n",
    "            Node* nextPtr = nullptr;\n",
    "            for(int i = 0; i < currentSize; i++)\n",
    "            {\n",
    "                Node* current = q.front(); q.pop();\n",
    "\n",
    "                current->next = nextPtr;\n",
    "                nextPtr = current;\n",
    "\n",
    "                if(current->right != nullptr)\n",
    "                q.push(current->right);\n",
    "\n",
    "                if(current->left != nullptr)\n",
    "                q.push(current->left);\n",
    "            }\n",
    "\n",
    "        }\n",
    "            return root;\n",
    "    }\n",
    "};"
   ]
  },
  {
   "cell_type": "markdown",
   "id": "032f1359",
   "metadata": {},
   "source": [
    "https://leetcode.com/problems/populating-next-right-pointers-in-each-node/description/"
   ]
  }
 ],
 "metadata": {
  "language_info": {
   "name": "python"
  }
 },
 "nbformat": 4,
 "nbformat_minor": 5
}
