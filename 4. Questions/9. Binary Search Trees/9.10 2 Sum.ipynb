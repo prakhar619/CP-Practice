{
 "cells": [
  {
   "cell_type": "code",
   "execution_count": null,
   "id": "b8f66fd2",
   "metadata": {
    "vscode": {
     "languageId": "plaintext"
    }
   },
   "outputs": [],
   "source": [
    "/**\n",
    " * Definition for a binary tree node.\n",
    " * struct TreeNode {\n",
    " *     int val;\n",
    " *     TreeNode *left;\n",
    " *     TreeNode *right;\n",
    " *     TreeNode() : val(0), left(nullptr), right(nullptr) {}\n",
    " *     TreeNode(int x) : val(x), left(nullptr), right(nullptr) {}\n",
    " *     TreeNode(int x, TreeNode *left, TreeNode *right) : val(x), left(left), right(right) {}\n",
    " * };\n",
    " */\n",
    "class Solution {\n",
    "public:\n",
    "    bool findTarget(TreeNode* root, int k) {\n",
    "        queue<TreeNode*> q;\n",
    "        unordered_set<int> uset;\n",
    "        if(root != nullptr)\n",
    "        q.push(root);\n",
    "\n",
    "        while(!q.empty())\n",
    "        {\n",
    "            TreeNode* current = q.front(); q.pop();\n",
    "            if(uset.find(current->val) != uset.end())\n",
    "            {\n",
    "                return true;\n",
    "            }\n",
    "            else\n",
    "            {\n",
    "                uset.insert(k - current->val);\n",
    "                if(current->left != nullptr)\n",
    "                q.push(current->left);\n",
    "                if(current->right != nullptr)\n",
    "                q.push(current->right);\n",
    "            }\n",
    "        }\n",
    "        return false;\n",
    "    }\n",
    "};"
   ]
  },
  {
   "cell_type": "markdown",
   "id": "6da3561d",
   "metadata": {},
   "source": [
    "https://leetcode.com/problems/two-sum-iv-input-is-a-bst/"
   ]
  }
 ],
 "metadata": {
  "language_info": {
   "name": "python"
  }
 },
 "nbformat": 4,
 "nbformat_minor": 5
}
