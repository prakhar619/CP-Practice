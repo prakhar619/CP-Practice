{
 "cells": [
  {
   "cell_type": "markdown",
   "id": "695139c5",
   "metadata": {},
   "source": [
    "#### Chapter 9: Binary Search Tree"
   ]
  },
  {
   "cell_type": "code",
   "execution_count": 1,
   "id": "5d1f1aec",
   "metadata": {
    "vscode": {
     "languageId": "cpp"
    }
   },
   "outputs": [],
   "source": [
    "#include <queue>\n",
    "using namespace std;"
   ]
  },
  {
   "cell_type": "markdown",
   "id": "0f294775",
   "metadata": {},
   "source": [
    "### 10. 2Sum"
   ]
  },
  {
   "cell_type": "markdown",
   "id": "f4577bb0",
   "metadata": {},
   "source": [
    "> Given Binary Search Tree and a target number, return true if 2 number in BST sum upto target"
   ]
  },
  {
   "cell_type": "markdown",
   "id": "6da3561d",
   "metadata": {},
   "source": [
    "*Leetcode Link:* https://leetcode.com/problems/two-sum-iv-input-is-a-bst/"
   ]
  },
  {
   "cell_type": "markdown",
   "id": "dcdc16fa",
   "metadata": {},
   "source": [
    "**Best Possible Solution:**"
   ]
  },
  {
   "cell_type": "markdown",
   "id": "6437b593",
   "metadata": {},
   "source": [
    "### Method 1:\n",
    "Time Complexity: O(n)  \n",
    "Space Complexity: O(n)  \n",
    "###### where n in count of node in bst"
   ]
  },
  {
   "cell_type": "code",
   "execution_count": 2,
   "id": "b8f66fd2",
   "metadata": {
    "vscode": {
     "languageId": "cpp"
    }
   },
   "outputs": [
    {
     "name": "stderr",
     "output_type": "stream",
     "text": [
      "input_line_9:14:9: error: no template named 'unordered_set'; did you mean 'unordered_map'?\n",
      "        unordered_set<int> uset;\n",
      "        ^~~~~~~~~~~~~\n",
      "        unordered_map\n",
      "/opt/conda/bin/../lib/gcc/../../x86_64-conda-linux-gnu/include/c++/10.4.0/bits/unordered_map.h:102:11: note: 'unordered_map' declared here\n",
      "    class unordered_map\n",
      "          ^\n",
      "input_line_9:14:9: error: too few template arguments for class template 'unordered_map'\n",
      "        unordered_set<int> uset;\n",
      "        ^\n",
      "/opt/conda/bin/../lib/gcc/../../x86_64-conda-linux-gnu/include/c++/10.4.0/bits/unordered_map.h:102:11: note: template is declared here\n",
      "    class unordered_map\n",
      "          ^\n"
     ]
    },
    {
     "ename": "Interpreter Error",
     "evalue": "",
     "output_type": "error",
     "traceback": [
      "Interpreter Error: "
     ]
    }
   ],
   "source": [
    "struct TreeNode {\n",
    "     int val;\n",
    "     TreeNode *left;\n",
    "     TreeNode *right;\n",
    "     TreeNode() : val(0), left(nullptr), right(nullptr) {}\n",
    "     TreeNode(int x) : val(x), left(nullptr), right(nullptr) {}\n",
    "     TreeNode(int x, TreeNode *left, TreeNode *right) : val(x), left(left), right(right) {}\n",
    "};\n",
    "\n",
    "class Solution {\n",
    "public:\n",
    "    bool findTarget(TreeNode* root, int k) {\n",
    "        queue<TreeNode*> q;\n",
    "        unordered_set<int> uset;\n",
    "        if(root != nullptr)\n",
    "        q.push(root);\n",
    "\n",
    "        while(!q.empty())\n",
    "        {\n",
    "            TreeNode* current = q.front(); q.pop();\n",
    "            if(uset.find(current->val) != uset.end())\n",
    "            {\n",
    "                return true;\n",
    "            }\n",
    "            else\n",
    "            {\n",
    "                uset.insert(k - current->val);\n",
    "                if(current->left != nullptr)\n",
    "                q.push(current->left);\n",
    "                if(current->right != nullptr)\n",
    "                q.push(current->right);\n",
    "            }\n",
    "        }\n",
    "        return false;\n",
    "    }\n",
    "};"
   ]
  },
  {
   "cell_type": "code",
   "execution_count": null,
   "id": "a8b7d277",
   "metadata": {
    "vscode": {
     "languageId": "cpp"
    }
   },
   "outputs": [],
   "source": []
  }
 ],
 "metadata": {
  "kernelspec": {
   "display_name": "C++17",
   "language": "C++17",
   "name": "xcpp17"
  },
  "language_info": {
   "codemirror_mode": "text/x-c++src",
   "file_extension": ".cpp",
   "mimetype": "text/x-c++src",
   "name": "c++",
   "version": "17"
  }
 },
 "nbformat": 4,
 "nbformat_minor": 5
}
