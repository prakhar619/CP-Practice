{
 "cells": [
  {
   "cell_type": "code",
   "execution_count": null,
   "id": "11c6422f",
   "metadata": {
    "vscode": {
     "languageId": "plaintext"
    }
   },
   "outputs": [],
   "source": [
    "class Solution {\n",
    "public:\n",
    "    unordered_map<string,int> map;\n",
    "    int numDecodings(string s) {\n",
    "        if(s.length() == 1)\n",
    "        {\n",
    "            if(stoi(s) > 0)\n",
    "            return 1;\n",
    "            else \n",
    "            return 0;\n",
    "        }\n",
    "        //hate this condition\n",
    "        if(s.length() == 0)\n",
    "        return 1;\n",
    "\n",
    "        if(map.find(s) != map.end())\n",
    "        return map[s];\n",
    "\n",
    "        int ans = numDecodings(s.substr(0, s.length()-1)) * numDecodings(s.substr(s.length()-1, 1));\n",
    "        if(s.length() >= 2 && stoi(s.substr(s.length()-2,2))  > 9 && stoi(s.substr(s.length()-2,2)) <= 26)\n",
    "        ans += numDecodings(s.substr(0, s.length()-2));\n",
    "\n",
    "        return map[s] = ans;\n",
    "    }\n",
    "};"
   ]
  },
  {
   "cell_type": "markdown",
   "id": "e73e368a",
   "metadata": {},
   "source": [
    "find better way (hint: tabulation)"
   ]
  }
 ],
 "metadata": {
  "language_info": {
   "name": "python"
  }
 },
 "nbformat": 4,
 "nbformat_minor": 5
}
