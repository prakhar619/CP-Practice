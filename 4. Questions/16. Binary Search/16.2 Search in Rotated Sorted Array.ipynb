{
 "cells": [
  {
   "cell_type": "code",
   "execution_count": null,
   "id": "863649e0",
   "metadata": {
    "vscode": {
     "languageId": "plaintext"
    }
   },
   "outputs": [],
   "source": [
    "class Solution {\n",
    "public:\n",
    "    int search(vector<int>& nums, int target) {\n",
    "        int low = 0;\n",
    "        int high = nums.size()-1;\n",
    "\n",
    "        while(low <= high)\n",
    "        {\n",
    "            int mid = (low+high)/2;\n",
    "            if(nums[mid] == target)\n",
    "            return mid;\n",
    "            else if(nums[mid] <= nums[high] )\n",
    "            {\n",
    "                //mid to high is in sorted order\n",
    "\n",
    "                //is target in sorted part\n",
    "                if(nums[mid] < target && nums[high] >= target)\n",
    "                {\n",
    "                    low = mid+1;\n",
    "                }\n",
    "                else\n",
    "                {\n",
    "                    high = mid-1;\n",
    "                }\n",
    "            }\n",
    "            else\n",
    "            {\n",
    "                //low to mid is in sorted order\n",
    "\n",
    "                //is target in sorted part\n",
    "                if(nums[low] <= target && nums[mid] > target)\n",
    "                {\n",
    "                    high = mid-1;\n",
    "                }\n",
    "                else\n",
    "                {\n",
    "                    low = mid+1;\n",
    "                }\n",
    "            }\n",
    "        }\n",
    "\n",
    "        return -1;\n",
    "    }\n",
    "};"
   ]
  },
  {
   "cell_type": "markdown",
   "id": "2a7ed4b0",
   "metadata": {},
   "source": [
    "https://leetcode.com/problems/search-in-rotated-sorted-array/"
   ]
  }
 ],
 "metadata": {
  "language_info": {
   "name": "python"
  }
 },
 "nbformat": 4,
 "nbformat_minor": 5
}
