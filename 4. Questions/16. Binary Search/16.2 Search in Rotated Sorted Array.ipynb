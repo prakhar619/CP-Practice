{
 "cells": [
  {
   "cell_type": "markdown",
   "id": "5288ad6f",
   "metadata": {},
   "source": [
    "#### 16. Binary Search"
   ]
  },
  {
   "cell_type": "code",
   "execution_count": 2,
   "id": "15464eed",
   "metadata": {
    "vscode": {
     "languageId": "cpp"
    }
   },
   "outputs": [],
   "source": [
    "#include <vector>\n",
    "using namespace std;"
   ]
  },
  {
   "cell_type": "markdown",
   "id": "b712ba04",
   "metadata": {},
   "source": [
    "### 2. Search in Rotated Sorted Array"
   ]
  },
  {
   "cell_type": "markdown",
   "id": "10fd5ae2",
   "metadata": {},
   "source": [
    "> Given the array nums after the possible rotation and an integer target, return the index of target if it is in nums, or -1 if it is not in nums."
   ]
  },
  {
   "cell_type": "markdown",
   "id": "2a7ed4b0",
   "metadata": {},
   "source": [
    "*Leetcode Link:* https://leetcode.com/problems/search-in-rotated-sorted-array/"
   ]
  },
  {
   "cell_type": "markdown",
   "id": "418db841",
   "metadata": {},
   "source": [
    "**Best Possible Solution:**"
   ]
  },
  {
   "cell_type": "markdown",
   "id": "08dd02cd",
   "metadata": {},
   "source": [
    "### Method 1\n",
    "Time Complexity: O(log n)  \n",
    "Space Complexity: O(1)\n",
    "###### where n is size of array"
   ]
  },
  {
   "cell_type": "code",
   "execution_count": null,
   "id": "863649e0",
   "metadata": {
    "vscode": {
     "languageId": "cpp"
    }
   },
   "outputs": [],
   "source": [
    "class Solution {\n",
    "public:\n",
    "    int search(vector<int>& nums, int target) {\n",
    "        int low = 0;\n",
    "        int high = nums.size()-1;\n",
    "\n",
    "        while(low <= high)\n",
    "        {\n",
    "            int mid = (low+high)/2;\n",
    "            if(nums[mid] == target)\n",
    "            return mid;\n",
    "            else if(nums[mid] <= nums[high] )\n",
    "            {\n",
    "                //mid to high is in sorted order\n",
    "\n",
    "                //is target in sorted part\n",
    "                if(nums[mid] < target && nums[high] >= target)\n",
    "                {\n",
    "                    low = mid+1;\n",
    "                }\n",
    "                else\n",
    "                {\n",
    "                    high = mid-1;\n",
    "                }\n",
    "            }\n",
    "            else\n",
    "            {\n",
    "                //low to mid is in sorted order\n",
    "\n",
    "                //is target in sorted part\n",
    "                if(nums[low] <= target && nums[mid] > target)\n",
    "                {\n",
    "                    high = mid-1;\n",
    "                }\n",
    "                else\n",
    "                {\n",
    "                    low = mid+1;\n",
    "                }\n",
    "            }\n",
    "        }\n",
    "\n",
    "        return -1;\n",
    "    }\n",
    "};"
   ]
  }
 ],
 "metadata": {
  "kernelspec": {
   "display_name": "C++17",
   "language": "C++17",
   "name": "xcpp17"
  },
  "language_info": {
   "codemirror_mode": "text/x-c++src",
   "file_extension": ".cpp",
   "mimetype": "text/x-c++src",
   "name": "c++",
   "version": "17"
  }
 },
 "nbformat": 4,
 "nbformat_minor": 5
}
