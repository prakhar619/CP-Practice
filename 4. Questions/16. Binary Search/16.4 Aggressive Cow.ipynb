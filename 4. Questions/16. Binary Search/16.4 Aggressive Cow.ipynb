{
 "cells": [
  {
   "cell_type": "code",
   "execution_count": null,
   "id": "3d728f0d",
   "metadata": {
    "vscode": {
     "languageId": "plaintext"
    }
   },
   "outputs": [],
   "source": [
    "// User function Template for C++\n",
    "\n",
    "class Solution {\n",
    "  public:\n",
    "    int countCow(vector<int>& nums,int minDistance)\n",
    "    {\n",
    "        int cnt = 1;\n",
    "        int prev = nums[0];\n",
    "        for(int i = 1; i < nums.size(); i++)\n",
    "        {\n",
    "            if(nums[i] - prev >= minDistance)\n",
    "            {\n",
    "                cnt+=1;\n",
    "                prev = nums[i];\n",
    "            }\n",
    "        }\n",
    "        \n",
    "        //cout << minDistance << \" \" << cnt << endl;\n",
    "        return cnt;\n",
    "    }\n",
    "\n",
    "    int aggressiveCows(vector<int> &stalls, int k) {\n",
    "        sort(stalls.begin(),stalls.end());\n",
    "        // Write your code here\n",
    "        int maxDistance = stalls[stalls.size()-1] - stalls[0];\n",
    "        int minDistance = numeric_limits<int>::max();\n",
    "        \n",
    "        for(int i = 0; i < stalls.size()-1; i++)\n",
    "        {\n",
    "            minDistance = min(minDistance, stalls[i+1]-stalls[i]);\n",
    "        }\n",
    "        \n",
    "        for(int i = maxDistance; i >= minDistance; i--)\n",
    "        {\n",
    "            if(countCow(stalls,i) >= k)\n",
    "            {\n",
    "                return i;\n",
    "            }\n",
    "        }\n",
    "    }\n",
    "};"
   ]
  },
  {
   "cell_type": "markdown",
   "id": "469735ea",
   "metadata": {},
   "source": [
    "https://www.geeksforgeeks.org/problems/aggressive-cows/1"
   ]
  },
  {
   "cell_type": "code",
   "execution_count": null,
   "id": "a6a7b5a4",
   "metadata": {
    "vscode": {
     "languageId": "plaintext"
    }
   },
   "outputs": [],
   "source": [
    "// User function Template for C++\n",
    "\n",
    "class Solution {\n",
    "  public:\n",
    "    int countCow(vector<int>& nums,int minDistance)\n",
    "    {\n",
    "        int cnt = 1;\n",
    "        int prev = nums[0];\n",
    "        for(int i = 1; i < nums.size(); i++)\n",
    "        {\n",
    "            if(nums[i] - prev >= minDistance)\n",
    "            {\n",
    "                cnt+=1;\n",
    "                prev = nums[i];\n",
    "            }\n",
    "        }\n",
    "        \n",
    "        //cout << minDistance << \" \" << cnt << endl;\n",
    "        return cnt;\n",
    "    }\n",
    "\n",
    "    int aggressiveCows(vector<int> &stalls, int k) {\n",
    "        sort(stalls.begin(),stalls.end());\n",
    "        // Write your code here\n",
    "        int maxDistance = stalls[stalls.size()-1] - stalls[0];\n",
    "        int minDistance = numeric_limits<int>::max();\n",
    "        \n",
    "        for(int i = 0; i < stalls.size()-1; i++)\n",
    "        {\n",
    "            minDistance = min(minDistance, stalls[i+1]-stalls[i]);\n",
    "        }\n",
    "        \n",
    "        \n",
    "        \n",
    "        while(maxDistance >= minDistance)\n",
    "        {\n",
    "            int mid = (maxDistance + minDistance)/2;\n",
    "            int cowCount = countCow(stalls, mid);\n",
    "            \n",
    "            if(cowCount < k)\n",
    "            {\n",
    "                //Create this case only when needed after creating else case\n",
    "                maxDistance = mid-1;\n",
    "            }\n",
    "            else\n",
    "            {\n",
    "                //first create else case based on which to maximize/minize\n",
    "                minDistance = mid+1;\n",
    "            }\n",
    "        }\n",
    "        \n",
    "        //else wale case ka opposite\n",
    "        return maxDistance;\n",
    "    }\n",
    "};"
   ]
  }
 ],
 "metadata": {
  "language_info": {
   "name": "python"
  }
 },
 "nbformat": 4,
 "nbformat_minor": 5
}
