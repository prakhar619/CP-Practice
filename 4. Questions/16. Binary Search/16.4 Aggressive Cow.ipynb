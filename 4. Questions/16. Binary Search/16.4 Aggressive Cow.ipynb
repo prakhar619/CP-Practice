{
 "cells": [
  {
   "cell_type": "markdown",
   "id": "ce5809ff",
   "metadata": {},
   "source": [
    "#### Chapter 16: Binary Search"
   ]
  },
  {
   "cell_type": "code",
   "execution_count": 2,
   "id": "89884fe0",
   "metadata": {
    "vscode": {
     "languageId": "cpp"
    }
   },
   "outputs": [],
   "source": [
    "#include <vector>\n",
    "using namespace std;"
   ]
  },
  {
   "cell_type": "markdown",
   "id": "89de85e2",
   "metadata": {},
   "source": [
    "### 4. Aggressive Cows"
   ]
  },
  {
   "cell_type": "markdown",
   "id": "7a6e4948",
   "metadata": {},
   "source": [
    "> You are given an array with unique elements of stalls[], which denote the position of a stall. You are also given an integer k which denotes the number of aggressive cows.   \n",
    "Your task is to assign stalls to k cows such that the minimum distance between any two of them is the maximum possible."
   ]
  },
  {
   "cell_type": "markdown",
   "id": "469735ea",
   "metadata": {},
   "source": [
    "*Leetcode Link:* https://www.geeksforgeeks.org/problems/aggressive-cows/1"
   ]
  },
  {
   "cell_type": "markdown",
   "id": "db8a7d59",
   "metadata": {},
   "source": [
    "**Best Possible Solution:**"
   ]
  },
  {
   "cell_type": "markdown",
   "id": "fd50435c",
   "metadata": {},
   "source": [
    "### Method 1:\n",
    "Time Complexity: O(n^2)  \n",
    "Space Complexity: O(1)"
   ]
  },
  {
   "cell_type": "code",
   "execution_count": null,
   "id": "3d728f0d",
   "metadata": {
    "vscode": {
     "languageId": "cpp"
    }
   },
   "outputs": [],
   "source": [
    "// User function Template for C++\n",
    "\n",
    "class Solution {\n",
    "  public:\n",
    "    int countCow(vector<int>& nums,int minDistance)\n",
    "    {\n",
    "        int cnt = 1;\n",
    "        int prev = nums[0];\n",
    "        for(int i = 1; i < nums.size(); i++)\n",
    "        {\n",
    "            if(nums[i] - prev >= minDistance)\n",
    "            {\n",
    "                cnt+=1;\n",
    "                prev = nums[i];\n",
    "            }\n",
    "        }\n",
    "        \n",
    "        //cout << minDistance << \" \" << cnt << endl;\n",
    "        return cnt;\n",
    "    }\n",
    "\n",
    "    int aggressiveCows(vector<int> &stalls, int k) {\n",
    "        sort(stalls.begin(),stalls.end());\n",
    "        // Write your code here\n",
    "        int maxDistance = stalls[stalls.size()-1] - stalls[0];\n",
    "        int minDistance = numeric_limits<int>::max();\n",
    "        \n",
    "        for(int i = 0; i < stalls.size()-1; i++)\n",
    "        {\n",
    "            minDistance = min(minDistance, stalls[i+1]-stalls[i]);\n",
    "        }\n",
    "        \n",
    "        for(int i = maxDistance; i >= minDistance; i--)\n",
    "        {\n",
    "            if(countCow(stalls,i) >= k)\n",
    "            {\n",
    "                return i;\n",
    "            }\n",
    "        }\n",
    "    }\n",
    "};"
   ]
  },
  {
   "cell_type": "markdown",
   "id": "0370d119",
   "metadata": {},
   "source": [
    "### Method 2\n",
    "Time Complexity: O(n log n)  \n",
    "Space Complexity: O(1)"
   ]
  },
  {
   "cell_type": "code",
   "execution_count": null,
   "id": "a6a7b5a4",
   "metadata": {
    "vscode": {
     "languageId": "cpp"
    }
   },
   "outputs": [],
   "source": [
    "// User function Template for C++\n",
    "\n",
    "class Solution {\n",
    "  public:\n",
    "    int countCow(vector<int>& nums,int minDistance)\n",
    "    {\n",
    "        int cnt = 1;\n",
    "        int prev = nums[0];\n",
    "        for(int i = 1; i < nums.size(); i++)\n",
    "        {\n",
    "            if(nums[i] - prev >= minDistance)\n",
    "            {\n",
    "                cnt+=1;\n",
    "                prev = nums[i];\n",
    "            }\n",
    "        }\n",
    "        \n",
    "        //cout << minDistance << \" \" << cnt << endl;\n",
    "        return cnt;\n",
    "    }\n",
    "\n",
    "    int aggressiveCows(vector<int> &stalls, int k) {\n",
    "        sort(stalls.begin(),stalls.end());\n",
    "        // Write your code here\n",
    "        int maxDistance = stalls[stalls.size()-1] - stalls[0];\n",
    "        int minDistance = numeric_limits<int>::max();\n",
    "        \n",
    "        for(int i = 0; i < stalls.size()-1; i++)\n",
    "        {\n",
    "            minDistance = min(minDistance, stalls[i+1]-stalls[i]);\n",
    "        }\n",
    "        \n",
    "        \n",
    "        \n",
    "        while(maxDistance >= minDistance)\n",
    "        {\n",
    "            int mid = (maxDistance + minDistance)/2;\n",
    "            int cowCount = countCow(stalls, mid);\n",
    "            \n",
    "            if(cowCount < k)\n",
    "            {\n",
    "                //Create this case only when needed after creating else case\n",
    "                maxDistance = mid-1;\n",
    "            }\n",
    "            else\n",
    "            {\n",
    "                //first create else case based on which to maximize/minize\n",
    "                minDistance = mid+1;\n",
    "            }\n",
    "        }\n",
    "        \n",
    "        //else wale case ka opposite\n",
    "        return maxDistance;\n",
    "    }\n",
    "};"
   ]
  }
 ],
 "metadata": {
  "kernelspec": {
   "display_name": "C++17",
   "language": "C++17",
   "name": "xcpp17"
  },
  "language_info": {
   "codemirror_mode": "text/x-c++src",
   "file_extension": ".cpp",
   "mimetype": "text/x-c++src",
   "name": "c++",
   "version": "17"
  }
 },
 "nbformat": 4,
 "nbformat_minor": 5
}
