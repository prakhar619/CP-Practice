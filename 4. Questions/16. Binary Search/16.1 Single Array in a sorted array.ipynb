{
 "cells": [
  {
   "cell_type": "code",
   "execution_count": null,
   "id": "7495c82c",
   "metadata": {
    "vscode": {
     "languageId": "plaintext"
    }
   },
   "outputs": [],
   "source": [
    "class Solution {\n",
    "public:\n",
    "    int singleNonDuplicate(vector<int>& nums) {\n",
    "        int low = 0;\n",
    "        int high = nums.size()-1;\n",
    "\n",
    "        while(low < high)\n",
    "        {\n",
    "            int mid = (low+high)/2;\n",
    "            if(mid%2 == 1)\n",
    "            mid -= 1;\n",
    "\n",
    "            if(nums[mid] != nums[mid+1])\n",
    "            {\n",
    "                high = mid;\n",
    "                //consider case [1,1,2,3,3] high is inclusive of search space\n",
    "                //high = mid-2;\n",
    "            }\n",
    "            else\n",
    "            {\n",
    "                low = mid+2;\n",
    "            }\n",
    "        }\n",
    "        //asert low = high;\n",
    "        cout << low << \" \" << high << endl;\n",
    "        return nums[low];\n",
    "    }\n",
    "};"
   ]
  },
  {
   "cell_type": "markdown",
   "id": "49f9d478",
   "metadata": {},
   "source": [
    "https://leetcode.com/problems/single-element-in-a-sorted-array/"
   ]
  }
 ],
 "metadata": {
  "language_info": {
   "name": "python"
  }
 },
 "nbformat": 4,
 "nbformat_minor": 5
}
