{
 "cells": [
  {
   "cell_type": "markdown",
   "id": "893b0301",
   "metadata": {},
   "source": [
    "#### Chapter 16: Binary Search"
   ]
  },
  {
   "cell_type": "code",
   "execution_count": null,
   "id": "c897bed5",
   "metadata": {
    "vscode": {
     "languageId": "cpp"
    }
   },
   "outputs": [],
   "source": [
    "#include <vector>\n",
    "using namespace std;"
   ]
  },
  {
   "cell_type": "markdown",
   "id": "10e4ff7f",
   "metadata": {},
   "source": [
    "#### 1. Single Element in a Sorted Array"
   ]
  },
  {
   "cell_type": "markdown",
   "id": "e19e6e7f",
   "metadata": {},
   "source": [
    ">You are given a sorted array consisting of only integers where every element appears exactly twice, except for one element which appears exactly once.\n",
    "\n",
    ">Return the single element that appears only once."
   ]
  },
  {
   "cell_type": "markdown",
   "id": "49f9d478",
   "metadata": {},
   "source": [
    "*Leetcode Link:* https://leetcode.com/problems/single-element-in-a-sorted-array/"
   ]
  },
  {
   "cell_type": "markdown",
   "id": "f37298bf",
   "metadata": {},
   "source": [
    "**Best Possible Solution:**"
   ]
  },
  {
   "cell_type": "markdown",
   "id": "5768519b",
   "metadata": {},
   "source": [
    "### Method 1\n",
    "Time Complexity: O(log n)  \n",
    "Space Complexity: O(1)\n",
    "###### where n is size of array"
   ]
  },
  {
   "cell_type": "code",
   "execution_count": null,
   "id": "7495c82c",
   "metadata": {
    "vscode": {
     "languageId": "cpp"
    }
   },
   "outputs": [],
   "source": [
    "class Solution {\n",
    "public:\n",
    "    int singleNonDuplicate(vector<int>& nums) {\n",
    "        int low = 0;\n",
    "        int high = nums.size()-1;\n",
    "\n",
    "        while(low < high)\n",
    "        {\n",
    "            int mid = (low+high)/2;\n",
    "            if(mid%2 == 1)\n",
    "            mid -= 1;\n",
    "\n",
    "            if(nums[mid] != nums[mid+1])\n",
    "            {\n",
    "                high = mid;\n",
    "                //consider case [1,1,2,3,3] high is inclusive of search space\n",
    "                //high = mid-2;\n",
    "            }\n",
    "            else\n",
    "            {\n",
    "                low = mid+2;\n",
    "            }\n",
    "        }\n",
    "        \n",
    "        //assert low = high;\n",
    "        //cout << low << \" \" << high << endl;\n",
    "        return nums[low];\n",
    "    }\n",
    "};"
   ]
  }
 ],
 "metadata": {
  "language_info": {
   "name": "python"
  }
 },
 "nbformat": 4,
 "nbformat_minor": 5
}
