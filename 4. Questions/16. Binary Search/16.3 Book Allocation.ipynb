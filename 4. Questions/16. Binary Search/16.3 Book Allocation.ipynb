{
 "cells": [
  {
   "cell_type": "markdown",
   "id": "2a2730cb",
   "metadata": {},
   "source": [
    "#### Chapter 16: Binary Search"
   ]
  },
  {
   "cell_type": "code",
   "execution_count": 1,
   "id": "28e94559",
   "metadata": {
    "vscode": {
     "languageId": "cpp"
    }
   },
   "outputs": [],
   "source": [
    "#include <vector>\n",
    "using namespace std;"
   ]
  },
  {
   "cell_type": "markdown",
   "id": "17a12151",
   "metadata": {},
   "source": [
    "### 3. Book Allocation"
   ]
  },
  {
   "cell_type": "markdown",
   "id": "7b1cce9b",
   "metadata": {},
   "source": [
    ">The task is to allocate books to each student such that:\n",
    "1. Each student receives atleast one book.\n",
    "2. Each student is assigned a contiguous sequence of books.\n",
    "3. No book is assigned to more than one student.\n",
    "\n",
    "> The objective is to minimize the maximum number of pages assigned to any student. In other words, out of all possible allocations, find the arrangement where the student who receives the most pages still has the smallest possible maximum."
   ]
  },
  {
   "cell_type": "markdown",
   "id": "c8d63673",
   "metadata": {},
   "source": [
    "*Leetcode Link:* https://www.geeksforgeeks.org/problems/allocate-minimum-number-of-pages0937/1"
   ]
  },
  {
   "cell_type": "markdown",
   "id": "eb5b6b6d",
   "metadata": {},
   "source": [
    "**Best Possible Solution:**"
   ]
  },
  {
   "cell_type": "markdown",
   "id": "43a2baa2",
   "metadata": {},
   "source": [
    "### Method 1:\n",
    "Time Complexity: O(n^2)  \n",
    "Space Complexity: O(n)"
   ]
  },
  {
   "cell_type": "code",
   "execution_count": null,
   "id": "6f3aeaa7",
   "metadata": {
    "vscode": {
     "languageId": "cpp"
    }
   },
   "outputs": [],
   "source": [
    "class Solution {\n",
    "  public:\n",
    "    int countStudent(vector<int>& nums,int maxPages)\n",
    "    {\n",
    "        //function to check whether for given maxPages (max #pages given to each student) it return how many student can be handle\n",
    "        //each student will get try to get as close to maxPages as possible\n",
    "        vector<int> studentPages(1,0);\n",
    "        for(int i = 0; i < nums.size(); i++)\n",
    "        {\n",
    "            if(studentPages[studentPages.size()-1] + nums[i] <= maxPages)\n",
    "            {\n",
    "                studentPages[studentPages.size()-1] += nums[i];\n",
    "            }\n",
    "            else\n",
    "            {\n",
    "                studentPages.push_back(nums[i]);\n",
    "            }\n",
    "        }\n",
    "        //no of student we can handle with maxPages\n",
    "        return studentPages.size();\n",
    "    }\n",
    "    \n",
    "    int findPages(vector<int> &nums, int m)  {\n",
    "        //no of books less than no of student; impossible to distribute\n",
    "        if(nums.size() < m)\n",
    "        return -1;\n",
    "\n",
    "        int minPage = *max_element(nums.begin(),nums.end());\n",
    "        int maxPage = accumulate(nums.begin(), nums.end(),0);\n",
    "\n",
    "        //currently our search space is max page count.\n",
    "        //we will start from lowest maxPage we can get \n",
    "            //(this will result in higher student we can handle {because we need to use all pages})\n",
    "        //we will then increase maxPage which will decrease the no of student to desired amount\n",
    "        //how much decrease\n",
    "            //till we can accomodate smaller no of student \n",
    "            //why <= m and not == m: because we increase the no of student by breaking any of the combined pages\n",
    "        \n",
    "        for(int i = minPage; i <= maxPage; i++)\n",
    "        {\n",
    "            \n",
    "            if(countStudent(nums,i) <= m)\n",
    "            return i;\n",
    "        }\n",
    "        \n",
    "        //dont know why\n",
    "        return -1;\n",
    "\n",
    "    }\n",
    "    \n",
    "};"
   ]
  },
  {
   "cell_type": "markdown",
   "id": "0cfb15ad",
   "metadata": {},
   "source": [
    "### Method 2\n",
    "Time Complexity: O(n log n)  \n",
    "Space Complexity: O(n)"
   ]
  },
  {
   "cell_type": "code",
   "execution_count": null,
   "id": "cd6484f9",
   "metadata": {
    "vscode": {
     "languageId": "cpp"
    }
   },
   "outputs": [],
   "source": [
    "class Solution {\n",
    "  public:\n",
    "    int countStudent(vector<int>& nums,int maxPages)\n",
    "    {\n",
    "        //function to check whether for given maxPages (max #pages given to each student) it return how many student can be handle\n",
    "        //each student will get try to get as close to maxPages as possible\n",
    "        vector<int> studentPages(1,0);\n",
    "        for(int i = 0; i < nums.size(); i++)\n",
    "        {\n",
    "            if(studentPages[studentPages.size()-1] + nums[i] <= maxPages)\n",
    "            {\n",
    "                studentPages[studentPages.size()-1] += nums[i];\n",
    "            }\n",
    "            else\n",
    "            {\n",
    "                studentPages.push_back(nums[i]);\n",
    "            }\n",
    "        }\n",
    "        //no of student we can handle with maxPages\n",
    "        return studentPages.size();\n",
    "    }\n",
    "    \n",
    "    int findPages(vector<int> &nums, int m)  {\n",
    "        //no of books less than no of student; impossible to distribute\n",
    "        if(nums.size() < m)\n",
    "        return -1;\n",
    "\n",
    "        int minPage = *max_element(nums.begin(),nums.end());\n",
    "        int maxPage = accumulate(nums.begin(), nums.end(),0);\n",
    "\n",
    "        //currently our search space is max page count.\n",
    "        //we will start from lowest maxPage we can get \n",
    "            //(this will result in higher student we can handle {because we need to use all pages})\n",
    "        //we will then increase maxPage which will decrease the no of student to desired amount\n",
    "        //how much decrease\n",
    "            //?\n",
    "        \n",
    "        while(minPage <= maxPage)\n",
    "        {\n",
    "            int mid = (minPage + maxPage)/2;\n",
    "            int stud = countStudent(nums, mid);\n",
    "            \n",
    "            //Reason why not include this\n",
    "            //if(stud == m)\n",
    "            //{\n",
    "            //    return mid;\n",
    "            //}\n",
    "            if(stud > m)\n",
    "            {\n",
    "                //only increase when needed\n",
    "                minPage = mid+1;\n",
    "            }\n",
    "            else\n",
    "            {\n",
    "                //decrease MaxPage as much as possible\n",
    "                maxPage = mid-1;\n",
    "            }\n",
    "        }\n",
    "        \n",
    "        //dont know how\n",
    "        //cout << minPage << endl;\n",
    "        return minPage;\n",
    "\n",
    "    }\n",
    "    \n",
    "};"
   ]
  }
 ],
 "metadata": {
  "kernelspec": {
   "display_name": "C++17",
   "language": "C++17",
   "name": "xcpp17"
  },
  "language_info": {
   "codemirror_mode": "text/x-c++src",
   "file_extension": ".cpp",
   "mimetype": "text/x-c++src",
   "name": "c++",
   "version": "17"
  }
 },
 "nbformat": 4,
 "nbformat_minor": 5
}
