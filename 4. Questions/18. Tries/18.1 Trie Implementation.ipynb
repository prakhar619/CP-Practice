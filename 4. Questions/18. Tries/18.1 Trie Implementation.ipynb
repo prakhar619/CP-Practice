{
 "cells": [
  {
   "cell_type": "code",
   "execution_count": null,
   "id": "329fe84f",
   "metadata": {
    "vscode": {
     "languageId": "plaintext"
    }
   },
   "outputs": [],
   "source": [
    "class NodeTrie\n",
    "{\n",
    "    public:\n",
    "    vector<NodeTrie*> data;\n",
    "    bool isLeaf;\n",
    "    NodeTrie()\n",
    "    {\n",
    "        isLeaf= false;\n",
    "        data = vector<NodeTrie*>(26,nullptr);\n",
    "    }\n",
    "};\n",
    "\n",
    "class Trie {\n",
    "public:\n",
    "    NodeTrie* head;\n",
    "    Trie() {\n",
    "        head = new NodeTrie();\n",
    "    }\n",
    "    \n",
    "    void insert(string word) {\n",
    "        NodeTrie* trav = head;\n",
    "        for(char c: word)\n",
    "        {\n",
    "            if(trav->data[c-'a'] == nullptr)\n",
    "            {\n",
    "                NodeTrie* newNode = new NodeTrie();\n",
    "                trav->data[c-'a'] = newNode;\n",
    "            }\n",
    "            trav = trav->data[c-'a'];\n",
    "        }\n",
    "        trav->isLeaf = true;\n",
    "    }\n",
    "    \n",
    "    bool search(string word) {\n",
    "        NodeTrie* trav = head;\n",
    "        for(char c: word)\n",
    "        {\n",
    "            if(trav->data[c-'a'] == nullptr)\n",
    "            {\n",
    "                return false;\n",
    "            }\n",
    "            trav = trav->data[c-'a'];\n",
    "        }\n",
    "        return trav->isLeaf;\n",
    "    }\n",
    "    \n",
    "    bool startsWith(string prefix) {\n",
    "        NodeTrie* trav = head;\n",
    "        for(char c: prefix)\n",
    "        {\n",
    "            if(trav->data[c-'a'] == nullptr)\n",
    "            {\n",
    "                return false;\n",
    "            }\n",
    "            trav = trav->data[c-'a'];\n",
    "        }\n",
    "        return true;\n",
    "    }\n",
    "};\n",
    "\n",
    "/**\n",
    " * Your Trie object will be instantiated and called as such:\n",
    " * Trie* obj = new Trie();\n",
    " * obj->insert(word);\n",
    " * bool param_2 = obj->search(word);\n",
    " * bool param_3 = obj->startsWith(prefix);\n",
    " */"
   ]
  },
  {
   "cell_type": "markdown",
   "id": "982114aa",
   "metadata": {},
   "source": [
    "https://leetcode.com/problems/implement-trie-prefix-tree/"
   ]
  }
 ],
 "metadata": {
  "language_info": {
   "name": "python"
  }
 },
 "nbformat": 4,
 "nbformat_minor": 5
}
