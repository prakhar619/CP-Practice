{
 "cells": [
  {
   "cell_type": "markdown",
   "id": "440438c0",
   "metadata": {},
   "source": [
    "#### Chapter 18: Tries"
   ]
  },
  {
   "cell_type": "code",
   "execution_count": null,
   "id": "9688145c",
   "metadata": {
    "vscode": {
     "languageId": "cpp"
    }
   },
   "outputs": [],
   "source": [
    "#include <vector>\n",
    "using namespace std;"
   ]
  },
  {
   "cell_type": "markdown",
   "id": "bba046dc",
   "metadata": {},
   "source": [
    "### 1. Trie Implementation"
   ]
  },
  {
   "cell_type": "markdown",
   "id": "53b35f95",
   "metadata": {},
   "source": [
    "> Implement Trie and its operations like insert, searchWord, searchPrefix"
   ]
  },
  {
   "cell_type": "markdown",
   "id": "982114aa",
   "metadata": {},
   "source": [
    "*Leetcode Link:* https://leetcode.com/problems/implement-trie-prefix-tree/"
   ]
  },
  {
   "cell_type": "markdown",
   "id": "213f7cab",
   "metadata": {},
   "source": [
    "**Best Possible Solution:**"
   ]
  },
  {
   "cell_type": "markdown",
   "id": "3cc8c8dd",
   "metadata": {},
   "source": [
    "### Method 1\n",
    "Time Complexity:\n",
    "1. insert    &emsp;&emsp;&emsp;       O(n)\n",
    "2. search    &emsp;&emsp;&emsp;       O(n)\n",
    "3. startWith &emsp;&emsp;       O(n)\n",
    "Space Complexity:\n",
    "1. insert    &emsp;&emsp;&emsp;       O(n)\n",
    "2. search    &emsp;&emsp;&emsp;       O(1)\n",
    "3. startWith &emsp;&emsp;      O(1)"
   ]
  },
  {
   "cell_type": "code",
   "execution_count": null,
   "id": "329fe84f",
   "metadata": {
    "vscode": {
     "languageId": "cpp"
    }
   },
   "outputs": [],
   "source": [
    "class NodeTrie\n",
    "{\n",
    "    public:\n",
    "    vector<NodeTrie*> data;\n",
    "    bool isLeaf;\n",
    "    NodeTrie()\n",
    "    {\n",
    "        isLeaf= false;\n",
    "        data = vector<NodeTrie*>(26,nullptr);\n",
    "    }\n",
    "};\n",
    "\n",
    "class Trie {\n",
    "public:\n",
    "    NodeTrie* head;\n",
    "    Trie() {\n",
    "        head = new NodeTrie();\n",
    "    }\n",
    "    \n",
    "    void insert(string word) {\n",
    "        NodeTrie* trav = head;\n",
    "        for(char c: word)\n",
    "        {\n",
    "            if(trav->data[c-'a'] == nullptr)\n",
    "            {\n",
    "                NodeTrie* newNode = new NodeTrie();\n",
    "                trav->data[c-'a'] = newNode;\n",
    "            }\n",
    "            trav = trav->data[c-'a'];\n",
    "        }\n",
    "        trav->isLeaf = true;\n",
    "    }\n",
    "    \n",
    "    bool search(string word) {\n",
    "        NodeTrie* trav = head;\n",
    "        for(char c: word)\n",
    "        {\n",
    "            if(trav->data[c-'a'] == nullptr)\n",
    "            {\n",
    "                return false;\n",
    "            }\n",
    "            trav = trav->data[c-'a'];\n",
    "        }\n",
    "        return trav->isLeaf;\n",
    "    }\n",
    "    \n",
    "    bool startsWith(string prefix) {\n",
    "        NodeTrie* trav = head;\n",
    "        for(char c: prefix)\n",
    "        {\n",
    "            if(trav->data[c-'a'] == nullptr)\n",
    "            {\n",
    "                return false;\n",
    "            }\n",
    "            trav = trav->data[c-'a'];\n",
    "        }\n",
    "        return true;\n",
    "    }\n",
    "};\n",
    "\n",
    "/**\n",
    " * Your Trie object will be instantiated and called as such:\n",
    " * Trie* obj = new Trie();\n",
    " * obj->insert(word);\n",
    " * bool param_2 = obj->search(word);\n",
    " * bool param_3 = obj->startsWith(prefix);\n",
    " */"
   ]
  }
 ],
 "metadata": {
  "language_info": {
   "name": "python"
  }
 },
 "nbformat": 4,
 "nbformat_minor": 5
}
