{
 "cells": [
  {
   "cell_type": "code",
   "execution_count": null,
   "id": "b7731696",
   "metadata": {
    "vscode": {
     "languageId": "plaintext"
    }
   },
   "outputs": [],
   "source": [
    "class MyQueue {\n",
    "public:\n",
    "    stack<int> stM;\n",
    "    stack<int> sts;\n",
    "    MyQueue() {\n",
    "        \n",
    "    }\n",
    "    \n",
    "    void push(int x) {\n",
    "        stM.push(x);\n",
    "    }\n",
    "    \n",
    "    int pop() {\n",
    "        if(sts.empty())\n",
    "        {\n",
    "            while(!stM.empty())\n",
    "            {\n",
    "                sts.push(stM.top());\n",
    "                stM.pop();\n",
    "            }\n",
    "        }\n",
    "        int temp = sts.top();\n",
    "        sts.pop();\n",
    "        return temp;\n",
    "    }\n",
    "    \n",
    "    int peek() {\n",
    "        if(sts.empty())\n",
    "        {\n",
    "            while(!stM.empty())\n",
    "            {\n",
    "                sts.push(stM.top());\n",
    "                stM.pop();\n",
    "            }\n",
    "        }\n",
    "        return sts.top();\n",
    "\n",
    "    }\n",
    "    \n",
    "    bool empty() {\n",
    "        if(sts.empty() && stM.empty())\n",
    "        return true;\n",
    "        return false;\n",
    "    }\n",
    "};\n",
    "\n",
    "/**\n",
    " * Your MyQueue object will be instantiated and called as such:\n",
    " * MyQueue* obj = new MyQueue();\n",
    " * obj->push(x);\n",
    " * int param_2 = obj->pop();\n",
    " * int param_3 = obj->peek();\n",
    " * bool param_4 = obj->empty();\n",
    " */"
   ]
  },
  {
   "cell_type": "code",
   "execution_count": null,
   "id": "695af9f4",
   "metadata": {
    "vscode": {
     "languageId": "plaintext"
    }
   },
   "outputs": [],
   "source": [
    "https://leetcode.com/problems/implement-queue-using-stacks/"
   ]
  }
 ],
 "metadata": {
  "language_info": {
   "name": "python"
  }
 },
 "nbformat": 4,
 "nbformat_minor": 5
}
