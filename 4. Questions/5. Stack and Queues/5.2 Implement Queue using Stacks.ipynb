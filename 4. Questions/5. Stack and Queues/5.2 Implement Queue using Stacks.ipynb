{
 "cells": [
  {
   "cell_type": "markdown",
   "id": "8e6c822b",
   "metadata": {},
   "source": [
    "#### Chapter 5: Stack and Queues"
   ]
  },
  {
   "cell_type": "code",
   "execution_count": 1,
   "id": "ce0907e7",
   "metadata": {
    "vscode": {
     "languageId": "cpp"
    }
   },
   "outputs": [],
   "source": [
    "#include <stack>\n",
    "using namespace std;"
   ]
  },
  {
   "cell_type": "markdown",
   "id": "1654b2a6",
   "metadata": {},
   "source": [
    "### 2. Queue using Stacks"
   ]
  },
  {
   "cell_type": "markdown",
   "id": "add3f947",
   "metadata": {},
   "source": [
    "> Implement Queue data structure using Stacks"
   ]
  },
  {
   "cell_type": "markdown",
   "id": "695af9f4",
   "metadata": {
    "vscode": {
     "languageId": "plaintext"
    }
   },
   "source": [
    "*Leetcode Link:* https://leetcode.com/problems/implement-queue-using-stacks/"
   ]
  },
  {
   "cell_type": "markdown",
   "id": "d996d18a",
   "metadata": {},
   "source": [
    "**Best Possible Solution:**"
   ]
  },
  {
   "cell_type": "markdown",
   "id": "2f06b199",
   "metadata": {
    "vscode": {
     "languageId": "cpp"
    }
   },
   "source": [
    "### Method 1 \n",
    "- Time Complexity:\n",
    "1. push()       O(1)\n",
    "2. pop()        O(n)\n",
    "3. peek()       O(n)\n",
    "4. empty()      O(1)\n",
    "- Space Complexity: \n",
    "1. push()       O(1)\n",
    "2. pop()        O(1)\n",
    "3. peek()       O(1)\n",
    "4. empty()      O(1)"
   ]
  },
  {
   "cell_type": "code",
   "execution_count": 3,
   "id": "b7731696",
   "metadata": {
    "vscode": {
     "languageId": "cpp"
    }
   },
   "outputs": [],
   "source": [
    "class MyQueue {\n",
    "public:\n",
    "    stack<int> stM;\n",
    "    stack<int> sts;\n",
    "    MyQueue() {\n",
    "        \n",
    "    }\n",
    "    \n",
    "    void push(int x) {\n",
    "        stM.push(x);\n",
    "    }\n",
    "    \n",
    "    int pop() {\n",
    "        if(sts.empty())\n",
    "        {\n",
    "            while(!stM.empty())\n",
    "            {\n",
    "                sts.push(stM.top());\n",
    "                stM.pop();\n",
    "            }\n",
    "        }\n",
    "        int temp = sts.top();\n",
    "        sts.pop();\n",
    "        return temp;\n",
    "    }\n",
    "    \n",
    "    int peek() {\n",
    "        if(sts.empty())\n",
    "        {\n",
    "            while(!stM.empty())\n",
    "            {\n",
    "                sts.push(stM.top());\n",
    "                stM.pop();\n",
    "            }\n",
    "        }\n",
    "        return sts.top();\n",
    "\n",
    "    }\n",
    "    \n",
    "    bool empty() {\n",
    "        if(sts.empty() && stM.empty())\n",
    "        return true;\n",
    "        return false;\n",
    "    }\n",
    "};\n",
    "\n",
    "/**\n",
    " * Your MyQueue object will be instantiated and called as such:\n",
    " * MyQueue* obj = new MyQueue();\n",
    " * obj->push(x);\n",
    " * int param_2 = obj->pop();\n",
    " * int param_3 = obj->peek();\n",
    " * bool param_4 = obj->empty();\n",
    " */"
   ]
  },
  {
   "cell_type": "code",
   "execution_count": null,
   "id": "f9eb870f",
   "metadata": {
    "vscode": {
     "languageId": "cpp"
    }
   },
   "outputs": [],
   "source": []
  }
 ],
 "metadata": {
  "kernelspec": {
   "display_name": "C++17",
   "language": "C++17",
   "name": "xcpp17"
  },
  "language_info": {
   "codemirror_mode": "text/x-c++src",
   "file_extension": ".cpp",
   "mimetype": "text/x-c++src",
   "name": "c++",
   "version": "17"
  }
 },
 "nbformat": 4,
 "nbformat_minor": 5
}
