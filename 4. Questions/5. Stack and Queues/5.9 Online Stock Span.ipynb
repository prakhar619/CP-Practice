{
 "cells": [
  {
   "cell_type": "markdown",
   "id": "9200ddb9",
   "metadata": {},
   "source": [
    "#### Chapter 5: Stack and Queues"
   ]
  },
  {
   "cell_type": "code",
   "execution_count": 1,
   "id": "203ef849",
   "metadata": {
    "vscode": {
     "languageId": "cpp"
    }
   },
   "outputs": [],
   "source": [
    "#include <stack>\n",
    "using namespace std;"
   ]
  },
  {
   "cell_type": "markdown",
   "id": "24e17d0d",
   "metadata": {},
   "source": [
    "### 9. Online Stock Span"
   ]
  },
  {
   "cell_type": "markdown",
   "id": "a4d2fa58",
   "metadata": {},
   "source": [
    "> Design an algorithm that collects daily price quotes for some stock and returns the span of that stock's price for the current day.\n",
    "\n",
    "> The span of the stock's price in one day is the maximum number of consecutive days (starting from that day and going backward) for which the stock price was less than or equal to the price of that day."
   ]
  },
  {
   "cell_type": "markdown",
   "id": "54d437ba",
   "metadata": {},
   "source": [
    "*Leetcode Link:* https://leetcode.com/problems/online-stock-span/"
   ]
  },
  {
   "cell_type": "markdown",
   "id": "f3764747",
   "metadata": {},
   "source": [
    "**Best Possible Solution:**"
   ]
  },
  {
   "cell_type": "markdown",
   "id": "c9114900",
   "metadata": {},
   "source": [
    "### Method 1\n",
    "Time Complexity: O(n)  \n",
    "Space Complexity: O(n)"
   ]
  },
  {
   "cell_type": "code",
   "execution_count": 2,
   "id": "7b251fab",
   "metadata": {
    "vscode": {
     "languageId": "cpp"
    }
   },
   "outputs": [],
   "source": [
    "class StockSpanner {\n",
    "public:\n",
    "    stack<pair<int,int>> valIndex;\n",
    "    StockSpanner() {\n",
    "        \n",
    "    }\n",
    "    \n",
    "    int next(int price) {\n",
    "        int dayBack = 1;\n",
    "        while(!valIndex.empty() && valIndex.top().first <= price)\n",
    "        {\n",
    "            dayBack += valIndex.top().second;\n",
    "            valIndex.pop();\n",
    "        }\n",
    "        valIndex.push({price,dayBack});\n",
    "        return dayBack;\n",
    "    }\n",
    "};\n",
    "\n",
    "/**\n",
    " * Your StockSpanner object will be instantiated and called as such:\n",
    " * StockSpanner* obj = new StockSpanner();\n",
    " * int param_1 = obj->next(price);\n",
    " */"
   ]
  },
  {
   "cell_type": "code",
   "execution_count": null,
   "id": "50d88d84",
   "metadata": {
    "vscode": {
     "languageId": "cpp"
    }
   },
   "outputs": [],
   "source": []
  }
 ],
 "metadata": {
  "kernelspec": {
   "display_name": "C++17",
   "language": "C++17",
   "name": "xcpp17"
  },
  "language_info": {
   "codemirror_mode": "text/x-c++src",
   "file_extension": ".cpp",
   "mimetype": "text/x-c++src",
   "name": "c++",
   "version": "17"
  }
 },
 "nbformat": 4,
 "nbformat_minor": 5
}
