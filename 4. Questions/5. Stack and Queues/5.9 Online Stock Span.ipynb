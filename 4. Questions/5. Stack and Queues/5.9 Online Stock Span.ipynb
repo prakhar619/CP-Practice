{
 "cells": [
  {
   "cell_type": "markdown",
   "id": "54d437ba",
   "metadata": {},
   "source": [
    "https://leetcode.com/problems/online-stock-span/"
   ]
  },
  {
   "cell_type": "code",
   "execution_count": null,
   "id": "7b251fab",
   "metadata": {
    "vscode": {
     "languageId": "plaintext"
    }
   },
   "outputs": [],
   "source": [
    "class StockSpanner {\n",
    "public:\n",
    "    stack<pair<int,int>> valIndex;\n",
    "    StockSpanner() {\n",
    "        \n",
    "    }\n",
    "    \n",
    "    int next(int price) {\n",
    "        int dayBack = 1;\n",
    "        while(!valIndex.empty() && valIndex.top().first <= price)\n",
    "        {\n",
    "            dayBack += valIndex.top().second;\n",
    "            valIndex.pop();\n",
    "        }\n",
    "        valIndex.push({price,dayBack});\n",
    "        return dayBack;\n",
    "    }\n",
    "};\n",
    "\n",
    "/**\n",
    " * Your StockSpanner object will be instantiated and called as such:\n",
    " * StockSpanner* obj = new StockSpanner();\n",
    " * int param_1 = obj->next(price);\n",
    " */"
   ]
  }
 ],
 "metadata": {
  "language_info": {
   "name": "python"
  }
 },
 "nbformat": 4,
 "nbformat_minor": 5
}
