{
 "cells": [
  {
   "cell_type": "markdown",
   "id": "5354adb2",
   "metadata": {},
   "source": [
    "#### Chapter 5: Stack and Queues"
   ]
  },
  {
   "cell_type": "code",
   "execution_count": 1,
   "metadata": {
    "vscode": {
     "languageId": "cpp"
    }
   },
   "outputs": [],
   "source": [
    "#include <vector>\n",
    "using namespace std;"
   ]
  },
  {
   "cell_type": "markdown",
   "id": "df747cb5",
   "metadata": {},
   "source": [
    "### 10. Celebrity Problem"
   ]
  },
  {
   "cell_type": "markdown",
   "id": "cffea449",
   "metadata": {},
   "source": [
    "> A person is not a celebrity if he knows someone else. If everyone knows a person, then he can be celebrity."
   ]
  },
  {
   "cell_type": "markdown",
   "id": "a492b274",
   "metadata": {},
   "source": [
    "*Leetcode Link:* https://www.geeksforgeeks.org/problems/the-celebrity-problem/1"
   ]
  },
  {
   "cell_type": "markdown",
   "id": "6c262dcc",
   "metadata": {},
   "source": [
    "**Best Possible Solution:**"
   ]
  },
  {
   "cell_type": "markdown",
   "id": "cf6303ac",
   "metadata": {},
   "source": [
    "### Method 1\n",
    "Time Complexity:   \n",
    "Space Complexity: "
   ]
  },
  {
   "cell_type": "code",
   "execution_count": 2,
   "id": "f1d4f2b3",
   "metadata": {
    "vscode": {
     "languageId": "cpp"
    }
   },
   "outputs": [],
   "source": [
    "class Solution {\n",
    "  public:\n",
    "    int celebrity(vector<vector<int> >& mat) {\n",
    "        // code here\n",
    "        vector<int> isCeleb(mat.size(),1);\n",
    "        \n",
    "        for(int i = 0; i < mat.size(); i++)\n",
    "        {\n",
    "            for(int j = 0; j < mat[i].size(); j++)\n",
    "            {\n",
    "                if(mat[i][j] == 1 && i != j)\n",
    "                {\n",
    "                    isCeleb[i] = 0;\n",
    "                    isCeleb[j] += 1;\n",
    "                }\n",
    "            }\n",
    "        }\n",
    "        \n",
    "        for(int i= 0; i < isCeleb.size(); i++)\n",
    "        {\n",
    "            if(isCeleb[i] == mat.size())\n",
    "            {\n",
    "                return i;\n",
    "            }\n",
    "        }\n",
    "        return -1;\n",
    "        \n",
    "    }\n",
    "};"
   ]
  }
 ],
 "metadata": {
  "kernelspec": {
   "display_name": "C++17",
   "language": "C++17",
   "name": "xcpp17"
  },
  "language_info": {
   "codemirror_mode": "text/x-c++src",
   "file_extension": ".cpp",
   "mimetype": "text/x-c++src",
   "name": "c++",
   "version": "17"
  }
 },
 "nbformat": 4,
 "nbformat_minor": 5
}
