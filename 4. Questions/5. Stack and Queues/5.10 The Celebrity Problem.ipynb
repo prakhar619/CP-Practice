{
 "cells": [
  {
   "cell_type": "code",
   "execution_count": null,
   "id": "f1d4f2b3",
   "metadata": {
    "vscode": {
     "languageId": "plaintext"
    }
   },
   "outputs": [],
   "source": [
    "class Solution {\n",
    "  public:\n",
    "    int celebrity(vector<vector<int> >& mat) {\n",
    "        // code here\n",
    "        vector<int> isCeleb(mat.size(),1);\n",
    "        \n",
    "        for(int i = 0; i < mat.size(); i++)\n",
    "        {\n",
    "            for(int j = 0; j < mat[i].size(); j++)\n",
    "            {\n",
    "                if(mat[i][j] == 1 && i != j)\n",
    "                {\n",
    "                    isCeleb[i] = 0;\n",
    "                    isCeleb[j] += 1;\n",
    "                }\n",
    "            }\n",
    "        }\n",
    "        \n",
    "        for(int i= 0; i < isCeleb.size(); i++)\n",
    "        {\n",
    "            if(isCeleb[i] == mat.size())\n",
    "            {\n",
    "                return i;\n",
    "            }\n",
    "        }\n",
    "        return -1;\n",
    "        \n",
    "    }\n",
    "};"
   ]
  },
  {
   "cell_type": "markdown",
   "id": "a492b274",
   "metadata": {},
   "source": [
    "https://www.geeksforgeeks.org/problems/the-celebrity-problem/1"
   ]
  }
 ],
 "metadata": {
  "language_info": {
   "name": "python"
  }
 },
 "nbformat": 4,
 "nbformat_minor": 5
}
