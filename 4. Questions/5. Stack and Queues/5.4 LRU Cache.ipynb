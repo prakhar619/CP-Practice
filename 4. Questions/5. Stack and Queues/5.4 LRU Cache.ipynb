{
 "cells": [
  {
   "cell_type": "markdown",
   "id": "93c648a9",
   "metadata": {},
   "source": [
    "#### Chapter 5: Stack and Queues"
   ]
  },
  {
   "cell_type": "code",
   "execution_count": 1,
   "id": "830a2828",
   "metadata": {
    "vscode": {
     "languageId": "cpp"
    }
   },
   "outputs": [],
   "source": [
    "#include <unordered_map>\n",
    "#include <list>\n",
    "using namespace std;"
   ]
  },
  {
   "cell_type": "markdown",
   "id": "cb65aed8",
   "metadata": {},
   "source": [
    "### 4. LRU Cache"
   ]
  },
  {
   "cell_type": "markdown",
   "id": "760df4bc",
   "metadata": {},
   "source": [
    "> Construct a Least Recently Used cache system, where capacity of cache is given and all operations take O(1)"
   ]
  },
  {
   "cell_type": "markdown",
   "id": "a9ac8502",
   "metadata": {},
   "source": [
    "*Leetcode Link:* https://leetcode.com/problems/lru-cache/"
   ]
  },
  {
   "cell_type": "markdown",
   "id": "13e1f7cb",
   "metadata": {},
   "source": [
    "**Best Possible Solution:**"
   ]
  },
  {
   "cell_type": "markdown",
   "id": "32d9ad63",
   "metadata": {},
   "source": [
    "### Method 1\n",
    "Time Complexity: O(1)  \n",
    "Space Complexity: O(2n)"
   ]
  },
  {
   "cell_type": "code",
   "execution_count": 2,
   "id": "a057639e",
   "metadata": {
    "vscode": {
     "languageId": "cpp"
    }
   },
   "outputs": [],
   "source": [
    "class LRUCache {\n",
    "public:\n",
    "    list<pair<int,int>> li;\n",
    "    int cap = 0;\n",
    "    unordered_map<int,list<pair<int,int>>::iterator> umap;\n",
    "    LRUCache(int capacity) {\n",
    "        cap = capacity;\n",
    "    }\n",
    "    \n",
    "    int get(int key) {\n",
    "        if(umap.find(key) == umap.end())\n",
    "        return -1;\n",
    "\n",
    "        li.push_front(*umap[key]);\n",
    "        li.erase(umap[key]);\n",
    "        umap[key] = li.begin();\n",
    "        return umap[key]->second;\n",
    "    }\n",
    "    \n",
    "    void put(int key, int value) {\n",
    "        if(umap.find(key) == umap.end())\n",
    "        {\n",
    "        }\n",
    "        else\n",
    "        {\n",
    "            li.erase(umap[key]);\n",
    "            umap.erase(umap.find(key));\n",
    "            cap++;\n",
    "        }\n",
    "\n",
    "        li.push_front({key,value});\n",
    "        umap[key] = li.begin();\n",
    "        cap--;\n",
    "\n",
    "        if(cap < 0)\n",
    "        {\n",
    "            umap.erase(umap.find(li.back().first));\n",
    "            li.pop_back();\n",
    "            cap++;\n",
    "        }\n",
    "    }\n",
    "};\n",
    "\n",
    "/**\n",
    " * Your LRUCache object will be instantiated and called as such:\n",
    " * LRUCache* obj = new LRUCache(capacity);\n",
    " * int param_1 = obj->get(key);\n",
    " * obj->put(key,value);\n",
    " */"
   ]
  },
  {
   "cell_type": "code",
   "execution_count": null,
   "id": "8c52e54e",
   "metadata": {
    "vscode": {
     "languageId": "cpp"
    }
   },
   "outputs": [],
   "source": []
  }
 ],
 "metadata": {
  "kernelspec": {
   "display_name": "C++17",
   "language": "C++17",
   "name": "xcpp17"
  },
  "language_info": {
   "codemirror_mode": "text/x-c++src",
   "file_extension": ".cpp",
   "mimetype": "text/x-c++src",
   "name": "c++",
   "version": "17"
  }
 },
 "nbformat": 4,
 "nbformat_minor": 5
}
