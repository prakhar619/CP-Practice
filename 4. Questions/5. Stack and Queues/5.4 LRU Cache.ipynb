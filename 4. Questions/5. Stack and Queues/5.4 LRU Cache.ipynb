{
 "cells": [
  {
   "cell_type": "code",
   "execution_count": null,
   "id": "a057639e",
   "metadata": {
    "vscode": {
     "languageId": "plaintext"
    }
   },
   "outputs": [],
   "source": [
    "class LRUCache {\n",
    "public:\n",
    "    list<pair<int,int>> li;\n",
    "    int cap = 0;\n",
    "    unordered_map<int,list<pair<int,int>>::iterator> umap;\n",
    "    LRUCache(int capacity) {\n",
    "        cap = capacity;\n",
    "    }\n",
    "    \n",
    "    int get(int key) {\n",
    "        if(umap.find(key) == umap.end())\n",
    "        return -1;\n",
    "\n",
    "        li.push_front(*umap[key]);\n",
    "        li.erase(umap[key]);\n",
    "        umap[key] = li.begin();\n",
    "        return umap[key]->second;\n",
    "    }\n",
    "    \n",
    "    void put(int key, int value) {\n",
    "        if(umap.find(key) == umap.end())\n",
    "        {\n",
    "        }\n",
    "        else\n",
    "        {\n",
    "            li.erase(umap[key]);\n",
    "            umap.erase(umap.find(key));\n",
    "            cap++;\n",
    "        }\n",
    "\n",
    "        li.push_front({key,value});\n",
    "        umap[key] = li.begin();\n",
    "        cap--;\n",
    "\n",
    "        if(cap < 0)\n",
    "        {\n",
    "            umap.erase(umap.find(li.back().first));\n",
    "            li.pop_back();\n",
    "            cap++;\n",
    "        }\n",
    "    }\n",
    "};\n",
    "\n",
    "/**\n",
    " * Your LRUCache object will be instantiated and called as such:\n",
    " * LRUCache* obj = new LRUCache(capacity);\n",
    " * int param_1 = obj->get(key);\n",
    " * obj->put(key,value);\n",
    " */"
   ]
  },
  {
   "cell_type": "markdown",
   "id": "a9ac8502",
   "metadata": {},
   "source": [
    "https://leetcode.com/problems/lru-cache/description/"
   ]
  }
 ],
 "metadata": {
  "language_info": {
   "name": "python"
  }
 },
 "nbformat": 4,
 "nbformat_minor": 5
}
