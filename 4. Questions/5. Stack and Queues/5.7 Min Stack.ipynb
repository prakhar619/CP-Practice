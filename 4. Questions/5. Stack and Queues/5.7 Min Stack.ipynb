{
 "cells": [
  {
   "cell_type": "markdown",
   "id": "34c7f10a",
   "metadata": {},
   "source": [
    "#### Chapter 5: Stack and Queues"
   ]
  },
  {
   "cell_type": "code",
   "execution_count": 1,
   "id": "c7c350dd",
   "metadata": {
    "vscode": {
     "languageId": "cpp"
    }
   },
   "outputs": [],
   "source": [
    "#include <stack>\n",
    "using namespace std;"
   ]
  },
  {
   "cell_type": "markdown",
   "id": "53caca56",
   "metadata": {},
   "source": [
    "### 7. Min Stack"
   ]
  },
  {
   "cell_type": "markdown",
   "id": "8eb89fd3",
   "metadata": {},
   "source": [
    "> Implement the MinStack class:\n",
    "\n",
    ">    MinStack() initializes the stack object.  \n",
    "    void push(int val) pushes the element val onto the stack.  \n",
    "    void pop() removes the element on the top of the stack.  \n",
    "    int top() gets the top element of the stack.  \n",
    "    int getMin() retrieves the minimum element in the stack.  \n",
    "\n",
    "> You must implement a solution with O(1) time complexity for each function."
   ]
  },
  {
   "cell_type": "markdown",
   "id": "bc346138",
   "metadata": {},
   "source": [
    "*Leetcode Link:* https://leetcode.com/problems/min-stack/"
   ]
  },
  {
   "cell_type": "markdown",
   "id": "b146216c",
   "metadata": {},
   "source": [
    "**Best Possible Solution**"
   ]
  },
  {
   "cell_type": "markdown",
   "id": "d21fcf4a",
   "metadata": {},
   "source": [
    "### Method 1:\n",
    "Time Complexity: O(1)  \n",
    "Space Complexity: O(2n)"
   ]
  },
  {
   "cell_type": "code",
   "execution_count": 2,
   "id": "ca2d63be",
   "metadata": {
    "vscode": {
     "languageId": "cpp"
    }
   },
   "outputs": [],
   "source": [
    "class MinStack {\n",
    "public:\n",
    "    stack<int> normalST;\n",
    "    stack<int> minST;\n",
    "    MinStack() {\n",
    "        \n",
    "    }\n",
    "    \n",
    "    void push(int val) {\n",
    "        normalST.push(val);\n",
    "        if(minST.empty() || minST.top() >= val)\n",
    "        minST.push(val);\n",
    "    }\n",
    "    \n",
    "    void pop() {\n",
    "        if(minST.top() == normalST.top())\n",
    "        {\n",
    "            minST.pop();\n",
    "        }\n",
    "        normalST.pop();\n",
    "    }\n",
    "    \n",
    "    int top() {\n",
    "        return normalST.top();\n",
    "    }\n",
    "    \n",
    "    int getMin() {\n",
    "        return minST.top();\n",
    "    }\n",
    "};\n",
    "\n",
    "/**\n",
    " * Your MinStack object will be instantiated and called as such:\n",
    " * MinStack* obj = new MinStack();\n",
    " * obj->push(val);\n",
    " * obj->pop();\n",
    " * int param_3 = obj->top();\n",
    " * int param_4 = obj->getMin();\n",
    " */"
   ]
  },
  {
   "cell_type": "code",
   "execution_count": null,
   "id": "6965a746",
   "metadata": {
    "vscode": {
     "languageId": "cpp"
    }
   },
   "outputs": [],
   "source": []
  }
 ],
 "metadata": {
  "kernelspec": {
   "display_name": "C++17",
   "language": "C++17",
   "name": "xcpp17"
  },
  "language_info": {
   "codemirror_mode": "text/x-c++src",
   "file_extension": ".cpp",
   "mimetype": "text/x-c++src",
   "name": "c++",
   "version": "17"
  }
 },
 "nbformat": 4,
 "nbformat_minor": 5
}
