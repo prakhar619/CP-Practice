{
 "cells": [
  {
   "cell_type": "markdown",
   "id": "bc346138",
   "metadata": {},
   "source": [
    "https://leetcode.com/problems/min-stack/description/"
   ]
  },
  {
   "cell_type": "code",
   "execution_count": null,
   "id": "ca2d63be",
   "metadata": {
    "vscode": {
     "languageId": "plaintext"
    }
   },
   "outputs": [],
   "source": [
    "class MinStack {\n",
    "public:\n",
    "    stack<int> normalST;\n",
    "    stack<int> minST;\n",
    "    MinStack() {\n",
    "        \n",
    "    }\n",
    "    \n",
    "    void push(int val) {\n",
    "        normalST.push(val);\n",
    "        if(minST.empty() || minST.top() >= val)\n",
    "        minST.push(val);\n",
    "    }\n",
    "    \n",
    "    void pop() {\n",
    "        if(minST.top() == normalST.top())\n",
    "        {\n",
    "            minST.pop();\n",
    "        }\n",
    "        normalST.pop();\n",
    "    }\n",
    "    \n",
    "    int top() {\n",
    "        return normalST.top();\n",
    "    }\n",
    "    \n",
    "    int getMin() {\n",
    "        return minST.top();\n",
    "    }\n",
    "};\n",
    "\n",
    "/**\n",
    " * Your MinStack object will be instantiated and called as such:\n",
    " * MinStack* obj = new MinStack();\n",
    " * obj->push(val);\n",
    " * obj->pop();\n",
    " * int param_3 = obj->top();\n",
    " * int param_4 = obj->getMin();\n",
    " */"
   ]
  }
 ],
 "metadata": {
  "language_info": {
   "name": "python"
  }
 },
 "nbformat": 4,
 "nbformat_minor": 5
}
