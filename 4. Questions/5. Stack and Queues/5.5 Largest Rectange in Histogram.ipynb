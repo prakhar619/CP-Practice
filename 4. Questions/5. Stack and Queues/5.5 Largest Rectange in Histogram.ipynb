{
 "cells": [
  {
   "cell_type": "markdown",
   "id": "86283aad",
   "metadata": {},
   "source": [
    "#### Chapter 5: Stack and Queues"
   ]
  },
  {
   "cell_type": "code",
   "execution_count": 3,
   "id": "e2399be0",
   "metadata": {
    "vscode": {
     "languageId": "cpp"
    }
   },
   "outputs": [],
   "source": [
    "#include <vector>\n",
    "#include <stack>\n",
    "#include <utility>\n",
    "using namespace std;"
   ]
  },
  {
   "cell_type": "markdown",
   "id": "ff724df8",
   "metadata": {},
   "source": [
    "### 5. Largest Rectangle In Histogram"
   ]
  },
  {
   "cell_type": "markdown",
   "id": "8052c70d",
   "metadata": {},
   "source": [
    "> Given a vector which acts as histogram based on values at each index, find the largest rectange that can be contructed from vertical bars"
   ]
  },
  {
   "cell_type": "markdown",
   "id": "8baded8b",
   "metadata": {},
   "source": [
    "*Leetcode Link:* https://leetcode.com/problems/largest-rectangle-in-histogram/"
   ]
  },
  {
   "cell_type": "markdown",
   "id": "9b7ba60a",
   "metadata": {
    "vscode": {
     "languageId": "cpp"
    }
   },
   "source": [
    "**Best Possible Solution:**"
   ]
  },
  {
   "cell_type": "markdown",
   "id": "b809261c",
   "metadata": {},
   "source": [
    "### Method 1\n",
    "Time Complexity: O(n)  \n",
    "Space Complexity: O(n)"
   ]
  },
  {
   "cell_type": "code",
   "execution_count": 4,
   "id": "09b2b921",
   "metadata": {
    "vscode": {
     "languageId": "cpp"
    }
   },
   "outputs": [],
   "source": [
    "class Solution {\n",
    "public:\n",
    "    int largestRectangleArea(vector<int>& heights) {\n",
    "        heights.push_back(numeric_limits<int>::min());\n",
    "       int maxRect = numeric_limits<int>::min();\n",
    "\n",
    "       stack<pair<int,int>> indexVal;\n",
    "\n",
    "       for(int i = 0; i < heights.size(); i++)\n",
    "       {\n",
    "            //most easily forgotten rule; adjust index; case: 2 1 2\n",
    "            int minIndex = i;\n",
    "\n",
    "            while(!indexVal.empty() && indexVal.top().second > heights[i])\n",
    "            {\n",
    "                maxRect = max(indexVal.top().second * (i - indexVal.top().first), maxRect);\n",
    "                minIndex = min(minIndex, indexVal.top().first);\n",
    "                indexVal.pop();\n",
    "            }\n",
    "            indexVal.push({minIndex,heights[i]});\n",
    "       } \n",
    "\n",
    "       return maxRect;\n",
    "    }\n",
    "};"
   ]
  },
  {
   "cell_type": "code",
   "execution_count": null,
   "id": "2d036495",
   "metadata": {
    "vscode": {
     "languageId": "cpp"
    }
   },
   "outputs": [],
   "source": []
  }
 ],
 "metadata": {
  "kernelspec": {
   "display_name": "C++17",
   "language": "C++17",
   "name": "xcpp17"
  },
  "language_info": {
   "codemirror_mode": "text/x-c++src",
   "file_extension": ".cpp",
   "mimetype": "text/x-c++src",
   "name": "c++",
   "version": "17"
  }
 },
 "nbformat": 4,
 "nbformat_minor": 5
}
