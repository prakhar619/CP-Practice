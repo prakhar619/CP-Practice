{
 "cells": [
  {
   "cell_type": "code",
   "execution_count": null,
   "id": "09b2b921",
   "metadata": {
    "vscode": {
     "languageId": "plaintext"
    }
   },
   "outputs": [],
   "source": [
    "class Solution {\n",
    "public:\n",
    "    int largestRectangleArea(vector<int>& heights) {\n",
    "        heights.push_back(numeric_limits<int>::min());\n",
    "       int maxRect = numeric_limits<int>::min();\n",
    "\n",
    "       stack<pair<int,int>> indexVal;\n",
    "\n",
    "       for(int i = 0; i < heights.size(); i++)\n",
    "       {\n",
    "            //most easily forgotten rule; adjust index; case: 2 1 2\n",
    "            int minIndex = i;\n",
    "\n",
    "            while(!indexVal.empty() && indexVal.top().second > heights[i])\n",
    "            {\n",
    "                maxRect = max(indexVal.top().second * (i - indexVal.top().first), maxRect);\n",
    "                minIndex = min(minIndex, indexVal.top().first);\n",
    "                indexVal.pop();\n",
    "            }\n",
    "            indexVal.push({minIndex,heights[i]});\n",
    "       } \n",
    "\n",
    "       return maxRect;\n",
    "    }\n",
    "};"
   ]
  },
  {
   "cell_type": "markdown",
   "id": "8baded8b",
   "metadata": {},
   "source": [
    "https://leetcode.com/problems/largest-rectangle-in-histogram/description/"
   ]
  }
 ],
 "metadata": {
  "language_info": {
   "name": "python"
  }
 },
 "nbformat": 4,
 "nbformat_minor": 5
}
