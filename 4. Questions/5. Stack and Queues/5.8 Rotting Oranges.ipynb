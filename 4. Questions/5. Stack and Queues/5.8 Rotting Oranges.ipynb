{
 "cells": [
  {
   "cell_type": "markdown",
   "id": "ca05b6f1",
   "metadata": {},
   "source": [
    "#### Chapter 5: Stack and Queues"
   ]
  },
  {
   "cell_type": "code",
   "execution_count": 1,
   "id": "94676b71",
   "metadata": {
    "vscode": {
     "languageId": "cpp"
    }
   },
   "outputs": [],
   "source": [
    "using namespace std;"
   ]
  },
  {
   "cell_type": "markdown",
   "id": "0701e696",
   "metadata": {},
   "source": [
    "### 8. Rotting Oranges"
   ]
  },
  {
   "cell_type": "markdown",
   "id": "a19bca88",
   "metadata": {},
   "source": [
    "> Give a grid where at some location oranges are given, where each orange can be fresh or rot. Each rotten orange can affect healthy orange adjacent to it after some time unit. After how many time period all oranges will be rotten. If impossible to rot all return -1"
   ]
  },
  {
   "cell_type": "markdown",
   "id": "455f7f59",
   "metadata": {},
   "source": [
    "*Leetcode Link:* https://leetcode.com/problems/rotting-oranges/"
   ]
  },
  {
   "cell_type": "markdown",
   "id": "ed0982de",
   "metadata": {},
   "source": [
    "**Best Possible Solution:**"
   ]
  },
  {
   "cell_type": "markdown",
   "id": "92e09668",
   "metadata": {},
   "source": [
    "### Method 1:\n",
    "Time Complexity: O(n^3)  \n",
    "Space Complexity: O(1)"
   ]
  },
  {
   "cell_type": "code",
   "execution_count": null,
   "id": "3e06e42e",
   "metadata": {
    "vscode": {
     "languageId": "cpp"
    }
   },
   "outputs": [],
   "source": [
    "class Solution {\n",
    "public:\n",
    "    int orangesRotting(vector<vector<int>>& grid) {\n",
    "        bool flg = true;\n",
    "        int time = 0;\n",
    "        bool freshRemaining = false;\n",
    "\n",
    "        //why roundflag was needed\n",
    "        int currentRoundFlg = 1;\n",
    "        while(flg)\n",
    "        {\n",
    "            time+=1;\n",
    "            flg = false;\n",
    "            freshRemaining = false;\n",
    "            for(int i = 0; i < grid.size(); i++)\n",
    "            {\n",
    "                for(int j = 0; j < grid[i].size(); j++)\n",
    "                {\n",
    "                    if(grid[i][j] == 2*currentRoundFlg)\n",
    "                    {\n",
    "                        if(i+1 < grid.size() && grid[i+1][j] == 1) \n",
    "                        {\n",
    "                            grid[i+1][j] = -2*currentRoundFlg; flg = true;\n",
    "                        }\n",
    "                        if(i-1 >= 0 && grid[i-1][j] == 1)\n",
    "                        {\n",
    "                            grid[i-1][j] = -2*currentRoundFlg; flg = true;\n",
    "                        }\n",
    "                        if(j+1 < grid[i].size() && grid[i][j+1] == 1)\n",
    "                        {\n",
    "                            grid[i][j+1] = -2*currentRoundFlg; flg = true;\n",
    "                        }\n",
    "                        if(j-1 >= 0 && grid[i][j-1] == 1)\n",
    "                        {\n",
    "                            grid[i][j-1] = -2*currentRoundFlg; flg = true;\n",
    "                        }\n",
    "                    }\n",
    "                    if(grid[i][j] == 1)\n",
    "                    {\n",
    "                        freshRemaining = true;\n",
    "                    }\n",
    "                }\n",
    "            }\n",
    "            currentRoundFlg *= -1;\n",
    "        }\n",
    "            return (freshRemaining)?-1:(time-1);\n",
    "\n",
    "    }\n",
    "};"
   ]
  }
 ],
 "metadata": {
  "kernelspec": {
   "display_name": "C++17",
   "language": "C++17",
   "name": "xcpp17"
  },
  "language_info": {
   "codemirror_mode": "text/x-c++src",
   "file_extension": ".cpp",
   "mimetype": "text/x-c++src",
   "name": "c++",
   "version": "17"
  }
 },
 "nbformat": 4,
 "nbformat_minor": 5
}
