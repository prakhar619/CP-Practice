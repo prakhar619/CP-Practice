{
 "cells": [
  {
   "cell_type": "code",
   "execution_count": null,
   "id": "3e06e42e",
   "metadata": {
    "vscode": {
     "languageId": "plaintext"
    }
   },
   "outputs": [],
   "source": [
    "class Solution {\n",
    "public:\n",
    "    int orangesRotting(vector<vector<int>>& grid) {\n",
    "        bool flg = true;\n",
    "        int time = 0;\n",
    "        bool freshRemaining = false;\n",
    "\n",
    "        //why roundflag was needed\n",
    "        int currentRoundFlg = 1;\n",
    "        while(flg)\n",
    "        {\n",
    "            time+=1;\n",
    "            flg = false;\n",
    "            freshRemaining = false;\n",
    "            for(int i = 0; i < grid.size(); i++)\n",
    "            {\n",
    "                for(int j = 0; j < grid[i].size(); j++)\n",
    "                {\n",
    "                    if(grid[i][j] == 2*currentRoundFlg)\n",
    "                    {\n",
    "                        if(i+1 < grid.size() && grid[i+1][j] == 1) \n",
    "                        {\n",
    "                            grid[i+1][j] = -2*currentRoundFlg; flg = true;\n",
    "                        }\n",
    "                        if(i-1 >= 0 && grid[i-1][j] == 1)\n",
    "                        {\n",
    "                            grid[i-1][j] = -2*currentRoundFlg; flg = true;\n",
    "                        }\n",
    "                        if(j+1 < grid[i].size() && grid[i][j+1] == 1)\n",
    "                        {\n",
    "                            grid[i][j+1] = -2*currentRoundFlg; flg = true;\n",
    "                        }\n",
    "                        if(j-1 >= 0 && grid[i][j-1] == 1)\n",
    "                        {\n",
    "                            grid[i][j-1] = -2*currentRoundFlg; flg = true;\n",
    "                        }\n",
    "                    }\n",
    "                    if(grid[i][j] == 1)\n",
    "                    {\n",
    "                        freshRemaining = true;\n",
    "                    }\n",
    "                }\n",
    "            }\n",
    "            currentRoundFlg *= -1;\n",
    "        }\n",
    "            return (freshRemaining)?-1:(time-1);\n",
    "\n",
    "    }\n",
    "};"
   ]
  },
  {
   "cell_type": "markdown",
   "id": "455f7f59",
   "metadata": {},
   "source": [
    "https://leetcode.com/problems/rotting-oranges/description/"
   ]
  }
 ],
 "metadata": {
  "language_info": {
   "name": "python"
  }
 },
 "nbformat": 4,
 "nbformat_minor": 5
}
