{
 "cells": [
  {
   "cell_type": "code",
   "execution_count": null,
   "id": "2cf09433",
   "metadata": {
    "vscode": {
     "languageId": "plaintext"
    }
   },
   "outputs": [],
   "source": [
    "//Queue   \n",
    "push()\n",
    "front()\n",
    "empty()\n",
    "pop()\n",
    "size()\n",
    "\n",
    "//Stack\n",
    "push()\n",
    "top()\n",
    "size()\n",
    "empty()\n",
    "pop()\n",
    "\n",
    "//deque"
   ]
  }
 ],
 "metadata": {
  "language_info": {
   "name": "python"
  }
 },
 "nbformat": 4,
 "nbformat_minor": 5
}
