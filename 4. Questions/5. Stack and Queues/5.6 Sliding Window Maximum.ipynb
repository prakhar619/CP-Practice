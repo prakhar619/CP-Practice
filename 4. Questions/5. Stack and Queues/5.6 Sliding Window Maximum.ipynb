{
 "cells": [
  {
   "cell_type": "code",
   "execution_count": null,
   "id": "ebdac04e",
   "metadata": {
    "vscode": {
     "languageId": "plaintext"
    }
   },
   "outputs": [],
   "source": [
    "class Solution {\n",
    "public:\n",
    "    vector<int> maxSlidingWindow(vector<int>& nums, int k) {\n",
    "        priority_queue<pair<int,int>> valIndex;\n",
    "\n",
    "        for(int i = 0; i < k-1; i++)\n",
    "        {\n",
    "            valIndex.push({nums[i],i});\n",
    "        }\n",
    "\n",
    "        vector<int> ans;\n",
    "        for(int i = k-1; i < nums.size(); i++)\n",
    "        {\n",
    "            valIndex.push({nums[i],i});\n",
    "            while(valIndex.top().second <  i - k + 1)\n",
    "            {\n",
    "                valIndex.pop();\n",
    "            }\n",
    "            ans.push_back(valIndex.top().first);\n",
    "        }\n",
    "\n",
    "        return ans;\n",
    "    }\n",
    "};"
   ]
  },
  {
   "cell_type": "code",
   "execution_count": null,
   "id": "82b4bc6b",
   "metadata": {
    "vscode": {
     "languageId": "plaintext"
    }
   },
   "outputs": [],
   "source": [
    "https://leetcode.com/problems/sliding-window-maximum/description/"
   ]
  }
 ],
 "metadata": {
  "language_info": {
   "name": "python"
  }
 },
 "nbformat": 4,
 "nbformat_minor": 5
}
