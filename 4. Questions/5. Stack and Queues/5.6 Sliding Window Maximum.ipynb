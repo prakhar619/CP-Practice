{
 "cells": [
  {
   "cell_type": "markdown",
   "id": "4c5681ea",
   "metadata": {},
   "source": [
    "#### Chapter 5: Stack and Queues"
   ]
  },
  {
   "cell_type": "code",
   "execution_count": 1,
   "id": "8eef2090",
   "metadata": {
    "vscode": {
     "languageId": "cpp"
    }
   },
   "outputs": [],
   "source": [
    "#include <queue>\n",
    "#include <vector>\n",
    "using namespace std;"
   ]
  },
  {
   "cell_type": "markdown",
   "id": "01bc89c2",
   "metadata": {},
   "source": [
    "### 6. Sliding Window Maximum"
   ]
  },
  {
   "cell_type": "markdown",
   "id": "7eea9adb",
   "metadata": {},
   "source": [
    "> Given an array and window size, give maximum value of each window of array. Window is sliding at 1 element per slide"
   ]
  },
  {
   "cell_type": "markdown",
   "id": "82b4bc6b",
   "metadata": {
    "vscode": {
     "languageId": "plaintext"
    }
   },
   "source": [
    "*Leetcode Link:* https://leetcode.com/problems/sliding-window-maximum/"
   ]
  },
  {
   "cell_type": "markdown",
   "id": "3e7d6d72",
   "metadata": {},
   "source": [
    "**Best Possible Solution:**"
   ]
  },
  {
   "cell_type": "markdown",
   "id": "36562adf",
   "metadata": {},
   "source": [
    "### Method 1\n",
    "Time Complexity: O(n)  \n",
    "Space Complexity: O(k)"
   ]
  },
  {
   "cell_type": "code",
   "execution_count": 2,
   "id": "ebdac04e",
   "metadata": {
    "vscode": {
     "languageId": "cpp"
    }
   },
   "outputs": [],
   "source": [
    "class Solution {\n",
    "public:\n",
    "    vector<int> maxSlidingWindow(vector<int>& nums, int k) {\n",
    "        priority_queue<pair<int,int>> valIndex;\n",
    "\n",
    "        for(int i = 0; i < k-1; i++)\n",
    "        {\n",
    "            valIndex.push({nums[i],i});\n",
    "        }\n",
    "\n",
    "        vector<int> ans;\n",
    "        for(int i = k-1; i < nums.size(); i++)\n",
    "        {\n",
    "            valIndex.push({nums[i],i});\n",
    "            while(valIndex.top().second <  i - k + 1)\n",
    "            {\n",
    "                valIndex.pop();\n",
    "            }\n",
    "            ans.push_back(valIndex.top().first);\n",
    "        }\n",
    "\n",
    "        return ans;\n",
    "    }\n",
    "};"
   ]
  }
 ],
 "metadata": {
  "kernelspec": {
   "display_name": "C++17",
   "language": "C++17",
   "name": "xcpp17"
  },
  "language_info": {
   "codemirror_mode": "text/x-c++src",
   "file_extension": ".cpp",
   "mimetype": "text/x-c++src",
   "name": "c++",
   "version": "17"
  }
 },
 "nbformat": 4,
 "nbformat_minor": 5
}
