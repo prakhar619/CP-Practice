{
 "cells": [
  {
   "cell_type": "code",
   "execution_count": null,
   "id": "e82d5cd3",
   "metadata": {
    "vscode": {
     "languageId": "plaintext"
    }
   },
   "outputs": [],
   "source": [
    "class Solution {\n",
    "public:\n",
    "    vector<int> nextGreaterElement(vector<int>& nums1, vector<int>& nums2) {\n",
    "        unordered_map<int,int> umap;\n",
    "        for(int i = 0; i < nums2.size(); i++)\n",
    "        {\n",
    "            umap[nums2[i]] = i;\n",
    "        }\n",
    "\n",
    "        stack<int> st;\n",
    "\n",
    "        for(int i = nums2.size()-1; i >= 0; i--)\n",
    "        {\n",
    "            while(!st.empty() && st.top() < nums2[i])\n",
    "            {\n",
    "                st.pop();\n",
    "            }\n",
    "            if(st.empty())\n",
    "            {\n",
    "                st.push(nums2[i]);\n",
    "                nums2[i] = -1;\n",
    "            }\n",
    "            else\n",
    "            {\n",
    "                int temp = nums2[i];\n",
    "                nums2[i] = st.top();\n",
    "                st.push(temp);\n",
    "            }\n",
    "        }\n",
    "\n",
    "        vector<int> ans;\n",
    "        for(int i: nums1)\n",
    "        {\n",
    "            ans.push_back(nums2[umap[i]]);\n",
    "        }\n",
    "\n",
    "        return ans;\n",
    "    }\n",
    "};"
   ]
  },
  {
   "cell_type": "markdown",
   "id": "5795d099",
   "metadata": {},
   "source": [
    "https://leetcode.com/problems/next-greater-element-i/description/"
   ]
  }
 ],
 "metadata": {
  "language_info": {
   "name": "python"
  }
 },
 "nbformat": 4,
 "nbformat_minor": 5
}
