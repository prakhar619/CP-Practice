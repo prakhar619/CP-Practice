{
 "cells": [
  {
   "cell_type": "markdown",
   "id": "66998060",
   "metadata": {},
   "source": [
    "#### Chapter 5: Stack and Queues"
   ]
  },
  {
   "cell_type": "code",
   "execution_count": null,
   "id": "b400835b",
   "metadata": {
    "vscode": {
     "languageId": "cpp"
    }
   },
   "outputs": [],
   "source": [
    "#include <unordered_map>\n",
    "#include <vector>\n",
    "#include <stack>\n",
    "using namespace std;"
   ]
  },
  {
   "cell_type": "markdown",
   "id": "994666f0",
   "metadata": {},
   "source": [
    "### 3. Next Greater Element I"
   ]
  },
  {
   "cell_type": "markdown",
   "id": "0267ba1b",
   "metadata": {},
   "source": [
    "> Given given two distinct 0-indexed integer arrays nums1 and nums2, where nums1 is a subset of nums2.\n",
    "\n",
    "> For each 0 <= i < nums1.length, find the index j such that nums1[i] == nums2[j] and determine the next greater element of nums2[j] in nums2. If there is no next greater element, then the answer for this query is -1.\n",
    "\n",
    "> Input: nums1 = [4,1,2], nums2 = [1,3,4,2]  \n",
    "Output: [-1,3,-1]"
   ]
  },
  {
   "cell_type": "markdown",
   "id": "5795d099",
   "metadata": {},
   "source": [
    "*Leetcode Link:* https://leetcode.com/problems/next-greater-element-i/"
   ]
  },
  {
   "cell_type": "markdown",
   "id": "539add10",
   "metadata": {},
   "source": [
    "**Best Possible Solution:**"
   ]
  },
  {
   "cell_type": "markdown",
   "id": "501f30a0",
   "metadata": {},
   "source": [
    "### Method 1\n",
    "Time Complexity: O(2n)  \n",
    "Space Complexity: O(2n)"
   ]
  },
  {
   "cell_type": "code",
   "execution_count": 2,
   "id": "e82d5cd3",
   "metadata": {
    "vscode": {
     "languageId": "cpp"
    }
   },
   "outputs": [
    {
     "name": "stderr",
     "output_type": "stream",
     "text": [
      "input_line_9:9:9: error: no template named 'stack'\n",
      "        stack<int> st;\n",
      "        ^\n"
     ]
    },
    {
     "ename": "Interpreter Error",
     "evalue": "",
     "output_type": "error",
     "traceback": [
      "Interpreter Error: "
     ]
    }
   ],
   "source": [
    "class Solution {\n",
    "public:\n",
    "    vector<int> nextGreaterElement(vector<int>& nums1, vector<int>& nums2) {\n",
    "        unordered_map<int,int> umap;\n",
    "        for(int i = 0; i < nums2.size(); i++)\n",
    "        {\n",
    "            umap[nums2[i]] = i;\n",
    "        }\n",
    "\n",
    "        stack<int> st;\n",
    "\n",
    "        for(int i = nums2.size()-1; i >= 0; i--)\n",
    "        {\n",
    "            while(!st.empty() && st.top() < nums2[i])\n",
    "            {\n",
    "                //current top element in stack is smaller; pop find bigger\n",
    "                st.pop();\n",
    "            }\n",
    "\n",
    "\n",
    "            if(st.empty())\n",
    "            {\n",
    "                //no greater element present\n",
    "                st.push(nums2[i]);\n",
    "                nums2[i] = -1;\n",
    "            }\n",
    "            else\n",
    "            {\n",
    "                //found bigger element\n",
    "                int temp = nums2[i];\n",
    "                nums2[i] = st.top();\n",
    "                st.push(temp);\n",
    "            }\n",
    "        }\n",
    "\n",
    "        vector<int> ans;\n",
    "        for(int i: nums1)\n",
    "        {\n",
    "            ans.push_back(nums2[umap[i]]);\n",
    "        }\n",
    "\n",
    "        return ans;\n",
    "    }\n",
    "};"
   ]
  },
  {
   "cell_type": "code",
   "execution_count": null,
   "id": "6828b6ee",
   "metadata": {
    "vscode": {
     "languageId": "cpp"
    }
   },
   "outputs": [],
   "source": []
  }
 ],
 "metadata": {
  "kernelspec": {
   "display_name": "C++17",
   "language": "C++17",
   "name": "xcpp17"
  },
  "language_info": {
   "codemirror_mode": "text/x-c++src",
   "file_extension": ".cpp",
   "mimetype": "text/x-c++src",
   "name": "c++",
   "version": "17"
  }
 },
 "nbformat": 4,
 "nbformat_minor": 5
}
