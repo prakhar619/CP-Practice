{
 "cells": [
  {
   "cell_type": "code",
   "execution_count": null,
   "id": "1f387cb7",
   "metadata": {
    "vscode": {
     "languageId": "plaintext"
    }
   },
   "outputs": [],
   "source": [
    "class MyStack {\n",
    "public:\n",
    "    queue<int> q;\n",
    "    MyStack() {\n",
    "        \n",
    "    }\n",
    "    \n",
    "    void push(int x) {\n",
    "        q.push(x);\n",
    "    }\n",
    "    \n",
    "    int pop() {\n",
    "        int sizeVal = q.size();\n",
    "        while(sizeVal > 1)\n",
    "        {\n",
    "            q.push(q.front());\n",
    "            q.pop();\n",
    "            sizeVal--;\n",
    "        }\n",
    "        int t = q.front();\n",
    "        q.pop();\n",
    "        return t;\n",
    "    }\n",
    "    \n",
    "    int top() {\n",
    "        int sizeVal = q.size();\n",
    "        int prev;\n",
    "        while(sizeVal > 0)\n",
    "        {\n",
    "            q.push(q.front());\n",
    "            prev = q.front();\n",
    "            q.pop();\n",
    "            sizeVal--;\n",
    "        }\n",
    "        return prev;\n",
    "    }\n",
    "    \n",
    "    bool empty() {\n",
    "        return (q.size() == 0)?true: false;\n",
    "    }\n",
    "};\n",
    "\n",
    "/**\n",
    " * Your MyStack object will be instantiated and called as such:\n",
    " * MyStack* obj = new MyStack();\n",
    " * obj->push(x);\n",
    " * int param_2 = obj->pop();\n",
    " * int param_3 = obj->top();\n",
    " * bool param_4 = obj->empty();\n",
    " */"
   ]
  },
  {
   "cell_type": "markdown",
   "id": "7506d4fe",
   "metadata": {},
   "source": [
    "https://leetcode.com/problems/implement-stack-using-queues/"
   ]
  }
 ],
 "metadata": {
  "language_info": {
   "name": "python"
  }
 },
 "nbformat": 4,
 "nbformat_minor": 5
}
