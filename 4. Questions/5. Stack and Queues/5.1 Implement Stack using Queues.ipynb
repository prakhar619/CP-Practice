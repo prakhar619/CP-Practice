{
 "cells": [
  {
   "cell_type": "markdown",
   "id": "3ec3c3e6",
   "metadata": {},
   "source": [
    "#### Chapter 5: Stack and Queue"
   ]
  },
  {
   "cell_type": "code",
   "execution_count": 1,
   "id": "0c5010cd",
   "metadata": {
    "vscode": {
     "languageId": "cpp"
    }
   },
   "outputs": [],
   "source": [
    "#include <queue>\n",
    "using namespace std;"
   ]
  },
  {
   "cell_type": "markdown",
   "id": "eebe1a67",
   "metadata": {},
   "source": [
    "### 1. Stack using Queues"
   ]
  },
  {
   "cell_type": "markdown",
   "id": "cf360ee3",
   "metadata": {},
   "source": [
    "> Implement stack data structure using queue/s as a building block"
   ]
  },
  {
   "cell_type": "markdown",
   "id": "7506d4fe",
   "metadata": {},
   "source": [
    "*Leetcode Link:* https://leetcode.com/problems/implement-stack-using-queues/"
   ]
  },
  {
   "cell_type": "markdown",
   "id": "df994ce7",
   "metadata": {},
   "source": [
    "**Best Possible Solution:**"
   ]
  },
  {
   "cell_type": "markdown",
   "id": "d61534ba",
   "metadata": {},
   "source": [
    "### Method 1\n",
    "- Time Complexity:  \n",
    "1. push()      O(1)\n",
    "2. pop()        O(n)\n",
    "3. top()        O(n)\n",
    "4. empty()      O(1)\n",
    "- Space Complexity: \n",
    "1. push()     O(1)\n",
    "2. pop()      O(1)\n",
    "3. top()      O(1)\n",
    "4. empty()   O(1)"
   ]
  },
  {
   "cell_type": "code",
   "execution_count": 2,
   "id": "1f387cb7",
   "metadata": {
    "vscode": {
     "languageId": "cpp"
    }
   },
   "outputs": [],
   "source": [
    "class MyStack {\n",
    "public:\n",
    "    queue<int> q;\n",
    "    MyStack() {\n",
    "        \n",
    "    }\n",
    "    \n",
    "    void push(int x) {\n",
    "        q.push(x);\n",
    "    }\n",
    "    \n",
    "    int pop() {\n",
    "        int sizeVal = q.size();\n",
    "        while(sizeVal > 1)\n",
    "        {\n",
    "            q.push(q.front());\n",
    "            q.pop();\n",
    "            sizeVal--;\n",
    "        }\n",
    "        int t = q.front();\n",
    "        q.pop();\n",
    "        return t;\n",
    "    }\n",
    "    \n",
    "    int top() {\n",
    "        int sizeVal = q.size();\n",
    "        int prev;\n",
    "        while(sizeVal > 0)\n",
    "        {\n",
    "            q.push(q.front());\n",
    "            prev = q.front();\n",
    "            q.pop();\n",
    "            sizeVal--;\n",
    "        }\n",
    "        return prev;\n",
    "    }\n",
    "    \n",
    "    bool empty() {\n",
    "        return (q.size() == 0)?true: false;\n",
    "    }\n",
    "};\n",
    "\n",
    "/**\n",
    " * Your MyStack object will be instantiated and called as such:\n",
    " * MyStack* obj = new MyStack();\n",
    " * obj->push(x);\n",
    " * int param_2 = obj->pop();\n",
    " * int param_3 = obj->top();\n",
    " * bool param_4 = obj->empty();\n",
    " */"
   ]
  }
 ],
 "metadata": {
  "kernelspec": {
   "display_name": "C++17",
   "language": "C++17",
   "name": "xcpp17"
  },
  "language_info": {
   "codemirror_mode": "text/x-c++src",
   "file_extension": ".cpp",
   "mimetype": "text/x-c++src",
   "name": "c++",
   "version": "17"
  }
 },
 "nbformat": 4,
 "nbformat_minor": 5
}
