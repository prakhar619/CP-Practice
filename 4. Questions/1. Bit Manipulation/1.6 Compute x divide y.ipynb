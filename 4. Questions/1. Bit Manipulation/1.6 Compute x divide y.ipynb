{
 "cells": [
  {
   "cell_type": "markdown",
   "id": "cee9e059",
   "metadata": {},
   "source": [
    "##### Chapter 1: Bit Manipulation"
   ]
  },
  {
   "cell_type": "markdown",
   "id": "ea07cc19",
   "metadata": {},
   "source": [
    "### 6. Compute x/y"
   ]
  },
  {
   "cell_type": "markdown",
   "id": "03e822b5",
   "metadata": {},
   "source": [
    "Using bitwise operation only, compute x/y"
   ]
  },
  {
   "cell_type": "markdown",
   "id": "5cae4618",
   "metadata": {},
   "source": []
  }
 ],
 "metadata": {
  "language_info": {
   "name": "python"
  }
 },
 "nbformat": 4,
 "nbformat_minor": 5
}
