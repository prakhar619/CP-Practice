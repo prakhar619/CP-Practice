{
 "cells": [
  {
   "cell_type": "markdown",
   "id": "cee9e059",
   "metadata": {},
   "source": [
    "##### Chapter 1: Bit Manipulation"
   ]
  },
  {
   "cell_type": "code",
   "execution_count": 1,
   "id": "6a9a4882",
   "metadata": {
    "vscode": {
     "languageId": "cpp"
    }
   },
   "outputs": [],
   "source": [
    "#include <iostream>\n",
    "#include <utility>\n",
    "using namespace std;"
   ]
  },
  {
   "cell_type": "markdown",
   "id": "ea07cc19",
   "metadata": {},
   "source": [
    "### 6. Compute x/y"
   ]
  },
  {
   "cell_type": "markdown",
   "id": "03e822b5",
   "metadata": {},
   "source": [
    "> Using bitwise operation only, compute x/y"
   ]
  },
  {
   "cell_type": "markdown",
   "id": "5cae4618",
   "metadata": {},
   "source": [
    "*Leetcode Link:*"
   ]
  },
  {
   "cell_type": "markdown",
   "id": "5a241fd4",
   "metadata": {},
   "source": [
    "**Best Verfied Solution**"
   ]
  },
  {
   "cell_type": "markdown",
   "id": "3665cabc",
   "metadata": {},
   "source": [
    "### Method 1"
   ]
  },
  {
   "cell_type": "markdown",
   "id": "7f5b1145",
   "metadata": {},
   "source": [
    "Time Complexity: O(max(m,n))  or O(log x)  \n",
    "Space Complexity: O(1)  \n",
    "###### where m and n are no of bits of input"
   ]
  },
  {
   "cell_type": "code",
   "execution_count": 4,
   "id": "1cca662b",
   "metadata": {
    "vscode": {
     "languageId": "cpp"
    }
   },
   "outputs": [
    {
     "name": "stderr",
     "output_type": "stream",
     "text": [
      "input_line_11:4:1: error: function definition is not allowed here\n",
      "{\n",
      "^\n"
     ]
    },
    {
     "ename": "Interpreter Error",
     "evalue": "",
     "output_type": "error",
     "traceback": [
      "Interpreter Error: "
     ]
    }
   ],
   "source": [
    "//Using (divident/divisor) = ((dividient/2) / divisor) * 2\n",
    "pair<int,int> divide(int dividend, int divisor)\n",
    "{\n",
    "    //assert divisor != 0\n",
    "    if(divisor == 0)\n",
    "    {\n",
    "        return {-1,-1};\n",
    "    }\n",
    "\n",
    "    if(dividend == 0)\n",
    "    {\n",
    "        return {0,0};\n",
    "        //quotient, remainder\n",
    "    }\n",
    "\n",
    "    \n",
    "    pair<int,int> subProblem = divide(dividend>>1, divisor);\n",
    "    subProblem.first = subProblem.first << 1;\n",
    "    subProblem.second = subProblem.second << 1;\n",
    "\n",
    "    if((dividend & 1) == 1)\n",
    "    {\n",
    "        subProblem.second += 1;\n",
    "    }\n",
    "\n",
    "    if(subProblem.second >= divisor)\n",
    "    {\n",
    "        subProblem.first +=1;\n",
    "        subProblem.second -= divisor;\n",
    "    }\n",
    "    \n",
    "    return subProblem;\n",
    "}"
   ]
  },
  {
   "cell_type": "code",
   "execution_count": null,
   "id": "1c94b4c6",
   "metadata": {
    "vscode": {
     "languageId": "cpp"
    }
   },
   "outputs": [],
   "source": [
    "int x1 = 100;\n",
    "int x2 = 21;\n",
    "cout << x1/x2 << \" \" << divide(x1,x2).first << endl;"
   ]
  },
  {
   "cell_type": "code",
   "execution_count": null,
   "id": "ec2637f5",
   "metadata": {
    "vscode": {
     "languageId": "cpp"
    }
   },
   "outputs": [],
   "source": []
  }
 ],
 "metadata": {
  "kernelspec": {
   "display_name": "C++17",
   "language": "C++17",
   "name": "xcpp17"
  },
  "language_info": {
   "codemirror_mode": "text/x-c++src",
   "file_extension": ".cpp",
   "mimetype": "text/x-c++src",
   "name": "c++",
   "version": "17"
  }
 },
 "nbformat": 4,
 "nbformat_minor": 5
}
