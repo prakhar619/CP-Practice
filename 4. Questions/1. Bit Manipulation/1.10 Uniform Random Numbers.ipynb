{
 "cells": [
  {
   "cell_type": "markdown",
   "id": "38939df1",
   "metadata": {},
   "source": [
    "Given 2 numbers a and b,  create a random number generator that generates integer numbers between a and b (inclusive) with equal probability, provided you have function which gives 0/1 with equal probability (coin toss)."
   ]
  },
  {
   "cell_type": "markdown",
   "id": "a70337dc",
   "metadata": {},
   "source": [
    "### 10. Uniform Random Number"
   ]
  },
  {
   "cell_type": "markdown",
   "id": "e8f93699",
   "metadata": {},
   "source": [
    "##### Chapter 1: Bit Manipulation"
   ]
  }
 ],
 "metadata": {
  "language_info": {
   "name": "python"
  }
 },
 "nbformat": 4,
 "nbformat_minor": 5
}
