{
 "cells": [
  {
   "cell_type": "markdown",
   "id": "e8f93699",
   "metadata": {},
   "source": [
    "##### Chapter 1: Bit Manipulation"
   ]
  },
  {
   "cell_type": "markdown",
   "id": "a70337dc",
   "metadata": {},
   "source": [
    "### 10. Uniform Random Number"
   ]
  },
  {
   "cell_type": "markdown",
   "id": "38939df1",
   "metadata": {},
   "source": [
    "> Given 2 numbers a and b,  create a random number generator that generates integer numbers between a and b (inclusive) with equal probability, provided you have function which gives 0/1 with equal probability (coin toss)."
   ]
  },
  {
   "cell_type": "markdown",
   "id": "a0340748",
   "metadata": {},
   "source": [
    "*Leetcode Link:* "
   ]
  },
  {
   "cell_type": "markdown",
   "id": "882a69c9",
   "metadata": {
    "vscode": {
     "languageId": "plaintext"
    }
   },
   "source": [
    "**Best Possible Solution:**"
   ]
  }
 ],
 "metadata": {
  "kernelspec": {
   "display_name": "C++17",
   "language": "C++17",
   "name": "xcpp17"
  },
  "language_info": {
   "codemirror_mode": "text/x-c++src",
   "file_extension": ".cpp",
   "mimetype": "text/x-c++src",
   "name": "c++",
   "version": "17"
  }
 },
 "nbformat": 4,
 "nbformat_minor": 5
}
