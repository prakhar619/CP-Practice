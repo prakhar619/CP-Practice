{
 "cells": [
  {
   "cell_type": "markdown",
   "id": "0c385876",
   "metadata": {},
   "source": [
    "## Summary\n",
    "1. Be comfortable with bit operator such &, |, ~, >>, <<, ^\n",
    "2. How to use Mask and create them in machine independent way\n",
    "3. Clear lowermost set bit in O(1)\n",
    "4. Understand signedness and shifting implications\n",
    "5. For brute-force, create lookup tables/caches to optimise time\n",
    "6. Be aware that commutativity and associativity can be used to perform operations in parallel and reorder"
   ]
  },
  {
   "cell_type": "markdown",
   "id": "cea6387a",
   "metadata": {},
   "source": [
    "# Introduction"
   ]
  },
  {
   "cell_type": "code",
   "execution_count": 5,
   "id": "81f70657",
   "metadata": {
    "vscode": {
     "languageId": "cpp"
    }
   },
   "outputs": [],
   "source": [
    "#include <iostream>\n",
    "#include <bitset>\n",
    "using namespace std;"
   ]
  },
  {
   "cell_type": "code",
   "execution_count": 6,
   "id": "ebfc3723",
   "metadata": {
    "vscode": {
     "languageId": "cpp"
    }
   },
   "outputs": [
    {
     "name": "stdout",
     "output_type": "stream",
     "text": [
      "Number:10\n",
      "Binary:00000000000000000000000000001010\n"
     ]
    }
   ],
   "source": [
    "int x = 10;\n",
    "bitset<32> binaryX(x);\n",
    "cout << \"Number:\"<< x << \"\\n\" << \"Binary:\" << binaryX << endl;"
   ]
  },
  {
   "cell_type": "code",
   "execution_count": 7,
   "id": "dbae9263",
   "metadata": {
    "vscode": {
     "languageId": "cpp"
    }
   },
   "outputs": [
    {
     "name": "stdout",
     "output_type": "stream",
     "text": [
      "Number:-10\n",
      "Binary:11111111111111111111111111110110\n"
     ]
    }
   ],
   "source": [
    "int y = -10;\n",
    "bitset<32> binaryY(y);\n",
    "cout << \"Number:\"<< y << \"\\n\" << \"Binary:\" << binaryY << endl;"
   ]
  },
  {
   "cell_type": "markdown",
   "id": "090160f8",
   "metadata": {},
   "source": [
    "## Basic Manipulations"
   ]
  },
  {
   "cell_type": "markdown",
   "id": "942c6f29",
   "metadata": {},
   "source": [
    "### Operations"
   ]
  },
  {
   "cell_type": "code",
   "execution_count": 8,
   "id": "18f2069f",
   "metadata": {
    "vscode": {
     "languageId": "cpp"
    }
   },
   "outputs": [
    {
     "name": "stdout",
     "output_type": "stream",
     "text": [
      "i\tj\t&\t|\t^\t~i\t~j\n",
      "0\t0\t0\t0\t0\t-1\t-1\n",
      "0\t1\t0\t1\t1\t-1\t-2\n",
      "0\t2\t0\t2\t2\t-1\t-3\n",
      "0\t3\t0\t3\t3\t-1\t-4\n",
      "0\t4\t0\t4\t4\t-1\t-5\n",
      "0\t5\t0\t5\t5\t-1\t-6\n",
      "0\t6\t0\t6\t6\t-1\t-7\n",
      "0\t7\t0\t7\t7\t-1\t-8\n",
      "0\t8\t0\t8\t8\t-1\t-9\n",
      "0\t9\t0\t9\t9\t-1\t-10\n",
      "0\t10\t0\t10\t10\t-1\t-11\n",
      "0\t11\t0\t11\t11\t-1\t-12\n",
      "0\t12\t0\t12\t12\t-1\t-13\n",
      "0\t13\t0\t13\t13\t-1\t-14\n",
      "0\t14\t0\t14\t14\t-1\t-15\n",
      "0\t15\t0\t15\t15\t-1\t-16\n",
      "0\t16\t0\t16\t16\t-1\t-17\n",
      "0\t17\t0\t17\t17\t-1\t-18\n",
      "0\t18\t0\t18\t18\t-1\t-19\n",
      "0\t19\t0\t19\t19\t-1\t-20\n",
      "1\t0\t0\t1\t1\t-2\t-1\n",
      "1\t1\t1\t1\t0\t-2\t-2\n",
      "1\t2\t0\t3\t3\t-2\t-3\n",
      "1\t3\t1\t3\t2\t-2\t-4\n",
      "1\t4\t0\t5\t5\t-2\t-5\n",
      "1\t5\t1\t5\t4\t-2\t-6\n",
      "1\t6\t0\t7\t7\t-2\t-7\n",
      "1\t7\t1\t7\t6\t-2\t-8\n",
      "1\t8\t0\t9\t9\t-2\t-9\n",
      "1\t9\t1\t9\t8\t-2\t-10\n",
      "1\t10\t0\t11\t11\t-2\t-11\n",
      "1\t11\t1\t11\t10\t-2\t-12\n",
      "1\t12\t0\t13\t13\t-2\t-13\n",
      "1\t13\t1\t13\t12\t-2\t-14\n",
      "1\t14\t0\t15\t15\t-2\t-15\n",
      "1\t15\t1\t15\t14\t-2\t-16\n",
      "1\t16\t0\t17\t17\t-2\t-17\n",
      "1\t17\t1\t17\t16\t-2\t-18\n",
      "1\t18\t0\t19\t19\t-2\t-19\n",
      "1\t19\t1\t19\t18\t-2\t-20\n",
      "2\t0\t0\t2\t2\t-3\t-1\n",
      "2\t1\t0\t3\t3\t-3\t-2\n",
      "2\t2\t2\t2\t0\t-3\t-3\n",
      "2\t3\t2\t3\t1\t-3\t-4\n",
      "2\t4\t0\t6\t6\t-3\t-5\n",
      "2\t5\t0\t7\t7\t-3\t-6\n",
      "2\t6\t2\t6\t4\t-3\t-7\n",
      "2\t7\t2\t7\t5\t-3\t-8\n",
      "2\t8\t0\t10\t10\t-3\t-9\n",
      "2\t9\t0\t11\t11\t-3\t-10\n",
      "2\t10\t2\t10\t8\t-3\t-11\n",
      "2\t11\t2\t11\t9\t-3\t-12\n",
      "2\t12\t0\t14\t14\t-3\t-13\n",
      "2\t13\t0\t15\t15\t-3\t-14\n",
      "2\t14\t2\t14\t12\t-3\t-15\n",
      "2\t15\t2\t15\t13\t-3\t-16\n",
      "2\t16\t0\t18\t18\t-3\t-17\n",
      "2\t17\t0\t19\t19\t-3\t-18\n",
      "2\t18\t2\t18\t16\t-3\t-19\n",
      "2\t19\t2\t19\t17\t-3\t-20\n",
      "3\t0\t0\t3\t3\t-4\t-1\n",
      "3\t1\t1\t3\t2\t-4\t-2\n",
      "3\t2\t2\t3\t1\t-4\t-3\n",
      "3\t3\t3\t3\t0\t-4\t-4\n",
      "3\t4\t0\t7\t7\t-4\t-5\n",
      "3\t5\t1\t7\t6\t-4\t-6\n",
      "3\t6\t2\t7\t5\t-4\t-7\n",
      "3\t7\t3\t7\t4\t-4\t-8\n",
      "3\t8\t0\t11\t11\t-4\t-9\n",
      "3\t9\t1\t11\t10\t-4\t-10\n",
      "3\t10\t2\t11\t9\t-4\t-11\n",
      "3\t11\t3\t11\t8\t-4\t-12\n",
      "3\t12\t0\t15\t15\t-4\t-13\n",
      "3\t13\t1\t15\t14\t-4\t-14\n",
      "3\t14\t2\t15\t13\t-4\t-15\n",
      "3\t15\t3\t15\t12\t-4\t-16\n",
      "3\t16\t0\t19\t19\t-4\t-17\n",
      "3\t17\t1\t19\t18\t-4\t-18\n",
      "3\t18\t2\t19\t17\t-4\t-19\n",
      "3\t19\t3\t19\t16\t-4\t-20\n",
      "4\t0\t0\t4\t4\t-5\t-1\n",
      "4\t1\t0\t5\t5\t-5\t-2\n",
      "4\t2\t0\t6\t6\t-5\t-3\n",
      "4\t3\t0\t7\t7\t-5\t-4\n",
      "4\t4\t4\t4\t0\t-5\t-5\n",
      "4\t5\t4\t5\t1\t-5\t-6\n",
      "4\t6\t4\t6\t2\t-5\t-7\n",
      "4\t7\t4\t7\t3\t-5\t-8\n",
      "4\t8\t0\t12\t12\t-5\t-9\n",
      "4\t9\t0\t13\t13\t-5\t-10\n",
      "4\t10\t0\t14\t14\t-5\t-11\n",
      "4\t11\t0\t15\t15\t-5\t-12\n",
      "4\t12\t4\t12\t8\t-5\t-13\n",
      "4\t13\t4\t13\t9\t-5\t-14\n",
      "4\t14\t4\t14\t10\t-5\t-15\n",
      "4\t15\t4\t15\t11\t-5\t-16\n",
      "4\t16\t0\t20\t20\t-5\t-17\n",
      "4\t17\t0\t21\t21\t-5\t-18\n",
      "4\t18\t0\t22\t22\t-5\t-19\n",
      "4\t19\t0\t23\t23\t-5\t-20\n",
      "5\t0\t0\t5\t5\t-6\t-1\n",
      "5\t1\t1\t5\t4\t-6\t-2\n",
      "5\t2\t0\t7\t7\t-6\t-3\n",
      "5\t3\t1\t7\t6\t-6\t-4\n",
      "5\t4\t4\t5\t1\t-6\t-5\n",
      "5\t5\t5\t5\t0\t-6\t-6\n",
      "5\t6\t4\t7\t3\t-6\t-7\n",
      "5\t7\t5\t7\t2\t-6\t-8\n",
      "5\t8\t0\t13\t13\t-6\t-9\n",
      "5\t9\t1\t13\t12\t-6\t-10\n",
      "5\t10\t0\t15\t15\t-6\t-11\n",
      "5\t11\t1\t15\t14\t-6\t-12\n",
      "5\t12\t4\t13\t9\t-6\t-13\n",
      "5\t13\t5\t13\t8\t-6\t-14\n",
      "5\t14\t4\t15\t11\t-6\t-15\n",
      "5\t15\t5\t15\t10\t-6\t-16\n",
      "5\t16\t0\t21\t21\t-6\t-17\n",
      "5\t17\t1\t21\t20\t-6\t-18\n",
      "5\t18\t0\t23\t23\t-6\t-19\n",
      "5\t19\t1\t23\t22\t-6\t-20\n",
      "6\t0\t0\t6\t6\t-7\t-1\n",
      "6\t1\t0\t7\t7\t-7\t-2\n",
      "6\t2\t2\t6\t4\t-7\t-3\n",
      "6\t3\t2\t7\t5\t-7\t-4\n",
      "6\t4\t4\t6\t2\t-7\t-5\n",
      "6\t5\t4\t7\t3\t-7\t-6\n",
      "6\t6\t6\t6\t0\t-7\t-7\n",
      "6\t7\t6\t7\t1\t-7\t-8\n",
      "6\t8\t0\t14\t14\t-7\t-9\n",
      "6\t9\t0\t15\t15\t-7\t-10\n",
      "6\t10\t2\t14\t12\t-7\t-11\n",
      "6\t11\t2\t15\t13\t-7\t-12\n",
      "6\t12\t4\t14\t10\t-7\t-13\n",
      "6\t13\t4\t15\t11\t-7\t-14\n",
      "6\t14\t6\t14\t8\t-7\t-15\n",
      "6\t15\t6\t15\t9\t-7\t-16\n",
      "6\t16\t0\t22\t22\t-7\t-17\n",
      "6\t17\t0\t23\t23\t-7\t-18\n",
      "6\t18\t2\t22\t20\t-7\t-19\n",
      "6\t19\t2\t23\t21\t-7\t-20\n",
      "7\t0\t0\t7\t7\t-8\t-1\n",
      "7\t1\t1\t7\t6\t-8\t-2\n",
      "7\t2\t2\t7\t5\t-8\t-3\n",
      "7\t3\t3\t7\t4\t-8\t-4\n",
      "7\t4\t4\t7\t3\t-8\t-5\n",
      "7\t5\t5\t7\t2\t-8\t-6\n",
      "7\t6\t6\t7\t1\t-8\t-7\n",
      "7\t7\t7\t7\t0\t-8\t-8\n",
      "7\t8\t0\t15\t15\t-8\t-9\n",
      "7\t9\t1\t15\t14\t-8\t-10\n",
      "7\t10\t2\t15\t13\t-8\t-11\n",
      "7\t11\t3\t15\t12\t-8\t-12\n",
      "7\t12\t4\t15\t11\t-8\t-13\n",
      "7\t13\t5\t15\t10\t-8\t-14\n",
      "7\t14\t6\t15\t9\t-8\t-15\n",
      "7\t15\t7\t15\t8\t-8\t-16\n",
      "7\t16\t0\t23\t23\t-8\t-17\n",
      "7\t17\t1\t23\t22\t-8\t-18\n",
      "7\t18\t2\t23\t21\t-8\t-19\n",
      "7\t19\t3\t23\t20\t-8\t-20\n",
      "8\t0\t0\t8\t8\t-9\t-1\n",
      "8\t1\t0\t9\t9\t-9\t-2\n",
      "8\t2\t0\t10\t10\t-9\t-3\n",
      "8\t3\t0\t11\t11\t-9\t-4\n",
      "8\t4\t0\t12\t12\t-9\t-5\n",
      "8\t5\t0\t13\t13\t-9\t-6\n",
      "8\t6\t0\t14\t14\t-9\t-7\n",
      "8\t7\t0\t15\t15\t-9\t-8\n",
      "8\t8\t8\t8\t0\t-9\t-9\n",
      "8\t9\t8\t9\t1\t-9\t-10\n",
      "8\t10\t8\t10\t2\t-9\t-11\n",
      "8\t11\t8\t11\t3\t-9\t-12\n",
      "8\t12\t8\t12\t4\t-9\t-13\n",
      "8\t13\t8\t13\t5\t-9\t-14\n",
      "8\t14\t8\t14\t6\t-9\t-15\n",
      "8\t15\t8\t15\t7\t-9\t-16\n",
      "8\t16\t0\t24\t24\t-9\t-17\n",
      "8\t17\t0\t25\t25\t-9\t-18\n",
      "8\t18\t0\t26\t26\t-9\t-19\n",
      "8\t19\t0\t27\t27\t-9\t-20\n",
      "9\t0\t0\t9\t9\t-10\t-1\n",
      "9\t1\t1\t9\t8\t-10\t-2\n",
      "9\t2\t0\t11\t11\t-10\t-3\n",
      "9\t3\t1\t11\t10\t-10\t-4\n",
      "9\t4\t0\t13\t13\t-10\t-5\n",
      "9\t5\t1\t13\t12\t-10\t-6\n",
      "9\t6\t0\t15\t15\t-10\t-7\n",
      "9\t7\t1\t15\t14\t-10\t-8\n",
      "9\t8\t8\t9\t1\t-10\t-9\n",
      "9\t9\t9\t9\t0\t-10\t-10\n",
      "9\t10\t8\t11\t3\t-10\t-11\n",
      "9\t11\t9\t11\t2\t-10\t-12\n",
      "9\t12\t8\t13\t5\t-10\t-13\n",
      "9\t13\t9\t13\t4\t-10\t-14\n",
      "9\t14\t8\t15\t7\t-10\t-15\n",
      "9\t15\t9\t15\t6\t-10\t-16\n",
      "9\t16\t0\t25\t25\t-10\t-17\n",
      "9\t17\t1\t25\t24\t-10\t-18\n",
      "9\t18\t0\t27\t27\t-10\t-19\n",
      "9\t19\t1\t27\t26\t-10\t-20\n",
      "10\t0\t0\t10\t10\t-11\t-1\n",
      "10\t1\t0\t11\t11\t-11\t-2\n",
      "10\t2\t2\t10\t8\t-11\t-3\n",
      "10\t3\t2\t11\t9\t-11\t-4\n",
      "10\t4\t0\t14\t14\t-11\t-5\n",
      "10\t5\t0\t15\t15\t-11\t-6\n",
      "10\t6\t2\t14\t12\t-11\t-7\n",
      "10\t7\t2\t15\t13\t-11\t-8\n",
      "10\t8\t8\t10\t2\t-11\t-9\n",
      "10\t9\t8\t11\t3\t-11\t-10\n",
      "10\t10\t10\t10\t0\t-11\t-11\n",
      "10\t11\t10\t11\t1\t-11\t-12\n",
      "10\t12\t8\t14\t6\t-11\t-13\n",
      "10\t13\t8\t15\t7\t-11\t-14\n",
      "10\t14\t10\t14\t4\t-11\t-15\n",
      "10\t15\t10\t15\t5\t-11\t-16\n",
      "10\t16\t0\t26\t26\t-11\t-17\n",
      "10\t17\t0\t27\t27\t-11\t-18\n",
      "10\t18\t2\t26\t24\t-11\t-19\n",
      "10\t19\t2\t27\t25\t-11\t-20\n",
      "11\t0\t0\t11\t11\t-12\t-1\n",
      "11\t1\t1\t11\t10\t-12\t-2\n",
      "11\t2\t2\t11\t9\t-12\t-3\n",
      "11\t3\t3\t11\t8\t-12\t-4\n",
      "11\t4\t0\t15\t15\t-12\t-5\n",
      "11\t5\t1\t15\t14\t-12\t-6\n",
      "11\t6\t2\t15\t13\t-12\t-7\n",
      "11\t7\t3\t15\t12\t-12\t-8\n",
      "11\t8\t8\t11\t3\t-12\t-9\n",
      "11\t9\t9\t11\t2\t-12\t-10\n",
      "11\t10\t10\t11\t1\t-12\t-11\n",
      "11\t11\t11\t11\t0\t-12\t-12\n",
      "11\t12\t8\t15\t7\t-12\t-13\n",
      "11\t13\t9\t15\t6\t-12\t-14\n",
      "11\t14\t10\t15\t5\t-12\t-15\n",
      "11\t15\t11\t15\t4\t-12\t-16\n",
      "11\t16\t0\t27\t27\t-12\t-17\n",
      "11\t17\t1\t27\t26\t-12\t-18\n",
      "11\t18\t2\t27\t25\t-12\t-19\n",
      "11\t19\t3\t27\t24\t-12\t-20\n",
      "12\t0\t0\t12\t12\t-13\t-1\n",
      "12\t1\t0\t13\t13\t-13\t-2\n",
      "12\t2\t0\t14\t14\t-13\t-3\n",
      "12\t3\t0\t15\t15\t-13\t-4\n",
      "12\t4\t4\t12\t8\t-13\t-5\n",
      "12\t5\t4\t13\t9\t-13\t-6\n",
      "12\t6\t4\t14\t10\t-13\t-7\n",
      "12\t7\t4\t15\t11\t-13\t-8\n",
      "12\t8\t8\t12\t4\t-13\t-9\n",
      "12\t9\t8\t13\t5\t-13\t-10\n",
      "12\t10\t8\t14\t6\t-13\t-11\n",
      "12\t11\t8\t15\t7\t-13\t-12\n",
      "12\t12\t12\t12\t0\t-13\t-13\n",
      "12\t13\t12\t13\t1\t-13\t-14\n",
      "12\t14\t12\t14\t2\t-13\t-15\n",
      "12\t15\t12\t15\t3\t-13\t-16\n",
      "12\t16\t0\t28\t28\t-13\t-17\n",
      "12\t17\t0\t29\t29\t-13\t-18\n",
      "12\t18\t0\t30\t30\t-13\t-19\n",
      "12\t19\t0\t31\t31\t-13\t-20\n",
      "13\t0\t0\t13\t13\t-14\t-1\n",
      "13\t1\t1\t13\t12\t-14\t-2\n",
      "13\t2\t0\t15\t15\t-14\t-3\n",
      "13\t3\t1\t15\t14\t-14\t-4\n",
      "13\t4\t4\t13\t9\t-14\t-5\n",
      "13\t5\t5\t13\t8\t-14\t-6\n",
      "13\t6\t4\t15\t11\t-14\t-7\n",
      "13\t7\t5\t15\t10\t-14\t-8\n",
      "13\t8\t8\t13\t5\t-14\t-9\n",
      "13\t9\t9\t13\t4\t-14\t-10\n",
      "13\t10\t8\t15\t7\t-14\t-11\n",
      "13\t11\t9\t15\t6\t-14\t-12\n",
      "13\t12\t12\t13\t1\t-14\t-13\n",
      "13\t13\t13\t13\t0\t-14\t-14\n",
      "13\t14\t12\t15\t3\t-14\t-15\n",
      "13\t15\t13\t15\t2\t-14\t-16\n",
      "13\t16\t0\t29\t29\t-14\t-17\n",
      "13\t17\t1\t29\t28\t-14\t-18\n",
      "13\t18\t0\t31\t31\t-14\t-19\n",
      "13\t19\t1\t31\t30\t-14\t-20\n",
      "14\t0\t0\t14\t14\t-15\t-1\n",
      "14\t1\t0\t15\t15\t-15\t-2\n",
      "14\t2\t2\t14\t12\t-15\t-3\n",
      "14\t3\t2\t15\t13\t-15\t-4\n",
      "14\t4\t4\t14\t10\t-15\t-5\n",
      "14\t5\t4\t15\t11\t-15\t-6\n",
      "14\t6\t6\t14\t8\t-15\t-7\n",
      "14\t7\t6\t15\t9\t-15\t-8\n",
      "14\t8\t8\t14\t6\t-15\t-9\n",
      "14\t9\t8\t15\t7\t-15\t-10\n",
      "14\t10\t10\t14\t4\t-15\t-11\n",
      "14\t11\t10\t15\t5\t-15\t-12\n",
      "14\t12\t12\t14\t2\t-15\t-13\n",
      "14\t13\t12\t15\t3\t-15\t-14\n",
      "14\t14\t14\t14\t0\t-15\t-15\n",
      "14\t15\t14\t15\t1\t-15\t-16\n",
      "14\t16\t0\t30\t30\t-15\t-17\n",
      "14\t17\t0\t31\t31\t-15\t-18\n",
      "14\t18\t2\t30\t28\t-15\t-19\n",
      "14\t19\t2\t31\t29\t-15\t-20\n",
      "15\t0\t0\t15\t15\t-16\t-1\n",
      "15\t1\t1\t15\t14\t-16\t-2\n",
      "15\t2\t2\t15\t13\t-16\t-3\n",
      "15\t3\t3\t15\t12\t-16\t-4\n",
      "15\t4\t4\t15\t11\t-16\t-5\n",
      "15\t5\t5\t15\t10\t-16\t-6\n",
      "15\t6\t6\t15\t9\t-16\t-7\n",
      "15\t7\t7\t15\t8\t-16\t-8\n",
      "15\t8\t8\t15\t7\t-16\t-9\n",
      "15\t9\t9\t15\t6\t-16\t-10\n",
      "15\t10\t10\t15\t5\t-16\t-11\n",
      "15\t11\t11\t15\t4\t-16\t-12\n",
      "15\t12\t12\t15\t3\t-16\t-13\n",
      "15\t13\t13\t15\t2\t-16\t-14\n",
      "15\t14\t14\t15\t1\t-16\t-15\n",
      "15\t15\t15\t15\t0\t-16\t-16\n",
      "15\t16\t0\t31\t31\t-16\t-17\n",
      "15\t17\t1\t31\t30\t-16\t-18\n",
      "15\t18\t2\t31\t29\t-16\t-19\n",
      "15\t19\t3\t31\t28\t-16\t-20\n",
      "16\t0\t0\t16\t16\t-17\t-1\n",
      "16\t1\t0\t17\t17\t-17\t-2\n",
      "16\t2\t0\t18\t18\t-17\t-3\n",
      "16\t3\t0\t19\t19\t-17\t-4\n",
      "16\t4\t0\t20\t20\t-17\t-5\n",
      "16\t5\t0\t21\t21\t-17\t-6\n",
      "16\t6\t0\t22\t22\t-17\t-7\n",
      "16\t7\t0\t23\t23\t-17\t-8\n",
      "16\t8\t0\t24\t24\t-17\t-9\n",
      "16\t9\t0\t25\t25\t-17\t-10\n",
      "16\t10\t0\t26\t26\t-17\t-11\n",
      "16\t11\t0\t27\t27\t-17\t-12\n",
      "16\t12\t0\t28\t28\t-17\t-13\n",
      "16\t13\t0\t29\t29\t-17\t-14\n",
      "16\t14\t0\t30\t30\t-17\t-15\n",
      "16\t15\t0\t31\t31\t-17\t-16\n",
      "16\t16\t16\t16\t0\t-17\t-17\n",
      "16\t17\t16\t17\t1\t-17\t-18\n",
      "16\t18\t16\t18\t2\t-17\t-19\n",
      "16\t19\t16\t19\t3\t-17\t-20\n",
      "17\t0\t0\t17\t17\t-18\t-1\n",
      "17\t1\t1\t17\t16\t-18\t-2\n",
      "17\t2\t0\t19\t19\t-18\t-3\n",
      "17\t3\t1\t19\t18\t-18\t-4\n",
      "17\t4\t0\t21\t21\t-18\t-5\n",
      "17\t5\t1\t21\t20\t-18\t-6\n",
      "17\t6\t0\t23\t23\t-18\t-7\n",
      "17\t7\t1\t23\t22\t-18\t-8\n",
      "17\t8\t0\t25\t25\t-18\t-9\n",
      "17\t9\t1\t25\t24\t-18\t-10\n",
      "17\t10\t0\t27\t27\t-18\t-11\n",
      "17\t11\t1\t27\t26\t-18\t-12\n",
      "17\t12\t0\t29\t29\t-18\t-13\n",
      "17\t13\t1\t29\t28\t-18\t-14\n",
      "17\t14\t0\t31\t31\t-18\t-15\n",
      "17\t15\t1\t31\t30\t-18\t-16\n",
      "17\t16\t16\t17\t1\t-18\t-17\n",
      "17\t17\t17\t17\t0\t-18\t-18\n",
      "17\t18\t16\t19\t3\t-18\t-19\n",
      "17\t19\t17\t19\t2\t-18\t-20\n",
      "18\t0\t0\t18\t18\t-19\t-1\n",
      "18\t1\t0\t19\t19\t-19\t-2\n",
      "18\t2\t2\t18\t16\t-19\t-3\n",
      "18\t3\t2\t19\t17\t-19\t-4\n",
      "18\t4\t0\t22\t22\t-19\t-5\n",
      "18\t5\t0\t23\t23\t-19\t-6\n",
      "18\t6\t2\t22\t20\t-19\t-7\n",
      "18\t7\t2\t23\t21\t-19\t-8\n",
      "18\t8\t0\t26\t26\t-19\t-9\n",
      "18\t9\t0\t27\t27\t-19\t-10\n",
      "18\t10\t2\t26\t24\t-19\t-11\n",
      "18\t11\t2\t27\t25\t-19\t-12\n",
      "18\t12\t0\t30\t30\t-19\t-13\n",
      "18\t13\t0\t31\t31\t-19\t-14\n",
      "18\t14\t2\t30\t28\t-19\t-15\n",
      "18\t15\t2\t31\t29\t-19\t-16\n",
      "18\t16\t16\t18\t2\t-19\t-17\n",
      "18\t17\t16\t19\t3\t-19\t-18\n",
      "18\t18\t18\t18\t0\t-19\t-19\n",
      "18\t19\t18\t19\t1\t-19\t-20\n",
      "19\t0\t0\t19\t19\t-20\t-1\n",
      "19\t1\t1\t19\t18\t-20\t-2\n",
      "19\t2\t2\t19\t17\t-20\t-3\n",
      "19\t3\t3\t19\t16\t-20\t-4\n",
      "19\t4\t0\t23\t23\t-20\t-5\n",
      "19\t5\t1\t23\t22\t-20\t-6\n",
      "19\t6\t2\t23\t21\t-20\t-7\n",
      "19\t7\t3\t23\t20\t-20\t-8\n",
      "19\t8\t0\t27\t27\t-20\t-9\n",
      "19\t9\t1\t27\t26\t-20\t-10\n",
      "19\t10\t2\t27\t25\t-20\t-11\n",
      "19\t11\t3\t27\t24\t-20\t-12\n",
      "19\t12\t0\t31\t31\t-20\t-13\n",
      "19\t13\t1\t31\t30\t-20\t-14\n",
      "19\t14\t2\t31\t29\t-20\t-15\n",
      "19\t15\t3\t31\t28\t-20\t-16\n",
      "19\t16\t16\t19\t3\t-20\t-17\n",
      "19\t17\t17\t19\t2\t-20\t-18\n",
      "19\t18\t18\t19\t1\t-20\t-19\n",
      "19\t19\t19\t19\t0\t-20\t-20\n"
     ]
    }
   ],
   "source": [
    "//Pattern recognition in bitwise operations\n",
    "cout << \"i\" << \"\\tj\" << \"\\t&\" << \"\\t|\" << \"\\t^\" << \"\\t~i\" << \"\\t~j\" << endl;\n",
    "for (int i = 0; i < 20; i++) \n",
    "{\n",
    "    for(int j = 0; j < 20; j++)\n",
    "    {\n",
    "        //if((i^j)== (i|j))\n",
    "        cout <<i << \"\\t\" << j  << \"\\t\" << (i&j)  << \"\\t\" << (i|j) << \"\\t\" << (i^j) << \"\\t\" << (~i) << \"\\t\" << (~j) << endl;\n",
    "    }\n",
    "}"
   ]
  },
  {
   "cell_type": "markdown",
   "id": "fb187fee",
   "metadata": {},
   "source": [
    "Points\n",
    "1. i&j < i or j \n",
    "2. i|j can be greater than max(i,j)\n",
    "3. ^ is xor op\n",
    "3. 0^any number = any number            \n",
    "4. number1 ^ number1 = 0\n",
    "5. Associative and commutative\n",
    "6. Precedence: ~ > (<< or >>) > & > ^ > |"
   ]
  },
  {
   "cell_type": "markdown",
   "id": "838858c9",
   "metadata": {},
   "source": [
    "### 1. Setting the High Least Significant Bit to Low"
   ]
  },
  {
   "cell_type": "code",
   "execution_count": 9,
   "id": "c45fd941",
   "metadata": {
    "vscode": {
     "languageId": "cpp"
    }
   },
   "outputs": [
    {
     "name": "stdout",
     "output_type": "stream",
     "text": [
      "Number:18\tBinary:00000000000000000000000000010010\n",
      "Number:16\tBinary:00000000000000000000000000010000\n"
     ]
    }
   ],
   "source": [
    "int x = 18;\n",
    "bitset<32> binaryX(x);\n",
    "int y = x & (x-1);\n",
    "bitset<32> binaryY(y);\n",
    "cout << \"Number:\"<< x << \"\\t\" << \"Binary:\" << binaryX << endl;\n",
    "cout << \"Number:\"<< y << \"\\t\" << \"Binary:\" << binaryY << endl;"
   ]
  },
  {
   "cell_type": "markdown",
   "id": "bd56056b",
   "metadata": {
    "vscode": {
     "languageId": "cpp"
    }
   },
   "source": [
    "### 2. Propogate Rightmost Set Bit"
   ]
  },
  {
   "cell_type": "code",
   "execution_count": 10,
   "id": "82fa4f21",
   "metadata": {
    "vscode": {
     "languageId": "cpp"
    }
   },
   "outputs": [
    {
     "name": "stdout",
     "output_type": "stream",
     "text": [
      "Number:18\tBinary:00000000000000000000000000010010\n",
      "Number:19\tBinary:00000000000000000000000000010011\n"
     ]
    }
   ],
   "source": [
    "int x = 18;\n",
    "bitset<32> binaryX(x);\n",
    "int y = x | (x-1);\n",
    "bitset<32> binaryY(y);\n",
    "cout << \"Number:\"<< x << \"\\t\" << \"Binary:\" << binaryX << endl;\n",
    "cout << \"Number:\"<< y << \"\\t\" << \"Binary:\" << binaryY << endl;"
   ]
  },
  {
   "cell_type": "markdown",
   "id": "3b27252a",
   "metadata": {},
   "source": [
    "### 3. Compute x modulo a power of 2. \n",
    "Eg: Return 13 for 77 mod 64"
   ]
  },
  {
   "cell_type": "code",
   "execution_count": 11,
   "id": "a24ca958",
   "metadata": {
    "vscode": {
     "languageId": "cpp"
    }
   },
   "outputs": [
    {
     "name": "stdout",
     "output_type": "stream",
     "text": [
      "Number:77\tBinary:00000000000000000000000001001101\n",
      "Number:64\tBinary:00000000000000000000000001000000\n",
      "Number:13\tBinary:00000000000000000000000000001101\n"
     ]
    }
   ],
   "source": [
    "int x = 77;\n",
    "bitset<32> binaryX(x);\n",
    "int y = 64;\n",
    "bitset<32> binaryY(y);\n",
    "int z = 13;\n",
    "bitset<32> binaryZ(z);\n",
    "cout << \"Number:\"<< x << \"\\t\" << \"Binary:\" << binaryX << endl;\n",
    "cout << \"Number:\"<< y << \"\\t\" << \"Binary:\" << binaryY << endl;\n",
    "cout << \"Number:\"<< z << \"\\t\" << \"Binary:\" << binaryZ << endl;"
   ]
  },
  {
   "cell_type": "code",
   "execution_count": 12,
   "id": "8553586d",
   "metadata": {
    "vscode": {
     "languageId": "cpp"
    }
   },
   "outputs": [
    {
     "name": "stdout",
     "output_type": "stream",
     "text": [
      "Number:77\tBinary:00000000000000000000000001001101\n",
      "Number:64\tBinary:00000000000000000000000001000000\n",
      "Number:13\tBinary:00000000000000000000000000001101\n"
     ]
    }
   ],
   "source": [
    "// LeftMost Set Bit to Low\n",
    "int x = 77;\n",
    "bitset<32> binaryX(x);\n",
    "int y = 64;\n",
    "bitset<32> binaryY(y);\n",
    "int z = (77 << (32 - (int)log2(y))) >> (32 - (int)log2(y));\n",
    "bitset<32> binaryZ(z);\n",
    "cout << \"Number:\"<< x << \"\\t\" << \"Binary:\" << binaryX << endl;\n",
    "cout << \"Number:\"<< y << \"\\t\" << \"Binary:\" << binaryY << endl;\n",
    "cout << \"Number:\"<< z << \"\\t\" << \"Binary:\" << binaryZ << endl;"
   ]
  },
  {
   "cell_type": "markdown",
   "id": "550be4bf",
   "metadata": {},
   "source": [
    "### 4. Test if x is Power of 2"
   ]
  },
  {
   "cell_type": "code",
   "execution_count": 13,
   "id": "cf76a1ee",
   "metadata": {
    "vscode": {
     "languageId": "cpp"
    }
   },
   "outputs": [
    {
     "name": "stdout",
     "output_type": "stream",
     "text": [
      "Number:77\tBinary:00000000000000000000000001001101\n",
      "Number:76\tBinary:00000000000000000000000001001100\n",
      "Is Power of Two: 0\n"
     ]
    }
   ],
   "source": [
    "int x = 77;\n",
    "bitset<32> binaryX(x);\n",
    "int y = x & (x-1);\n",
    "bitset<32> binaryY(y);\n",
    "bool isPowerOfTwo = y == 0;\n",
    "cout << \"Number:\"<< x << \"\\t\" << \"Binary:\" << binaryX << endl;\n",
    "cout << \"Number:\"<< y << \"\\t\" << \"Binary:\" << binaryY << endl;\n",
    "// Zero means False \n",
    "// One means True\n",
    "cout << \"Is Power of Two: \" << isPowerOfTwo << endl;"
   ]
  },
  {
   "cell_type": "markdown",
   "id": "6a271119",
   "metadata": {},
   "source": [
    "### 5. Count number of Bit set to 1"
   ]
  },
  {
   "cell_type": "code",
   "execution_count": 14,
   "id": "93d49b16",
   "metadata": {
    "vscode": {
     "languageId": "cpp"
    }
   },
   "outputs": [],
   "source": [
    "int countSetBits(int n)\n",
    "{\n",
    "    int numSetBits = 0;\n",
    "    while(n != 0)\n",
    "    {\n",
    "        numSetBits += (n & 1);\n",
    "        n >>= 1;\n",
    "    }\n",
    "    return numSetBits;\n",
    "}"
   ]
  },
  {
   "cell_type": "code",
   "execution_count": 16,
   "id": "47012a6b",
   "metadata": {
    "vscode": {
     "languageId": "cpp"
    }
   },
   "outputs": [
    {
     "name": "stdout",
     "output_type": "stream",
     "text": [
      "Input:77\tBinary Representation:00000000000000000000000001001101\tOutput:4\n"
     ]
    }
   ],
   "source": [
    "int input = 77;\n",
    "int output = countSetBits(input);\n",
    "bitset<32> binaryAns(input);\n",
    "cout << \"Input:\" << input << \"\\tBinary Representation:\" << binaryAns << \"\\tOutput:\" << output << endl;"
   ]
  },
  {
   "cell_type": "markdown",
   "id": "76499378",
   "metadata": {},
   "source": [
    "### Notes"
   ]
  },
  {
   "cell_type": "markdown",
   "id": "3136145c",
   "metadata": {},
   "source": [
    "#### 1. Know datatype limits and how to use them"
   ]
  },
  {
   "cell_type": "code",
   "execution_count": 21,
   "id": "4ba95038",
   "metadata": {
    "vscode": {
     "languageId": "cpp"
    }
   },
   "outputs": [
    {
     "name": "stdout",
     "output_type": "stream",
     "text": [
      "2147483647\n",
      "-2147483648\n"
     ]
    }
   ],
   "source": [
    "#include <climits>\n",
    "cout << INT_MAX << endl;\n",
    "cout << INT_MIN << endl;"
   ]
  },
  {
   "cell_type": "code",
   "execution_count": 22,
   "id": "1ae85293",
   "metadata": {
    "vscode": {
     "languageId": "cpp"
    }
   },
   "outputs": [
    {
     "name": "stdout",
     "output_type": "stream",
     "text": [
      "2147483647\n",
      "-2147483648\n",
      "1.79769e+308\n",
      "2.22507e-308\n",
      "9223372036854775807\n",
      "-9223372036854775808\n"
     ]
    }
   ],
   "source": [
    "#include <limits>\n",
    "cout << numeric_limits<int>::max() << endl;\n",
    "cout << numeric_limits<int>::min() << endl;\n",
    "\n",
    "cout << numeric_limits<double>::max() << endl;\n",
    "cout << numeric_limits<double>::min() << endl;\n",
    "\n",
    "cout << numeric_limits<long long>::max() << endl;\n",
    "cout << numeric_limits<long long>::min() << endl;"
   ]
  },
  {
   "cell_type": "markdown",
   "id": "abeddd3d",
   "metadata": {},
   "source": [
    "#### 2. Know what kind of values can datatypes hold"
   ]
  },
  {
   "cell_type": "code",
   "execution_count": 32,
   "id": "829a4625",
   "metadata": {
    "vscode": {
     "languageId": "cpp"
    }
   },
   "outputs": [
    {
     "name": "stdout",
     "output_type": "stream",
     "text": [
      "Not a Number(NaN) :nan\n",
      "Positive Infinite :inf\n",
      "Negative Infinite :-inf\n"
     ]
    }
   ],
   "source": [
    "#include <limits>\n",
    "float nan_val = std::numeric_limits<float>::quiet_NaN();\n",
    "float inf_val = std::numeric_limits<float>::infinity();\n",
    "float neg_inf_val = -std::numeric_limits<float>::infinity();\n",
    "cout << \"Not a Number(NaN) :\" << nan_val << endl;\n",
    "cout << \"Positive Infinite :\" << inf_val << endl;\n",
    "cout << \"Negative Infinite :\" << neg_inf_val << endl;"
   ]
  },
  {
   "cell_type": "code",
   "execution_count": 33,
   "id": "461722bd",
   "metadata": {
    "vscode": {
     "languageId": "cpp"
    }
   },
   "outputs": [
    {
     "name": "stdout",
     "output_type": "stream",
     "text": [
      "Not a Number(NaN) :nan\n",
      "Positive Infinite :inf\n",
      "Negative Infinite :-inf\n"
     ]
    }
   ],
   "source": [
    "float nan_val = 0.0f / 0.0f;\n",
    "float inf_val = 1.0f / 0.0f;\n",
    "float neg_inf_val = -1.0f / 0.0f;\n",
    "cout << \"Not a Number(NaN) :\" << nan_val << endl;\n",
    "cout << \"Positive Infinite :\" << inf_val << endl;\n",
    "cout << \"Negative Infinite :\" << neg_inf_val << endl;"
   ]
  },
  {
   "cell_type": "markdown",
   "id": "0181f0b7",
   "metadata": {
    "vscode": {
     "languageId": "cpp"
    }
   },
   "source": [
    "####  3. Know how to compare numbers"
   ]
  },
  {
   "cell_type": "code",
   "execution_count": 62,
   "id": "46069176",
   "metadata": {
    "vscode": {
     "languageId": "cpp"
    }
   },
   "outputs": [
    {
     "name": "stderr",
     "output_type": "stream",
     "text": [
      "input_line_101:3:12: warning: magnitude of floating-point constant too small for type 'double'; minimum is 4.9406564584124654E-324 [-Wliteral-range]\n",
      "double y = 1e-330;\n",
      "           ^\n",
      "input_line_101:5:24: warning: magnitude of floating-point constant too small for type 'double'; minimum is 4.9406564584124654E-324 [-Wliteral-range]\n",
      "cout << (fabs(x - y) < 1e-340) << endl;\n",
      "                       ^\n"
     ]
    },
    {
     "name": "stdout",
     "output_type": "stream",
     "text": [
      "1\n",
      "0\n"
     ]
    }
   ],
   "source": [
    "#include <cmath>\n",
    "double x = 0.00000;\n",
    "double y = 1e-330;\n",
    "cout << (x == y) << endl;\n",
    "cout << (fabs(x - y) < 1e-340) << endl;"
   ]
  },
  {
   "cell_type": "markdown",
   "id": "d05e4c94",
   "metadata": {},
   "source": [
    "#### 4. Convert number to char and numbers to string and vice versa"
   ]
  },
  {
   "cell_type": "code",
   "execution_count": null,
   "id": "a26b8f87",
   "metadata": {
    "vscode": {
     "languageId": "cpp"
    }
   },
   "outputs": [],
   "source": [
    "//static_cast always converts from char to ascii_int and ascii_int to char\n",
    "//Always adjust of this"
   ]
  },
  {
   "cell_type": "code",
   "execution_count": 69,
   "id": "85e41b81",
   "metadata": {
    "vscode": {
     "languageId": "cpp"
    }
   },
   "outputs": [
    {
     "name": "stdout",
     "output_type": "stream",
     "text": [
      "5\n",
      "5\n"
     ]
    }
   ],
   "source": [
    "// 5 -> '5'\n",
    "int num = 5;\n",
    "char ch = '0' + num;\n",
    "//char + int = char\n",
    "char betterCh = static_cast<char>(num + '0');\n",
    "cout << ch << endl;\n",
    "cout << betterCh << endl;"
   ]
  },
  {
   "cell_type": "code",
   "execution_count": null,
   "id": "0db139de",
   "metadata": {
    "vscode": {
     "languageId": "cpp"
    }
   },
   "outputs": [],
   "source": [
    "// '5' -> 5\n",
    "char ch = '5';\n",
    "int num = ch - '0';\n",
    "int betterNum = static_cast<int>(ch) - static_cast<int>('0');"
   ]
  },
  {
   "cell_type": "code",
   "execution_count": 67,
   "id": "886b9ef6",
   "metadata": {
    "vscode": {
     "languageId": "cpp"
    }
   },
   "outputs": [
    {
     "name": "stdout",
     "output_type": "stream",
     "text": [
      "65\n"
     ]
    }
   ],
   "source": [
    "// '5' -> Ascii value\n",
    "char ch = 'A';\n",
    "int asciiValue = static_cast<int>(ch);\n",
    "cout << asciiValue << endl;"
   ]
  },
  {
   "cell_type": "code",
   "execution_count": 70,
   "id": "dadf074e",
   "metadata": {
    "vscode": {
     "languageId": "cpp"
    }
   },
   "outputs": [
    {
     "name": "stdout",
     "output_type": "stream",
     "text": [
      "434\n"
     ]
    }
   ],
   "source": [
    "// '434' -> 434\n",
    "string str = \"434\";\n",
    "int num = stoi(str);\n",
    "cout << num << endl;"
   ]
  },
  {
   "cell_type": "code",
   "execution_count": 71,
   "id": "94ddf2f9",
   "metadata": {
    "vscode": {
     "languageId": "cpp"
    }
   },
   "outputs": [
    {
     "name": "stdout",
     "output_type": "stream",
     "text": [
      "434\n"
     ]
    }
   ],
   "source": [
    "// 434 -> '434'\n",
    "int num = 434;\n",
    "string str = to_string(num);\n",
    "cout << str << endl;"
   ]
  }
 ],
 "metadata": {
  "kernelspec": {
   "display_name": "C++17",
   "language": "C++17",
   "name": "xcpp17"
  },
  "language_info": {
   "codemirror_mode": "text/x-c++src",
   "file_extension": ".cpp",
   "mimetype": "text/x-c++src",
   "name": "C++17",
   "version": "17"
  }
 },
 "nbformat": 4,
 "nbformat_minor": 5
}
