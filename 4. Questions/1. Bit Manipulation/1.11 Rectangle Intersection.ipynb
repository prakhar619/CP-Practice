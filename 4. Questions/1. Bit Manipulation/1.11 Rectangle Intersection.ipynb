{
 "cells": [
  {
   "cell_type": "markdown",
   "id": "4d152144",
   "metadata": {},
   "source": [
    "##### Chapter 1: Bit Manipulation"
   ]
  },
  {
   "cell_type": "markdown",
   "id": "08261263",
   "metadata": {},
   "source": [
    "### 11. Rectangle Intersection"
   ]
  },
  {
   "cell_type": "markdown",
   "id": "6fd755a9",
   "metadata": {},
   "source": [
    "Given coordinates of 2 rectangle, give coordinates of rectangle formed by their intersection."
   ]
  }
 ],
 "metadata": {
  "language_info": {
   "name": "python"
  }
 },
 "nbformat": 4,
 "nbformat_minor": 5
}
