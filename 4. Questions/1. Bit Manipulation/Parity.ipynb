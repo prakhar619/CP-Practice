{
 "cells": [
  {
   "cell_type": "markdown",
   "id": "e4ca6010",
   "metadata": {},
   "source": [
    "##### Chapter 1: Bit Manipulation"
   ]
  },
  {
   "cell_type": "markdown",
   "id": "d57f21fd",
   "metadata": {},
   "source": [
    "### 1. Computing the Parity of a word"
   ]
  },
  {
   "cell_type": "markdown",
   "id": "bf87293c",
   "metadata": {},
   "source": [
    "The parity of a binary word is 1 if the number of 1s in the word odd; otherwise it is 0  \n",
    "Eg:   1011 is 1  \n",
    "Eg:   1010 is 0  "
   ]
  },
  {
   "cell_type": "markdown",
   "id": "17b4f74f",
   "metadata": {},
   "source": [
    "#### Method 1: \n",
    "Time Complexity: O(n)           \n",
    "Space Complexity: O(1)  "
   ]
  },
  {
   "cell_type": "code",
   "execution_count": 3,
   "id": "affdeb47",
   "metadata": {
    "vscode": {
     "languageId": "cpp"
    }
   },
   "outputs": [],
   "source": [
    "bool parity(long long x)\n",
    "{\n",
    "    bool result = false;\n",
    "    while (x != 0)\n",
    "    {\n",
    "        if(x & 1)\n",
    "        {\n",
    "            result = !result;\n",
    "        }\n",
    "        x >>= 1;\n",
    "    }\n",
    "    return result;\n",
    "}"
   ]
  },
  {
   "cell_type": "markdown",
   "id": "7ce9a46b",
   "metadata": {},
   "source": [
    "#### Method 2:\n",
    "Time Complexity: O(k)\n",
    "Space Complexity: O(1)"
   ]
  },
  {
   "cell_type": "code",
   "execution_count": 4,
   "id": "08f1d800",
   "metadata": {
    "vscode": {
     "languageId": "cpp"
    }
   },
   "outputs": [],
   "source": [
    "bool parity(long long x)\n",
    "{\n",
    "    bool result = false;\n",
    "    while (x != 0)\n",
    "    {\n",
    "        result = !result;\n",
    "        x = x & (x - 1);\n",
    "    }\n",
    "    return result;\n",
    "}"
   ]
  },
  {
   "cell_type": "markdown",
   "id": "d4e3ed22",
   "metadata": {
    "vscode": {
     "languageId": "cpp"
    }
   },
   "source": [
    "#### Method 3: \n",
    "Time Complexity: O()"
   ]
  },
  {
   "cell_type": "code",
   "execution_count": 5,
   "id": "b8c3cc84",
   "metadata": {
    "vscode": {
     "languageId": "cpp"
    }
   },
   "outputs": [
    {
     "name": "stderr",
     "output_type": "stream",
     "text": [
      "input_line_11:3:1: error: function definition is not allowed here\n",
      "{\n",
      "^\n",
      "<<< cling interactive line includer >>>:1:1: error: expected '}'\n",
      "input_line_11:1:42: note: to match this '{'\n",
      "void __cling_Un1Qu32(void* vpClingValue) {\n",
      "                                         ^\n"
     ]
    },
    {
     "ename": "Interpreter Error",
     "evalue": "",
     "output_type": "error",
     "traceback": [
      "Interpreter Error: "
     ]
    }
   ],
   "source": [
    "bool parity(long long x)\n",
    "{\n",
    "    int wordSize = sizeof(long long) * 8;\n",
    "    int mask = 0xFFFF_FFFF_FFFF_FFFF;"
   ]
  },
  {
   "cell_type": "code",
   "execution_count": null,
   "id": "5bed177b",
   "metadata": {
    "vscode": {
     "languageId": "cpp"
    }
   },
   "outputs": [],
   "source": []
  },
  {
   "cell_type": "code",
   "execution_count": null,
   "id": "d8cd08a8",
   "metadata": {
    "vscode": {
     "languageId": "cpp"
    }
   },
   "outputs": [],
   "source": []
  }
 ],
 "metadata": {
  "kernelspec": {
   "display_name": "C++17",
   "language": "C++17",
   "name": "xcpp17"
  },
  "language_info": {
   "codemirror_mode": "text/x-c++src",
   "file_extension": ".cpp",
   "mimetype": "text/x-c++src",
   "name": "c++",
   "version": "17"
  }
 },
 "nbformat": 4,
 "nbformat_minor": 5
}
