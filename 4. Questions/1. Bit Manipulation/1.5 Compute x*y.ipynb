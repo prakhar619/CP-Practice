{
 "cells": [
  {
   "cell_type": "markdown",
   "id": "be39ee60",
   "metadata": {},
   "source": [
    "##### Chapter 1: Bit Manipulation"
   ]
  },
  {
   "cell_type": "markdown",
   "id": "9a39d8af",
   "metadata": {},
   "source": [
    "### 2. Compute x*y"
   ]
  },
  {
   "cell_type": "markdown",
   "id": "9f75f115",
   "metadata": {},
   "source": [
    "Using only bitwise operation, compute x*y"
   ]
  },
  {
   "cell_type": "markdown",
   "id": "383aeea4",
   "metadata": {},
   "source": []
  }
 ],
 "metadata": {
  "language_info": {
   "name": "python"
  }
 },
 "nbformat": 4,
 "nbformat_minor": 5
}
