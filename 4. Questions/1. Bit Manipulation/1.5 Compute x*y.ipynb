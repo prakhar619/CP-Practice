{
 "cells": [
  {
   "cell_type": "markdown",
   "id": "be39ee60",
   "metadata": {},
   "source": [
    "##### Chapter 1: Bit Manipulation"
   ]
  },
  {
   "cell_type": "markdown",
   "id": "9a39d8af",
   "metadata": {},
   "source": [
    "### 2. Compute x*y"
   ]
  },
  {
   "cell_type": "markdown",
   "id": "9f75f115",
   "metadata": {},
   "source": [
    ">Using only bitwise operation, compute x*y"
   ]
  },
  {
   "cell_type": "markdown",
   "id": "383aeea4",
   "metadata": {},
   "source": [
    "*Leetcode Link*:"
   ]
  },
  {
   "cell_type": "markdown",
   "id": "ffced5d6",
   "metadata": {},
   "source": [
    "**Best Verified Solution**:"
   ]
  },
  {
   "cell_type": "markdown",
   "id": "e87990e7",
   "metadata": {},
   "source": [
    "### Method 1"
   ]
  },
  {
   "cell_type": "markdown",
   "id": "b542b12b",
   "metadata": {},
   "source": [
    "Time Complexity: O(m*n)  \n",
    "Space Complexity: O(1)\n",
    "###### where m and n are number of bits of input"
   ]
  },
  {
   "cell_type": "code",
   "execution_count": null,
   "id": "cad0a915",
   "metadata": {
    "vscode": {
     "languageId": "plaintext"
    }
   },
   "outputs": [],
   "source": [
    "int multiple(int x, int y)\n",
    "{\n",
    "    while(x != 0 && x != 1)\n",
    "    {\n",
    "        y = y << 1;\n",
    "        x = x >> 1;\n",
    "    }\n",
    "    \n",
    "}"
   ]
  },
  {
   "cell_type": "markdown",
   "id": "ec5ad57c",
   "metadata": {},
   "source": [
    "### Test"
   ]
  }
 ],
 "metadata": {
  "language_info": {
   "name": "python"
  }
 },
 "nbformat": 4,
 "nbformat_minor": 5
}
