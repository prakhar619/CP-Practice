{
 "cells": [
  {
   "cell_type": "markdown",
   "id": "be39ee60",
   "metadata": {},
   "source": [
    "##### Chapter 1: Bit Manipulation"
   ]
  },
  {
   "cell_type": "code",
   "execution_count": 1,
   "id": "8d66bf9a",
   "metadata": {
    "vscode": {
     "languageId": "cpp"
    }
   },
   "outputs": [],
   "source": [
    "#include <iostream>\n",
    "using namespace std;"
   ]
  },
  {
   "cell_type": "markdown",
   "id": "9a39d8af",
   "metadata": {},
   "source": [
    "### 5. Compute x*y"
   ]
  },
  {
   "cell_type": "markdown",
   "id": "9f75f115",
   "metadata": {},
   "source": [
    ">Using only bitwise operation, compute x*y"
   ]
  },
  {
   "cell_type": "markdown",
   "id": "383aeea4",
   "metadata": {},
   "source": [
    "*Leetcode Link*:"
   ]
  },
  {
   "cell_type": "markdown",
   "id": "ffced5d6",
   "metadata": {},
   "source": [
    "**Best Verified Solution**:"
   ]
  },
  {
   "cell_type": "markdown",
   "id": "e87990e7",
   "metadata": {},
   "source": [
    "### Method 1"
   ]
  },
  {
   "cell_type": "markdown",
   "id": "b542b12b",
   "metadata": {},
   "source": [
    "Time Complexity: O(max(m,n))  or O(log x)  \n",
    "Space Complexity: O(1)\n",
    "###### where m and n are number of bits of input"
   ]
  },
  {
   "cell_type": "code",
   "execution_count": 2,
   "id": "cad0a915",
   "metadata": {
    "vscode": {
     "languageId": "cpp"
    }
   },
   "outputs": [],
   "source": [
    "int multiply(int x, int y)\n",
    "{\n",
    "    if(x == 0)\n",
    "    return 0;\n",
    "    \n",
    "    int negativeSign = (x < 0)^(y < 0);\n",
    "    x = abs(x);\n",
    "    y = abs(y);\n",
    "\n",
    "\n",
    "    int subProblem = multiply(x>>1,y);\n",
    "\n",
    "    subProblem = subProblem << 1;\n",
    "    if((x & 1) == 1)\n",
    "    subProblem += y;\n",
    "\n",
    "\n",
    "    return negativeSign?-subProblem:subProblem;\n",
    "}"
   ]
  },
  {
   "cell_type": "code",
   "execution_count": 3,
   "id": "1dc1468c",
   "metadata": {
    "vscode": {
     "languageId": "cpp"
    }
   },
   "outputs": [
    {
     "name": "stdout",
     "output_type": "stream",
     "text": [
      "-128 -128\n"
     ]
    }
   ],
   "source": [
    "int x1 = 64;\n",
    "int x2 = -2;\n",
    "int y = multiply(x1,x2);\n",
    "cout << x1 * x2 << \" \" << y << endl;"
   ]
  },
  {
   "cell_type": "markdown",
   "id": "ec5ad57c",
   "metadata": {},
   "source": [
    "### Test"
   ]
  }
 ],
 "metadata": {
  "kernelspec": {
   "display_name": "C++17",
   "language": "C++17",
   "name": "xcpp17"
  },
  "language_info": {
   "codemirror_mode": "text/x-c++src",
   "file_extension": ".cpp",
   "mimetype": "text/x-c++src",
   "name": "c++",
   "version": "17"
  }
 },
 "nbformat": 4,
 "nbformat_minor": 5
}
