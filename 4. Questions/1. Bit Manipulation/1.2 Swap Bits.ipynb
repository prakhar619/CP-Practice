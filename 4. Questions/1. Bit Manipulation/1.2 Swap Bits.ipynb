{
 "cells": [
  {
   "cell_type": "markdown",
   "id": "51733fc7",
   "metadata": {},
   "source": [
    "##### Chapter 1: Bit Manipulation"
   ]
  },
  {
   "cell_type": "markdown",
   "id": "559f05bd",
   "metadata": {},
   "source": [
    "### 2. Swap Bits"
   ]
  },
  {
   "cell_type": "markdown",
   "id": "8a7fedb0",
   "metadata": {},
   "source": [
    ">Given a number and indexes i and j which are also number, swap the ith and jth bits of the first/original number  \n",
    "Eg: 4 0 2 -> 1  \n",
    "Ans: 4 is (100)2, Swapping 0th bit with 2 gives (001) which is 1"
   ]
  },
  {
   "cell_type": "markdown",
   "id": "224bcb8c",
   "metadata": {},
   "source": [
    "*Leetcode Link*"
   ]
  },
  {
   "cell_type": "markdown",
   "id": "7119dee1",
   "metadata": {},
   "source": [
    "**Verfied Best Solution**:"
   ]
  },
  {
   "cell_type": "markdown",
   "id": "4dfe4064",
   "metadata": {},
   "source": [
    "#### Method 1: \n",
    "Time Complexity: O(1)           \n",
    "Space Complexity: O(1)"
   ]
  },
  {
   "cell_type": "code",
   "execution_count": 4,
   "id": "ee90e63a",
   "metadata": {
    "vscode": {
     "languageId": "cpp"
    }
   },
   "outputs": [],
   "source": [
    "int swapBits1(int x, int i, int j)\n",
    "{\n",
    "    if((x & (1 << i)) != (x & (1 << j)))\n",
    "    {\n",
    "        x = x ^ (1 << i);\n",
    "        x = x ^ (1 << j);\n",
    "    }\n",
    "    return x;\n",
    "}"
   ]
  },
  {
   "cell_type": "markdown",
   "id": "6969418e",
   "metadata": {},
   "source": [
    "### Test"
   ]
  },
  {
   "cell_type": "code",
   "execution_count": 8,
   "id": "7df84631",
   "metadata": {
    "vscode": {
     "languageId": "cpp"
    }
   },
   "outputs": [
    {
     "name": "stdout",
     "output_type": "stream",
     "text": [
      "3\n"
     ]
    }
   ],
   "source": [
    "#include <iostream>\n",
    "using namespace std;\n",
    "cout << swapBits1(10,0,3) << endl;"
   ]
  }
 ],
 "metadata": {
  "kernelspec": {
   "display_name": "C++17",
   "language": "C++17",
   "name": "xcpp17"
  },
  "language_info": {
   "codemirror_mode": "text/x-c++src",
   "file_extension": ".cpp",
   "mimetype": "text/x-c++src",
   "name": "C++17",
   "version": "17"
  }
 },
 "nbformat": 4,
 "nbformat_minor": 5
}
