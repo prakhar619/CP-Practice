{
 "cells": [
  {
   "cell_type": "markdown",
   "id": "51733fc7",
   "metadata": {},
   "source": [
    "##### Chapter 1: Bit Manipulation"
   ]
  },
  {
   "cell_type": "markdown",
   "id": "559f05bd",
   "metadata": {},
   "source": [
    "### 2. Swap Bits"
   ]
  },
  {
   "cell_type": "markdown",
   "id": "8a7fedb0",
   "metadata": {},
   "source": [
    "Given a number and indexes i and j which are also number, swap the ith and jth bits of the first/original number  \n",
    "Eg: 4 0 2 -> 1  \n",
    "Ans: 4 is (100)2, Swapping 0th bit with 2 gives (001) which is 1"
   ]
  },
  {
   "cell_type": "markdown",
   "id": "4dfe4064",
   "metadata": {},
   "source": [
    "#### Method 1: \n",
    "Time Complexity: O(1)           \n",
    "Space Complexity: O(1)"
   ]
  },
  {
   "cell_type": "code",
   "execution_count": null,
   "id": "ee90e63a",
   "metadata": {
    "vscode": {
     "languageId": "cpp"
    }
   },
   "outputs": [],
   "source": [
    "long long swap(long long x, int i, int j)\n",
    "{\n",
    "    if()\n",
    "}"
   ]
  }
 ],
 "metadata": {
  "language_info": {
   "name": "python"
  }
 },
 "nbformat": 4,
 "nbformat_minor": 5
}
