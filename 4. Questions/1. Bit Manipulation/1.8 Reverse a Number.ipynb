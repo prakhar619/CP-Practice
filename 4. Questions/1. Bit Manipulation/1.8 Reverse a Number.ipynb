{
 "cells": [
  {
   "cell_type": "markdown",
   "id": "9c0b6593",
   "metadata": {},
   "source": [
    "##### Chapter 1: Bit Manipulation"
   ]
  },
  {
   "cell_type": "code",
   "execution_count": null,
   "id": "683180dd",
   "metadata": {
    "vscode": {
     "languageId": "cpp"
    }
   },
   "outputs": [],
   "source": [
    "#include <iostream>\n",
    "#include <limits>\n",
    "using namespace std;"
   ]
  },
  {
   "cell_type": "markdown",
   "id": "53b76def",
   "metadata": {},
   "source": [
    "### 8. Reverse a Number"
   ]
  },
  {
   "cell_type": "markdown",
   "id": "b14ce319",
   "metadata": {},
   "source": [
    "> Reverse digits of a number. If not possible return 0"
   ]
  },
  {
   "cell_type": "markdown",
   "id": "45c01fa5",
   "metadata": {},
   "source": [
    "*Leetcode Link:* https://leetcode.com/problems/reverse-integer/"
   ]
  },
  {
   "cell_type": "markdown",
   "id": "a1c6ab32",
   "metadata": {},
   "source": [
    "**Best Possible Solution:**"
   ]
  },
  {
   "cell_type": "markdown",
   "id": "9f17aae9",
   "metadata": {},
   "source": [
    "### Method 1\n",
    "Time Complexity: O(n)  \n",
    "Space Complexity: O(1)\n",
    "###### where n is no of digit in input"
   ]
  },
  {
   "cell_type": "code",
   "execution_count": null,
   "id": "344602e9",
   "metadata": {
    "vscode": {
     "languageId": "cpp"
    }
   },
   "outputs": [],
   "source": [
    "class Solution {\n",
    "public:\n",
    "    int reverse(int x) {\n",
    "        int result = 0;\n",
    "        while(x != 0)\n",
    "        {\n",
    "            int leftDigit = x % 10;\n",
    "            if(\n",
    "                (numeric_limits<int>::min()/10.0f < result  && numeric_limits<int>::max() / 10 > result) || \n",
    "                (\n",
    "                    (numeric_limits<int>::min()/10 == result  || numeric_limits<int>::max() / 10 == result) && \n",
    "                    (numeric_limits<int>::min()%10 <= leftDigit && numeric_limits<int>::max()%10 >= leftDigit)\n",
    "                )\n",
    "              )\n",
    "            {\n",
    "                result = result * 10 + leftDigit;\n",
    "            }\n",
    "            else\n",
    "            {\n",
    "                return 0;\n",
    "            }\n",
    "            x = x/10;\n",
    "        }   \n",
    "        return result;\n",
    "    }\n",
    "};"
   ]
  }
 ],
 "metadata": {
  "kernelspec": {
   "display_name": "C++17",
   "language": "C++17",
   "name": "xcpp17"
  },
  "language_info": {
   "codemirror_mode": "text/x-c++src",
   "file_extension": ".cpp",
   "mimetype": "text/x-c++src",
   "name": "c++",
   "version": "17"
  }
 },
 "nbformat": 4,
 "nbformat_minor": 5
}
