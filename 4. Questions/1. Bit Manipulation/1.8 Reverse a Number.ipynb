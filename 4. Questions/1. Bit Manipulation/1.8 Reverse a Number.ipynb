{
 "cells": [
  {
   "cell_type": "markdown",
   "id": "9c0b6593",
   "metadata": {},
   "source": []
  },
  {
   "cell_type": "markdown",
   "id": "53b76def",
   "metadata": {},
   "source": []
  },
  {
   "cell_type": "code",
   "execution_count": null,
   "id": "344602e9",
   "metadata": {
    "vscode": {
     "languageId": "cpp"
    }
   },
   "outputs": [],
   "source": [
    "class Solution {\n",
    "public:\n",
    "    int reverse(int x) {\n",
    "        int result = 0;\n",
    "        while(x != 0)\n",
    "        {\n",
    "            int leftDigit = x % 10;\n",
    "            if(\n",
    "                (numeric_limits<int>::min()/10.0f < result  && numeric_limits<int>::max() / 10 > result) || \n",
    "                (\n",
    "                    (numeric_limits<int>::min()/10 == result  || numeric_limits<int>::max() / 10 == result) && \n",
    "                    (numeric_limits<int>::min()%10 <= leftDigit && numeric_limits<int>::max()%10 >= leftDigit)\n",
    "                )\n",
    "              )\n",
    "            {\n",
    "                result = result * 10 + leftDigit;\n",
    "            }\n",
    "            else\n",
    "            {\n",
    "                return 0;\n",
    "            }\n",
    "            x = x/10;\n",
    "        }   \n",
    "        return result;\n",
    "    }\n",
    "};"
   ]
  }
 ],
 "metadata": {
  "kernelspec": {
   "display_name": "C++17",
   "language": "C++17",
   "name": "xcpp17"
  },
  "language_info": {
   "name": "C++17"
  }
 },
 "nbformat": 4,
 "nbformat_minor": 5
}
