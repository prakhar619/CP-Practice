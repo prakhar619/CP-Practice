{
 "cells": [
  {
   "cell_type": "markdown",
   "id": "876a8406",
   "metadata": {},
   "source": [
    "##### Chapter 1: Bit Manipulation"
   ]
  },
  {
   "cell_type": "markdown",
   "id": "b54b2fea",
   "metadata": {},
   "source": [
    "### 3. Reverse Bits"
   ]
  },
  {
   "cell_type": "markdown",
   "id": "cdebb618",
   "metadata": {},
   "source": [
    ">Given a 64-bit word, return a 64-bit words consisting of bits of input word in reverse order"
   ]
  },
  {
   "cell_type": "markdown",
   "id": "e01001cb",
   "metadata": {},
   "source": [
    "*Leetcode Link*:"
   ]
  },
  {
   "cell_type": "markdown",
   "id": "e50f3aec",
   "metadata": {},
   "source": [
    "**Verified Best Solution**:"
   ]
  },
  {
   "cell_type": "markdown",
   "id": "6968175c",
   "metadata": {},
   "source": [
    "### Method 1:"
   ]
  },
  {
   "cell_type": "markdown",
   "id": "c4504d98",
   "metadata": {},
   "source": [
    "Time Complexity: O(n)  \n",
    "Space Complexity: O(1)  \n",
    "###### where n is number of bits in input"
   ]
  },
  {
   "cell_type": "code",
   "execution_count": null,
   "id": "4400d735",
   "metadata": {
    "vscode": {
     "languageId": "cpp"
    }
   },
   "outputs": [],
   "source": [
    "int reverseBits1(int x)\n",
    "{\n",
    "    \n",
    "}"
   ]
  },
  {
   "cell_type": "markdown",
   "id": "51c0cd53",
   "metadata": {},
   "source": [
    "### Method 2:"
   ]
  },
  {
   "cell_type": "markdown",
   "id": "f0ab8e87",
   "metadata": {},
   "source": [
    "Time Complexity: O(n)  \n",
    "Space Complexity: O(log n)\n",
    "###### where n is number of bits in input"
   ]
  },
  {
   "cell_type": "code",
   "execution_count": null,
   "id": "2950637c",
   "metadata": {
    "vscode": {
     "languageId": "cpp"
    }
   },
   "outputs": [],
   "source": [
    "int reverseBits2(int x)\n",
    "{\n",
    "    \n",
    "}"
   ]
  }
 ],
 "metadata": {
  "language_info": {
   "name": "python"
  }
 },
 "nbformat": 4,
 "nbformat_minor": 5
}
