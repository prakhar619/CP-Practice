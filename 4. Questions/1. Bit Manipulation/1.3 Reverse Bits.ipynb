{
 "cells": [
  {
   "cell_type": "markdown",
   "id": "876a8406",
   "metadata": {},
   "source": [
    "##### Chapter 1: Bit Manipulation"
   ]
  },
  {
   "cell_type": "markdown",
   "id": "b54b2fea",
   "metadata": {},
   "source": [
    "### 3. Reverse Bits"
   ]
  },
  {
   "cell_type": "markdown",
   "id": "cdebb618",
   "metadata": {},
   "source": [
    "Given a 64-bit word, return a 64-bit words consisting of bits of input word in reverse order"
   ]
  },
  {
   "cell_type": "markdown",
   "id": "e01001cb",
   "metadata": {},
   "source": []
  }
 ],
 "metadata": {
  "language_info": {
   "name": "python"
  }
 },
 "nbformat": 4,
 "nbformat_minor": 5
}
