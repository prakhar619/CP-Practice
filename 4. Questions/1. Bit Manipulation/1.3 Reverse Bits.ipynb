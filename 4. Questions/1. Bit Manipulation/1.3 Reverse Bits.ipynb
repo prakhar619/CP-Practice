{
 "cells": [
  {
   "cell_type": "markdown",
   "id": "876a8406",
   "metadata": {},
   "source": [
    "##### Chapter 1: Bit Manipulation"
   ]
  },
  {
   "cell_type": "code",
   "execution_count": 1,
   "id": "363607e8",
   "metadata": {
    "vscode": {
     "languageId": "cpp"
    }
   },
   "outputs": [],
   "source": [
    "#include <bitset>\n",
    "#include <iostream>\n",
    "using namespace std;"
   ]
  },
  {
   "cell_type": "markdown",
   "id": "b54b2fea",
   "metadata": {},
   "source": [
    "### 3. Reverse Bits"
   ]
  },
  {
   "cell_type": "markdown",
   "id": "cdebb618",
   "metadata": {},
   "source": [
    ">Given a 64-bit word, return a 64-bit words consisting of bits of input word in reverse order"
   ]
  },
  {
   "cell_type": "markdown",
   "id": "e01001cb",
   "metadata": {},
   "source": [
    "*Leetcode Link*: https://leetcode.com/problems/reverse-bits/"
   ]
  },
  {
   "cell_type": "markdown",
   "id": "e50f3aec",
   "metadata": {},
   "source": [
    "**Verified Best Solution**:"
   ]
  },
  {
   "cell_type": "markdown",
   "id": "6968175c",
   "metadata": {},
   "source": [
    "### Method 1:"
   ]
  },
  {
   "cell_type": "markdown",
   "id": "c4504d98",
   "metadata": {},
   "source": [
    "Time Complexity: O(n)  \n",
    "Space Complexity: O(1)  \n",
    "###### where n is number of bits in input"
   ]
  },
  {
   "cell_type": "code",
   "execution_count": null,
   "id": "4400d735",
   "metadata": {
    "vscode": {
     "languageId": "cpp"
    }
   },
   "outputs": [],
   "source": [
    "int reverseBits1(int x)\n",
    "{\n",
    "    int low = 0;\n",
    "    int high = log2(x);\n",
    "    while(high > low)\n",
    "    {\n",
    "        if(((x >> high)& 1) != ((x >> low)& 1))\n",
    "        {\n",
    "            x = x ^ (1 << high);\n",
    "            x = x ^ (1 << low);\n",
    "        }\n",
    "        high--;\n",
    "        low++;\n",
    "    }\n",
    "    return x;\n",
    "}"
   ]
  },
  {
   "cell_type": "code",
   "execution_count": 6,
   "id": "caffcc51",
   "metadata": {
    "vscode": {
     "languageId": "cpp"
    }
   },
   "outputs": [
    {
     "name": "stdout",
     "output_type": "stream",
     "text": [
      "0000010010110001\n",
      "0000010001101001\n"
     ]
    }
   ],
   "source": [
    "int x = 1201;\n",
    "bitset<16> binaryX(x);\n",
    "int y = reverseBits1(x);\n",
    "bitset<16> binaryY(y);\n",
    "cout << binaryX << endl;\n",
    "cout << binaryY << endl;"
   ]
  },
  {
   "cell_type": "markdown",
   "id": "51c0cd53",
   "metadata": {},
   "source": [
    "### Method 2:"
   ]
  },
  {
   "cell_type": "markdown",
   "id": "f0ab8e87",
   "metadata": {},
   "source": [
    "Time Complexity: O(n)  \n",
    "Space Complexity: O(log n)\n",
    "###### where n is number of bits in input"
   ]
  },
  {
   "cell_type": "code",
   "execution_count": null,
   "id": "2950637c",
   "metadata": {
    "vscode": {
     "languageId": "cpp"
    }
   },
   "outputs": [],
   "source": [
    "int reverseBits2(int x)\n",
    "{\n",
    "    \n",
    "}"
   ]
  }
 ],
 "metadata": {
  "kernelspec": {
   "display_name": "C++17",
   "language": "C++17",
   "name": "xcpp17"
  },
  "language_info": {
   "codemirror_mode": "text/x-c++src",
   "file_extension": ".cpp",
   "mimetype": "text/x-c++src",
   "name": "c++",
   "version": "17"
  }
 },
 "nbformat": 4,
 "nbformat_minor": 5
}
