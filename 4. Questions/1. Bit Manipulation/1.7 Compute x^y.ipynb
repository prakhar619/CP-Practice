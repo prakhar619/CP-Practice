{
 "cells": [
  {
   "cell_type": "markdown",
   "id": "99fa04fd",
   "metadata": {},
   "source": [
    "##### Chapter 1: Bit Manipulation"
   ]
  },
  {
   "cell_type": "code",
   "execution_count": 3,
   "id": "79486361",
   "metadata": {
    "vscode": {
     "languageId": "cpp"
    }
   },
   "outputs": [],
   "source": [
    "#include <iostream>\n",
    "using namespace std;"
   ]
  },
  {
   "cell_type": "markdown",
   "id": "aee2307b",
   "metadata": {},
   "source": [
    "### 7. Compute x^y"
   ]
  },
  {
   "cell_type": "markdown",
   "id": "e7f6910b",
   "metadata": {},
   "source": [
    "> Using bitwise operation only, compute x^y"
   ]
  },
  {
   "cell_type": "markdown",
   "id": "4ebd196f",
   "metadata": {},
   "source": [
    "*Leetcode Link:* https://leetcode.com/problems/powx-n/"
   ]
  },
  {
   "cell_type": "markdown",
   "id": "e868daa0",
   "metadata": {},
   "source": [
    "**Best Possible Solution:**"
   ]
  },
  {
   "cell_type": "markdown",
   "id": "a5a4f9f0",
   "metadata": {},
   "source": [
    "### Method 1\n",
    "Time Complexity: O(log x) \n",
    "Space Complexity: O(1)\n",
    "###### where x is power (input)"
   ]
  },
  {
   "cell_type": "code",
   "execution_count": 13,
   "id": "2f9612d2",
   "metadata": {
    "vscode": {
     "languageId": "cpp"
    }
   },
   "outputs": [],
   "source": [
    "class Solution {\n",
    "public:\n",
    "    //x ^ n\n",
    "    double myPow(double x, int n) {\n",
    "        if(n == 1)\n",
    "        return x;\n",
    "        else if(n == 0)\n",
    "        return 1;\n",
    "        else if(n == -1)\n",
    "        {\n",
    "            return 1/x;\n",
    "        }\n",
    "\n",
    "        //n = -n why difficult\n",
    "            //INT_MAX and INT_MIN is the reason\n",
    "\n",
    "            //if(n < 0)\n",
    "            //{\n",
    "                //n = -n;\n",
    "                //x = 1/x;\n",
    "            //}\n",
    "\n",
    "        //-5/2 = -2; 5/-2 = -2; -5%2 = -1; 5%-2 = 1\n",
    "\n",
    "        // n >> 1 and n/2 are different why ? \n",
    "            //sign\n",
    "            // -3/2 = -1     (tends towards 0)\n",
    "            // -3 >> 1 = -2  (tends towards -ve infinity)\n",
    "\n",
    "        double halfPower = myPow(x, n / 2);\n",
    "        halfPower = halfPower * halfPower;\n",
    "        if((n & 1) == 1)\n",
    "        {\n",
    "            if(n > 0)\n",
    "            halfPower *=  x;\n",
    "            else\n",
    "            halfPower *= (1/x);\n",
    "        }\n",
    "\n",
    "        return halfPower;\n",
    "    }\n",
    "};"
   ]
  },
  {
   "cell_type": "code",
   "execution_count": 14,
   "id": "128cd210",
   "metadata": {
    "vscode": {
     "languageId": "cpp"
    }
   },
   "outputs": [
    {
     "name": "stdout",
     "output_type": "stream",
     "text": [
      " 0.00390625\n"
     ]
    }
   ],
   "source": [
    "class Solution sol;\n",
    "cout << \" \" << sol.myPow(2,-8) << endl;"
   ]
  },
  {
   "cell_type": "code",
   "execution_count": null,
   "id": "5dd4685d",
   "metadata": {
    "vscode": {
     "languageId": "cpp"
    }
   },
   "outputs": [],
   "source": []
  }
 ],
 "metadata": {
  "kernelspec": {
   "display_name": "C++17",
   "language": "C++17",
   "name": "xcpp17"
  },
  "language_info": {
   "codemirror_mode": "text/x-c++src",
   "file_extension": ".cpp",
   "mimetype": "text/x-c++src",
   "name": "c++",
   "version": "17"
  }
 },
 "nbformat": 4,
 "nbformat_minor": 5
}
