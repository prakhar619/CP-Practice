{
 "cells": [
  {
   "cell_type": "markdown",
   "id": "99fa04fd",
   "metadata": {},
   "source": [
    "##### Chapter 1: Bit Manipulation"
   ]
  },
  {
   "cell_type": "code",
   "execution_count": null,
   "id": "2f9612d2",
   "metadata": {
    "vscode": {
     "languageId": "plaintext"
    }
   },
   "outputs": [],
   "source": [
    "class Solution {\n",
    "public:\n",
    "    double myPow(double x, int n) {\n",
    "        if(n == 1)\n",
    "        return x;\n",
    "        else if(n == 0)\n",
    "        return 1;\n",
    "        else if(n == -1)\n",
    "        {\n",
    "            return 1/x;\n",
    "        }\n",
    "\n",
    "        //n = -n why difficult\n",
    "            //if(n < 0)\n",
    "            //{\n",
    "                //n = -n;\n",
    "                //x = 1/x;\n",
    "            //}\n",
    "\n",
    "        //-5/2 = -2; 5/-2 = -2; -5%2 = -1; 5%-2 = 1\n",
    "\n",
    "        // n >> 1 and n/2 are different why ? \n",
    "        double halfPower = myPow(x,n/2);\n",
    "        if((n & 1) == 1)\n",
    "        {\n",
    "            if(n > 0)\n",
    "            halfPower = halfPower * halfPower * x;\n",
    "            else\n",
    "            halfPower = halfPower * halfPower * (1/x);\n",
    "\n",
    "        }\n",
    "        else \n",
    "        {\n",
    "            halfPower = halfPower * halfPower;\n",
    "        }\n",
    "\n",
    "        return halfPower;\n",
    "    }\n",
    "};"
   ]
  },
  {
   "cell_type": "markdown",
   "id": "aee2307b",
   "metadata": {},
   "source": [
    "### 7. Compute x^y"
   ]
  },
  {
   "cell_type": "markdown",
   "id": "e7f6910b",
   "metadata": {},
   "source": [
    "Using bitwise operation only, compute x^y"
   ]
  },
  {
   "cell_type": "markdown",
   "id": "3623d1e5",
   "metadata": {},
   "source": []
  }
 ],
 "metadata": {
  "language_info": {
   "name": "python"
  }
 },
 "nbformat": 4,
 "nbformat_minor": 5
}
