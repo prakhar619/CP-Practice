{
 "cells": [
  {
   "cell_type": "markdown",
   "id": "99fa04fd",
   "metadata": {},
   "source": [
    "##### Chapter 1: Bit Manipulation"
   ]
  },
  {
   "cell_type": "markdown",
   "id": "aee2307b",
   "metadata": {},
   "source": [
    "### 7. Compute x^y"
   ]
  },
  {
   "cell_type": "markdown",
   "id": "e7f6910b",
   "metadata": {},
   "source": [
    "Using bitwise operation only, compute x^y"
   ]
  },
  {
   "cell_type": "markdown",
   "id": "3623d1e5",
   "metadata": {},
   "source": []
  }
 ],
 "metadata": {
  "language_info": {
   "name": "python"
  }
 },
 "nbformat": 4,
 "nbformat_minor": 5
}
