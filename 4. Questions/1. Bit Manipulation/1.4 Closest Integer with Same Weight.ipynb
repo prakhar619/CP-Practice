{
 "cells": [
  {
   "cell_type": "markdown",
   "id": "b2586582",
   "metadata": {},
   "source": [
    "##### Chapter 1: Bit Manipulation"
   ]
  },
  {
   "cell_type": "code",
   "execution_count": 1,
   "id": "fca34445",
   "metadata": {
    "vscode": {
     "languageId": "cpp"
    }
   },
   "outputs": [],
   "source": [
    "#include <bitset>\n",
    "#include <iostream>\n",
    "using namespace std;"
   ]
  },
  {
   "cell_type": "markdown",
   "id": "63213f5b",
   "metadata": {},
   "source": [
    "### 4. Closest Integer with Same Weight"
   ]
  },
  {
   "cell_type": "markdown",
   "id": "d700d1ec",
   "metadata": {},
   "source": [
    ">Weight: Number of set bits in a number is called its weight  \n",
    "\n",
    ">For a given number return a different number which has the same weight as input and difference b/w input and output is minimized"
   ]
  },
  {
   "cell_type": "markdown",
   "id": "d72a297a",
   "metadata": {},
   "source": [
    "*Leetcode Link*:"
   ]
  },
  {
   "cell_type": "markdown",
   "id": "221f5945",
   "metadata": {},
   "source": [
    "**Best Verfied Solution**:"
   ]
  },
  {
   "cell_type": "markdown",
   "id": "a675ef03",
   "metadata": {},
   "source": [
    "#### Method 1: \n",
    "Time Complexity: O(n)   \n",
    "Space Complexity: O(1)"
   ]
  },
  {
   "cell_type": "markdown",
   "id": "b524ad01",
   "metadata": {},
   "source": [
    "###### Find the rightmost 2 bits that are different and swap them.\n",
    "###### Changing rightmost bits makes difference b/w them least, as Difference b/w would be 2^k1 - 2^k2 (where k1 and k2 are bitIndex and k1 > k2)\n",
    "###### reduce k1 and make k2 as closer to k1 as possible"
   ]
  },
  {
   "cell_type": "code",
   "execution_count": 5,
   "id": "70338336",
   "metadata": {
    "vscode": {
     "languageId": "cpp"
    }
   },
   "outputs": [],
   "source": [
    "int closestIntSameBitCount(long x)\n",
    "{\n",
    "    for(int i = 0; i < log2(x); i++)\n",
    "    {\n",
    "        if(((x >> i)&1) != ((x >> (i+1))&1))\n",
    "        {\n",
    "            x = x ^ (1 << i);\n",
    "            x = x ^ (1 << (i+1));\n",
    "            return x;\n",
    "        }\n",
    "    }\n",
    "    //assert all bits cannot be 0 or 1\n",
    "    return -1;\n",
    "}"
   ]
  },
  {
   "cell_type": "code",
   "execution_count": 6,
   "id": "0871c582",
   "metadata": {
    "vscode": {
     "languageId": "cpp"
    }
   },
   "outputs": [
    {
     "name": "stdout",
     "output_type": "stream",
     "text": [
      "0000000001111001\n",
      "0000000001111010\n"
     ]
    }
   ],
   "source": [
    "int x = 121;\n",
    "bitset<16> binaryX(x);\n",
    "int y = closestIntSameBitCount(121);\n",
    "bitset<16> binaryY(y);\n",
    "cout << binaryX << endl;\n",
    "cout << binaryY << endl;"
   ]
  },
  {
   "cell_type": "markdown",
   "id": "cf9603bc",
   "metadata": {},
   "source": [
    "### Test"
   ]
  }
 ],
 "metadata": {
  "kernelspec": {
   "display_name": "C++17",
   "language": "C++17",
   "name": "xcpp17"
  },
  "language_info": {
   "codemirror_mode": "text/x-c++src",
   "file_extension": ".cpp",
   "mimetype": "text/x-c++src",
   "name": "c++",
   "version": "17"
  }
 },
 "nbformat": 4,
 "nbformat_minor": 5
}
