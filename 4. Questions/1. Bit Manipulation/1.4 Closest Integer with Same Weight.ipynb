{
 "cells": [
  {
   "cell_type": "markdown",
   "id": "b2586582",
   "metadata": {},
   "source": [
    "##### Chapter 1: Bit Manipulation"
   ]
  },
  {
   "cell_type": "markdown",
   "id": "63213f5b",
   "metadata": {},
   "source": [
    "### 4. Closed Integer with Same Weight"
   ]
  },
  {
   "cell_type": "markdown",
   "id": "d700d1ec",
   "metadata": {},
   "source": [
    "Weight: Number of set bits in a number is called its weight  \n",
    "\n",
    "For a given number return a different number which has the same weight as input and difference b/w input and output is minimized"
   ]
  },
  {
   "cell_type": "markdown",
   "id": "a675ef03",
   "metadata": {},
   "source": [
    "#### Method 1: \n",
    "Time Complexity:   \n",
    "Space Complexity: "
   ]
  },
  {
   "cell_type": "markdown",
   "id": "cf9603bc",
   "metadata": {},
   "source": []
  }
 ],
 "metadata": {
  "language_info": {
   "name": "python"
  }
 },
 "nbformat": 4,
 "nbformat_minor": 5
}
