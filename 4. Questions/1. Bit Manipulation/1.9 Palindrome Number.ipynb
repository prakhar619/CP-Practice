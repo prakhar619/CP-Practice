{
 "cells": [
  {
   "cell_type": "markdown",
   "id": "a1ecc504",
   "metadata": {},
   "source": [
    "Given a number, return whether its digit form a palindrome or not"
   ]
  },
  {
   "cell_type": "markdown",
   "id": "9fe5e3a2",
   "metadata": {},
   "source": [
    "### 9. Palindrome Number"
   ]
  },
  {
   "cell_type": "markdown",
   "id": "92fca22d",
   "metadata": {},
   "source": [
    "##### Chapter 1: Bit Manipulation"
   ]
  }
 ],
 "metadata": {
  "language_info": {
   "name": "python"
  }
 },
 "nbformat": 4,
 "nbformat_minor": 5
}
