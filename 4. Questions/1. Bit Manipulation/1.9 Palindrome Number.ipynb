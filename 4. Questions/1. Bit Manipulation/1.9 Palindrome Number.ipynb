{
 "cells": [
  {
   "cell_type": "markdown",
   "id": "92fca22d",
   "metadata": {},
   "source": [
    "##### Chapter 1: Bit Manipulation"
   ]
  },
  {
   "cell_type": "markdown",
   "id": "9fe5e3a2",
   "metadata": {},
   "source": [
    "### 9. Palindrome Number"
   ]
  },
  {
   "cell_type": "markdown",
   "id": "a1ecc504",
   "metadata": {},
   "source": [
    "> Given a number, return whether its digit form a palindrome or not"
   ]
  },
  {
   "cell_type": "markdown",
   "id": "acad8c6a",
   "metadata": {},
   "source": [
    "*Leetcode Link:* "
   ]
  },
  {
   "cell_type": "markdown",
   "id": "5b6ce586",
   "metadata": {},
   "source": [
    "**Best Possible Solution:**"
   ]
  },
  {
   "cell_type": "markdown",
   "id": "ff337571",
   "metadata": {},
   "source": [
    "### Method 1\n",
    "Time Complexity: O(n)  \n",
    "Space Complexity: O(1)\n",
    "###### where n is no of digit in input"
   ]
  },
  {
   "cell_type": "code",
   "execution_count": null,
   "id": "cd7415cd",
   "metadata": {
    "vscode": {
     "languageId": "plaintext"
    }
   },
   "outputs": [],
   "source": []
  }
 ],
 "metadata": {
  "language_info": {
   "name": "python"
  }
 },
 "nbformat": 4,
 "nbformat_minor": 5
}
