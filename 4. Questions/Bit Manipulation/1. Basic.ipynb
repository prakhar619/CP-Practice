{
 "cells": [
  {
   "cell_type": "markdown",
   "id": "cea6387a",
   "metadata": {},
   "source": [
    "# Introduction"
   ]
  },
  {
   "cell_type": "code",
   "execution_count": 38,
   "id": "81f70657",
   "metadata": {
    "vscode": {
     "languageId": "cpp"
    }
   },
   "outputs": [],
   "source": [
    "#include <iostream>\n",
    "#include <bitset>\n",
    "using namespace std;"
   ]
  },
  {
   "cell_type": "code",
   "execution_count": 23,
   "id": "ebfc3723",
   "metadata": {
    "vscode": {
     "languageId": "cpp"
    }
   },
   "outputs": [
    {
     "name": "stdout",
     "output_type": "stream",
     "text": [
      "Number:10\n",
      "Binary:00000000000000000000000000001010\n"
     ]
    }
   ],
   "source": [
    "int x = 10;\n",
    "bitset<32> binaryX(x);\n",
    "cout << \"Number:\"<< x << \"\\n\" << \"Binary:\" << binaryX << endl;"
   ]
  },
  {
   "cell_type": "code",
   "execution_count": 24,
   "id": "dbae9263",
   "metadata": {
    "vscode": {
     "languageId": "cpp"
    }
   },
   "outputs": [
    {
     "name": "stdout",
     "output_type": "stream",
     "text": [
      "Number:-10\n",
      "Binary:11111111111111111111111111110110\n"
     ]
    }
   ],
   "source": [
    "int y = -10;\n",
    "bitset<32> binaryY(y);\n",
    "cout << \"Number:\"<< y << \"\\n\" << \"Binary:\" << binaryY << endl;"
   ]
  },
  {
   "cell_type": "markdown",
   "id": "090160f8",
   "metadata": {},
   "source": [
    "## Basic Manipulations"
   ]
  },
  {
   "cell_type": "markdown",
   "id": "942c6f29",
   "metadata": {},
   "source": [
    "### AND Operations"
   ]
  },
  {
   "cell_type": "code",
   "execution_count": null,
   "id": "18f2069f",
   "metadata": {
    "vscode": {
     "languageId": "cpp"
    }
   },
   "outputs": [
    {
     "name": "stdout",
     "output_type": "stream",
     "text": [
      "i\tj\t&\t|\t^\t~i\t~j\n",
      "0\t0\t0\t0\t0\t-1\t-1\n",
      "0\t1\t0\t1\t1\t-1\t-2\n",
      "0\t2\t0\t2\t2\t-1\t-3\n",
      "0\t3\t0\t3\t3\t-1\t-4\n",
      "0\t4\t0\t4\t4\t-1\t-5\n",
      "0\t5\t0\t5\t5\t-1\t-6\n",
      "0\t6\t0\t6\t6\t-1\t-7\n",
      "0\t7\t0\t7\t7\t-1\t-8\n",
      "0\t8\t0\t8\t8\t-1\t-9\n",
      "0\t9\t0\t9\t9\t-1\t-10\n",
      "0\t10\t0\t10\t10\t-1\t-11\n",
      "0\t11\t0\t11\t11\t-1\t-12\n",
      "0\t12\t0\t12\t12\t-1\t-13\n",
      "0\t13\t0\t13\t13\t-1\t-14\n",
      "0\t14\t0\t14\t14\t-1\t-15\n",
      "0\t15\t0\t15\t15\t-1\t-16\n",
      "0\t16\t0\t16\t16\t-1\t-17\n",
      "0\t17\t0\t17\t17\t-1\t-18\n",
      "0\t18\t0\t18\t18\t-1\t-19\n",
      "0\t19\t0\t19\t19\t-1\t-20\n",
      "1\t0\t0\t1\t1\t-2\t-1\n",
      "1\t2\t0\t3\t3\t-2\t-3\n",
      "1\t4\t0\t5\t5\t-2\t-5\n",
      "1\t6\t0\t7\t7\t-2\t-7\n",
      "1\t8\t0\t9\t9\t-2\t-9\n",
      "1\t10\t0\t11\t11\t-2\t-11\n",
      "1\t12\t0\t13\t13\t-2\t-13\n",
      "1\t14\t0\t15\t15\t-2\t-15\n",
      "1\t16\t0\t17\t17\t-2\t-17\n",
      "1\t18\t0\t19\t19\t-2\t-19\n",
      "2\t0\t0\t2\t2\t-3\t-1\n",
      "2\t1\t0\t3\t3\t-3\t-2\n",
      "2\t4\t0\t6\t6\t-3\t-5\n",
      "2\t5\t0\t7\t7\t-3\t-6\n",
      "2\t8\t0\t10\t10\t-3\t-9\n",
      "2\t9\t0\t11\t11\t-3\t-10\n",
      "2\t12\t0\t14\t14\t-3\t-13\n",
      "2\t13\t0\t15\t15\t-3\t-14\n",
      "2\t16\t0\t18\t18\t-3\t-17\n",
      "2\t17\t0\t19\t19\t-3\t-18\n",
      "3\t0\t0\t3\t3\t-4\t-1\n",
      "3\t4\t0\t7\t7\t-4\t-5\n",
      "3\t8\t0\t11\t11\t-4\t-9\n",
      "3\t12\t0\t15\t15\t-4\t-13\n",
      "3\t16\t0\t19\t19\t-4\t-17\n",
      "4\t0\t0\t4\t4\t-5\t-1\n",
      "4\t1\t0\t5\t5\t-5\t-2\n",
      "4\t2\t0\t6\t6\t-5\t-3\n",
      "4\t3\t0\t7\t7\t-5\t-4\n",
      "4\t8\t0\t12\t12\t-5\t-9\n",
      "4\t9\t0\t13\t13\t-5\t-10\n",
      "4\t10\t0\t14\t14\t-5\t-11\n",
      "4\t11\t0\t15\t15\t-5\t-12\n",
      "4\t16\t0\t20\t20\t-5\t-17\n",
      "4\t17\t0\t21\t21\t-5\t-18\n",
      "4\t18\t0\t22\t22\t-5\t-19\n",
      "4\t19\t0\t23\t23\t-5\t-20\n",
      "5\t0\t0\t5\t5\t-6\t-1\n",
      "5\t2\t0\t7\t7\t-6\t-3\n",
      "5\t8\t0\t13\t13\t-6\t-9\n",
      "5\t10\t0\t15\t15\t-6\t-11\n",
      "5\t16\t0\t21\t21\t-6\t-17\n",
      "5\t18\t0\t23\t23\t-6\t-19\n",
      "6\t0\t0\t6\t6\t-7\t-1\n",
      "6\t1\t0\t7\t7\t-7\t-2\n",
      "6\t8\t0\t14\t14\t-7\t-9\n",
      "6\t9\t0\t15\t15\t-7\t-10\n",
      "6\t16\t0\t22\t22\t-7\t-17\n",
      "6\t17\t0\t23\t23\t-7\t-18\n",
      "7\t0\t0\t7\t7\t-8\t-1\n",
      "7\t8\t0\t15\t15\t-8\t-9\n",
      "7\t16\t0\t23\t23\t-8\t-17\n",
      "8\t0\t0\t8\t8\t-9\t-1\n",
      "8\t1\t0\t9\t9\t-9\t-2\n",
      "8\t2\t0\t10\t10\t-9\t-3\n",
      "8\t3\t0\t11\t11\t-9\t-4\n",
      "8\t4\t0\t12\t12\t-9\t-5\n",
      "8\t5\t0\t13\t13\t-9\t-6\n",
      "8\t6\t0\t14\t14\t-9\t-7\n",
      "8\t7\t0\t15\t15\t-9\t-8\n",
      "8\t16\t0\t24\t24\t-9\t-17\n",
      "8\t17\t0\t25\t25\t-9\t-18\n",
      "8\t18\t0\t26\t26\t-9\t-19\n",
      "8\t19\t0\t27\t27\t-9\t-20\n",
      "9\t0\t0\t9\t9\t-10\t-1\n",
      "9\t2\t0\t11\t11\t-10\t-3\n",
      "9\t4\t0\t13\t13\t-10\t-5\n",
      "9\t6\t0\t15\t15\t-10\t-7\n",
      "9\t16\t0\t25\t25\t-10\t-17\n",
      "9\t18\t0\t27\t27\t-10\t-19\n",
      "10\t0\t0\t10\t10\t-11\t-1\n",
      "10\t1\t0\t11\t11\t-11\t-2\n",
      "10\t4\t0\t14\t14\t-11\t-5\n",
      "10\t5\t0\t15\t15\t-11\t-6\n",
      "10\t16\t0\t26\t26\t-11\t-17\n",
      "10\t17\t0\t27\t27\t-11\t-18\n",
      "11\t0\t0\t11\t11\t-12\t-1\n",
      "11\t4\t0\t15\t15\t-12\t-5\n",
      "11\t16\t0\t27\t27\t-12\t-17\n",
      "12\t0\t0\t12\t12\t-13\t-1\n",
      "12\t1\t0\t13\t13\t-13\t-2\n",
      "12\t2\t0\t14\t14\t-13\t-3\n",
      "12\t3\t0\t15\t15\t-13\t-4\n",
      "12\t16\t0\t28\t28\t-13\t-17\n",
      "12\t17\t0\t29\t29\t-13\t-18\n",
      "12\t18\t0\t30\t30\t-13\t-19\n",
      "12\t19\t0\t31\t31\t-13\t-20\n",
      "13\t0\t0\t13\t13\t-14\t-1\n",
      "13\t2\t0\t15\t15\t-14\t-3\n",
      "13\t16\t0\t29\t29\t-14\t-17\n",
      "13\t18\t0\t31\t31\t-14\t-19\n",
      "14\t0\t0\t14\t14\t-15\t-1\n",
      "14\t1\t0\t15\t15\t-15\t-2\n",
      "14\t16\t0\t30\t30\t-15\t-17\n",
      "14\t17\t0\t31\t31\t-15\t-18\n",
      "15\t0\t0\t15\t15\t-16\t-1\n",
      "15\t16\t0\t31\t31\t-16\t-17\n",
      "16\t0\t0\t16\t16\t-17\t-1\n",
      "16\t1\t0\t17\t17\t-17\t-2\n",
      "16\t2\t0\t18\t18\t-17\t-3\n",
      "16\t3\t0\t19\t19\t-17\t-4\n",
      "16\t4\t0\t20\t20\t-17\t-5\n",
      "16\t5\t0\t21\t21\t-17\t-6\n",
      "16\t6\t0\t22\t22\t-17\t-7\n",
      "16\t7\t0\t23\t23\t-17\t-8\n",
      "16\t8\t0\t24\t24\t-17\t-9\n",
      "16\t9\t0\t25\t25\t-17\t-10\n",
      "16\t10\t0\t26\t26\t-17\t-11\n",
      "16\t11\t0\t27\t27\t-17\t-12\n",
      "16\t12\t0\t28\t28\t-17\t-13\n",
      "16\t13\t0\t29\t29\t-17\t-14\n",
      "16\t14\t0\t30\t30\t-17\t-15\n",
      "16\t15\t0\t31\t31\t-17\t-16\n",
      "17\t0\t0\t17\t17\t-18\t-1\n",
      "17\t2\t0\t19\t19\t-18\t-3\n",
      "17\t4\t0\t21\t21\t-18\t-5\n",
      "17\t6\t0\t23\t23\t-18\t-7\n",
      "17\t8\t0\t25\t25\t-18\t-9\n",
      "17\t10\t0\t27\t27\t-18\t-11\n",
      "17\t12\t0\t29\t29\t-18\t-13\n",
      "17\t14\t0\t31\t31\t-18\t-15\n",
      "18\t0\t0\t18\t18\t-19\t-1\n",
      "18\t1\t0\t19\t19\t-19\t-2\n",
      "18\t4\t0\t22\t22\t-19\t-5\n",
      "18\t5\t0\t23\t23\t-19\t-6\n",
      "18\t8\t0\t26\t26\t-19\t-9\n",
      "18\t9\t0\t27\t27\t-19\t-10\n",
      "18\t12\t0\t30\t30\t-19\t-13\n",
      "18\t13\t0\t31\t31\t-19\t-14\n",
      "19\t0\t0\t19\t19\t-20\t-1\n",
      "19\t4\t0\t23\t23\t-20\t-5\n",
      "19\t8\t0\t27\t27\t-20\t-9\n",
      "19\t12\t0\t31\t31\t-20\t-13\n"
     ]
    }
   ],
   "source": [
    "//Pattern recognition in bitwise operations\n",
    "cout << \"i\" << \"\\tj\" << \"\\t&\" << \"\\t|\" << \"\\t^\" << \"\\t~i\" << \"\\t~j\" << endl;\n",
    "for (int i = 0; i < 20; i++) \n",
    "{\n",
    "    for(int j = 0; j < 20; j++)\n",
    "    {\n",
    "        //if((i^j)== (i|j))\n",
    "        cout <<i << \"\\t\" << j  << \"\\t\" << (i&j)  << \"\\t\" << (i|j) << \"\\t\" << (i^j) << \"\\t\" << (~i) << \"\\t\" << (~j) << endl;\n",
    "    }\n",
    "}"
   ]
  },
  {
   "cell_type": "markdown",
   "id": "fb187fee",
   "metadata": {},
   "source": [
    "Points\n",
    "1. i&j < i or j \n",
    "2. i|j can be greater than max(i,j)\n",
    "3. ^ is xor op\n",
    "3. 0^any number = any number            \n",
    "4. number1 ^ number1 = 0\n",
    "5. Associative and commutative\n",
    "6. Precedence: ~ > (<< or >>) > & > ^ > |"
   ]
  },
  {
   "cell_type": "markdown",
   "id": "838858c9",
   "metadata": {},
   "source": [
    "### 1. Setting the High Least Significant Bit to Low"
   ]
  },
  {
   "cell_type": "code",
   "execution_count": 65,
   "id": "c45fd941",
   "metadata": {
    "vscode": {
     "languageId": "cpp"
    }
   },
   "outputs": [
    {
     "name": "stdout",
     "output_type": "stream",
     "text": [
      "Number:18\tBinary:00000000000000000000000000010010\n",
      "Number:16\tBinary:00000000000000000000000000010000\n"
     ]
    }
   ],
   "source": [
    "int x = 18;\n",
    "bitset<32> binaryX(x);\n",
    "int y = x & (x-1);\n",
    "bitset<32> binaryY(y);\n",
    "cout << \"Number:\"<< x << \"\\t\" << \"Binary:\" << binaryX << endl;\n",
    "cout << \"Number:\"<< y << \"\\t\" << \"Binary:\" << binaryY << endl;"
   ]
  },
  {
   "cell_type": "markdown",
   "id": "bd56056b",
   "metadata": {
    "vscode": {
     "languageId": "cpp"
    }
   },
   "source": [
    "### 2. Propogate Rightmost Set Bit"
   ]
  },
  {
   "cell_type": "code",
   "execution_count": 66,
   "id": "82fa4f21",
   "metadata": {
    "vscode": {
     "languageId": "cpp"
    }
   },
   "outputs": [
    {
     "name": "stdout",
     "output_type": "stream",
     "text": [
      "Number:18\tBinary:00000000000000000000000000010010\n",
      "Number:19\tBinary:00000000000000000000000000010011\n"
     ]
    }
   ],
   "source": [
    "int x = 18;\n",
    "bitset<32> binaryX(x);\n",
    "int y = x | (x-1);\n",
    "bitset<32> binaryY(y);\n",
    "cout << \"Number:\"<< x << \"\\t\" << \"Binary:\" << binaryX << endl;\n",
    "cout << \"Number:\"<< y << \"\\t\" << \"Binary:\" << binaryY << endl;"
   ]
  },
  {
   "cell_type": "markdown",
   "id": "3b27252a",
   "metadata": {},
   "source": [
    "### 3. Compute x modulo a power of 2. \n",
    "Eg: Return 13 for 77 mod 64"
   ]
  },
  {
   "cell_type": "code",
   "execution_count": 84,
   "id": "a24ca958",
   "metadata": {
    "vscode": {
     "languageId": "cpp"
    }
   },
   "outputs": [
    {
     "name": "stdout",
     "output_type": "stream",
     "text": [
      "Number:77\tBinary:00000000000000000000000001001101\n",
      "Number:64\tBinary:00000000000000000000000001000000\n",
      "Number:13\tBinary:00000000000000000000000000001101\n"
     ]
    }
   ],
   "source": [
    "int x = 77;\n",
    "bitset<32> binaryX(x);\n",
    "int y = 64;\n",
    "bitset<32> binaryY(y);\n",
    "int z = 13;\n",
    "bitset<32> binaryZ(z);\n",
    "cout << \"Number:\"<< x << \"\\t\" << \"Binary:\" << binaryX << endl;\n",
    "cout << \"Number:\"<< y << \"\\t\" << \"Binary:\" << binaryY << endl;\n",
    "cout << \"Number:\"<< z << \"\\t\" << \"Binary:\" << binaryZ << endl;"
   ]
  },
  {
   "cell_type": "code",
   "execution_count": null,
   "id": "8553586d",
   "metadata": {
    "vscode": {
     "languageId": "cpp"
    }
   },
   "outputs": [
    {
     "name": "stdout",
     "output_type": "stream",
     "text": [
      "Number:77\tBinary:00000000000000000000000001001101\n",
      "Number:64\tBinary:00000000000000000000000001000000\n",
      "Number:13\tBinary:00000000000000000000000000001101\n"
     ]
    }
   ],
   "source": [
    "// LeftMost Set Bit to Low\n",
    "int x = 77;\n",
    "bitset<32> binaryX(x);\n",
    "int y = 64;\n",
    "bitset<32> binaryY(y);\n",
    "int z = (77 << (32 - (int)log2(y))) >> (32 - (int)log2(y));\n",
    "bitset<32> binaryZ(z);\n",
    "cout << \"Number:\"<< x << \"\\t\" << \"Binary:\" << binaryX << endl;\n",
    "cout << \"Number:\"<< y << \"\\t\" << \"Binary:\" << binaryY << endl;\n",
    "cout << \"Number:\"<< z << \"\\t\" << \"Binary:\" << binaryZ << endl;"
   ]
  },
  {
   "cell_type": "markdown",
   "id": "550be4bf",
   "metadata": {},
   "source": [
    "### 4. Test if x is Power of 2"
   ]
  },
  {
   "cell_type": "code",
   "execution_count": 97,
   "id": "cf76a1ee",
   "metadata": {
    "vscode": {
     "languageId": "cpp"
    }
   },
   "outputs": [
    {
     "name": "stdout",
     "output_type": "stream",
     "text": [
      "Number:77\tBinary:00000000000000000000000001001101\n",
      "Number:76\tBinary:00000000000000000000000001001100\n",
      "Is Power of Two: 0\n"
     ]
    }
   ],
   "source": [
    "int x = 77;\n",
    "bitset<32> binaryX(x);\n",
    "int y = x & (x-1);\n",
    "bitset<32> binaryY(y);\n",
    "bool isPowerOfTwo = y == 0;\n",
    "cout << \"Number:\"<< x << \"\\t\" << \"Binary:\" << binaryX << endl;\n",
    "cout << \"Number:\"<< y << \"\\t\" << \"Binary:\" << binaryY << endl;\n",
    "// Zero means False \n",
    "// One means True\n",
    "cout << \"Is Power of Two: \" << isPowerOfTwo << endl;"
   ]
  },
  {
   "cell_type": "code",
   "execution_count": null,
   "id": "6f23d99e",
   "metadata": {
    "vscode": {
     "languageId": "plaintext"
    }
   },
   "outputs": [],
   "source": []
  }
 ],
 "metadata": {
  "kernelspec": {
   "display_name": "C++17",
   "language": "C++17",
   "name": "xcpp17"
  },
  "language_info": {
   "codemirror_mode": "text/x-c++src",
   "file_extension": ".cpp",
   "mimetype": "text/x-c++src",
   "name": "c++",
   "version": "17"
  }
 },
 "nbformat": 4,
 "nbformat_minor": 5
}
