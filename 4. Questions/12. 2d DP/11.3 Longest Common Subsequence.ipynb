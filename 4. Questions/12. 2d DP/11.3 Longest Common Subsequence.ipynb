{
 "cells": [
  {
   "cell_type": "code",
   "execution_count": null,
   "id": "b42a9b53",
   "metadata": {
    "vscode": {
     "languageId": "plaintext"
    }
   },
   "outputs": [],
   "source": [
    "class Solution {\n",
    "public:\n",
    "    \n",
    "    int LCS_helper(string&text1, string&text2 ,int indx1, int indx2, vector<vector<int>>&dp)\n",
    "    {\n",
    "        if(indx1 >= text1.size() || indx2 >= text2.size())\n",
    "        return 0;\n",
    "\n",
    "        if(dp[indx1][indx2] != -1)\n",
    "        return dp[indx1][indx2];\n",
    "\n",
    "        if(text1[indx1] == text2[indx2])\n",
    "        {\n",
    "            return dp[indx1][indx2] = 1 + LCS_helper(text1, text2, indx1+1,indx2+1,dp);\n",
    "        }\n",
    "        else\n",
    "        {\n",
    "            return dp[indx1][indx2] = max(LCS_helper(text1,text2, indx1+1, indx2, dp), LCS_helper(text1,text2,indx1, indx2+1, dp));\n",
    "        }\n",
    "    }\n",
    "    int longestCommonSubsequence(string text1, string text2) {\n",
    "        vector<vector<int>> dp (text1.length(), vector<int>(text2.length(),-1));\n",
    "        return LCS_helper(text1,text2, 0,0,dp);\n",
    "    }\n",
    "};"
   ]
  },
  {
   "cell_type": "markdown",
   "id": "97072dd9",
   "metadata": {},
   "source": [
    "https://leetcode.com/problems/longest-common-subsequence/description/"
   ]
  }
 ],
 "metadata": {
  "language_info": {
   "name": "python"
  }
 },
 "nbformat": 4,
 "nbformat_minor": 5
}
