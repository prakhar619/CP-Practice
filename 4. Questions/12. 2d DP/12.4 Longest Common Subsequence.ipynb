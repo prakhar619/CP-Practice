{
 "cells": [
  {
   "cell_type": "markdown",
   "id": "2e26900f",
   "metadata": {},
   "source": [
    "#### Chapter 12: 2D DP"
   ]
  },
  {
   "cell_type": "code",
   "execution_count": 1,
   "id": "d01fb270",
   "metadata": {
    "vscode": {
     "languageId": "cpp"
    }
   },
   "outputs": [],
   "source": [
    "#include <string>\n",
    "#include <vector>\n",
    "using namespace std;"
   ]
  },
  {
   "cell_type": "markdown",
   "id": "968290de",
   "metadata": {},
   "source": [
    "### 4. Longest Common Subsequence"
   ]
  },
  {
   "cell_type": "markdown",
   "id": "9109fe8b",
   "metadata": {},
   "source": [
    "> Given two strings text1 and text2, return the length of their longest common subsequence. If there is no common subsequence, return 0."
   ]
  },
  {
   "cell_type": "markdown",
   "id": "97072dd9",
   "metadata": {},
   "source": [
    "*Leetcode Link:* https://leetcode.com/problems/longest-common-subsequence/"
   ]
  },
  {
   "cell_type": "markdown",
   "id": "7f530514",
   "metadata": {},
   "source": [
    "**Best Possible Solution:**"
   ]
  },
  {
   "cell_type": "markdown",
   "id": "a33d93d0",
   "metadata": {},
   "source": [
    "### Method 1\n",
    "Time Complexity: O(m * n)  \n",
    "Space Complexity: O(m * n) [Array] + O(m * n)  [Stack]\n",
    "###### Characteristic Eqn: T(x,y) = T(x-1,y) + T(x,y-1) + O(1) = O(2^(m+n))"
   ]
  },
  {
   "cell_type": "code",
   "execution_count": 2,
   "id": "b42a9b53",
   "metadata": {
    "vscode": {
     "languageId": "cpp"
    }
   },
   "outputs": [],
   "source": [
    "class Solution {\n",
    "public:\n",
    "    \n",
    "    int LCS_helper(string&text1, string&text2 ,int indx1, int indx2, vector<vector<int>>&dp)\n",
    "    {\n",
    "        if(indx1 >= text1.size() || indx2 >= text2.size())\n",
    "        return 0;\n",
    "\n",
    "        if(dp[indx1][indx2] != -1)\n",
    "        return dp[indx1][indx2];\n",
    "\n",
    "        if(text1[indx1] == text2[indx2])\n",
    "        {\n",
    "            //matching \n",
    "            return dp[indx1][indx2] = 1 + LCS_helper(text1, text2, indx1+1,indx2+1,dp);\n",
    "        }\n",
    "        else\n",
    "        {\n",
    "            //move pointer a once, once pointer b\n",
    "            return dp[indx1][indx2] = max(LCS_helper(text1,text2, indx1+1, indx2, dp), LCS_helper(text1,text2,indx1, indx2+1, dp));\n",
    "        }\n",
    "    }\n",
    "    int longestCommonSubsequence(string text1, string text2) {\n",
    "        vector<vector<int>> dp (text1.length(), vector<int>(text2.length(),-1));\n",
    "        return LCS_helper(text1,text2, 0,0,dp);\n",
    "    }\n",
    "};"
   ]
  }
 ],
 "metadata": {
  "kernelspec": {
   "display_name": "C++17",
   "language": "C++17",
   "name": "xcpp17"
  },
  "language_info": {
   "codemirror_mode": "text/x-c++src",
   "file_extension": ".cpp",
   "mimetype": "text/x-c++src",
   "name": "c++",
   "version": "17"
  }
 },
 "nbformat": 4,
 "nbformat_minor": 5
}
