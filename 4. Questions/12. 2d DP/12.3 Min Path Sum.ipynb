{
 "cells": [
  {
   "cell_type": "markdown",
   "id": "9ac2c9c3",
   "metadata": {},
   "source": [
    "### Chapter 12: 2D DP\n"
   ]
  },
  {
   "cell_type": "code",
   "execution_count": 2,
   "id": "cf171b57",
   "metadata": {
    "vscode": {
     "languageId": "cpp"
    }
   },
   "outputs": [],
   "source": [
    "#include <vector>\n",
    "using namespace std;"
   ]
  },
  {
   "cell_type": "markdown",
   "id": "91a6d9d9",
   "metadata": {},
   "source": [
    "### 3. Min Path Sum"
   ]
  },
  {
   "cell_type": "markdown",
   "id": "be87a53c",
   "metadata": {},
   "source": [
    "> Given a m x n grid filled with non-negative numbers, find a path from top left to bottom right, which minimizes the sum of all numbers along its path.\n",
    "\n",
    "> Note: You can only move either down or right at any point in time."
   ]
  },
  {
   "cell_type": "markdown",
   "id": "119906bd",
   "metadata": {},
   "source": [
    "*Leetcode Link:* https://leetcode.com/problems/minimum-path-sum/"
   ]
  },
  {
   "cell_type": "markdown",
   "id": "a4659161",
   "metadata": {},
   "source": [
    "**Best Possible Solution:**"
   ]
  },
  {
   "cell_type": "markdown",
   "id": "032a8165",
   "metadata": {},
   "source": [
    "### Method 1\n",
    "Time Complexity: O(m * n)   \n",
    "Space Complexity: O(m * n) [because of stack]\n",
    "###### Characteristic Eqn: T(x,y) = T(x-1,y) + T(x,y-1) + O(1) = 2T(x-1,y) + O(1) = O(2^(m+n)) [without DP]"
   ]
  },
  {
   "cell_type": "code",
   "execution_count": null,
   "id": "05be2980",
   "metadata": {
    "vscode": {
     "languageId": "cpp"
    }
   },
   "outputs": [],
   "source": [
    "class Solution {\n",
    "public:\n",
    "\n",
    "    int gridHelper(vector<vector<int>>& grid, int x, int y)\n",
    "    {\n",
    "        //handling grid edges\n",
    "        if(x >= grid.size() || y >= grid[0].size())\n",
    "        return INT_MIN;\n",
    "\n",
    "        if(grid[x][y] < 0)\n",
    "        return grid[x][y];\n",
    "\n",
    "        if(x == grid.size()-1 && y == grid[0].size()-1)\n",
    "        {\n",
    "            grid[x][y] = -grid[x][y];\n",
    "            return grid[x][y];\n",
    "        }\n",
    "        grid[x][y] = -grid[x][y] + max(gridHelper(grid,x+1,y), gridHelper(grid,x,y+1));\n",
    "        return grid[x][y];\n",
    "    }\n",
    "    int minPathSum(vector<vector<int>>& grid) {\n",
    "        gridHelper(grid,0,0);\n",
    "        return -grid[0][0];\n",
    "\n",
    "\n",
    "    }\n",
    "};"
   ]
  },
  {
   "cell_type": "markdown",
   "id": "df04fd95",
   "metadata": {},
   "source": []
  }
 ],
 "metadata": {
  "kernelspec": {
   "display_name": "C++17",
   "language": "C++17",
   "name": "xcpp17"
  },
  "language_info": {
   "codemirror_mode": "text/x-c++src",
   "file_extension": ".cpp",
   "mimetype": "text/x-c++src",
   "name": "c++",
   "version": "17"
  }
 },
 "nbformat": 4,
 "nbformat_minor": 5
}
