{
 "cells": [
  {
   "cell_type": "code",
   "execution_count": null,
   "id": "05be2980",
   "metadata": {
    "vscode": {
     "languageId": "plaintext"
    }
   },
   "outputs": [],
   "source": [
    "class Solution {\n",
    "public:\n",
    "\n",
    "    int gridHelper(vector<vector<int>>& grid, int x, int y)\n",
    "    {\n",
    "        if(x >= grid.size() || y >= grid[0].size())\n",
    "        return INT_MIN;\n",
    "\n",
    "        if(grid[x][y] < 0)\n",
    "        return grid[x][y];\n",
    "\n",
    "        if(x == grid.size()-1 && y == grid[0].size()-1)\n",
    "        {\n",
    "            grid[x][y] = -grid[x][y];\n",
    "            return grid[x][y];\n",
    "        }\n",
    "        grid[x][y] = -grid[x][y] + max(gridHelper(grid,x+1,y), gridHelper(grid,x,y+1));\n",
    "        return grid[x][y];\n",
    "    }\n",
    "    int minPathSum(vector<vector<int>>& grid) {\n",
    "        gridHelper(grid,0,0);\n",
    "        return -grid[0][0];\n",
    "\n",
    "\n",
    "    }\n",
    "};"
   ]
  },
  {
   "cell_type": "markdown",
   "id": "119906bd",
   "metadata": {},
   "source": [
    "https://leetcode.com/problems/minimum-path-sum/description/"
   ]
  }
 ],
 "metadata": {
  "language_info": {
   "name": "python"
  }
 },
 "nbformat": 4,
 "nbformat_minor": 5
}
