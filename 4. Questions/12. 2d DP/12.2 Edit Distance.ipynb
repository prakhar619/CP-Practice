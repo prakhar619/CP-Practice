{
 "cells": [
  {
   "cell_type": "code",
   "execution_count": null,
   "id": "b1258f04",
   "metadata": {
    "vscode": {
     "languageId": "plaintext"
    }
   },
   "outputs": [],
   "source": [
    "class Solution {\n",
    "public:\n",
    "    int helper(string&word1, string&word2, int indx1, int indx2, vector<vector<int>>&dp)\n",
    "    {\n",
    "\n",
    "        if(dp[indx1][indx2] != -1)\n",
    "        return dp[indx1][indx2];\n",
    "\n",
    "        if(indx1 >= word1.size() || indx2 >= word2.size())\n",
    "        {\n",
    "            return dp[indx1][indx2] = max(word1.size() - indx1, word2.size() - indx2);\n",
    "        }\n",
    "\n",
    "        if(word1[indx1] == word2[indx2])\n",
    "        {\n",
    "            return dp[indx1][indx2] =helper(word1,word2,indx1+1,indx2+1,dp);\n",
    "        }\n",
    "        else\n",
    "        {\n",
    "            return  dp[indx1][indx2] = 1 + min(min(helper(word1,word2,indx1,indx2+1,dp), helper(word1,word2, indx1+1, indx2,dp)), helper(word1,word2,indx1+1,indx2+1,dp));\n",
    "        }\n",
    "    }\n",
    "    int minDistance(string word1, string word2) {\n",
    "        vector<vector<int>> dp(word1.size()+1, vector<int>(word2.size()+1,-1));\n",
    "        return helper(word1,word2,0,0,dp);\n",
    "    }\n",
    "};"
   ]
  },
  {
   "cell_type": "markdown",
   "id": "776a2adc",
   "metadata": {},
   "source": [
    "https://leetcode.com/problems/edit-distance/"
   ]
  }
 ],
 "metadata": {
  "language_info": {
   "name": "python"
  }
 },
 "nbformat": 4,
 "nbformat_minor": 5
}
