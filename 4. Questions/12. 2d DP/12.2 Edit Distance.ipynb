{
 "cells": [
  {
   "cell_type": "markdown",
   "id": "b4666d03",
   "metadata": {},
   "source": [
    "#### Chapter 12: 2D DP"
   ]
  },
  {
   "cell_type": "code",
   "execution_count": 1,
   "id": "239eec52",
   "metadata": {
    "vscode": {
     "languageId": "cpp"
    }
   },
   "outputs": [],
   "source": [
    "#include <vector>\n",
    "using namespace std;"
   ]
  },
  {
   "cell_type": "markdown",
   "id": "3c117409",
   "metadata": {},
   "source": [
    "### 2. Edit Distance"
   ]
  },
  {
   "cell_type": "markdown",
   "id": "f34fe6b9",
   "metadata": {},
   "source": [
    "> Given two strings word1 and word2, return the minimum number of operations required to convert word1 to word2.\n",
    "\n",
    "> You have the following three operations permitted on a word:  \n",
    "Insert a character  \n",
    "Delete a character  \n",
    "Replace a character  \n"
   ]
  },
  {
   "cell_type": "markdown",
   "id": "776a2adc",
   "metadata": {},
   "source": [
    "*Leetcode Link:* https://leetcode.com/problems/edit-distance/"
   ]
  },
  {
   "cell_type": "markdown",
   "id": "d51af021",
   "metadata": {},
   "source": [
    "**Best Possible Solution:**"
   ]
  },
  {
   "cell_type": "markdown",
   "id": "85b3f1bd",
   "metadata": {},
   "source": [
    "### Method 1\n",
    "Time Complexity: O(m * n)   \n",
    "Space Complexity: O(m * n)\n",
    "###### where n and m are size of input strings"
   ]
  },
  {
   "cell_type": "code",
   "execution_count": 3,
   "id": "b1258f04",
   "metadata": {
    "vscode": {
     "languageId": "cpp"
    }
   },
   "outputs": [],
   "source": [
    "class Solution {\n",
    "public:\n",
    "    int helper(string&word1, string&word2, int indx1, int indx2, vector<vector<int>>&dp)\n",
    "    {\n",
    "\n",
    "        if(dp[indx1][indx2] != -1)\n",
    "        return dp[indx1][indx2];\n",
    "\n",
    "        if(indx1 >= word1.size() || indx2 >= word2.size())\n",
    "        {\n",
    "            //delete or insert\n",
    "            return dp[indx1][indx2] = max(word1.size() - indx1, word2.size() - indx2);\n",
    "        }\n",
    "\n",
    "        if(word1[indx1] == word2[indx2])\n",
    "        {\n",
    "            //no change\n",
    "            return dp[indx1][indx2] =helper(word1,word2,indx1+1,indx2+1,dp);\n",
    "        }\n",
    "        else\n",
    "        {\n",
    "            //1 character insert, 1 character delete, 1 character replace\n",
    "            return  dp[indx1][indx2] = 1 + min(min(helper(word1,word2,indx1,indx2+1,dp), helper(word1,word2, indx1+1, indx2,dp)), helper(word1,word2,indx1+1,indx2+1,dp));\n",
    "        }\n",
    "    }\n",
    "    int minDistance(string word1, string word2) {\n",
    "        vector<vector<int>> dp(word1.size()+1, vector<int>(word2.size()+1,-1));\n",
    "        return helper(word1,word2,0,0,dp);\n",
    "    }\n",
    "};"
   ]
  },
  {
   "cell_type": "code",
   "execution_count": null,
   "id": "56318788",
   "metadata": {
    "vscode": {
     "languageId": "cpp"
    }
   },
   "outputs": [],
   "source": []
  }
 ],
 "metadata": {
  "kernelspec": {
   "display_name": "C++17",
   "language": "C++17",
   "name": "xcpp17"
  },
  "language_info": {
   "codemirror_mode": "text/x-c++src",
   "file_extension": ".cpp",
   "mimetype": "text/x-c++src",
   "name": "c++",
   "version": "17"
  }
 },
 "nbformat": 4,
 "nbformat_minor": 5
}
