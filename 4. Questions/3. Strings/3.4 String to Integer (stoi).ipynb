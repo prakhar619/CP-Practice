{
 "cells": [
  {
   "cell_type": "markdown",
   "id": "79ee3fe2",
   "metadata": {},
   "source": [
    "#### Chapter 3: String"
   ]
  },
  {
   "cell_type": "code",
   "execution_count": 1,
   "id": "b756c890",
   "metadata": {
    "vscode": {
     "languageId": "cpp"
    }
   },
   "outputs": [],
   "source": [
    "#include <string>\n",
    "#include <climits>\n",
    "using namespace std;"
   ]
  },
  {
   "cell_type": "markdown",
   "id": "2a54869c",
   "metadata": {},
   "source": [
    "### 4. String to Integer (stoi)"
   ]
  },
  {
   "cell_type": "markdown",
   "id": "415dbbc4",
   "metadata": {},
   "source": [
    "> Convert given string to integer (implement c stoi function) with all error handling for non-numeric characters"
   ]
  },
  {
   "cell_type": "markdown",
   "id": "303e9c74",
   "metadata": {},
   "source": [
    "*Leetcode Link:* https://leetcode.com/problems/string-to-integer-atoi/"
   ]
  },
  {
   "cell_type": "markdown",
   "id": "0306781e",
   "metadata": {},
   "source": [
    "**Best Possible Solution:**"
   ]
  },
  {
   "cell_type": "markdown",
   "id": "a68ad951",
   "metadata": {},
   "source": [
    "### Method 1\n",
    "Time Complexity: O(n)  \n",
    "Space Complexity: O(1)"
   ]
  },
  {
   "cell_type": "code",
   "execution_count": null,
   "id": "7a5672e3",
   "metadata": {
    "vscode": {
     "languageId": "cpp"
    }
   },
   "outputs": [],
   "source": [
    "class Solution {\n",
    "public:\n",
    "    int myAtoi(string s) {\n",
    "        int ans = 0;\n",
    "        int negativeFlg = 1;\n",
    "        int breakFlg = 0;\n",
    "        for(int i = 0; i < s.length(); i++)\n",
    "        {\n",
    "            //handling negative sign\n",
    "            if(s[i] == '-' && breakFlg == 0)\n",
    "            {\n",
    "                negativeFlg = -1;\n",
    "                breakFlg = 1;\n",
    "            }\n",
    "            //handing space and plus sign\n",
    "            else if((s[i] == ' ' || s[i] == '+') && breakFlg == 0)\n",
    "            {\n",
    "                if(s[i] == '+')\n",
    "                breakFlg = 1;\n",
    "            }\n",
    "            //handling all other non-numeric characters\n",
    "            else if(s[i] - '0' < 0 || s[i] - '9' > 0)\n",
    "            {\n",
    "                return ans;\n",
    "            }\n",
    "            //handlin numeric characters along with overflow check\n",
    "            else\n",
    "            {\n",
    "                if(ans > (INT_MAX - (s[i] - '0'))/10 )\n",
    "                return INT_MAX;\n",
    "                if(ans < (INT_MIN + (s[i] - '0'))/10)\n",
    "                return INT_MIN;\n",
    "                ans = ans * 10 + negativeFlg * (s[i] - '0');\n",
    "                breakFlg = 1;\n",
    "            }\n",
    "        }\n",
    "        return ans;\n",
    "    }\n",
    "};"
   ]
  }
 ],
 "metadata": {
  "kernelspec": {
   "display_name": "C++17",
   "language": "C++17",
   "name": "xcpp17"
  },
  "language_info": {
   "codemirror_mode": "text/x-c++src",
   "file_extension": ".cpp",
   "mimetype": "text/x-c++src",
   "name": "c++",
   "version": "17"
  }
 },
 "nbformat": 4,
 "nbformat_minor": 5
}
