{
 "cells": [
  {
   "cell_type": "code",
   "execution_count": null,
   "id": "7a5672e3",
   "metadata": {
    "vscode": {
     "languageId": "plaintext"
    }
   },
   "outputs": [],
   "source": [
    "class Solution {\n",
    "public:\n",
    "    int myAtoi(string s) {\n",
    "        int ans = 0;\n",
    "        int negativeFlg = 1;\n",
    "        int breakFlg = 0;\n",
    "        for(int i = 0; i < s.length(); i++)\n",
    "        {\n",
    "            if(s[i] == '-' && breakFlg == 0)\n",
    "            {\n",
    "                negativeFlg = -1;\n",
    "                breakFlg = 1;\n",
    "            }\n",
    "            else if((s[i] == ' ' || s[i] == '+') && breakFlg == 0)\n",
    "            {\n",
    "                if(s[i] == '+')\n",
    "                breakFlg = 1;\n",
    "            }\n",
    "            else if(s[i] - '0' < 0 || s[i] - '9' > 0)\n",
    "            {\n",
    "                return ans;\n",
    "            }\n",
    "            else\n",
    "            {\n",
    "                if(ans > (INT_MAX - (s[i] - '0'))/10 )\n",
    "                return INT_MAX;\n",
    "                if(ans < (INT_MIN + (s[i] - '0'))/10)\n",
    "                return INT_MIN;\n",
    "                ans = ans * 10 + negativeFlg * (s[i] - '0');\n",
    "                breakFlg = 1;\n",
    "            }\n",
    "        }\n",
    "        return ans;\n",
    "    }\n",
    "};"
   ]
  },
  {
   "cell_type": "markdown",
   "id": "303e9c74",
   "metadata": {},
   "source": [
    "https://leetcode.com/problems/string-to-integer-atoi/description/"
   ]
  }
 ],
 "metadata": {
  "language_info": {
   "name": "python"
  }
 },
 "nbformat": 4,
 "nbformat_minor": 5
}
