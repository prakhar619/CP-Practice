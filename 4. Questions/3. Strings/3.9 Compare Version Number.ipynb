{
 "cells": [
  {
   "cell_type": "markdown",
   "id": "45b90372",
   "metadata": {},
   "source": [
    "#### Chapter 3: String"
   ]
  },
  {
   "cell_type": "code",
   "execution_count": 1,
   "id": "cbd9e859",
   "metadata": {
    "vscode": {
     "languageId": "cpp"
    }
   },
   "outputs": [],
   "source": [
    "#include <string>\n",
    "using namespace std;"
   ]
  },
  {
   "cell_type": "markdown",
   "id": "a4a8ee5f",
   "metadata": {},
   "source": [
    "### 9. Compare Version Number"
   ]
  },
  {
   "cell_type": "markdown",
   "id": "ca6936ab",
   "metadata": {},
   "source": [
    "> Versioning: 0.0 = 0.0.0.0 -> 0.0.0.1 -> 0.0.1 -> 0.0.15 -> 0.1 -> 1\n",
    "  \n",
    "> Given 2 version string compare them and return 1 if version1 (first string) is greater/larger/newer than version2 string"
   ]
  },
  {
   "cell_type": "markdown",
   "id": "d36dcedc",
   "metadata": {},
   "source": [
    "*Leetcode Solution:* https://leetcode.com/problems/compare-version-numbers/"
   ]
  },
  {
   "cell_type": "markdown",
   "id": "e0226b2d",
   "metadata": {},
   "source": [
    "**Best Possible Solution:**"
   ]
  },
  {
   "cell_type": "markdown",
   "id": "95db81f1",
   "metadata": {},
   "source": [
    "### Method 1\n",
    "Time Complexity: O(n)   \n",
    "Space Complexity: O(n)\n",
    "###### where n is size of input string"
   ]
  },
  {
   "cell_type": "code",
   "execution_count": 2,
   "id": "9e311313",
   "metadata": {
    "vscode": {
     "languageId": "cpp"
    }
   },
   "outputs": [],
   "source": [
    "class Solution {\n",
    "public:\n",
    "    int compareVersion(string version1, string version2) {\n",
    "        if(version1 == version2 && version1 == \"\")\n",
    "        return 0;\n",
    "        string beforeDot;\n",
    "        string beforeDot2;\n",
    "        string afterDot;\n",
    "        string afterDot2;\n",
    "\n",
    "        int dotIndex = version1.find(\".\");\n",
    "        if(dotIndex != -1)\n",
    "        {\n",
    "            beforeDot = version1.substr(0,dotIndex);\n",
    "            afterDot = version1.substr(dotIndex+1, version1.length()-dotIndex);\n",
    "        }\n",
    "        else\n",
    "        {\n",
    "            beforeDot = version1;\n",
    "            afterDot = \"\";\n",
    "        }\n",
    "\n",
    "        int dotIndex2 = version2.find(\".\");\n",
    "        if(dotIndex2 != -1)\n",
    "        {\n",
    "            beforeDot2 = version2.substr(0,dotIndex2);\n",
    "            afterDot2 = version2.substr(dotIndex2+1, version2.length()-dotIndex2);\n",
    "        }\n",
    "        else\n",
    "        {\n",
    "            beforeDot2 = version2;\n",
    "            afterDot2 = \"\";\n",
    "        }\n",
    "\n",
    "        //cout << beforeDot <<  \" \" <<  beforeDot2 << endl;\n",
    "\n",
    "        int value1;\n",
    "        if(beforeDot == \"\")\n",
    "        value1 = 0;\n",
    "        else\n",
    "        value1 = stoi(beforeDot);\n",
    "\n",
    "        int value2;\n",
    "        if(beforeDot2 == \"\")\n",
    "        value2 = 0;\n",
    "        else\n",
    "        value2 = stoi(beforeDot2);\n",
    "\n",
    "        if(value1 > value2 )\n",
    "        return 1;\n",
    "        else if(value1 < value2)\n",
    "        return -1;\n",
    "        else\n",
    "        {\n",
    "            return compareVersion(afterDot, afterDot2);\n",
    "        }\n",
    "\n",
    "    }\n",
    "};"
   ]
  },
  {
   "cell_type": "markdown",
   "id": "6fd36b18",
   "metadata": {},
   "source": [
    "### Method 1\n",
    "Time Complexity: O(n)   \n",
    "Space Complexity: O(1)\n",
    "###### where n is size of input string"
   ]
  },
  {
   "cell_type": "code",
   "execution_count": 3,
   "id": "8ae868a6",
   "metadata": {
    "vscode": {
     "languageId": "cpp"
    }
   },
   "outputs": [],
   "source": [
    "class Solution {\n",
    "public:\n",
    "    int compareVersion(string version1, string version2) {\n",
    "        int i = 0, j = 0;\n",
    "\n",
    "        while( i < version1.size() || j < version2.size())\n",
    "        {\n",
    "            int v1 = 0;\n",
    "            int v2 = 0;\n",
    "            while(i < version1.size() && version1[i] != '.')\n",
    "            {\n",
    "                v1 = (version1[i] - '0') + v1*10;\n",
    "                i++;\n",
    "            }\n",
    "\n",
    "            while(j < version2.size() && version2[j] != '.')\n",
    "            {\n",
    "                v2 = (version2[j] - '0') + v2*10;\n",
    "                j++;\n",
    "            }\n",
    "\n",
    "            if(v1 > v2)\n",
    "            return 1;\n",
    "            else if(v2 > v1)\n",
    "            return -1;\n",
    "\n",
    "            i++;\n",
    "            j++;\n",
    "        }\n",
    "        return 0;\n",
    "\n",
    "    }\n",
    "};"
   ]
  }
 ],
 "metadata": {
  "kernelspec": {
   "display_name": "C++17",
   "language": "C++17",
   "name": "xcpp17"
  },
  "language_info": {
   "codemirror_mode": "text/x-c++src",
   "file_extension": ".cpp",
   "mimetype": "text/x-c++src",
   "name": "c++",
   "version": "17"
  }
 },
 "nbformat": 4,
 "nbformat_minor": 5
}
