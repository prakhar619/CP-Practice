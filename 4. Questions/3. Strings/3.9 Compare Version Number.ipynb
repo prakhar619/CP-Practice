{
 "cells": [
  {
   "cell_type": "code",
   "execution_count": null,
   "id": "9e311313",
   "metadata": {
    "vscode": {
     "languageId": "plaintext"
    }
   },
   "outputs": [],
   "source": [
    "class Solution {\n",
    "public:\n",
    "    int compareVersion(string version1, string version2) {\n",
    "        if(version1 == version2 && version1 == \"\")\n",
    "        return 0;\n",
    "        string beforeDot;\n",
    "        string beforeDot2;\n",
    "        string afterDot;\n",
    "        string afterDot2;\n",
    "\n",
    "        int dotIndex = version1.find(\".\");\n",
    "        if(dotIndex != -1)\n",
    "        {\n",
    "            beforeDot = version1.substr(0,dotIndex);\n",
    "            afterDot = version1.substr(dotIndex+1, version1.length()-dotIndex);\n",
    "        }\n",
    "        else\n",
    "        {\n",
    "            beforeDot = version1;\n",
    "            afterDot = \"\";\n",
    "        }\n",
    "\n",
    "        int dotIndex2 = version2.find(\".\");\n",
    "        if(dotIndex2 != -1)\n",
    "        {\n",
    "            beforeDot2 = version2.substr(0,dotIndex2);\n",
    "            afterDot2 = version2.substr(dotIndex2+1, version2.length()-dotIndex2);\n",
    "        }\n",
    "        else\n",
    "        {\n",
    "            beforeDot2 = version2;\n",
    "            afterDot2 = \"\";\n",
    "        }\n",
    "\n",
    "        cout << beforeDot <<  \" \" <<  beforeDot2 << endl;\n",
    "\n",
    "        int value1;\n",
    "        if(beforeDot == \"\")\n",
    "        value1 = 0;\n",
    "        else\n",
    "        value1 = stoi(beforeDot);\n",
    "\n",
    "        int value2;\n",
    "        if(beforeDot2 == \"\")\n",
    "        value2 = 0;\n",
    "        else\n",
    "        value2 = stoi(beforeDot2);\n",
    "\n",
    "        if(value1 > value2 )\n",
    "        return 1;\n",
    "        else if(value1 < value2)\n",
    "        return -1;\n",
    "        else\n",
    "        {\n",
    "            return compareVersion(afterDot, afterDot2);\n",
    "        }\n",
    "\n",
    "    }\n",
    "};"
   ]
  },
  {
   "cell_type": "markdown",
   "id": "d36dcedc",
   "metadata": {},
   "source": [
    "https://leetcode.com/problems/compare-version-numbers/"
   ]
  },
  {
   "cell_type": "code",
   "execution_count": null,
   "id": "8ae868a6",
   "metadata": {
    "vscode": {
     "languageId": "plaintext"
    }
   },
   "outputs": [],
   "source": [
    "class Solution {\n",
    "public:\n",
    "    int compareVersion(string version1, string version2) {\n",
    "        int i = 0, j = 0;\n",
    "\n",
    "        while( i < version1.size() || j < version2.size())\n",
    "        {\n",
    "            int v1 = 0;\n",
    "            int v2 = 0;\n",
    "            while(i < version1.size() && version1[i] != '.')\n",
    "            {\n",
    "                v1 = (version1[i] - '0') + v1*10;\n",
    "                i++;\n",
    "            }\n",
    "\n",
    "            while(j < version2.size() && version2[j] != '.')\n",
    "            {\n",
    "                v2 = (version2[j] - '0') + v2*10;\n",
    "                j++;\n",
    "            }\n",
    "\n",
    "            if(v1 > v2)\n",
    "            return 1;\n",
    "            else if(v2 > v1)\n",
    "            return -1;\n",
    "\n",
    "            i++;\n",
    "            j++;\n",
    "        }\n",
    "        return 0;\n",
    "\n",
    "    }\n",
    "};"
   ]
  }
 ],
 "metadata": {
  "language_info": {
   "name": "python"
  }
 },
 "nbformat": 4,
 "nbformat_minor": 5
}
