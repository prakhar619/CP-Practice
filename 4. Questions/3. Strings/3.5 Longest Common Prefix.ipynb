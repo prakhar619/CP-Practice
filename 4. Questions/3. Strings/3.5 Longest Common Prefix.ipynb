{
 "cells": [
  {
   "cell_type": "markdown",
   "id": "20aa6215",
   "metadata": {},
   "source": [
    "https://leetcode.com/problems/longest-common-prefix/description/"
   ]
  },
  {
   "cell_type": "code",
   "execution_count": null,
   "id": "c6be0455",
   "metadata": {
    "vscode": {
     "languageId": "plaintext"
    }
   },
   "outputs": [],
   "source": [
    "class Solution {\n",
    "public:\n",
    "    string longestPrefix(string s, string t)\n",
    "    {\n",
    "        string u = \"\";\n",
    "        for(int i = 0 ; i < min(s.length(),t.length()); i++)\n",
    "        {\n",
    "            if(s[i] == t[i])\n",
    "            u += s[i];\n",
    "            else\n",
    "            return u;\n",
    "        }\n",
    "        return u;\n",
    "    }\n",
    "    string longestCommonPrefix(vector<string>& strs) {\n",
    "        string longest = strs[0];\n",
    "        for(int i = 1; i < strs.size(); i++)\n",
    "        {\n",
    "           longest=  longestPrefix(longest,strs[i]);\n",
    "        }\n",
    "        return longest;\n",
    "    }\n",
    "};"
   ]
  }
 ],
 "metadata": {
  "language_info": {
   "name": "python"
  }
 },
 "nbformat": 4,
 "nbformat_minor": 5
}
