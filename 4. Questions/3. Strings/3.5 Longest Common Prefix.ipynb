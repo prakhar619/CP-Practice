{
 "cells": [
  {
   "cell_type": "markdown",
   "id": "3667ee30",
   "metadata": {},
   "source": [
    "#### Chapter 3: Strings"
   ]
  },
  {
   "cell_type": "code",
   "execution_count": 1,
   "id": "b564a1c9",
   "metadata": {
    "vscode": {
     "languageId": "cpp"
    }
   },
   "outputs": [],
   "source": [
    "#include <string>\n",
    "using namespace std;"
   ]
  },
  {
   "cell_type": "markdown",
   "id": "f0919082",
   "metadata": {},
   "source": [
    "### 5. Longest Common Prefix"
   ]
  },
  {
   "cell_type": "markdown",
   "id": "2e490841",
   "metadata": {},
   "source": [
    "> Given a list of strings, find the longest prefix string common to all of them."
   ]
  },
  {
   "cell_type": "markdown",
   "id": "20aa6215",
   "metadata": {},
   "source": [
    "*Leetcode Link:* https://leetcode.com/problems/longest-common-prefix/"
   ]
  },
  {
   "cell_type": "markdown",
   "id": "64fdf49f",
   "metadata": {},
   "source": [
    "**Best Possible Solution:**"
   ]
  },
  {
   "cell_type": "markdown",
   "id": "4f4fd087",
   "metadata": {},
   "source": [
    "### Method 1\n",
    "Time Complexity: O(nm)  \n",
    "Space Complexity: O(1)\n",
    "###### where n is no of string and m is size of string itself"
   ]
  },
  {
   "cell_type": "code",
   "execution_count": 2,
   "id": "c6be0455",
   "metadata": {
    "vscode": {
     "languageId": "cpp"
    }
   },
   "outputs": [],
   "source": [
    "class Solution {\n",
    "public:\n",
    "    string longestPrefix(string s, string t)\n",
    "    {\n",
    "        string u = \"\";\n",
    "        for(int i = 0 ; i < min(s.length(),t.length()); i++)\n",
    "        {\n",
    "            if(s[i] == t[i])\n",
    "            u += s[i];\n",
    "            else\n",
    "            return u;\n",
    "        }\n",
    "        return u;\n",
    "    }\n",
    "    string longestCommonPrefix(vector<string>& strs) {\n",
    "        string longest = strs[0];\n",
    "        for(int i = 1; i < strs.size(); i++)\n",
    "        {\n",
    "           longest=  longestPrefix(longest,strs[i]);\n",
    "        }\n",
    "        return longest;\n",
    "    }\n",
    "};"
   ]
  },
  {
   "cell_type": "code",
   "execution_count": null,
   "id": "5514cc25",
   "metadata": {
    "vscode": {
     "languageId": "cpp"
    }
   },
   "outputs": [],
   "source": []
  }
 ],
 "metadata": {
  "kernelspec": {
   "display_name": "C++17",
   "language": "C++17",
   "name": "xcpp17"
  },
  "language_info": {
   "codemirror_mode": "text/x-c++src",
   "file_extension": ".cpp",
   "mimetype": "text/x-c++src",
   "name": "c++",
   "version": "17"
  }
 },
 "nbformat": 4,
 "nbformat_minor": 5
}
