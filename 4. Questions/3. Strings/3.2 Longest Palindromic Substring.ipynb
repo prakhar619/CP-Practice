{
 "cells": [
  {
   "cell_type": "code",
   "execution_count": null,
   "id": "25459b55",
   "metadata": {
    "vscode": {
     "languageId": "plaintext"
    }
   },
   "outputs": [],
   "source": [
    "class Solution {\n",
    "public:\n",
    "    string longestPalindrome(string s) {\n",
    "        int maxLen = 1;\n",
    "        int lowPtr = 0;\n",
    "        for(int i = 0; i < s.length(); i++)\n",
    "        {\n",
    "            //i and i\n",
    "            int len = 0;\n",
    "            while(i - len >= 0 &&  i+ len < s.length() && s[i-len] == s[i+len])\n",
    "            {\n",
    "                len++;\n",
    "            }\n",
    "            len--;\n",
    "            if(len*2+1 > maxLen)\n",
    "            {\n",
    "                maxLen = len*2+1;\n",
    "                lowPtr = i - len;\n",
    "            }\n",
    "\n",
    "            int len2 = 0;\n",
    "            while(i - len2 >= 0 && i + len2 +1 < s.length() && s[i-len2] == s[i+len2+1])\n",
    "            {\n",
    "                len2++;\n",
    "            }\n",
    "\n",
    "            len2--;\n",
    "            if(len2*2+2 > maxLen)\n",
    "            {\n",
    "                maxLen = len2*2+2;\n",
    "                lowPtr = i - len2;\n",
    "            }\n",
    "        }\n",
    "        //cout << lowPtr << \" \" << maxLen << endl;\n",
    "        return s.substr(lowPtr,maxLen);\n",
    "    }\n",
    "};"
   ]
  },
  {
   "cell_type": "markdown",
   "id": "c0c338d1",
   "metadata": {},
   "source": [
    "https://leetcode.com/problems/longest-palindromic-substring/description/"
   ]
  }
 ],
 "metadata": {
  "language_info": {
   "name": "python"
  }
 },
 "nbformat": 4,
 "nbformat_minor": 5
}
