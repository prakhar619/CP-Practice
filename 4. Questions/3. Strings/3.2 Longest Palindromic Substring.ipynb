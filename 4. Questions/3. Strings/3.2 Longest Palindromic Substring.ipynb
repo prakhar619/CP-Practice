{
 "cells": [
  {
   "cell_type": "markdown",
   "id": "835a8c1d",
   "metadata": {},
   "source": [
    "#### Chapter 3: Strings"
   ]
  },
  {
   "cell_type": "code",
   "execution_count": 1,
   "id": "3ff0f2c9",
   "metadata": {
    "vscode": {
     "languageId": "cpp"
    }
   },
   "outputs": [],
   "source": [
    "#include <string>\n",
    "using namespace std;"
   ]
  },
  {
   "cell_type": "markdown",
   "id": "9471bfde",
   "metadata": {},
   "source": [
    "### 2. Longest Palindromic Substring"
   ]
  },
  {
   "cell_type": "markdown",
   "id": "754076f3",
   "metadata": {},
   "source": [
    "> Given a string, find the longest palindromic substring present in it"
   ]
  },
  {
   "cell_type": "markdown",
   "id": "c0c338d1",
   "metadata": {},
   "source": [
    "*Leetcode Link:* https://leetcode.com/problems/longest-palindromic-substring/"
   ]
  },
  {
   "cell_type": "markdown",
   "id": "fcdfa50d",
   "metadata": {},
   "source": [
    "**Best Possible Solution:**"
   ]
  },
  {
   "cell_type": "markdown",
   "id": "55a335e1",
   "metadata": {},
   "source": [
    "### Method 1: Standard Procedure\n",
    "Time Complexity: O(n^2)   \n",
    "Space Complexity: O(1)\n",
    "###### where n is size of string s (#characters)"
   ]
  },
  {
   "cell_type": "code",
   "execution_count": null,
   "id": "25459b55",
   "metadata": {
    "vscode": {
     "languageId": "cpp"
    }
   },
   "outputs": [],
   "source": [
    "class Solution {\n",
    "public:\n",
    "    string longestPalindrome(string s) {\n",
    "        int maxLen = 1;\n",
    "        int lowPtr = 0;\n",
    "        for(int i = 0; i < s.length(); i++)\n",
    "        {\n",
    "            //i and i\n",
    "            int len = 0;\n",
    "            while(i - len >= 0 &&  i+ len < s.length() && s[i-len] == s[i+len])\n",
    "            {\n",
    "                len++;\n",
    "            }\n",
    "            len--;\n",
    "            if(len*2+1 > maxLen)\n",
    "            {\n",
    "                maxLen = len*2+1;\n",
    "                lowPtr = i - len;\n",
    "            }\n",
    "\n",
    "            int len2 = 0;\n",
    "            //i and i+1\n",
    "            while(i - len2 >= 0 && i + len2 +1 < s.length() && s[i-len2] == s[i+len2+1])\n",
    "            {\n",
    "                len2++;\n",
    "            }\n",
    "\n",
    "            len2--;\n",
    "            if(len2*2+2 > maxLen)\n",
    "            {\n",
    "                maxLen = len2*2+2;\n",
    "                lowPtr = i - len2;\n",
    "            }\n",
    "        }\n",
    "        //cout << lowPtr << \" \" << maxLen << endl;\n",
    "        return s.substr(lowPtr,maxLen);\n",
    "    }\n",
    "};"
   ]
  },
  {
   "cell_type": "markdown",
   "id": "b1725ea0",
   "metadata": {},
   "source": [
    "### Method 2: Manacher's Algorithm"
   ]
  }
 ],
 "metadata": {
  "kernelspec": {
   "display_name": "C++17",
   "language": "C++17",
   "name": "xcpp17"
  },
  "language_info": {
   "codemirror_mode": "text/x-c++src",
   "file_extension": ".cpp",
   "mimetype": "text/x-c++src",
   "name": "c++",
   "version": "17"
  }
 },
 "nbformat": 4,
 "nbformat_minor": 5
}
