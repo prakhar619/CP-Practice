{
 "cells": [
  {
   "cell_type": "markdown",
   "id": "a9f617b5",
   "metadata": {},
   "source": [
    "#### Chapter 3: Strings"
   ]
  },
  {
   "cell_type": "code",
   "execution_count": 1,
   "id": "7e227262",
   "metadata": {
    "vscode": {
     "languageId": "cpp"
    }
   },
   "outputs": [],
   "source": [
    "#include <string>\n",
    "#include <unordered_map>\n",
    "using namespace std;"
   ]
  },
  {
   "cell_type": "markdown",
   "id": "46e88429",
   "metadata": {},
   "source": [
    "### 7. Valid Anagram"
   ]
  },
  {
   "cell_type": "markdown",
   "id": "27fcae4e",
   "metadata": {},
   "source": [
    "> Anagram are words that can be transformed into each other by rearranging the characters of one.  \n",
    "\n",
    "> Given 2 strings, check if they are anagrams"
   ]
  },
  {
   "cell_type": "markdown",
   "id": "b15288fe",
   "metadata": {},
   "source": [
    "*Leetcode Link:* https://leetcode.com/problems/valid-anagram/"
   ]
  },
  {
   "cell_type": "markdown",
   "id": "5385df64",
   "metadata": {},
   "source": [
    "**Best Possible Solution:**"
   ]
  },
  {
   "cell_type": "markdown",
   "id": "a779dfb1",
   "metadata": {},
   "source": [
    "### Method 1:\n",
    "Time Complexity: O(n)  \n",
    "Space Complexity: O(n)\n",
    "###### where n is size of input string"
   ]
  },
  {
   "cell_type": "code",
   "execution_count": 2,
   "id": "93e37889",
   "metadata": {
    "vscode": {
     "languageId": "cpp"
    }
   },
   "outputs": [],
   "source": [
    "class Solution {\n",
    "public:\n",
    "    bool isAnagram(string s, string t) {\n",
    "        //1. Method: Calculate frequency of character for both string and compare values. \n",
    "        //One flaw/ Downside\n",
    "            //Increases Space (not Space Complexity)\n",
    "            //Increases Time (not Space Complexity) (need to check each mapFrequency for cases not present in other)\n",
    "\n",
    "        //2. Method \n",
    "        unordered_map<char,int> umap;\n",
    "        for(char c: s)\n",
    "        umap[c]++;\n",
    "\n",
    "        for(char c: t)\n",
    "        umap[c]--;\n",
    "\n",
    "        for(pair<char,int> p: umap)\n",
    "        if(p.second != 0)\n",
    "        return false;\n",
    "\n",
    "        return true;\n",
    "\n",
    "    }\n",
    "};"
   ]
  },
  {
   "cell_type": "code",
   "execution_count": null,
   "id": "b0d94ad3",
   "metadata": {
    "vscode": {
     "languageId": "cpp"
    }
   },
   "outputs": [],
   "source": []
  }
 ],
 "metadata": {
  "kernelspec": {
   "display_name": "C++17",
   "language": "C++17",
   "name": "xcpp17"
  },
  "language_info": {
   "codemirror_mode": "text/x-c++src",
   "file_extension": ".cpp",
   "mimetype": "text/x-c++src",
   "name": "c++",
   "version": "17"
  }
 },
 "nbformat": 4,
 "nbformat_minor": 5
}
