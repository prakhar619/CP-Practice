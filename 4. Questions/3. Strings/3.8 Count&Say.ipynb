{
 "cells": [
  {
   "cell_type": "markdown",
   "id": "79d77fea",
   "metadata": {},
   "source": [
    "#### Chapter 3: Strings"
   ]
  },
  {
   "cell_type": "code",
   "execution_count": 1,
   "id": "ceeba5d8",
   "metadata": {
    "vscode": {
     "languageId": "cpp"
    }
   },
   "outputs": [],
   "source": [
    "#include <string>\n",
    "using namespace std;"
   ]
  },
  {
   "cell_type": "markdown",
   "id": "a2d7b42c",
   "metadata": {},
   "source": [
    "### 8. Count and Say"
   ]
  },
  {
   "cell_type": "markdown",
   "id": "2be7cb4e",
   "metadata": {},
   "source": [
    "> Count and Say string starts with frequency of a character and then that character.\n",
    "Example: 11112231: 41221311\n",
    "\n",
    "> Given an integer n, create a count and say string upto n starting with initial string of 1"
   ]
  },
  {
   "cell_type": "markdown",
   "id": "d8f6341f",
   "metadata": {},
   "source": [
    "*Leetcode Link:* https://leetcode.com/problems/count-and-say/"
   ]
  },
  {
   "cell_type": "markdown",
   "id": "48816b7e",
   "metadata": {},
   "source": [
    "**Best Possible Solution:**"
   ]
  },
  {
   "cell_type": "markdown",
   "id": "e35ba4b1",
   "metadata": {},
   "source": [
    "### Method 1\n",
    "Time Complexity: O(n^2)  \n",
    "Space Complexity: O(n)  \n",
    "###### where n is input number\n",
    "Characteristic Eqn: T(n) = T(n-1) + O(n-1)"
   ]
  },
  {
   "cell_type": "code",
   "execution_count": null,
   "id": "df1b3f2c",
   "metadata": {
    "vscode": {
     "languageId": "cpp"
    }
   },
   "outputs": [],
   "source": [
    "class Solution {\n",
    "public:\n",
    "    string countAndSay(int n) {\n",
    "        if(n == 1)\n",
    "        return \"1\";\n",
    "\n",
    "        string s = countAndSay(n-1);\n",
    "        string ans = \"\";\n",
    "        char checkChar = s[0];\n",
    "        int freq = 0;\n",
    "        for(char c : s)\n",
    "        {\n",
    "            if(checkChar == c)\n",
    "            {\n",
    "                freq += 1;\n",
    "                //cout << c << endl;\n",
    "            } \n",
    "            else\n",
    "            { \n",
    "                ans += to_string(freq) + checkChar;\n",
    "                checkChar = c;\n",
    "                freq = 1;\n",
    "            }\n",
    "        }\n",
    "        ans += to_string(freq) + checkChar;\n",
    "        return ans;\n",
    "    }\n",
    "};"
   ]
  }
 ],
 "metadata": {
  "kernelspec": {
   "display_name": "C++17",
   "language": "C++17",
   "name": "xcpp17"
  },
  "language_info": {
   "codemirror_mode": "text/x-c++src",
   "file_extension": ".cpp",
   "mimetype": "text/x-c++src",
   "name": "c++",
   "version": "17"
  }
 },
 "nbformat": 4,
 "nbformat_minor": 5
}
