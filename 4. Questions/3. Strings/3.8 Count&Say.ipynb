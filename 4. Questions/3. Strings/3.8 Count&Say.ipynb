{
 "cells": [
  {
   "cell_type": "code",
   "execution_count": null,
   "id": "df1b3f2c",
   "metadata": {
    "vscode": {
     "languageId": "plaintext"
    }
   },
   "outputs": [],
   "source": [
    "class Solution {\n",
    "public:\n",
    "    string countAndSay(int n) {\n",
    "        if(n == 1)\n",
    "        return \"1\";\n",
    "\n",
    "        string s = countAndSay(n-1);\n",
    "        string ans = \"\";\n",
    "        char checkChar = s[0];\n",
    "        int freq = 0;\n",
    "        for(char c : s)\n",
    "        {\n",
    "            if(checkChar == c)\n",
    "            {\n",
    "                freq += 1;\n",
    "                //cout << c << endl;\n",
    "            } \n",
    "            else\n",
    "            { \n",
    "                ans += to_string(freq) + checkChar;\n",
    "                checkChar = c;\n",
    "                freq = 1;\n",
    "            }\n",
    "        }\n",
    "        ans += to_string(freq) + checkChar;\n",
    "        return ans;\n",
    "    }\n",
    "};"
   ]
  },
  {
   "cell_type": "markdown",
   "id": "d8f6341f",
   "metadata": {},
   "source": [
    "https://leetcode.com/problems/count-and-say/description/"
   ]
  }
 ],
 "metadata": {
  "language_info": {
   "name": "python"
  }
 },
 "nbformat": 4,
 "nbformat_minor": 5
}
