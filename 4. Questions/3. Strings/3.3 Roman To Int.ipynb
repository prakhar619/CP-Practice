{
 "cells": [
  {
   "cell_type": "markdown",
   "id": "48379ce8",
   "metadata": {},
   "source": [
    "#### Chapter 3: Strings"
   ]
  },
  {
   "cell_type": "code",
   "execution_count": 1,
   "id": "ecbd20a9",
   "metadata": {
    "vscode": {
     "languageId": "cpp"
    }
   },
   "outputs": [],
   "source": [
    "#include <string>\n",
    "#include <unordered_map>\n",
    "using namespace std;"
   ]
  },
  {
   "cell_type": "markdown",
   "id": "8a604d2d",
   "metadata": {},
   "source": [
    "### 3. Roman to Integers"
   ]
  },
  {
   "cell_type": "markdown",
   "id": "1bbaef06",
   "metadata": {},
   "source": [
    "> Given a string in Roman notation, convert to Integer"
   ]
  },
  {
   "cell_type": "markdown",
   "id": "22031653",
   "metadata": {},
   "source": [
    "*Leetcode Link:* https://leetcode.com/problems/roman-to-integer/"
   ]
  },
  {
   "cell_type": "markdown",
   "id": "011a0cbe",
   "metadata": {},
   "source": [
    "**Best Possible Solution:**"
   ]
  },
  {
   "cell_type": "markdown",
   "id": "1de42714",
   "metadata": {},
   "source": [
    "### Method 1\n",
    "Time Complexity: O(n)  \n",
    "Space Complexity: O(1)\n",
    "###### where n is size of input string"
   ]
  },
  {
   "cell_type": "code",
   "execution_count": 3,
   "id": "23ffc437",
   "metadata": {
    "vscode": {
     "languageId": "cpp"
    }
   },
   "outputs": [],
   "source": [
    "class Solution {\n",
    "public:\n",
    "    int romanToInt(string s) {\n",
    "        int i = 0;\n",
    "        int ans =0;\n",
    "        unordered_map<char,int> value;\n",
    "        value['I'] = 1;\n",
    "        value['V'] = 5;\n",
    "        value['X'] = 10;\n",
    "        value['L'] = 50;\n",
    "        value['C'] = 100;\n",
    "        value['D'] = 500;\n",
    "        value['M'] = 1000;\n",
    "        for( i = 1; i < s.length(); i++)\n",
    "        {\n",
    "            if(value[s[i-1]] < value[s[i]])\n",
    "            {\n",
    "                ans = ans - value[s[i-1]];\n",
    "            }\n",
    "            else\n",
    "            {\n",
    "                ans = ans + value[s[i-1]];\n",
    "            }\n",
    "        }\n",
    "        ans += value[s[i-1]];\n",
    "        return ans;\n",
    "    }\n",
    "};"
   ]
  },
  {
   "cell_type": "markdown",
   "id": "9dec0a61",
   "metadata": {},
   "source": [
    "### Method 1 : Little Optimised\n",
    "Time Complexity: O(n)  \n",
    "Space Complexity: O(1)\n",
    "###### where n is size of input string"
   ]
  },
  {
   "cell_type": "code",
   "execution_count": 2,
   "id": "7903997b",
   "metadata": {
    "vscode": {
     "languageId": "cpp"
    }
   },
   "outputs": [],
   "source": [
    "class Solution {\n",
    "public:\n",
    "    int value(char c)\n",
    "    {\n",
    "        switch(c)\n",
    "        {\n",
    "        case 'I': return 1;\n",
    "        case 'V': return 5;\n",
    "        case 'X': return 10;\n",
    "        case 'L': return 50;\n",
    "        case 'C': return 100;\n",
    "        case 'D': return 500;\n",
    "        case 'M': return 1000;\n",
    "        default: return 0;\n",
    "        }\n",
    "\n",
    "    }\n",
    "    int romanToInt(string s) {\n",
    "        int i = 0;\n",
    "        int ans =0;\n",
    "        for( i = 1; i < s.length(); i++)\n",
    "        {\n",
    "            if(value(s[i-1]) < value(s[i]))\n",
    "            {\n",
    "                ans = ans - value(s[i-1]);\n",
    "            }\n",
    "            else\n",
    "            {\n",
    "                ans = ans + value(s[i-1]);\n",
    "            }\n",
    "        }\n",
    "        ans += value(s[i-1]);\n",
    "        return ans;\n",
    "    }\n",
    "};"
   ]
  },
  {
   "cell_type": "code",
   "execution_count": null,
   "id": "2a81a49a",
   "metadata": {
    "vscode": {
     "languageId": "cpp"
    }
   },
   "outputs": [],
   "source": []
  }
 ],
 "metadata": {
  "kernelspec": {
   "display_name": "C++17",
   "language": "C++17",
   "name": "xcpp17"
  },
  "language_info": {
   "codemirror_mode": "text/x-c++src",
   "file_extension": ".cpp",
   "mimetype": "text/x-c++src",
   "name": "c++",
   "version": "17"
  }
 },
 "nbformat": 4,
 "nbformat_minor": 5
}
