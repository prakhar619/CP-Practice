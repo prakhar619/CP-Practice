{
 "cells": [
  {
   "cell_type": "code",
   "execution_count": null,
   "id": "23ffc437",
   "metadata": {
    "vscode": {
     "languageId": "plaintext"
    }
   },
   "outputs": [],
   "source": [
    "class Solution {\n",
    "public:\n",
    "    int romanToInt(string s) {\n",
    "        int i = 0;\n",
    "        int ans =0;\n",
    "        unordered_map<char,int> value;\n",
    "        value['I'] = 1;\n",
    "        value['V'] = 5;\n",
    "        value['X'] = 10;\n",
    "        value['L'] = 50;\n",
    "        value['C'] = 100;\n",
    "        value['D'] = 500;\n",
    "        value['M'] = 1000;\n",
    "        for( i = 1; i < s.length(); i++)\n",
    "        {\n",
    "            if(value[s[i-1]] < value[s[i]])\n",
    "            {\n",
    "                ans = ans - value[s[i-1]];\n",
    "            }\n",
    "            else\n",
    "            {\n",
    "                ans = ans + value[s[i-1]];\n",
    "            }\n",
    "        }\n",
    "        ans += value[s[i-1]];\n",
    "        return ans;\n",
    "    }\n",
    "};"
   ]
  },
  {
   "cell_type": "markdown",
   "id": "22031653",
   "metadata": {},
   "source": [
    "https://leetcode.com/problems/roman-to-integer/"
   ]
  },
  {
   "cell_type": "code",
   "execution_count": null,
   "id": "7903997b",
   "metadata": {
    "vscode": {
     "languageId": "plaintext"
    }
   },
   "outputs": [],
   "source": [
    "class Solution {\n",
    "public:\n",
    "    int value(char c)\n",
    "    {\n",
    "        switch(c)\n",
    "        {\n",
    "        case 'I': return 1;\n",
    "        case 'V': return 5;\n",
    "        case 'X': return 10;\n",
    "        case 'L': return 50;\n",
    "        case 'C': return 100;\n",
    "        case 'D': return 500;\n",
    "        case 'M': return 1000;\n",
    "        default: return 0;\n",
    "        }\n",
    "\n",
    "    }\n",
    "    int romanToInt(string s) {\n",
    "        int i = 0;\n",
    "        int ans =0;\n",
    "        for( i = 1; i < s.length(); i++)\n",
    "        {\n",
    "            if(value(s[i-1]) < value(s[i]))\n",
    "            {\n",
    "                ans = ans - value(s[i-1]);\n",
    "            }\n",
    "            else\n",
    "            {\n",
    "                ans = ans + value(s[i-1]);\n",
    "            }\n",
    "        }\n",
    "        ans += value(s[i-1]);\n",
    "        return ans;\n",
    "    }\n",
    "};"
   ]
  }
 ],
 "metadata": {
  "language_info": {
   "name": "python"
  }
 },
 "nbformat": 4,
 "nbformat_minor": 5
}
