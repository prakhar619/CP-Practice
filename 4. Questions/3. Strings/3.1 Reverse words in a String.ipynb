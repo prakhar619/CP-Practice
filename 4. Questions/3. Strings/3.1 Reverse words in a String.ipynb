{
 "cells": [
  {
   "cell_type": "code",
   "execution_count": null,
   "id": "f93a6656",
   "metadata": {
    "vscode": {
     "languageId": "plaintext"
    }
   },
   "outputs": [],
   "source": [
    "class Solution {\n",
    "public:\n",
    "    string reverseWords(string s) {\n",
    "        stack<string> st;\n",
    "        string word, result;\n",
    "        istringstream iss(s);\n",
    "        \n",
    "        while (iss >> word) {\n",
    "            st.push(word);\n",
    "        }\n",
    "        \n",
    "        while (!st.empty()) {\n",
    "            result += st.top();\n",
    "            st.pop();\n",
    "            if (!st.empty()) result += \" \";\n",
    "        }\n",
    "        \n",
    "        return result;\n",
    "    }\n",
    "};"
   ]
  },
  {
   "cell_type": "markdown",
   "id": "24483d38",
   "metadata": {},
   "source": [
    "https://leetcode.com/problems/reverse-words-in-a-string/description/"
   ]
  }
 ],
 "metadata": {
  "language_info": {
   "name": "python"
  }
 },
 "nbformat": 4,
 "nbformat_minor": 5
}
