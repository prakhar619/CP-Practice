{
 "cells": [
  {
   "cell_type": "markdown",
   "id": "f78cf71d",
   "metadata": {},
   "source": [
    "#### Chapter 3: Strings"
   ]
  },
  {
   "cell_type": "code",
   "execution_count": 1,
   "id": "f6f1246d",
   "metadata": {
    "vscode": {
     "languageId": "cpp"
    }
   },
   "outputs": [],
   "source": [
    "#include <string>\n",
    "#include <stack>\n",
    "#include <sstream>"
   ]
  },
  {
   "cell_type": "markdown",
   "id": "bbb117d3",
   "metadata": {},
   "source": [
    "### 1. Reverse words in a String"
   ]
  },
  {
   "cell_type": "markdown",
   "id": "f515ea18",
   "metadata": {},
   "source": [
    "> Given a string consisting of multiple words, reverse the order of words, while keeping characters in a word in same order"
   ]
  },
  {
   "cell_type": "markdown",
   "id": "24483d38",
   "metadata": {},
   "source": [
    "*Leetcode Link:* https://leetcode.com/problems/reverse-words-in-a-string/description/"
   ]
  },
  {
   "cell_type": "markdown",
   "id": "7880fe4b",
   "metadata": {},
   "source": [
    "**Best Possible Solution:**"
   ]
  },
  {
   "cell_type": "markdown",
   "id": "701d85e2",
   "metadata": {},
   "source": [
    "### Method 1\n",
    "Time Complexity: O(n)  \n",
    "Space Complexity: O(n)\n",
    "###### where n is no of characters in string s"
   ]
  },
  {
   "cell_type": "code",
   "execution_count": null,
   "id": "f93a6656",
   "metadata": {
    "vscode": {
     "languageId": "cpp"
    }
   },
   "outputs": [],
   "source": [
    "class Solution {\n",
    "public:\n",
    "    string reverseWords(string s) {\n",
    "        stack<string> st;\n",
    "        string word, result;\n",
    "\n",
    "        //new data structure/class\n",
    "        istringstream iss(s);\n",
    "        \n",
    "        while (iss >> word) {\n",
    "            st.push(word);\n",
    "        }\n",
    "        \n",
    "        while (!st.empty()) {\n",
    "            result += st.top();\n",
    "            st.pop();\n",
    "            if (!st.empty()) result += \" \";\n",
    "        }\n",
    "        \n",
    "        return result;\n",
    "    }\n",
    "};"
   ]
  }
 ],
 "metadata": {
  "kernelspec": {
   "display_name": "C++17",
   "language": "C++17",
   "name": "xcpp17"
  },
  "language_info": {
   "codemirror_mode": "text/x-c++src",
   "file_extension": ".cpp",
   "mimetype": "text/x-c++src",
   "name": "c++",
   "version": "17"
  }
 },
 "nbformat": 4,
 "nbformat_minor": 5
}
