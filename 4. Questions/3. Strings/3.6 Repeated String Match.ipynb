{
 "cells": [
  {
   "cell_type": "markdown",
   "id": "0e8ec8f2",
   "metadata": {},
   "source": [
    "#### Chapter 3: Strings"
   ]
  },
  {
   "cell_type": "code",
   "execution_count": 1,
   "id": "7a167d75",
   "metadata": {
    "vscode": {
     "languageId": "cpp"
    }
   },
   "outputs": [],
   "source": [
    "#include <string>\n",
    "using namespace std;"
   ]
  },
  {
   "cell_type": "markdown",
   "id": "b03ac6a0",
   "metadata": {},
   "source": [
    "### 6. Repeated String Match"
   ]
  },
  {
   "cell_type": "markdown",
   "id": "faf0c659",
   "metadata": {},
   "source": [
    "> Given 2 strings, A and B, how many times does A needs to repeat itself for B to become its substring"
   ]
  },
  {
   "cell_type": "markdown",
   "id": "2de67892",
   "metadata": {},
   "source": [
    "*Leetcode Link:* https://leetcode.com/problems/repeated-string-match/"
   ]
  },
  {
   "cell_type": "markdown",
   "id": "e6f08ce7",
   "metadata": {},
   "source": [
    "**Best Possible Solution:**"
   ]
  },
  {
   "cell_type": "markdown",
   "id": "cd86440f",
   "metadata": {},
   "source": [
    "### Method 1\n",
    "Time Complexity: O(max(A,B))  \n",
    "Space Complexity: O(1)\n",
    "###### where A is size of A string and B is size of B string"
   ]
  },
  {
   "cell_type": "code",
   "execution_count": 2,
   "id": "d99b1555",
   "metadata": {
    "vscode": {
     "languageId": "cpp"
    }
   },
   "outputs": [],
   "source": [
    "class Solution {\n",
    "public:\n",
    "    int check(string a, string b, int indexA)\n",
    "    {\n",
    "        int cnt = 1;\n",
    "        for(int i = 0; i < b.length(); i++)\n",
    "        {\n",
    "            //why place it above indexA++;\n",
    "            if(indexA >= a.length())\n",
    "            {\n",
    "                indexA %= a.length();\n",
    "                cnt += 1;\n",
    "            }\n",
    "            \n",
    "            if(a[indexA] == b[i])\n",
    "            {}\n",
    "            else\n",
    "            {\n",
    "                return -1;\n",
    "            }\n",
    "            indexA++;\n",
    "\n",
    "        }\n",
    "        return cnt;\n",
    "    }\n",
    "    int repeatedStringMatch(string a, string b) {\n",
    "        for(int i = 0; i < a.length(); i++)\n",
    "        {\n",
    "            int temp = check(a,b,i);\n",
    "            if(temp != -1)\n",
    "            return temp;\n",
    "        }\n",
    "        return -1;\n",
    "    }\n",
    "};"
   ]
  }
 ],
 "metadata": {
  "kernelspec": {
   "display_name": "C++17",
   "language": "C++17",
   "name": "xcpp17"
  },
  "language_info": {
   "codemirror_mode": "text/x-c++src",
   "file_extension": ".cpp",
   "mimetype": "text/x-c++src",
   "name": "c++",
   "version": "17"
  }
 },
 "nbformat": 4,
 "nbformat_minor": 5
}
