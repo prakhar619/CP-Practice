{
 "cells": [
  {
   "cell_type": "code",
   "execution_count": null,
   "id": "d99b1555",
   "metadata": {
    "vscode": {
     "languageId": "plaintext"
    }
   },
   "outputs": [],
   "source": [
    "class Solution {\n",
    "public:\n",
    "    int check(string a, string b, int indexA)\n",
    "    {\n",
    "        int cnt = 1;\n",
    "        for(int i = 0; i < b.length(); i++)\n",
    "        {\n",
    "            //why place it above indexA++;\n",
    "            if(indexA >= a.length())\n",
    "            {\n",
    "                indexA %= a.length();\n",
    "                cnt += 1;\n",
    "            }\n",
    "            if(a[indexA] == b[i])\n",
    "            {}\n",
    "            else\n",
    "            {\n",
    "                return -1;\n",
    "            }\n",
    "            indexA++;\n",
    "\n",
    "        }\n",
    "        return cnt;\n",
    "    }\n",
    "    int repeatedStringMatch(string a, string b) {\n",
    "        for(int i = 0; i < a.length(); i++)\n",
    "        {\n",
    "            int temp = check(a,b,i);\n",
    "            if(temp != -1)\n",
    "            return temp;\n",
    "        }\n",
    "        return -1;\n",
    "    }\n",
    "};"
   ]
  },
  {
   "cell_type": "markdown",
   "id": "2de67892",
   "metadata": {},
   "source": [
    "https://leetcode.com/problems/repeated-string-match/description/"
   ]
  }
 ],
 "metadata": {
  "language_info": {
   "name": "python"
  }
 },
 "nbformat": 4,
 "nbformat_minor": 5
}
