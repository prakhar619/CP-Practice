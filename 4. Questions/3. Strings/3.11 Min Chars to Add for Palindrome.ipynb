{
 "cells": [
  {
   "cell_type": "markdown",
   "id": "11ccd55a",
   "metadata": {},
   "source": [
    "#### Chapter 3: String"
   ]
  },
  {
   "cell_type": "code",
   "execution_count": 1,
   "id": "d21bbca3",
   "metadata": {
    "vscode": {
     "languageId": "cpp"
    }
   },
   "outputs": [],
   "source": [
    "#include <string>\n",
    "using namespace std;"
   ]
  },
  {
   "cell_type": "markdown",
   "id": "9659b717",
   "metadata": {},
   "source": [
    "### 11. Minimum Characters to Add for Palindrome"
   ]
  },
  {
   "cell_type": "markdown",
   "id": "fcc41d86",
   "metadata": {},
   "source": [
    "> Given a string, what is the minimum no of characters that can be inserted into the string to make it a Palindrome"
   ]
  },
  {
   "cell_type": "markdown",
   "id": "2b3f0974",
   "metadata": {},
   "source": [
    "*Leetcode Link:* https://www.geeksforgeeks.org/problems/minimum-characters-to-be-added-at-front-to-make-string-palindrome/1"
   ]
  },
  {
   "cell_type": "markdown",
   "id": "10e76941",
   "metadata": {},
   "source": [
    "**Best Possible Solution:**"
   ]
  },
  {
   "cell_type": "markdown",
   "id": "26b4de52",
   "metadata": {},
   "source": [
    "### Method 1\n",
    "Time Complexity: O(n^2)  \n",
    "Space Complexity: O(1)"
   ]
  },
  {
   "cell_type": "code",
   "execution_count": 2,
   "id": "13110db6",
   "metadata": {
    "vscode": {
     "languageId": "cpp"
    }
   },
   "outputs": [],
   "source": [
    "class Solution {\n",
    "  public:\n",
    "    bool check(string& s, int index)\n",
    "    {\n",
    "        int low = 0;\n",
    "        int high = index;\n",
    "        while(low <= high && s[low] == s[high])\n",
    "        {\n",
    "            low++;\n",
    "            high--;\n",
    "        }\n",
    "        if(low > high)\n",
    "        return true;\n",
    "        return false;\n",
    "    }\n",
    "    int minChar(string& s) {\n",
    "        // Write your code here\n",
    "        for(int i = s.length()-1; i >= 0; i--)\n",
    "        {\n",
    "            if(check(s,i))\n",
    "            {\n",
    "                return s.length()-1-i;\n",
    "            }\n",
    "            \n",
    "        }\n",
    "        return -1;\n",
    "    }\n",
    "};\n"
   ]
  },
  {
   "cell_type": "code",
   "execution_count": null,
   "id": "dd3e6a10",
   "metadata": {
    "vscode": {
     "languageId": "cpp"
    }
   },
   "outputs": [],
   "source": []
  }
 ],
 "metadata": {
  "kernelspec": {
   "display_name": "C++17",
   "language": "C++17",
   "name": "xcpp17"
  },
  "language_info": {
   "codemirror_mode": "text/x-c++src",
   "file_extension": ".cpp",
   "mimetype": "text/x-c++src",
   "name": "c++",
   "version": "17"
  }
 },
 "nbformat": 4,
 "nbformat_minor": 5
}
