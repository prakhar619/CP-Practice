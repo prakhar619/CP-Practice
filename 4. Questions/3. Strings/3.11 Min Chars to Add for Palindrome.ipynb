{
 "cells": [
  {
   "cell_type": "code",
   "execution_count": null,
   "id": "13110db6",
   "metadata": {
    "vscode": {
     "languageId": "plaintext"
    }
   },
   "outputs": [],
   "source": [
    "class Solution {\n",
    "  public:\n",
    "    bool check(string& s, int index)\n",
    "    {\n",
    "        int low = 0;\n",
    "        int high = index;\n",
    "        while(low <= high && s[low] == s[high])\n",
    "        {\n",
    "            low++;\n",
    "            high--;\n",
    "        }\n",
    "        if(low > high)\n",
    "        return true;\n",
    "        return false;\n",
    "    }\n",
    "    int minChar(string& s) {\n",
    "        // Write your code here\n",
    "        for(int i = s.length()-1; i >= 0; i--)\n",
    "        {\n",
    "            if(check(s,i))\n",
    "            {\n",
    "                return s.length()-1-i;\n",
    "            }\n",
    "            \n",
    "        }\n",
    "        return -1;\n",
    "    }\n",
    "};\n"
   ]
  },
  {
   "cell_type": "markdown",
   "id": "2b3f0974",
   "metadata": {},
   "source": [
    "https://www.geeksforgeeks.org/problems/minimum-characters-to-be-added-at-front-to-make-string-palindrome/1"
   ]
  }
 ],
 "metadata": {
  "language_info": {
   "name": "python"
  }
 },
 "nbformat": 4,
 "nbformat_minor": 5
}
