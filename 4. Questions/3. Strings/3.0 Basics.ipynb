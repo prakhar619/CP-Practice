{
 "cells": [
  {
   "cell_type": "markdown",
   "id": "c9bcd695",
   "metadata": {},
   "source": [
    "*Leetcode Link*: https://leetcode.com/problems/longest-substring-without-repeating-characters/"
   ]
  },
  {
   "cell_type": "markdown",
   "id": "967e8e26",
   "metadata": {},
   "source": [
    "Although, it is mostly in string, but always check for function behaviour when unexpected input is provided.  \n",
    "\n",
    "Example: in stoi Implementation:  \n",
    "expected: numeric characters only\n",
    "real: any character can be present.\n",
    "\n",
    "\n",
    "Always keep track of what is entered, and assert for unintended but valid input "
   ]
  },
  {
   "cell_type": "markdown",
   "id": "bc1da49e",
   "metadata": {},
   "source": []
  }
 ],
 "metadata": {
  "language_info": {
   "name": "python"
  }
 },
 "nbformat": 4,
 "nbformat_minor": 5
}
