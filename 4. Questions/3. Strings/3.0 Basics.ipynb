{
 "cells": [
  {
   "cell_type": "markdown",
   "id": "c9bcd695",
   "metadata": {},
   "source": [
    "*Leetcode Link*: https://leetcode.com/problems/longest-substring-without-repeating-characters/"
   ]
  }
 ],
 "metadata": {
  "language_info": {
   "name": "python"
  }
 },
 "nbformat": 4,
 "nbformat_minor": 5
}
