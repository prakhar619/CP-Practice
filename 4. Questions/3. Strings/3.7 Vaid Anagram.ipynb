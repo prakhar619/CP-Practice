{
 "cells": [
  {
   "cell_type": "code",
   "execution_count": null,
   "id": "93e37889",
   "metadata": {
    "vscode": {
     "languageId": "plaintext"
    }
   },
   "outputs": [],
   "source": [
    "class Solution {\n",
    "public:\n",
    "    bool isAnagram(string s, string t) {\n",
    "        //1. Method: Calculate frequency of character for both string and compare values. \n",
    "        //One flaw/ Downside\n",
    "\n",
    "        //2. Method \n",
    "        unordered_map<char,int> umap;\n",
    "        for(char c: s)\n",
    "        umap[c]++;\n",
    "\n",
    "        for(char c: t)\n",
    "        umap[c]--;\n",
    "\n",
    "        for(pair<char,int> p: umap)\n",
    "        if(p.second != 0)\n",
    "        return false;\n",
    "\n",
    "        return true;\n",
    "\n",
    "    }\n",
    "};"
   ]
  },
  {
   "cell_type": "markdown",
   "id": "b15288fe",
   "metadata": {},
   "source": [
    "https://leetcode.com/problems/valid-anagram/submissions/1647588883/"
   ]
  }
 ],
 "metadata": {
  "language_info": {
   "name": "python"
  }
 },
 "nbformat": 4,
 "nbformat_minor": 5
}
