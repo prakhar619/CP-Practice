{
 "cells": [
  {
   "cell_type": "code",
   "execution_count": null,
   "id": "2d6d3d01",
   "metadata": {
    "vscode": {
     "languageId": "plaintext"
    }
   },
   "outputs": [],
   "source": [
    "class Solution {\n",
    "public:\n",
    "    bool check(string& searchString, string& searchSpace, int index)\n",
    "    {\n",
    "        for(int i = 0; i < searchString.size(); i++)\n",
    "        {\n",
    "            if(searchString[i] != searchSpace[i+index])\n",
    "            return false;\n",
    "        }\n",
    "        return true;\n",
    "    }\n",
    "    int strStr(string haystack, string needle) {\n",
    "        for(int i = 0; i < haystack.size(); i++)\n",
    "        {\n",
    "            if(check(needle,haystack,i))\n",
    "            return i;\n",
    "        }\n",
    "        return -1;\n",
    "    }\n",
    "};"
   ]
  },
  {
   "cell_type": "markdown",
   "id": "07ced8f1",
   "metadata": {},
   "source": [
    "https://leetcode.com/problems/find-the-index-of-the-first-occurrence-in-a-string/description/"
   ]
  },
  {
   "cell_type": "code",
   "execution_count": null,
   "id": "713cc542",
   "metadata": {
    "vscode": {
     "languageId": "plaintext"
    }
   },
   "outputs": [],
   "source": [
    "class Solution {\n",
    "public:\n",
    "    int strStr(string haystack, string needle) {\n",
    "        if (haystack.length() < needle.length() || needle.empty())\n",
    "            return -1;\n",
    "\n",
    "        const int mod = 1e9 + 7;\n",
    "        const int prime = 26;\n",
    "        int n = haystack.size(), m = needle.size();\n",
    "\n",
    "        long long needleHash = 0, hayHash = 0;\n",
    "        long long basePower = 1; // prime^(m-1) % mod\n",
    "\n",
    "        // Compute prime^(m-1) % mod\n",
    "        for (int i = 0; i < needle.length() - 1; ++i)\n",
    "            basePower = (basePower * prime) % mod;\n",
    "\n",
    "        // Initial hashes\n",
    "        for (int i = 0; i < needle.length(); ++i) {\n",
    "            needleHash = (needleHash * prime + (needle[i] - 'a' + 1)) % mod;\n",
    "            hayHash = (hayHash * prime + (haystack[i] - 'a' + 1)) % mod;\n",
    "        }\n",
    "\n",
    "        if (needleHash == hayHash && haystack.substr(0, m) == needle)\n",
    "            return 0;\n",
    "\n",
    "        for (int i = m; i < n; ++i) {\n",
    "            // Remove the leading char and update hash\n",
    "            hayHash = (hayHash - (basePower * (haystack[i - m] - 'a' + 1)) % mod + mod) % mod;\n",
    "            hayHash = (hayHash * prime) % mod;\n",
    "            hayHash = (hayHash + (haystack[i] - 'a' + 1)) % mod;\n",
    "\n",
    "            if (hayHash == needleHash && haystack.substr(i - m + 1, m) == needle)\n",
    "                return i - m + 1;\n",
    "        }\n",
    "\n",
    "        return -1;\n",
    "    }\n",
    "};\n"
   ]
  },
  {
   "cell_type": "markdown",
   "id": "d14e8211",
   "metadata": {},
   "source": [
    "z algorithm\n",
    "kmp algorithm"
   ]
  }
 ],
 "metadata": {
  "language_info": {
   "name": "python"
  }
 },
 "nbformat": 4,
 "nbformat_minor": 5
}
