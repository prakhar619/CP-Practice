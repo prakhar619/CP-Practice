{
 "cells": [
  {
   "cell_type": "markdown",
   "id": "f3198d75",
   "metadata": {},
   "source": [
    "#### Chapter 3: Strings"
   ]
  },
  {
   "cell_type": "code",
   "execution_count": 1,
   "id": "5fe5d80a",
   "metadata": {
    "vscode": {
     "languageId": "cpp"
    }
   },
   "outputs": [],
   "source": [
    "#include <string>\n",
    "using namespace std;"
   ]
  },
  {
   "cell_type": "markdown",
   "id": "69e9b4ad",
   "metadata": {},
   "source": [
    "### 10. Haystack Needle / Index of First Occurence in a string / Search String"
   ]
  },
  {
   "cell_type": "markdown",
   "id": "9cc1e66e",
   "metadata": {},
   "source": [
    "> Given a search string and full text, search for search string in full text and return first index of full text for first occurence of search string"
   ]
  },
  {
   "cell_type": "markdown",
   "id": "07ced8f1",
   "metadata": {},
   "source": [
    "*Leetcode Link:* https://leetcode.com/problems/find-the-index-of-the-first-occurrence-in-a-string/"
   ]
  },
  {
   "cell_type": "markdown",
   "id": "dc2df52c",
   "metadata": {},
   "source": [
    "**Best Possible Solution:**"
   ]
  },
  {
   "cell_type": "markdown",
   "id": "234c1121",
   "metadata": {},
   "source": [
    "### Method 1:\n",
    "Time Complexity: O(nm)  \n",
    "Space Complexity: O(1)  \n",
    "###### where n is size of search string and m is size of full text string"
   ]
  },
  {
   "cell_type": "code",
   "execution_count": null,
   "id": "2d6d3d01",
   "metadata": {
    "vscode": {
     "languageId": "cpp"
    }
   },
   "outputs": [],
   "source": [
    "class Solution {\n",
    "public:\n",
    "    bool check(string& searchString, string& searchSpace, int index)\n",
    "    {\n",
    "        for(int i = 0; i < searchString.size(); i++)\n",
    "        {\n",
    "            if(searchString[i] != searchSpace[i+index])\n",
    "            return false;\n",
    "        }\n",
    "        return true;\n",
    "    }\n",
    "    int strStr(string haystack, string needle) {\n",
    "        for(int i = 0; i < haystack.size(); i++)\n",
    "        {\n",
    "            if(check(needle,haystack,i))\n",
    "            return i;\n",
    "        }\n",
    "        return -1;\n",
    "    }\n",
    "};"
   ]
  },
  {
   "cell_type": "markdown",
   "id": "8a4a6d5a",
   "metadata": {},
   "source": [
    "### Method 2: Rabin-Karp Algorithm\n",
    "Time Complexity: O(m)  \n",
    "Space Complexity: O(1)  \n",
    "###### where n is size of search string and m is size of full text string"
   ]
  },
  {
   "cell_type": "code",
   "execution_count": 2,
   "id": "713cc542",
   "metadata": {
    "vscode": {
     "languageId": "cpp"
    }
   },
   "outputs": [],
   "source": [
    "class Solution {\n",
    "public:\n",
    "    int strStr(string haystack, string needle) {\n",
    "        if (haystack.length() < needle.length() || needle.empty())\n",
    "            return -1;\n",
    "\n",
    "        const int mod = 1e9 + 7;\n",
    "        const int prime = 26;\n",
    "        int n = haystack.size(), m = needle.size();\n",
    "\n",
    "        long long needleHash = 0, hayHash = 0;\n",
    "        long long basePower = 1; // prime^(m-1) % mod\n",
    "\n",
    "        // Compute prime^(m-1) % mod\n",
    "        for (int i = 0; i < needle.length() - 1; ++i)\n",
    "            basePower = (basePower * prime) % mod;\n",
    "\n",
    "        // Initial hashes\n",
    "        for (int i = 0; i < needle.length(); ++i) {\n",
    "            needleHash = (needleHash * prime + (needle[i] - 'a' + 1)) % mod;\n",
    "            hayHash = (hayHash * prime + (haystack[i] - 'a' + 1)) % mod;\n",
    "        }\n",
    "\n",
    "        if (needleHash == hayHash && haystack.substr(0, m) == needle)\n",
    "            return 0;\n",
    "\n",
    "        for (int i = m; i < n; ++i) {\n",
    "            // Remove the leading char and update hash\n",
    "            hayHash = (hayHash - (basePower * (haystack[i - m] - 'a' + 1)) % mod + mod) % mod;\n",
    "            hayHash = (hayHash * prime) % mod;\n",
    "            hayHash = (hayHash + (haystack[i] - 'a' + 1)) % mod;\n",
    "\n",
    "            if (hayHash == needleHash && haystack.substr(i - m + 1, m) == needle)\n",
    "                return i - m + 1;\n",
    "        }\n",
    "\n",
    "        return -1;\n",
    "    }\n",
    "};\n"
   ]
  },
  {
   "cell_type": "markdown",
   "id": "d14e8211",
   "metadata": {},
   "source": [
    "### Method 3: Z Algorithm"
   ]
  },
  {
   "cell_type": "markdown",
   "id": "656a8d96",
   "metadata": {},
   "source": [
    "### Method 4: KMP Algorithm"
   ]
  }
 ],
 "metadata": {
  "kernelspec": {
   "display_name": "C++17",
   "language": "C++17",
   "name": "xcpp17"
  },
  "language_info": {
   "codemirror_mode": "text/x-c++src",
   "file_extension": ".cpp",
   "mimetype": "text/x-c++src",
   "name": "c++",
   "version": "17"
  }
 },
 "nbformat": 4,
 "nbformat_minor": 5
}
