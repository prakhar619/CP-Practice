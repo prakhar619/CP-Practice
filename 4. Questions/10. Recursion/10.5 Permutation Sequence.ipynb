{
 "cells": [
  {
   "cell_type": "markdown",
   "id": "fc1bd09c",
   "metadata": {},
   "source": [
    "#### Chapter 10: Recursion"
   ]
  },
  {
   "cell_type": "code",
   "execution_count": 1,
   "id": "432b36be",
   "metadata": {
    "vscode": {
     "languageId": "cpp"
    }
   },
   "outputs": [],
   "source": [
    "#include <vector>\n",
    "using namespace std;"
   ]
  },
  {
   "cell_type": "markdown",
   "id": "6b8b1fb1",
   "metadata": {},
   "source": [
    "### 5. Permutation Sequence"
   ]
  },
  {
   "cell_type": "markdown",
   "id": "b05444ab",
   "metadata": {},
   "source": [
    "> The set [1, 2, 3, ..., n] contains a total of n! unique permutations.  \n",
    "Given n and k, return the kth permutation sequence."
   ]
  },
  {
   "cell_type": "markdown",
   "id": "79a8b529",
   "metadata": {},
   "source": [
    "*Leetcode Link:* https://leetcode.com/problems/permutation-sequence/"
   ]
  },
  {
   "cell_type": "markdown",
   "id": "95396502",
   "metadata": {},
   "source": [
    "**Best Possible Solution:**"
   ]
  },
  {
   "cell_type": "markdown",
   "id": "c8b9737f",
   "metadata": {},
   "source": [
    "### Method 1\n",
    "Time Complexity: O(n)  \n",
    "Space Complexity: O(n)\n",
    "###### where n the 1st input number  "
   ]
  },
  {
   "cell_type": "code",
   "execution_count": 2,
   "id": "cba53124",
   "metadata": {
    "vscode": {
     "languageId": "cpp"
    }
   },
   "outputs": [],
   "source": [
    "class Solution {\n",
    "public:\n",
    "    string getPermutation(int n, int k) {\n",
    "        vector<int> v;\n",
    "        for(int i = 1; i <= n; i++)\n",
    "        {\n",
    "            v.push_back(i);\n",
    "        }\n",
    "\n",
    "        vector<int> factorial_lookup(2,1);\n",
    "        for(int i = 2; i <= n; i++)\n",
    "        {\n",
    "            factorial_lookup.push_back(factorial_lookup[i-1]*i);\n",
    "        }\n",
    "\n",
    "        //u will definitly forget k--\n",
    "        k--;\n",
    "\n",
    "        string ans = \"\";\n",
    "        for(int i = 1; i <= n; i++)\n",
    "        {\n",
    "            int index = k/factorial_lookup[n-i];\n",
    "            ans += to_string(v[index]);\n",
    "            v.erase(v.begin()+index);\n",
    "            k = k%factorial_lookup[n-i];\n",
    "        }\n",
    "\n",
    "        return ans;\n",
    "    }\n",
    "};"
   ]
  }
 ],
 "metadata": {
  "kernelspec": {
   "display_name": "C++17",
   "language": "C++17",
   "name": "xcpp17"
  },
  "language_info": {
   "codemirror_mode": "text/x-c++src",
   "file_extension": ".cpp",
   "mimetype": "text/x-c++src",
   "name": "c++",
   "version": "17"
  }
 },
 "nbformat": 4,
 "nbformat_minor": 5
}
