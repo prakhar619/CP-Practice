{
 "cells": [
  {
   "cell_type": "code",
   "execution_count": null,
   "id": "3828d282",
   "metadata": {
    "vscode": {
     "languageId": "plaintext"
    }
   },
   "outputs": [],
   "source": [
    "class Solution {\n",
    "public:\n",
    "    bool isPalindrom(string s)\n",
    "    {\n",
    "        int low = 0;\n",
    "        int high = s.length()-1;\n",
    "        while(low < high)\n",
    "        {\n",
    "            if(s[low] == s[high])\n",
    "            {\n",
    "                low++;\n",
    "                high--;\n",
    "            }\n",
    "            else\n",
    "            {\n",
    "                return false;\n",
    "            }\n",
    "        }\n",
    "        return true;\n",
    "    }\n",
    "    vector<vector<string>> partition(string s, int index = 0) {\n",
    "        vector<vector<string>> ans;\n",
    "        for(int i = 1; i <= s.length() - index; i++)\n",
    "        {\n",
    "            //i is the size of the current string\n",
    "            if(isPalindrom(s.substr(index,i)))\n",
    "            {\n",
    "                //cout << s.substr(index,i) << \" \" << index << \" \" << i << endl;\n",
    "                vector<vector<string>>current = partition(s, index+i);\n",
    "                for(vector<string>& vs: current)\n",
    "                {\n",
    "                    reverse(vs.begin(),vs.end());\n",
    "                    vs.push_back(s.substr(index,i));\n",
    "                    reverse(vs.begin(),vs.end());\n",
    "                    ans.push_back(vs);\n",
    "                }\n",
    "                if(current.size() == 0 && index+i == s.length())\n",
    "                {\n",
    "                    ans.push_back(vector<string>(1,s.substr(index,i)));\n",
    "                }\n",
    "            }\n",
    "        }\n",
    "        return ans;\n",
    "    }\n",
    "};"
   ]
  },
  {
   "cell_type": "code",
   "execution_count": null,
   "id": "36eb9a54",
   "metadata": {
    "vscode": {
     "languageId": "plaintext"
    }
   },
   "outputs": [],
   "source": []
  },
  {
   "cell_type": "markdown",
   "id": "afaac173",
   "metadata": {},
   "source": [
    "https://leetcode.com/problems/palindrome-partitioning/description/"
   ]
  }
 ],
 "metadata": {
  "language_info": {
   "name": "python"
  }
 },
 "nbformat": 4,
 "nbformat_minor": 5
}
