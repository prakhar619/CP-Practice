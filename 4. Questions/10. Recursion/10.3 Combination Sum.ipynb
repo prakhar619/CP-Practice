{
 "cells": [
  {
   "cell_type": "markdown",
   "id": "318d0a27",
   "metadata": {},
   "source": [
    "#### Chapter 10: Recursion"
   ]
  },
  {
   "cell_type": "code",
   "execution_count": 1,
   "id": "0e0a6ad0",
   "metadata": {
    "vscode": {
     "languageId": "cpp"
    }
   },
   "outputs": [],
   "source": [
    "#include <vector>\n",
    "using namespace std;"
   ]
  },
  {
   "cell_type": "markdown",
   "id": "115be765",
   "metadata": {},
   "source": [
    "### 3. Combination Sum"
   ]
  },
  {
   "cell_type": "markdown",
   "id": "844a35d5",
   "metadata": {},
   "source": [
    "> Given an array of distinct integers candidates and a target integer target, return a list of all unique combinations of candidates where the chosen numbers sum to target  \n",
    "The same number may be chosen from candidates an unlimited number of times"
   ]
  },
  {
   "cell_type": "markdown",
   "id": "3e47134e",
   "metadata": {},
   "source": [
    "*Leetcode Link:* https://leetcode.com/problems/combination-sum/"
   ]
  },
  {
   "cell_type": "markdown",
   "id": "873ce280",
   "metadata": {},
   "source": [
    "**Best Possible Solution:**"
   ]
  },
  {
   "cell_type": "markdown",
   "id": "eef4e74e",
   "metadata": {},
   "source": [
    "### Method 1\n",
    "Time Complexity: O()  \n",
    "Space Complexity: O()"
   ]
  },
  {
   "cell_type": "code",
   "execution_count": null,
   "id": "b5a122f1",
   "metadata": {
    "vscode": {
     "languageId": "cpp"
    }
   },
   "outputs": [],
   "source": [
    "class Solution {\n",
    "public:\n",
    "    void helper(vector<int>& c, int target, vector<int> sub, vector<vector<int>>& ans, int index)\n",
    "    {\n",
    "        if(index >= (int)c.size())\n",
    "        {\n",
    "            if(target == 0)\n",
    "            ans.push_back(sub);\n",
    "            return;\n",
    "        }\n",
    "        int i = 0;\n",
    "        for(i = 0; target >= 0; i++)\n",
    "        {\n",
    "            helper(c, target, sub, ans, index+1);\n",
    "            target -= c[index];\n",
    "            sub.push_back(c[index]);\n",
    "        }\n",
    "\n",
    "    }\n",
    "    vector<vector<int>> combinationSum(vector<int>& candidates, int target) {\n",
    "        vector<int> sub;\n",
    "        vector<vector<int>> ans;\n",
    "        helper(candidates, target, sub, ans, 0);\n",
    "        return ans;\n",
    "    }\n",
    "};"
   ]
  },
  {
   "cell_type": "markdown",
   "id": "e0cb3970",
   "metadata": {},
   "source": [
    "### Method 1.5\n",
    "Time Complexity: O()  \n",
    "Space Complexity: O()  "
   ]
  },
  {
   "cell_type": "code",
   "execution_count": null,
   "id": "790e766c",
   "metadata": {
    "vscode": {
     "languageId": "cpp"
    }
   },
   "outputs": [],
   "source": [
    "class Solution {\n",
    "public:\n",
    "    void helper(vector<int>& c, int target, vector<int>&sub, vector<vector<int>>& ans, int index)\n",
    "    {\n",
    "            if(target == 0)\n",
    "            {\n",
    "                ans.push_back(sub);\n",
    "                return;\n",
    "            }\n",
    "            else if(target < 0)\n",
    "            {\n",
    "                return;\n",
    "            }\n",
    "\n",
    "       \n",
    "        for(int i = index; i < c.size(); i++)\n",
    "        {\n",
    "            sub.push_back(c[i]);\n",
    "            helper(c, target - c[i], sub, ans, i);\n",
    "            sub.pop_back();\n",
    "        }\n",
    "\n",
    "    }\n",
    "    vector<vector<int>> combinationSum(vector<int>& candidates, int target) {\n",
    "        vector<int> sub;\n",
    "        vector<vector<int>> ans;\n",
    "        helper(candidates, target, sub, ans, 0);\n",
    "        return ans;\n",
    "    }\n",
    "};"
   ]
  }
 ],
 "metadata": {
  "kernelspec": {
   "display_name": "C++17",
   "language": "C++17",
   "name": "xcpp17"
  },
  "language_info": {
   "codemirror_mode": "text/x-c++src",
   "file_extension": ".cpp",
   "mimetype": "text/x-c++src",
   "name": "c++",
   "version": "17"
  }
 },
 "nbformat": 4,
 "nbformat_minor": 5
}
