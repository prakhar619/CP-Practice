{
 "cells": [
  {
   "cell_type": "markdown",
   "id": "f83a03d7",
   "metadata": {},
   "source": [
    "https://leetcode.com/problems/subsets/description/"
   ]
  },
  {
   "cell_type": "code",
   "execution_count": null,
   "id": "086bc99b",
   "metadata": {
    "vscode": {
     "languageId": "plaintext"
    }
   },
   "outputs": [],
   "source": [
    "class Solution {\n",
    "public:\n",
    "    void helper(vector<int>& nums, vector<vector<int>>& ans, vector<int>& res, int index)\n",
    "    {\n",
    "        if(index >= nums.size())\n",
    "        {\n",
    "            ans.push_back(res);\n",
    "            return;\n",
    "        }\n",
    "\n",
    "        helper(nums, ans, res, index+1);\n",
    "        res.push_back(nums[index]);\n",
    "        helper(nums,ans,res, index+1);\n",
    "        res.pop_back();\n",
    "    }\n",
    "\n",
    "    vector<vector<int>> subsets(vector<int>& nums) {\n",
    "        vector<int> res;\n",
    "        vector<vector<int>> ans;\n",
    "        helper(nums, ans, res, 0);\n",
    "        return ans;\n",
    "    }\n",
    "};"
   ]
  },
  {
   "cell_type": "code",
   "execution_count": null,
   "id": "aa04a180",
   "metadata": {
    "vscode": {
     "languageId": "plaintext"
    }
   },
   "outputs": [],
   "source": [
    "class Solution {\n",
    "public:\n",
    "\n",
    "    //Bit Manipulation: Check this out: https://www.geeksforgeeks.org/backtracking-to-find-all-subsets/\n",
    "    vector<vector<int>> subsets(vector<int>& nums) {\n",
    "        vector<vector<int>> ans;\n",
    "\n",
    "        int n = nums.size();\n",
    "        for(int i = 0; i < (1<<n); i++)\n",
    "        {\n",
    "            vector<int> subset;\n",
    "            for(int j = 0; j < n; j++)\n",
    "            {\n",
    "                //if(i & (1 << j) != 0 ) will not work\n",
    "                if( (i & (1 << j)) != 0)\n",
    "                {\n",
    "                    subset.push_back(nums[j]);\n",
    "                }\n",
    "            }\n",
    "\n",
    "            ans.push_back(subset);\n",
    "        }\n",
    "\n",
    "        return ans;\n",
    "    }\n",
    "};"
   ]
  }
 ],
 "metadata": {
  "language_info": {
   "name": "python"
  }
 },
 "nbformat": 4,
 "nbformat_minor": 5
}
