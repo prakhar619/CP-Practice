{
 "cells": [
  {
   "cell_type": "markdown",
   "id": "08cd56a0",
   "metadata": {},
   "source": [
    "#### Chapter 10: Recursion"
   ]
  },
  {
   "cell_type": "code",
   "execution_count": 1,
   "id": "fe97e4b5",
   "metadata": {
    "vscode": {
     "languageId": "cpp"
    }
   },
   "outputs": [],
   "source": [
    "#include <vector>\n",
    "using namespace std;"
   ]
  },
  {
   "cell_type": "markdown",
   "id": "a74a796d",
   "metadata": {},
   "source": [
    "### 1. Subset"
   ]
  },
  {
   "cell_type": "markdown",
   "id": "973c1642",
   "metadata": {},
   "source": [
    "> Find all the subset of given number [Duplicate Allowed]"
   ]
  },
  {
   "cell_type": "markdown",
   "id": "f83a03d7",
   "metadata": {},
   "source": [
    "**Leetcode Link:** https://leetcode.com/problems/subsets/description/"
   ]
  },
  {
   "cell_type": "markdown",
   "id": "4faf97e7",
   "metadata": {},
   "source": [
    "**Best Possible Solution:** "
   ]
  },
  {
   "cell_type": "markdown",
   "id": "618637e0",
   "metadata": {},
   "source": [
    "### Method 1\n",
    "Time Complexity: O(n * 2^n)  \n",
    "Space Complexity: O(n)      [excluding n*2^n space needed for storing ans]\n",
    "###### where n is input array size;"
   ]
  },
  {
   "cell_type": "code",
   "execution_count": null,
   "id": "086bc99b",
   "metadata": {
    "vscode": {
     "languageId": "cpp"
    }
   },
   "outputs": [],
   "source": [
    "class Solution {\n",
    "public:\n",
    "    void helper(vector<int>& nums, vector<vector<int>>& ans, vector<int>& res, int index)\n",
    "    {\n",
    "        if(index >= nums.size())\n",
    "        {\n",
    "            //this takes O(n) time\n",
    "            ans.push_back(res);\n",
    "            return;\n",
    "        }\n",
    "\n",
    "        helper(nums, ans, res, index+1);\n",
    "        res.push_back(nums[index]);\n",
    "        helper(nums,ans,res, index+1);\n",
    "        res.pop_back();\n",
    "    }\n",
    "\n",
    "    vector<vector<int>> subsets(vector<int>& nums) {\n",
    "        vector<int> res;\n",
    "        vector<vector<int>> ans;\n",
    "        helper(nums, ans, res, 0);\n",
    "        return ans;\n",
    "    }\n",
    "};"
   ]
  },
  {
   "cell_type": "markdown",
   "id": "79d7320d",
   "metadata": {},
   "source": [
    "### Method 2\n",
    "Time Complexity: O(n * 2^n)  \n",
    "Space Complexity: O(n)\n",
    "###### where n is input array size"
   ]
  },
  {
   "cell_type": "code",
   "execution_count": null,
   "id": "aa04a180",
   "metadata": {
    "vscode": {
     "languageId": "cpp"
    }
   },
   "outputs": [],
   "source": [
    "class Solution {\n",
    "public:\n",
    "\n",
    "    //Bit Manipulation: Check this out: https://www.geeksforgeeks.org/backtracking-to-find-all-subsets/\n",
    "    vector<vector<int>> subsets(vector<int>& nums) {\n",
    "        vector<vector<int>> ans;\n",
    "\n",
    "        int n = nums.size();\n",
    "        // 1 << n = pow(2,n) = 2^n\n",
    "        for(int i = 0; i < (1<<n); i++)\n",
    "        {\n",
    "            vector<int> subset;\n",
    "            for(int j = 0; j < n; j++)\n",
    "            {\n",
    "                //if(i & (1 << j) != 0 ) will not work; Precedance\n",
    "                if( (i & (1 << j)) != 0)\n",
    "                {\n",
    "                    subset.push_back(nums[j]);\n",
    "                }\n",
    "            }\n",
    "\n",
    "            ans.push_back(subset);\n",
    "        }\n",
    "\n",
    "        return ans;\n",
    "    }\n",
    "};"
   ]
  }
 ],
 "metadata": {
  "kernelspec": {
   "display_name": "C++17",
   "language": "C++17",
   "name": "xcpp17"
  },
  "language_info": {
   "codemirror_mode": "text/x-c++src",
   "file_extension": ".cpp",
   "mimetype": "text/x-c++src",
   "name": "C++17",
   "version": "17"
  }
 },
 "nbformat": 4,
 "nbformat_minor": 5
}
