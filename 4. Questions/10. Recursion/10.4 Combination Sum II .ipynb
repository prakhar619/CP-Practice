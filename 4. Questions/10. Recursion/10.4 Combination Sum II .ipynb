{
 "cells": [
  {
   "cell_type": "markdown",
   "id": "857c05af",
   "metadata": {},
   "source": [
    "#### Chapter 10: Recursion"
   ]
  },
  {
   "cell_type": "code",
   "execution_count": 1,
   "id": "ca16a627",
   "metadata": {
    "vscode": {
     "languageId": "cpp"
    }
   },
   "outputs": [],
   "source": [
    "#include <vector>\n",
    "using namespace std;"
   ]
  },
  {
   "cell_type": "markdown",
   "id": "dc1de439",
   "metadata": {},
   "source": [
    "### 4. Combination Sum II"
   ]
  },
  {
   "cell_type": "markdown",
   "id": "b0a200ce",
   "metadata": {},
   "source": [
    "> Given a collection of candidate numbers (candidates) and a target number (target), find all unique combinations in candidates where the candidate numbers sum to target.  \n",
    "Each number in candidates may only be used once in the combination."
   ]
  },
  {
   "cell_type": "markdown",
   "id": "f31030f4",
   "metadata": {},
   "source": [
    "*Leetcode Link:* https://leetcode.com/problems/combination-sum-ii/"
   ]
  },
  {
   "cell_type": "markdown",
   "id": "690487c5",
   "metadata": {},
   "source": [
    "**Best Possible Solution:**"
   ]
  },
  {
   "cell_type": "markdown",
   "id": "587a66c5",
   "metadata": {},
   "source": [
    "### Method 1:\n",
    "Time Complexity: O()  \n",
    "Space Complexity: O()  "
   ]
  },
  {
   "cell_type": "code",
   "execution_count": null,
   "id": "327ea1c6",
   "metadata": {
    "vscode": {
     "languageId": "cpp"
    }
   },
   "outputs": [],
   "source": [
    "class Solution {\n",
    "public:\n",
    "    void helper(vector<int>& c, int target, vector<int>&sub, set<vector<int>>& ans, int index)\n",
    "    {\n",
    "            if(target == 0)\n",
    "            {\n",
    "                ans.insert(sub);\n",
    "                return;\n",
    "            }\n",
    "            else if(index >= c.size() || target < 0)\n",
    "            {\n",
    "                return;\n",
    "            }\n",
    "\n",
    "        sub.push_back(c[index]);\n",
    "        helper(c, target - c[index], sub, ans, index+1);\n",
    "        sub.pop_back();\n",
    "\n",
    "        int next = index+1;\n",
    "        //if you are not selecting this index (value) then u cant select the next index if its has the same value\n",
    "        while(next < c.size()-1 && c[index] == c[next])\n",
    "        {\n",
    "            next+=1;\n",
    "        }\n",
    "\n",
    "        helper(c, target, sub, ans, next);\n",
    "        \n",
    "\n",
    "    }\n",
    "    vector<vector<int>> combinationSum2(vector<int>& candidates, int target) {\n",
    "        vector<int> sub;\n",
    "        set<vector<int>> ans;\n",
    "        sort(candidates.begin(), candidates.end());\n",
    "        helper(candidates, target, sub, ans, 0);\n",
    "        return vector<vector<int>>(ans.begin(), ans.end());\n",
    "    }\n",
    "};"
   ]
  }
 ],
 "metadata": {
  "kernelspec": {
   "display_name": "C++17",
   "language": "C++17",
   "name": "xcpp17"
  },
  "language_info": {
   "codemirror_mode": "text/x-c++src",
   "file_extension": ".cpp",
   "mimetype": "text/x-c++src",
   "name": "c++",
   "version": "17"
  }
 },
 "nbformat": 4,
 "nbformat_minor": 5
}
