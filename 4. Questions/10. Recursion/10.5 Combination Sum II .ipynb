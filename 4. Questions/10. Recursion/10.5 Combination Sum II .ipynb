{
 "cells": [
  {
   "cell_type": "code",
   "execution_count": null,
   "id": "327ea1c6",
   "metadata": {
    "vscode": {
     "languageId": "plaintext"
    }
   },
   "outputs": [],
   "source": [
    "class Solution {\n",
    "public:\n",
    "    void helper(vector<int>& c, int target, vector<int>&sub, set<vector<int>>& ans, int index)\n",
    "    {\n",
    "            if(target == 0)\n",
    "            {\n",
    "                ans.insert(sub);\n",
    "                return;\n",
    "            }\n",
    "            else if(index >= c.size() || target < 0)\n",
    "            {\n",
    "                return;\n",
    "            }\n",
    "\n",
    "        sub.push_back(c[index]);\n",
    "        helper(c, target - c[index], sub, ans, index+1);\n",
    "        sub.pop_back();\n",
    "\n",
    "        int next = index+1;\n",
    "        //if you are not selecting this index (value) then u cant select the next index if its has the same value\n",
    "        while(next < c.size()-1 && c[index] == c[next])\n",
    "        {\n",
    "            next+=1;\n",
    "        }\n",
    "\n",
    "        helper(c, target, sub, ans, next);\n",
    "        \n",
    "\n",
    "    }\n",
    "    vector<vector<int>> combinationSum2(vector<int>& candidates, int target) {\n",
    "        vector<int> sub;\n",
    "        set<vector<int>> ans;\n",
    "        sort(candidates.begin(), candidates.end());\n",
    "        helper(candidates, target, sub, ans, 0);\n",
    "        return vector<vector<int>>(ans.begin(), ans.end());\n",
    "    }\n",
    "};"
   ]
  },
  {
   "cell_type": "markdown",
   "id": "f31030f4",
   "metadata": {},
   "source": [
    "https://leetcode.com/problems/combination-sum-ii/"
   ]
  }
 ],
 "metadata": {
  "language_info": {
   "name": "python"
  }
 },
 "nbformat": 4,
 "nbformat_minor": 5
}
