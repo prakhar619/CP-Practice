{
 "cells": [
  {
   "cell_type": "code",
   "execution_count": null,
   "id": "5ec5e5ef",
   "metadata": {
    "vscode": {
     "languageId": "plaintext"
    }
   },
   "outputs": [],
   "source": [
    "class Solution {\n",
    "public:\n",
    "    void helper(vector<int>& nums, vector<vector<int>>& ans, int index)\n",
    "    {\n",
    "        if(index == nums.size())\n",
    "        {\n",
    "            ans.push_back(nums);\n",
    "            return;\n",
    "        }\n",
    "\n",
    "        for(int i = index; i < nums.size(); i++)\n",
    "        {\n",
    "            swap(nums[index],nums[i]);\n",
    "            helper(nums,ans,index+1);\n",
    "            swap(nums[index],nums[i]);\n",
    "        }\n",
    "    }\n",
    "    vector<vector<int>> permute(vector<int>& nums) {\n",
    "        vector<vector<int>> ans;\n",
    "        helper(nums,ans,0);\n",
    "        return ans;\n",
    "        \n",
    "    }\n",
    "};"
   ]
  },
  {
   "cell_type": "markdown",
   "id": "f5ec23a2",
   "metadata": {},
   "source": [
    "https://leetcode.com/problems/permutations/"
   ]
  },
  {
   "cell_type": "code",
   "execution_count": null,
   "id": "e99ea064",
   "metadata": {
    "vscode": {
     "languageId": "plaintext"
    }
   },
   "outputs": [],
   "source": [
    "class Solution {\n",
    "public:\n",
    "    void helper(vector<int>& nums, vector<vector<int>>& ans, int size)\n",
    "    {\n",
    "        if(size == 1)\n",
    "        {\n",
    "            ans.push_back(nums);\n",
    "            return;\n",
    "        }\n",
    "\n",
    "        for(int i = 0; i < size; i++)\n",
    "        {\n",
    "            helper(nums,ans, size-1);\n",
    "\n",
    "            if(size%2 == 1)\n",
    "            swap(nums[0],nums[size-1]);\n",
    "            else\n",
    "            swap(nums[i],nums[size-1]);\n",
    "        }\n",
    "    }\n",
    "    vector<vector<int>> permute(vector<int>& nums) {\n",
    "        vector<vector<int>> ans;\n",
    "        helper(nums,ans,nums.size());\n",
    "        return ans;\n",
    "        \n",
    "    }\n",
    "};"
   ]
  }
 ],
 "metadata": {
  "language_info": {
   "name": "python"
  }
 },
 "nbformat": 4,
 "nbformat_minor": 5
}
