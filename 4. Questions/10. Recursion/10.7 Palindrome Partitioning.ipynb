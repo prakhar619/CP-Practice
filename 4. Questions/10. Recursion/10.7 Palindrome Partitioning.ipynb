{
 "cells": [
  {
   "cell_type": "markdown",
   "id": "a9a54e25",
   "metadata": {},
   "source": [
    "#### Chapter 10: Recursion"
   ]
  },
  {
   "cell_type": "code",
   "execution_count": 3,
   "id": "f478c6b1",
   "metadata": {
    "vscode": {
     "languageId": "cpp"
    }
   },
   "outputs": [],
   "source": [
    "#include <vector>\n",
    "using namespace std;"
   ]
  },
  {
   "cell_type": "markdown",
   "id": "00b3f71d",
   "metadata": {},
   "source": [
    "### 7. Palindrome Partitioning"
   ]
  },
  {
   "cell_type": "markdown",
   "id": "94ccb52c",
   "metadata": {},
   "source": [
    "> Given a string s, partition s such that every of the partition is a palindrome. Return all possible palindrome partitioning of s"
   ]
  },
  {
   "cell_type": "markdown",
   "id": "afaac173",
   "metadata": {},
   "source": [
    "*Leetcode Link:* https://leetcode.com/problems/palindrome-partitioning/"
   ]
  },
  {
   "cell_type": "markdown",
   "id": "36eb9a54",
   "metadata": {
    "vscode": {
     "languageId": "plaintext"
    }
   },
   "source": [
    "**Best Possible Solution:**"
   ]
  },
  {
   "cell_type": "markdown",
   "id": "c71272eb",
   "metadata": {},
   "source": [
    "### Method 1\n",
    "Time Complexity: O()  \n",
    "Space Complexity: O()"
   ]
  },
  {
   "cell_type": "code",
   "execution_count": 4,
   "id": "3828d282",
   "metadata": {
    "vscode": {
     "languageId": "cpp"
    }
   },
   "outputs": [],
   "source": [
    "class Solution {\n",
    "public:\n",
    "    bool isPalindrom(string s)\n",
    "    {\n",
    "        int low = 0;\n",
    "        int high = s.length()-1;\n",
    "        while(low < high)\n",
    "        {\n",
    "            if(s[low] == s[high])\n",
    "            {\n",
    "                low++;\n",
    "                high--;\n",
    "            }\n",
    "            else\n",
    "            {\n",
    "                return false;\n",
    "            }\n",
    "        }\n",
    "        return true;\n",
    "    }\n",
    "    vector<vector<string>> partition(string s, int index = 0) {\n",
    "        vector<vector<string>> ans;\n",
    "        for(int i = 1; i <= s.length() - index; i++)\n",
    "        {\n",
    "            //i is the size of the current string\n",
    "            if(isPalindrom(s.substr(index,i)))\n",
    "            {\n",
    "                //cout << s.substr(index,i) << \" \" << index << \" \" << i << endl;\n",
    "                vector<vector<string>>current = partition(s, index+i);\n",
    "                for(vector<string>& vs: current)\n",
    "                {\n",
    "                    reverse(vs.begin(),vs.end());\n",
    "                    vs.push_back(s.substr(index,i));\n",
    "                    reverse(vs.begin(),vs.end());\n",
    "                    ans.push_back(vs);\n",
    "                }\n",
    "                if(current.size() == 0 && index+i == s.length())\n",
    "                {\n",
    "                    ans.push_back(vector<string>(1,s.substr(index,i)));\n",
    "                }\n",
    "            }\n",
    "        }\n",
    "        return ans;\n",
    "    }\n",
    "};"
   ]
  }
 ],
 "metadata": {
  "kernelspec": {
   "display_name": "C++17",
   "language": "C++17",
   "name": "xcpp17"
  },
  "language_info": {
   "codemirror_mode": "text/x-c++src",
   "file_extension": ".cpp",
   "mimetype": "text/x-c++src",
   "name": "c++",
   "version": "17"
  }
 },
 "nbformat": 4,
 "nbformat_minor": 5
}
