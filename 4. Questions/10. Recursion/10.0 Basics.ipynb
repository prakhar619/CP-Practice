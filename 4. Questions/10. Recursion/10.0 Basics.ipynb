{
 "cells": [
  {
   "cell_type": "markdown",
   "id": "233d24bc",
   "metadata": {
    "vscode": {
     "languageId": "plaintext"
    }
   },
   "source": [
    "set containing vector: {1,2,3} and {3,2,1} are the different therefore both are kept  \n",
    "set containing set: {1,2,3} and {3,2,1} -> only 1 kept because set is ordered and therefore {3,2,1} will  be converted to {1,2,3}   \n",
    "set containing multiset: {1,2,2,1} and {2,2,1,1} are same and therefore only 1 is kept"
   ]
  },
  {
   "cell_type": "code",
   "execution_count": null,
   "id": "9caa1fa8",
   "metadata": {
    "vscode": {
     "languageId": "plaintext"
    }
   },
   "outputs": [],
   "source": []
  }
 ],
 "metadata": {
  "language_info": {
   "name": "python"
  }
 },
 "nbformat": 4,
 "nbformat_minor": 5
}
