{
 "cells": [
  {
   "cell_type": "markdown",
   "id": "233d24bc",
   "metadata": {
    "vscode": {
     "languageId": "plaintext"
    }
   },
   "source": [
    "set containing vector: {1,2,3} and {3,2,1} are the different therefore both are kept  \n",
    "set containing set: {1,2,3} and {3,2,1} -> only 1 kept because set is ordered and therefore {3,2,1} will  be converted to {1,2,3}   \n",
    "set containing multiset: {1,2,2,1} and {2,2,1,1} are same and therefore only 1 is kept"
   ]
  },
  {
   "cell_type": "markdown",
   "id": "9caa1fa8",
   "metadata": {
    "vscode": {
     "languageId": "cpp"
    }
   },
   "source": [
    "### Recursion\n",
    "Looping always Possible (using stack if need be)  \n",
    "Recursion -> DP "
   ]
  },
  {
   "cell_type": "markdown",
   "id": "b3f7b36b",
   "metadata": {},
   "source": []
  }
 ],
 "metadata": {
  "kernelspec": {
   "display_name": "C++17",
   "language": "C++17",
   "name": "xcpp17"
  },
  "language_info": {
   "codemirror_mode": "text/x-c++src",
   "file_extension": ".cpp",
   "mimetype": "text/x-c++src",
   "name": "c++",
   "version": "17"
  }
 },
 "nbformat": 4,
 "nbformat_minor": 5
}
