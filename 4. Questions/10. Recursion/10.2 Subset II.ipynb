{
 "cells": [
  {
   "cell_type": "code",
   "execution_count": null,
   "id": "8e72d6a7",
   "metadata": {
    "vscode": {
     "languageId": "plaintext"
    }
   },
   "outputs": [],
   "source": [
    "class Solution {\n",
    "public:\n",
    "    vector<vector<int>> subsetsWithDup(vector<int>& nums, int index = 0) {\n",
    "        if(index >= (int)nums.size())\n",
    "        {\n",
    "            vector<vector<int>> ans(1, vector<int>(0));\n",
    "            return ans;\n",
    "        }\n",
    "\n",
    "        vector<vector<int>> indexPlusOne = subsetsWithDup(nums, index+1);\n",
    "        set<vector<int>> setVector;\n",
    "\n",
    "        for(vector<int> v: indexPlusOne)\n",
    "        {\n",
    "            sort(v.begin(),v.end());\n",
    "            setVector.insert(v);\n",
    "            v.push_back(nums[index]);\n",
    "            sort(v.begin(), v.end());\n",
    "            setVector.insert(v);\n",
    "        }\n",
    "\n",
    "        return vector<vector<int>>(setVector.begin(),setVector.end());\n",
    "    }\n",
    "};"
   ]
  },
  {
   "cell_type": "code",
   "execution_count": null,
   "id": "fb2f8e47",
   "metadata": {
    "vscode": {
     "languageId": "plaintext"
    }
   },
   "outputs": [],
   "source": [
    "class Solution {\n",
    "public:\n",
    "    vector<vector<int>> subsetsWithDup(vector<int>& nums, int index = 0) {\n",
    "        if(index >= (int)nums.size())\n",
    "        {\n",
    "            vector<vector<int>> ans(1, vector<int>(0));\n",
    "            return ans;\n",
    "        }\n",
    "\n",
    "        vector<vector<int>> indexPlusOne = subsetsWithDup(nums, index+1);\n",
    "        set<multiset<int>> setVector;\n",
    "\n",
    "        for(vector<int> v: indexPlusOne)\n",
    "        {\n",
    "            multiset<int> forV(v.begin(), v.end());\n",
    "            setVector.insert(forV);\n",
    "            forV.insert(nums[index]);\n",
    "            setVector.insert(forV);\n",
    "        }\n",
    "\n",
    "        vector<vector<int>> ans;\n",
    "        for(multiset<int> ms: setVector)\n",
    "        {\n",
    "            ans.push_back(vector<int>(ms.begin(),ms.end()));\n",
    "        }\n",
    "        return ans;\n",
    "    }\n",
    "};"
   ]
  }
 ],
 "metadata": {
  "language_info": {
   "name": "python"
  }
 },
 "nbformat": 4,
 "nbformat_minor": 5
}
