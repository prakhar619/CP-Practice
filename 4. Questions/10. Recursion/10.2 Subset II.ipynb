{
 "cells": [
  {
   "cell_type": "markdown",
   "id": "b092e21f",
   "metadata": {},
   "source": [
    "#### Chapter 10: Recursion"
   ]
  },
  {
   "cell_type": "code",
   "execution_count": 1,
   "id": "ffb3dec2",
   "metadata": {
    "vscode": {
     "languageId": "cpp"
    }
   },
   "outputs": [],
   "source": [
    "#include <vector>\n",
    "#include <set>\n",
    "using namespace std;"
   ]
  },
  {
   "cell_type": "markdown",
   "id": "74c86b24",
   "metadata": {},
   "source": [
    "### 2. Subset II"
   ]
  },
  {
   "cell_type": "markdown",
   "id": "c1da1ee0",
   "metadata": {},
   "source": [
    "> Given an integer array nums that may contain duplicates, return all possible possibe subset (the power set).\n",
    "\n",
    ">The solution set must not contain duplicate subsets. Return the solution in any order."
   ]
  },
  {
   "cell_type": "markdown",
   "id": "bd232c4a",
   "metadata": {},
   "source": [
    "*Leetcode Link:* https://leetcode.com/problems/subsets-ii/"
   ]
  },
  {
   "cell_type": "markdown",
   "id": "edade325",
   "metadata": {},
   "source": [
    "**Best Possible Solution:**"
   ]
  },
  {
   "cell_type": "markdown",
   "id": "04b10056",
   "metadata": {},
   "source": [
    "### Method 1\n",
    "Time Complexity: O(2^n * nlogn) ? \n",
    "Space Complexity: O(1)  "
   ]
  },
  {
   "cell_type": "code",
   "execution_count": 2,
   "id": "8e72d6a7",
   "metadata": {
    "vscode": {
     "languageId": "cpp"
    }
   },
   "outputs": [],
   "source": [
    "class Solution {\n",
    "public:\n",
    "    vector<vector<int>> subsetsWithDup(vector<int>& nums, int index = 0) {\n",
    "        if(index >= (int)nums.size())\n",
    "        {\n",
    "            vector<vector<int>> ans(1, vector<int>(0));\n",
    "            return ans;\n",
    "        }\n",
    "\n",
    "        vector<vector<int>> indexPlusOne = subsetsWithDup(nums, index+1);\n",
    "        set<vector<int>> setVector;\n",
    "\n",
    "        for(vector<int> v: indexPlusOne)\n",
    "        {\n",
    "            sort(v.begin(),v.end());\n",
    "            setVector.insert(v);\n",
    "            v.push_back(nums[index]);\n",
    "            sort(v.begin(), v.end());\n",
    "            setVector.insert(v);\n",
    "        }\n",
    "\n",
    "        return vector<vector<int>>(setVector.begin(),setVector.end());\n",
    "    }\n",
    "};"
   ]
  },
  {
   "cell_type": "markdown",
   "id": "2eb37735",
   "metadata": {},
   "source": [
    "### Method 2\n",
    "Time Complexity: O(2^n * nlogn) ? \n",
    "Space Complexity: O(1)"
   ]
  },
  {
   "cell_type": "code",
   "execution_count": 3,
   "id": "fb2f8e47",
   "metadata": {
    "vscode": {
     "languageId": "cpp"
    }
   },
   "outputs": [],
   "source": [
    "class Solution {\n",
    "public:\n",
    "    vector<vector<int>> subsetsWithDup(vector<int>& nums, int index = 0) {\n",
    "        if(index >= (int)nums.size())\n",
    "        {\n",
    "            vector<vector<int>> ans(1, vector<int>(0));\n",
    "            return ans;\n",
    "        }\n",
    "\n",
    "        vector<vector<int>> indexPlusOne = subsetsWithDup(nums, index+1);\n",
    "        set<multiset<int>> setVector;\n",
    "\n",
    "        for(vector<int> v: indexPlusOne)\n",
    "        {\n",
    "            multiset<int> forV(v.begin(), v.end());\n",
    "            setVector.insert(forV);\n",
    "            forV.insert(nums[index]);\n",
    "            setVector.insert(forV);\n",
    "        }\n",
    "\n",
    "        vector<vector<int>> ans;\n",
    "        for(multiset<int> ms: setVector)\n",
    "        {\n",
    "            ans.push_back(vector<int>(ms.begin(),ms.end()));\n",
    "        }\n",
    "        return ans;\n",
    "    }\n",
    "};"
   ]
  }
 ],
 "metadata": {
  "kernelspec": {
   "display_name": "C++17",
   "language": "C++17",
   "name": "xcpp17"
  },
  "language_info": {
   "codemirror_mode": "text/x-c++src",
   "file_extension": ".cpp",
   "mimetype": "text/x-c++src",
   "name": "C++17",
   "version": "17"
  }
 },
 "nbformat": 4,
 "nbformat_minor": 5
}
