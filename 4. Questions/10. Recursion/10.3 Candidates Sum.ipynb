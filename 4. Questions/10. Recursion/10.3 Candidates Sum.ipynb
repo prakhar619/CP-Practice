{
 "cells": [
  {
   "cell_type": "code",
   "execution_count": null,
   "id": "b5a122f1",
   "metadata": {
    "vscode": {
     "languageId": "plaintext"
    }
   },
   "outputs": [],
   "source": [
    "class Solution {\n",
    "public:\n",
    "    void helper(vector<int>& c, int target, vector<int> sub, vector<vector<int>>& ans, int index)\n",
    "    {\n",
    "        if(index >= (int)c.size())\n",
    "        {\n",
    "            if(target == 0)\n",
    "            ans.push_back(sub);\n",
    "            return;\n",
    "        }\n",
    "        int i = 0;\n",
    "        for(i = 0; target >= 0; i++)\n",
    "        {\n",
    "            helper(c, target, sub, ans, index+1);\n",
    "            target -= c[index];\n",
    "            sub.push_back(c[index]);\n",
    "        }\n",
    "\n",
    "    }\n",
    "    vector<vector<int>> combinationSum(vector<int>& candidates, int target) {\n",
    "        vector<int> sub;\n",
    "        vector<vector<int>> ans;\n",
    "        helper(candidates, target, sub, ans, 0);\n",
    "        return ans;\n",
    "    }\n",
    "};"
   ]
  },
  {
   "cell_type": "markdown",
   "id": "3e47134e",
   "metadata": {},
   "source": [
    "https://leetcode.com/problems/combination-sum/description/"
   ]
  },
  {
   "cell_type": "code",
   "execution_count": null,
   "id": "790e766c",
   "metadata": {
    "vscode": {
     "languageId": "plaintext"
    }
   },
   "outputs": [],
   "source": [
    "class Solution {\n",
    "public:\n",
    "    void helper(vector<int>& c, int target, vector<int>&sub, vector<vector<int>>& ans, int index)\n",
    "    {\n",
    "            if(target == 0)\n",
    "            {\n",
    "                ans.push_back(sub);\n",
    "                return;\n",
    "            }\n",
    "            else if(target < 0)\n",
    "            {\n",
    "                return;\n",
    "            }\n",
    "\n",
    "       \n",
    "        for(int i = index; i < c.size(); i++)\n",
    "        {\n",
    "            sub.push_back(c[i]);\n",
    "            helper(c, target - c[i], sub, ans, i);\n",
    "            sub.pop_back();\n",
    "        }\n",
    "\n",
    "    }\n",
    "    vector<vector<int>> combinationSum(vector<int>& candidates, int target) {\n",
    "        vector<int> sub;\n",
    "        vector<vector<int>> ans;\n",
    "        helper(candidates, target, sub, ans, 0);\n",
    "        return ans;\n",
    "    }\n",
    "};"
   ]
  }
 ],
 "metadata": {
  "language_info": {
   "name": "python"
  }
 },
 "nbformat": 4,
 "nbformat_minor": 5
}
