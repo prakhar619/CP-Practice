{
 "cells": [
  {
   "cell_type": "markdown",
   "id": "79a8b529",
   "metadata": {},
   "source": [
    "https://leetcode.com/problems/permutation-sequence/"
   ]
  },
  {
   "cell_type": "code",
   "execution_count": null,
   "id": "cba53124",
   "metadata": {
    "vscode": {
     "languageId": "plaintext"
    }
   },
   "outputs": [],
   "source": [
    "class Solution {\n",
    "public:\n",
    "    string getPermutation(int n, int k) {\n",
    "        vector<int> v;\n",
    "        for(int i = 1; i <= n; i++)\n",
    "        {\n",
    "            v.push_back(i);\n",
    "        }\n",
    "\n",
    "        vector<int> factorial_lookup(2,1);\n",
    "        for(int i = 2; i <= n; i++)\n",
    "        {\n",
    "            factorial_lookup.push_back(factorial_lookup[i-1]*i);\n",
    "        }\n",
    "\n",
    "        //u will definitly forget k--\n",
    "        k--;\n",
    "\n",
    "        string ans = \"\";\n",
    "        for(int i = 1; i <= n; i++)\n",
    "        {\n",
    "            int index = k/factorial_lookup[n-i];\n",
    "            ans += to_string(v[index]);\n",
    "            v.erase(v.begin()+index);\n",
    "            k = k%factorial_lookup[n-i];\n",
    "        }\n",
    "\n",
    "        return ans;\n",
    "    }\n",
    "};"
   ]
  }
 ],
 "metadata": {
  "language_info": {
   "name": "python"
  }
 },
 "nbformat": 4,
 "nbformat_minor": 5
}
