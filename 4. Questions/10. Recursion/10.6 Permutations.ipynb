{
 "cells": [
  {
   "cell_type": "markdown",
   "id": "8e288854",
   "metadata": {},
   "source": [
    "#### Chapter 10: Recursion"
   ]
  },
  {
   "cell_type": "code",
   "execution_count": null,
   "id": "3dc17a0e",
   "metadata": {
    "vscode": {
     "languageId": "cpp"
    }
   },
   "outputs": [],
   "source": [
    "#include <vector>\n",
    "using namespace std;"
   ]
  },
  {
   "cell_type": "markdown",
   "id": "6ec85fce",
   "metadata": {},
   "source": [
    "### 6. Permutations"
   ]
  },
  {
   "cell_type": "markdown",
   "id": "cbe8c718",
   "metadata": {},
   "source": [
    ">Given an array nums of distinct integers, return all the possible permutations. You can return the answer in any order."
   ]
  },
  {
   "cell_type": "markdown",
   "id": "f5ec23a2",
   "metadata": {},
   "source": [
    "*Leetcode Link:* https://leetcode.com/problems/permutations/"
   ]
  },
  {
   "cell_type": "markdown",
   "id": "99904e8f",
   "metadata": {},
   "source": [
    "**Best Possible Solution:**"
   ]
  },
  {
   "cell_type": "markdown",
   "id": "a7aaa531",
   "metadata": {},
   "source": [
    "### Method 1\n",
    "Time Complexity: O()  \n",
    "Space Complexity: O()"
   ]
  },
  {
   "cell_type": "code",
   "execution_count": null,
   "id": "5ec5e5ef",
   "metadata": {
    "vscode": {
     "languageId": "cpp"
    }
   },
   "outputs": [],
   "source": [
    "class Solution {\n",
    "public:\n",
    "    void helper(vector<int>& nums, vector<vector<int>>& ans, int index)\n",
    "    {\n",
    "        if(index == nums.size())\n",
    "        {\n",
    "            ans.push_back(nums);\n",
    "            return;\n",
    "        }\n",
    "\n",
    "        for(int i = index; i < nums.size(); i++)\n",
    "        {\n",
    "            swap(nums[index],nums[i]);\n",
    "            helper(nums,ans,index+1);\n",
    "            swap(nums[index],nums[i]);\n",
    "        }\n",
    "    }\n",
    "    vector<vector<int>> permute(vector<int>& nums) {\n",
    "        vector<vector<int>> ans;\n",
    "        helper(nums,ans,0);\n",
    "        return ans;\n",
    "        \n",
    "    }\n",
    "};"
   ]
  },
  {
   "cell_type": "markdown",
   "id": "c5cf86c7",
   "metadata": {},
   "source": [
    "### Method 2\n",
    "Time Complexity: O()  \n",
    "Space Complexity: O()"
   ]
  },
  {
   "cell_type": "code",
   "execution_count": null,
   "id": "e99ea064",
   "metadata": {
    "vscode": {
     "languageId": "cpp"
    }
   },
   "outputs": [],
   "source": [
    "class Solution {\n",
    "public:\n",
    "    void helper(vector<int>& nums, vector<vector<int>>& ans, int size)\n",
    "    {\n",
    "        if(size == 1)\n",
    "        {\n",
    "            ans.push_back(nums);\n",
    "            return;\n",
    "        }\n",
    "\n",
    "        for(int i = 0; i < size; i++)\n",
    "        {\n",
    "            helper(nums,ans, size-1);\n",
    "\n",
    "            if(size%2 == 1)\n",
    "            swap(nums[0],nums[size-1]);\n",
    "            else\n",
    "            swap(nums[i],nums[size-1]);\n",
    "        }\n",
    "    }\n",
    "    vector<vector<int>> permute(vector<int>& nums) {\n",
    "        vector<vector<int>> ans;\n",
    "        helper(nums,ans,nums.size());\n",
    "        return ans;\n",
    "        \n",
    "    }\n",
    "};"
   ]
  }
 ],
 "metadata": {
  "kernelspec": {
   "display_name": "C++17",
   "language": "C++17",
   "name": "xcpp17"
  },
  "language_info": {
   "codemirror_mode": "text/x-c++src",
   "file_extension": ".cpp",
   "mimetype": "text/x-c++src",
   "name": "c++",
   "version": "17"
  }
 },
 "nbformat": 4,
 "nbformat_minor": 5
}
