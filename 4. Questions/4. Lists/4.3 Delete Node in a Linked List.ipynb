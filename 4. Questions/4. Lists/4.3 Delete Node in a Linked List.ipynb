{
 "cells": [
  {
   "cell_type": "code",
   "execution_count": null,
   "id": "0664212e",
   "metadata": {
    "vscode": {
     "languageId": "plaintext"
    }
   },
   "outputs": [],
   "source": [
    "/**\n",
    " * Definition for singly-linked list.\n",
    " * struct ListNode {\n",
    " *     int val;\n",
    " *     ListNode *next;\n",
    " *     ListNode(int x) : val(x), next(NULL) {}\n",
    " * };\n",
    " */\n",
    "class Solution {\n",
    "public:\n",
    "    void deleteNode(ListNode* node) {\n",
    "        // ListNode* tail=node;\n",
    "        // while(tail->next->next!=NULL){\n",
    "        //     int t=tail->val;\n",
    "        //     tail->val=tail->next->val;\n",
    "        //     tail->next->val=t;\n",
    "        //     tail=tail->next;\n",
    "        // }\n",
    "        // int t=tail->val;\n",
    "        // tail->val=tail->next->val;\n",
    "        // tail->next->val=t;\n",
    "        // tail->next=NULL;\n",
    "\n",
    "        node->val=node->next->val;\n",
    "        node->next=node->next->next;\n",
    "    }\n",
    "};"
   ]
  },
  {
   "cell_type": "markdown",
   "id": "d64ce4fc",
   "metadata": {},
   "source": [
    "https://leetcode.com/problems/delete-node-in-a-linked-list/description/"
   ]
  }
 ],
 "metadata": {
  "language_info": {
   "name": "python"
  }
 },
 "nbformat": 4,
 "nbformat_minor": 5
}
