{
 "cells": [
  {
   "cell_type": "markdown",
   "id": "10cce68d",
   "metadata": {},
   "source": [
    "#### Chapter 4: Lists"
   ]
  },
  {
   "cell_type": "code",
   "execution_count": 3,
   "id": "d27f1188",
   "metadata": {
    "vscode": {
     "languageId": "cpp"
    }
   },
   "outputs": [],
   "source": [
    "using namespace std;"
   ]
  },
  {
   "cell_type": "markdown",
   "id": "5ed97d10",
   "metadata": {},
   "source": [
    "### 3. Delete Node"
   ]
  },
  {
   "cell_type": "markdown",
   "id": "7ae8f3cb",
   "metadata": {},
   "source": [
    "> Given a linked list and a node, delete that node from linked list"
   ]
  },
  {
   "cell_type": "markdown",
   "id": "d64ce4fc",
   "metadata": {},
   "source": [
    "*Leetcode Link:* https://leetcode.com/problems/delete-node-in-a-linked-list/"
   ]
  },
  {
   "cell_type": "markdown",
   "id": "2ae35b11",
   "metadata": {},
   "source": [
    "**Best Possible Solution:**"
   ]
  },
  {
   "cell_type": "markdown",
   "id": "ff0fb8ad",
   "metadata": {},
   "source": [
    "### Method 1\n",
    "Time Complexity: O(1)  \n",
    "Space Complexity: O(1)"
   ]
  },
  {
   "cell_type": "code",
   "execution_count": 2,
   "id": "0664212e",
   "metadata": {
    "vscode": {
     "languageId": "cpp"
    }
   },
   "outputs": [],
   "source": [
    "struct ListNode {\n",
    "      int val;\n",
    "      ListNode *next;\n",
    "      ListNode() : val(0), next(nullptr) {}\n",
    "      ListNode(int x) : val(x), next(nullptr) {}\n",
    "      ListNode(int x, ListNode *next) : val(x), next(next) {}\n",
    "};\n",
    "class Solution {\n",
    "public:\n",
    "    void deleteNode(ListNode* node) {\n",
    "        // ListNode* tail=node;\n",
    "        // while(tail->next->next!=NULL){\n",
    "        //     int t=tail->val;\n",
    "        //     tail->val=tail->next->val;\n",
    "        //     tail->next->val=t;\n",
    "        //     tail=tail->next;\n",
    "        // }\n",
    "        // int t=tail->val;\n",
    "        // tail->val=tail->next->val;\n",
    "        // tail->next->val=t;\n",
    "        // tail->next=NULL;\n",
    "\n",
    "        node->val=node->next->val;\n",
    "        node->next=node->next->next;\n",
    "    }\n",
    "};"
   ]
  },
  {
   "cell_type": "code",
   "execution_count": null,
   "id": "1c76cd8e",
   "metadata": {
    "vscode": {
     "languageId": "cpp"
    }
   },
   "outputs": [],
   "source": []
  }
 ],
 "metadata": {
  "kernelspec": {
   "display_name": "C++17",
   "language": "C++17",
   "name": "xcpp17"
  },
  "language_info": {
   "codemirror_mode": "text/x-c++src",
   "file_extension": ".cpp",
   "mimetype": "text/x-c++src",
   "name": "c++",
   "version": "17"
  }
 },
 "nbformat": 4,
 "nbformat_minor": 5
}
