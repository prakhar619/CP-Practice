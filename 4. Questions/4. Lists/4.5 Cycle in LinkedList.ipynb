{
 "cells": [
  {
   "cell_type": "markdown",
   "id": "21e6ac41",
   "metadata": {},
   "source": [
    "#### Chapter 4: Lists"
   ]
  },
  {
   "cell_type": "code",
   "execution_count": 1,
   "id": "1fb77adc",
   "metadata": {
    "vscode": {
     "languageId": "cpp"
    }
   },
   "outputs": [],
   "source": [
    "using namespace std;"
   ]
  },
  {
   "cell_type": "markdown",
   "id": "97c7f343",
   "metadata": {},
   "source": [
    "### 5. Cycle in a LinkedList"
   ]
  },
  {
   "cell_type": "markdown",
   "id": "29dab4ff",
   "metadata": {},
   "source": [
    "*Leetcode Link:* https://leetcode.com/problems/linked-list-cycle/"
   ]
  },
  {
   "cell_type": "markdown",
   "id": "67cb8222",
   "metadata": {},
   "source": [
    "**Best Possible Solution:**"
   ]
  },
  {
   "cell_type": "code",
   "execution_count": null,
   "id": "bb0ece45",
   "metadata": {
    "vscode": {
     "languageId": "cpp"
    }
   },
   "outputs": [],
   "source": [
    "struct ListNode {\n",
    "      int val;\n",
    "      ListNode *next;\n",
    "      ListNode() : val(0), next(nullptr) {}\n",
    "      ListNode(int x) : val(x), next(nullptr) {}\n",
    "      ListNode(int x, ListNode *next) : val(x), next(next) {}\n",
    "};\n",
    "class Solution {\n",
    "public:\n",
    "    bool hasCycle(ListNode *head) {\n",
    "        ListNode* slow = head;\n",
    "        ListNode* fast = head;\n",
    "\n",
    "        do\n",
    "        {\n",
    "            if(fast != nullptr && fast->next != nullptr)\n",
    "            {}\n",
    "            else\n",
    "            return false;\n",
    "\n",
    "            slow = slow->next;\n",
    "            fast = fast->next->next;\n",
    "        }\n",
    "        while(slow != fast);\n",
    "\n",
    "        return true;\n",
    "    }\n",
    "};"
   ]
  }
 ],
 "metadata": {
  "kernelspec": {
   "display_name": "C++17",
   "language": "C++17",
   "name": "xcpp17"
  },
  "language_info": {
   "codemirror_mode": "text/x-c++src",
   "file_extension": ".cpp",
   "mimetype": "text/x-c++src",
   "name": "c++",
   "version": "17"
  }
 },
 "nbformat": 4,
 "nbformat_minor": 5
}
