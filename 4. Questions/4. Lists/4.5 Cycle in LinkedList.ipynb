{
 "cells": [
  {
   "cell_type": "code",
   "execution_count": null,
   "id": "bb0ece45",
   "metadata": {
    "vscode": {
     "languageId": "plaintext"
    }
   },
   "outputs": [],
   "source": [
    "/**\n",
    " * Definition for singly-linked list.\n",
    " * struct ListNode {\n",
    " *     int val;\n",
    " *     ListNode *next;\n",
    " *     ListNode(int x) : val(x), next(NULL) {}\n",
    " * };\n",
    " */\n",
    "class Solution {\n",
    "public:\n",
    "    bool hasCycle(ListNode *head) {\n",
    "        ListNode* slow = head;\n",
    "        ListNode* fast = head;\n",
    "\n",
    "        do\n",
    "        {\n",
    "            if(fast != nullptr && fast->next != nullptr)\n",
    "            {}\n",
    "            else\n",
    "            return false;\n",
    "\n",
    "            slow = slow->next;\n",
    "            fast = fast->next->next;\n",
    "        }\n",
    "        while(slow != fast);\n",
    "\n",
    "        return true;\n",
    "    }\n",
    "};"
   ]
  },
  {
   "cell_type": "markdown",
   "id": "29dab4ff",
   "metadata": {},
   "source": [
    "https://leetcode.com/problems/linked-list-cycle/"
   ]
  }
 ],
 "metadata": {
  "language_info": {
   "name": "python"
  }
 },
 "nbformat": 4,
 "nbformat_minor": 5
}
