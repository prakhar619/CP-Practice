{
 "cells": [
  {
   "cell_type": "code",
   "execution_count": null,
   "id": "f6ab1d71",
   "metadata": {
    "vscode": {
     "languageId": "plaintext"
    }
   },
   "outputs": [],
   "source": [
    "/**\n",
    " * Definition for singly-linked list.\n",
    " * struct ListNode {\n",
    " *     int val;\n",
    " *     ListNode *next;\n",
    " *     ListNode() : val(0), next(nullptr) {}\n",
    " *     ListNode(int x) : val(x), next(nullptr) {}\n",
    " *     ListNode(int x, ListNode *next) : val(x), next(next) {}\n",
    " * };\n",
    " */\n",
    "class Solution {\n",
    "public:\n",
    "    ListNode* reverseKGroup(ListNode* head, int k) {\n",
    "        ListNode* trav = head;\n",
    "        int dupK = k;\n",
    "        while(dupK > 0)\n",
    "        {\n",
    "            if(trav == nullptr)\n",
    "            return head;\n",
    "\n",
    "            trav = trav->next;\n",
    "            dupK--;\n",
    "        }\n",
    "\n",
    "        ListNode* prev= reverseKGroup(trav,k);\n",
    "\n",
    "        dupK = k;\n",
    "        trav = head;\n",
    "        while(dupK > 0)\n",
    "        {\n",
    "            ListNode* temp = trav->next;\n",
    "            trav->next = prev;\n",
    "            prev = trav;\n",
    "            trav = temp;\n",
    "            dupK--;\n",
    "        }\n",
    "\n",
    "        return prev;\n",
    "\n",
    "\n",
    "\n",
    "    }\n",
    "};"
   ]
  },
  {
   "cell_type": "markdown",
   "id": "28a11379",
   "metadata": {},
   "source": [
    "https://leetcode.com/problems/reverse-nodes-in-k-group/description/"
   ]
  }
 ],
 "metadata": {
  "language_info": {
   "name": "python"
  }
 },
 "nbformat": 4,
 "nbformat_minor": 5
}
