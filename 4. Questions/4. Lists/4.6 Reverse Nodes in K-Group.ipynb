{
 "cells": [
  {
   "cell_type": "markdown",
   "id": "e7a16123",
   "metadata": {},
   "source": [
    "#### Chapter 6: Lists"
   ]
  },
  {
   "cell_type": "code",
   "execution_count": 1,
   "id": "ede3997b",
   "metadata": {
    "vscode": {
     "languageId": "cpp"
    }
   },
   "outputs": [],
   "source": [
    "using namespace std;"
   ]
  },
  {
   "cell_type": "markdown",
   "id": "fece21b5",
   "metadata": {},
   "source": [
    "### 6. Reverse Nodes in K group"
   ]
  },
  {
   "cell_type": "markdown",
   "id": "fe011cea",
   "metadata": {},
   "source": [
    "> Given a linkedlist, reverse linked list in pair of K."
   ]
  },
  {
   "cell_type": "markdown",
   "id": "28a11379",
   "metadata": {},
   "source": [
    "*Leetcode Link:* https://leetcode.com/problems/reverse-nodes-in-k-group/"
   ]
  },
  {
   "cell_type": "markdown",
   "id": "9a218bb9",
   "metadata": {},
   "source": [
    "**Best Possible Solution:**"
   ]
  },
  {
   "cell_type": "markdown",
   "id": "08f93ba0",
   "metadata": {},
   "source": [
    "### Method 1: \n",
    "Time Complexity: O(n)  \n",
    "Space Complexity: O(1)"
   ]
  },
  {
   "cell_type": "code",
   "execution_count": null,
   "id": "f6ab1d71",
   "metadata": {
    "vscode": {
     "languageId": "cpp"
    }
   },
   "outputs": [],
   "source": [
    "struct ListNode {\n",
    "      int val;\n",
    "      ListNode *next;\n",
    "      ListNode() : val(0), next(nullptr) {}\n",
    "      ListNode(int x) : val(x), next(nullptr) {}\n",
    "      ListNode(int x, ListNode *next) : val(x), next(next) {}\n",
    "};\n",
    "class Solution {\n",
    "public:\n",
    "    ListNode* reverseKGroup(ListNode* head, int k) {\n",
    "        ListNode* trav = head;\n",
    "        int dupK = k;\n",
    "        while(dupK > 0)\n",
    "        {\n",
    "            if(trav == nullptr)\n",
    "            return head;\n",
    "\n",
    "            trav = trav->next;\n",
    "            dupK--;\n",
    "        }\n",
    "        //reverse from back, not front\n",
    "        ListNode* prev= reverseKGroup(trav,k);\n",
    "\n",
    "        dupK = k;\n",
    "        trav = head;\n",
    "        while(dupK > 0)\n",
    "        {\n",
    "            ListNode* temp = trav->next;\n",
    "            trav->next = prev;\n",
    "            prev = trav;\n",
    "            trav = temp;\n",
    "            dupK--;\n",
    "        }\n",
    "\n",
    "        return prev;\n",
    "    }\n",
    "};"
   ]
  }
 ],
 "metadata": {
  "kernelspec": {
   "display_name": "C++17",
   "language": "C++17",
   "name": "xcpp17"
  },
  "language_info": {
   "codemirror_mode": "text/x-c++src",
   "file_extension": ".cpp",
   "mimetype": "text/x-c++src",
   "name": "c++",
   "version": "17"
  }
 },
 "nbformat": 4,
 "nbformat_minor": 5
}
