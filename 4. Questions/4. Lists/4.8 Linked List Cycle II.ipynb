{
 "cells": [
  {
   "cell_type": "markdown",
   "id": "4a16b190",
   "metadata": {},
   "source": [
    "#### Chapter 4: Lists"
   ]
  },
  {
   "cell_type": "code",
   "execution_count": 1,
   "id": "59444618",
   "metadata": {
    "vscode": {
     "languageId": "cpp"
    }
   },
   "outputs": [],
   "source": [
    "using namespace std;"
   ]
  },
  {
   "cell_type": "markdown",
   "id": "a34f5eda",
   "metadata": {},
   "source": [
    "### 8. Linked List Cycle II"
   ]
  },
  {
   "cell_type": "markdown",
   "id": "1562981d",
   "metadata": {},
   "source": [
    "> Given a linked list, return node where is begin cycle, if cycle doesnt exist return null"
   ]
  },
  {
   "cell_type": "markdown",
   "id": "dea02b16",
   "metadata": {},
   "source": [
    "*Leetcode Link:* https://leetcode.com/problems/linked-list-cycle-ii/"
   ]
  },
  {
   "cell_type": "markdown",
   "id": "2f839991",
   "metadata": {},
   "source": [
    "**Best Possible Solution:**"
   ]
  },
  {
   "cell_type": "markdown",
   "id": "2fe95b18",
   "metadata": {},
   "source": [
    "### Method 1\n",
    "Time Complexity: O(n)  \n",
    "Space Complexity: O(1)"
   ]
  },
  {
   "cell_type": "code",
   "execution_count": 2,
   "id": "48b2c804",
   "metadata": {
    "vscode": {
     "languageId": "cpp"
    }
   },
   "outputs": [],
   "source": [
    "struct ListNode {\n",
    "      int val;\n",
    "      ListNode *next;\n",
    "      ListNode() : val(0), next(nullptr) {}\n",
    "      ListNode(int x) : val(x), next(nullptr) {}\n",
    "      ListNode(int x, ListNode *next) : val(x), next(next) {}\n",
    "};\n",
    "class Solution {\n",
    "public:\n",
    "    ListNode *detectCycle(ListNode *head) {\n",
    "        ListNode* slow = head;\n",
    "        ListNode* fast = head;\n",
    "\n",
    "        while(fast != nullptr && fast->next != nullptr )\n",
    "        {\n",
    "            slow = slow->next;\n",
    "            fast = fast->next->next;\n",
    "\n",
    "            if(slow == fast)\n",
    "            {\n",
    "                fast = head;\n",
    "                while(fast != slow)\n",
    "                {\n",
    "                    fast = fast->next;\n",
    "                    slow = slow->next;\n",
    "                }\n",
    "                return fast;\n",
    "            }\n",
    "        }\n",
    "\n",
    "        return nullptr;\n",
    "\n",
    "\n",
    "        \n",
    "    }\n",
    "};"
   ]
  },
  {
   "cell_type": "code",
   "execution_count": null,
   "id": "91fa5941",
   "metadata": {
    "vscode": {
     "languageId": "cpp"
    }
   },
   "outputs": [],
   "source": []
  }
 ],
 "metadata": {
  "kernelspec": {
   "display_name": "C++17",
   "language": "C++17",
   "name": "xcpp17"
  },
  "language_info": {
   "codemirror_mode": "text/x-c++src",
   "file_extension": ".cpp",
   "mimetype": "text/x-c++src",
   "name": "c++",
   "version": "17"
  }
 },
 "nbformat": 4,
 "nbformat_minor": 5
}
