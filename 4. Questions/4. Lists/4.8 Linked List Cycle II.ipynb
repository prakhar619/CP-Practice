{
 "cells": [
  {
   "cell_type": "code",
   "execution_count": null,
   "id": "48b2c804",
   "metadata": {
    "vscode": {
     "languageId": "plaintext"
    }
   },
   "outputs": [],
   "source": [
    "/**\n",
    " * Definition for singly-linked list.\n",
    " * struct ListNode {\n",
    " *     int val;\n",
    " *     ListNode *next;\n",
    " *     ListNode(int x) : val(x), next(NULL) {}\n",
    " * };\n",
    " */\n",
    "class Solution {\n",
    "public:\n",
    "    ListNode *detectCycle(ListNode *head) {\n",
    "        ListNode* slow = head;\n",
    "        ListNode* fast = head;\n",
    "\n",
    "        while(fast != nullptr && fast->next != nullptr )\n",
    "        {\n",
    "            slow = slow->next;\n",
    "            fast = fast->next->next;\n",
    "\n",
    "            if(slow == fast)\n",
    "            {\n",
    "                fast = head;\n",
    "                while(fast != slow)\n",
    "                {\n",
    "                    fast = fast->next;\n",
    "                    slow = slow->next;\n",
    "                }\n",
    "                return fast;\n",
    "            }\n",
    "        }\n",
    "\n",
    "        return nullptr;\n",
    "\n",
    "\n",
    "        \n",
    "    }\n",
    "};"
   ]
  },
  {
   "cell_type": "markdown",
   "id": "dea02b16",
   "metadata": {},
   "source": [
    "https://leetcode.com/problems/linked-list-cycle-ii/"
   ]
  }
 ],
 "metadata": {
  "language_info": {
   "name": "python"
  }
 },
 "nbformat": 4,
 "nbformat_minor": 5
}
