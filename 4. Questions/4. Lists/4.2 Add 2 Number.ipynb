{
 "cells": [
  {
   "cell_type": "code",
   "execution_count": null,
   "id": "72d5ae79",
   "metadata": {
    "vscode": {
     "languageId": "plaintext"
    }
   },
   "outputs": [],
   "source": [
    "/**\n",
    " * Definition for singly-linked list.\n",
    " * struct ListNode {\n",
    " *     int val;\n",
    " *     ListNode *next;\n",
    " *     ListNode() : val(0), next(nullptr) {}\n",
    " *     ListNode(int x) : val(x), next(nullptr) {}\n",
    " *     ListNode(int x, ListNode *next) : val(x), next(next) {}\n",
    " * };\n",
    " */\n",
    "class Solution {\n",
    "public:\n",
    "    ListNode* addTwoNumbers(ListNode* l1, ListNode* l2) {\n",
    "        int carry = 0;\n",
    "        ListNode* head = l1;\n",
    "        ListNode* prev;\n",
    "        while(l1 != nullptr && l2 != nullptr)\n",
    "        {\n",
    "            l1->val += l2->val + carry;\n",
    "            carry = l1->val/10;\n",
    "            l1->val = l1-> val % 10;\n",
    "\n",
    "            prev = l1;\n",
    "            if(l1->next == nullptr)\n",
    "            {\n",
    "                l1->next = l2->next;\n",
    "                l2 = nullptr;\n",
    "                l1 = l1->next;\n",
    "            }\n",
    "            else\n",
    "            {\n",
    "                l1 = l1->next;\n",
    "                l2 = l2->next;\n",
    "            }\n",
    "        } \n",
    "\n",
    "        while(l1 != nullptr)\n",
    "        {\n",
    "            l1->val += carry;\n",
    "            carry = l1->val/10;\n",
    "            l1->val = l1->val%10;\n",
    "            if(carry == 0)\n",
    "            break;\n",
    "            prev = l1;\n",
    "            l1 = l1->next;\n",
    "        }\n",
    "\n",
    "        if(carry != 0)\n",
    "        {\n",
    "            ListNode* newNode = new ListNode(carry);\n",
    "            prev->next = newNode;\n",
    "            prev = prev->next;\n",
    "        }\n",
    "        return head;\n",
    "    }\n",
    "};"
   ]
  },
  {
   "cell_type": "markdown",
   "id": "4e56794f",
   "metadata": {},
   "source": [
    "https://leetcode.com/problems/add-two-numbers/description/"
   ]
  }
 ],
 "metadata": {
  "language_info": {
   "name": "python"
  }
 },
 "nbformat": 4,
 "nbformat_minor": 5
}
