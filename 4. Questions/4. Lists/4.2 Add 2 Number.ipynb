{
 "cells": [
  {
   "cell_type": "markdown",
   "id": "a26571a6",
   "metadata": {},
   "source": [
    "#### Chapter 2: Lists"
   ]
  },
  {
   "cell_type": "code",
   "execution_count": 3,
   "id": "ce06b416",
   "metadata": {
    "vscode": {
     "languageId": "cpp"
    }
   },
   "outputs": [],
   "source": [
    "using namespace std;"
   ]
  },
  {
   "cell_type": "markdown",
   "id": "61ae8ae2",
   "metadata": {},
   "source": [
    "### 2. Add 2 Number"
   ]
  },
  {
   "cell_type": "markdown",
   "id": "51cbac47",
   "metadata": {},
   "source": [
    "> Given 2 linked List with each node contain a single digit and therefore each linked list representing a number, add those 2 number"
   ]
  },
  {
   "cell_type": "markdown",
   "id": "4e56794f",
   "metadata": {},
   "source": [
    "*Leetcode Link:* https://leetcode.com/problems/add-two-numbers/"
   ]
  },
  {
   "cell_type": "markdown",
   "id": "282a764d",
   "metadata": {},
   "source": [
    "**Best Possible Solution:**"
   ]
  },
  {
   "cell_type": "markdown",
   "id": "96569874",
   "metadata": {},
   "source": [
    "### Method 1:\n",
    "Time Complexity: O(n)  \n",
    "Space Complexity: O(1)"
   ]
  },
  {
   "cell_type": "code",
   "execution_count": null,
   "id": "72d5ae79",
   "metadata": {
    "vscode": {
     "languageId": "cpp"
    }
   },
   "outputs": [],
   "source": [
    "struct ListNode {\n",
    "      int val;\n",
    "      ListNode *next;\n",
    "      ListNode() : val(0), next(nullptr) {}\n",
    "      ListNode(int x) : val(x), next(nullptr) {}\n",
    "      ListNode(int x, ListNode *next) : val(x), next(next) {}\n",
    "};\n",
    "\n",
    "class Solution {\n",
    "public:\n",
    "    ListNode* addTwoNumbers(ListNode* l1, ListNode* l2) {\n",
    "        int carry = 0;\n",
    "        ListNode* head = l1;\n",
    "        ListNode* prev;\n",
    "        while(l1 != nullptr && l2 != nullptr)\n",
    "        {\n",
    "            l1->val += l2->val + carry;\n",
    "            carry = l1->val/10;\n",
    "            l1->val = l1-> val % 10;\n",
    "\n",
    "            prev = l1;\n",
    "            if(l1->next == nullptr)\n",
    "            {\n",
    "                l1->next = l2->next;\n",
    "                l2 = nullptr;\n",
    "                l1 = l1->next;\n",
    "            }\n",
    "            else\n",
    "            {\n",
    "                l1 = l1->next;\n",
    "                l2 = l2->next;\n",
    "            }\n",
    "        } \n",
    "\n",
    "        while(l1 != nullptr)\n",
    "        {\n",
    "            l1->val += carry;\n",
    "            carry = l1->val/10;\n",
    "            l1->val = l1->val%10;\n",
    "            if(carry == 0)\n",
    "            break;\n",
    "            prev = l1;\n",
    "            l1 = l1->next;\n",
    "        }\n",
    "\n",
    "        //usually missed part\n",
    "        if(carry != 0)\n",
    "        {\n",
    "            ListNode* newNode = new ListNode(carry);\n",
    "            prev->next = newNode;\n",
    "            prev = prev->next;\n",
    "        }\n",
    "        return head;\n",
    "    }\n",
    "};"
   ]
  }
 ],
 "metadata": {
  "kernelspec": {
   "display_name": "C++17",
   "language": "C++17",
   "name": "xcpp17"
  },
  "language_info": {
   "codemirror_mode": "text/x-c++src",
   "file_extension": ".cpp",
   "mimetype": "text/x-c++src",
   "name": "c++",
   "version": "17"
  }
 },
 "nbformat": 4,
 "nbformat_minor": 5
}
