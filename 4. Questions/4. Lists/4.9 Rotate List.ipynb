{
 "cells": [
  {
   "cell_type": "code",
   "execution_count": null,
   "id": "6d98852f",
   "metadata": {
    "vscode": {
     "languageId": "plaintext"
    }
   },
   "outputs": [],
   "source": [
    "/**\n",
    " * Definition for singly-linked list.\n",
    " * struct ListNode {\n",
    " *     int val;\n",
    " *     ListNode *next;\n",
    " *     ListNode() : val(0), next(nullptr) {}\n",
    " *     ListNode(int x) : val(x), next(nullptr) {}\n",
    " *     ListNode(int x, ListNode *next) : val(x), next(next) {}\n",
    " * };\n",
    " */\n",
    "class Solution {\n",
    "public:\n",
    "    ListNode* rotateRight(ListNode* head, int k) {\n",
    "        ListNode* trav = head;\n",
    "        ListNode* prev = new ListNode();\n",
    "        prev->next = head;\n",
    "        int n = 0;\n",
    "\n",
    "        //creating loop\n",
    "        while(trav != nullptr)\n",
    "        {\n",
    "            trav = trav->next;\n",
    "            n += 1;\n",
    "            prev = prev->next;\n",
    "        }\n",
    "        prev->next = head;\n",
    "\n",
    "\n",
    "        trav = head;\n",
    "        if(trav == nullptr)\n",
    "        return trav;\n",
    "\n",
    "        k=k%n;\n",
    "        for(int i = 0; i <= n-k-1; i++)\n",
    "        {\n",
    "            trav = trav->next;\n",
    "            prev = prev->next;\n",
    "        }                                       \n",
    "\n",
    "        prev->next = nullptr;                        \n",
    "        return trav;                         \n",
    "    }\n",
    "};"
   ]
  },
  {
   "cell_type": "markdown",
   "id": "227b0c4a",
   "metadata": {},
   "source": [
    "https://leetcode.com/problems/rotate-list/"
   ]
  }
 ],
 "metadata": {
  "language_info": {
   "name": "python"
  }
 },
 "nbformat": 4,
 "nbformat_minor": 5
}
