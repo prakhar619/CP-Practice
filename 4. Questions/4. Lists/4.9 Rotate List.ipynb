{
 "cells": [
  {
   "cell_type": "markdown",
   "id": "91e91144",
   "metadata": {},
   "source": [
    "#### Chapter 4: Lists"
   ]
  },
  {
   "cell_type": "code",
   "execution_count": 1,
   "id": "40575b96",
   "metadata": {
    "vscode": {
     "languageId": "cpp"
    }
   },
   "outputs": [],
   "source": [
    "using namespace std;"
   ]
  },
  {
   "cell_type": "markdown",
   "id": "abcb7e6b",
   "metadata": {},
   "source": [
    "### 9. Rotate List"
   ]
  },
  {
   "cell_type": "markdown",
   "id": "3912b5d9",
   "metadata": {},
   "source": [
    "> Given a linked list, rotate it by k \n",
    "\n",
    "> 1->2->3->4->5->6   ======> 6->1->2->3->4->5 (k = 1)"
   ]
  },
  {
   "cell_type": "markdown",
   "id": "227b0c4a",
   "metadata": {},
   "source": [
    "*Leetcode Link:* https://leetcode.com/problems/rotate-list/"
   ]
  },
  {
   "cell_type": "markdown",
   "id": "bd84b197",
   "metadata": {},
   "source": [
    "**Best Possible Solution:**"
   ]
  },
  {
   "cell_type": "markdown",
   "id": "bd62b39b",
   "metadata": {},
   "source": [
    "### Method 1\n",
    "Time Complexity: O(n)  \n",
    "Space Complexity: O(1)"
   ]
  },
  {
   "cell_type": "code",
   "execution_count": 2,
   "id": "6d98852f",
   "metadata": {
    "vscode": {
     "languageId": "cpp"
    }
   },
   "outputs": [],
   "source": [
    "struct ListNode {\n",
    "      int val;\n",
    "      ListNode *next;\n",
    "      ListNode() : val(0), next(nullptr) {}\n",
    "      ListNode(int x) : val(x), next(nullptr) {}\n",
    "      ListNode(int x, ListNode *next) : val(x), next(next) {}\n",
    "};\n",
    "class Solution {\n",
    "public:\n",
    "    ListNode* rotateRight(ListNode* head, int k) {\n",
    "        ListNode* trav = head;\n",
    "        ListNode* prev = new ListNode();\n",
    "        prev->next = head;\n",
    "        int n = 0;\n",
    "\n",
    "        //creating loop\n",
    "        while(trav != nullptr)\n",
    "        {\n",
    "            trav = trav->next;\n",
    "            n += 1;\n",
    "            prev = prev->next;\n",
    "        }\n",
    "        prev->next = head;\n",
    "\n",
    "\n",
    "        trav = head;\n",
    "        if(trav == nullptr)\n",
    "        return trav;\n",
    "\n",
    "        k=k%n;\n",
    "        for(int i = 0; i <= n-k-1; i++)\n",
    "        {\n",
    "            trav = trav->next;\n",
    "            prev = prev->next;\n",
    "        }                                       \n",
    "\n",
    "        prev->next = nullptr;                        \n",
    "        return trav;                         \n",
    "    }\n",
    "};"
   ]
  },
  {
   "cell_type": "code",
   "execution_count": null,
   "id": "e82ae54a",
   "metadata": {
    "vscode": {
     "languageId": "cpp"
    }
   },
   "outputs": [],
   "source": []
  }
 ],
 "metadata": {
  "kernelspec": {
   "display_name": "C++17",
   "language": "C++17",
   "name": "xcpp17"
  },
  "language_info": {
   "codemirror_mode": "text/x-c++src",
   "file_extension": ".cpp",
   "mimetype": "text/x-c++src",
   "name": "c++",
   "version": "17"
  }
 },
 "nbformat": 4,
 "nbformat_minor": 5
}
