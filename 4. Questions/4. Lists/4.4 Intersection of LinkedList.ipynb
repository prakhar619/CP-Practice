{
 "cells": [
  {
   "cell_type": "markdown",
   "id": "e2fc4fcb",
   "metadata": {},
   "source": [
    "#### Chapter 4: Lists"
   ]
  },
  {
   "cell_type": "code",
   "execution_count": 2,
   "id": "76bc0c70",
   "metadata": {
    "vscode": {
     "languageId": "cpp"
    }
   },
   "outputs": [],
   "source": [
    "using namespace std;"
   ]
  },
  {
   "cell_type": "markdown",
   "id": "ce9ffd6a",
   "metadata": {},
   "source": [
    "### 4. Intersection of LinkedList"
   ]
  },
  {
   "cell_type": "markdown",
   "id": "42fd592d",
   "metadata": {},
   "source": [
    "> Given 2 linked list which might merge, find the intersection node"
   ]
  },
  {
   "cell_type": "markdown",
   "id": "f33a6c45",
   "metadata": {},
   "source": [
    "*Leetcode Link:* https://leetcode.com/problems/intersection-of-two-linked-lists/"
   ]
  },
  {
   "cell_type": "markdown",
   "id": "efd5be13",
   "metadata": {},
   "source": [
    "**Best Possible Solution:**"
   ]
  },
  {
   "cell_type": "code",
   "execution_count": 3,
   "id": "726daabf",
   "metadata": {
    "vscode": {
     "languageId": "cpp"
    }
   },
   "outputs": [],
   "source": [
    "struct ListNode {\n",
    "      int val;\n",
    "      ListNode *next;\n",
    "      ListNode() : val(0), next(nullptr) {}\n",
    "      ListNode(int x) : val(x), next(nullptr) {}\n",
    "      ListNode(int x, ListNode *next) : val(x), next(next) {}\n",
    "};\n",
    "class Solution {\n",
    "public:\n",
    "    ListNode *getIntersectionNode(ListNode *headA, ListNode *headB) {\n",
    "        ListNode* dupA = headA;\n",
    "        ListNode* dupB = headB;\n",
    "        int cnt = 0;\n",
    "        while(headA != headB)\n",
    "        {\n",
    "            headA = headA->next;\n",
    "            headB = headB->next;\n",
    "\n",
    "            if(headA == nullptr)\n",
    "            {\n",
    "                headA = dupB;\n",
    "                cnt += 1;\n",
    "            }\n",
    "            if(headB == nullptr)\n",
    "            {\n",
    "                headB = dupA;\n",
    "                cnt += 1;\n",
    "            }\n",
    "\n",
    "            if(cnt >= 3)\n",
    "            return nullptr;\n",
    "        }\n",
    "\n",
    "        return headA;\n",
    "    }\n",
    "};"
   ]
  },
  {
   "cell_type": "code",
   "execution_count": null,
   "id": "d76c75ac",
   "metadata": {
    "vscode": {
     "languageId": "cpp"
    }
   },
   "outputs": [],
   "source": []
  }
 ],
 "metadata": {
  "kernelspec": {
   "display_name": "C++17",
   "language": "C++17",
   "name": "xcpp17"
  },
  "language_info": {
   "codemirror_mode": "text/x-c++src",
   "file_extension": ".cpp",
   "mimetype": "text/x-c++src",
   "name": "c++",
   "version": "17"
  }
 },
 "nbformat": 4,
 "nbformat_minor": 5
}
