{
 "cells": [
  {
   "cell_type": "code",
   "execution_count": null,
   "id": "726daabf",
   "metadata": {
    "vscode": {
     "languageId": "plaintext"
    }
   },
   "outputs": [],
   "source": [
    "/**\n",
    " * Definition for singly-linked list.\n",
    " * struct ListNode {\n",
    " *     int val;\n",
    " *     ListNode *next;\n",
    " *     ListNode(int x) : val(x), next(NULL) {}\n",
    " * };\n",
    " */\n",
    "class Solution {\n",
    "public:\n",
    "    ListNode *getIntersectionNode(ListNode *headA, ListNode *headB) {\n",
    "        ListNode* dupA = headA;\n",
    "        ListNode* dupB = headB;\n",
    "        int cnt = 0;\n",
    "        while(headA != headB)\n",
    "        {\n",
    "            headA = headA->next;\n",
    "            headB = headB->next;\n",
    "\n",
    "            if(headA == nullptr)\n",
    "            {\n",
    "                headA = dupB;\n",
    "                cnt += 1;\n",
    "            }\n",
    "            if(headB == nullptr)\n",
    "            {\n",
    "                headB = dupA;\n",
    "                cnt += 1;\n",
    "            }\n",
    "\n",
    "            if(cnt >= 3)\n",
    "            return nullptr;\n",
    "        }\n",
    "\n",
    "        return headA;\n",
    "    }\n",
    "};"
   ]
  },
  {
   "cell_type": "markdown",
   "id": "f33a6c45",
   "metadata": {},
   "source": [
    "https://leetcode.com/problems/intersection-of-two-linked-lists/"
   ]
  }
 ],
 "metadata": {
  "language_info": {
   "name": "python"
  }
 },
 "nbformat": 4,
 "nbformat_minor": 5
}
