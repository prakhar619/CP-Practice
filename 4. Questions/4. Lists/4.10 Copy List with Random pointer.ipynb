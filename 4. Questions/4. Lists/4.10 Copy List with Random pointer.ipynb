{
 "cells": [
  {
   "cell_type": "code",
   "execution_count": null,
   "id": "b71e6af6",
   "metadata": {
    "vscode": {
     "languageId": "plaintext"
    }
   },
   "outputs": [],
   "source": [
    "/*\n",
    "// Definition for a Node.\n",
    "class Node {\n",
    "public:\n",
    "    int val;\n",
    "    Node* next;\n",
    "    Node* random;\n",
    "    \n",
    "    Node(int _val) {\n",
    "        val = _val;\n",
    "        next = NULL;\n",
    "        random = NULL;\n",
    "    }\n",
    "};\n",
    "*/\n",
    "\n",
    "class Solution {\n",
    "public:\n",
    "    Node* copyRandomList(Node* head) {\n",
    "        unordered_map<Node*, Node*> umap;\n",
    "        Node* trav = head;\n",
    "        while(trav != nullptr)\n",
    "        {\n",
    "            Node* newNode;\n",
    "            if(umap.find(trav) == umap.end())\n",
    "            {\n",
    "                newNode = new Node(trav->val);\n",
    "                umap[trav] = newNode;\n",
    "            }\n",
    "            else\n",
    "            {\n",
    "                newNode = umap[trav];\n",
    "            }\n",
    "\n",
    "            Node* nextNode;\n",
    "            //3 conditions (usually u will miss the first)\n",
    "            if(trav->next == nullptr)\n",
    "            {\n",
    "                nextNode = nullptr;\n",
    "            }\n",
    "            else if(umap.find(trav->next) == umap.end())\n",
    "            {\n",
    "                nextNode = new Node(trav->next->val);\n",
    "                umap[trav->next] = nextNode;\n",
    "            }\n",
    "            else\n",
    "            {\n",
    "                nextNode = umap[trav->next];\n",
    "            }\n",
    "\n",
    "            Node* randNode;\n",
    "            //3 conditions\n",
    "            if(trav->random == nullptr)\n",
    "            {\n",
    "                randNode = nullptr;\n",
    "            }\n",
    "            else if(umap.find(trav->random) == umap.end())\n",
    "            {\n",
    "                randNode = new Node(trav->random->val);\n",
    "                umap[trav->random] = randNode;\n",
    "            }\n",
    "            else\n",
    "            {\n",
    "                randNode = umap[trav->random];\n",
    "            }\n",
    "\n",
    "            newNode->next = nextNode;\n",
    "            newNode->random = randNode;\n",
    "\n",
    "            trav = trav->next;\n",
    "        }\n",
    "\n",
    "        return umap[head];\n",
    "        \n",
    "    }\n",
    "};"
   ]
  },
  {
   "cell_type": "markdown",
   "id": "77f3fc16",
   "metadata": {},
   "source": [
    "https://leetcode.com/problems/copy-list-with-random-pointer/"
   ]
  }
 ],
 "metadata": {
  "language_info": {
   "name": "python"
  }
 },
 "nbformat": 4,
 "nbformat_minor": 5
}
