{
 "cells": [
  {
   "cell_type": "markdown",
   "id": "8e7e946c",
   "metadata": {},
   "source": [
    "#### Chapter 4: Lists"
   ]
  },
  {
   "cell_type": "code",
   "execution_count": 2,
   "id": "5705c176",
   "metadata": {
    "vscode": {
     "languageId": "cpp"
    }
   },
   "outputs": [],
   "source": [
    "#include <unordered_map>\n",
    "using namespace std;"
   ]
  },
  {
   "cell_type": "markdown",
   "id": "e9a04aca",
   "metadata": {},
   "source": [
    "### 10. Copy List with Random Pointer"
   ]
  },
  {
   "cell_type": "markdown",
   "id": "060d838f",
   "metadata": {},
   "source": [
    "> Given a custom linked list which also includes a (random) pointer to a node, create a deep copy of it."
   ]
  },
  {
   "cell_type": "markdown",
   "id": "77f3fc16",
   "metadata": {},
   "source": [
    "*Leetcode Link:* https://leetcode.com/problems/copy-list-with-random-pointer/"
   ]
  },
  {
   "cell_type": "markdown",
   "id": "06c15494",
   "metadata": {},
   "source": [
    "**Best Possible Solution:**"
   ]
  },
  {
   "cell_type": "markdown",
   "id": "db021c51",
   "metadata": {},
   "source": [
    "### Method 1\n",
    "Time Complexity: O(n)  \n",
    "Space Complexity: O(n)"
   ]
  },
  {
   "cell_type": "code",
   "execution_count": 3,
   "id": "b71e6af6",
   "metadata": {
    "vscode": {
     "languageId": "cpp"
    }
   },
   "outputs": [],
   "source": [
    "\n",
    "class Node {\n",
    "public:\n",
    "    int val;\n",
    "    Node* next;\n",
    "    Node* random;\n",
    "    \n",
    "    Node(int _val) {\n",
    "        val = _val;\n",
    "        next = NULL;\n",
    "        random = NULL;\n",
    "    }\n",
    "};\n",
    "\n",
    "class Solution {\n",
    "public:\n",
    "    Node* copyRandomList(Node* head) {\n",
    "        unordered_map<Node*, Node*> umap;\n",
    "        Node* trav = head;\n",
    "        while(trav != nullptr)\n",
    "        {\n",
    "            Node* newNode;\n",
    "            if(umap.find(trav) == umap.end())\n",
    "            {\n",
    "                newNode = new Node(trav->val);\n",
    "                umap[trav] = newNode;\n",
    "            }\n",
    "            else\n",
    "            {\n",
    "                newNode = umap[trav];\n",
    "            }\n",
    "\n",
    "            Node* nextNode;\n",
    "            //3 conditions (usually u will miss the first)\n",
    "            if(trav->next == nullptr)\n",
    "            {\n",
    "                nextNode = nullptr;\n",
    "            }\n",
    "            else if(umap.find(trav->next) == umap.end())\n",
    "            {\n",
    "                nextNode = new Node(trav->next->val);\n",
    "                umap[trav->next] = nextNode;\n",
    "            }\n",
    "            else\n",
    "            {\n",
    "                nextNode = umap[trav->next];\n",
    "            }\n",
    "\n",
    "            Node* randNode;\n",
    "            //3 conditions\n",
    "            if(trav->random == nullptr)\n",
    "            {\n",
    "                randNode = nullptr;\n",
    "            }\n",
    "            else if(umap.find(trav->random) == umap.end())\n",
    "            {\n",
    "                randNode = new Node(trav->random->val);\n",
    "                umap[trav->random] = randNode;\n",
    "            }\n",
    "            else\n",
    "            {\n",
    "                randNode = umap[trav->random];\n",
    "            }\n",
    "\n",
    "            newNode->next = nextNode;\n",
    "            newNode->random = randNode;\n",
    "\n",
    "            trav = trav->next;\n",
    "        }\n",
    "\n",
    "        return umap[head];\n",
    "        \n",
    "    }\n",
    "};"
   ]
  },
  {
   "cell_type": "code",
   "execution_count": null,
   "id": "98cd587a",
   "metadata": {
    "vscode": {
     "languageId": "cpp"
    }
   },
   "outputs": [],
   "source": []
  }
 ],
 "metadata": {
  "kernelspec": {
   "display_name": "C++17",
   "language": "C++17",
   "name": "xcpp17"
  },
  "language_info": {
   "codemirror_mode": "text/x-c++src",
   "file_extension": ".cpp",
   "mimetype": "text/x-c++src",
   "name": "c++",
   "version": "17"
  }
 },
 "nbformat": 4,
 "nbformat_minor": 5
}
