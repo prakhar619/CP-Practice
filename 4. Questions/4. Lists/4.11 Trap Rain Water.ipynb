{
 "cells": [
  {
   "cell_type": "code",
   "execution_count": null,
   "id": "8f2e7eec",
   "metadata": {
    "vscode": {
     "languageId": "plaintext"
    }
   },
   "outputs": [],
   "source": [
    "class Solution {\n",
    "public:\n",
    "    int trap(vector<int>& height) {\n",
    "        int low = 0;\n",
    "        int high = height.size()-1;\n",
    "\n",
    "        int lowMax = 0;\n",
    "        int highMax = 0;\n",
    "\n",
    "        int water = 0;\n",
    "\n",
    "        while(low <= high)\n",
    "        {\n",
    "            if(height[low] < height[high])\n",
    "            {\n",
    "                water += max(0, min(max(height[high], highMax),lowMax) - height[low]);\n",
    "                lowMax = max(lowMax, height[low]);\n",
    "                low++;\n",
    "            }\n",
    "            else\n",
    "            {\n",
    "                water += max(0, min(max(height[low], lowMax),highMax) - height[high]);\n",
    "                highMax = max(highMax, height[high]);\n",
    "                high--;\n",
    "            }\n",
    "        }\n",
    "\n",
    "        return water;\n",
    "    }\n",
    "};"
   ]
  },
  {
   "cell_type": "markdown",
   "id": "66e84e14",
   "metadata": {},
   "source": [
    "https://leetcode.com/problems/trapping-rain-water/description/"
   ]
  }
 ],
 "metadata": {
  "language_info": {
   "name": "python"
  }
 },
 "nbformat": 4,
 "nbformat_minor": 5
}
