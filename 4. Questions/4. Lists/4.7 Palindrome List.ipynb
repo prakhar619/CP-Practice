{
 "cells": [
  {
   "cell_type": "code",
   "execution_count": null,
   "id": "f136cf2e",
   "metadata": {
    "vscode": {
     "languageId": "plaintext"
    }
   },
   "outputs": [],
   "source": [
    "struct ListNode {\n",
    "      int val;\n",
    "      ListNode *next;\n",
    "      ListNode() : val(0), next(nullptr) {}\n",
    "      ListNode(int x) : val(x), next(nullptr) {}\n",
    "      ListNode(int x, ListNode *next) : val(x), next(next) {}\n",
    "};\n",
    "class Solution {\n",
    "public:\n",
    "    bool isPalindrome(ListNode* head) {\n",
    "        ListNode* prev = new ListNode();\n",
    "        prev->next = head;\n",
    "        ListNode* slow = head;\n",
    "        ListNode* fast = head;\n",
    "\n",
    "        while(fast != nullptr && fast->next != nullptr)\n",
    "        {\n",
    "            prev = prev->next;\n",
    "            slow = slow->next;\n",
    "            fast = fast->next->next;\n",
    "        }\n",
    "\n",
    "        prev->next = nullptr;\n",
    "\n",
    "        if(fast == nullptr)\n",
    "        {\n",
    "           prev = nullptr; \n",
    "        }\n",
    "        else if(fast->next == nullptr)\n",
    "        {\n",
    "            prev = nullptr;\n",
    "            slow = slow->next;\n",
    "        }\n",
    "\n",
    "        //reversing\n",
    "        while(slow != nullptr)\n",
    "        {\n",
    "            ListNode* temp = slow->next;\n",
    "            slow->next = prev;\n",
    "            prev= slow;\n",
    "            slow = temp;\n",
    "        }\n",
    "\n",
    "        while(head != nullptr && prev != nullptr)\n",
    "        {\n",
    "            if(head->val != prev->val)\n",
    "            return false;\n",
    "\n",
    "            head = head->next;\n",
    "            prev = prev->next;\n",
    "\n",
    "        }\n",
    "\n",
    "        return true;\n",
    "\n",
    "\n",
    "    }\n",
    "};"
   ]
  },
  {
   "cell_type": "markdown",
   "id": "fd1373bb",
   "metadata": {},
   "source": [
    "https://leetcode.com/problems/palindrome-linked-list/"
   ]
  }
 ],
 "metadata": {
  "language_info": {
   "name": "python"
  }
 },
 "nbformat": 4,
 "nbformat_minor": 5
}
