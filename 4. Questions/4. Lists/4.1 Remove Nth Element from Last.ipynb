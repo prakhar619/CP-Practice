{
 "cells": [
  {
   "cell_type": "markdown",
   "id": "f2a1fe8d",
   "metadata": {},
   "source": [
    "#### Chapter 4: Lists"
   ]
  },
  {
   "cell_type": "code",
   "execution_count": 2,
   "id": "8afdb41f",
   "metadata": {
    "vscode": {
     "languageId": "cpp"
    }
   },
   "outputs": [],
   "source": [
    "using namespace std;"
   ]
  },
  {
   "cell_type": "markdown",
   "id": "b3cdbb8e",
   "metadata": {},
   "source": [
    "### 1. Remove Nth Element from Last"
   ]
  },
  {
   "cell_type": "markdown",
   "id": "3a8baa92",
   "metadata": {},
   "source": [
    "> Remove last nth element from the list"
   ]
  },
  {
   "cell_type": "markdown",
   "id": "4e0fa148",
   "metadata": {},
   "source": [
    "*Leetcode Solution:* https://leetcode.com/problems/remove-nth-node-from-end-of-list/"
   ]
  },
  {
   "cell_type": "markdown",
   "id": "fe269287",
   "metadata": {},
   "source": [
    "**Best Possible Solution:**"
   ]
  },
  {
   "cell_type": "markdown",
   "id": "6c151051",
   "metadata": {},
   "source": [
    "### Method 1:\n",
    "Time Complexity: O(n)  \n",
    "Space Complexity: O(1)  "
   ]
  },
  {
   "cell_type": "code",
   "execution_count": 3,
   "id": "5cc378c9",
   "metadata": {
    "vscode": {
     "languageId": "cpp"
    }
   },
   "outputs": [],
   "source": [
    "struct ListNode {\n",
    "      int val;\n",
    "      ListNode *next;\n",
    "      ListNode() : val(0), next(nullptr) {}\n",
    "      ListNode(int x) : val(x), next(nullptr) {}\n",
    "      ListNode(int x, ListNode *next) : val(x), next(next) {}\n",
    "};\n",
    "\n",
    "class Solution {\n",
    "public:\n",
    "    ListNode* removeNthFromEnd(ListNode* head, int n) {\n",
    "        ListNode* zero = new ListNode();\n",
    "        zero->next = head;\n",
    "        ListNode* dup = zero;\n",
    "        ListNode* nth = head;\n",
    "\n",
    "        while(n > 0)\n",
    "        {\n",
    "            nth = nth->next;\n",
    "            n--;\n",
    "        }\n",
    "\n",
    "        while(nth != nullptr)\n",
    "        {\n",
    "            nth = nth->next;\n",
    "            zero = zero->next;\n",
    "        }\n",
    "\n",
    "        zero->next = zero->next->next;\n",
    "        return dup->next;\n",
    "    }\n",
    "};"
   ]
  },
  {
   "cell_type": "code",
   "execution_count": null,
   "id": "1c33ee3e",
   "metadata": {
    "vscode": {
     "languageId": "cpp"
    }
   },
   "outputs": [],
   "source": []
  }
 ],
 "metadata": {
  "kernelspec": {
   "display_name": "C++17",
   "language": "C++17",
   "name": "xcpp17"
  },
  "language_info": {
   "codemirror_mode": "text/x-c++src",
   "file_extension": ".cpp",
   "mimetype": "text/x-c++src",
   "name": "c++",
   "version": "17"
  }
 },
 "nbformat": 4,
 "nbformat_minor": 5
}
