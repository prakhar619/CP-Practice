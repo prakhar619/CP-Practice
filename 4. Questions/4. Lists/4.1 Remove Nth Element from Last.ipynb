{
 "cells": [
  {
   "cell_type": "code",
   "execution_count": null,
   "id": "5cc378c9",
   "metadata": {
    "vscode": {
     "languageId": "plaintext"
    }
   },
   "outputs": [],
   "source": [
    "/**\n",
    " * Definition for singly-linked list.\n",
    " * struct ListNode {\n",
    " *     int val;\n",
    " *     ListNode *next;\n",
    " *     ListNode() : val(0), next(nullptr) {}\n",
    " *     ListNode(int x) : val(x), next(nullptr) {}\n",
    " *     ListNode(int x, ListNode *next) : val(x), next(next) {}\n",
    " * };\n",
    " */\n",
    "class Solution {\n",
    "public:\n",
    "    ListNode* removeNthFromEnd(ListNode* head, int n) {\n",
    "        ListNode* zero = new ListNode();\n",
    "        zero->next = head;\n",
    "        ListNode* dup = zero;\n",
    "        ListNode* nth = head;\n",
    "\n",
    "        while(n > 0)\n",
    "        {\n",
    "            nth = nth->next;\n",
    "            n--;\n",
    "        }\n",
    "\n",
    "        while(nth != nullptr)\n",
    "        {\n",
    "            nth = nth->next;\n",
    "            zero = zero->next;\n",
    "        }\n",
    "\n",
    "        zero->next = zero->next->next;\n",
    "        return dup->next;\n",
    "    }\n",
    "};"
   ]
  },
  {
   "cell_type": "markdown",
   "id": "4e0fa148",
   "metadata": {},
   "source": [
    "https://leetcode.com/problems/remove-nth-node-from-end-of-list/"
   ]
  }
 ],
 "metadata": {
  "language_info": {
   "name": "python"
  }
 },
 "nbformat": 4,
 "nbformat_minor": 5
}
