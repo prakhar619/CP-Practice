{
 "cells": [
  {
   "cell_type": "markdown",
   "id": "0dafc4de",
   "metadata": {},
   "source": [
    "#### Chapter 14: Graphs"
   ]
  },
  {
   "cell_type": "code",
   "execution_count": 1,
   "id": "76c56f3c",
   "metadata": {
    "vscode": {
     "languageId": "cpp"
    }
   },
   "outputs": [],
   "source": [
    "#include <vector>\n",
    "#include <queue>\n",
    "#include <stack>\n",
    "using namespace std;"
   ]
  },
  {
   "cell_type": "markdown",
   "id": "ca8530de",
   "metadata": {},
   "source": [
    "### 4. Topographic Sort"
   ]
  },
  {
   "cell_type": "markdown",
   "id": "09afdfec",
   "metadata": {},
   "source": [
    "> Sort the given graph nodes based on their topographopy"
   ]
  },
  {
   "cell_type": "markdown",
   "id": "c39039ac",
   "metadata": {},
   "source": [
    "*Leetcode Link:* https://www.geeksforgeeks.org/problems/topological-sort/1"
   ]
  },
  {
   "cell_type": "markdown",
   "id": "edfdb317",
   "metadata": {},
   "source": [
    "**Best Possible Solution:**"
   ]
  },
  {
   "cell_type": "markdown",
   "id": "1cb42844",
   "metadata": {},
   "source": [
    "### Method 1: BFS \n",
    "Time Complexity: O(V * E)  \n",
    "Space Complexity: O(V)      [excluding input edges array]\n",
    "###### where v is count of vertex and e is count of edges"
   ]
  },
  {
   "cell_type": "code",
   "execution_count": 2,
   "id": "4cb55d84",
   "metadata": {
    "vscode": {
     "languageId": "cpp"
    }
   },
   "outputs": [],
   "source": [
    "class Solution {\n",
    "  public:\n",
    "    vector<int> topoSort(int V, vector<vector<int>>& edges) {\n",
    "        // code here\n",
    "        vector<int> indegree(V,0);\n",
    "        for(vector<int> i: edges)\n",
    "        {\n",
    "            indegree[i[1]]++;\n",
    "        }\n",
    "        \n",
    "        queue<int> q;\n",
    "        for(int i = 0; i < V; i++)\n",
    "        {\n",
    "            if(indegree[i] == 0)\n",
    "            q.push(i);\n",
    "        }\n",
    "        \n",
    "        vector<int> ans;\n",
    "        while(!q.empty())\n",
    "        {\n",
    "            int n = q.front(); q.pop();\n",
    "            \n",
    "            //cout << n << endl;\n",
    "            ans.push_back(n);\n",
    "            for(vector<int> i : edges)\n",
    "            {\n",
    "                if(i[0] == n)\n",
    "                indegree[i[1]]--;\n",
    "                \n",
    "                if(i[0] == n && indegree[i[1]] == 0)\n",
    "                q.push(i[1]);\n",
    "            }\n",
    "                \n",
    "        }\n",
    "        return ans;\n",
    "    }\n",
    "};"
   ]
  },
  {
   "cell_type": "markdown",
   "id": "9b19e742",
   "metadata": {},
   "source": [
    "### Method 2: BFS\n",
    "Time Complexity: O(V+E)  \n",
    "Space Complexity: O(V+E)\n",
    "###### where v is count of vertex and e is count of edges"
   ]
  },
  {
   "cell_type": "code",
   "execution_count": 3,
   "id": "b1a95d06",
   "metadata": {
    "vscode": {
     "languageId": "cpp"
    }
   },
   "outputs": [],
   "source": [
    "class Solution {\n",
    "  public:\n",
    "    vector<int> topoSort(int V, vector<vector<int>>& edges) {\n",
    "        \n",
    "        vector<vector<int>> adjacencyList(V);\n",
    "        // code here\n",
    "        vector<int> indegree(V,0);\n",
    "        for(vector<int> i: edges)\n",
    "        {\n",
    "            indegree[i[1]]++;\n",
    "            adjacencyList[i[0]].push_back(i[1]);\n",
    "        }\n",
    "        \n",
    "        queue<int> q;\n",
    "        for(int i = 0; i < V; i++)\n",
    "        {\n",
    "            if(indegree[i] == 0)\n",
    "            q.push(i);\n",
    "        }\n",
    "        \n",
    "        vector<int> ans;\n",
    "        while(!q.empty())\n",
    "        {\n",
    "            int n = q.front(); q.pop();\n",
    "            \n",
    "            //cout << n << endl;\n",
    "            ans.push_back(n);\n",
    "            for(int i : adjacencyList[n])\n",
    "            {\n",
    "                \n",
    "                indegree[i]--;\n",
    "\n",
    "                if(indegree[i] == 0)\n",
    "                q.push(i);\n",
    "            }\n",
    "            \n",
    "            \n",
    "        }\n",
    "        return ans;\n",
    "    }\n",
    "};"
   ]
  }
 ],
 "metadata": {
  "kernelspec": {
   "display_name": "C++17",
   "language": "C++17",
   "name": "xcpp17"
  },
  "language_info": {
   "codemirror_mode": "text/x-c++src",
   "file_extension": ".cpp",
   "mimetype": "text/x-c++src",
   "name": "c++",
   "version": "17"
  }
 },
 "nbformat": 4,
 "nbformat_minor": 5
}
