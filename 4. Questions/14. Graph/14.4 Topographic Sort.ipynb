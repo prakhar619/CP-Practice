{
 "cells": [
  {
   "cell_type": "code",
   "execution_count": null,
   "id": "4cb55d84",
   "metadata": {
    "vscode": {
     "languageId": "plaintext"
    }
   },
   "outputs": [],
   "source": [
    "class Solution {\n",
    "  public:\n",
    "    vector<int> topoSort(int V, vector<vector<int>>& edges) {\n",
    "        // code here\n",
    "        vector<int> indegree(V,0);\n",
    "        for(vector<int> i: edges)\n",
    "        {\n",
    "            indegree[i[1]]++;\n",
    "        }\n",
    "        \n",
    "        queue<int> q;\n",
    "        for(int i = 0; i < V; i++)\n",
    "        {\n",
    "            if(indegree[i] == 0)\n",
    "            q.push(i);\n",
    "        }\n",
    "        \n",
    "        vector<int> ans;\n",
    "        while(!q.empty())\n",
    "        {\n",
    "            int n = q.front(); q.pop();\n",
    "            \n",
    "            //cout << n << endl;\n",
    "            ans.push_back(n);\n",
    "            for(vector<int> i : edges)\n",
    "            {\n",
    "                if(i[0] == n)\n",
    "                indegree[i[1]]--;\n",
    "                \n",
    "                if(i[0] == n && indegree[i[1]] == 0)\n",
    "                q.push(i[1]);\n",
    "            }\n",
    "                \n",
    "        }\n",
    "        return ans;\n",
    "    }\n",
    "};"
   ]
  },
  {
   "cell_type": "code",
   "execution_count": null,
   "id": "b1a95d06",
   "metadata": {
    "vscode": {
     "languageId": "plaintext"
    }
   },
   "outputs": [],
   "source": [
    "class Solution {\n",
    "  public:\n",
    "    vector<int> topoSort(int V, vector<vector<int>>& edges) {\n",
    "        \n",
    "        vector<vector<int>> adjacencyList(V);\n",
    "        // code here\n",
    "        vector<int> indegree(V,0);\n",
    "        for(vector<int> i: edges)\n",
    "        {\n",
    "            indegree[i[1]]++;\n",
    "            adjacencyList[i[0]].push_back(i[1]);\n",
    "        }\n",
    "        \n",
    "        queue<int> q;\n",
    "        for(int i = 0; i < V; i++)\n",
    "        {\n",
    "            if(indegree[i] == 0)\n",
    "            q.push(i);\n",
    "        }\n",
    "        \n",
    "        vector<int> ans;\n",
    "        while(!q.empty())\n",
    "        {\n",
    "            int n = q.front(); q.pop();\n",
    "            \n",
    "            //cout << n << endl;\n",
    "            ans.push_back(n);\n",
    "            for(int i : adjacencyList[n])\n",
    "            {\n",
    "                \n",
    "                indegree[i]--;\n",
    "\n",
    "                if(indegree[i] == 0)\n",
    "                q.push(i);\n",
    "            }\n",
    "            \n",
    "            \n",
    "        }\n",
    "        return ans;\n",
    "    }\n",
    "};"
   ]
  },
  {
   "cell_type": "markdown",
   "id": "c39039ac",
   "metadata": {},
   "source": [
    "https://www.geeksforgeeks.org/problems/topological-sort/1"
   ]
  },
  {
   "cell_type": "code",
   "execution_count": null,
   "id": "fd7c0f79",
   "metadata": {
    "vscode": {
     "languageId": "plaintext"
    }
   },
   "outputs": [],
   "source": [
    "class Solution {\n",
    "  public:\n",
    "    vector<int> topoSort(int V, vector<vector<int>>& edges) {\n",
    "        \n",
    "        vector<vector<int>> adjacencyList(V);\n",
    "        // code here\n",
    "        vector<int> indegree(V,0);\n",
    "        for(vector<int> i: edges)\n",
    "        {\n",
    "            indegree[i[1]]++;\n",
    "            adjacencyList[i[0]].push_back(i[1]);\n",
    "        }\n",
    "        \n",
    "        stack<int> q;\n",
    "        for(int i = 0; i < V; i++)\n",
    "        {\n",
    "            if(indegree[i] == 0)\n",
    "            q.push(i);\n",
    "        }\n",
    "        \n",
    "        vector<int> ans;\n",
    "        while(!q.empty())\n",
    "        {\n",
    "            int n = q.top(); q.pop();\n",
    "            \n",
    "            //cout << n << endl;\n",
    "            ans.push_back(n);\n",
    "            for(int i : adjacencyList[n])\n",
    "            {\n",
    "                \n",
    "                indegree[i]--;\n",
    "\n",
    "                if(indegree[i] == 0)\n",
    "                q.push(i);\n",
    "            }\n",
    "            \n",
    "            \n",
    "        }\n",
    "        return ans;\n",
    "    }\n",
    "};"
   ]
  }
 ],
 "metadata": {
  "language_info": {
   "name": "python"
  }
 },
 "nbformat": 4,
 "nbformat_minor": 5
}
