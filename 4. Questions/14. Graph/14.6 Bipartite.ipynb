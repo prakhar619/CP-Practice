{
 "cells": [
  {
   "cell_type": "markdown",
   "id": "1a78f970",
   "metadata": {},
   "source": [
    "#### Chapter 14: Graphs"
   ]
  },
  {
   "cell_type": "code",
   "execution_count": 1,
   "id": "072805a6",
   "metadata": {
    "vscode": {
     "languageId": "cpp"
    }
   },
   "outputs": [],
   "source": [
    "#include <vector>\n",
    "#include <stack>\n",
    "#include <set>\n",
    "using namespace std;"
   ]
  },
  {
   "cell_type": "markdown",
   "id": "fb80fb69",
   "metadata": {},
   "source": [
    "### 6. Bipartite"
   ]
  },
  {
   "cell_type": "markdown",
   "id": "f0556ec5",
   "metadata": {},
   "source": [
    "> A graph is bipartite if the nodes can be partitioned into two independent sets A and B such that every edge in the graph connects a node in set A and a node in set B.  \n",
    "Undirected graph with no self edges.  "
   ]
  },
  {
   "cell_type": "markdown",
   "id": "d0ebc601",
   "metadata": {},
   "source": [
    "*Leetcode Link:* https://leetcode.com/problems/is-graph-bipartite/"
   ]
  },
  {
   "cell_type": "markdown",
   "id": "b68a015c",
   "metadata": {},
   "source": [
    "**Best Possible Solution:**"
   ]
  },
  {
   "cell_type": "markdown",
   "id": "16a897fd",
   "metadata": {},
   "source": [
    "### Method 1: DFS\n",
    "Time Complexity: O(V+E)  \n",
    "Space Complexity: O(V)  [apart from input adjacency list]\n",
    "###### where v in vertex count and e is edge count"
   ]
  },
  {
   "cell_type": "code",
   "execution_count": null,
   "id": "4e0df06d",
   "metadata": {
    "vscode": {
     "languageId": "cpp"
    }
   },
   "outputs": [],
   "source": [
    "class Solution {\n",
    "public:\n",
    "    bool isBipartite(vector<vector<int>>& graph) {\n",
    "        vector<set<int>> grp(2);\n",
    "\n",
    "        stack<int> st;\n",
    "\n",
    "        //why this loop; why cant begin from while after pushing a element\n",
    "            //graph can be disconnected one\n",
    "        for(int i = 0; i < graph.size(); i++)\n",
    "        {\n",
    "            if(grp[0].find(i) == grp[0].end() && grp[1].find(i) == grp[1].end())\n",
    "            {\n",
    "                //if  i is not present in either set\n",
    "                st.push(i);\n",
    "                grp[0].insert(i);\n",
    "            }\n",
    "\n",
    "            while(!st.empty())\n",
    "            {\n",
    "                //dfs to all related nodes\n",
    "                int v = st.top(); st.pop();\n",
    "                int grpPtr = 0;\n",
    "\n",
    "                //if node present in set0\n",
    "                if(grp[0].find(v) != grp[0].end())\n",
    "                grpPtr = 1;\n",
    "\n",
    "                for(int i : graph[v])\n",
    "                {\n",
    "                    //if childnode present in same set as parentnode\n",
    "                    if(grp[grpPtr^1].find(i) != grp[grpPtr^1].end())\n",
    "                    return false;\n",
    "\n",
    "                    else if(grp[grpPtr].find(i) != grp[grpPtr].end())\n",
    "                    {}\n",
    "                    else\n",
    "                    {\n",
    "                        grp[grpPtr].insert(i);\n",
    "                        st.push(i);\n",
    "                    }\n",
    "                }\n",
    "            }\n",
    "\n",
    "        }\n",
    "\n",
    "        return true;\n",
    "    }\n",
    "};"
   ]
  }
 ],
 "metadata": {
  "kernelspec": {
   "display_name": "C++17",
   "language": "C++17",
   "name": "xcpp17"
  },
  "language_info": {
   "codemirror_mode": "text/x-c++src",
   "file_extension": ".cpp",
   "mimetype": "text/x-c++src",
   "name": "c++",
   "version": "17"
  }
 },
 "nbformat": 4,
 "nbformat_minor": 5
}
