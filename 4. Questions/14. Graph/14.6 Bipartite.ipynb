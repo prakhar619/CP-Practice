{
 "cells": [
  {
   "cell_type": "code",
   "execution_count": null,
   "id": "4e0df06d",
   "metadata": {
    "vscode": {
     "languageId": "plaintext"
    }
   },
   "outputs": [],
   "source": [
    "class Solution {\n",
    "public:\n",
    "    bool isBipartite(vector<vector<int>>& graph) {\n",
    "        vector<set<int>> grp(2);\n",
    "\n",
    "        stack<int> st;\n",
    "\n",
    "        //why this loop; why cant begin from while after pushing a element\n",
    "        for(int i = 0; i < graph.size(); i++)\n",
    "        {\n",
    "            if(grp[0].find(i) == grp[0].end() && grp[1].find(i) == grp[1].end())\n",
    "            {\n",
    "                st.push(i);\n",
    "                grp[0].insert(i);\n",
    "            }\n",
    "            while(!st.empty())\n",
    "            {\n",
    "                int v = st.top(); st.pop();\n",
    "                int grpPtr = 0;\n",
    "                if(grp[0].find(v) != grp[0].end())\n",
    "                grpPtr = 1;\n",
    "\n",
    "                for(int i : graph[v])\n",
    "                {\n",
    "                    if(grp[grpPtr^1].find(i) != grp[grpPtr^1].end())\n",
    "                    return false;\n",
    "\n",
    "                    else if(grp[grpPtr].find(i) != grp[grpPtr].end())\n",
    "                    {}\n",
    "                    else\n",
    "                    {\n",
    "                        grp[grpPtr].insert(i);\n",
    "                        st.push(i);\n",
    "                    }\n",
    "                }\n",
    "            }\n",
    "\n",
    "        }\n",
    "\n",
    "        return true;\n",
    "    }\n",
    "};"
   ]
  },
  {
   "cell_type": "markdown",
   "id": "d0ebc601",
   "metadata": {},
   "source": [
    "https://leetcode.com/problems/is-graph-bipartite/description/"
   ]
  }
 ],
 "metadata": {
  "language_info": {
   "name": "python"
  }
 },
 "nbformat": 4,
 "nbformat_minor": 5
}
