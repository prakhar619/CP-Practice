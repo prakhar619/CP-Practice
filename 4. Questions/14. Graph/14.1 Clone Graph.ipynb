{
 "cells": [
  {
   "cell_type": "markdown",
   "id": "1a5c0a32",
   "metadata": {},
   "source": [
    "#### Chapter 14: Graphs"
   ]
  },
  {
   "cell_type": "code",
   "execution_count": 2,
   "id": "38b82542",
   "metadata": {
    "vscode": {
     "languageId": "cpp"
    }
   },
   "outputs": [],
   "source": [
    "#include <vector>\n",
    "#include <utility>\n",
    "#include <unordered_map>\n",
    "using namespace std;"
   ]
  },
  {
   "cell_type": "markdown",
   "id": "6c3d801b",
   "metadata": {},
   "source": [
    "### 1. Clone Graph"
   ]
  },
  {
   "cell_type": "markdown",
   "id": "accbd285",
   "metadata": {},
   "source": [
    "> Given a graph, create a deep copy of the graph"
   ]
  },
  {
   "cell_type": "markdown",
   "id": "6c2379b5",
   "metadata": {},
   "source": [
    "*Leetcode Link:* https://leetcode.com/problems/clone-graph/"
   ]
  },
  {
   "cell_type": "markdown",
   "id": "fc7720ee",
   "metadata": {},
   "source": [
    "**Best Possible Solution:**"
   ]
  },
  {
   "cell_type": "markdown",
   "id": "45870677",
   "metadata": {},
   "source": [
    "### Method 1\n",
    "Time Complexity: O(V)  \n",
    "Space Complexity: O(2V)\n",
    "###### where v in count of vertex"
   ]
  },
  {
   "cell_type": "code",
   "execution_count": null,
   "id": "39c8f829",
   "metadata": {
    "vscode": {
     "languageId": "cpp"
    }
   },
   "outputs": [],
   "source": [
    "\n",
    "class Node {\n",
    "public:\n",
    "    int val;\n",
    "    vector<Node*> neighbors;\n",
    "    Node() {\n",
    "        val = 0;\n",
    "        neighbors = vector<Node*>();\n",
    "    }\n",
    "    Node(int _val) {\n",
    "        val = _val;\n",
    "        neighbors = vector<Node*>();\n",
    "    }\n",
    "    Node(int _val, vector<Node*> _neighbors) {\n",
    "        val = _val;\n",
    "        neighbors = _neighbors;\n",
    "    }\n",
    "};\n",
    "\n",
    "class Solution {\n",
    "public:\n",
    "    unordered_map<Node*, Node*> map;\n",
    "    Node* cloneGraph(Node* node) {\n",
    "        if(node == nullptr)\n",
    "        return nullptr;\n",
    "\n",
    "        if(map.find(node) == map.end())\n",
    "        {\n",
    "            Node* newNode = new Node(node->val);\n",
    "            map[node] = newNode;\n",
    "        }\n",
    "        else\n",
    "        {\n",
    "            //why i did this here\n",
    "                //graph can have circular dependency; therefore a node which is currently being explored cant be created\n",
    "                //exploring node is node which is created but its child node are being created and attached\n",
    "            return map[node];\n",
    "        }\n",
    "\n",
    "        for(Node* i: node->neighbors)\n",
    "        {\n",
    "            cloneGraph(i);\n",
    "            map[node]->neighbors.push_back(map[i]);\n",
    "        }\n",
    "\n",
    "        return map[node];\n",
    "    }\n",
    "};"
   ]
  }
 ],
 "metadata": {
  "kernelspec": {
   "display_name": "C++17",
   "language": "C++17",
   "name": "xcpp17"
  },
  "language_info": {
   "codemirror_mode": "text/x-c++src",
   "file_extension": ".cpp",
   "mimetype": "text/x-c++src",
   "name": "c++",
   "version": "17"
  }
 },
 "nbformat": 4,
 "nbformat_minor": 5
}
