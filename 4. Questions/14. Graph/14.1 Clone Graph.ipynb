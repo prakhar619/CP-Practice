{
 "cells": [
  {
   "cell_type": "code",
   "execution_count": null,
   "id": "39c8f829",
   "metadata": {
    "vscode": {
     "languageId": "plaintext"
    }
   },
   "outputs": [],
   "source": [
    "/*\n",
    "// Definition for a Node.\n",
    "class Node {\n",
    "public:\n",
    "    int val;\n",
    "    vector<Node*> neighbors;\n",
    "    Node() {\n",
    "        val = 0;\n",
    "        neighbors = vector<Node*>();\n",
    "    }\n",
    "    Node(int _val) {\n",
    "        val = _val;\n",
    "        neighbors = vector<Node*>();\n",
    "    }\n",
    "    Node(int _val, vector<Node*> _neighbors) {\n",
    "        val = _val;\n",
    "        neighbors = _neighbors;\n",
    "    }\n",
    "};\n",
    "*/\n",
    "\n",
    "class Solution {\n",
    "public:\n",
    "    unordered_map<Node*, Node*> map;\n",
    "    Node* cloneGraph(Node* node) {\n",
    "        if(node == nullptr)\n",
    "        return nullptr;\n",
    "\n",
    "        if(map.find(node) == map.end())\n",
    "        {\n",
    "            Node* newNode = new Node(node->val);\n",
    "            map[node] = newNode;\n",
    "        }\n",
    "        else\n",
    "        {\n",
    "            //why i did this here\n",
    "            return map[node];\n",
    "        }\n",
    "\n",
    "        for(Node* i: node->neighbors)\n",
    "        {\n",
    "            cloneGraph(i);\n",
    "            map[node]->neighbors.push_back(map[i]);\n",
    "        }\n",
    "\n",
    "        return map[node];\n",
    "    }\n",
    "};"
   ]
  },
  {
   "cell_type": "markdown",
   "id": "6c2379b5",
   "metadata": {},
   "source": [
    "https://leetcode.com/problems/clone-graph/"
   ]
  }
 ],
 "metadata": {
  "language_info": {
   "name": "python"
  }
 },
 "nbformat": 4,
 "nbformat_minor": 5
}
