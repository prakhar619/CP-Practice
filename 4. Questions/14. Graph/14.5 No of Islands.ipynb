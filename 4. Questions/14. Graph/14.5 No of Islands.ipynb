{
 "cells": [
  {
   "cell_type": "code",
   "execution_count": null,
   "id": "2a47643b",
   "metadata": {
    "vscode": {
     "languageId": "plaintext"
    }
   },
   "outputs": [],
   "source": [
    "class Solution {\n",
    "public:\n",
    "    void helper(vector<vector<char>>& grid, int i, int j)\n",
    "    {\n",
    "        if(i >= grid.size() || i < 0 || j >= grid[0].size() || j < 0)\n",
    "        return;\n",
    "\n",
    "        if(grid[i][j] == '1')\n",
    "        {\n",
    "            grid[i][j]= '0';\n",
    "            helper(grid,i+1,j); helper(grid,i-1,j);\n",
    "            helper(grid,i,j+1); helper(grid,i,j-1);\n",
    "        }\n",
    "    }\n",
    "    int numIslands(vector<vector<char>>& grid) {\n",
    "        int cnt = 0;\n",
    "        for(int i = 0; i < grid.size(); i++)\n",
    "        for(int j = 0; j < grid[i].size(); j++)\n",
    "        {\n",
    "            if(grid[i][j] == '1')\n",
    "            {\n",
    "                cnt++;\n",
    "                helper(grid,i,j);\n",
    "            }\n",
    "        }\n",
    "        return cnt;\n",
    "    }\n",
    "};"
   ]
  }
 ],
 "metadata": {
  "language_info": {
   "name": "python"
  }
 },
 "nbformat": 4,
 "nbformat_minor": 5
}
