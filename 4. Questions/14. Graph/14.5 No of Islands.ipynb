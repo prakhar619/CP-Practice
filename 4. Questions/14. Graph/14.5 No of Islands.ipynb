{
 "cells": [
  {
   "cell_type": "markdown",
   "id": "92fd6fd5",
   "metadata": {},
   "source": [
    "#### Chapter 5: Graphs"
   ]
  },
  {
   "cell_type": "code",
   "execution_count": 1,
   "id": "1f818660",
   "metadata": {
    "vscode": {
     "languageId": "cpp"
    }
   },
   "outputs": [],
   "source": [
    "#include <vector>\n",
    "using namespace std;"
   ]
  },
  {
   "cell_type": "markdown",
   "id": "7dd4f82b",
   "metadata": {},
   "source": [
    "### 5. Number of Islands"
   ]
  },
  {
   "cell_type": "markdown",
   "id": "9f3ac460",
   "metadata": {},
   "source": [
    ">Given an m x n 2D binary grid grid which represents a map of '1's (land) and '0's (water), return the number of islands.  \n",
    "An island is surrounded by water and is formed by connecting adjacent lands horizontally or vertically. You may assume all four edges of the grid are all surrounded by water."
   ]
  },
  {
   "cell_type": "markdown",
   "id": "bbdaefaa",
   "metadata": {},
   "source": [
    "*Leetcode Link:* https://leetcode.com/problems/number-of-islands/"
   ]
  },
  {
   "cell_type": "markdown",
   "id": "13e89bfa",
   "metadata": {},
   "source": [
    "**Best Possible Solution:**"
   ]
  },
  {
   "cell_type": "markdown",
   "id": "7b66b1bd",
   "metadata": {},
   "source": [
    "### Method 1: BFS\n",
    "Time Complexity: O(m * n)  \n",
    "Space Complexity: O(m * n)\n",
    "###### where m and n are dimension of input array"
   ]
  },
  {
   "cell_type": "code",
   "execution_count": null,
   "id": "2a47643b",
   "metadata": {
    "vscode": {
     "languageId": "cpp"
    }
   },
   "outputs": [],
   "source": [
    "class Solution {\n",
    "public:\n",
    "    void helper(vector<vector<char>>& grid, int i, int j)\n",
    "    {\n",
    "        if(i >= grid.size() || i < 0 || j >= grid[0].size() || j < 0)\n",
    "        return;\n",
    "\n",
    "        if(grid[i][j] == '1')\n",
    "        {\n",
    "            grid[i][j]= '0';\n",
    "            helper(grid,i+1,j); helper(grid,i-1,j);\n",
    "            helper(grid,i,j+1); helper(grid,i,j-1);\n",
    "        }\n",
    "    }\n",
    "    int numIslands(vector<vector<char>>& grid) {\n",
    "        int cnt = 0;\n",
    "        for(int i = 0; i < grid.size(); i++)\n",
    "        for(int j = 0; j < grid[i].size(); j++)\n",
    "        {\n",
    "            if(grid[i][j] == '1')\n",
    "            {\n",
    "                cnt++;\n",
    "                helper(grid,i,j);\n",
    "            }\n",
    "        }\n",
    "        return cnt;\n",
    "    }\n",
    "};"
   ]
  }
 ],
 "metadata": {
  "kernelspec": {
   "display_name": "C++17",
   "language": "C++17",
   "name": "xcpp17"
  },
  "language_info": {
   "codemirror_mode": "text/x-c++src",
   "file_extension": ".cpp",
   "mimetype": "text/x-c++src",
   "name": "c++",
   "version": "17"
  }
 },
 "nbformat": 4,
 "nbformat_minor": 5
}
