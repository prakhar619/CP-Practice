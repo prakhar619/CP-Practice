{
 "cells": [
  {
   "cell_type": "markdown",
   "id": "8b3724ac",
   "metadata": {},
   "source": [
    "https://leetcode.com/problems/symmetric-tree/description/"
   ]
  },
  {
   "cell_type": "code",
   "execution_count": null,
   "id": "a9447c54",
   "metadata": {
    "vscode": {
     "languageId": "plaintext"
    }
   },
   "outputs": [],
   "source": [
    "/**\n",
    " * Definition for a binary tree node.\n",
    " * struct TreeNode {\n",
    " *     int val;\n",
    " *     TreeNode *left;\n",
    " *     TreeNode *right;\n",
    " *     TreeNode() : val(0), left(nullptr), right(nullptr) {}\n",
    " *     TreeNode(int x) : val(x), left(nullptr), right(nullptr) {}\n",
    " *     TreeNode(int x, TreeNode *left, TreeNode *right) : val(x), left(left), right(right) {}\n",
    " * };\n",
    " */\n",
    "class Solution {\n",
    "public:\n",
    "    bool isSymmetric(TreeNode* root1, TreeNode* root2)\n",
    "    {\n",
    "        if(root1 == nullptr || root2 == nullptr)\n",
    "        return root1 == root2;\n",
    "\n",
    "        if(root1->val != root2->val)\n",
    "        return false;\n",
    "\n",
    "        return isSymmetric(root1->left, root2->right) && isSymmetric(root1->right, root2-> left);\n",
    "\n",
    "\n",
    "    }\n",
    "    bool isSymmetric(TreeNode* root) {\n",
    "        return isSymmetric(root->left, root->right);\n",
    "    }\n",
    "};"
   ]
  }
 ],
 "metadata": {
  "language_info": {
   "name": "python"
  }
 },
 "nbformat": 4,
 "nbformat_minor": 5
}
