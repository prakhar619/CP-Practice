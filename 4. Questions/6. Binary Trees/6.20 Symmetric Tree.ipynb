{
 "cells": [
  {
   "cell_type": "markdown",
   "id": "a59e0b29",
   "metadata": {},
   "source": [
    "### Chapter 6: Binary Tree"
   ]
  },
  {
   "cell_type": "code",
   "execution_count": 1,
   "id": "fbdbccd0",
   "metadata": {
    "vscode": {
     "languageId": "cpp"
    }
   },
   "outputs": [],
   "source": [
    "using namespace std;"
   ]
  },
  {
   "cell_type": "markdown",
   "id": "65e1f3d4",
   "metadata": {},
   "source": [
    "#### 20. Symmetric Tree"
   ]
  },
  {
   "cell_type": "markdown",
   "id": "2d00a3f3",
   "metadata": {},
   "source": [
    "> Given 2 Binary Tree, compare them if they are mirror image of each other"
   ]
  },
  {
   "cell_type": "markdown",
   "id": "8b3724ac",
   "metadata": {},
   "source": [
    "*Leetcode Link:* https://leetcode.com/problems/symmetric-tree/"
   ]
  },
  {
   "cell_type": "markdown",
   "id": "e87efad3",
   "metadata": {},
   "source": [
    "**Best Possible Solution:**"
   ]
  },
  {
   "cell_type": "markdown",
   "id": "a47e4885",
   "metadata": {},
   "source": [
    "### Method 1:\n",
    "Time Complexity: O(n)  \n",
    "Space Complexity: O(h)\n",
    "###### where n is #node and h is height of tree"
   ]
  },
  {
   "cell_type": "code",
   "execution_count": 2,
   "id": "a9447c54",
   "metadata": {
    "vscode": {
     "languageId": "cpp"
    }
   },
   "outputs": [],
   "source": [
    "struct TreeNode {\n",
    "      int val;\n",
    "      TreeNode *left;\n",
    "      TreeNode *right;\n",
    "      TreeNode() : val(0), left(nullptr), right(nullptr) {}\n",
    "      TreeNode(int x) : val(x), left(nullptr), right(nullptr) {}\n",
    "      TreeNode(int x, TreeNode *left, TreeNode *right) : val(x), left(left), right(right) {}\n",
    "};\n",
    "\n",
    "class Solution {\n",
    "public:\n",
    "    bool isSymmetric(TreeNode* root1, TreeNode* root2)\n",
    "    {\n",
    "        if(root1 == nullptr || root2 == nullptr)\n",
    "        return root1 == root2;\n",
    "\n",
    "        if(root1->val != root2->val)\n",
    "        return false;\n",
    "\n",
    "        return isSymmetric(root1->left, root2->right) && isSymmetric(root1->right, root2-> left);\n",
    "\n",
    "\n",
    "    }\n",
    "    bool isSymmetric(TreeNode* root) {\n",
    "        return isSymmetric(root->left, root->right);\n",
    "    }\n",
    "};"
   ]
  },
  {
   "cell_type": "code",
   "execution_count": null,
   "id": "d9ac08bc",
   "metadata": {
    "vscode": {
     "languageId": "cpp"
    }
   },
   "outputs": [],
   "source": []
  }
 ],
 "metadata": {
  "kernelspec": {
   "display_name": "C++17",
   "language": "C++17",
   "name": "xcpp17"
  },
  "language_info": {
   "codemirror_mode": "text/x-c++src",
   "file_extension": ".cpp",
   "mimetype": "text/x-c++src",
   "name": "c++",
   "version": "17"
  }
 },
 "nbformat": 4,
 "nbformat_minor": 5
}
