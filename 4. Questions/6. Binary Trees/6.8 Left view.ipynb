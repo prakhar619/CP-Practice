{
 "cells": [
  {
   "cell_type": "code",
   "execution_count": null,
   "id": "948457c3",
   "metadata": {
    "vscode": {
     "languageId": "plaintext"
    }
   },
   "outputs": [],
   "source": [
    "/* A binary tree node\n",
    "\n",
    "struct Node\n",
    "{\n",
    "    int data;\n",
    "    struct Node* left;\n",
    "    struct Node* right;\n",
    "\n",
    "    Node(int x){\n",
    "        data = x;\n",
    "        left = right = NULL;\n",
    "    }\n",
    "};\n",
    " */\n",
    "\n",
    "class Solution {\n",
    "  public:\n",
    "    vector<int> leftView(Node *root) {\n",
    "        // code here\n",
    "        queue<Node*> q;\n",
    "        vector<int> ans;\n",
    "        \n",
    "        //easily forgettable condition\n",
    "        if(root != nullptr)\n",
    "        q.push(root);\n",
    "        while(!q.empty())\n",
    "        {\n",
    "            int currentSize = q.size();\n",
    "            for(int i = 0; i < currentSize; i++)\n",
    "            {\n",
    "                if(i == 0) ans.push_back(q.front()->data);\n",
    "                \n",
    "                Node* topNode = q.front();\n",
    "                q.pop();\n",
    "                if(topNode->left !=nullptr)\n",
    "                {\n",
    "                    q.push(topNode->left);\n",
    "                }\n",
    "                \n",
    "                if(topNode->right != nullptr)\n",
    "                {\n",
    "                    q.push(topNode->right);\n",
    "                }\n",
    "                \n",
    "            }\n",
    "        }\n",
    "        return ans;\n",
    "    }\n",
    "};"
   ]
  },
  {
   "cell_type": "markdown",
   "id": "43640a89",
   "metadata": {},
   "source": [
    "https://www.geeksforgeeks.org/problems/left-view-of-binary-tree/1"
   ]
  }
 ],
 "metadata": {
  "language_info": {
   "name": "python"
  }
 },
 "nbformat": 4,
 "nbformat_minor": 5
}
