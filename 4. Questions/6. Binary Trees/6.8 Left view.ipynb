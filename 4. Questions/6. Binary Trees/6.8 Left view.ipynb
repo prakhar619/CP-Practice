{
 "cells": [
  {
   "cell_type": "markdown",
   "id": "902d7050",
   "metadata": {},
   "source": [
    "#### Chapter 6: Binary Tree"
   ]
  },
  {
   "cell_type": "code",
   "execution_count": 1,
   "id": "3fb9eb75",
   "metadata": {
    "vscode": {
     "languageId": "cpp"
    }
   },
   "outputs": [],
   "source": [
    "#include <vector>\n",
    "#include <queue>\n",
    "using namespace std;"
   ]
  },
  {
   "cell_type": "markdown",
   "id": "79ffda47",
   "metadata": {},
   "source": [
    "### 8. Left View"
   ]
  },
  {
   "cell_type": "markdown",
   "id": "7e08aff8",
   "metadata": {},
   "source": [
    "> Get the left view of the binary Tree."
   ]
  },
  {
   "cell_type": "markdown",
   "id": "43640a89",
   "metadata": {},
   "source": [
    "*Leetcode Link:* https://www.geeksforgeeks.org/problems/left-view-of-binary-tree/1"
   ]
  },
  {
   "cell_type": "markdown",
   "id": "2b7e9af3",
   "metadata": {},
   "source": [
    "**Best Possible Solution:**"
   ]
  },
  {
   "cell_type": "markdown",
   "id": "45421c8d",
   "metadata": {},
   "source": [
    "### Method 1\n",
    "Time Complexity: O(n)  \n",
    "Space Complexity: O(w)\n",
    "###### where n is #node in tree and w is the level-width of binary tree"
   ]
  },
  {
   "cell_type": "code",
   "execution_count": 2,
   "id": "948457c3",
   "metadata": {
    "vscode": {
     "languageId": "cpp"
    }
   },
   "outputs": [],
   "source": [
    "struct Node\n",
    "{\n",
    "    int data;\n",
    "    struct Node* left;\n",
    "    struct Node* right;\n",
    "\n",
    "    Node(int x){\n",
    "        data = x;\n",
    "        left = right = NULL;\n",
    "    }\n",
    "};\n",
    "\n",
    "\n",
    "class Solution {\n",
    "  public:\n",
    "    vector<int> leftView(Node *root) {\n",
    "        // code here\n",
    "        queue<Node*> q;\n",
    "        vector<int> ans;\n",
    "        \n",
    "        //easily forgettable condition\n",
    "        if(root != nullptr)\n",
    "        q.push(root);\n",
    "        while(!q.empty())\n",
    "        {\n",
    "            int currentSize = q.size();\n",
    "            for(int i = 0; i < currentSize; i++)\n",
    "            {\n",
    "                if(i == 0) ans.push_back(q.front()->data);\n",
    "                \n",
    "                Node* topNode = q.front();\n",
    "                q.pop();\n",
    "                if(topNode->left !=nullptr)\n",
    "                {\n",
    "                    q.push(topNode->left);\n",
    "                }\n",
    "                \n",
    "                if(topNode->right != nullptr)\n",
    "                {\n",
    "                    q.push(topNode->right);\n",
    "                }\n",
    "                \n",
    "            }\n",
    "        }\n",
    "        return ans;\n",
    "    }\n",
    "};"
   ]
  }
 ],
 "metadata": {
  "kernelspec": {
   "display_name": "C++17",
   "language": "C++17",
   "name": "xcpp17"
  },
  "language_info": {
   "codemirror_mode": "text/x-c++src",
   "file_extension": ".cpp",
   "mimetype": "text/x-c++src",
   "name": "c++",
   "version": "17"
  }
 },
 "nbformat": 4,
 "nbformat_minor": 5
}
