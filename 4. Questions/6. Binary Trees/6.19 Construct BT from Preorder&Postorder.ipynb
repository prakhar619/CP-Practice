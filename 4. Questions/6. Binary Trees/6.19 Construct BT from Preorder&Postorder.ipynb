{
 "cells": [
  {
   "cell_type": "markdown",
   "id": "be96e415",
   "metadata": {},
   "source": [
    "cannot be done unless its given binary tree is full"
   ]
  }
 ],
 "metadata": {
  "language_info": {
   "name": "python"
  }
 },
 "nbformat": 4,
 "nbformat_minor": 5
}
