{
 "cells": [
  {
   "cell_type": "markdown",
   "id": "da6d3dfc",
   "metadata": {},
   "source": [
    "https://leetcode.com/problems/binary-tree-inorder-traversal/description/"
   ]
  },
  {
   "cell_type": "code",
   "execution_count": null,
   "id": "a0286670",
   "metadata": {
    "vscode": {
     "languageId": "plaintext"
    }
   },
   "outputs": [],
   "source": []
  },
  {
   "cell_type": "code",
   "execution_count": null,
   "id": "5017b754",
   "metadata": {
    "vscode": {
     "languageId": "plaintext"
    }
   },
   "outputs": [],
   "source": [
    "/**\n",
    " * Definition for a binary tree node.\n",
    " * struct TreeNode {\n",
    " *     int val;\n",
    " *     TreeNode *left;\n",
    " *     TreeNode *right;\n",
    " *     TreeNode() : val(0), left(nullptr), right(nullptr) {}\n",
    " *     TreeNode(int x) : val(x), left(nullptr), right(nullptr) {}\n",
    " *     TreeNode(int x, TreeNode *left, TreeNode *right) : val(x), left(left), right(right) {}\n",
    " * };\n",
    " */\n",
    "class Solution {\n",
    "public:\n",
    "    void inOrder(TreeNode* root, vector<int>& ans)\n",
    "    {\n",
    "        if(root == nullptr)\n",
    "        return ;\n",
    "\n",
    "        inOrder(root->left, ans);\n",
    "\n",
    "        ans.push_back(root->val);\n",
    "\n",
    "        inOrder(root->right, ans);\n",
    "    }\n",
    "    vector<int> inorderTraversal(TreeNode* root) {\n",
    "        //first left -> mid -> right\n",
    "        vector<int> ans;\n",
    "        inOrder(root,ans);\n",
    "\n",
    "        return ans;\n",
    "    }\n",
    "};"
   ]
  }
 ],
 "metadata": {
  "language_info": {
   "name": "python"
  }
 },
 "nbformat": 4,
 "nbformat_minor": 5
}
