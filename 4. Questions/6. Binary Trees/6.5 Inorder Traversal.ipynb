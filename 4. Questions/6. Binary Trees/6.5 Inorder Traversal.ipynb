{
 "cells": [
  {
   "cell_type": "markdown",
   "id": "82139593",
   "metadata": {},
   "source": [
    "#### Chapter 6: Binary Tree"
   ]
  },
  {
   "cell_type": "code",
   "execution_count": 1,
   "id": "a0286670",
   "metadata": {
    "vscode": {
     "languageId": "cpp"
    }
   },
   "outputs": [],
   "source": [
    "using namespace std;"
   ]
  },
  {
   "cell_type": "markdown",
   "id": "2a379a04",
   "metadata": {},
   "source": [
    "### 5. Inorder Traversal"
   ]
  },
  {
   "cell_type": "markdown",
   "id": "7628944e",
   "metadata": {},
   "source": [
    "> Traverse the given binary tree in in-order fashion. (Left->Root->Right)"
   ]
  },
  {
   "cell_type": "markdown",
   "id": "da6d3dfc",
   "metadata": {},
   "source": [
    "*Leetcode Link:* https://leetcode.com/problems/binary-tree-inorder-traversal/"
   ]
  },
  {
   "cell_type": "markdown",
   "id": "f89a9648",
   "metadata": {},
   "source": [
    "**Best Possible Solution:**"
   ]
  },
  {
   "cell_type": "markdown",
   "id": "58fca554",
   "metadata": {},
   "source": [
    "### Method 1:\n",
    "Time Complexity: O(n)  \n",
    "Space Complexity: O(h)\n",
    "###### where n and h are no of nodes and height of binary root respectively"
   ]
  },
  {
   "cell_type": "code",
   "execution_count": 2,
   "id": "5017b754",
   "metadata": {
    "vscode": {
     "languageId": "cpp"
    }
   },
   "outputs": [],
   "source": [
    " struct TreeNode {\n",
    "      int val;\n",
    "      TreeNode *left;\n",
    "      TreeNode *right;\n",
    "      TreeNode() : val(0), left(nullptr), right(nullptr) {}\n",
    "      TreeNode(int x) : val(x), left(nullptr), right(nullptr) {}\n",
    "      TreeNode(int x, TreeNode *left, TreeNode *right) : val(x), left(left), right(right) {}\n",
    " };\n",
    "\n",
    "class Solution {\n",
    "public:\n",
    "    void inOrder(TreeNode* root, vector<int>& ans)\n",
    "    {\n",
    "        if(root == nullptr)\n",
    "        return ;\n",
    "\n",
    "        inOrder(root->left, ans);\n",
    "\n",
    "        ans.push_back(root->val);\n",
    "\n",
    "        inOrder(root->right, ans);\n",
    "    }\n",
    "    vector<int> inorderTraversal(TreeNode* root) {\n",
    "        //first left -> mid -> right\n",
    "        vector<int> ans;\n",
    "        inOrder(root,ans);\n",
    "\n",
    "        return ans;\n",
    "    }\n",
    "};"
   ]
  },
  {
   "cell_type": "code",
   "execution_count": null,
   "id": "f7838389",
   "metadata": {
    "vscode": {
     "languageId": "cpp"
    }
   },
   "outputs": [],
   "source": []
  }
 ],
 "metadata": {
  "kernelspec": {
   "display_name": "C++17",
   "language": "C++17",
   "name": "xcpp17"
  },
  "language_info": {
   "codemirror_mode": "text/x-c++src",
   "file_extension": ".cpp",
   "mimetype": "text/x-c++src",
   "name": "c++",
   "version": "17"
  }
 },
 "nbformat": 4,
 "nbformat_minor": 5
}
