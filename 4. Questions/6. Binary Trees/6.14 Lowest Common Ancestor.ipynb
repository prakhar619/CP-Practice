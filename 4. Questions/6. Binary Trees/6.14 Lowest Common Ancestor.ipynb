{
 "cells": [
  {
   "cell_type": "markdown",
   "id": "ab417281",
   "metadata": {},
   "source": [
    "#### Chapter 14: Binary Tree"
   ]
  },
  {
   "cell_type": "code",
   "execution_count": 2,
   "id": "1da086f7",
   "metadata": {
    "vscode": {
     "languageId": "cpp"
    }
   },
   "outputs": [],
   "source": [
    "using namespace std;"
   ]
  },
  {
   "cell_type": "markdown",
   "id": "4dc93163",
   "metadata": {},
   "source": [
    "### 14. Lowest Common Ancestor"
   ]
  },
  {
   "cell_type": "markdown",
   "id": "f9904de9",
   "metadata": {},
   "source": [
    "> Find the lowest common ancestor of given 2 nodes"
   ]
  },
  {
   "cell_type": "markdown",
   "id": "f4af8282",
   "metadata": {},
   "source": [
    "*Leetcode Link:* https://leetcode.com/problems/lowest-common-ancestor-of-a-binary-tree/"
   ]
  },
  {
   "cell_type": "markdown",
   "id": "61e90bd3",
   "metadata": {},
   "source": [
    "**Best Possible Solution:**"
   ]
  },
  {
   "cell_type": "markdown",
   "id": "5f171bd4",
   "metadata": {},
   "source": [
    "### Method 1\n",
    "Time Complexity: O(n)  \n",
    "Space Complexity: O(h)\n",
    "###### where n and h are #node and height of tree"
   ]
  },
  {
   "cell_type": "code",
   "execution_count": null,
   "id": "f8cb77e9",
   "metadata": {
    "vscode": {
     "languageId": "cpp"
    }
   },
   "outputs": [],
   "source": [
    "struct TreeNode {\n",
    "     int val;\n",
    "     TreeNode *left;\n",
    "     TreeNode *right;\n",
    "     TreeNode(int x) : val(x), left(NULL), right(NULL) {}\n",
    "};\n",
    " \n",
    "class Solution {\n",
    "public:\n",
    "    TreeNode* lowestCommonAncestor(TreeNode* root, TreeNode* p, TreeNode* q) {\n",
    "        if(root == nullptr)\n",
    "        return nullptr;\n",
    "\n",
    "        if(root == p || root == q)\n",
    "        return root;\n",
    "\n",
    "        TreeNode* left = lowestCommonAncestor(root->left,p,q);\n",
    "        TreeNode* right = lowestCommonAncestor(root->right,p,q);\n",
    "\n",
    "        if((left == p && right == q) || (left == q && right == p))\n",
    "        return root;\n",
    "\n",
    "        // pass the lowest ancestor to above node\n",
    "        if(left != nullptr)\n",
    "        return left;\n",
    "\n",
    "        // pass the lowest ancestor to above node\n",
    "        if(right != nullptr)\n",
    "        return right;\n",
    "\n",
    "        return nullptr;\n",
    "    }\n",
    "};"
   ]
  },
  {
   "cell_type": "code",
   "execution_count": null,
   "id": "abad7c0b",
   "metadata": {
    "vscode": {
     "languageId": "cpp"
    }
   },
   "outputs": [],
   "source": []
  }
 ],
 "metadata": {
  "kernelspec": {
   "display_name": "C++17",
   "language": "C++17",
   "name": "xcpp17"
  },
  "language_info": {
   "codemirror_mode": "text/x-c++src",
   "file_extension": ".cpp",
   "mimetype": "text/x-c++src",
   "name": "c++",
   "version": "17"
  }
 },
 "nbformat": 4,
 "nbformat_minor": 5
}
