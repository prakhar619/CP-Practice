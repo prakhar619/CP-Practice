{
 "cells": [
  {
   "cell_type": "code",
   "execution_count": null,
   "id": "f8cb77e9",
   "metadata": {
    "vscode": {
     "languageId": "plaintext"
    }
   },
   "outputs": [],
   "source": [
    "/**\n",
    " * Definition for a binary tree node.\n",
    " * struct TreeNode {\n",
    " *     int val;\n",
    " *     TreeNode *left;\n",
    " *     TreeNode *right;\n",
    " *     TreeNode(int x) : val(x), left(NULL), right(NULL) {}\n",
    " * };\n",
    " */\n",
    "class Solution {\n",
    "public:\n",
    "    TreeNode* lowestCommonAncestor(TreeNode* root, TreeNode* p, TreeNode* q) {\n",
    "        if(root == nullptr)\n",
    "        return nullptr;\n",
    "\n",
    "        if(root == p || root == q)\n",
    "        return root;\n",
    "\n",
    "        TreeNode* left = lowestCommonAncestor(root->left,p,q);\n",
    "        TreeNode* right = lowestCommonAncestor(root->right,p,q);\n",
    "\n",
    "        if((left == p && right == q) || (left == q && right == p))\n",
    "        return root;\n",
    "\n",
    "        if(left != nullptr)\n",
    "        return left;\n",
    "\n",
    "        if(right != nullptr)\n",
    "        return right;\n",
    "\n",
    "        return nullptr;\n",
    "    }\n",
    "};"
   ]
  },
  {
   "cell_type": "markdown",
   "id": "f4af8282",
   "metadata": {},
   "source": [
    "https://leetcode.com/problems/lowest-common-ancestor-of-a-binary-tree/description/"
   ]
  }
 ],
 "metadata": {
  "language_info": {
   "name": "python"
  }
 },
 "nbformat": 4,
 "nbformat_minor": 5
}
