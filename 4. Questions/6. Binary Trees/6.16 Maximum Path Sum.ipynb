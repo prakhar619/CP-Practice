{
 "cells": [
  {
   "cell_type": "markdown",
   "id": "fd58e91d",
   "metadata": {},
   "source": [
    "### Chapter 6: Binary Tree"
   ]
  },
  {
   "cell_type": "code",
   "execution_count": 4,
   "id": "b5852c21",
   "metadata": {
    "vscode": {
     "languageId": "cpp"
    }
   },
   "outputs": [],
   "source": [
    "using namespace std;"
   ]
  },
  {
   "cell_type": "markdown",
   "id": "754c9648",
   "metadata": {},
   "source": [
    "#### 16. Maximum Path Sum"
   ]
  },
  {
   "cell_type": "markdown",
   "id": "5c22f4de",
   "metadata": {},
   "source": [
    "> The path sum of a path is the sum of the node's values in the path.\n",
    "\n",
    "> Find the maximum path sum for a given binary tree"
   ]
  },
  {
   "cell_type": "markdown",
   "id": "5cb05f80",
   "metadata": {},
   "source": [
    "*Leetcode Link:* https://leetcode.com/problems/binary-tree-maximum-path-sum/"
   ]
  },
  {
   "cell_type": "markdown",
   "id": "06942e12",
   "metadata": {},
   "source": [
    "**Best Possible Solution:**"
   ]
  },
  {
   "cell_type": "markdown",
   "id": "aa580253",
   "metadata": {},
   "source": [
    "### Method 1:\n",
    "Time Complexity: O(n)   \n",
    "Space Complexity: O(h)\n",
    "###### where n is #node, h is height "
   ]
  },
  {
   "cell_type": "code",
   "execution_count": null,
   "id": "e50dcf40",
   "metadata": {
    "vscode": {
     "languageId": "cpp"
    }
   },
   "outputs": [],
   "source": [
    "struct TreeNode {\n",
    "      int val;\n",
    "      TreeNode *left;\n",
    "      TreeNode *right;\n",
    "      TreeNode() : val(0), left(nullptr), right(nullptr) {}\n",
    "      TreeNode(int x) : val(x), left(nullptr), right(nullptr) {}\n",
    "      TreeNode(int x, TreeNode *left, TreeNode *right) : val(x), left(left), right(right) {}\n",
    "};\n",
    "\n",
    "class Solution {\n",
    "public:\n",
    "    int maxSum;\n",
    "    int maxPathHelper(TreeNode* root)\n",
    "    {\n",
    "        if(root == nullptr)\n",
    "        return 0;\n",
    "\n",
    "        int left = maxPathHelper(root->left);\n",
    "        int right = maxPathHelper(root->right);\n",
    "\n",
    "        //for each path consists root in between \n",
    "        // One Complete Path(left -> root -> right) \n",
    "        //Take only important needed left or right (therefore  max)\n",
    "        maxSum = max(maxSum, max(right,0) + max(left,0) + root->val);\n",
    "\n",
    "        //for passing to above node, include only one end therefore max(left, right)\n",
    "        //also one case where dont take left or right; just take this root node\n",
    "        return max(max(right,left),0) + root->val; \n",
    "    }\n",
    "    int maxPathSum(TreeNode* root) {\n",
    "\n",
    "        maxSum = numeric_limits<int>::min();\n",
    "        maxPathHelper(root);\n",
    "\n",
    "        return maxSum;\n",
    "    }\n",
    "};"
   ]
  }
 ],
 "metadata": {
  "kernelspec": {
   "display_name": "C++17",
   "language": "C++17",
   "name": "xcpp17"
  },
  "language_info": {
   "codemirror_mode": "text/x-c++src",
   "file_extension": ".cpp",
   "mimetype": "text/x-c++src",
   "name": "c++",
   "version": "17"
  }
 },
 "nbformat": 4,
 "nbformat_minor": 5
}
