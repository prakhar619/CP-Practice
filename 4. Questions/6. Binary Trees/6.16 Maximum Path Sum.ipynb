{
 "cells": [
  {
   "cell_type": "code",
   "execution_count": null,
   "id": "e50dcf40",
   "metadata": {
    "vscode": {
     "languageId": "plaintext"
    }
   },
   "outputs": [],
   "source": [
    "/**\n",
    " * Definition for a binary tree node.\n",
    " * struct TreeNode {\n",
    " *     int val;\n",
    " *     TreeNode *left;\n",
    " *     TreeNode *right;\n",
    " *     TreeNode() : val(0), left(nullptr), right(nullptr) {}\n",
    " *     TreeNode(int x) : val(x), left(nullptr), right(nullptr) {}\n",
    " *     TreeNode(int x, TreeNode *left, TreeNode *right) : val(x), left(left), right(right) {}\n",
    " * };\n",
    " */\n",
    "class Solution {\n",
    "public:\n",
    "    int maxSum;\n",
    "    int maxPathHelper(TreeNode* root)\n",
    "    {\n",
    "        if(root == nullptr)\n",
    "        return 0;\n",
    "\n",
    "        int left = maxPathHelper(root->left);\n",
    "        int right = maxPathHelper(root->right);\n",
    "\n",
    "        //for each path consists root in between \n",
    "        // One Complete Path(left -> root -> right) \n",
    "        //Take only important needed left or right (therefore  max)\n",
    "        maxSum = max(maxSum, max(right,0) + max(left,0) + root->val);\n",
    "\n",
    "        //for passing to above node, include only one end therefore max(left, right)\n",
    "        //also one case where dont take left or right; just take this root node\n",
    "        return max(max(right,left),0) + root->val; \n",
    "    }\n",
    "    int maxPathSum(TreeNode* root) {\n",
    "\n",
    "        maxSum = numeric_limits<int>::min();\n",
    "        maxPathHelper(root);\n",
    "\n",
    "        return maxSum;\n",
    "        \n",
    "    }\n",
    "};"
   ]
  },
  {
   "cell_type": "markdown",
   "id": "5cb05f80",
   "metadata": {},
   "source": [
    "https://leetcode.com/problems/binary-tree-maximum-path-sum/description/"
   ]
  }
 ],
 "metadata": {
  "language_info": {
   "name": "python"
  }
 },
 "nbformat": 4,
 "nbformat_minor": 5
}
