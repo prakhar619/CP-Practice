{
 "cells": [
  {
   "cell_type": "code",
   "execution_count": null,
   "id": "22c51967",
   "metadata": {
    "vscode": {
     "languageId": "plaintext"
    }
   },
   "outputs": [],
   "source": [
    "// Function to return a list containing the bottom view of the given tree.\n",
    "\n",
    "class Solution {\n",
    "  public:\n",
    "    vector<int> bottomView(Node *root) {\n",
    "        // Your Code Here\n",
    "                map<int,int> posVal;\n",
    "        queue<pair<Node*, int>> q;\n",
    "        if(root != nullptr)\n",
    "        q.push({root,0});\n",
    "        while(!q.empty())\n",
    "        {\n",
    "            auto topElem = q.front(); q.pop();\n",
    "            posVal[topElem.second] = topElem.first->data;\n",
    "            \n",
    "            if(topElem.first->left != nullptr)\n",
    "            q.push({topElem.first->left, topElem.second-1});\n",
    "            \n",
    "            if(topElem.first->right != nullptr)\n",
    "            q.push({topElem.first->right, topElem.second+1});\n",
    "        }\n",
    "        \n",
    "        vector<int> ans;\n",
    "        for(pair<int,int>x: posVal)\n",
    "        ans.push_back(x.second);\n",
    "        \n",
    "        return ans;\n",
    "    }\n",
    "};"
   ]
  },
  {
   "cell_type": "markdown",
   "id": "8d919a64",
   "metadata": {},
   "source": [
    "https://www.geeksforgeeks.org/problems/bottom-view-of-binary-tree/1"
   ]
  }
 ],
 "metadata": {
  "language_info": {
   "name": "python"
  }
 },
 "nbformat": 4,
 "nbformat_minor": 5
}
