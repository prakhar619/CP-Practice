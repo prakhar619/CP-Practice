{
 "cells": [
  {
   "cell_type": "markdown",
   "id": "63c5f01a",
   "metadata": {},
   "source": [
    "#### Chapter 6: Binary Tree"
   ]
  },
  {
   "cell_type": "code",
   "execution_count": 1,
   "id": "9700e8a5",
   "metadata": {
    "vscode": {
     "languageId": "cpp"
    }
   },
   "outputs": [],
   "source": [
    "#include <vector>\n",
    "#include <unordered_map>\n",
    "#include <queue>\n",
    "using namespace std;"
   ]
  },
  {
   "cell_type": "markdown",
   "id": "6131ac61",
   "metadata": {},
   "source": [
    "### 11. Bottom View"
   ]
  },
  {
   "cell_type": "markdown",
   "id": "5421d1eb",
   "metadata": {},
   "source": [
    "> Get the bottom view of the tree"
   ]
  },
  {
   "cell_type": "markdown",
   "id": "8d919a64",
   "metadata": {},
   "source": [
    "*Leetcode Link:* https://www.geeksforgeeks.org/problems/bottom-view-of-binary-tree/1"
   ]
  },
  {
   "cell_type": "markdown",
   "id": "08b1c75a",
   "metadata": {},
   "source": [
    "**Best Possible Solution:**"
   ]
  },
  {
   "cell_type": "markdown",
   "id": "5ed1a07a",
   "metadata": {},
   "source": [
    "### Method 1:\n",
    "Time Complexity: O(n)  \n",
    "Space Complexity: O(w)\n",
    "###### where n is #node and w is width of binary tree"
   ]
  },
  {
   "cell_type": "code",
   "execution_count": 2,
   "id": "22c51967",
   "metadata": {
    "vscode": {
     "languageId": "cpp"
    }
   },
   "outputs": [
    {
     "name": "stderr",
     "output_type": "stream",
     "text": [
      "input_line_9:3:28: error: unknown type name 'Node'\n",
      "    vector<int> bottomView(Node *root) {\n",
      "                           ^\n",
      "input_line_9:6:20: error: use of undeclared identifier 'Node'\n",
      "        queue<pair<Node*, int>> q;\n",
      "                   ^\n",
      "input_line_9:6:25: error: expected expression\n",
      "        queue<pair<Node*, int>> q;\n",
      "                        ^\n",
      "input_line_9:6:34: error: expected a type\n",
      "        queue<pair<Node*, int>> q;\n",
      "                                 ^\n",
      "input_line_9:8:9: error: use of undeclared identifier 'q'\n",
      "        q.push({root,0});\n",
      "        ^\n",
      "input_line_9:9:16: error: use of undeclared identifier 'q'\n",
      "        while(!q.empty())\n",
      "               ^\n",
      "input_line_9:11:28: error: use of undeclared identifier 'q'\n",
      "            auto topElem = q.front(); q.pop();\n",
      "                           ^\n",
      "input_line_9:11:39: error: use of undeclared identifier 'q'\n",
      "            auto topElem = q.front(); q.pop();\n",
      "                                      ^\n",
      "input_line_9:15:13: error: use of undeclared identifier 'q'\n",
      "            q.push({topElem.first->left, topElem.second-1});\n",
      "            ^\n",
      "input_line_9:18:13: error: use of undeclared identifier 'q'\n",
      "            q.push({topElem.first->right, topElem.second+1});\n",
      "            ^\n"
     ]
    },
    {
     "ename": "Interpreter Error",
     "evalue": "",
     "output_type": "error",
     "traceback": [
      "Interpreter Error: "
     ]
    }
   ],
   "source": [
    "class Solution {\n",
    "  public:\n",
    "    vector<int> bottomView(Node *root) {\n",
    "        // Your Code Here\n",
    "        unordered_map<int,int> posVal;\n",
    "        queue<pair<Node*, int>> q;\n",
    "        if(root != nullptr)\n",
    "        q.push({root,0});\n",
    "        while(!q.empty())\n",
    "        {\n",
    "            auto topElem = q.front(); q.pop();\n",
    "            posVal[topElem.second] = topElem.first->data;\n",
    "            \n",
    "            if(topElem.first->left != nullptr)\n",
    "            q.push({topElem.first->left, topElem.second-1});\n",
    "            \n",
    "            if(topElem.first->right != nullptr)\n",
    "            q.push({topElem.first->right, topElem.second+1});\n",
    "        }\n",
    "        \n",
    "        vector<int> ans;\n",
    "        for(pair<int,int>x: posVal)\n",
    "        ans.push_back(x.second);\n",
    "        \n",
    "        return ans;\n",
    "    }\n",
    "};"
   ]
  },
  {
   "cell_type": "code",
   "execution_count": null,
   "id": "984ebeda",
   "metadata": {
    "vscode": {
     "languageId": "cpp"
    }
   },
   "outputs": [],
   "source": []
  }
 ],
 "metadata": {
  "kernelspec": {
   "display_name": "C++17",
   "language": "C++17",
   "name": "xcpp17"
  },
  "language_info": {
   "codemirror_mode": "text/x-c++src",
   "file_extension": ".cpp",
   "mimetype": "text/x-c++src",
   "name": "c++",
   "version": "17"
  }
 },
 "nbformat": 4,
 "nbformat_minor": 5
}
