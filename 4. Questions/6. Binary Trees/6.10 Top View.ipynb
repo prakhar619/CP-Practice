{
 "cells": [
  {
   "cell_type": "markdown",
   "id": "10bfb908",
   "metadata": {},
   "source": [
    "### Chapter 6: Binary Trees"
   ]
  },
  {
   "cell_type": "code",
   "execution_count": 3,
   "id": "c4060a78",
   "metadata": {
    "vscode": {
     "languageId": "cpp"
    }
   },
   "outputs": [],
   "source": [
    "#include <vector>\n",
    "#include <unordered_map>\n",
    "#include <queue>\n",
    "using namespace std;"
   ]
  },
  {
   "cell_type": "markdown",
   "id": "c7c60c40",
   "metadata": {},
   "source": [
    "#### 10. Top View"
   ]
  },
  {
   "cell_type": "markdown",
   "id": "ee8ade95",
   "metadata": {},
   "source": [
    "> Get the top view of the given binary tree"
   ]
  },
  {
   "cell_type": "markdown",
   "id": "00cd2c23",
   "metadata": {},
   "source": [
    "*Leetcode Link:* https://www.geeksforgeeks.org/problems/top-view-of-binary-tree/1"
   ]
  },
  {
   "cell_type": "markdown",
   "id": "d9607c5c",
   "metadata": {},
   "source": [
    "**Best Possible Solution:**"
   ]
  },
  {
   "cell_type": "markdown",
   "id": "0b5af0b1",
   "metadata": {},
   "source": [
    "### Method 1:\n",
    "Time Complexity: O(n)  \n",
    "Space Complexity: O(w)\n",
    "###### where n is #node and w is width of binary tree"
   ]
  },
  {
   "cell_type": "code",
   "execution_count": 4,
   "id": "842aecfe",
   "metadata": {
    "vscode": {
     "languageId": "cpp"
    }
   },
   "outputs": [],
   "source": [
    "struct Node\n",
    "{\n",
    "    int data;\n",
    "    Node* left;\n",
    "    Node* right;\n",
    "};\n",
    "\n",
    "class Solution {\n",
    "  public:\n",
    "    // Function to return a list of nodes visible from the top view\n",
    "    // from left to right in Binary Tree.\n",
    "    vector<int> topView(Node *root) {\n",
    "        // code here\n",
    "        unordered_map<int,int> posVal;\n",
    "        queue<pair<Node*, int>> q;\n",
    "        if(root != nullptr)\n",
    "        q.push({root,0});\n",
    "        while(!q.empty())\n",
    "        {\n",
    "            auto topElem = q.front(); q.pop();\n",
    "            if(posVal.find(topElem.second) == posVal.end())\n",
    "            posVal[topElem.second] = topElem.first->data;\n",
    "            \n",
    "            if(topElem.first->left != nullptr)\n",
    "            q.push({topElem.first->left, topElem.second-1});\n",
    "            \n",
    "            if(topElem.first->right != nullptr)\n",
    "            q.push({topElem.first->right, topElem.second+1});\n",
    "        }\n",
    "        \n",
    "        vector<int> ans;\n",
    "        for(pair<int,int>x: posVal)\n",
    "        ans.push_back(x.second);\n",
    "        \n",
    "        return ans;\n",
    "        \n",
    "    }\n",
    "};"
   ]
  },
  {
   "cell_type": "code",
   "execution_count": null,
   "id": "3e2b009d",
   "metadata": {
    "vscode": {
     "languageId": "cpp"
    }
   },
   "outputs": [],
   "source": []
  }
 ],
 "metadata": {
  "kernelspec": {
   "display_name": "C++17",
   "language": "C++17",
   "name": "xcpp17"
  },
  "language_info": {
   "codemirror_mode": "text/x-c++src",
   "file_extension": ".cpp",
   "mimetype": "text/x-c++src",
   "name": "c++",
   "version": "17"
  }
 },
 "nbformat": 4,
 "nbformat_minor": 5
}
