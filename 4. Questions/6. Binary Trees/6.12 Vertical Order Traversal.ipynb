{
 "cells": [
  {
   "cell_type": "markdown",
   "id": "3e182c2d",
   "metadata": {},
   "source": [
    "### Chapter 6: Binary Tree"
   ]
  },
  {
   "cell_type": "code",
   "execution_count": 1,
   "id": "2f236e95",
   "metadata": {
    "vscode": {
     "languageId": "cpp"
    }
   },
   "outputs": [],
   "source": [
    "#include <vector>\n",
    "#include <queue>\n",
    "#include <map>\n",
    "using namespace std;"
   ]
  },
  {
   "cell_type": "markdown",
   "id": "ee284149",
   "metadata": {},
   "source": [
    "### 12. Vertical Order Traversal"
   ]
  },
  {
   "cell_type": "markdown",
   "id": "92a0de34",
   "metadata": {},
   "source": [
    "> Create a vertical order traversal for a given binary tree."
   ]
  },
  {
   "cell_type": "markdown",
   "id": "ef068efa",
   "metadata": {},
   "source": [
    "**Best Possible Solution:**"
   ]
  },
  {
   "cell_type": "markdown",
   "id": "e05a85dc",
   "metadata": {},
   "source": [
    "*Leetcode Link:* https://leetcode.com/problems/vertical-order-traversal-of-a-binary-tree/"
   ]
  },
  {
   "cell_type": "markdown",
   "id": "1a6b3a77",
   "metadata": {},
   "source": [
    "### Method 1\n",
    "Time Complexity: O(n*hlog h)   ?  \n",
    "Space Complexity: O(n)  ?"
   ]
  },
  {
   "cell_type": "code",
   "execution_count": null,
   "id": "1f7b91c1",
   "metadata": {
    "vscode": {
     "languageId": "cpp"
    }
   },
   "outputs": [],
   "source": [
    "struct TreeNode {\n",
    "      int val;\n",
    "      TreeNode *left;\n",
    "      TreeNode *right;\n",
    "      TreeNode() : val(0), left(nullptr), right(nullptr) {}\n",
    "      TreeNode(int x) : val(x), left(nullptr), right(nullptr) {}\n",
    "      TreeNode(int x, TreeNode *left, TreeNode *right) : val(x), left(left), right(right) {}\n",
    "};\n",
    "\n",
    "class Solution {\n",
    "public:\n",
    "    vector<vector<int>> verticalTraversal(TreeNode* root) {\n",
    "        //queue to store node, row and column for each node\n",
    "        queue<pair<TreeNode*,pair<int,int> >> nodeValLvl;\n",
    "\n",
    "        //you need to store both row and column for each node (along with its value)\n",
    "        map<int, vector<pair<int,int>>> locValLvl;\n",
    "\n",
    "        if(root != nullptr)\n",
    "        nodeValLvl.push({root, {0,0}}); //row, column\n",
    "\n",
    "        while(!nodeValLvl.empty())\n",
    "        {\n",
    "            pair<TreeNode*, pair<int,int> > topElem = nodeValLvl.front();\n",
    "            nodeValLvl.pop();\n",
    "\n",
    "            //row wise storage; pair<column, value>\n",
    "            locValLvl[topElem.second.second].push_back({topElem.second.first,topElem.first->val});\n",
    "\n",
    "            if(topElem.first->left != nullptr)\n",
    "            {\n",
    "                nodeValLvl.push({topElem.first->left, {topElem.second.first+1,topElem.second.second-1 }});\n",
    "            }\n",
    "            if(topElem.first->right != nullptr)\n",
    "            {\n",
    "                nodeValLvl.push({topElem.first->right, {topElem.second.first+1,topElem.second.second+1 }});\n",
    "            }\n",
    "        }\n",
    "\n",
    "        vector<vector<int>> ans;\n",
    "        for(pair<int, vector<pair<int,int>>> x : locValLvl)\n",
    "        {\n",
    "            sort(x.second.begin(),x.second.end());\n",
    "            vector<int> temp;\n",
    "            for(pair<int,int> y : x.second)\n",
    "            temp.push_back(y.second);\n",
    "\n",
    "            ans.push_back(temp);\n",
    "        }\n",
    "\n",
    "        return ans;\n",
    "\n",
    "    }\n",
    "};"
   ]
  },
  {
   "cell_type": "markdown",
   "id": "82ef4fa8",
   "metadata": {},
   "source": []
  }
 ],
 "metadata": {
  "kernelspec": {
   "display_name": "C++17",
   "language": "C++17",
   "name": "xcpp17"
  },
  "language_info": {
   "codemirror_mode": "text/x-c++src",
   "file_extension": ".cpp",
   "mimetype": "text/x-c++src",
   "name": "c++",
   "version": "17"
  }
 },
 "nbformat": 4,
 "nbformat_minor": 5
}
