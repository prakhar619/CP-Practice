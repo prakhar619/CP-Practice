{
 "cells": [
  {
   "cell_type": "code",
   "execution_count": null,
   "id": "1f7b91c1",
   "metadata": {
    "vscode": {
     "languageId": "plaintext"
    }
   },
   "outputs": [],
   "source": [
    "/**\n",
    " * Definition for a binary tree TreeNode.\n",
    " * struct TreeNode {\n",
    " *     int val;\n",
    " *     TreeNode *left;\n",
    " *     TreeNode *right;\n",
    " *     TreeNode() : val(0), left(nullptr), right(nullptr) {}\n",
    " *     TreeNode(int x) : val(x), left(nullptr), right(nullptr) {}\n",
    " *     TreeNode(int x, TreeNode *left, TreeNode *right) : val(x), left(left), right(right) {}\n",
    " * };\n",
    " */\n",
    "class Solution {\n",
    "public:\n",
    "    vector<vector<int>> verticalTraversal(TreeNode* root) {\n",
    "        queue<pair<TreeNode*,pair<int,int> >> nodeValLvl;\n",
    "        map<int, vector<pair<int,int>>> locValLvl;\n",
    "\n",
    "        if(root != nullptr)\n",
    "        nodeValLvl.push({root, {0,0}});\n",
    "\n",
    "        while(!nodeValLvl.empty())\n",
    "        {\n",
    "            pair<TreeNode*, pair<int,int> > topElem = nodeValLvl.front();\n",
    "            nodeValLvl.pop();\n",
    "            locValLvl[topElem.second.second].push_back({topElem.second.first,topElem.first->val});\n",
    "\n",
    "            if(topElem.first->left != nullptr)\n",
    "            {\n",
    "                nodeValLvl.push({topElem.first->left, {topElem.second.first+1,topElem.second.second-1 }});\n",
    "            }\n",
    "            if(topElem.first->right != nullptr)\n",
    "            {\n",
    "                nodeValLvl.push({topElem.first->right, {topElem.second.first+1,topElem.second.second+1 }});\n",
    "            }\n",
    "        }\n",
    "\n",
    "        vector<vector<int>> ans;\n",
    "        for(pair<int, vector<pair<int,int>>> x : locValLvl)\n",
    "        {\n",
    "            sort(x.second.begin(),x.second.end());\n",
    "            vector<int> temp;\n",
    "            for(pair<int,int> y : x.second)\n",
    "            temp.push_back(y.second);\n",
    "\n",
    "            ans.push_back(temp);\n",
    "        }\n",
    "\n",
    "        return ans;\n",
    "\n",
    "    }\n",
    "};"
   ]
  },
  {
   "cell_type": "markdown",
   "id": "82ef4fa8",
   "metadata": {},
   "source": [
    "https://leetcode.com/problems/vertical-order-traversal-of-a-binary-tree/description/"
   ]
  }
 ],
 "metadata": {
  "language_info": {
   "name": "python"
  }
 },
 "nbformat": 4,
 "nbformat_minor": 5
}
