{
 "cells": [
  {
   "cell_type": "markdown",
   "id": "c15a7cef",
   "metadata": {},
   "source": [
    "#### Chapter 6: Binary Tree"
   ]
  },
  {
   "cell_type": "code",
   "execution_count": 2,
   "id": "554900a9",
   "metadata": {
    "vscode": {
     "languageId": "cpp"
    }
   },
   "outputs": [],
   "source": [
    "using namespace std;"
   ]
  },
  {
   "cell_type": "markdown",
   "id": "0525bee6",
   "metadata": {},
   "source": [
    "### 18. Construct Binary Tree from Given Inorder and PostOrder Traversal"
   ]
  },
  {
   "cell_type": "markdown",
   "id": "4e700361",
   "metadata": {},
   "source": [
    "> Given Inorder and PostOrder Traversal, construct a binary tree"
   ]
  },
  {
   "cell_type": "markdown",
   "id": "c3b04bad",
   "metadata": {},
   "source": [
    "*Leetcode Link:* https://leetcode.com/problems/construct-binary-tree-from-inorder-and-postorder-traversal/"
   ]
  },
  {
   "cell_type": "markdown",
   "id": "8c7eb067",
   "metadata": {},
   "source": [
    "**Best Possible Solution:**"
   ]
  },
  {
   "cell_type": "markdown",
   "id": "a3111072",
   "metadata": {},
   "source": [
    "### Method 1\n",
    "Time Complexity: O(n^2)  \n",
    "Space Complexity: O(n^2)\n",
    "###### where n is #node"
   ]
  },
  {
   "cell_type": "code",
   "execution_count": 3,
   "id": "1042c196",
   "metadata": {
    "vscode": {
     "languageId": "cpp"
    }
   },
   "outputs": [],
   "source": [
    "struct TreeNode {\n",
    "      int val;\n",
    "      TreeNode *left;\n",
    "      TreeNode *right;\n",
    "      TreeNode() : val(0), left(nullptr), right(nullptr) {}\n",
    "      TreeNode(int x) : val(x), left(nullptr), right(nullptr) {}\n",
    "      TreeNode(int x, TreeNode *left, TreeNode *right) : val(x), left(left), right(right) {}\n",
    "};\n",
    "\n",
    "class Solution {\n",
    "public:\n",
    "    TreeNode* buildTree(vector<int> inorder, vector<int> postorder) {\n",
    "        if(inorder.size() == 0 || postorder.size() == 0)\n",
    "        return nullptr;\n",
    "\n",
    "        TreeNode* root = new TreeNode(postorder[postorder.size()-1]);\n",
    "\n",
    "        int indexInorder = 0;\n",
    "        for(; indexInorder < inorder.size(); indexInorder++)\n",
    "        {\n",
    "            if(inorder[indexInorder] == root->val)\n",
    "            break;\n",
    "        }\n",
    "\n",
    "        //learn how to index\n",
    "        root->left = buildTree(\n",
    "            vector<int> (inorder.begin(), inorder.begin() + indexInorder),\n",
    "            vector<int> (postorder.begin(), postorder.begin() + indexInorder)\n",
    "        );\n",
    "\n",
    "        //learn how to index\n",
    "        root->right = buildTree(\n",
    "            vector<int> (inorder.begin()+indexInorder+1, inorder.end()),\n",
    "            vector<int> (postorder.begin() + indexInorder, postorder.end()-1)\n",
    "        );\n",
    "\n",
    "        return root;\n",
    "\n",
    "    }\n",
    "};"
   ]
  },
  {
   "cell_type": "code",
   "execution_count": null,
   "id": "a11c0724",
   "metadata": {
    "vscode": {
     "languageId": "cpp"
    }
   },
   "outputs": [],
   "source": []
  }
 ],
 "metadata": {
  "kernelspec": {
   "display_name": "C++17",
   "language": "C++17",
   "name": "xcpp17"
  },
  "language_info": {
   "codemirror_mode": "text/x-c++src",
   "file_extension": ".cpp",
   "mimetype": "text/x-c++src",
   "name": "c++",
   "version": "17"
  }
 },
 "nbformat": 4,
 "nbformat_minor": 5
}
