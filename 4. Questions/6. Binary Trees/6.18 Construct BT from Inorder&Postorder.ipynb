{
 "cells": [
  {
   "cell_type": "code",
   "execution_count": null,
   "id": "1042c196",
   "metadata": {
    "vscode": {
     "languageId": "plaintext"
    }
   },
   "outputs": [],
   "source": [
    "/**\n",
    " * Definition for a binary tree node.\n",
    " * struct TreeNode {\n",
    " *     int val;\n",
    " *     TreeNode *left;\n",
    " *     TreeNode *right;\n",
    " *     TreeNode() : val(0), left(nullptr), right(nullptr) {}\n",
    " *     TreeNode(int x) : val(x), left(nullptr), right(nullptr) {}\n",
    " *     TreeNode(int x, TreeNode *left, TreeNode *right) : val(x), left(left), right(right) {}\n",
    " * };\n",
    " */\n",
    "class Solution {\n",
    "public:\n",
    "    TreeNode* buildTree(vector<int> inorder, vector<int> postorder) {\n",
    "        if(inorder.size() == 0 || postorder.size() == 0)\n",
    "        return nullptr;\n",
    "\n",
    "        TreeNode* root = new TreeNode(postorder[postorder.size()-1]);\n",
    "\n",
    "        int indexInorder = 0;\n",
    "        for(; indexInorder < inorder.size(); indexInorder++)\n",
    "        {\n",
    "            if(inorder[indexInorder] == root->val)\n",
    "            break;\n",
    "        }\n",
    "\n",
    "        //learn how to index\n",
    "        root->left = buildTree(\n",
    "            vector<int> (inorder.begin(), inorder.begin() + indexInorder),\n",
    "            vector<int> (postorder.begin(), postorder.begin() + indexInorder)\n",
    "        );\n",
    "\n",
    "        //learn how to index\n",
    "        root->right = buildTree(\n",
    "            vector<int> (inorder.begin()+indexInorder+1, inorder.end()),\n",
    "            vector<int> (postorder.begin() + indexInorder, postorder.end()-1)\n",
    "        );\n",
    "\n",
    "        return root;\n",
    "\n",
    "    }\n",
    "};"
   ]
  },
  {
   "cell_type": "markdown",
   "id": "c3b04bad",
   "metadata": {},
   "source": [
    "https://leetcode.com/problems/construct-binary-tree-from-inorder-and-postorder-traversal/description/"
   ]
  }
 ],
 "metadata": {
  "language_info": {
   "name": "python"
  }
 },
 "nbformat": 4,
 "nbformat_minor": 5
}
