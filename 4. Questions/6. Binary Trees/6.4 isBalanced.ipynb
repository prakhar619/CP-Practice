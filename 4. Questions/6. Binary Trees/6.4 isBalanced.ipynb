{
 "cells": [
  {
   "cell_type": "code",
   "execution_count": null,
   "id": "b1328020",
   "metadata": {
    "vscode": {
     "languageId": "plaintext"
    }
   },
   "outputs": [],
   "source": [
    "/**\n",
    " * Definition for a binary tree node.\n",
    " * struct TreeNode {\n",
    " *     int val;\n",
    " *     TreeNode *left;\n",
    " *     TreeNode *right;\n",
    " *     TreeNode() : val(0), left(nullptr), right(nullptr) {}\n",
    " *     TreeNode(int x) : val(x), left(nullptr), right(nullptr) {}\n",
    " *     TreeNode(int x, TreeNode *left, TreeNode *right) : val(x), left(left), right(right) {}\n",
    " * };\n",
    " */\n",
    "class Solution {\n",
    "public:\n",
    "    bool ans;\n",
    "    int depth(TreeNode* root)\n",
    "    {\n",
    "        if(root == nullptr)\n",
    "        return 0;\n",
    "\n",
    "        int depthLeft= depth(root->left);\n",
    "        int depthRight = depth(root->right);\n",
    "\n",
    "        if(abs(depthLeft - depthRight) > 1)\n",
    "        ans = false;\n",
    "\n",
    "        return 1 + max(depthLeft,depthRight);\n",
    "    }\n",
    "    bool isBalanced(TreeNode* root) {\n",
    "        ans = true;\n",
    "        depth(root);\n",
    "        return ans;\n",
    "        \n",
    "    }\n",
    "};"
   ]
  },
  {
   "cell_type": "markdown",
   "id": "e9802030",
   "metadata": {},
   "source": [
    "https://leetcode.com/problems/balanced-binary-tree/"
   ]
  }
 ],
 "metadata": {
  "language_info": {
   "name": "python"
  }
 },
 "nbformat": 4,
 "nbformat_minor": 5
}
