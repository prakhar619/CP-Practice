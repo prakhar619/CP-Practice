{
 "cells": [
  {
   "cell_type": "markdown",
   "id": "fdcf4138",
   "metadata": {},
   "source": [
    "#### Chapter 6: Binary Tree"
   ]
  },
  {
   "cell_type": "code",
   "execution_count": 1,
   "id": "7dfce3f0",
   "metadata": {
    "vscode": {
     "languageId": "cpp"
    }
   },
   "outputs": [],
   "source": [
    "using namespace std;"
   ]
  },
  {
   "cell_type": "markdown",
   "id": "20b297d7",
   "metadata": {},
   "source": [
    "### 4. IsBalanced"
   ]
  },
  {
   "cell_type": "markdown",
   "id": "fcf9cb4c",
   "metadata": {},
   "source": [
    "> Check if given Binary Tree is Balanced\n",
    "\n",
    "> Binary Tree is Balanced if difference b/w depth of left and right subtree for any node is not more than 1"
   ]
  },
  {
   "cell_type": "markdown",
   "id": "f2523e0b",
   "metadata": {},
   "source": [
    "*Leetcode Link:* https://leetcode.com/problems/balanced-binary-tree/"
   ]
  },
  {
   "cell_type": "markdown",
   "id": "16b4cb46",
   "metadata": {},
   "source": [
    "**Best Possible Solution:**"
   ]
  },
  {
   "cell_type": "markdown",
   "id": "e9802030",
   "metadata": {},
   "source": [
    "### Method 1: \n",
    "Time Complexity: O(n)  \n",
    "Space Complexity: O(h)\n",
    "###### where n is no of node in binary tree and h is height of binary tree"
   ]
  },
  {
   "cell_type": "code",
   "execution_count": 3,
   "id": "b1328020",
   "metadata": {
    "vscode": {
     "languageId": "cpp"
    }
   },
   "outputs": [],
   "source": [
    "struct TreeNode {\n",
    "      int val;\n",
    "      TreeNode *left;\n",
    "      TreeNode *right;\n",
    "      TreeNode() : val(0), left(nullptr), right(nullptr) {}\n",
    "      TreeNode(int x) : val(x), left(nullptr), right(nullptr) {}\n",
    "      TreeNode(int x, TreeNode *left, TreeNode *right) : val(x), left(left), right(right) {}\n",
    " };\n",
    " \n",
    "class Solution {\n",
    "public:\n",
    "    bool ans;\n",
    "    int depth(TreeNode* root)\n",
    "    {\n",
    "        if(root == nullptr)\n",
    "        return 0;\n",
    "\n",
    "        int depthLeft= depth(root->left);\n",
    "        int depthRight = depth(root->right);\n",
    "\n",
    "        if(abs(depthLeft - depthRight) > 1)\n",
    "        ans = false;\n",
    "\n",
    "        return 1 + max(depthLeft,depthRight);\n",
    "    }\n",
    "    bool isBalanced(TreeNode* root) {\n",
    "        ans = true;\n",
    "        depth(root);\n",
    "        return ans;\n",
    "        \n",
    "    }\n",
    "};"
   ]
  },
  {
   "cell_type": "code",
   "execution_count": null,
   "id": "9903eb9b",
   "metadata": {
    "vscode": {
     "languageId": "cpp"
    }
   },
   "outputs": [],
   "source": []
  }
 ],
 "metadata": {
  "kernelspec": {
   "display_name": "C++17",
   "language": "C++17",
   "name": "xcpp17"
  },
  "language_info": {
   "codemirror_mode": "text/x-c++src",
   "file_extension": ".cpp",
   "mimetype": "text/x-c++src",
   "name": "c++",
   "version": "17"
  }
 },
 "nbformat": 4,
 "nbformat_minor": 5
}
