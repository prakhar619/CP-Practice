{
 "cells": [
  {
   "cell_type": "markdown",
   "id": "bcc1f854",
   "metadata": {},
   "source": [
    "https://www.geeksforgeeks.org/problems/right-view-of-binary-tree/1"
   ]
  },
  {
   "cell_type": "code",
   "execution_count": null,
   "id": "0803f537",
   "metadata": {
    "vscode": {
     "languageId": "plaintext"
    }
   },
   "outputs": [],
   "source": [
    "/* A binary tree node has data, pointer to left child\n",
    "   and a pointer to right child\n",
    "struct Node\n",
    "{\n",
    "    int data;\n",
    "    struct Node* left;\n",
    "    struct Node* right;\n",
    "\n",
    "    Node(int x){\n",
    "        data = x;\n",
    "        left = right = NULL;\n",
    "    }\n",
    "}; */\n",
    "\n",
    "// Should return  right view of tree\n",
    "class Solution {\n",
    "  public:\n",
    "    // Function to return list containing elements of right view of binary tree.\n",
    "    vector<int> rightView(Node *root) {\n",
    "        // Your Code here\n",
    "        // code here\n",
    "        queue<Node*> q;\n",
    "        vector<int> ans;\n",
    "        \n",
    "        //easily forgettable condition\n",
    "        if(root != nullptr)\n",
    "        q.push(root);\n",
    "        while(!q.empty())\n",
    "        {\n",
    "            int currentSize = q.size();\n",
    "            for(int i = 0; i < currentSize; i++)\n",
    "            {\n",
    "                if(i == 0) ans.push_back(q.front()->data);\n",
    "                \n",
    "                Node* topNode = q.front();\n",
    "                q.pop();\n",
    "                if(topNode->right != nullptr)\n",
    "                {\n",
    "                    q.push(topNode->right);\n",
    "                }\n",
    "                if(topNode->left !=nullptr)\n",
    "                {\n",
    "                    q.push(topNode->left);\n",
    "                }\n",
    "                \n",
    "                \n",
    "            }\n",
    "        }\n",
    "        return ans;\n",
    "        \n",
    "    }\n",
    "};"
   ]
  }
 ],
 "metadata": {
  "language_info": {
   "name": "python"
  }
 },
 "nbformat": 4,
 "nbformat_minor": 5
}
