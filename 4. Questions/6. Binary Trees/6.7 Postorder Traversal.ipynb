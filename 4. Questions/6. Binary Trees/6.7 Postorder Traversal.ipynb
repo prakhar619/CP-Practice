{
 "cells": [
  {
   "cell_type": "markdown",
   "id": "52daade4",
   "metadata": {},
   "source": [
    "#### Chapter 6: Binary Tree"
   ]
  },
  {
   "cell_type": "code",
   "execution_count": 1,
   "id": "e9a64eea",
   "metadata": {
    "vscode": {
     "languageId": "cpp"
    }
   },
   "outputs": [],
   "source": [
    "#include <vector>\n",
    "using namespace std;"
   ]
  },
  {
   "cell_type": "markdown",
   "id": "db0a0cc6",
   "metadata": {},
   "source": [
    "### 7. Postorder Traversal"
   ]
  },
  {
   "cell_type": "markdown",
   "id": "802f0fb7",
   "metadata": {},
   "source": [
    "> Traverse the given binary tree in post-order fashion. (Left-> Right -> Root)"
   ]
  },
  {
   "cell_type": "markdown",
   "id": "79c2d19a",
   "metadata": {},
   "source": [
    "**Best Possible Solution:**"
   ]
  },
  {
   "cell_type": "markdown",
   "id": "aac29059",
   "metadata": {},
   "source": [
    "*Leetcode Link:* https://leetcode.com/problems/binary-tree-postorder-traversal/"
   ]
  },
  {
   "cell_type": "code",
   "execution_count": 2,
   "id": "02b0c188",
   "metadata": {
    "vscode": {
     "languageId": "cpp"
    }
   },
   "outputs": [],
   "source": [
    "struct TreeNode {\n",
    "      int val;\n",
    "      TreeNode *left;\n",
    "      TreeNode *right;\n",
    "     TreeNode() : val(0), left(nullptr), right(nullptr) {}\n",
    "      TreeNode(int x) : val(x), left(nullptr), right(nullptr) {}\n",
    "      TreeNode(int x, TreeNode *left, TreeNode *right) : val(x), left(left), right(right) {}\n",
    "  };\n",
    "\n",
    "class Solution {\n",
    "public:\n",
    "    void postOrder(TreeNode* root, vector<int>& ans)\n",
    "    {\n",
    "        if(root == nullptr)\n",
    "        return ;\n",
    "\n",
    "        postOrder(root->left, ans);\n",
    "        postOrder(root->right,ans);\n",
    "        ans.push_back(root->val);\n",
    "    }\n",
    "    vector<int> postorderTraversal(TreeNode* root) {\n",
    "       vector<int> ans;\n",
    "       postOrder(root, ans);\n",
    "       return ans; \n",
    "    }\n",
    "};"
   ]
  },
  {
   "cell_type": "code",
   "execution_count": null,
   "id": "86e9804c",
   "metadata": {
    "vscode": {
     "languageId": "cpp"
    }
   },
   "outputs": [],
   "source": []
  }
 ],
 "metadata": {
  "kernelspec": {
   "display_name": "C++17",
   "language": "C++17",
   "name": "xcpp17"
  },
  "language_info": {
   "codemirror_mode": "text/x-c++src",
   "file_extension": ".cpp",
   "mimetype": "text/x-c++src",
   "name": "c++",
   "version": "17"
  }
 },
 "nbformat": 4,
 "nbformat_minor": 5
}
