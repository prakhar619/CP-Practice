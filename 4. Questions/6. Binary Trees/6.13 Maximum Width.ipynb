{
 "cells": [
  {
   "cell_type": "code",
   "execution_count": null,
   "id": "d3422736",
   "metadata": {
    "vscode": {
     "languageId": "plaintext"
    }
   },
   "outputs": [],
   "source": [
    "/**\n",
    " * Definition for a binary tree node.\n",
    " * struct TreeNode {\n",
    " *     int val;\n",
    " *     TreeNode *left;\n",
    " *     TreeNode *right;\n",
    " *     TreeNode() : val(0), left(nullptr), right(nullptr) {}\n",
    " *     TreeNode(int x) : val(x), left(nullptr), right(nullptr) {}\n",
    " *     TreeNode(int x, TreeNode *left, TreeNode *right) : val(x), left(left), right(right) {}\n",
    " * };\n",
    " */\n",
    "class Solution {\n",
    "public:\n",
    "    int widthOfBinaryTree(TreeNode* root) {\n",
    "        queue<pair<TreeNode*, long long>> q;\n",
    "        if(root!=nullptr)\n",
    "        q.push({root,0});\n",
    "\n",
    "        long long maxLen = 0;\n",
    "        while(!q.empty())\n",
    "        {\n",
    "            int sizeCurrent = q.size();\n",
    "            long long minL = INT_MAX;\n",
    "            long long maxL = INT_MIN;\n",
    "\n",
    "            //Overflow change\n",
    "            long long minAtLevel = q.front().second;\n",
    "            //\n",
    "            for(int i = 0; i < sizeCurrent; i++)\n",
    "            {\n",
    "                auto p = q.front();\n",
    "                q.pop();\n",
    "\n",
    "                //Overflow change\n",
    "                long long currIndex = p.second - minAtLevel;\n",
    "                //\n",
    "\n",
    "                minL = min(minL, currIndex);\n",
    "                maxL = max(maxL, currIndex);\n",
    "\n",
    "                if(p.first->left != nullptr)\n",
    "                q.push({p.first->left, currIndex*2});\n",
    "\n",
    "                if(p.first->right != nullptr)\n",
    "                q.push({p.first->right, currIndex*2+1});\n",
    "            }\n",
    "\n",
    "            maxLen = max(maxLen,1+maxL - minL);\n",
    "        }\n",
    "\n",
    "        return maxLen;\n",
    "    }\n",
    "};"
   ]
  },
  {
   "cell_type": "markdown",
   "id": "a1b25c4b",
   "metadata": {},
   "source": [
    "https://leetcode.com/problems/maximum-width-of-binary-tree/description/"
   ]
  }
 ],
 "metadata": {
  "language_info": {
   "name": "python"
  }
 },
 "nbformat": 4,
 "nbformat_minor": 5
}
