{
 "cells": [
  {
   "cell_type": "markdown",
   "id": "673b2691",
   "metadata": {},
   "source": [
    "#### Chapter 6: Binary Trees"
   ]
  },
  {
   "cell_type": "code",
   "execution_count": 1,
   "id": "79de95f2",
   "metadata": {
    "vscode": {
     "languageId": "cpp"
    }
   },
   "outputs": [],
   "source": [
    "#include <queue>\n",
    "using namespace std;"
   ]
  },
  {
   "cell_type": "markdown",
   "id": "d7141df3",
   "metadata": {},
   "source": [
    "### 13. Maximum Width"
   ]
  },
  {
   "cell_type": "markdown",
   "id": "77ac13bc",
   "metadata": {},
   "source": [
    "> The maximum width of a tree is the maximum width among all levels.\n",
    "\n",
    "> Given a tree find its maximum width."
   ]
  },
  {
   "cell_type": "markdown",
   "id": "a1b25c4b",
   "metadata": {},
   "source": [
    "*Leetcode Link:* https://leetcode.com/problems/maximum-width-of-binary-tree/"
   ]
  },
  {
   "cell_type": "markdown",
   "id": "a65bbefd",
   "metadata": {},
   "source": [
    "**Best Possible Solution:**"
   ]
  },
  {
   "cell_type": "markdown",
   "id": "ca83124a",
   "metadata": {},
   "source": [
    "### Method 1\n",
    "Time Complexity: O(n)  \n",
    "Space Complexity: O(w)  \n",
    "###### where n is #node and w is width of binary tree"
   ]
  },
  {
   "cell_type": "code",
   "execution_count": null,
   "id": "d3422736",
   "metadata": {
    "vscode": {
     "languageId": "cpp"
    }
   },
   "outputs": [],
   "source": [
    "struct TreeNode {\n",
    "      int val;\n",
    "      TreeNode *left;\n",
    "      TreeNode *right;\n",
    "      TreeNode() : val(0), left(nullptr), right(nullptr) {}\n",
    "      TreeNode(int x) : val(x), left(nullptr), right(nullptr) {}\n",
    "      TreeNode(int x, TreeNode *left, TreeNode *right) : val(x), left(left), right(right) {}\n",
    "};\n",
    "\n",
    "class Solution {\n",
    "public:\n",
    "    int widthOfBinaryTree(TreeNode* root) {\n",
    "        //node and its row no\n",
    "        queue<pair<TreeNode*, long long>> q;\n",
    "        if(root!=nullptr)\n",
    "        q.push({root,0});\n",
    "\n",
    "        long long maxLen = 0;\n",
    "        while(!q.empty())\n",
    "        {\n",
    "            int sizeCurrent = q.size();\n",
    "            long long minL = INT_MAX;\n",
    "            long long maxL = INT_MIN;\n",
    "\n",
    "            //Overflow change (very imp)\n",
    "            long long minAtLevel = q.front().second;\n",
    "            //\n",
    "            for(int i = 0; i < sizeCurrent; i++)\n",
    "            {\n",
    "                auto p = q.front();\n",
    "                q.pop();\n",
    "\n",
    "                //Overflow change (very imp)\n",
    "                long long currIndex = p.second - minAtLevel;\n",
    "                //\n",
    "\n",
    "                minL = min(minL, currIndex);\n",
    "                maxL = max(maxL, currIndex);\n",
    "\n",
    "                if(p.first->left != nullptr)\n",
    "                q.push({p.first->left, currIndex*2});\n",
    "\n",
    "                if(p.first->right != nullptr)\n",
    "                q.push({p.first->right, currIndex*2+1});\n",
    "            }\n",
    "\n",
    "            maxLen = max(maxLen,1+maxL - minL);\n",
    "        }\n",
    "\n",
    "        return maxLen;\n",
    "    }\n",
    "};"
   ]
  }
 ],
 "metadata": {
  "kernelspec": {
   "display_name": "C++17",
   "language": "C++17",
   "name": "xcpp17"
  },
  "language_info": {
   "codemirror_mode": "text/x-c++src",
   "file_extension": ".cpp",
   "mimetype": "text/x-c++src",
   "name": "c++",
   "version": "17"
  }
 },
 "nbformat": 4,
 "nbformat_minor": 5
}
