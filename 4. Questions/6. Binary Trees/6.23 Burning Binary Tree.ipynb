{
 "cells": [
  {
   "cell_type": "markdown",
   "id": "63e1e7e1",
   "metadata": {},
   "source": [
    "https://www.geeksforgeeks.org/problems/burning-tree/1"
   ]
  },
  {
   "cell_type": "code",
   "execution_count": null,
   "id": "79b35879",
   "metadata": {
    "vscode": {
     "languageId": "plaintext"
    }
   },
   "outputs": [],
   "source": [
    "/*\n",
    "class Node {\n",
    "  public:\n",
    "    int data;\n",
    "    Node *left;\n",
    "    Node *right;\n",
    "\n",
    "    Node(int val) {\n",
    "        data = val;\n",
    "        left = right = NULL;\n",
    "    }\n",
    "};\n",
    "*/\n",
    "class Solution {\n",
    "  public:\n",
    "    int maxDistance;\n",
    "    pair<int,int> width(Node* root, int target)\n",
    "    {\n",
    "        if(root == nullptr)\n",
    "        return {0,0};\n",
    "        \n",
    "        pair<int,int> left = width(root->left, target);\n",
    "        pair<int,int> right= width(root->right, target);\n",
    "        \n",
    "        int distanceFromTarget = 0;\n",
    "        \n",
    "        if(root->data == target)\n",
    "        {\n",
    "            maxDistance = max(maxDistance,max(left.first,right.first));\n",
    "            distanceFromTarget = 1;\n",
    "        }\n",
    "        else if(left.second >= 1)\n",
    "        {\n",
    "            maxDistance = max(maxDistance, left.second + right.first);\n",
    "            distanceFromTarget = left.second+1;\n",
    "        }\n",
    "        else if(right.second >= 1)\n",
    "        {\n",
    "            maxDistance = max(maxDistance, left.first + right.second);\n",
    "            distanceFromTarget = right.second+1;\n",
    "        }\n",
    "        \n",
    "        return {max(left.first,right.first) + 1,distanceFromTarget};\n",
    "    }\n",
    "    int minTime(Node* root, int target) {\n",
    "        // code here\n",
    "        maxDistance = numeric_limits<int>::min();\n",
    "        pair<int,int> x = width(root,target);\n",
    "        return maxDistance;\n",
    "    }\n",
    "};"
   ]
  }
 ],
 "metadata": {
  "language_info": {
   "name": "python"
  }
 },
 "nbformat": 4,
 "nbformat_minor": 5
}
