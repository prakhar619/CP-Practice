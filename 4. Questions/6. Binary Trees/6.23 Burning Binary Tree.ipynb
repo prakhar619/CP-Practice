{
 "cells": [
  {
   "cell_type": "markdown",
   "id": "882ec9c2",
   "metadata": {},
   "source": [
    "#### Chapter 6: Binary Tree"
   ]
  },
  {
   "cell_type": "code",
   "execution_count": 1,
   "id": "4f5b7558",
   "metadata": {
    "vscode": {
     "languageId": "cpp"
    }
   },
   "outputs": [],
   "source": [
    "#include <utility>\n",
    "using namespace std;"
   ]
  },
  {
   "cell_type": "markdown",
   "id": "7917279b",
   "metadata": {},
   "source": [
    "### 23. Burning a Binary Tree"
   ]
  },
  {
   "cell_type": "markdown",
   "id": "63e1e7e1",
   "metadata": {},
   "source": [
    "*Leetcode Link:* https://www.geeksforgeeks.org/problems/burning-tree/1"
   ]
  },
  {
   "cell_type": "markdown",
   "id": "ad1441b3",
   "metadata": {},
   "source": [
    "**Best Possible Solution:**"
   ]
  },
  {
   "cell_type": "markdown",
   "id": "9f50f04d",
   "metadata": {},
   "source": [
    "### Method 1: \n",
    "Time Complexity: O(n)  \n",
    "Space Complexity: O(h)\n",
    "###### where n and h are #node and height of tree"
   ]
  },
  {
   "cell_type": "code",
   "execution_count": 2,
   "id": "79b35879",
   "metadata": {
    "vscode": {
     "languageId": "cpp"
    }
   },
   "outputs": [],
   "source": [
    "class Node {\n",
    "  public:\n",
    "    int data;\n",
    "    Node *left;\n",
    "    Node *right;\n",
    "\n",
    "    Node(int val) {\n",
    "        data = val;\n",
    "        left = right = NULL;\n",
    "    }\n",
    "};\n",
    "\n",
    "class Solution {\n",
    "  public:\n",
    "    int maxDistance;\n",
    "    pair<int,int> width(Node* root, int target)\n",
    "    {\n",
    "        if(root == nullptr)\n",
    "        return {0,0};\n",
    "        \n",
    "        pair<int,int> left = width(root->left, target);\n",
    "        pair<int,int> right= width(root->right, target);\n",
    "        \n",
    "        int distanceFromTarget = 0;\n",
    "        \n",
    "        if(root->data == target)\n",
    "        {\n",
    "            maxDistance = max(maxDistance,max(left.first,right.first));\n",
    "            distanceFromTarget = 1;\n",
    "        }\n",
    "        else if(left.second >= 1)\n",
    "        {\n",
    "            maxDistance = max(maxDistance, left.second + right.first);\n",
    "            distanceFromTarget = left.second+1;\n",
    "        }\n",
    "        else if(right.second >= 1)\n",
    "        {\n",
    "            maxDistance = max(maxDistance, left.first + right.second);\n",
    "            distanceFromTarget = right.second+1;\n",
    "        }\n",
    "        \n",
    "        return {max(left.first,right.first) + 1,distanceFromTarget};\n",
    "    }\n",
    "    int minTime(Node* root, int target) {\n",
    "        // code here\n",
    "        maxDistance = numeric_limits<int>::min();\n",
    "        pair<int,int> x = width(root,target);\n",
    "        return maxDistance;\n",
    "    }\n",
    "};"
   ]
  }
 ],
 "metadata": {
  "kernelspec": {
   "display_name": "C++17",
   "language": "C++17",
   "name": "xcpp17"
  },
  "language_info": {
   "codemirror_mode": "text/x-c++src",
   "file_extension": ".cpp",
   "mimetype": "text/x-c++src",
   "name": "c++",
   "version": "17"
  }
 },
 "nbformat": 4,
 "nbformat_minor": 5
}
