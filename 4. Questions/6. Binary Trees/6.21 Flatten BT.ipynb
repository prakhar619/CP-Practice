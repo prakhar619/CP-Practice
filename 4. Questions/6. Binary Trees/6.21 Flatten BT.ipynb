{
 "cells": [
  {
   "cell_type": "markdown",
   "id": "fc4edd2f",
   "metadata": {},
   "source": [
    "#### Chapter 6: Binary Tree"
   ]
  },
  {
   "cell_type": "code",
   "execution_count": 3,
   "id": "71e72fee",
   "metadata": {
    "vscode": {
     "languageId": "cpp"
    }
   },
   "outputs": [],
   "source": [
    "#include <stack>\n",
    "using namespace std;"
   ]
  },
  {
   "cell_type": "markdown",
   "id": "3ea0010a",
   "metadata": {},
   "source": [
    "### 21. Flatten a Binary Tree"
   ]
  },
  {
   "cell_type": "markdown",
   "id": "125a6814",
   "metadata": {},
   "source": [
    "> Given a binary Tree, convert it to a linked list.\n",
    "\n",
    "> The \"linked list\" should be in the same order as a pre-order traversal of the binary tree."
   ]
  },
  {
   "cell_type": "markdown",
   "id": "a3c7339c",
   "metadata": {},
   "source": [
    "*Leetcode Link:* https://leetcode.com/problems/flatten-binary-tree-to-linked-list/"
   ]
  },
  {
   "cell_type": "markdown",
   "id": "8f335271",
   "metadata": {},
   "source": [
    "**Best Possible Solution:**"
   ]
  },
  {
   "cell_type": "markdown",
   "id": "472d6791",
   "metadata": {},
   "source": [
    "### Method 1: Stack\n",
    "Time Complexity: O(n)   \n",
    "Space Complexity: O(n)\n",
    "######"
   ]
  },
  {
   "cell_type": "code",
   "execution_count": 4,
   "id": "40d12fea",
   "metadata": {
    "vscode": {
     "languageId": "cpp"
    }
   },
   "outputs": [],
   "source": [
    "struct TreeNode {\n",
    "     int val;\n",
    "     TreeNode *left;\n",
    "     TreeNode *right;\n",
    "     TreeNode() : val(0), left(nullptr), right(nullptr) {}\n",
    "     TreeNode(int x) : val(x), left(nullptr), right(nullptr) {}\n",
    "     TreeNode(int x, TreeNode *left, TreeNode *right) : val(x), left(left), right(right) {}\n",
    "};\n",
    "\n",
    "class Solution {\n",
    "public:\n",
    "    void flatten(TreeNode* root) {\n",
    "        stack<TreeNode*> st;\n",
    "        if(root!= nullptr)\n",
    "        st.push(root);\n",
    "\n",
    "        TreeNode* prev = new TreeNode();\n",
    "        while(!st.empty())\n",
    "        {\n",
    "            TreeNode* current = st.top(); st.pop();\n",
    "            if(current->right != nullptr)\n",
    "            st.push(current->right);\n",
    "\n",
    "            if(current->left != nullptr)\n",
    "            st.push(current->left);\n",
    "\n",
    "            current->left = nullptr;\n",
    "            current->right = nullptr;\n",
    "\n",
    "            prev->right = current;\n",
    "            prev = prev->right;\n",
    "        }\n",
    "\n",
    "        \n",
    "    }\n",
    "};"
   ]
  }
 ],
 "metadata": {
  "kernelspec": {
   "display_name": "C++17",
   "language": "C++17",
   "name": "xcpp17"
  },
  "language_info": {
   "codemirror_mode": "text/x-c++src",
   "file_extension": ".cpp",
   "mimetype": "text/x-c++src",
   "name": "c++",
   "version": "17"
  }
 },
 "nbformat": 4,
 "nbformat_minor": 5
}
