{
 "cells": [
  {
   "cell_type": "markdown",
   "id": "a3c7339c",
   "metadata": {},
   "source": [
    "https://leetcode.com/problems/flatten-binary-tree-to-linked-list/"
   ]
  },
  {
   "cell_type": "code",
   "execution_count": null,
   "id": "40d12fea",
   "metadata": {
    "vscode": {
     "languageId": "plaintext"
    }
   },
   "outputs": [],
   "source": [
    "/**\n",
    " * Definition for a binary tree node.\n",
    " * struct TreeNode {\n",
    " *     int val;\n",
    " *     TreeNode *left;\n",
    " *     TreeNode *right;\n",
    " *     TreeNode() : val(0), left(nullptr), right(nullptr) {}\n",
    " *     TreeNode(int x) : val(x), left(nullptr), right(nullptr) {}\n",
    " *     TreeNode(int x, TreeNode *left, TreeNode *right) : val(x), left(left), right(right) {}\n",
    " * };\n",
    " */\n",
    "class Solution {\n",
    "public:\n",
    "    void flatten(TreeNode* root) {\n",
    "        stack<TreeNode*> st;\n",
    "        if(root!= nullptr)\n",
    "        st.push(root);\n",
    "\n",
    "        TreeNode* prev = new TreeNode();\n",
    "        while(!st.empty())\n",
    "        {\n",
    "            TreeNode* current = st.top(); st.pop();\n",
    "            if(current->right != nullptr)\n",
    "            st.push(current->right);\n",
    "\n",
    "            if(current->left != nullptr)\n",
    "            st.push(current->left);\n",
    "\n",
    "            current->left = nullptr;\n",
    "            current->right = nullptr;\n",
    "\n",
    "            prev->right = current;\n",
    "            prev = prev->right;\n",
    "        }\n",
    "\n",
    "        \n",
    "    }\n",
    "};"
   ]
  }
 ],
 "metadata": {
  "language_info": {
   "name": "python"
  }
 },
 "nbformat": 4,
 "nbformat_minor": 5
}
