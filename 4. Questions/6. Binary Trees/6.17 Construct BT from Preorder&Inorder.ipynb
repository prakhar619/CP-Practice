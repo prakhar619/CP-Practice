{
 "cells": [
  {
   "cell_type": "markdown",
   "id": "5d288ca1",
   "metadata": {},
   "source": [
    "#### Chapter 6: Binary Tree"
   ]
  },
  {
   "cell_type": "code",
   "execution_count": 1,
   "id": "817ee9fb",
   "metadata": {
    "vscode": {
     "languageId": "cpp"
    }
   },
   "outputs": [],
   "source": [
    "using namespace std;"
   ]
  },
  {
   "cell_type": "markdown",
   "id": "5c613c85",
   "metadata": {},
   "source": [
    "### 17. Construct Binary Tree from Preorder and Inorder Traversal"
   ]
  },
  {
   "cell_type": "markdown",
   "id": "1bbbd6e7",
   "metadata": {},
   "source": [
    "> Given a Preorder and Inorder Traversal, construct a Binary Tree"
   ]
  },
  {
   "cell_type": "markdown",
   "id": "be2b44b4",
   "metadata": {},
   "source": [
    "*Leetcode Link:* https://leetcode.com/problems/construct-binary-tree-from-preorder-and-inorder-traversal/"
   ]
  },
  {
   "cell_type": "markdown",
   "id": "539a6676",
   "metadata": {},
   "source": [
    "**Best Possible Solution:**"
   ]
  },
  {
   "cell_type": "markdown",
   "id": "4cb36885",
   "metadata": {},
   "source": [
    "### Method 1: \n",
    "Time Complexity: O(n^2)  \n",
    "Space Complexity: O(n^2)\n",
    "###### where n is #node"
   ]
  },
  {
   "cell_type": "code",
   "execution_count": null,
   "id": "ae33d1ed",
   "metadata": {
    "vscode": {
     "languageId": "cpp"
    }
   },
   "outputs": [],
   "source": [
    "struct TreeNode {\n",
    "      int val;\n",
    "      TreeNode *left;\n",
    "      TreeNode *right;\n",
    "      TreeNode() : val(0), left(nullptr), right(nullptr) {}\n",
    "      TreeNode(int x) : val(x), left(nullptr), right(nullptr) {}\n",
    "      TreeNode(int x, TreeNode *left, TreeNode *right) : val(x), left(left), right(right) {}\n",
    " };\n",
    " \n",
    "class Solution {\n",
    "public:\n",
    "    TreeNode* buildTree(vector<int> preorder, vector<int> inorder) {\n",
    "        if(preorder.size() == 0 || inorder.size() == 0)\n",
    "        return nullptr;\n",
    "        \n",
    "        TreeNode* root = new TreeNode(preorder[0]);\n",
    "        int inorderIndex = 0;\n",
    "        for(inorderIndex = 0; inorderIndex < inorder.size(); inorderIndex++)\n",
    "        {\n",
    "            if(inorder[inorderIndex] == root->val)\n",
    "            break;\n",
    "        }\n",
    "\n",
    "        //learn how to index\n",
    "        root->left = buildTree(\n",
    "            vector<int>(preorder.begin()+1, preorder.begin()+inorderIndex+1),\n",
    "            vector<int>(inorder.begin(), inorder.begin()+inorderIndex)\n",
    "        );\n",
    "        \n",
    "        //learn how to index\n",
    "        root->right = buildTree(\n",
    "            vector<int>(preorder.begin()+inorderIndex+1, preorder.end()),\n",
    "            vector<int>(inorder.begin()+inorderIndex+1, inorder.end())\n",
    "        );\n",
    "\n",
    "        return root;\n",
    "    }\n",
    "};"
   ]
  }
 ],
 "metadata": {
  "kernelspec": {
   "display_name": "C++17",
   "language": "C++17",
   "name": "xcpp17"
  },
  "language_info": {
   "codemirror_mode": "text/x-c++src",
   "file_extension": ".cpp",
   "mimetype": "text/x-c++src",
   "name": "c++",
   "version": "17"
  }
 },
 "nbformat": 4,
 "nbformat_minor": 5
}
