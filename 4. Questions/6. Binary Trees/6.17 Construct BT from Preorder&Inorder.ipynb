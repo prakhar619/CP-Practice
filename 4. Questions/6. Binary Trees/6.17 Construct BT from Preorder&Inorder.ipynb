{
 "cells": [
  {
   "cell_type": "code",
   "execution_count": null,
   "id": "ae33d1ed",
   "metadata": {
    "vscode": {
     "languageId": "plaintext"
    }
   },
   "outputs": [],
   "source": [
    "/**\n",
    " * Definition for a binary tree node.\n",
    " * struct TreeNode {\n",
    " *     int val;\n",
    " *     TreeNode *left;\n",
    " *     TreeNode *right;\n",
    " *     TreeNode() : val(0), left(nullptr), right(nullptr) {}\n",
    " *     TreeNode(int x) : val(x), left(nullptr), right(nullptr) {}\n",
    " *     TreeNode(int x, TreeNode *left, TreeNode *right) : val(x), left(left), right(right) {}\n",
    " * };\n",
    " */\n",
    "class Solution {\n",
    "public:\n",
    "    TreeNode* buildTree(vector<int> preorder, vector<int> inorder) {\n",
    "        if(preorder.size() == 0 || inorder.size() == 0)\n",
    "        return nullptr;\n",
    "        \n",
    "        TreeNode* root = new TreeNode(preorder[0]);\n",
    "        int inorderIndex = 0;\n",
    "        for(inorderIndex = 0; inorderIndex < inorder.size(); inorderIndex++)\n",
    "        {\n",
    "            if(inorder[inorderIndex] == root->val)\n",
    "            break;\n",
    "        }\n",
    "\n",
    "        //learn how to index\n",
    "        root->left = buildTree(\n",
    "            vector<int>(preorder.begin()+1, preorder.begin()+inorderIndex+1),\n",
    "            vector<int>(inorder.begin(), inorder.begin()+inorderIndex)\n",
    "            );\n",
    "        \n",
    "        //learn how to index\n",
    "        root->right = buildTree(\n",
    "            vector<int>(preorder.begin()+inorderIndex+1, preorder.end()),\n",
    "            vector<int>(inorder.begin()+inorderIndex+1, inorder.end())\n",
    "        );\n",
    "\n",
    "        return root;\n",
    "        \n",
    "    }\n",
    "};"
   ]
  },
  {
   "cell_type": "markdown",
   "id": "be2b44b4",
   "metadata": {},
   "source": [
    "https://leetcode.com/problems/construct-binary-tree-from-preorder-and-inorder-traversal/description/"
   ]
  }
 ],
 "metadata": {
  "language_info": {
   "name": "python"
  }
 },
 "nbformat": 4,
 "nbformat_minor": 5
}
