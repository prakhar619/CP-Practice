{
 "cells": [
  {
   "cell_type": "markdown",
   "id": "85ab32ec",
   "metadata": {},
   "source": [
    "#### Chapter 6: Binary Trees"
   ]
  },
  {
   "cell_type": "code",
   "execution_count": 1,
   "id": "0b1ebeef",
   "metadata": {
    "vscode": {
     "languageId": "cpp"
    }
   },
   "outputs": [],
   "source": [
    "using namespace std;"
   ]
  },
  {
   "cell_type": "markdown",
   "id": "3dcf820c",
   "metadata": {},
   "source": [
    "### 3. Diameter"
   ]
  },
  {
   "cell_type": "markdown",
   "id": "0c793803",
   "metadata": {},
   "source": [
    "> Diameter is maximum distance b/w 2 leaf nodes"
   ]
  },
  {
   "cell_type": "markdown",
   "id": "ba16abca",
   "metadata": {},
   "source": [
    "*Leetcode Link:* https://leetcode.com/problems/diameter-of-binary-tree/"
   ]
  },
  {
   "cell_type": "markdown",
   "id": "b1e03a43",
   "metadata": {},
   "source": [
    "**Best Possible Solution:**"
   ]
  },
  {
   "cell_type": "markdown",
   "id": "dc5adc43",
   "metadata": {},
   "source": [
    "### Method 1: Recursion\n",
    "Time Complexity: O(n)    \n",
    "Space Complexity: O(h)\n",
    "###### where n is no of nodes in binary tree and h is height of binary tree"
   ]
  },
  {
   "cell_type": "code",
   "execution_count": 2,
   "id": "2f644928",
   "metadata": {
    "vscode": {
     "languageId": "cpp"
    }
   },
   "outputs": [],
   "source": [
    "struct TreeNode {\n",
    "      int val;\n",
    "      TreeNode *left;\n",
    "      TreeNode *right;\n",
    "      TreeNode() : val(0), left(nullptr), right(nullptr) {}\n",
    "      TreeNode(int x) : val(x), left(nullptr), right(nullptr) {}\n",
    "      TreeNode(int x, TreeNode *left, TreeNode *right) : val(x), left(left), right(right) {}\n",
    "};\n",
    "\n",
    "class Solution {\n",
    "public:\n",
    "    int maxDia;\n",
    "    int depth(TreeNode* root)\n",
    "    {\n",
    "        if(root == nullptr)\n",
    "        return 0;\n",
    "        \n",
    "        int depthLeft = depth(root->left);\n",
    "        int depthRight = depth(root->right);\n",
    "\n",
    "        maxDia = max(maxDia, depthLeft+depthRight);\n",
    "\n",
    "        return 1 + max(depthLeft, depthRight);\n",
    "    }\n",
    "    int diameterOfBinaryTree(TreeNode* root) {\n",
    "        maxDia = 0;\n",
    "        depth(root);\n",
    "        return maxDia;\n",
    "    }\n",
    "};"
   ]
  },
  {
   "cell_type": "code",
   "execution_count": 3,
   "id": "4b72a785",
   "metadata": {
    "vscode": {
     "languageId": "cpp"
    }
   },
   "outputs": [],
   "source": [
    "struct TreeNode {\n",
    "    int val;\n",
    "     TreeNode *left;\n",
    "     TreeNode *right;\n",
    "    TreeNode() : val(0), left(nullptr), right(nullptr) {}\n",
    "    TreeNode(int x) : val(x), left(nullptr), right(nullptr) {}\n",
    "    TreeNode(int x, TreeNode *left, TreeNode *right) : val(x), left(left), right(right) {}\n",
    "};\n",
    "\n",
    "class Solution {\n",
    "public:\n",
    "    int depth(TreeNode* root)\n",
    "    {\n",
    "        if(root == nullptr)\n",
    "        return 0;\n",
    "        return 1 + max(depth(root->left), depth(root->right));\n",
    "    }\n",
    "    int diameterOfBinaryTree(TreeNode* root) {\n",
    "        if(root == nullptr)\n",
    "        return 0;\n",
    "        return max(depth(root->left) + depth(root->right), max(diameterOfBinaryTree(root->left), diameterOfBinaryTree(root->right)));\n",
    "    }\n",
    "};"
   ]
  }
 ],
 "metadata": {
  "kernelspec": {
   "display_name": "C++17",
   "language": "C++17",
   "name": "xcpp17"
  },
  "language_info": {
   "codemirror_mode": "text/x-c++src",
   "file_extension": ".cpp",
   "mimetype": "text/x-c++src",
   "name": "c++",
   "version": "17"
  }
 },
 "nbformat": 4,
 "nbformat_minor": 5
}
