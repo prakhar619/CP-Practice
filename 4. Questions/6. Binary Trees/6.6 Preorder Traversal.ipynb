{
 "cells": [
  {
   "cell_type": "markdown",
   "id": "2a6c1b10",
   "metadata": {},
   "source": [
    "#### Chapter 6: Binary Tree"
   ]
  },
  {
   "cell_type": "code",
   "execution_count": 1,
   "id": "7a09b761",
   "metadata": {
    "vscode": {
     "languageId": "cpp"
    }
   },
   "outputs": [],
   "source": [
    "#include <vector>\n",
    "using namespace std;"
   ]
  },
  {
   "cell_type": "markdown",
   "id": "be941c86",
   "metadata": {},
   "source": [
    "### 6. Preorder Traversal"
   ]
  },
  {
   "cell_type": "markdown",
   "id": "5d57ed05",
   "metadata": {},
   "source": [
    "> Traverse the given binary tree in pre-order fashion. (Root->Left->Right)"
   ]
  },
  {
   "cell_type": "markdown",
   "id": "8e123421",
   "metadata": {},
   "source": [
    "*Leetcode Link:* https://leetcode.com/problems/binary-tree-preorder-traversal/"
   ]
  },
  {
   "cell_type": "markdown",
   "id": "cc88ccac",
   "metadata": {},
   "source": [
    "**Best Possible Solution:**"
   ]
  },
  {
   "cell_type": "markdown",
   "id": "b68239c8",
   "metadata": {},
   "source": [
    "### Method 1\n",
    "Time Complexity: O(n)   \n",
    "Space Complexity: O(h)\n",
    "###### where n is no of nodes and h is height of binary tree"
   ]
  },
  {
   "cell_type": "code",
   "execution_count": 2,
   "id": "23b9f18c",
   "metadata": {
    "vscode": {
     "languageId": "cpp"
    }
   },
   "outputs": [],
   "source": [
    "struct TreeNode {\n",
    "     int val;\n",
    "     TreeNode *left;\n",
    "     TreeNode *right;\n",
    "     TreeNode() : val(0), left(nullptr), right(nullptr) {}\n",
    "     TreeNode(int x) : val(x), left(nullptr), right(nullptr) {}\n",
    "     TreeNode(int x, TreeNode *left, TreeNode *right) : val(x), left(left), right(right) {}\n",
    " };\n",
    "\n",
    "class Solution {\n",
    "public:\n",
    "    void preOrder(TreeNode* root, vector<int>& ans)\n",
    "    {\n",
    "        if(root == nullptr)\n",
    "        return;\n",
    "\n",
    "        ans.push_back(root->val);\n",
    "        preOrder(root->left, ans);\n",
    "        preOrder(root->right, ans);\n",
    "    }\n",
    "    vector<int> preorderTraversal(TreeNode* root) {\n",
    "        vector<int> ans;\n",
    "        preOrder(root, ans);\n",
    "        return ans;\n",
    "    }\n",
    "};"
   ]
  },
  {
   "cell_type": "code",
   "execution_count": null,
   "id": "fd19899c",
   "metadata": {
    "vscode": {
     "languageId": "cpp"
    }
   },
   "outputs": [],
   "source": []
  }
 ],
 "metadata": {
  "kernelspec": {
   "display_name": "C++17",
   "language": "C++17",
   "name": "xcpp17"
  },
  "language_info": {
   "codemirror_mode": "text/x-c++src",
   "file_extension": ".cpp",
   "mimetype": "text/x-c++src",
   "name": "c++",
   "version": "17"
  }
 },
 "nbformat": 4,
 "nbformat_minor": 5
}
