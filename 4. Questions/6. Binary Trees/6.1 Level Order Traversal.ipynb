{
 "cells": [
  {
   "cell_type": "code",
   "execution_count": null,
   "id": "d1fac22d",
   "metadata": {
    "vscode": {
     "languageId": "plaintext"
    }
   },
   "outputs": [],
   "source": [
    "/**\n",
    " * Definition for a binary tree node.\n",
    " * struct TreeNode {\n",
    " *     int val;\n",
    " *     TreeNode *left;\n",
    " *     TreeNode *right;\n",
    " *     TreeNode() : val(0), left(nullptr), right(nullptr) {}\n",
    " *     TreeNode(int x) : val(x), left(nullptr), right(nullptr) {}\n",
    " *     TreeNode(int x, TreeNode *left, TreeNode *right) : val(x), left(left), right(right) {}\n",
    " * };\n",
    " */\n",
    "class Solution {\n",
    "public:\n",
    "    vector<vector<int>> levelOrder(TreeNode* root) {\n",
    "        vector<vector<int>> ans;\n",
    "        queue<TreeNode*> q;\n",
    "\n",
    "        if(root != nullptr)\n",
    "        q.push(root);\n",
    "        while(!q.empty())\n",
    "        {\n",
    "            vector<int> level;\n",
    "            int currentSize = q.size();\n",
    "            for(int i = 0; i < currentSize; i++)\n",
    "            {\n",
    "                level.push_back(q.front()->val);\n",
    "\n",
    "                if(q.front()->left != nullptr)\n",
    "                q.push(q.front()->left);\n",
    "\n",
    "                if(q.front()->right != nullptr)\n",
    "                q.push(q.front()->right);\n",
    "\n",
    "                q.pop();\n",
    "            }\n",
    "            ans.push_back(level);\n",
    "        }\n",
    "\n",
    "        return ans;\n",
    "    }\n",
    "};"
   ]
  },
  {
   "cell_type": "markdown",
   "id": "01817138",
   "metadata": {},
   "source": [
    "https://leetcode.com/problems/binary-tree-level-order-traversal/description/"
   ]
  }
 ],
 "metadata": {
  "language_info": {
   "name": "python"
  }
 },
 "nbformat": 4,
 "nbformat_minor": 5
}
