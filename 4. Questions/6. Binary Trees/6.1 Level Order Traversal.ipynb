{
 "cells": [
  {
   "cell_type": "markdown",
   "id": "63d5f17f",
   "metadata": {},
   "source": [
    "#### Chapter 6: Binary Trees"
   ]
  },
  {
   "cell_type": "code",
   "execution_count": 2,
   "id": "e4c7965b",
   "metadata": {
    "vscode": {
     "languageId": "cpp"
    }
   },
   "outputs": [],
   "source": [
    "#include <queue>\n",
    "#include <vector>\n",
    "using namespace std;"
   ]
  },
  {
   "cell_type": "markdown",
   "id": "cdbc72db",
   "metadata": {},
   "source": [
    "### 1. Level Order Traversal"
   ]
  },
  {
   "cell_type": "markdown",
   "id": "ea97a7e9",
   "metadata": {},
   "source": [
    "> Level Order Traversal: Top to Bottom, Left to Right\n",
    "\n",
    "> Create a level order traversal for binary tree\n"
   ]
  },
  {
   "cell_type": "markdown",
   "id": "033adaab",
   "metadata": {},
   "source": [
    "*Leetcode Link:* https://leetcode.com/problems/binary-tree-level-order-traversal/"
   ]
  },
  {
   "cell_type": "markdown",
   "id": "4e553c19",
   "metadata": {},
   "source": [
    "**Best Possible Solution:**"
   ]
  },
  {
   "cell_type": "markdown",
   "id": "30fa44c0",
   "metadata": {},
   "source": [
    "### Method 1\n",
    "Time Complexity: O(n)  \n",
    "Space Complexity: O(w)\n",
    "###### where n is number of nodes in binary tree and w is max width of binary tree (level-width) "
   ]
  },
  {
   "cell_type": "code",
   "execution_count": 3,
   "id": "d1fac22d",
   "metadata": {
    "vscode": {
     "languageId": "cpp"
    }
   },
   "outputs": [],
   "source": [
    "\n",
    " struct TreeNode {\n",
    "     int val;\n",
    "     TreeNode *left;\n",
    "     TreeNode *right;\n",
    "     TreeNode() : val(0), left(nullptr), right(nullptr) {}\n",
    "     TreeNode(int x) : val(x), left(nullptr), right(nullptr) {}\n",
    "     TreeNode(int x, TreeNode *left, TreeNode *right) : val(x), left(left), right(right) {}\n",
    "};\n",
    "\n",
    "class Solution {\n",
    "public:\n",
    "    vector<vector<int>> levelOrder(TreeNode* root) {\n",
    "        vector<vector<int>> ans;\n",
    "        queue<TreeNode*> q;\n",
    "\n",
    "        if(root != nullptr)\n",
    "        q.push(root);\n",
    "        while(!q.empty())\n",
    "        {\n",
    "            vector<int> level;\n",
    "            int currentSize = q.size();\n",
    "            for(int i = 0; i < currentSize; i++)\n",
    "            {\n",
    "                level.push_back(q.front()->val);\n",
    "\n",
    "                if(q.front()->left != nullptr)\n",
    "                q.push(q.front()->left);\n",
    "\n",
    "                if(q.front()->right != nullptr)\n",
    "                q.push(q.front()->right);\n",
    "\n",
    "                q.pop();\n",
    "            }\n",
    "            ans.push_back(level);\n",
    "        }\n",
    "\n",
    "        return ans;\n",
    "    }\n",
    "};"
   ]
  }
 ],
 "metadata": {
  "kernelspec": {
   "display_name": "C++17",
   "language": "C++17",
   "name": "xcpp17"
  },
  "language_info": {
   "codemirror_mode": "text/x-c++src",
   "file_extension": ".cpp",
   "mimetype": "text/x-c++src",
   "name": "c++",
   "version": "17"
  }
 },
 "nbformat": 4,
 "nbformat_minor": 5
}
