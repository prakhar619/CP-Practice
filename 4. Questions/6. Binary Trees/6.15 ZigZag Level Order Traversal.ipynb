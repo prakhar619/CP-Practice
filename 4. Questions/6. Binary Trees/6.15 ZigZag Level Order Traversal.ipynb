{
 "cells": [
  {
   "cell_type": "markdown",
   "id": "1b3152af",
   "metadata": {},
   "source": [
    "https://leetcode.com/problems/binary-tree-zigzag-level-order-traversal/description/"
   ]
  },
  {
   "cell_type": "code",
   "execution_count": null,
   "id": "4b8545e3",
   "metadata": {
    "vscode": {
     "languageId": "plaintext"
    }
   },
   "outputs": [],
   "source": [
    "/**\n",
    " * Definition for a binary tree node.\n",
    " * struct TreeNode {\n",
    " *     int val;\n",
    " *     TreeNode *left;\n",
    " *     TreeNode *right;\n",
    " *     TreeNode() : val(0), left(nullptr), right(nullptr) {}\n",
    " *     TreeNode(int x) : val(x), left(nullptr), right(nullptr) {}\n",
    " *     TreeNode(int x, TreeNode *left, TreeNode *right) : val(x), left(left), right(right) {}\n",
    " * };\n",
    " */\n",
    "class Solution {\n",
    "public:\n",
    "    vector<vector<int>> zigzagLevelOrder(TreeNode* root) {\n",
    "        queue<TreeNode*> q;\n",
    "        if(root != nullptr)\n",
    "        q.push(root);\n",
    "\n",
    "        vector<vector<int>> ans;\n",
    "        bool flg = false;\n",
    "        while(!q.empty())\n",
    "        {\n",
    "            int currSize = q.size();\n",
    "            vector<int> v;\n",
    "            for(int i = 0; i < currSize; i++)\n",
    "            {\n",
    "                v.push_back(q.front()->val);\n",
    "                if(q.front()->left != nullptr)\n",
    "                q.push(q.front()->left);\n",
    "                if(q.front()->right != nullptr)\n",
    "                q.push(q.front()->right);\n",
    "                q.pop();\n",
    "            }\n",
    "            if(flg)\n",
    "            reverse(v.begin(), v.end());\n",
    "\n",
    "            flg = !flg ;\n",
    "            ans.push_back(v);\n",
    "        }\n",
    "        return ans;\n",
    "    }\n",
    "};"
   ]
  }
 ],
 "metadata": {
  "language_info": {
   "name": "python"
  }
 },
 "nbformat": 4,
 "nbformat_minor": 5
}
