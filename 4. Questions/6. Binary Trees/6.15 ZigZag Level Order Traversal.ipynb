{
 "cells": [
  {
   "cell_type": "markdown",
   "id": "6ede2bdd",
   "metadata": {},
   "source": [
    "#### Chapter 6: Binary Tree"
   ]
  },
  {
   "cell_type": "code",
   "execution_count": 1,
   "id": "9ca0a613",
   "metadata": {
    "vscode": {
     "languageId": "cpp"
    }
   },
   "outputs": [],
   "source": [
    "#include <vector>\n",
    "#include <queue>\n",
    "using namespace std;"
   ]
  },
  {
   "cell_type": "markdown",
   "id": "9c0217fd",
   "metadata": {},
   "source": [
    "### 15. ZigZag Traversal"
   ]
  },
  {
   "cell_type": "markdown",
   "id": "a60a18df",
   "metadata": {},
   "source": [
    "> Given the root of a binary tree, return the zigzag level order traversal of its nodes' values. (i.e., from left to right, then right to left for the next level and alternate between)."
   ]
  },
  {
   "cell_type": "markdown",
   "id": "1b3152af",
   "metadata": {},
   "source": [
    "*Leetcode Link:* https://leetcode.com/problems/binary-tree-zigzag-level-order-traversal/"
   ]
  },
  {
   "cell_type": "markdown",
   "id": "e068d473",
   "metadata": {},
   "source": [
    "**Best Possible Solution:**"
   ]
  },
  {
   "cell_type": "markdown",
   "id": "a9417941",
   "metadata": {},
   "source": [
    "### Method 1:\n",
    "Time Complexity: O(n*w)  \n",
    "Space Complexity: O(h)\n",
    "###### where n is #node, height of binary tree and w is width of tree"
   ]
  },
  {
   "cell_type": "code",
   "execution_count": null,
   "id": "4b8545e3",
   "metadata": {
    "vscode": {
     "languageId": "cpp"
    }
   },
   "outputs": [],
   "source": [
    "struct TreeNode {\n",
    "      int val;\n",
    "      TreeNode *left;\n",
    "      TreeNode *right;\n",
    "      TreeNode() : val(0), left(nullptr), right(nullptr) {}\n",
    "      TreeNode(int x) : val(x), left(nullptr), right(nullptr) {}\n",
    "      TreeNode(int x, TreeNode *left, TreeNode *right) : val(x), left(left), right(right) {}\n",
    "};\n",
    "\n",
    "class Solution {\n",
    "public:\n",
    "    vector<vector<int>> zigzagLevelOrder(TreeNode* root) {\n",
    "        queue<TreeNode*> q;\n",
    "        if(root != nullptr)\n",
    "        q.push(root);\n",
    "\n",
    "        vector<vector<int>> ans;\n",
    "        bool flg = false;\n",
    "        while(!q.empty())\n",
    "        {\n",
    "            int currSize = q.size();\n",
    "            vector<int> v;\n",
    "            for(int i = 0; i < currSize; i++)\n",
    "            {\n",
    "                v.push_back(q.front()->val);\n",
    "                if(q.front()->left != nullptr)\n",
    "                q.push(q.front()->left);\n",
    "                if(q.front()->right != nullptr)\n",
    "                q.push(q.front()->right);\n",
    "                q.pop();\n",
    "            }\n",
    "            if(flg)\n",
    "            reverse(v.begin(), v.end());\n",
    "\n",
    "            flg = !flg ;\n",
    "            ans.push_back(v);\n",
    "        }\n",
    "        return ans;\n",
    "    }\n",
    "};"
   ]
  },
  {
   "cell_type": "markdown",
   "id": "156e20cf",
   "metadata": {},
   "source": [
    "### Method 2: Deque\n",
    "Time Complexity: O(n)  \n",
    "Space Complexity: O(h)\n",
    "###### where n is #node and h is height of tree"
   ]
  },
  {
   "cell_type": "code",
   "execution_count": null,
   "id": "c88778f7",
   "metadata": {
    "vscode": {
     "languageId": "cpp"
    }
   },
   "outputs": [],
   "source": []
  }
 ],
 "metadata": {
  "kernelspec": {
   "display_name": "C++17",
   "language": "C++17",
   "name": "xcpp17"
  },
  "language_info": {
   "codemirror_mode": "text/x-c++src",
   "file_extension": ".cpp",
   "mimetype": "text/x-c++src",
   "name": "c++",
   "version": "17"
  }
 },
 "nbformat": 4,
 "nbformat_minor": 5
}
