{
 "cells": [
  {
   "cell_type": "code",
   "execution_count": null,
   "id": "bcaf9c55",
   "metadata": {
    "vscode": {
     "languageId": "plaintext"
    }
   },
   "outputs": [],
   "source": [
    "https://leetcode.com/problems/maximum-depth-of-binary-tree/"
   ]
  },
  {
   "cell_type": "code",
   "execution_count": null,
   "id": "f51bd4aa",
   "metadata": {
    "vscode": {
     "languageId": "plaintext"
    }
   },
   "outputs": [],
   "source": [
    "/**\n",
    " * Definition for a binary tree node.\n",
    " * struct TreeNode {\n",
    " *     int val;\n",
    " *     TreeNode *left;\n",
    " *     TreeNode *right;\n",
    " *     TreeNode() : val(0), left(nullptr), right(nullptr) {}\n",
    " *     TreeNode(int x) : val(x), left(nullptr), right(nullptr) {}\n",
    " *     TreeNode(int x, TreeNode *left, TreeNode *right) : val(x), left(left), right(right) {}\n",
    " * };\n",
    " */\n",
    "class Solution {\n",
    "public:\n",
    "    int maxDepth(TreeNode* root) {\n",
    "         if(root == nullptr)\n",
    "         return 0;\n",
    "\n",
    "         return 1 + max(maxDepth(root->left), maxDepth(root->right));\n",
    "    }\n",
    "};"
   ]
  },
  {
   "cell_type": "code",
   "execution_count": null,
   "id": "9c036d7d",
   "metadata": {
    "vscode": {
     "languageId": "plaintext"
    }
   },
   "outputs": [],
   "source": [
    "#include <queue>\n",
    "using namespace std;\n",
    "\n",
    "int maxDepth(TreeNode* root) {\n",
    "    if (root == nullptr)\n",
    "        return 0;\n",
    "\n",
    "    queue<TreeNode*> q;\n",
    "    q.push(root);\n",
    "    int depth = 0;\n",
    "\n",
    "    while (!q.empty()) {\n",
    "        int levelSize = q.size();\n",
    "        // Process all nodes at the current level\n",
    "        for (int i = 0; i < levelSize; i++) {\n",
    "            TreeNode* node = q.front();\n",
    "            q.pop();\n",
    "\n",
    "            if (node->left)\n",
    "                q.push(node->left);\n",
    "            if (node->right)\n",
    "                q.push(node->right);\n",
    "        }\n",
    "        depth++;\n",
    "    }\n",
    "\n",
    "    return depth;\n",
    "}\n"
   ]
  },
  {
   "cell_type": "code",
   "execution_count": null,
   "id": "74c40fb0",
   "metadata": {
    "vscode": {
     "languageId": "plaintext"
    }
   },
   "outputs": [],
   "source": [
    "int maxDepth(TreeNode* root) {\n",
    "    if (!root) return 0;\n",
    "\n",
    "    stack<pair<TreeNode*, int>> st;\n",
    "    st.push({root, 1});\n",
    "    int depth = 0;\n",
    "\n",
    "    while (!st.empty()) {\n",
    "        auto [node, d] = st.top(); st.pop();\n",
    "        if (node) {\n",
    "            depth = max(depth, d);\n",
    "            st.push({node->left, d + 1});\n",
    "            st.push({node->right, d + 1});\n",
    "        }\n",
    "    }\n",
    "\n",
    "    return depth;\n",
    "}\n"
   ]
  }
 ],
 "metadata": {
  "language_info": {
   "name": "python"
  }
 },
 "nbformat": 4,
 "nbformat_minor": 5
}
