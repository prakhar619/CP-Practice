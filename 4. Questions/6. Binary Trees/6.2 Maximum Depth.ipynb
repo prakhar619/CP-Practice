{
 "cells": [
  {
   "cell_type": "markdown",
   "id": "63301f51",
   "metadata": {},
   "source": [
    "#### Chapter 6: Binary Trees"
   ]
  },
  {
   "cell_type": "code",
   "execution_count": 10,
   "id": "f1385d27",
   "metadata": {
    "vscode": {
     "languageId": "cpp"
    }
   },
   "outputs": [],
   "source": [
    "#include <vector>\n",
    "#include <queue>\n",
    "#include <stack>\n",
    "using namespace std;"
   ]
  },
  {
   "cell_type": "markdown",
   "id": "82c610e6",
   "metadata": {},
   "source": [
    "### 2. Maximum Depth"
   ]
  },
  {
   "cell_type": "markdown",
   "id": "3313ab13",
   "metadata": {},
   "source": [
    "> Depth is distance of a node from root to that node\n",
    "\n",
    "> Find the maximum depth of a binary Tree"
   ]
  },
  {
   "cell_type": "markdown",
   "id": "bcaf9c55",
   "metadata": {
    "vscode": {
     "languageId": "plaintext"
    }
   },
   "source": [
    "*Leetcode Link:* https://leetcode.com/problems/maximum-depth-of-binary-tree/"
   ]
  },
  {
   "cell_type": "markdown",
   "id": "eb93e2f6",
   "metadata": {},
   "source": [
    "**Best Possible Solution:**"
   ]
  },
  {
   "cell_type": "markdown",
   "id": "9007a1e6",
   "metadata": {},
   "source": [
    "### Method 1: Recursion\n",
    "Time Complexity: O(n)  \n",
    "Space Complexity: O(h)\n",
    "###### where n is no of nodes in binary tree and h is height of the binary tree"
   ]
  },
  {
   "cell_type": "code",
   "execution_count": 14,
   "id": "f51bd4aa",
   "metadata": {
    "vscode": {
     "languageId": "cpp"
    }
   },
   "outputs": [],
   "source": [
    "struct TreeNode {\n",
    "      int val;\n",
    "      TreeNode *left;\n",
    "      TreeNode *right;\n",
    "      TreeNode() : val(0), left(nullptr), right(nullptr) {}\n",
    "      TreeNode(int x) : val(x), left(nullptr), right(nullptr) {}\n",
    "      TreeNode(int x, TreeNode *left, TreeNode *right) : val(x), left(left), right(right) {}\n",
    " };\n",
    "\n",
    "class Solution {\n",
    "public:\n",
    "    int maxDepth(TreeNode* root) {\n",
    "         if(root == nullptr)\n",
    "         return 0;\n",
    "\n",
    "         return 1 + max(maxDepth(root->left), maxDepth(root->right));\n",
    "    }\n",
    "};"
   ]
  },
  {
   "cell_type": "markdown",
   "id": "ab130611",
   "metadata": {},
   "source": [
    "### Method 2: Queue\n",
    "Time Complexity: O(n)  \n",
    "Space Complexity: O(w)\n",
    "###### where n is no of nodes in binary tree and w is level-width of the binary tree"
   ]
  },
  {
   "cell_type": "code",
   "execution_count": 15,
   "id": "9c036d7d",
   "metadata": {
    "vscode": {
     "languageId": "cpp"
    }
   },
   "outputs": [],
   "source": [
    "int maxDepth(TreeNode* root) {\n",
    "    if (root == nullptr)\n",
    "        return 0;\n",
    "\n",
    "    queue<TreeNode*> q;\n",
    "    q.push(root);\n",
    "    int depth = 0;\n",
    "\n",
    "    while (!q.empty()) {\n",
    "        int levelSize = q.size();\n",
    "        // Process all nodes at the current level\n",
    "        for (int i = 0; i < levelSize; i++) {\n",
    "            TreeNode* node = q.front();\n",
    "            q.pop();\n",
    "\n",
    "            if (node->left)\n",
    "                q.push(node->left);\n",
    "            if (node->right)\n",
    "                q.push(node->right);\n",
    "        }\n",
    "        depth++;\n",
    "    }\n",
    "\n",
    "    return depth;\n",
    "}\n"
   ]
  },
  {
   "cell_type": "markdown",
   "id": "faf31ab7",
   "metadata": {},
   "source": [
    "### Method 3: Stack\n",
    "Time Complexity: O(n)  \n",
    "Space Complexity: O(h)\n",
    "###### where n is no of nodes in binary tree and h is height of the binary tree"
   ]
  },
  {
   "cell_type": "code",
   "execution_count": 16,
   "id": "74c40fb0",
   "metadata": {
    "vscode": {
     "languageId": "cpp"
    }
   },
   "outputs": [],
   "source": [
    "int maxDepth(TreeNode* root) {\n",
    "    if (!root) return 0;\n",
    "\n",
    "    stack<pair<TreeNode*, int>> st;\n",
    "    st.push({root, 1});\n",
    "    int depth = 0;\n",
    "\n",
    "    while (!st.empty()) {\n",
    "        auto [node, d] = st.top(); st.pop();\n",
    "        if (node) {\n",
    "            depth = max(depth, d);\n",
    "            st.push({node->left, d + 1});\n",
    "            st.push({node->right, d + 1});\n",
    "        }\n",
    "    }\n",
    "\n",
    "    return depth;\n",
    "}\n"
   ]
  }
 ],
 "metadata": {
  "kernelspec": {
   "display_name": "C++17",
   "language": "C++17",
   "name": "xcpp17"
  },
  "language_info": {
   "codemirror_mode": "text/x-c++src",
   "file_extension": ".cpp",
   "mimetype": "text/x-c++src",
   "name": "c++",
   "version": "17"
  }
 },
 "nbformat": 4,
 "nbformat_minor": 5
}
