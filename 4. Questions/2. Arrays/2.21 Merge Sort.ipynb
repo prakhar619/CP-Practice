{
 "cells": [
  {
   "cell_type": "code",
   "execution_count": null,
   "id": "ce298f82",
   "metadata": {
    "vscode": {
     "languageId": "plaintext"
    }
   },
   "outputs": [],
   "source": [
    "class Solution {\n",
    "public:\n",
    "    void merge(vector<int>&nums, int low, int mid, int high)\n",
    "    {\n",
    "        vector<int> sorted(high-low+1);\n",
    "        int indexSorted = 0;\n",
    "        int midMoving = mid+1;\n",
    "        int lowStay = low;\n",
    "        while(low <= mid && midMoving <= high)\n",
    "        {\n",
    "            if(nums[low] <= nums[midMoving])\n",
    "            {\n",
    "                sorted[indexSorted] = nums[low];\n",
    "                indexSorted += 1;\n",
    "                low++;\n",
    "            }\n",
    "            else\n",
    "            {\n",
    "                sorted[indexSorted] = nums[midMoving];\n",
    "                indexSorted += 1;\n",
    "                midMoving+=1;\n",
    "            }\n",
    "        }\n",
    "\n",
    "        while(low <= mid)\n",
    "        {\n",
    "                sorted[indexSorted] = nums[low];\n",
    "                indexSorted += 1;\n",
    "                low++;  \n",
    "        }\n",
    "\n",
    "        while(midMoving <= high)\n",
    "        {\n",
    "                sorted[indexSorted] = nums[midMoving];\n",
    "                indexSorted += 1;\n",
    "                midMoving+=1;            \n",
    "        }\n",
    "\n",
    "        for(int i = 0; i < sorted.size(); i++)\n",
    "        {\n",
    "            nums[lowStay+i] = sorted[i];\n",
    "        }\n",
    "        return;\n",
    "    }\n",
    "    void mergeSort(vector<int>& nums,int low, int high)\n",
    "    {\n",
    "        if(low >= high)\n",
    "        return;\n",
    "\n",
    "        int mid = (low + high) / 2;\n",
    "        mergeSort(nums, low, mid);\n",
    "        mergeSort(nums, mid+1, high);\n",
    "        merge(nums,low, mid, high);\n",
    "    }\n",
    "    vector<int> sortArray(vector<int>& nums) {\n",
    "        mergeSort(nums,0, nums.size()-1);\n",
    "        return nums;\n",
    "    }\n",
    "};"
   ]
  },
  {
   "cell_type": "markdown",
   "id": "af7f8f23",
   "metadata": {},
   "source": [
    "https://leetcode.com/problems/sort-an-array/"
   ]
  }
 ],
 "metadata": {
  "language_info": {
   "name": "python"
  }
 },
 "nbformat": 4,
 "nbformat_minor": 5
}
