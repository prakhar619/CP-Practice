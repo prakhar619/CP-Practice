{
 "cells": [
  {
   "cell_type": "markdown",
   "id": "20be844d",
   "metadata": {},
   "source": [
    "##### Chapter 2: Arrays"
   ]
  },
  {
   "cell_type": "code",
   "execution_count": 1,
   "id": "ba502a1c",
   "metadata": {
    "vscode": {
     "languageId": "cpp"
    }
   },
   "outputs": [],
   "source": [
    "#include <vector>\n",
    "#include <iostream>\n",
    "using namespace std;"
   ]
  },
  {
   "cell_type": "markdown",
   "id": "07a63ab0",
   "metadata": {},
   "source": [
    "### 2. Next Permutation"
   ]
  },
  {
   "cell_type": "markdown",
   "id": "8f002c1a",
   "metadata": {},
   "source": [
    "> Given a set of number in order, give the next permutation possible, if not possible then give ans in ascending order"
   ]
  },
  {
   "cell_type": "markdown",
   "id": "df2397bc",
   "metadata": {},
   "source": [
    "*Leetcode Link:* https://leetcode.com/problems/next-permutation/"
   ]
  },
  {
   "cell_type": "markdown",
   "id": "c71be953",
   "metadata": {
    "vscode": {
     "languageId": "cpp"
    }
   },
   "source": [
    "**Best Possible Solution:**"
   ]
  },
  {
   "cell_type": "markdown",
   "id": "8eb213a6",
   "metadata": {},
   "source": [
    "### Method 1\n",
    "Time Complexity: O(n)  \n",
    "Space Complexity: O(n)\n",
    "###### where n is size of input array"
   ]
  },
  {
   "cell_type": "markdown",
   "id": "90917498",
   "metadata": {},
   "source": [
    "#### Methodology\n",
    "\n",
    "123456  1st  (swap last 2)\n",
    "123465  2nd  (till not descending) then swap then ascending order (which is same as reverse)  swap(4,5) then reverse  \n",
    "123546  3rd  (till not descending) then swap then ascending order  \n",
    "123564  \n",
    "123654  \n",
    "124356  "
   ]
  },
  {
   "cell_type": "code",
   "execution_count": null,
   "id": "ddc79ffc",
   "metadata": {
    "vscode": {
     "languageId": "cpp"
    }
   },
   "outputs": [],
   "source": [
    "class Solution {\n",
    "public:\n",
    "    void nextPermutation(vector<int>& nums) {\n",
    "        int i = nums.size() - 1;\n",
    "        while (i > 0 && nums[i-1] >= nums[i]) {\n",
    "            i--;\n",
    "        }\n",
    "        \n",
    "        if (i == 0) {\n",
    "            //given sequence is in descending order\n",
    "            reverse(nums.begin(), nums.end());\n",
    "            return;\n",
    "        }\n",
    "        \n",
    "        int j = nums.size() - 1;\n",
    "        while (j >= i && nums[j] <= nums[i-1]) {\n",
    "            //find index j such that nums[i] < nums[j] where i < j\n",
    "            j--;\n",
    "        }\n",
    "        \n",
    "        swap(nums[i-1], nums[j]);\n",
    "        reverse(nums.begin() + i, nums.end());        \n",
    "    }\n",
    "};"
   ]
  }
 ],
 "metadata": {
  "kernelspec": {
   "display_name": "C++17",
   "language": "C++17",
   "name": "xcpp17"
  },
  "language_info": {
   "codemirror_mode": "text/x-c++src",
   "file_extension": ".cpp",
   "mimetype": "text/x-c++src",
   "name": "c++",
   "version": "17"
  }
 },
 "nbformat": 4,
 "nbformat_minor": 5
}
