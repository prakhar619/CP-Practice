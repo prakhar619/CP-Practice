{
 "cells": [
  {
   "cell_type": "code",
   "execution_count": null,
   "id": "ddc79ffc",
   "metadata": {
    "vscode": {
     "languageId": "plaintext"
    }
   },
   "outputs": [],
   "source": [
    "class Solution {\n",
    "public:\n",
    "    void nextPermutation(vector<int>& nums) {\n",
    "        int i = nums.size() - 1;\n",
    "        while (i > 0 && nums[i-1] >= nums[i]) {\n",
    "            i--;\n",
    "        }\n",
    "        \n",
    "        if (i == 0) {\n",
    "            reverse(nums.begin(), nums.end());\n",
    "            return;\n",
    "        }\n",
    "        \n",
    "        int j = nums.size() - 1;\n",
    "        while (j >= i && nums[j] <= nums[i-1]) {\n",
    "            j--;\n",
    "        }\n",
    "        \n",
    "        swap(nums[i-1], nums[j]);\n",
    "        reverse(nums.begin() + i, nums.end());        \n",
    "    }\n",
    "};"
   ]
  },
  {
   "cell_type": "markdown",
   "id": "df2397bc",
   "metadata": {},
   "source": [
    "https://leetcode.com/problems/next-permutation/"
   ]
  }
 ],
 "metadata": {
  "language_info": {
   "name": "python"
  }
 },
 "nbformat": 4,
 "nbformat_minor": 5
}
