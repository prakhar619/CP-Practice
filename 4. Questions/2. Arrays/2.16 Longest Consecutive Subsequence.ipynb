{
 "cells": [
  {
   "cell_type": "markdown",
   "id": "ed8131a5",
   "metadata": {},
   "source": [
    "#### Chapter 2: Arrays"
   ]
  },
  {
   "cell_type": "code",
   "execution_count": 2,
   "id": "d8e0a8a1",
   "metadata": {
    "vscode": {
     "languageId": "cpp"
    }
   },
   "outputs": [],
   "source": [
    "#include <vector>\n",
    "using namespace std;"
   ]
  },
  {
   "cell_type": "markdown",
   "id": "c2e8fe45",
   "metadata": {},
   "source": [
    "### 16. Longest Consecutive Subsequence"
   ]
  },
  {
   "cell_type": "markdown",
   "id": "b3c37f70",
   "metadata": {},
   "source": [
    "> Given an unsorted array of integers nums, return the length of the longest consecutive elements sequence."
   ]
  },
  {
   "cell_type": "markdown",
   "id": "112ba527",
   "metadata": {},
   "source": [
    "*Leetcode Link:* https://leetcode.com/problems/longest-consecutive-sequence/description/"
   ]
  },
  {
   "cell_type": "markdown",
   "id": "9873361e",
   "metadata": {},
   "source": [
    "**Best Possible Solution:**"
   ]
  },
  {
   "cell_type": "markdown",
   "id": "aa5b6408",
   "metadata": {},
   "source": [
    "### Method 1:\n",
    "Time Complexity: O(n)  \n",
    "Space Complexity: O(1)"
   ]
  },
  {
   "cell_type": "code",
   "execution_count": null,
   "id": "f9d48173",
   "metadata": {
    "vscode": {
     "languageId": "cpp"
    }
   },
   "outputs": [],
   "source": [
    "class Solution {\n",
    "public:\n",
    "    int longestConsecutive(vector<int>& nums) {\n",
    "        unordered_set<int> uset;\n",
    "        for(int i: nums)\n",
    "        {\n",
    "            uset.insert(i);\n",
    "        }\n",
    "\n",
    "        int maxLen = 0;\n",
    "        int currLen = 0;\n",
    "        for(int i: uset)\n",
    "        {\n",
    "            //if you cant find the previous consecutive number then start counting forward consecutive numbers\n",
    "            if(uset.find(i-1) == uset.end())\n",
    "            {\n",
    "                int trav = i;\n",
    "                while(uset.find(trav) != uset.end())\n",
    "                {\n",
    "                    currLen += 1;\n",
    "                    trav += 1;\n",
    "                }\n",
    "                maxLen = max(maxLen,currLen);\n",
    "                currLen = 0;\n",
    "            }  \n",
    "        }\n",
    "\n",
    "        return maxLen;\n",
    "    }\n",
    "};"
   ]
  }
 ],
 "metadata": {
  "kernelspec": {
   "display_name": "C++17",
   "language": "C++17",
   "name": "xcpp17"
  },
  "language_info": {
   "codemirror_mode": "text/x-c++src",
   "file_extension": ".cpp",
   "mimetype": "text/x-c++src",
   "name": "c++",
   "version": "17"
  }
 },
 "nbformat": 4,
 "nbformat_minor": 5
}
