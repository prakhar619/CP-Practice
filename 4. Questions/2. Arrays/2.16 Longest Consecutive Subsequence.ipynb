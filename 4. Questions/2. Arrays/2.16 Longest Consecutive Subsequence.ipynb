{
 "cells": [
  {
   "cell_type": "code",
   "execution_count": null,
   "id": "f9d48173",
   "metadata": {
    "vscode": {
     "languageId": "plaintext"
    }
   },
   "outputs": [],
   "source": [
    "class Solution {\n",
    "public:\n",
    "    int longestConsecutive(vector<int>& nums) {\n",
    "        unordered_set<int> uset;\n",
    "        for(int i: nums)\n",
    "        {\n",
    "            uset.insert(i);\n",
    "        }\n",
    "\n",
    "        int maxLen = 0;\n",
    "        int currLen = 0;\n",
    "        for(int i: uset)\n",
    "        {\n",
    "            if(uset.find(i-1) == uset.end())\n",
    "            {\n",
    "                int trav = i;\n",
    "                while(uset.find(trav) != uset.end())\n",
    "                {\n",
    "                    currLen += 1;\n",
    "                    trav += 1;\n",
    "                }\n",
    "                maxLen = max(maxLen,currLen);\n",
    "                currLen = 0;\n",
    "            }  \n",
    "        }\n",
    "\n",
    "        return maxLen;\n",
    "    }\n",
    "};"
   ]
  },
  {
   "cell_type": "markdown",
   "id": "9873361e",
   "metadata": {},
   "source": []
  },
  {
   "cell_type": "markdown",
   "id": "112ba527",
   "metadata": {},
   "source": [
    "https://leetcode.com/problems/longest-consecutive-sequence/description/"
   ]
  }
 ],
 "metadata": {
  "language_info": {
   "name": "python"
  }
 },
 "nbformat": 4,
 "nbformat_minor": 5
}
