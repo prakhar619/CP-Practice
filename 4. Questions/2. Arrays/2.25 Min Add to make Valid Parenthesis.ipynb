{
 "cells": [
  {
   "cell_type": "markdown",
   "id": "124565e9",
   "metadata": {},
   "source": [
    "#### Chapter 2: Array"
   ]
  },
  {
   "cell_type": "code",
   "execution_count": 1,
   "id": "77aeabc1",
   "metadata": {
    "vscode": {
     "languageId": "cpp"
    }
   },
   "outputs": [],
   "source": [
    "#include <vector>\n",
    "using namespace std;"
   ]
  },
  {
   "cell_type": "markdown",
   "id": "1e49ac3c",
   "metadata": {},
   "source": [
    "### 25. Min Add to make Valid Parenthesis"
   ]
  },
  {
   "cell_type": "markdown",
   "id": "1a974344",
   "metadata": {},
   "source": [
    "> Count of brackets that need to added to string to make it valid parenthesis"
   ]
  },
  {
   "cell_type": "markdown",
   "id": "641f225c",
   "metadata": {},
   "source": [
    "*Leetcode Link:* https://leetcode.com/problems/minimum-add-to-make-parentheses-valid/"
   ]
  },
  {
   "cell_type": "markdown",
   "id": "3f8b2f08",
   "metadata": {},
   "source": [
    "**Best Possible Solution:**"
   ]
  },
  {
   "cell_type": "markdown",
   "id": "ea1a8c39",
   "metadata": {},
   "source": [
    "### Method 1\n",
    "Time Complexity: O(n)  \n",
    "Space Complexity: O(1)\n",
    "###### where n is size of input array"
   ]
  },
  {
   "cell_type": "code",
   "execution_count": null,
   "id": "1d983fb8",
   "metadata": {
    "vscode": {
     "languageId": "cpp"
    }
   },
   "outputs": [],
   "source": [
    "class Solution {\n",
    "public:\n",
    "    int minAddToMakeValid(string s) {\n",
    "        int current = 0;\n",
    "        int total = 0;\n",
    "        for(char c: s)\n",
    "        {\n",
    "            if(c == '(')\n",
    "            {\n",
    "                if(current < 0)\n",
    "                {\n",
    "                    total += -current;\n",
    "                    current = 0;\n",
    "                }\n",
    "                current +=1;\n",
    "            }\n",
    "            else if(c == ')')\n",
    "            {\n",
    "                current -= 1;\n",
    "            }\n",
    "        }\n",
    "        //add remaining opening/closing bracket\n",
    "        return total + abs(current);\n",
    "    }\n",
    "};"
   ]
  }
 ],
 "metadata": {
  "kernelspec": {
   "display_name": "C++17",
   "language": "C++17",
   "name": "xcpp17"
  },
  "language_info": {
   "codemirror_mode": "text/x-c++src",
   "file_extension": ".cpp",
   "mimetype": "text/x-c++src",
   "name": "c++",
   "version": "17"
  }
 },
 "nbformat": 4,
 "nbformat_minor": 5
}
