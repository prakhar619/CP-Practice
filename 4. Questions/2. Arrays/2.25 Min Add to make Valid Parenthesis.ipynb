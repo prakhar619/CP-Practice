{
 "cells": [
  {
   "cell_type": "code",
   "execution_count": null,
   "id": "1d983fb8",
   "metadata": {
    "vscode": {
     "languageId": "plaintext"
    }
   },
   "outputs": [],
   "source": [
    "class Solution {\n",
    "public:\n",
    "    int minAddToMakeValid(string s) {\n",
    "        int current = 0;\n",
    "        int total = 0;\n",
    "        for(char c: s)\n",
    "        {\n",
    "            if(c == '(')\n",
    "            {\n",
    "                if(current < 0)\n",
    "                {\n",
    "                    total += -current;\n",
    "                    current = 0;\n",
    "                }\n",
    "                current +=1;\n",
    "            }\n",
    "            else if(c == ')')\n",
    "            {\n",
    "                current -= 1;\n",
    "            }\n",
    "        }\n",
    "        return total + abs(current);\n",
    "    }\n",
    "};"
   ]
  },
  {
   "cell_type": "markdown",
   "id": "641f225c",
   "metadata": {},
   "source": [
    "https://leetcode.com/problems/minimum-add-to-make-parentheses-valid/"
   ]
  }
 ],
 "metadata": {
  "language_info": {
   "name": "python"
  }
 },
 "nbformat": 4,
 "nbformat_minor": 5
}
