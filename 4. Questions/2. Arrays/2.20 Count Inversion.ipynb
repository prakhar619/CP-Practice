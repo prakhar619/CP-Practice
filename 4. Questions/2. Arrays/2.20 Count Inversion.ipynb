{
 "cells": [
  {
   "cell_type": "markdown",
   "id": "757d4b35",
   "metadata": {},
   "source": [
    "#### Chapter 2: Arrays"
   ]
  },
  {
   "cell_type": "code",
   "execution_count": 1,
   "id": "ab7d06fc",
   "metadata": {
    "vscode": {
     "languageId": "cpp"
    }
   },
   "outputs": [],
   "source": [
    "#include <vector>\n",
    "using namespace std;"
   ]
  },
  {
   "cell_type": "markdown",
   "id": "1da62ca9",
   "metadata": {},
   "source": [
    "### 20. Count Inversions"
   ]
  },
  {
   "cell_type": "markdown",
   "id": "2433d367",
   "metadata": {},
   "source": [
    "> Two elements a[i] and a[j] form an inversion \n",
    "if a[i] > a[j] and i < j.\n",
    "\n",
    "> It indicates how close an array is to being sorted."
   ]
  },
  {
   "cell_type": "markdown",
   "id": "2c258b33",
   "metadata": {},
   "source": [
    "> Given an integer array nums. Return the number of inversions in the array.\n",
    "\n",
    "\n"
   ]
  },
  {
   "cell_type": "markdown",
   "id": "df8c2496",
   "metadata": {},
   "source": [
    "*Leetcode Link:* https://takeuforward.org/plus/dsa/problems/count-inversions"
   ]
  },
  {
   "cell_type": "markdown",
   "id": "1bcad53e",
   "metadata": {},
   "source": [
    "**Best Possible Solution:**"
   ]
  },
  {
   "cell_type": "markdown",
   "id": "82dd0cb9",
   "metadata": {},
   "source": [
    "### Method 1: Merge Sort Method\n",
    "Time Complexity: O(nlog n)  \n",
    "Space Complexity: O(n)\n",
    "###### where n is size of input array"
   ]
  },
  {
   "cell_type": "code",
   "execution_count": null,
   "id": "c8c3ed7e",
   "metadata": {
    "vscode": {
     "languageId": "cpp"
    }
   },
   "outputs": [],
   "source": [
    "class Solution {\n",
    "public:\n",
    "    int merge(vector<int>&nums, int low, int mid, int high)\n",
    "    {\n",
    "        vector<int> sorted(high-low+1);\n",
    "        int cnt = 0;\n",
    "        int indexSorted = 0;\n",
    "        int midMoving = mid+1;\n",
    "        int lowStay = low;\n",
    "        while(low <= mid && midMoving <= high)\n",
    "        {\n",
    "            if(nums[low] <= nums[midMoving])\n",
    "            {\n",
    "                sorted[indexSorted] = nums[low];\n",
    "                indexSorted += 1;\n",
    "                low++;\n",
    "            }\n",
    "            else\n",
    "            {\n",
    "                sorted[indexSorted] = nums[midMoving];\n",
    "                indexSorted += 1;\n",
    "                midMoving+=1;\n",
    "\n",
    "                cnt += mid - low + 1;\n",
    "            }\n",
    "        }\n",
    "\n",
    "        while(low <= mid)\n",
    "        {\n",
    "                sorted[indexSorted] = nums[low];\n",
    "                indexSorted += 1;\n",
    "                low++; \n",
    "\n",
    "                //cnt += (high - mid+1) + 1;        //we are already counting ahead ones\n",
    "        }\n",
    "\n",
    "        while(midMoving <= high)\n",
    "        {\n",
    "                sorted[indexSorted] = nums[midMoving];\n",
    "                indexSorted += 1;\n",
    "                midMoving+=1;          \n",
    "        }\n",
    "\n",
    "        for(int i = 0; i < sorted.size(); i++)\n",
    "        {\n",
    "            nums[lowStay+i] = sorted[i];\n",
    "        }\n",
    "        return cnt;\n",
    "    }\n",
    "    int mergeSort(vector<int>& nums,int low, int high)\n",
    "    {\n",
    "        if(low >= high)\n",
    "        return 0;\n",
    "\n",
    "        long long cnt = 0;\n",
    "\n",
    "        int mid = (low + high) / 2;\n",
    "        cnt += mergeSort(nums, low, mid);\n",
    "        cnt += mergeSort(nums, mid+1, high);\n",
    "        cnt += merge(nums,low, mid, high);\n",
    "        return cnt;\n",
    "    }\n",
    "\n",
    "   long long int numberOfInversions(vector<int> nums) {\n",
    "        return mergeSort(nums,0, nums.size()-1);\n",
    "    }\n",
    "};"
   ]
  }
 ],
 "metadata": {
  "kernelspec": {
   "display_name": "C++17",
   "language": "C++17",
   "name": "xcpp17"
  },
  "language_info": {
   "codemirror_mode": "text/x-c++src",
   "file_extension": ".cpp",
   "mimetype": "text/x-c++src",
   "name": "c++",
   "version": "17"
  }
 },
 "nbformat": 4,
 "nbformat_minor": 5
}
