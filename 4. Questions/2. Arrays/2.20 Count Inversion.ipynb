{
 "cells": [
  {
   "cell_type": "code",
   "execution_count": null,
   "id": "c8c3ed7e",
   "metadata": {
    "vscode": {
     "languageId": "plaintext"
    }
   },
   "outputs": [],
   "source": [
    "class Solution {\n",
    "public:\n",
    "    int merge(vector<int>&nums, int low, int mid, int high)\n",
    "    {\n",
    "        vector<int> sorted(high-low+1);\n",
    "        int cnt = 0;\n",
    "        int indexSorted = 0;\n",
    "        int midMoving = mid+1;\n",
    "        int lowStay = low;\n",
    "        while(low <= mid && midMoving <= high)\n",
    "        {\n",
    "            if(nums[low] <= nums[midMoving])\n",
    "            {\n",
    "                sorted[indexSorted] = nums[low];\n",
    "                indexSorted += 1;\n",
    "                low++;\n",
    "            }\n",
    "            else\n",
    "            {\n",
    "                sorted[indexSorted] = nums[midMoving];\n",
    "                indexSorted += 1;\n",
    "                midMoving+=1;\n",
    "\n",
    "                cnt += mid - low + 1;\n",
    "            }\n",
    "        }\n",
    "\n",
    "        while(low <= mid)\n",
    "        {\n",
    "                sorted[indexSorted] = nums[low];\n",
    "                indexSorted += 1;\n",
    "                low++; \n",
    "\n",
    "                //cnt += (high - mid+1) + 1;        //we are already counting ahead ones\n",
    "        }\n",
    "\n",
    "        while(midMoving <= high)\n",
    "        {\n",
    "                sorted[indexSorted] = nums[midMoving];\n",
    "                indexSorted += 1;\n",
    "                midMoving+=1;          \n",
    "        }\n",
    "\n",
    "        for(int i = 0; i < sorted.size(); i++)\n",
    "        {\n",
    "            nums[lowStay+i] = sorted[i];\n",
    "        }\n",
    "        return cnt;\n",
    "    }\n",
    "    int mergeSort(vector<int>& nums,int low, int high)\n",
    "    {\n",
    "        if(low >= high)\n",
    "        return 0;\n",
    "\n",
    "        long long cnt = 0;\n",
    "\n",
    "        int mid = (low + high) / 2;\n",
    "        cnt += mergeSort(nums, low, mid);\n",
    "        cnt += mergeSort(nums, mid+1, high);\n",
    "        cnt += merge(nums,low, mid, high);\n",
    "        return cnt;\n",
    "    }\n",
    "\n",
    "   long long int numberOfInversions(vector<int> nums) {\n",
    "        return mergeSort(nums,0, nums.size()-1);\n",
    "    }\n",
    "};"
   ]
  },
  {
   "cell_type": "markdown",
   "id": "df8c2496",
   "metadata": {},
   "source": [
    "https://takeuforward.org/plus/dsa/problems/count-inversions"
   ]
  }
 ],
 "metadata": {
  "language_info": {
   "name": "python"
  }
 },
 "nbformat": 4,
 "nbformat_minor": 5
}
