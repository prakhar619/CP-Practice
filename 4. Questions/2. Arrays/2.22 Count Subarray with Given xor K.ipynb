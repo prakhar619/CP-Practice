{
 "cells": [
  {
   "cell_type": "markdown",
   "id": "59289edd",
   "metadata": {},
   "source": [
    "#### Chapter 2: Arrays"
   ]
  },
  {
   "cell_type": "code",
   "execution_count": 1,
   "id": "bb030fd5",
   "metadata": {
    "vscode": {
     "languageId": "cpp"
    }
   },
   "outputs": [],
   "source": [
    "#include <vector>\n",
    "using namespace std;"
   ]
  },
  {
   "cell_type": "markdown",
   "id": "8d8144fa",
   "metadata": {},
   "source": [
    "### 22. Count Subarray with XOR Equals K"
   ]
  },
  {
   "cell_type": "markdown",
   "id": "47aca6d1",
   "metadata": {},
   "source": [
    "> Given an array of integers arr[] and a number k, count the number of subarrays having XOR of their elements as k."
   ]
  },
  {
   "cell_type": "markdown",
   "id": "6f8739de",
   "metadata": {
    "vscode": {
     "languageId": "plaintext"
    }
   },
   "source": [
    "*Leetcode Link*: https://www.geeksforgeeks.org/problems/count-subarray-with-given-xor/1"
   ]
  },
  {
   "cell_type": "markdown",
   "id": "2bcbc1b9",
   "metadata": {},
   "source": [
    "**Best Possible Solution:**"
   ]
  },
  {
   "cell_type": "markdown",
   "id": "e9d62aaa",
   "metadata": {},
   "source": [
    "### Method 1 \n",
    "Time Complexity: O(n)  \n",
    "Space Complexity: O(n)\n",
    "###### where n is size of input array"
   ]
  },
  {
   "cell_type": "code",
   "execution_count": null,
   "id": "1e4800f6",
   "metadata": {
    "vscode": {
     "languageId": "cpp"
    }
   },
   "outputs": [],
   "source": [
    "class Solution {\n",
    "  public:\n",
    "    long subarrayXor(vector<int> &nums, int k) {\n",
    "        // code here\n",
    "        unordered_map<int,int> umap;\n",
    "        int current = 0;\n",
    "        int ans = 0;\n",
    "        \n",
    "        //why umap[0] = 1   (case when subarray_part1 is no array)\n",
    "        umap[0] = 1;\n",
    "        \n",
    "        // subarray_part1 ^ subarray_part2 = k\n",
    "        // subarray_part1 = subarray_part2 ^ k  (inverse property of ^)\n",
    "        for(int i = 0; i < nums.size(); i++)\n",
    "        {\n",
    "            current = current ^ nums[i];\n",
    "            \n",
    "            ans += umap[current ^ k];\n",
    "            \n",
    "            umap[current] += 1;\n",
    "        }\n",
    "        return ans;\n",
    "    }\n",
    "};"
   ]
  }
 ],
 "metadata": {
  "kernelspec": {
   "display_name": "C++17",
   "language": "C++17",
   "name": "xcpp17"
  },
  "language_info": {
   "codemirror_mode": "text/x-c++src",
   "file_extension": ".cpp",
   "mimetype": "text/x-c++src",
   "name": "c++",
   "version": "17"
  }
 },
 "nbformat": 4,
 "nbformat_minor": 5
}
