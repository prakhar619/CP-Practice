{
 "cells": [
  {
   "cell_type": "code",
   "execution_count": null,
   "id": "1e4800f6",
   "metadata": {
    "vscode": {
     "languageId": "plaintext"
    }
   },
   "outputs": [],
   "source": [
    "    int subarraysWithXorK(vector<int> &nums, int k) {\n",
    "        unordered_map<int,int> umap;\n",
    "        int ans = 0;\n",
    "        int current = nums[0];\n",
    "        umap[current] = 1;\n",
    "\n",
    "        ans += umap[current^k]\n",
    "\n",
    "\n",
    "        for(int i = 1; i < nums.size(); i++)\n",
    "        {\n",
    "            current ^= nums[i];\n",
    "            umap[current] = current;\n",
    "\n",
    "            ans += umap[current^k];\n",
    "        }\n",
    "\n",
    "        return ans;\n",
    "    }"
   ]
  },
  {
   "cell_type": "code",
   "execution_count": null,
   "id": "6f8739de",
   "metadata": {
    "vscode": {
     "languageId": "plaintext"
    }
   },
   "outputs": [],
   "source": [
    "https://leetcode.com/problems/longest-substring-without-repeating-characters/"
   ]
  }
 ],
 "metadata": {
  "language_info": {
   "name": "python"
  }
 },
 "nbformat": 4,
 "nbformat_minor": 5
}
