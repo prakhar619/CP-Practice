{
 "cells": [
  {
   "cell_type": "code",
   "execution_count": 12,
   "id": "724678d0",
   "metadata": {
    "vscode": {
     "languageId": "cpp"
    }
   },
   "outputs": [],
   "source": [
    "#include <vector>\n",
    "#include <iostream>\n",
    "using namespace std;"
   ]
  },
  {
   "cell_type": "markdown",
   "id": "2bf61ba7",
   "metadata": {},
   "source": [
    "### Create"
   ]
  },
  {
   "cell_type": "code",
   "execution_count": 13,
   "id": "b478730f",
   "metadata": {
    "vscode": {
     "languageId": "cpp"
    }
   },
   "outputs": [],
   "source": [
    "vector<int> v1;\n",
    "vector<int> vn (10);\n",
    "vector<int> vnx (10,-1);\n",
    "\n",
    "vector<vector<int>> vvnx (10,vector<int>(5,-1));\n",
    "\n",
    "vector<pair<int,int>> vp;"
   ]
  },
  {
   "cell_type": "markdown",
   "id": "8fe00d86",
   "metadata": {},
   "source": [
    "### Basic Ops"
   ]
  },
  {
   "cell_type": "code",
   "execution_count": 14,
   "id": "75275713",
   "metadata": {
    "vscode": {
     "languageId": "cpp"
    }
   },
   "outputs": [
    {
     "name": "stdout",
     "output_type": "stream",
     "text": [
      "0\n",
      "1\n"
     ]
    }
   ],
   "source": [
    "v1.push_back(10);\n",
    "cout << v1.empty() << endl;\n",
    "cout << v1.size() << endl;\n",
    "\n",
    "vp.push_back({1,0});\n",
    "vp.push_back({2,-1});"
   ]
  },
  {
   "cell_type": "markdown",
   "id": "81eaee50",
   "metadata": {},
   "source": [
    "### Advanced Ops"
   ]
  },
  {
   "cell_type": "code",
   "execution_count": null,
   "id": "49c59647",
   "metadata": {
    "vscode": {
     "languageId": "cpp"
    }
   },
   "outputs": [],
   "source": [
    "#include <algorithm>\n",
    "sort(v1.begin(),v1.end());\n",
    "sort(v1.begin(),v1.end(), greater<int>());\n",
    "reverse(v1.begin(),v1.end())"
   ]
  },
  {
   "cell_type": "code",
   "execution_count": 16,
   "id": "a3e9af10",
   "metadata": {
    "vscode": {
     "languageId": "cpp"
    }
   },
   "outputs": [],
   "source": [
    "bool customSort(pair<int,int> a, pair<int,int> b)\n",
    "{\n",
    "    if(a.second < b.second)\n",
    "    return true;\n",
    "    \n",
    "    return false;\n",
    "}"
   ]
  },
  {
   "cell_type": "code",
   "execution_count": 17,
   "id": "4037c132",
   "metadata": {
    "vscode": {
     "languageId": "cpp"
    }
   },
   "outputs": [
    {
     "name": "stdout",
     "output_type": "stream",
     "text": [
      "2 -1\n",
      "1 0\n"
     ]
    }
   ],
   "source": [
    "sort(vp.begin(), vp.end(), customSort);\n",
    "for(auto p: vp)\n",
    "cout << p.first << \" \" << p.second << endl;"
   ]
  },
  {
   "cell_type": "code",
   "execution_count": null,
   "id": "03bf660b",
   "metadata": {
    "vscode": {
     "languageId": "cpp"
    }
   },
   "outputs": [],
   "source": []
  }
 ],
 "metadata": {
  "kernelspec": {
   "display_name": "C++17",
   "language": "C++17",
   "name": "xcpp17"
  },
  "language_info": {
   "codemirror_mode": "text/x-c++src",
   "file_extension": ".cpp",
   "mimetype": "text/x-c++src",
   "name": "C++17",
   "version": "17"
  }
 },
 "nbformat": 4,
 "nbformat_minor": 5
}
