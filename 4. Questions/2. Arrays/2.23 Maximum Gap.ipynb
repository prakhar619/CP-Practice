{
 "cells": [
  {
   "cell_type": "markdown",
   "id": "5dd01c19",
   "metadata": {},
   "source": [
    "#### Chapter 2: Arrays"
   ]
  },
  {
   "cell_type": "code",
   "execution_count": 1,
   "id": "47dff1c2",
   "metadata": {
    "vscode": {
     "languageId": "cpp"
    }
   },
   "outputs": [],
   "source": [
    "#include <vector>\n",
    "#include <climits>\n",
    "using namespace std;"
   ]
  },
  {
   "cell_type": "markdown",
   "id": "186f2da2",
   "metadata": {},
   "source": [
    "#### 23. Maximum Gap"
   ]
  },
  {
   "cell_type": "markdown",
   "id": "8a120d1d",
   "metadata": {},
   "source": [
    "> Given an unsorted array arr[] of positive elements. Your task is to find the maximum difference between the successive elements in its sorted form.  \n",
    "Return 0 if the array contains less than 2 elements."
   ]
  },
  {
   "cell_type": "markdown",
   "id": "d1f048aa",
   "metadata": {},
   "source": [
    "*Leetcode Link*: https://www.geeksforgeeks.org/problems/maximum-gap3845/1"
   ]
  },
  {
   "cell_type": "markdown",
   "id": "6806b32b",
   "metadata": {},
   "source": [
    "**Best Possible Solution:**"
   ]
  },
  {
   "cell_type": "markdown",
   "id": "0c88149b",
   "metadata": {},
   "source": [
    "### Method 1: Bucket Sort\n",
    "Time Complexity: O(m+n)  \n",
    "Space Complexity: O(m)\n",
    "###### where n is size of input array, m is largest integer in array"
   ]
  },
  {
   "cell_type": "code",
   "execution_count": 2,
   "id": "64e01305",
   "metadata": {
    "vscode": {
     "languageId": "cpp"
    }
   },
   "outputs": [],
   "source": [
    "// User function template for C++\n",
    "class Solution {\n",
    "  public:\n",
    "    int maxSortedAdjacentDiff(vector<int>& arr) {\n",
    "        //bucket sort type sort for O(n) time complexity\n",
    "        \n",
    "        if(arr.size() == 1) return 0;\n",
    "        \n",
    "        int bucketSize = 0;\n",
    "        //assert i cannot be negative\n",
    "        for(int i: arr) bucketSize = max(bucketSize,i);\n",
    "        \n",
    "        vector<int> bucket(bucketSize+1, 0);\n",
    "        for(int i: arr) bucket[i] = 1;\n",
    "        \n",
    "        int curr = -1;\n",
    "        int prev = -1;\n",
    "        int ans = INT_MIN;\n",
    "        \n",
    "        for(int i = 0; i < bucket.size(); i++)\n",
    "        {\n",
    "            if(bucket[i] == 1)\n",
    "            {\n",
    "                prev = curr;\n",
    "                curr = i;\n",
    "            }\n",
    "            \n",
    "            if(prev != -1)\n",
    "            ans = max(ans, curr - prev);\n",
    "        }\n",
    "        \n",
    "        return ans;\n",
    "        \n",
    "    }\n",
    "};"
   ]
  },
  {
   "cell_type": "code",
   "execution_count": null,
   "id": "b1218cb9",
   "metadata": {
    "vscode": {
     "languageId": "cpp"
    }
   },
   "outputs": [],
   "source": []
  }
 ],
 "metadata": {
  "kernelspec": {
   "display_name": "C++17",
   "language": "C++17",
   "name": "xcpp17"
  },
  "language_info": {
   "codemirror_mode": "text/x-c++src",
   "file_extension": ".cpp",
   "mimetype": "text/x-c++src",
   "name": "c++",
   "version": "17"
  }
 },
 "nbformat": 4,
 "nbformat_minor": 5
}
