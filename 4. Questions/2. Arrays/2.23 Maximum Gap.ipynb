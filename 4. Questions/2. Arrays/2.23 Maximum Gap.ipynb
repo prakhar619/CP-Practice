{
 "cells": [
  {
   "cell_type": "markdown",
   "id": "d1f048aa",
   "metadata": {},
   "source": [
    "https://www.geeksforgeeks.org/problems/maximum-gap3845/1"
   ]
  },
  {
   "cell_type": "code",
   "execution_count": null,
   "id": "64e01305",
   "metadata": {
    "vscode": {
     "languageId": "plaintext"
    }
   },
   "outputs": [],
   "source": [
    "// User function template for C++\n",
    "class Solution {\n",
    "  public:\n",
    "    int maxSortedAdjacentDiff(vector<int>& arr) {\n",
    "        //bucket sort type sort for O(n) time complexity\n",
    "        \n",
    "        if(arr.size() == 1) return 0;\n",
    "        \n",
    "        int bucketSize = 0;\n",
    "        //assert i cannot be negative\n",
    "        for(int i: arr) bucketSize = max(bucketSize,i);\n",
    "        \n",
    "        vector<int> bucket(bucketSize+1, 0);\n",
    "        for(int i: arr) bucket[i] = 1;\n",
    "        \n",
    "        int curr = -1;\n",
    "        int prev = -1;\n",
    "        int ans = INT_MIN;\n",
    "        \n",
    "        for(int i = 0; i < bucket.size(); i++)\n",
    "        {\n",
    "            if(bucket[i] == 1)\n",
    "            {\n",
    "                prev = curr;\n",
    "                curr = i;\n",
    "            }\n",
    "            \n",
    "            if(prev != -1)\n",
    "            ans = max(ans, curr - prev);\n",
    "        }\n",
    "        \n",
    "        return ans;\n",
    "        \n",
    "    }\n",
    "};"
   ]
  }
 ],
 "metadata": {
  "language_info": {
   "name": "python"
  }
 },
 "nbformat": 4,
 "nbformat_minor": 5
}
