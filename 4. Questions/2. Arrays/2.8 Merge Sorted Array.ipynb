{
 "cells": [
  {
   "cell_type": "code",
   "execution_count": null,
   "id": "3cd216ee",
   "metadata": {
    "vscode": {
     "languageId": "plaintext"
    }
   },
   "outputs": [],
   "source": [
    "class Solution {\n",
    "public:\n",
    "    void merge(vector<int>& nums1, int m, vector<int>& nums2, int n) {\n",
    "        for(int i = n+m-1; i >= 0; i--)\n",
    "        {\n",
    "            if((n-1 < 0) || (m-1 >= 0 && nums1[m-1] > nums2[n-1]))\n",
    "            {\n",
    "                nums1[i] = nums1[m-1];\n",
    "                m--;\n",
    "            }\n",
    "            else\n",
    "            {\n",
    "                nums1[i] = nums2[n-1];\n",
    "                n--;\n",
    "            }\n",
    "        }\n",
    "    }\n",
    "};"
   ]
  },
  {
   "cell_type": "markdown",
   "id": "a48ac063",
   "metadata": {},
   "source": [
    "https://leetcode.com/problems/merge-sorted-array/"
   ]
  },
  {
   "cell_type": "markdown",
   "id": "098c7dd5",
   "metadata": {},
   "source": [
    "without extra space"
   ]
  }
 ],
 "metadata": {
  "language_info": {
   "name": "python"
  }
 },
 "nbformat": 4,
 "nbformat_minor": 5
}
