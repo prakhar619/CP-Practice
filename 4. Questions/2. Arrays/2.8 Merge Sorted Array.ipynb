{
 "cells": [
  {
   "cell_type": "markdown",
   "id": "ee036c06",
   "metadata": {},
   "source": [
    "#### Chapter 2: Arrays"
   ]
  },
  {
   "cell_type": "code",
   "execution_count": 1,
   "id": "b341b3f0",
   "metadata": {
    "vscode": {
     "languageId": "cpp"
    }
   },
   "outputs": [],
   "source": [
    "#include <vector>\n",
    "using namespace std;"
   ]
  },
  {
   "cell_type": "markdown",
   "id": "5f9da20a",
   "metadata": {},
   "source": [
    "### 8. Merge Sorted Array"
   ]
  },
  {
   "cell_type": "markdown",
   "id": "3c1fe0e0",
   "metadata": {},
   "source": [
    "> Merge 2 already sorted array without using any extra space. First array size is m+n (extra space) to store all elements."
   ]
  },
  {
   "cell_type": "markdown",
   "id": "a48ac063",
   "metadata": {},
   "source": [
    "*Leetcode Link:* https://leetcode.com/problems/merge-sorted-array/"
   ]
  },
  {
   "cell_type": "markdown",
   "id": "013a9ebd",
   "metadata": {},
   "source": [
    "**Best Possible Solution:**"
   ]
  },
  {
   "cell_type": "markdown",
   "id": "94a7d481",
   "metadata": {},
   "source": [
    "### Method 1\n",
    "Time Complexity: O(m+n)  \n",
    "Space Complexity: O(1)\n",
    "###### where n and m are sizes of input arrays"
   ]
  },
  {
   "cell_type": "code",
   "execution_count": null,
   "id": "3cd216ee",
   "metadata": {
    "vscode": {
     "languageId": "cpp"
    }
   },
   "outputs": [],
   "source": [
    "class Solution {\n",
    "public:\n",
    "    void merge(vector<int>& nums1, int m, vector<int>& nums2, int n) {\n",
    "        //using m and n as pointer itself\n",
    "        for(int i = n+m-1; i >= 0; i--)\n",
    "        {\n",
    "            if((n-1 < 0) || (m-1 >= 0 && nums1[m-1] > nums2[n-1]))\n",
    "            {\n",
    "                nums1[i] = nums1[m-1];\n",
    "                m--;\n",
    "            }\n",
    "            else\n",
    "            {\n",
    "                nums1[i] = nums2[n-1];\n",
    "                n--;\n",
    "            }\n",
    "        }\n",
    "    }\n",
    "};"
   ]
  }
 ],
 "metadata": {
  "kernelspec": {
   "display_name": "C++17",
   "language": "C++17",
   "name": "xcpp17"
  },
  "language_info": {
   "codemirror_mode": "text/x-c++src",
   "file_extension": ".cpp",
   "mimetype": "text/x-c++src",
   "name": "c++",
   "version": "17"
  }
 },
 "nbformat": 4,
 "nbformat_minor": 5
}
