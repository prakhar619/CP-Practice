{
 "cells": [
  {
   "cell_type": "markdown",
   "id": "bda8c02b",
   "metadata": {},
   "source": [
    "#### Chapter 2: Arrays"
   ]
  },
  {
   "cell_type": "code",
   "execution_count": 1,
   "id": "df17d69c",
   "metadata": {
    "vscode": {
     "languageId": "cpp"
    }
   },
   "outputs": [],
   "source": [
    "#include <vector>\n",
    "using namespace std;"
   ]
  },
  {
   "cell_type": "markdown",
   "id": "fa4c278d",
   "metadata": {},
   "source": [
    "#### 19. Reverse Pairs"
   ]
  },
  {
   "cell_type": "markdown",
   "id": "96fdd175",
   "metadata": {},
   "source": [
    ">A reverse pair is a pair (i, j) where:  \n",
    "0 <= i < j < nums.length and  \n",
    "nums[i] > 2 * nums[j]."
   ]
  },
  {
   "cell_type": "markdown",
   "id": "eb54407c",
   "metadata": {},
   "source": [
    "> Given an integer array nums, return the number of reverse pairs in the array.\n"
   ]
  },
  {
   "cell_type": "markdown",
   "id": "9ef2a081",
   "metadata": {},
   "source": [
    "*Leetcode Link:* https://leetcode.com/problems/reverse-pairs/"
   ]
  },
  {
   "cell_type": "markdown",
   "id": "eea0628f",
   "metadata": {},
   "source": [
    "**Best Possible Solution:**"
   ]
  },
  {
   "cell_type": "markdown",
   "id": "86218d57",
   "metadata": {},
   "source": [
    "### Method 1: Merge Sort Method\n",
    "Time Complexity: O(nlog n)  \n",
    "Space Complexity: O(n)\n",
    "###### where n is size of input array"
   ]
  },
  {
   "cell_type": "code",
   "execution_count": null,
   "id": "e4d75f43",
   "metadata": {
    "vscode": {
     "languageId": "cpp"
    }
   },
   "outputs": [],
   "source": [
    "class Solution {\n",
    "public:\n",
    "    int merge(vector<int>&nums, int low, int mid, int high)\n",
    "    {\n",
    "        vector<int> sorted(high-low+1);\n",
    "        int cnt = 0;\n",
    "        int indexSorted = 0;\n",
    "        int midMoving = mid+1;\n",
    "        int lowStay = low;\n",
    "        while(low <= mid && midMoving <= high)\n",
    "        {\n",
    "            if(nums[low] <= nums[midMoving])\n",
    "            {\n",
    "                sorted[indexSorted] = nums[low];\n",
    "                indexSorted += 1;\n",
    "                low++;\n",
    "            }\n",
    "            else\n",
    "            {\n",
    "                sorted[indexSorted] = nums[midMoving];\n",
    "                indexSorted += 1;\n",
    "                midMoving+=1;\n",
    "            }\n",
    "        }\n",
    "\n",
    "        while(low <= mid)\n",
    "        {\n",
    "                sorted[indexSorted] = nums[low];\n",
    "                indexSorted += 1;\n",
    "                low++; \n",
    "\n",
    "        }\n",
    "\n",
    "        while(midMoving <= high)\n",
    "        {\n",
    "                sorted[indexSorted] = nums[midMoving];\n",
    "                indexSorted += 1;\n",
    "                midMoving+=1;          \n",
    "        }\n",
    "\n",
    "        midMoving = mid+1;\n",
    "        for(int i = lowStay; i <= mid && midMoving <= high; i++)\n",
    "        {\n",
    "            //if element in low array is greater than mid array\n",
    "            if(ceil(nums[i]/2.0) >  nums[midMoving])        //num[i] > 2 * nums[midMoving] gives overflow error\n",
    "            {\n",
    "                //all low elements are greater than mid therefore add all combination of lows and mid element\n",
    "                cnt += mid - i + 1;\n",
    "                midMoving += 1;\n",
    "\n",
    "                //dont increment i (act as low pointer)\n",
    "                i--;\n",
    "            }\n",
    "        }\n",
    "\n",
    "        for(int i = 0; i < sorted.size(); i++)\n",
    "        {\n",
    "            nums[lowStay+i] = sorted[i];\n",
    "        }\n",
    "\n",
    "        return cnt;\n",
    "    }\n",
    "    int mergeSort(vector<int>& nums,int low, int high)\n",
    "    {\n",
    "        if(low >= high)\n",
    "        return 0;\n",
    "\n",
    "        long long cnt = 0;\n",
    "\n",
    "        int mid = (low + high) / 2;\n",
    "        cnt += mergeSort(nums, low, mid);\n",
    "        cnt += mergeSort(nums, mid+1, high);\n",
    "        cnt += merge(nums,low, mid, high);\n",
    "        return cnt;\n",
    "    }\n",
    "\n",
    "    int reversePairs(vector<int>& nums) {\n",
    "        return mergeSort(nums,0,nums.size()-1);\n",
    "    }\n",
    "};"
   ]
  }
 ],
 "metadata": {
  "kernelspec": {
   "display_name": "C++17",
   "language": "C++17",
   "name": "xcpp17"
  },
  "language_info": {
   "codemirror_mode": "text/x-c++src",
   "file_extension": ".cpp",
   "mimetype": "text/x-c++src",
   "name": "c++",
   "version": "17"
  }
 },
 "nbformat": 4,
 "nbformat_minor": 5
}
