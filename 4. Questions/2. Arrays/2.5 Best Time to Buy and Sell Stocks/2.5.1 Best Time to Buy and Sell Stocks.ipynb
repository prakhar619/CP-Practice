{
 "cells": [
  {
   "cell_type": "markdown",
   "id": "3d28ee85",
   "metadata": {},
   "source": [
    "https://leetcode.com/problems/best-time-to-buy-and-sell-stock/"
   ]
  },
  {
   "cell_type": "code",
   "execution_count": null,
   "id": "2bae7434",
   "metadata": {
    "vscode": {
     "languageId": "plaintext"
    }
   },
   "outputs": [],
   "source": [
    "class Solution {\n",
    "public:\n",
    "    int maxProfit(vector<int>& prices) {\n",
    "      int profit = 0;\n",
    "      int buyLowest = numeric_limits<int>:: max();\n",
    "      for(int i = 0; i < prices.size(); i++)\n",
    "      {\n",
    "            buyLowest = min(buyLowest, prices[i]);\n",
    "            profit = max(profit, prices[i] - buyLowest);\n",
    "      } \n",
    "      return profit; \n",
    "    }\n",
    "};"
   ]
  }
 ],
 "metadata": {
  "language_info": {
   "name": "python"
  }
 },
 "nbformat": 4,
 "nbformat_minor": 5
}
