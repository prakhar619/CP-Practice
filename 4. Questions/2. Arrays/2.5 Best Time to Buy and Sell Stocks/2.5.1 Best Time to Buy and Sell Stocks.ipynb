{
 "cells": [
  {
   "cell_type": "markdown",
   "id": "0dba1013",
   "metadata": {},
   "source": [
    "#### Chapter 2: Array"
   ]
  },
  {
   "cell_type": "code",
   "execution_count": 1,
   "id": "4091f22d",
   "metadata": {
    "vscode": {
     "languageId": "cpp"
    }
   },
   "outputs": [],
   "source": [
    "#include <vector>\n",
    "#include <limits>\n",
    "using namespace std;"
   ]
  },
  {
   "cell_type": "markdown",
   "id": "cfae7afe",
   "metadata": {},
   "source": [
    "### 5.1 Best Time to Buy and Sell Single Stock once"
   ]
  },
  {
   "cell_type": "markdown",
   "id": "9f09b5ca",
   "metadata": {},
   "source": [
    "> Given a array of prices of a single stock for a time period, ans the max profit you can make by 1 full transaction (buy and sell) a single stock"
   ]
  },
  {
   "cell_type": "markdown",
   "id": "3d28ee85",
   "metadata": {},
   "source": [
    "*Leetcode Link:* https://leetcode.com/problems/best-time-to-buy-and-sell-stock/"
   ]
  },
  {
   "cell_type": "markdown",
   "id": "0f588714",
   "metadata": {},
   "source": [
    "**Best Possible Solution:**"
   ]
  },
  {
   "cell_type": "markdown",
   "id": "5adb61ad",
   "metadata": {},
   "source": [
    "### Method 1\n",
    "Time Complexity: O(n)  \n",
    "Space Complexity: O(1) \n",
    "###### where n is size of input array "
   ]
  },
  {
   "cell_type": "code",
   "execution_count": null,
   "id": "2bae7434",
   "metadata": {
    "vscode": {
     "languageId": "cpp"
    }
   },
   "outputs": [],
   "source": [
    "class Solution {\n",
    "public:\n",
    "    int maxProfit(vector<int>& prices) {\n",
    "      int profit = 0;\n",
    "      int buyLowest = numeric_limits<int>:: max();\n",
    "      for(int i = 0; i < prices.size(); i++)\n",
    "      {\n",
    "            buyLowest = min(buyLowest, prices[i]);\n",
    "            profit = max(profit, prices[i] - buyLowest);\n",
    "      } \n",
    "      return profit; \n",
    "    }\n",
    "};"
   ]
  }
 ],
 "metadata": {
  "kernelspec": {
   "display_name": "C++17",
   "language": "C++17",
   "name": "xcpp17"
  },
  "language_info": {
   "codemirror_mode": "text/x-c++src",
   "file_extension": ".cpp",
   "mimetype": "text/x-c++src",
   "name": "c++",
   "version": "17"
  }
 },
 "nbformat": 4,
 "nbformat_minor": 5
}
