{
 "cells": [
  {
   "cell_type": "code",
   "execution_count": null,
   "id": "2a4fb7c1",
   "metadata": {
    "vscode": {
     "languageId": "plaintext"
    }
   },
   "outputs": [],
   "source": [
    "class Solution {\n",
    "public:\n",
    "    void setZeroes(vector<vector<int>>& matrix) {\n",
    "        //1. Order of execution (which part to change and how it effects)\n",
    "        //2. Edge case for 1st row & 1st col management (very difficult to see)\n",
    "\n",
    "        bool firstRowZero = false;\n",
    "        //its a switch to decide when (0,0) is zero then is it zero because of 1st row or 1st col\n",
    "        for(int i = 0; i < matrix.size(); i++)\n",
    "        {\n",
    "\n",
    "            for(int j = 0; j < matrix[i].size(); j++)\n",
    "            {\n",
    "                if(i == 0 && matrix[i][j] == 0)\n",
    "                firstRowZero = true;\n",
    "                //zero because of 1st row\n",
    "\n",
    "                else if(matrix[i][j] == 0)\n",
    "                {\n",
    "                    //1st row \n",
    "                    matrix[0][j] = 0;\n",
    "                    matrix[i][0] = 0;\n",
    "                }\n",
    "\n",
    "            }\n",
    "        }\n",
    "\n",
    "        //we have to start from back\n",
    "        for(int i = matrix.size()-1; i>= 1; i--) //we'll handle first col separetly\n",
    "        {\n",
    "            for(int j = matrix[i].size()-1; j>= 0; j--) \n",
    "            {\n",
    "                if(matrix[i][0] == 0 || matrix[0][j] == 0)\n",
    "                {\n",
    "                    matrix[i][j] = 0;\n",
    "                }\n",
    "            }\n",
    "        }\n",
    "\n",
    "        if(firstRowZero)\n",
    "        for(int j = 0; j < matrix[0].size(); j++)\n",
    "        {\n",
    "            matrix[0][j] = 0;\n",
    "        }\n",
    "\n",
    "    }\n",
    "};"
   ]
  },
  {
   "cell_type": "code",
   "execution_count": null,
   "id": "9adbebb6",
   "metadata": {
    "vscode": {
     "languageId": "plaintext"
    }
   },
   "outputs": [],
   "source": [
    "class Solution {\n",
    "public:\n",
    "    void setZeroes(vector<vector<int>>& matrix) {\n",
    "        bool zeroinFirstCol = false;\n",
    "        for (int row = 0; row < matrix.size(); row++) {\n",
    "            if (matrix[row][0] == 0) zeroinFirstCol = true;\n",
    "            for (int col = 1; col < matrix[0].size(); col++) {\n",
    "                if (matrix[row][col] == 0) {\n",
    "                    matrix[row][0] = 0;\n",
    "                    matrix[0][col] = 0;\n",
    "                }\n",
    "            }\n",
    "        }\n",
    "\n",
    "        for (int row = matrix.size() - 1; row >= 0; row--) {\n",
    "            for (int col = matrix[0].size() - 1; col >= 1; col--) {\n",
    "                if (matrix[row][0] == 0 || matrix[0][col] == 0) {\n",
    "                    matrix[row][col] = 0;\n",
    "                }\n",
    "            }\n",
    "            if (zeroinFirstCol) {\n",
    "                matrix[row][0] = 0;\n",
    "            }\n",
    "        }\n",
    "    }\n",
    "};"
   ]
  },
  {
   "cell_type": "markdown",
   "id": "c0c0f32c",
   "metadata": {},
   "source": [
    "https://leetcode.com/problems/set-matrix-zeroes/"
   ]
  }
 ],
 "metadata": {
  "language_info": {
   "name": "python"
  }
 },
 "nbformat": 4,
 "nbformat_minor": 5
}
