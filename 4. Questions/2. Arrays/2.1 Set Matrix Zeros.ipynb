{
 "cells": [
  {
   "cell_type": "markdown",
   "id": "921ce93d",
   "metadata": {},
   "source": [
    "##### Chapter 2: Arrays"
   ]
  },
  {
   "cell_type": "code",
   "execution_count": 1,
   "id": "acc771c6",
   "metadata": {
    "vscode": {
     "languageId": "cpp"
    }
   },
   "outputs": [],
   "source": [
    "#include <vector>\n",
    "#include <iostream>\n",
    "using namespace std;"
   ]
  },
  {
   "cell_type": "markdown",
   "id": "680a100b",
   "metadata": {},
   "source": [
    "### 1. Set Matrix Zeros"
   ]
  },
  {
   "cell_type": "markdown",
   "id": "788953eb",
   "metadata": {},
   "source": [
    "> In a 2d Matrix, if any element is zero, change all the elements in same row and column to zero"
   ]
  },
  {
   "cell_type": "markdown",
   "id": "c0c0f32c",
   "metadata": {},
   "source": [
    "*Leetcode Link:* https://leetcode.com/problems/set-matrix-zeroes/"
   ]
  },
  {
   "cell_type": "markdown",
   "id": "dd4594f6",
   "metadata": {},
   "source": [
    "**Best Possible Solution:**"
   ]
  },
  {
   "cell_type": "markdown",
   "id": "b7e6b860",
   "metadata": {},
   "source": [
    "### Method 1\n",
    "Time Complexity: O(n^2)  \n",
    "Space Complexity: O(1) "
   ]
  },
  {
   "cell_type": "code",
   "execution_count": null,
   "id": "2a4fb7c1",
   "metadata": {
    "vscode": {
     "languageId": "cpp"
    }
   },
   "outputs": [],
   "source": [
    "class Solution {\n",
    "public:\n",
    "    void setZeroes(vector<vector<int>>& matrix) {\n",
    "        //1. Order of execution (which part to change and how it effects)\n",
    "        //2. Edge case for 1st row & 1st col management (very difficult to see)\n",
    "\n",
    "        bool firstRowZero = false;\n",
    "        //its a switch to decide when (0,0) is zero then is it zero because of 1st row or 1st col\n",
    "        for(int i = 0; i < matrix.size(); i++)\n",
    "        {\n",
    "            for(int j = 0; j < matrix[i].size(); j++)\n",
    "            {\n",
    "                if(i == 0 && matrix[i][j] == 0)\n",
    "                firstRowZero = true;\n",
    "                //zero because of 1st row\n",
    "\n",
    "                else if(matrix[i][j] == 0)\n",
    "                {\n",
    "                    //1st row \n",
    "                    matrix[0][j] = 0;\n",
    "                    matrix[i][0] = 0;\n",
    "                }\n",
    "            }\n",
    "        }\n",
    "\n",
    "        //we have to start from back\n",
    "        for(int i = matrix.size()-1; i>= 1; i--) //we'll handle first row separetly\n",
    "        {\n",
    "            for(int j = matrix[i].size()-1; j>= 0; j--) \n",
    "            {\n",
    "                if(matrix[i][0] == 0 || matrix[0][j] == 0)\n",
    "                {\n",
    "                    matrix[i][j] = 0;\n",
    "                }\n",
    "            }\n",
    "        }\n",
    "\n",
    "        if(firstRowZero)\n",
    "        for(int j = 0; j < matrix[0].size(); j++)\n",
    "        {\n",
    "            matrix[0][j] = 0;\n",
    "        }\n",
    "    }\n",
    "};"
   ]
  },
  {
   "cell_type": "code",
   "execution_count": null,
   "id": "9adbebb6",
   "metadata": {
    "vscode": {
     "languageId": "cpp"
    }
   },
   "outputs": [],
   "source": [
    "class Solution {\n",
    "public:\n",
    "    void setZeroes(vector<vector<int>>& matrix) {\n",
    "        bool zeroinFirstCol = false;\n",
    "        for (int row = 0; row < matrix.size(); row++) {\n",
    "            if (matrix[row][0] == 0) zeroinFirstCol = true;\n",
    "            for (int col = 1; col < matrix[0].size(); col++) {\n",
    "                if (matrix[row][col] == 0) {\n",
    "                    matrix[row][0] = 0;\n",
    "                    matrix[0][col] = 0;\n",
    "                }\n",
    "            }\n",
    "        }\n",
    "\n",
    "        for (int row = matrix.size() - 1; row >= 0; row--) {\n",
    "            for (int col = matrix[0].size() - 1; col >= 1; col--) {\n",
    "                if (matrix[row][0] == 0 || matrix[0][col] == 0) {\n",
    "                    matrix[row][col] = 0;\n",
    "                }\n",
    "            }\n",
    "            if (zeroinFirstCol) {\n",
    "                matrix[row][0] = 0;\n",
    "            }\n",
    "        }\n",
    "    }\n",
    "};"
   ]
  },
  {
   "cell_type": "markdown",
   "id": "c990d569",
   "metadata": {},
   "source": []
  }
 ],
 "metadata": {
  "kernelspec": {
   "display_name": "C++17",
   "language": "C++17",
   "name": "xcpp17"
  },
  "language_info": {
   "codemirror_mode": "text/x-c++src",
   "file_extension": ".cpp",
   "mimetype": "text/x-c++src",
   "name": "c++",
   "version": "17"
  }
 },
 "nbformat": 4,
 "nbformat_minor": 5
}
