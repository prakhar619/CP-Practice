{
 "cells": [
  {
   "cell_type": "markdown",
   "id": "48d97c0b",
   "metadata": {},
   "source": [
    "https://www.geeksforgeeks.org/problems/circular-tour-1587115620/1"
   ]
  },
  {
   "cell_type": "code",
   "execution_count": null,
   "id": "5c8b8c23",
   "metadata": {
    "vscode": {
     "languageId": "plaintext"
    }
   },
   "outputs": [],
   "source": [
    "class Solution {\n",
    "  public:\n",
    "    int startStation(vector<int> &gas, vector<int> &cost) {\n",
    "        int total = 0, current = 0, start = 0;\n",
    "        for (int i = 0; i < gas.size(); ++i) {\n",
    "            int gain = gas[i] - cost[i];\n",
    "            total += gain;\n",
    "            current += gain;\n",
    "            if (current < 0) {\n",
    "                // can't reach i+1 from current start, restart from i+1\n",
    "                start = i + 1;\n",
    "                current = 0;\n",
    "            }\n",
    "        }\n",
    "        return (total >= 0) ? start : -1;\n",
    "    }\n",
    "};\n"
   ]
  }
 ],
 "metadata": {
  "language_info": {
   "name": "python"
  }
 },
 "nbformat": 4,
 "nbformat_minor": 5
}
