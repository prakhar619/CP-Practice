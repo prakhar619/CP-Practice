{
 "cells": [
  {
   "cell_type": "markdown",
   "id": "49dae283",
   "metadata": {},
   "source": [
    "#### Chapter 2: Arrays"
   ]
  },
  {
   "cell_type": "code",
   "execution_count": 1,
   "id": "783259bf",
   "metadata": {
    "vscode": {
     "languageId": "cpp"
    }
   },
   "outputs": [],
   "source": [
    "#include <vector>\n",
    "using namespace std;"
   ]
  },
  {
   "cell_type": "markdown",
   "id": "1ba4a4fa",
   "metadata": {},
   "source": [
    "### 24. Gas Station"
   ]
  },
  {
   "cell_type": "markdown",
   "id": "3e01b43e",
   "metadata": {},
   "source": [
    ">There are some gas stations along a circular route. You are given two integer arrays gas[] denoted as the amount of gas present at each station and cost[] denoted as the cost of travelling to the next station.   \n",
    "You have a car with an unlimited gas tank.  \n",
    "You begin the journey with an empty tank from one of the gas stations. Return the index of the starting gas station if it's possible to travel around the circuit without running out of gas at any station in a clockwise direction. If there is no such starting station exists, return -1."
   ]
  },
  {
   "cell_type": "markdown",
   "id": "48d97c0b",
   "metadata": {},
   "source": [
    "*Leetcode Link:* https://www.geeksforgeeks.org/problems/circular-tour-1587115620/1"
   ]
  },
  {
   "cell_type": "markdown",
   "id": "3dda8ebf",
   "metadata": {},
   "source": [
    "**Best Possible Solution:**"
   ]
  },
  {
   "cell_type": "markdown",
   "id": "15cb2f70",
   "metadata": {},
   "source": [
    "### Method 1\n",
    "Time Complexity: O(n)  \n",
    "Space Complexity: O(1)\n",
    "###### where n is size of input array"
   ]
  },
  {
   "cell_type": "code",
   "execution_count": null,
   "id": "5c8b8c23",
   "metadata": {
    "vscode": {
     "languageId": "cpp"
    }
   },
   "outputs": [],
   "source": [
    "class Solution {\n",
    "  public:\n",
    "    int startStation(vector<int> &gas, vector<int> &cost) {\n",
    "        int total = 0, current = 0, start = 0;\n",
    "        for (int i = 0; i < gas.size(); ++i) {\n",
    "            int gain = gas[i] - cost[i];\n",
    "            total += gain;\n",
    "            current += gain;\n",
    "            if (current < 0) {\n",
    "                // can't reach i+1 from current start, restart from i+1\n",
    "                start = i + 1;\n",
    "                current = 0;\n",
    "            }\n",
    "        }\n",
    "        return (total >= 0) ? start : -1;\n",
    "    }\n",
    "};\n"
   ]
  }
 ],
 "metadata": {
  "kernelspec": {
   "display_name": "C++17",
   "language": "C++17",
   "name": "xcpp17"
  },
  "language_info": {
   "codemirror_mode": "text/x-c++src",
   "file_extension": ".cpp",
   "mimetype": "text/x-c++src",
   "name": "c++",
   "version": "17"
  }
 },
 "nbformat": 4,
 "nbformat_minor": 5
}
