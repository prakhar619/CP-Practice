{
 "cells": [
  {
   "cell_type": "markdown",
   "id": "16cf9887",
   "metadata": {},
   "source": [
    "https://leetcode.com/problems/jump-game/"
   ]
  },
  {
   "cell_type": "code",
   "execution_count": null,
   "id": "fe9d3409",
   "metadata": {
    "vscode": {
     "languageId": "plaintext"
    }
   },
   "outputs": [],
   "source": [
    "class Solution {\n",
    "public:\n",
    "    bool canJump(vector<int>& nums) {\n",
    "        int currentMax = 0;\n",
    "        for(int i = 0; i < nums.size(); i++)\n",
    "        {\n",
    "            if(i <= currentMax)\n",
    "            {\n",
    "                currentMax = max(i+nums[i], currentMax);\n",
    "            }\n",
    "            else\n",
    "            {\n",
    "                return false;\n",
    "            }\n",
    "        }\n",
    "        return true;\n",
    "    }\n",
    "};"
   ]
  }
 ],
 "metadata": {
  "language_info": {
   "name": "python"
  }
 },
 "nbformat": 4,
 "nbformat_minor": 5
}
