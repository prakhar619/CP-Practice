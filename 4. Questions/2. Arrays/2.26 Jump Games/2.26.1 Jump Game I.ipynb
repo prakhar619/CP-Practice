{
 "cells": [
  {
   "cell_type": "markdown",
   "id": "3443aa7b",
   "metadata": {},
   "source": [
    "#### Chapter 2: Arrays"
   ]
  },
  {
   "cell_type": "code",
   "execution_count": 1,
   "id": "e1d601db",
   "metadata": {
    "vscode": {
     "languageId": "cpp"
    }
   },
   "outputs": [],
   "source": [
    "#include <vector>\n",
    "using namespace std;"
   ]
  },
  {
   "cell_type": "markdown",
   "id": "a263dc59",
   "metadata": {},
   "source": [
    "### 26.1 Jump Game I"
   ]
  },
  {
   "cell_type": "markdown",
   "id": "8f10d62b",
   "metadata": {},
   "source": [
    "> Check whether we can reach last array element when only first is accessible first and we can max jump from nth index at nums[n]"
   ]
  },
  {
   "cell_type": "markdown",
   "id": "16cf9887",
   "metadata": {},
   "source": [
    "*Leetcode Link:* https://leetcode.com/problems/jump-game/"
   ]
  },
  {
   "cell_type": "markdown",
   "id": "7e01c5cc",
   "metadata": {},
   "source": [
    "**Best Possible Solution:**"
   ]
  },
  {
   "cell_type": "markdown",
   "id": "374c8e7c",
   "metadata": {},
   "source": [
    "### Method 1\n",
    "Time Complexity: O(n)  \n",
    "Space Complexity: O(1)\n",
    "###### where n is size of input array"
   ]
  },
  {
   "cell_type": "code",
   "execution_count": null,
   "id": "fe9d3409",
   "metadata": {
    "vscode": {
     "languageId": "cpp"
    }
   },
   "outputs": [],
   "source": [
    "class Solution {\n",
    "public:\n",
    "    bool canJump(vector<int>& nums) {\n",
    "        int currentMax = 0;\n",
    "        for(int i = 0; i < nums.size(); i++)\n",
    "        {\n",
    "            if(i <= currentMax)\n",
    "            {\n",
    "                currentMax = max(i+nums[i], currentMax);\n",
    "            }\n",
    "            else\n",
    "            {\n",
    "                return false;\n",
    "            }\n",
    "        }\n",
    "        return true;\n",
    "    }\n",
    "};"
   ]
  }
 ],
 "metadata": {
  "kernelspec": {
   "display_name": "C++17",
   "language": "C++17",
   "name": "xcpp17"
  },
  "language_info": {
   "codemirror_mode": "text/x-c++src",
   "file_extension": ".cpp",
   "mimetype": "text/x-c++src",
   "name": "c++",
   "version": "17"
  }
 },
 "nbformat": 4,
 "nbformat_minor": 5
}
