{
 "cells": [
  {
   "cell_type": "markdown",
   "id": "4c30e69e",
   "metadata": {},
   "source": [
    "#### Chapter 2: Arrays"
   ]
  },
  {
   "cell_type": "code",
   "execution_count": null,
   "id": "3d62b34c",
   "metadata": {
    "vscode": {
     "languageId": "cpp"
    }
   },
   "outputs": [],
   "source": [
    "#include <vector>\n",
    "using namespace std;"
   ]
  },
  {
   "cell_type": "markdown",
   "id": "48ef37d1",
   "metadata": {},
   "source": [
    "### 17. Subarray Sum Equals K"
   ]
  },
  {
   "cell_type": "markdown",
   "id": "ecd3b342",
   "metadata": {},
   "source": [
    ">Given an array of integers nums and an integer k, return the total number of subarrays whose sum equals to k."
   ]
  },
  {
   "cell_type": "markdown",
   "id": "e128e44c",
   "metadata": {},
   "source": [
    "*Leetcode Link:* https://leetcode.com/problems/subarray-sum-equals-k/"
   ]
  },
  {
   "cell_type": "markdown",
   "id": "1a4539c4",
   "metadata": {},
   "source": [
    "**Best Possible Solution:**"
   ]
  },
  {
   "cell_type": "markdown",
   "id": "12028b18",
   "metadata": {},
   "source": [
    "### Method 1\n",
    "Time Complexity: O(n)  \n",
    "Space Complexity: O(n)\n",
    "###### where n is size of input array"
   ]
  },
  {
   "cell_type": "code",
   "execution_count": null,
   "id": "19675261",
   "metadata": {
    "vscode": {
     "languageId": "cpp"
    }
   },
   "outputs": [],
   "source": [
    "class Solution {\n",
    "public:\n",
    "    int subarraySum(vector<int>& nums, int k) {\n",
    "        unordered_map<int,int> umap;\n",
    "        umap[0]=1;\n",
    "        int sum = 0;\n",
    "        int ans = 0;\n",
    "        for(int i : nums)\n",
    "        {\n",
    "            sum += i;\n",
    "            //find if extra part after k - sum, is present in map (meaning this part can  be removed)\n",
    "            if(umap.find(-(k - sum)) != umap.end())\n",
    "            ans += umap[-(k - sum)];\n",
    "\n",
    "            //save all subarray sum\n",
    "            umap[sum]++;\n",
    "        }\n",
    "        return ans;\n",
    "    }\n",
    "};"
   ]
  }
 ],
 "metadata": {
  "kernelspec": {
   "display_name": "C++17",
   "language": "C++17",
   "name": "xcpp17"
  },
  "language_info": {
   "codemirror_mode": "text/x-c++src",
   "file_extension": ".cpp",
   "mimetype": "text/x-c++src",
   "name": "c++",
   "version": "17"
  }
 },
 "nbformat": 4,
 "nbformat_minor": 5
}
