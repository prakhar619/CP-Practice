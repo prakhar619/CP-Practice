{
 "cells": [
  {
   "cell_type": "code",
   "execution_count": null,
   "id": "19675261",
   "metadata": {
    "vscode": {
     "languageId": "plaintext"
    }
   },
   "outputs": [],
   "source": [
    "class Solution {\n",
    "public:\n",
    "    int subarraySum(vector<int>& nums, int k) {\n",
    "        unordered_map<int,int> uset;\n",
    "        uset[0]=1;\n",
    "        int sum = 0;\n",
    "        int ans = 0;\n",
    "        for(int i : nums)\n",
    "        {\n",
    "            sum += i;\n",
    "            if(uset.find(-(k - sum)) != uset.end())\n",
    "            ans += uset[-(k - sum)];\n",
    "\n",
    "            uset[sum]++;\n",
    "        }\n",
    "        return ans;\n",
    "    }\n",
    "};"
   ]
  },
  {
   "cell_type": "markdown",
   "id": "e128e44c",
   "metadata": {},
   "source": [
    "https://leetcode.com/problems/subarray-sum-equals-k/"
   ]
  }
 ],
 "metadata": {
  "language_info": {
   "name": "python"
  }
 },
 "nbformat": 4,
 "nbformat_minor": 5
}
