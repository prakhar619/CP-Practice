{
 "cells": [
  {
   "cell_type": "code",
   "execution_count": null,
   "id": "cfc4f79d",
   "metadata": {
    "vscode": {
     "languageId": "plaintext"
    }
   },
   "outputs": [],
   "source": [
    "class Solution {\n",
    "public:\n",
    "    vector<vector<int>> merge(vector<vector<int>>& intervals) {\n",
    "        sort(intervals.begin(), intervals.end(), [](const vector<int>& a, const vector<int>& b){ return a[0] < b[0];});\n",
    "\n",
    "        int i = 0; \n",
    "        int j = 1;\n",
    "        vector<vector<int>> ans;\n",
    "        while(j < intervals.size())\n",
    "        {\n",
    "            if(intervals[i][0] <= intervals[j][0] && intervals[i][1] >= intervals[j][0])\n",
    "            {\n",
    "                intervals[i][1] = max(intervals[i][1], intervals[j][1]);\n",
    "                j++;\n",
    "            }\n",
    "            else\n",
    "            {\n",
    "                ans.push_back(intervals[i]);\n",
    "                i = j;\n",
    "            }\n",
    "        }\n",
    "\n",
    "        ans.push_back(intervals[i]);\n",
    "        return ans;\n",
    "    }\n",
    "};"
   ]
  },
  {
   "cell_type": "markdown",
   "id": "b1bc4a2d",
   "metadata": {},
   "source": [
    "https://leetcode.com/problems/merge-intervals/"
   ]
  }
 ],
 "metadata": {
  "language_info": {
   "name": "python"
  }
 },
 "nbformat": 4,
 "nbformat_minor": 5
}
