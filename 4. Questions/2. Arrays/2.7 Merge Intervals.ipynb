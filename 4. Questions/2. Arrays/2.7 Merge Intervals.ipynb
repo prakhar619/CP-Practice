{
 "cells": [
  {
   "cell_type": "markdown",
   "id": "887ed307",
   "metadata": {},
   "source": [
    "#### Chapter 2: Arrays"
   ]
  },
  {
   "cell_type": "code",
   "execution_count": 2,
   "id": "2b6d5d49",
   "metadata": {
    "vscode": {
     "languageId": "cpp"
    }
   },
   "outputs": [],
   "source": [
    "#include <vector>\n",
    "#include <algorithm>\n",
    "using namespace std;"
   ]
  },
  {
   "cell_type": "markdown",
   "id": "eb511752",
   "metadata": {},
   "source": [
    "### 7. Merge Intervals"
   ]
  },
  {
   "cell_type": "markdown",
   "id": "f6c59ff7",
   "metadata": {},
   "source": [
    "> Given a 2d array where each element (vector) consists of startInterval and endInterval, merge interval which intersect each other"
   ]
  },
  {
   "cell_type": "markdown",
   "id": "b1bc4a2d",
   "metadata": {},
   "source": [
    "*Leetcode Link:* https://leetcode.com/problems/merge-intervals/"
   ]
  },
  {
   "cell_type": "markdown",
   "id": "73b11039",
   "metadata": {},
   "source": [
    "**Best Possible Solution**"
   ]
  },
  {
   "cell_type": "markdown",
   "id": "43259b9e",
   "metadata": {},
   "source": [
    "### Method 1\n",
    "Time Complexity: O(nlog n)  \n",
    "Space Complexity: O(1)\n",
    "###### where n is size of input array"
   ]
  },
  {
   "cell_type": "code",
   "execution_count": null,
   "id": "cfc4f79d",
   "metadata": {
    "vscode": {
     "languageId": "cpp"
    }
   },
   "outputs": [],
   "source": [
    "class Solution {\n",
    "public:\n",
    "    vector<vector<int>> merge(vector<vector<int>>& intervals) {\n",
    "        //use anom functions where easily applicable\n",
    "        sort(intervals.begin(), intervals.end(), [](const vector<int>& a, const vector<int>& b){return a[0] < b[0];});\n",
    "\n",
    "        int i = 0; \n",
    "        int j = 1;\n",
    "        vector<vector<int>> ans;\n",
    "        while(j < intervals.size())\n",
    "        {\n",
    "            if(intervals[i][0] <= intervals[j][0] && intervals[i][1] >= intervals[j][0])\n",
    "            {\n",
    "                intervals[i][1] = max(intervals[i][1], intervals[j][1]);\n",
    "                j++;\n",
    "            }\n",
    "            else\n",
    "            {\n",
    "                ans.push_back(intervals[i]);\n",
    "                i = j;\n",
    "            }\n",
    "        }\n",
    "\n",
    "        ans.push_back(intervals[i]);\n",
    "        return ans;\n",
    "    }\n",
    "};"
   ]
  }
 ],
 "metadata": {
  "kernelspec": {
   "display_name": "C++17",
   "language": "C++17",
   "name": "xcpp17"
  },
  "language_info": {
   "codemirror_mode": "text/x-c++src",
   "file_extension": ".cpp",
   "mimetype": "text/x-c++src",
   "name": "c++",
   "version": "17"
  }
 },
 "nbformat": 4,
 "nbformat_minor": 5
}
