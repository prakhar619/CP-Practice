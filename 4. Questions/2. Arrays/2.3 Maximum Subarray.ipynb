{
 "cells": [
  {
   "cell_type": "code",
   "execution_count": null,
   "id": "13a24cfe",
   "metadata": {
    "vscode": {
     "languageId": "plaintext"
    }
   },
   "outputs": [],
   "source": [
    "class Solution {\n",
    "public:\n",
    "    int maxSubArray(vector<int>& nums) {\n",
    "        int maxSum = numeric_limits<int>::min(); \n",
    "        int currentSum = 0;\n",
    "        for(int i = 0; i < nums.size(); i++)\n",
    "        {\n",
    "            currentSum = max(currentSum + nums[i], nums[i]);\n",
    "            maxSum = max(maxSum, currentSum);\n",
    "        }\n",
    "        return maxSum;\n",
    "    }\n",
    "};"
   ]
  },
  {
   "cell_type": "markdown",
   "id": "49c1c2a9",
   "metadata": {},
   "source": [
    "https://leetcode.com/problems/maximum-subarray/"
   ]
  }
 ],
 "metadata": {
  "language_info": {
   "name": "python"
  }
 },
 "nbformat": 4,
 "nbformat_minor": 5
}
