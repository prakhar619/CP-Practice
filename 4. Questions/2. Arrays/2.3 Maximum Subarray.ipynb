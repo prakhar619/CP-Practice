{
 "cells": [
  {
   "cell_type": "markdown",
   "id": "1875f32f",
   "metadata": {},
   "source": [
    "#### Chapter 2: Arrays"
   ]
  },
  {
   "cell_type": "code",
   "execution_count": 1,
   "id": "f26eca88",
   "metadata": {
    "vscode": {
     "languageId": "cpp"
    }
   },
   "outputs": [],
   "source": [
    "#include <vector>\n",
    "#include <limits>\n",
    "using namespace std;"
   ]
  },
  {
   "cell_type": "markdown",
   "id": "a41f2add",
   "metadata": {},
   "source": [
    "### 3. Maximum Subarray Problem"
   ]
  },
  {
   "cell_type": "markdown",
   "id": "04d6ddb6",
   "metadata": {},
   "source": [
    "> Find the maximum sum possible using a subarray of input array"
   ]
  },
  {
   "cell_type": "markdown",
   "id": "49c1c2a9",
   "metadata": {},
   "source": [
    "*Leetcode Link:* https://leetcode.com/problems/maximum-subarray/"
   ]
  },
  {
   "cell_type": "markdown",
   "id": "9193fd20",
   "metadata": {},
   "source": [
    "**Best Solution Possible:**"
   ]
  },
  {
   "cell_type": "markdown",
   "id": "f96ab98c",
   "metadata": {},
   "source": [
    "### Method 1: Kadane's Algorithm\n",
    "Time Complexity: O(n)  \n",
    "Space Complexity: O(1)  \n",
    "###### where n is size of input"
   ]
  },
  {
   "cell_type": "code",
   "execution_count": null,
   "id": "13a24cfe",
   "metadata": {
    "vscode": {
     "languageId": "cpp"
    }
   },
   "outputs": [],
   "source": [
    "class Solution {\n",
    "public:\n",
    "    int maxSubArray(vector<int>& nums) {\n",
    "        int maxSum = numeric_limits<int>::min(); \n",
    "        int currentSum = 0;\n",
    "        for(int i = 0; i < nums.size(); i++)\n",
    "        {\n",
    "            //best way to lose past information and start new\n",
    "            currentSum = max(currentSum + nums[i], nums[i]);\n",
    "            maxSum = max(maxSum, currentSum);\n",
    "        }\n",
    "        return maxSum;\n",
    "    }\n",
    "};"
   ]
  }
 ],
 "metadata": {
  "kernelspec": {
   "display_name": "C++17",
   "language": "C++17",
   "name": "xcpp17"
  },
  "language_info": {
   "codemirror_mode": "text/x-c++src",
   "file_extension": ".cpp",
   "mimetype": "text/x-c++src",
   "name": "c++",
   "version": "17"
  }
 },
 "nbformat": 4,
 "nbformat_minor": 5
}
