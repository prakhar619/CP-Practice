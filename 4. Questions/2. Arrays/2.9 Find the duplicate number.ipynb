{
 "cells": [
  {
   "cell_type": "markdown",
   "id": "8a714db1",
   "metadata": {},
   "source": [
    "#### Chapter 2: Arrays"
   ]
  },
  {
   "cell_type": "code",
   "execution_count": 1,
   "id": "de511305",
   "metadata": {
    "vscode": {
     "languageId": "cpp"
    }
   },
   "outputs": [],
   "source": [
    "#include <vector>\n",
    "using namespace std;"
   ]
  },
  {
   "cell_type": "markdown",
   "id": "f2bc3b80",
   "metadata": {},
   "source": [
    "### 9. Find the duplicate number"
   ]
  },
  {
   "cell_type": "markdown",
   "id": "320c0a39",
   "metadata": {},
   "source": [
    "> Given an array of size n+1, with integers starting from 1 to n, find the duplicate number"
   ]
  },
  {
   "cell_type": "markdown",
   "id": "dc373bd2",
   "metadata": {},
   "source": [
    "*Leetcode Link:* https://leetcode.com/problems/find-the-duplicate-number/"
   ]
  },
  {
   "cell_type": "markdown",
   "id": "03deb1aa",
   "metadata": {},
   "source": [
    "**Best Possible Solution:**"
   ]
  },
  {
   "cell_type": "markdown",
   "id": "b5f3fee3",
   "metadata": {},
   "source": [
    "### Method 1: Floyd's Algorithm or  Hare Turtoise Method for Linked List Cycle\n",
    "Time Complexity: O(2n)    \n",
    "Space Complexity: O(1)\n",
    "###### where n is no of element in array"
   ]
  },
  {
   "cell_type": "code",
   "execution_count": null,
   "id": "bbeced53",
   "metadata": {
    "vscode": {
     "languageId": "cpp"
    }
   },
   "outputs": [],
   "source": [
    "class Solution {\n",
    "public:\n",
    "    int findDuplicate(vector<int>& nums) {\n",
    "        int fast = nums[0];\n",
    "        int slow = nums[0];\n",
    "\n",
    "        do\n",
    "        {\n",
    "            fast = nums[nums[fast]];\n",
    "            slow = nums[slow];\n",
    "        }\n",
    "        while(fast != slow);\n",
    "\n",
    "        fast = nums[0];\n",
    "\n",
    "        while(fast != slow)\n",
    "        {\n",
    "            fast = nums[fast];\n",
    "            slow = nums[slow];\n",
    "        }\n",
    "\n",
    "        return fast;\n",
    "    }\n",
    "};"
   ]
  },
  {
   "cell_type": "markdown",
   "id": "a705fb87",
   "metadata": {},
   "source": [
    "### Method 2: \n",
    "Time Complexity: O(n)  \n",
    "Space Complexity: O(1)"
   ]
  },
  {
   "cell_type": "code",
   "execution_count": null,
   "id": "40a73fec",
   "metadata": {
    "vscode": {
     "languageId": "cpp"
    }
   },
   "outputs": [],
   "source": [
    "class Solution {\n",
    "public:\n",
    "    int findDuplicate(vector<int>& nums) {\n",
    "        int n=nums.size()-1;\n",
    "        int i=0;\n",
    "        int temp;\n",
    "        for( i=0; i<=n; i++)\n",
    "        {\n",
    "            //at each index, go to nums[index] and mark it -ve, [if already negative you found your ans]\n",
    "            temp=abs(nums[i]);\n",
    "            if(nums[temp]<0)\n",
    "            {\n",
    "                break;\n",
    "            }\n",
    "            nums[temp]=nums[temp]*(-1);\n",
    "        }\n",
    "        return temp;\n",
    "    }\n",
    "};"
   ]
  }
 ],
 "metadata": {
  "kernelspec": {
   "display_name": "C++17",
   "language": "C++17",
   "name": "xcpp17"
  },
  "language_info": {
   "codemirror_mode": "text/x-c++src",
   "file_extension": ".cpp",
   "mimetype": "text/x-c++src",
   "name": "c++",
   "version": "17"
  }
 },
 "nbformat": 4,
 "nbformat_minor": 5
}
