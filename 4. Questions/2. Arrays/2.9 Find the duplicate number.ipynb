{
 "cells": [
  {
   "cell_type": "code",
   "execution_count": null,
   "id": "bbeced53",
   "metadata": {
    "vscode": {
     "languageId": "plaintext"
    }
   },
   "outputs": [],
   "source": [
    "class Solution {\n",
    "public:\n",
    "    int findDuplicate(vector<int>& nums) {\n",
    "        int fast = nums[0];\n",
    "        int slow = nums[0];\n",
    "\n",
    "        do\n",
    "        {\n",
    "            fast = nums[nums[fast]];\n",
    "            slow = nums[slow];\n",
    "        }\n",
    "        while(fast != slow);\n",
    "\n",
    "        fast = nums[0];\n",
    "\n",
    "        while(fast != slow)\n",
    "        {\n",
    "            fast = nums[fast];\n",
    "            slow = nums[slow];\n",
    "        }\n",
    "\n",
    "        return fast;\n",
    "    }\n",
    "};"
   ]
  },
  {
   "cell_type": "code",
   "execution_count": null,
   "id": "40a73fec",
   "metadata": {
    "vscode": {
     "languageId": "plaintext"
    }
   },
   "outputs": [],
   "source": [
    "class Solution {\n",
    "public:\n",
    "    int findDuplicate(vector<int>& nums) {\n",
    "        int n=nums.size()-1;\n",
    "        int i=0;\n",
    "        int temp;\n",
    "        for( i=0; i<=n; i++)\n",
    "        {\n",
    "            temp=abs(nums[i]);\n",
    "            if(nums[temp]<0)\n",
    "            {\n",
    "                break;\n",
    "            }\n",
    "            nums[temp]=nums[temp]*(-1);\n",
    "        }\n",
    "        return temp;\n",
    "    }\n",
    "};"
   ]
  },
  {
   "cell_type": "markdown",
   "id": "b0c2d98e",
   "metadata": {},
   "source": [
    "4 Methods easily: 2 provided. Other 2 O(n) either space or time."
   ]
  },
  {
   "cell_type": "markdown",
   "id": "49cb8274",
   "metadata": {},
   "source": [
    "Floyd Hare Turtoise Method\n",
    "Linked List Cycle"
   ]
  }
 ],
 "metadata": {
  "language_info": {
   "name": "python"
  }
 },
 "nbformat": 4,
 "nbformat_minor": 5
}
