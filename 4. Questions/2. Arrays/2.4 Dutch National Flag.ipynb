{
 "cells": [
  {
   "cell_type": "markdown",
   "id": "2a9c50c1",
   "metadata": {},
   "source": [
    "#### Chapter 2: Arrays"
   ]
  },
  {
   "cell_type": "code",
   "execution_count": null,
   "id": "cbc342f3",
   "metadata": {
    "vscode": {
     "languageId": "cpp"
    }
   },
   "outputs": [],
   "source": [
    "#include <vector>\n",
    "#include <algorithm>\n",
    "using namespace std;"
   ]
  },
  {
   "cell_type": "markdown",
   "id": "e0186187",
   "metadata": {},
   "source": [
    "### 4. Dutch National Flag"
   ]
  },
  {
   "cell_type": "markdown",
   "id": "caf9378a",
   "metadata": {},
   "source": [
    "> Sort an array consisting of 0s, 1s and 2s."
   ]
  },
  {
   "cell_type": "markdown",
   "id": "c6429936",
   "metadata": {},
   "source": [
    "*Leetcode Link:* https://leetcode.com/problems/sort-colors/"
   ]
  },
  {
   "cell_type": "markdown",
   "id": "93e795f8",
   "metadata": {},
   "source": [
    "**Best Possible Solution:**"
   ]
  },
  {
   "cell_type": "markdown",
   "id": "d6af06e7",
   "metadata": {},
   "source": [
    "### Method 1\n",
    "Time Complexity: O(n)  \n",
    "Space Complexity: O(1)\n",
    "###### where n is size of input array"
   ]
  },
  {
   "cell_type": "code",
   "execution_count": null,
   "id": "8056346c",
   "metadata": {
    "vscode": {
     "languageId": "cpp"
    }
   },
   "outputs": [],
   "source": [
    "class Solution {\n",
    "public:\n",
    "    void sortColors(vector<int>& nums) {\n",
    "        int low = 0; \n",
    "        int high = nums.size()-1;\n",
    "\n",
    "        for(int i = 0; i <= high; i++)\n",
    "        {\n",
    "            if(nums[i] == 0)\n",
    "            {\n",
    "                swap(nums[low], nums[i]);\n",
    "                low++;\n",
    "            }\n",
    "            else if(nums[i] == 2)\n",
    "            {\n",
    "                swap(nums[high], nums[i]);\n",
    "                high--;\n",
    "\n",
    "                //for edge case try [1,2,0]\n",
    "                i--;\n",
    "            }\n",
    "\n",
    "        }\n",
    "    }\n",
    "};"
   ]
  }
 ],
 "metadata": {
  "language_info": {
   "name": "python"
  }
 },
 "nbformat": 4,
 "nbformat_minor": 5
}
