{
 "cells": [
  {
   "cell_type": "markdown",
   "id": "c6429936",
   "metadata": {},
   "source": [
    "https://leetcode.com/problems/sort-colors/description/"
   ]
  },
  {
   "cell_type": "code",
   "execution_count": null,
   "id": "8056346c",
   "metadata": {
    "vscode": {
     "languageId": "plaintext"
    }
   },
   "outputs": [],
   "source": [
    "class Solution {\n",
    "public:\n",
    "    void sortColors(vector<int>& nums) {\n",
    "        int low = 0; \n",
    "        int current = 0;\n",
    "        int high = nums.size()-1;\n",
    "\n",
    "        for(int i = 0; i <= high; i++)\n",
    "        {\n",
    "            if(nums[i] == 0)\n",
    "            {\n",
    "                swap(nums[low], nums[i]);\n",
    "                low++;\n",
    "            }\n",
    "            else if(nums[i] == 2)\n",
    "            {\n",
    "                swap(nums[high], nums[i]);\n",
    "                high--;\n",
    "\n",
    "                //for edge case try [1,2,0]\n",
    "                i--;\n",
    "            }\n",
    "\n",
    "        }\n",
    "    }\n",
    "};"
   ]
  }
 ],
 "metadata": {
  "language_info": {
   "name": "python"
  }
 },
 "nbformat": 4,
 "nbformat_minor": 5
}
