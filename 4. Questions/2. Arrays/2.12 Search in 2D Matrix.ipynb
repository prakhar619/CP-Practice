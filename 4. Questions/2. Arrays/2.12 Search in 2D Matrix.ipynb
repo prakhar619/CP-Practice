{
 "cells": [
  {
   "cell_type": "markdown",
   "id": "8a253363",
   "metadata": {},
   "source": [
    "#### Chapter 2: Arrays"
   ]
  },
  {
   "cell_type": "code",
   "execution_count": 1,
   "id": "0d6848c0",
   "metadata": {
    "vscode": {
     "languageId": "cpp"
    }
   },
   "outputs": [],
   "source": [
    "#include <vector>\n",
    "using namespace std;"
   ]
  },
  {
   "cell_type": "markdown",
   "id": "6e714e06",
   "metadata": {},
   "source": [
    "### 12. Search in 2D matrix"
   ]
  },
  {
   "cell_type": "markdown",
   "id": "e055a1d7",
   "metadata": {},
   "source": [
    "> Given a rowwise and column wise sorted array (row_last < nextcolumn_first), search the 2D array for target value and return true or false depend on whether present or absent"
   ]
  },
  {
   "cell_type": "markdown",
   "id": "d2b7577c",
   "metadata": {},
   "source": [
    "*Leetcode Link:* https://leetcode.com/problems/search-a-2d-matrix/"
   ]
  },
  {
   "cell_type": "markdown",
   "id": "29efaae1",
   "metadata": {},
   "source": [
    "**Best Possible Solution:**"
   ]
  },
  {
   "cell_type": "markdown",
   "id": "ca834f1f",
   "metadata": {},
   "source": [
    "### Method 1: Binary Search\n",
    "Time Complexity: O(log(m+n))  \n",
    "Space Complexity: O(1)\n",
    "###### where m and n are size of 2d array"
   ]
  },
  {
   "cell_type": "code",
   "execution_count": 2,
   "id": "960554e6",
   "metadata": {
    "vscode": {
     "languageId": "cpp"
    }
   },
   "outputs": [],
   "source": [
    "class Solution {\n",
    "public:\n",
    "    bool searchMatrix(vector<vector<int>>& matrix, int target) {\n",
    "        int n = matrix.size();\n",
    "        int m = matrix[0].size();\n",
    "\n",
    "        int low = 0;\n",
    "        int high = n*m-1;\n",
    "\n",
    "        while(low <= high)\n",
    "        {\n",
    "            int mid = (low + high)/2;\n",
    "            int i = mid/m;\n",
    "            int j = mid%m;\n",
    "\n",
    "            if(matrix[i][j] < target)\n",
    "            {\n",
    "                low = mid+1;\n",
    "            }\n",
    "            else if(matrix[i][j] == target)\n",
    "            {\n",
    "                return true;\n",
    "            }\n",
    "            else\n",
    "                high = mid-1;\n",
    "        }\n",
    "\n",
    "        return false;\n",
    "    }\n",
    "};"
   ]
  }
 ],
 "metadata": {
  "kernelspec": {
   "display_name": "C++17",
   "language": "C++17",
   "name": "xcpp17"
  },
  "language_info": {
   "codemirror_mode": "text/x-c++src",
   "file_extension": ".cpp",
   "mimetype": "text/x-c++src",
   "name": "c++",
   "version": "17"
  }
 },
 "nbformat": 4,
 "nbformat_minor": 5
}
