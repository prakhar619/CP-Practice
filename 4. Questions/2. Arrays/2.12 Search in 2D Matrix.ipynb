{
 "cells": [
  {
   "cell_type": "code",
   "execution_count": null,
   "id": "960554e6",
   "metadata": {
    "vscode": {
     "languageId": "plaintext"
    }
   },
   "outputs": [],
   "source": [
    "class Solution {\n",
    "public:\n",
    "    bool searchMatrix(vector<vector<int>>& matrix, int target) {\n",
    "        int n = matrix.size();\n",
    "        int m = matrix[0].size();\n",
    "\n",
    "        int low = 0;\n",
    "        int high = n*m-1;\n",
    "\n",
    "        while(low <= high)\n",
    "        {\n",
    "            int mid = (low + high)/2;\n",
    "            int i = mid/m;\n",
    "            int j = mid%m;\n",
    "\n",
    "            if(matrix[i][j] < target)\n",
    "            {\n",
    "                low = mid+1;\n",
    "            }\n",
    "            else if(matrix[i][j] == target)\n",
    "            {\n",
    "                return true;\n",
    "            }\n",
    "            else\n",
    "                high = mid-1;\n",
    "        }\n",
    "\n",
    "        return false;\n",
    "        \n",
    "\n",
    "    }\n",
    "};"
   ]
  },
  {
   "cell_type": "markdown",
   "id": "d2b7577c",
   "metadata": {},
   "source": [
    "https://leetcode.com/problems/search-a-2d-matrix/"
   ]
  }
 ],
 "metadata": {
  "language_info": {
   "name": "python"
  }
 },
 "nbformat": 4,
 "nbformat_minor": 5
}
