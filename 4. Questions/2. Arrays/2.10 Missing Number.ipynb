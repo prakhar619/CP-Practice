{
 "cells": [
  {
   "cell_type": "markdown",
   "id": "de6fd9c9",
   "metadata": {},
   "source": [
    "#### Chapter 2: Arrays"
   ]
  },
  {
   "cell_type": "code",
   "execution_count": 1,
   "id": "f2bf7985",
   "metadata": {
    "vscode": {
     "languageId": "cpp"
    }
   },
   "outputs": [],
   "source": [
    "#include <vector>\n",
    "using namespace std;"
   ]
  },
  {
   "cell_type": "markdown",
   "id": "8dc3ca46",
   "metadata": {},
   "source": [
    "### 10. Missing Number"
   ]
  },
  {
   "cell_type": "markdown",
   "id": "f20fdc08",
   "metadata": {},
   "source": [
    "> Given an array of size n, with integers starting from 0 to n. Find the missing integer"
   ]
  },
  {
   "cell_type": "markdown",
   "id": "7531ada7",
   "metadata": {},
   "source": [
    "*Leetcode Link:* https://leetcode.com/problems/missing-number/"
   ]
  },
  {
   "cell_type": "markdown",
   "id": "96da89ef",
   "metadata": {},
   "source": [
    "**Best Possible Solution:**"
   ]
  },
  {
   "cell_type": "markdown",
   "id": "fd21be89",
   "metadata": {},
   "source": [
    "### Method 1  \n",
    "Time Complexity: O(n)  \n",
    "Space Complexity: O(1)"
   ]
  },
  {
   "cell_type": "code",
   "execution_count": 2,
   "id": "9d28853f",
   "metadata": {
    "vscode": {
     "languageId": "cpp"
    }
   },
   "outputs": [],
   "source": [
    "class Solution {\n",
    "public:\n",
    "    int missingNumber(vector<int>& nums) {\n",
    "        //xor of any number ^ 0 = number (therefore ans = 0 is safe)\n",
    "        int ans = 0;\n",
    "        for(int i = 0; i < nums.size(); i++)\n",
    "        {\n",
    "            //i+1 will go from 1 to n\n",
    "            //xor of number1 ^ number1 = 0\n",
    "            ans = ans ^ (i+1) ^ nums[i];\n",
    "        }\n",
    "        return ans;\n",
    "    }\n",
    "};"
   ]
  },
  {
   "cell_type": "markdown",
   "id": "9a8ee2bc",
   "metadata": {},
   "source": [
    "### Method 2\n",
    "Time Complexity: O(n)   \n",
    "Space Complexity: O(1)"
   ]
  },
  {
   "cell_type": "code",
   "execution_count": 3,
   "id": "71258f0e",
   "metadata": {
    "vscode": {
     "languageId": "cpp"
    }
   },
   "outputs": [],
   "source": [
    "class Solution {\n",
    "public:\n",
    "    int missingNumber(vector<int>& nums) {\n",
    "        int ans = 0;\n",
    "        int sum = 0;\n",
    "        for(int i = 0; i < nums.size(); i++)\n",
    "        {\n",
    "            ans += nums[i];\n",
    "            sum += i+1;\n",
    "        }\n",
    "        return sum - ans;\n",
    "    }\n",
    "};"
   ]
  },
  {
   "cell_type": "code",
   "execution_count": null,
   "id": "314c57b4",
   "metadata": {
    "vscode": {
     "languageId": "cpp"
    }
   },
   "outputs": [],
   "source": []
  }
 ],
 "metadata": {
  "kernelspec": {
   "display_name": "C++17",
   "language": "C++17",
   "name": "xcpp17"
  },
  "language_info": {
   "codemirror_mode": "text/x-c++src",
   "file_extension": ".cpp",
   "mimetype": "text/x-c++src",
   "name": "c++",
   "version": "17"
  }
 },
 "nbformat": 4,
 "nbformat_minor": 5
}
