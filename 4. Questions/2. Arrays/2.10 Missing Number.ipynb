{
 "cells": [
  {
   "cell_type": "code",
   "execution_count": null,
   "id": "9d28853f",
   "metadata": {
    "vscode": {
     "languageId": "plaintext"
    }
   },
   "outputs": [],
   "source": [
    "class Solution {\n",
    "public:\n",
    "    int missingNumber(vector<int>& nums) {\n",
    "        int ans = 0;\n",
    "        for(int i = 0; i < nums.size(); i++)\n",
    "        {\n",
    "            ans = ans ^ (i+1) ^ nums[i];\n",
    "        }\n",
    "        return ans;\n",
    "    }\n",
    "};"
   ]
  },
  {
   "cell_type": "code",
   "execution_count": null,
   "id": "71258f0e",
   "metadata": {
    "vscode": {
     "languageId": "plaintext"
    }
   },
   "outputs": [],
   "source": [
    "class Solution {\n",
    "public:\n",
    "    int missingNumber(vector<int>& nums) {\n",
    "        int ans = 0;\n",
    "        int sum = 0;\n",
    "        for(int i = 0; i < nums.size(); i++)\n",
    "        {\n",
    "            ans += nums[i];\n",
    "            sum += i+1;\n",
    "        }\n",
    "        return sum - ans;\n",
    "    }\n",
    "};"
   ]
  },
  {
   "cell_type": "markdown",
   "id": "7531ada7",
   "metadata": {},
   "source": [
    "https://leetcode.com/problems/missing-number/"
   ]
  }
 ],
 "metadata": {
  "language_info": {
   "name": "python"
  }
 },
 "nbformat": 4,
 "nbformat_minor": 5
}
