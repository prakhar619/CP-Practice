{
 "cells": [
  {
   "cell_type": "markdown",
   "id": "d900539f",
   "metadata": {},
   "source": [
    "#### Chapter 4: Arrays"
   ]
  },
  {
   "cell_type": "code",
   "execution_count": 1,
   "id": "3092a351",
   "metadata": {
    "vscode": {
     "languageId": "cpp"
    }
   },
   "outputs": [],
   "source": [
    "#include <vector>\n",
    "using namespace std;"
   ]
  },
  {
   "cell_type": "markdown",
   "id": "914178e5",
   "metadata": {},
   "source": [
    "### 6. Rotate Image"
   ]
  },
  {
   "cell_type": "markdown",
   "id": "918ff811",
   "metadata": {},
   "source": [
    "> Given a 2d array, rotate the 2d array clockwise by 90 degree"
   ]
  },
  {
   "cell_type": "markdown",
   "id": "b9750285",
   "metadata": {},
   "source": [
    "*Leetcode Link*: https://leetcode.com/problems/rotate-image/"
   ]
  },
  {
   "cell_type": "markdown",
   "id": "2a05004b",
   "metadata": {},
   "source": [
    "**Best Possible Solution:**"
   ]
  },
  {
   "cell_type": "markdown",
   "id": "2b2abf8f",
   "metadata": {},
   "source": [
    "### Method 1\n",
    "Time Complexity: O(n^2)  \n",
    "Space Complexity: O(1)"
   ]
  },
  {
   "cell_type": "code",
   "execution_count": null,
   "id": "7e4ccae9",
   "metadata": {
    "vscode": {
     "languageId": "cpp"
    }
   },
   "outputs": [],
   "source": [
    "class Solution {\n",
    "public:\n",
    "    void rotate(vector<vector<int>>& matrix) {\n",
    "        //Trick based \n",
    "        \n",
    "        //Transpose the 2d matrix\n",
    "        for(int i = 0; i < matrix.size(); i++)\n",
    "        for(int j = i; j < matrix[0].size(); j++)\n",
    "        {\n",
    "            int temp = matrix[i][j];\n",
    "            matrix[i][j] = matrix[j][i];\n",
    "            matrix[j][i] = temp;\n",
    "        }\n",
    "\n",
    "        //reverse each row\n",
    "        for(int i = 0; i < matrix.size(); i++)\n",
    "        {\n",
    "            reverse(matrix[i].begin(), matrix[i].end());\n",
    "        }\n",
    "    }\n",
    "};"
   ]
  }
 ],
 "metadata": {
  "kernelspec": {
   "display_name": "C++17",
   "language": "C++17",
   "name": "xcpp17"
  },
  "language_info": {
   "codemirror_mode": "text/x-c++src",
   "file_extension": ".cpp",
   "mimetype": "text/x-c++src",
   "name": "c++",
   "version": "17"
  }
 },
 "nbformat": 4,
 "nbformat_minor": 5
}
