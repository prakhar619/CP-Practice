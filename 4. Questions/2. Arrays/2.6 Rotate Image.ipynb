{
 "cells": [
  {
   "cell_type": "code",
   "execution_count": null,
   "id": "7e4ccae9",
   "metadata": {
    "vscode": {
     "languageId": "plaintext"
    }
   },
   "outputs": [],
   "source": [
    "class Solution {\n",
    "public:\n",
    "    void rotate(vector<vector<int>>& matrix) {\n",
    "        for(int i = 0; i < matrix.size(); i++)\n",
    "        for(int j = i; j < matrix[0].size(); j++)\n",
    "        {\n",
    "            int temp = matrix[i][j];\n",
    "            matrix[i][j] = matrix[j][i];\n",
    "            matrix[j][i] = temp;\n",
    "        }\n",
    "\n",
    "        for(int i = 0; i < matrix.size(); i++)\n",
    "        {\n",
    "            reverse(matrix[i].begin(), matrix[i].end());\n",
    "        }\n",
    "    }\n",
    "};"
   ]
  },
  {
   "cell_type": "markdown",
   "id": "b9750285",
   "metadata": {},
   "source": [
    "https://leetcode.com/problems/rotate-image/"
   ]
  }
 ],
 "metadata": {
  "language_info": {
   "name": "python"
  }
 },
 "nbformat": 4,
 "nbformat_minor": 5
}
