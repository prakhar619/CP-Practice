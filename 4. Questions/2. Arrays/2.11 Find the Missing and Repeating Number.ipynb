{
 "cells": [
  {
   "cell_type": "markdown",
   "id": "295071a8",
   "metadata": {},
   "source": [
    "#### Chapter 2: Array"
   ]
  },
  {
   "cell_type": "code",
   "execution_count": 1,
   "id": "8310d11b",
   "metadata": {
    "vscode": {
     "languageId": "cpp"
    }
   },
   "outputs": [],
   "source": [
    "#include <vector>\n",
    "using namespace std;"
   ]
  },
  {
   "cell_type": "markdown",
   "id": "b866323e",
   "metadata": {},
   "source": [
    "### 11. Find the missing and repeating number"
   ]
  },
  {
   "cell_type": "markdown",
   "id": "d7968c9f",
   "metadata": {
    "vscode": {
     "languageId": "cpp"
    }
   },
   "source": [
    "> Given an array of size n, with integers starting from 1 to n, a number is missing and in its place,a number is repeated. Find both"
   ]
  },
  {
   "cell_type": "markdown",
   "id": "de9eb661",
   "metadata": {},
   "source": [
    "*Leetcode Link:* https://takeuforward.org/data-structure/find-the-repeating-and-missing-numbers/"
   ]
  },
  {
   "cell_type": "markdown",
   "id": "64aeddff",
   "metadata": {},
   "source": [
    "**Best Possible Solution:**"
   ]
  },
  {
   "cell_type": "markdown",
   "id": "5e71d9ab",
   "metadata": {
    "vscode": {
     "languageId": "cpp"
    }
   },
   "source": [
    "### Method 1\n",
    "Time Complexity: O(n)  \n",
    "Space Complexity: O(1)\n",
    "###### where n is size of input array"
   ]
  },
  {
   "cell_type": "markdown",
   "id": "2e1f4694",
   "metadata": {},
   "source": []
  }
 ],
 "metadata": {
  "kernelspec": {
   "display_name": "C++17",
   "language": "C++17",
   "name": "xcpp17"
  },
  "language_info": {
   "codemirror_mode": "text/x-c++src",
   "file_extension": ".cpp",
   "mimetype": "text/x-c++src",
   "name": "c++",
   "version": "17"
  }
 },
 "nbformat": 4,
 "nbformat_minor": 5
}
