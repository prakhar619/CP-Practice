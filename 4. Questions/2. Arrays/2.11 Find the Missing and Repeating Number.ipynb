{
 "cells": [
  {
   "cell_type": "markdown",
   "id": "05722ed7",
   "metadata": {},
   "source": [
    "great question"
   ]
  },
  {
   "cell_type": "markdown",
   "id": "47952504",
   "metadata": {},
   "source": [
    "https://takeuforward.org/data-structure/find-the-repeating-and-missing-numbers/"
   ]
  }
 ],
 "metadata": {
  "language_info": {
   "name": "python"
  }
 },
 "nbformat": 4,
 "nbformat_minor": 5
}
