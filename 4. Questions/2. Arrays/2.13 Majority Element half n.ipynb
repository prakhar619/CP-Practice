{
 "cells": [
  {
   "cell_type": "code",
   "execution_count": null,
   "id": "1624d9a9",
   "metadata": {
    "vscode": {
     "languageId": "plaintext"
    }
   },
   "outputs": [],
   "source": [
    "class Solution {\n",
    "public:\n",
    "    int majorityElement(vector<int>& nums) {\n",
    "        int num = nums[0];\n",
    "        int count = 1;\n",
    "        for(int i = 1; i < nums.size(); i++)\n",
    "        {\n",
    "            if(num == nums[i])\n",
    "            {\n",
    "                count += 1;\n",
    "            }\n",
    "            else\n",
    "            {\n",
    "                count -= 1;\n",
    "            }\n",
    "            \n",
    "            if(count < 0)\n",
    "            {\n",
    "                num = nums[i];\n",
    "                count = 1;\n",
    "            }\n",
    "        }\n",
    "\n",
    "        return num;\n",
    "    }\n",
    "};"
   ]
  },
  {
   "cell_type": "markdown",
   "id": "5a1063ec",
   "metadata": {},
   "source": [
    "https://leetcode.com/problems/majority-element/description/"
   ]
  }
 ],
 "metadata": {
  "language_info": {
   "name": "python"
  }
 },
 "nbformat": 4,
 "nbformat_minor": 5
}
