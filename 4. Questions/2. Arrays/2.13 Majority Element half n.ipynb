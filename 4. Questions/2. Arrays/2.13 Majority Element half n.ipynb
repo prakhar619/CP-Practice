{
 "cells": [
  {
   "cell_type": "markdown",
   "id": "5c7cc617",
   "metadata": {},
   "source": [
    "#### Chapter 2: Arrays"
   ]
  },
  {
   "cell_type": "code",
   "execution_count": 1,
   "id": "9d3345c2",
   "metadata": {
    "vscode": {
     "languageId": "cpp"
    }
   },
   "outputs": [],
   "source": [
    "#include <vector>\n",
    "using namespace std;"
   ]
  },
  {
   "cell_type": "markdown",
   "id": "a5c0bd90",
   "metadata": {},
   "source": [
    "### 13. Majority Element I "
   ]
  },
  {
   "cell_type": "markdown",
   "id": "82f57db4",
   "metadata": {},
   "source": [
    "> Given an array, find the majority element which atleast is present more than n/2 times where n is the size of array"
   ]
  },
  {
   "cell_type": "markdown",
   "id": "5a1063ec",
   "metadata": {},
   "source": [
    "*Leetcode Link:* https://leetcode.com/problems/majority-element/description/"
   ]
  },
  {
   "cell_type": "markdown",
   "id": "d6d4e6e1",
   "metadata": {},
   "source": [
    "**Best Possible Solution:**"
   ]
  },
  {
   "cell_type": "markdown",
   "id": "cadfde01",
   "metadata": {},
   "source": [
    "### Method 1\n",
    "Time Complexity: O(n)  \n",
    "Space Complexity: O(1)\n",
    "###### where n is size of array"
   ]
  },
  {
   "cell_type": "code",
   "execution_count": 2,
   "id": "1624d9a9",
   "metadata": {
    "vscode": {
     "languageId": "cpp"
    }
   },
   "outputs": [],
   "source": [
    "class Solution {\n",
    "public:\n",
    "    int majorityElement(vector<int>& nums) {\n",
    "        int num = nums[0];\n",
    "        int count = 1;\n",
    "        for(int i = 1; i < nums.size(); i++)\n",
    "        {\n",
    "            if(num == nums[i])\n",
    "            {\n",
    "                count += 1;\n",
    "            }\n",
    "            else\n",
    "            {\n",
    "                count -= 1;\n",
    "            }\n",
    "            \n",
    "            if(count < 0)\n",
    "            {\n",
    "                num = nums[i];\n",
    "                count = 1;\n",
    "            }\n",
    "        }\n",
    "\n",
    "        return num;\n",
    "    }\n",
    "};"
   ]
  }
 ],
 "metadata": {
  "kernelspec": {
   "display_name": "C++17",
   "language": "C++17",
   "name": "xcpp17"
  },
  "language_info": {
   "codemirror_mode": "text/x-c++src",
   "file_extension": ".cpp",
   "mimetype": "text/x-c++src",
   "name": "c++",
   "version": "17"
  }
 },
 "nbformat": 4,
 "nbformat_minor": 5
}
