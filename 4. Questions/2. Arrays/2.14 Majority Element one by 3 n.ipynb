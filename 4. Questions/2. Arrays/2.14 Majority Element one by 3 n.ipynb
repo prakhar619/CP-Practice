{
 "cells": [
  {
   "cell_type": "markdown",
   "id": "362106fd",
   "metadata": {},
   "source": [
    "#### Chapter 2: Arrays"
   ]
  },
  {
   "cell_type": "code",
   "execution_count": 1,
   "id": "4de5982a",
   "metadata": {
    "vscode": {
     "languageId": "cpp"
    }
   },
   "outputs": [],
   "source": [
    "#include <vector>\n",
    "using namespace std;"
   ]
  },
  {
   "cell_type": "markdown",
   "id": "792c2171",
   "metadata": {},
   "source": [
    "### 14. Majority Element II"
   ]
  },
  {
   "cell_type": "markdown",
   "id": "ddcc4aa5",
   "metadata": {},
   "source": [
    "> Given an array find all the numbers which are present more than n/3 times where n is size of input array"
   ]
  },
  {
   "cell_type": "markdown",
   "id": "5cc86e28",
   "metadata": {},
   "source": [
    "*Leetcode Link:* https://leetcode.com/problems/majority-element-ii/description/"
   ]
  },
  {
   "cell_type": "markdown",
   "id": "b29e6c36",
   "metadata": {},
   "source": [
    "**Best Possible Solution:**"
   ]
  },
  {
   "cell_type": "markdown",
   "id": "9bfdde44",
   "metadata": {},
   "source": [
    "### Method 1: Boyer-Moore Majority Vote Algorithm\n",
    "Time Complexity: O(n)  \n",
    "Space Complexity: O(1)\n",
    "###### where n is size of input array"
   ]
  },
  {
   "cell_type": "code",
   "execution_count": null,
   "id": "0134b317",
   "metadata": {
    "vscode": {
     "languageId": "cpp"
    }
   },
   "outputs": [],
   "source": [
    "class Solution {\n",
    "public:\n",
    "    vector<int> majorityElement(vector<int>& nums) {\n",
    "        int num1 = 0;\n",
    "        int count1 = 0;\n",
    "        int num2 = 0;\n",
    "        int count2 = 0;\n",
    "\n",
    "        for(int i = 0; i < nums.size(); i++)\n",
    "        {\n",
    "            if(num1 == nums[i])\n",
    "            {\n",
    "                count1 += 1;\n",
    "            }\n",
    "            else if(num2 == nums[i])\n",
    "            {\n",
    "                count2 += 1;\n",
    "            }\n",
    "            // how initial case of num1 = 0 is handled\n",
    "            else if( count1 <= 0)\n",
    "            {\n",
    "                num1 = nums[i];\n",
    "                count1=1;\n",
    "            }\n",
    "            else if( count2 <= 0)\n",
    "            {\n",
    "                num2 = nums[i];\n",
    "                count2 = 1;\n",
    "            }\n",
    "            else\n",
    "            {\n",
    "                //when does not match anything then both reduced\n",
    "                count1--;\n",
    "                count2--;\n",
    "            }\n",
    "        }\n",
    "\n",
    "        count1 = 0;\n",
    "        count2 = 0;\n",
    "\n",
    "        //get actual count of both num1 and num2\n",
    "        for(int i : nums)\n",
    "        {\n",
    "            if(num1 == i)\n",
    "            count1++;\n",
    "            else if(num2 == i)\n",
    "            count2++;\n",
    "        }\n",
    "\n",
    "        //cout << count1 << \" \"<< count2 << endl;\n",
    "        vector<int> ans;\n",
    "        if(count1 > nums.size()/3)\n",
    "        ans.push_back(num1);\n",
    "        if(count2 > nums.size()/3)\n",
    "        ans.push_back(num2);\n",
    "        return ans;\n",
    "    }\n",
    "};"
   ]
  }
 ],
 "metadata": {
  "kernelspec": {
   "display_name": "C++17",
   "language": "C++17",
   "name": "xcpp17"
  },
  "language_info": {
   "codemirror_mode": "text/x-c++src",
   "file_extension": ".cpp",
   "mimetype": "text/x-c++src",
   "name": "c++",
   "version": "17"
  }
 },
 "nbformat": 4,
 "nbformat_minor": 5
}
