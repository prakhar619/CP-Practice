{
 "cells": [
  {
   "cell_type": "markdown",
   "id": "5cc86e28",
   "metadata": {},
   "source": [
    "https://leetcode.com/problems/majority-element-ii/description/"
   ]
  },
  {
   "cell_type": "code",
   "execution_count": null,
   "id": "0134b317",
   "metadata": {
    "vscode": {
     "languageId": "plaintext"
    }
   },
   "outputs": [],
   "source": [
    "class Solution {\n",
    "public:\n",
    "    vector<int> majorityElement(vector<int>& nums) {\n",
    "        int num1 = 0;\n",
    "        int count1 = 0;\n",
    "        int num2 = 0;\n",
    "        int count2 = 0;\n",
    "\n",
    "        for(int i = 0; i < nums.size(); i++)\n",
    "        {\n",
    "            if(num1 == nums[i])\n",
    "            {\n",
    "                count1 += 1;\n",
    "            }\n",
    "            else if(num2 == nums[i])\n",
    "            {\n",
    "                count2 += 1;\n",
    "            }\n",
    "            else if( count1 <= 0)\n",
    "            {\n",
    "                num1 = nums[i];\n",
    "                count1=1;\n",
    "            }\n",
    "            else if( count2 <= 0)\n",
    "            {\n",
    "                num2 = nums[i];\n",
    "                count2 = 1;\n",
    "            }\n",
    "            else\n",
    "            {\n",
    "                count1--;\n",
    "                count2--;\n",
    "            }\n",
    "        }\n",
    "\n",
    "        count1 = 0;\n",
    "        count2 = 0;\n",
    "\n",
    "        for(int i : nums)\n",
    "        {\n",
    "            if(num1 == i)\n",
    "            count1++;\n",
    "            else if(num2 == i)\n",
    "            count2++;\n",
    "        }\n",
    "\n",
    "        cout << count1 << \" \"<< count2 << endl;\n",
    "        vector<int> ans;\n",
    "        if(count1 > nums.size()/3)\n",
    "        ans.push_back(num1);\n",
    "        if(count2 > nums.size()/3)\n",
    "        ans.push_back(num2);\n",
    "        return ans;\n",
    "    }\n",
    "};"
   ]
  },
  {
   "cell_type": "markdown",
   "id": "9bfdde44",
   "metadata": {},
   "source": [
    "Boyer-Moore Majority Vote Algorithm"
   ]
  }
 ],
 "metadata": {
  "language_info": {
   "name": "python"
  }
 },
 "nbformat": 4,
 "nbformat_minor": 5
}
