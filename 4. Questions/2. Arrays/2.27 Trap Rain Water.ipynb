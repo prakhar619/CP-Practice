{
 "cells": [
  {
   "cell_type": "markdown",
   "id": "d5e2a0d0",
   "metadata": {},
   "source": [
    "#### Chapter 2: Lists"
   ]
  },
  {
   "cell_type": "code",
   "execution_count": 1,
   "id": "7f739e40",
   "metadata": {
    "vscode": {
     "languageId": "cpp"
    }
   },
   "outputs": [],
   "source": [
    "using namespace std;"
   ]
  },
  {
   "cell_type": "markdown",
   "id": "6aefe3e0",
   "metadata": {},
   "source": [
    "### 27. Trap Rain Water"
   ]
  },
  {
   "cell_type": "markdown",
   "id": "1bc1c26d",
   "metadata": {},
   "source": [
    "> Given an array, where each array display height of block, how much water can be trapped from above if rain happens."
   ]
  },
  {
   "cell_type": "markdown",
   "id": "66e84e14",
   "metadata": {},
   "source": [
    "*Leetcode Link:* https://leetcode.com/problems/trapping-rain-water/"
   ]
  },
  {
   "cell_type": "markdown",
   "id": "fc6199f5",
   "metadata": {},
   "source": [
    "**Best Possible Solution:**"
   ]
  },
  {
   "cell_type": "markdown",
   "id": "95738662",
   "metadata": {},
   "source": [
    "### Method 1\n",
    "Time Complexity: O(n)  \n",
    "Space Complexity: O(1)  "
   ]
  },
  {
   "cell_type": "code",
   "execution_count": null,
   "id": "8f2e7eec",
   "metadata": {
    "vscode": {
     "languageId": "cpp"
    }
   },
   "outputs": [],
   "source": [
    "class Solution {\n",
    "public:\n",
    "    int trap(vector<int>& height) {\n",
    "        int low = 0;\n",
    "        int high = height.size()-1;\n",
    "\n",
    "        int lowMax = 0;\n",
    "        int highMax = 0;\n",
    "\n",
    "        int water = 0;\n",
    "\n",
    "        while(low <= high)\n",
    "        {\n",
    "            if(height[low] < height[high])\n",
    "            {\n",
    "                water += max(0, min(max(height[high], highMax),lowMax) - height[low]);\n",
    "                lowMax = max(lowMax, height[low]);\n",
    "                low++;\n",
    "            }\n",
    "            else\n",
    "            {\n",
    "                water += max(0, min(max(height[low], lowMax),highMax) - height[high]);\n",
    "                highMax = max(highMax, height[high]);\n",
    "                high--;\n",
    "            }\n",
    "        }\n",
    "\n",
    "        return water;\n",
    "    }\n",
    "};"
   ]
  }
 ],
 "metadata": {
  "kernelspec": {
   "display_name": "C++17",
   "language": "C++17",
   "name": "xcpp17"
  },
  "language_info": {
   "codemirror_mode": "text/x-c++src",
   "file_extension": ".cpp",
   "mimetype": "text/x-c++src",
   "name": "c++",
   "version": "17"
  }
 },
 "nbformat": 4,
 "nbformat_minor": 5
}
