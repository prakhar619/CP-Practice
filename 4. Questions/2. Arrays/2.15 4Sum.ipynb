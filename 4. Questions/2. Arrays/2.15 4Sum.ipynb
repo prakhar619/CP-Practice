{
 "cells": [
  {
   "cell_type": "markdown",
   "id": "7452e727",
   "metadata": {},
   "source": [
    "#### Chapter 2: Arrays"
   ]
  },
  {
   "cell_type": "code",
   "execution_count": 1,
   "id": "60c47568",
   "metadata": {
    "vscode": {
     "languageId": "cpp"
    }
   },
   "outputs": [],
   "source": [
    "#include <vector>\n",
    "#include <set>\n",
    "using namespace std;"
   ]
  },
  {
   "cell_type": "markdown",
   "id": "646fec98",
   "metadata": {},
   "source": [
    "### 15. 4Sum"
   ]
  },
  {
   "cell_type": "markdown",
   "id": "37d97428",
   "metadata": {},
   "source": [
    "> Given an array and a target number find all the sets of 4 number present in array which add up to target. Unique set of numbers only"
   ]
  },
  {
   "cell_type": "markdown",
   "id": "1c3fdcde",
   "metadata": {},
   "source": [
    "*Leetcode Link:* https://leetcode.com/problems/4sum/"
   ]
  },
  {
   "cell_type": "markdown",
   "id": "62afc27b",
   "metadata": {},
   "source": [
    "**Best Possible Solution:**"
   ]
  },
  {
   "cell_type": "markdown",
   "id": "f215d5c4",
   "metadata": {},
   "source": [
    "### Method 1\n",
    "Time Complexity: O(n^3)  \n",
    "Space Complexity: O(n^2)"
   ]
  },
  {
   "cell_type": "code",
   "execution_count": 4,
   "id": "35108fd6",
   "metadata": {
    "vscode": {
     "languageId": "cpp"
    }
   },
   "outputs": [],
   "source": [
    "class Solution {\n",
    "public:\n",
    "    vector<vector<int>> fourSum(vector<int>& nums, int target) {\n",
    "        int n = nums.size();\n",
    "        sort(nums.begin(), nums.end());\n",
    "        vector<vector<int>> output;\n",
    "\n",
    "        for(int i=0; i<n-3; i++){\n",
    "            for(int j=i+1; j<n-2; j++){\n",
    "                //binary search\n",
    "                long long newTarget = (long long)target - (long long)nums[i] - (long long)nums[j];\n",
    "                int low = j+1, high = n-1;\n",
    "\n",
    "                while(low < high){\n",
    "                    if(nums[low] + nums[high] < newTarget){\n",
    "                        low++;\n",
    "                    }\n",
    "                    else if(nums[low] + nums[high] > newTarget){\n",
    "                        high--;\n",
    "                    }\n",
    "                    else{\n",
    "                        output.push_back({nums[i], nums[j], nums[low], nums[high]});\n",
    "                        int tempIndex1 = low, tempIndex2 = high;\n",
    "                        //preventing reductant ans\n",
    "                        while(low < high && nums[low] == nums[tempIndex1]) low++;\n",
    "                        while(low < high && nums[high] == nums[tempIndex2]) high--;\n",
    "                    }\n",
    "                }\n",
    "                //preventing reductant ans\n",
    "                while(j+1 < n && nums[j] == nums[j+1]) j++;\n",
    "            }\n",
    "            //preventing reductant ans\n",
    "            while(i+1 < n && nums[i] == nums[i+1]) i++;\n",
    "        }\n",
    "        return output;\n",
    "    }\n",
    "};"
   ]
  },
  {
   "cell_type": "markdown",
   "id": "d6ba0a00",
   "metadata": {},
   "source": [
    "### Method 2\n",
    "Time Complexity: O(n^3 log n)  \n",
    "Space Complexity: O(n^2)"
   ]
  },
  {
   "cell_type": "code",
   "execution_count": null,
   "id": "2df151a6",
   "metadata": {
    "vscode": {
     "languageId": "cpp"
    }
   },
   "outputs": [],
   "source": [
    "class Solution {\n",
    "public:\n",
    "    vector<vector<int>> fourSum(vector<int>& nums, int target) {\n",
    "        vector<vector<int>> ans;\n",
    "        set<vector<int>> ds;        //set store values inside a vector and therefore can be used here\n",
    "\n",
    "        sort(nums.begin(), nums.end());\n",
    "        for(int i = 0; i < nums.size(); i++)\n",
    "        {\n",
    "            for(int j = i+1; j < nums.size(); j++)\n",
    "            {\n",
    "                int low = j+1;\n",
    "                int high = nums.size()-1;\n",
    "\n",
    "                while(low < high)\n",
    "                {\n",
    "                    long long int sum = 0LL + nums[i] + nums[j] + nums[low]+nums[high];\n",
    "                    if(sum > target)\n",
    "                    {\n",
    "                        high--;\n",
    "                    }\n",
    "                    else if(sum == target)\n",
    "                    {\n",
    "                        //increases time complexity by log n\n",
    "                        ds.insert({nums[i],nums[j],nums[low],nums[high]});\n",
    "                        low++;\n",
    "                        high--;\n",
    "                    }\n",
    "                    else\n",
    "                    low++;\n",
    "                }\n",
    "            }\n",
    "        }\n",
    "\n",
    "        for(vector<int> d: ds)\n",
    "        ans.push_back(d);\n",
    "\n",
    "        return ans;\n",
    "    }\n",
    "};"
   ]
  }
 ],
 "metadata": {
  "kernelspec": {
   "display_name": "C++17",
   "language": "C++17",
   "name": "xcpp17"
  },
  "language_info": {
   "codemirror_mode": "text/x-c++src",
   "file_extension": ".cpp",
   "mimetype": "text/x-c++src",
   "name": "c++",
   "version": "17"
  }
 },
 "nbformat": 4,
 "nbformat_minor": 5
}
