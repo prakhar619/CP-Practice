{
 "cells": [
  {
   "cell_type": "markdown",
   "id": "39c94410",
   "metadata": {},
   "source": [
    "#### 13. Greedy"
   ]
  },
  {
   "cell_type": "code",
   "execution_count": null,
   "id": "f9b3ae91",
   "metadata": {
    "vscode": {
     "languageId": "cpp"
    }
   },
   "outputs": [],
   "source": [
    "#include <vector>\n",
    "#include <algorithm>\n",
    "using namespace std;"
   ]
  },
  {
   "cell_type": "markdown",
   "id": "c22ecf49",
   "metadata": {},
   "source": [
    "### 4. Fractional Knapsack"
   ]
  },
  {
   "cell_type": "markdown",
   "id": "7f6e0387",
   "metadata": {},
   "source": [
    "> Given two arrays, val[] and wt[], representing the values and weights of items, and an integer capacity representing the maximum weight a knapsack can hold, determine the maximum total value that can be achieved by putting items in the knapsack. You are allowed to break items into fractions if necessary."
   ]
  },
  {
   "cell_type": "markdown",
   "id": "a7519641",
   "metadata": {},
   "source": [
    "*Leetcode Link:* https://www.geeksforgeeks.org/problems/fractional-knapsack-1587115620/1"
   ]
  },
  {
   "cell_type": "markdown",
   "id": "cf4c18cb",
   "metadata": {},
   "source": [
    "**Best Possible Solution:**"
   ]
  },
  {
   "cell_type": "markdown",
   "id": "f3f93bdc",
   "metadata": {},
   "source": [
    "### Method 1:\n",
    "Time Complexity: O(n log n)  \n",
    "Space Complexity: O(n)\n",
    "###### where n is size of input array"
   ]
  },
  {
   "cell_type": "code",
   "execution_count": null,
   "id": "93df1d0f",
   "metadata": {
    "vscode": {
     "languageId": "cpp"
    }
   },
   "outputs": [],
   "source": [
    "// class implemented\n",
    "/*\n",
    "struct Item{\n",
    "    int value;\n",
    "    int weight;\n",
    "};\n",
    "*/\n",
    "\n",
    "class Solution {\n",
    "  public:\n",
    "    double fractionalKnapsack(vector<int>& val, vector<int>& wt, int capacity) {\n",
    "        // code here\n",
    "        vector<pair<int,int>> customArray;\n",
    "        for(int i = 0; i < wt.size(); i++)\n",
    "        {\n",
    "            customArray.push_back({val[i],wt[i]});\n",
    "        }\n",
    "        \n",
    "        //sort first on val/weight ratio\n",
    "        sort(customArray.begin(), customArray.end(), [&](auto a, auto b){\n",
    "            return (1.0 * a.first) / a.second > (1.0 * b.first)  / b.second;\n",
    "        });\n",
    "        \n",
    "        double valueTotal = 0;\n",
    "        for(int i = 0; i < customArray.size(); i++)\n",
    "        {\n",
    "            if(capacity >= customArray[i].second)\n",
    "            {\n",
    "                capacity -= customArray[i].second;\n",
    "                valueTotal += customArray[i].first;\n",
    "            }\n",
    "            else\n",
    "            {\n",
    "                double multiplier = capacity * 1.0 / customArray[i].second;\n",
    "                valueTotal += multiplier * customArray[i].first;\n",
    "                break;\n",
    "            }\n",
    "        }\n",
    "        return valueTotal;\n",
    "    }\n",
    "};\n"
   ]
  }
 ],
 "metadata": {
  "kernelspec": {
   "display_name": "C++17",
   "language": "C++17",
   "name": "xcpp17"
  },
  "language_info": {
   "codemirror_mode": "text/x-c++src",
   "file_extension": ".cpp",
   "mimetype": "text/x-c++src",
   "name": "c++",
   "version": "17"
  }
 },
 "nbformat": 4,
 "nbformat_minor": 5
}
