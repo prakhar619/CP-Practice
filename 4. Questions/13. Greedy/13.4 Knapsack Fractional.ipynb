{
 "cells": [
  {
   "cell_type": "code",
   "execution_count": null,
   "id": "93df1d0f",
   "metadata": {
    "vscode": {
     "languageId": "plaintext"
    }
   },
   "outputs": [],
   "source": [
    "// class implemented\n",
    "/*\n",
    "struct Item{\n",
    "    int value;\n",
    "    int weight;\n",
    "};\n",
    "*/\n",
    "\n",
    "class Solution {\n",
    "  public:\n",
    "    double fractionalKnapsack(vector<int>& val, vector<int>& wt, int capacity) {\n",
    "        // code here\n",
    "        vector<pair<int,int>> customArray;\n",
    "        for(int i = 0; i < wt.size(); i++)\n",
    "        {\n",
    "            customArray.push_back({val[i],wt[i]});\n",
    "        }\n",
    "        \n",
    "        sort(customArray.begin(), customArray.end(), [&](auto a, auto b){\n",
    "            return (1.0 * a.first) / a.second > (1.0 * b.first)  / b.second;\n",
    "        });\n",
    "        \n",
    "        double valueTotal = 0;\n",
    "        for(int i = 0; i < customArray.size(); i++)\n",
    "        {\n",
    "            if(capacity >= customArray[i].second)\n",
    "            {\n",
    "                capacity -= customArray[i].second;\n",
    "                valueTotal += customArray[i].first;\n",
    "            }\n",
    "            else\n",
    "            {\n",
    "                double multiplier = capacity * 1.0 / customArray[i].second;\n",
    "                valueTotal += multiplier * customArray[i].first;\n",
    "                break;\n",
    "            }\n",
    "        }\n",
    "        return valueTotal;\n",
    "    }\n",
    "};\n"
   ]
  },
  {
   "cell_type": "markdown",
   "id": "a7519641",
   "metadata": {},
   "source": [
    "https://www.geeksforgeeks.org/problems/fractional-knapsack-1587115620/1"
   ]
  }
 ],
 "metadata": {
  "language_info": {
   "name": "python"
  }
 },
 "nbformat": 4,
 "nbformat_minor": 5
}
