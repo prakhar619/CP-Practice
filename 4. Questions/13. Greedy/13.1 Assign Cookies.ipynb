{
 "cells": [
  {
   "cell_type": "code",
   "execution_count": null,
   "id": "2a505af8",
   "metadata": {
    "vscode": {
     "languageId": "plaintext"
    }
   },
   "outputs": [],
   "source": [
    "class Solution {\n",
    "public:\n",
    "    int findContentChildren(vector<int>& g, vector<int>& s) {\n",
    "        sort(s.begin(),s.end());\n",
    "        sort(g.begin(),g.end());\n",
    "\n",
    "        int indexG = 0;\n",
    "        for(int i = 0; i < s.size(); i++)\n",
    "        {\n",
    "            if(indexG < g.size() && g[indexG] <= s[i])\n",
    "            {\n",
    "                indexG++;\n",
    "            }\n",
    "        }\n",
    "        return indexG;\n",
    "    }\n",
    "};"
   ]
  },
  {
   "cell_type": "markdown",
   "id": "659bcdbc",
   "metadata": {},
   "source": [
    "https://leetcode.com/problems/assign-cookies/"
   ]
  }
 ],
 "metadata": {
  "language_info": {
   "name": "python"
  }
 },
 "nbformat": 4,
 "nbformat_minor": 5
}
