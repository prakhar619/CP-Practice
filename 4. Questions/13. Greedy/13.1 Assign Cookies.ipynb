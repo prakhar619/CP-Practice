{
 "cells": [
  {
   "cell_type": "markdown",
   "id": "a5987237",
   "metadata": {},
   "source": [
    "#### Chapter 13: Greedy"
   ]
  },
  {
   "cell_type": "code",
   "execution_count": 1,
   "id": "b611ffc1",
   "metadata": {
    "vscode": {
     "languageId": "cpp"
    }
   },
   "outputs": [],
   "source": [
    "#include <vector>\n",
    "using namespace std;"
   ]
  },
  {
   "cell_type": "markdown",
   "id": "393b9df1",
   "metadata": {},
   "source": [
    "### 1. Assign Cookies"
   ]
  },
  {
   "cell_type": "markdown",
   "id": "a796998e",
   "metadata": {},
   "source": [
    "> Given 2 arrays, one of greed of cookies by each child and one array for cookies size. Ans how many max no of children can be satified."
   ]
  },
  {
   "cell_type": "markdown",
   "id": "659bcdbc",
   "metadata": {},
   "source": [
    "*Leetcode Link:* https://leetcode.com/problems/assign-cookies/"
   ]
  },
  {
   "cell_type": "markdown",
   "id": "10065634",
   "metadata": {},
   "source": [
    "**Best Possible Solution:**"
   ]
  },
  {
   "cell_type": "markdown",
   "id": "e6793d5e",
   "metadata": {},
   "source": [
    "### Method 1\n",
    "Time Complexity: O(nlog n)  \n",
    "Space Complexity: O(1)\n",
    "###### where n is size of input array"
   ]
  },
  {
   "cell_type": "code",
   "execution_count": null,
   "id": "2a505af8",
   "metadata": {
    "vscode": {
     "languageId": "cpp"
    }
   },
   "outputs": [],
   "source": [
    "class Solution {\n",
    "public:\n",
    "    int findContentChildren(vector<int>& g, vector<int>& s) {\n",
    "        sort(s.begin(),s.end());\n",
    "        sort(g.begin(),g.end());\n",
    "\n",
    "        int indexG = 0;\n",
    "        for(int i = 0; i < s.size(); i++)\n",
    "        {\n",
    "            if(indexG < g.size() && g[indexG] <= s[i])\n",
    "            {\n",
    "                indexG++;\n",
    "            }\n",
    "        }\n",
    "        return indexG;\n",
    "    }\n",
    "};"
   ]
  }
 ],
 "metadata": {
  "kernelspec": {
   "display_name": "C++17",
   "language": "C++17",
   "name": "xcpp17"
  },
  "language_info": {
   "codemirror_mode": "text/x-c++src",
   "file_extension": ".cpp",
   "mimetype": "text/x-c++src",
   "name": "c++",
   "version": "17"
  }
 },
 "nbformat": 4,
 "nbformat_minor": 5
}
