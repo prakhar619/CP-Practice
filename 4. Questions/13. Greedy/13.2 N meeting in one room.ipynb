{
 "cells": [
  {
   "cell_type": "markdown",
   "id": "9dc68152",
   "metadata": {},
   "source": [
    "#### Chapter 13: Greedy"
   ]
  },
  {
   "cell_type": "code",
   "execution_count": null,
   "id": "045440dc",
   "metadata": {
    "vscode": {
     "languageId": "cpp"
    }
   },
   "outputs": [],
   "source": [
    "#include <vector>\n",
    "#include <algorithm>\n",
    "using namespace std;"
   ]
  },
  {
   "cell_type": "markdown",
   "id": "8513d46e",
   "metadata": {},
   "source": [
    "### 2. N meeting in 1 Room"
   ]
  },
  {
   "cell_type": "markdown",
   "id": "edfa711a",
   "metadata": {},
   "source": [
    "> How many max no of meeting can be scheduled in 1 room given start and end time of each meeting."
   ]
  },
  {
   "cell_type": "markdown",
   "id": "1b546f60",
   "metadata": {},
   "source": [
    "*Leetcode Link:* https://www.geeksforgeeks.org/problems/n-meetings-in-one-room-1587115620/1"
   ]
  },
  {
   "cell_type": "markdown",
   "id": "04f7c046",
   "metadata": {},
   "source": [
    "**Best Possible Solution:**"
   ]
  },
  {
   "cell_type": "markdown",
   "id": "7e9787b7",
   "metadata": {},
   "source": [
    "### Method 1\n",
    "Time Complexity: O(n log n)   \n",
    "Space Complexity: O(n)\n",
    "###### where n is size of input array"
   ]
  },
  {
   "cell_type": "code",
   "execution_count": null,
   "id": "1a3d970f",
   "metadata": {
    "vscode": {
     "languageId": "cpp"
    }
   },
   "outputs": [],
   "source": [
    "class Solution {\n",
    "  public:\n",
    "    // Function to find the maximum number of meetings that can\n",
    "    // be performed in a meeting room.\n",
    "    int maxMeetings(vector<int>& start, vector<int>& end) {\n",
    "        //to sort 2 array based on only 1 array values, only this method present (others are too long)\n",
    "        vector<pair<int,int>> customArray;\n",
    "        for(int i = 0; i < start.size(); i++)\n",
    "        {   \n",
    "            //assert start.size() == end.size();\n",
    "            customArray.push_back({start[i],end[i]});\n",
    "        }\n",
    "        \n",
    "        //sort based on which end first\n",
    "        sort(customArray.begin(), customArray.end(), [&](pair<int,int> a, pair<int,int> b){\n",
    "            return a.second < b.second;\n",
    "        });\n",
    "        \n",
    "        for(int i = 0; i < customArray.size(); i++)\n",
    "        {\n",
    "            start[i] = customArray[i].first;\n",
    "            end[i] = customArray[i].second;\n",
    "        }\n",
    "        \n",
    "        \n",
    "        int cnt = 0;\n",
    "        int prevEnding = -1;\n",
    "        for(int i = 0; i < end.size(); i++)\n",
    "        {\n",
    "            if(start[i] > prevEnding)\n",
    "            {\n",
    "                prevEnding = end[i];\n",
    "                cnt+=1;\n",
    "            }\n",
    "        }\n",
    "        return cnt;\n",
    "        \n",
    "        \n",
    "    }\n",
    "};"
   ]
  }
 ],
 "metadata": {
  "kernelspec": {
   "display_name": "C++17",
   "language": "C++17",
   "name": "xcpp17"
  },
  "language_info": {
   "codemirror_mode": "text/x-c++src",
   "file_extension": ".cpp",
   "mimetype": "text/x-c++src",
   "name": "C++17",
   "version": "17"
  }
 },
 "nbformat": 4,
 "nbformat_minor": 5
}
