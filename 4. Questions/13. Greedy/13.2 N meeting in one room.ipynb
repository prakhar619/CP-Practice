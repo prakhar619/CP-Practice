{
 "cells": [
  {
   "cell_type": "code",
   "execution_count": null,
   "id": "1a3d970f",
   "metadata": {
    "vscode": {
     "languageId": "plaintext"
    }
   },
   "outputs": [],
   "source": [
    "class Solution {\n",
    "  public:\n",
    "    // Function to find the maximum number of meetings that can\n",
    "    // be performed in a meeting room.\n",
    "    int maxMeetings(vector<int>& start, vector<int>& end) {\n",
    "        // Your code here\n",
    "        vector<pair<int,int>> customArray;\n",
    "        for(int i = 0; i < start.size(); i++)\n",
    "        {   \n",
    "            //assert start.size == end.size();\n",
    "            customArray.push_back({start[i],end[i]});\n",
    "        }\n",
    "        \n",
    "        sort(customArray.begin(), customArray.end(), [&](pair<int,int> a, pair<int,int> b){\n",
    "            return a.second < b.second;\n",
    "        });\n",
    "        \n",
    "        for(int i = 0; i < customArray.size(); i++)\n",
    "        {\n",
    "            start[i] = customArray[i].first;\n",
    "            end[i] = customArray[i].second;\n",
    "        }\n",
    "        \n",
    "        \n",
    "        int cnt = 0;\n",
    "        int prevEnding = -1;\n",
    "        for(int i = 0; i < end.size(); i++)\n",
    "        {\n",
    "            if(start[i] > prevEnding)\n",
    "            {\n",
    "                prevEnding = end[i];\n",
    "                cnt+=1;\n",
    "            }\n",
    "        }\n",
    "        return cnt;\n",
    "        \n",
    "        \n",
    "    }\n",
    "};"
   ]
  }
 ],
 "metadata": {
  "language_info": {
   "name": "python"
  }
 },
 "nbformat": 4,
 "nbformat_minor": 5
}
