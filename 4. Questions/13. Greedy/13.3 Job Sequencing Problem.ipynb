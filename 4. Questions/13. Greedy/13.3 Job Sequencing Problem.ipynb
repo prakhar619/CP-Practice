{
 "cells": [
  {
   "cell_type": "markdown",
   "id": "6df8942e",
   "metadata": {},
   "source": [
    "#### Chapter 13"
   ]
  },
  {
   "cell_type": "code",
   "execution_count": 1,
   "id": "6f52a6d9",
   "metadata": {
    "vscode": {
     "languageId": "cpp"
    }
   },
   "outputs": [],
   "source": [
    "#include <vector>\n",
    "#include <algorithm>\n",
    "#include <queue>\n",
    "using namespace std;"
   ]
  },
  {
   "cell_type": "markdown",
   "id": "f348f6f6",
   "metadata": {},
   "source": [
    "### 3. Job Sequencing Problem"
   ]
  },
  {
   "cell_type": "markdown",
   "id": "c9528e61",
   "metadata": {},
   "source": [
    "> Given job list containing start and end deadline for job where each job takes 1 unit time, give maximum count of jobs that can be done."
   ]
  },
  {
   "cell_type": "markdown",
   "id": "53ddf5bb",
   "metadata": {},
   "source": [
    "*Leetcode Link:* https://www.geeksforgeeks.org/problems/job-sequencing-problem-1587115620/1"
   ]
  },
  {
   "cell_type": "markdown",
   "id": "aba69301",
   "metadata": {},
   "source": [
    "**Best Possible Solution:**"
   ]
  },
  {
   "cell_type": "markdown",
   "id": "845a4ce8",
   "metadata": {},
   "source": [
    "### Method 1\n",
    "Time Complexity: O(n log n)  \n",
    "Space Complexity: O(m)\n",
    "###### where n is size of input array and m is max integer present in array"
   ]
  },
  {
   "cell_type": "code",
   "execution_count": 2,
   "id": "7f042384",
   "metadata": {
    "vscode": {
     "languageId": "cpp"
    }
   },
   "outputs": [],
   "source": [
    "class Solution {\n",
    "  public:\n",
    "    vector<int> jobSequencing(vector<int> &deadline, vector<int> &profit) {\n",
    "        // code here\n",
    "        vector<pair<int,int>> customArray;\n",
    "        for(int i = 0; i < deadline.size(); i++)\n",
    "        {   \n",
    "            //assert start.size == end.size();\n",
    "            customArray.push_back({deadline[i],profit[i]});\n",
    "        }\n",
    "        \n",
    "        //sort based on max profit (profit desc)\n",
    "        sort(customArray.begin(), customArray.end(), [&](pair<int,int> a, pair<int,int> b){\n",
    "            if(a.second == b.second)\n",
    "            return a.first < b.first;\n",
    "            else\n",
    "            return a.second > b.second;\n",
    "        });\n",
    "        \n",
    "        for(int i = 0; i < customArray.size(); i++)\n",
    "        {\n",
    "            deadline[i] = customArray[i].first;\n",
    "            profit[i] = customArray[i].second;\n",
    "        }\n",
    "        \n",
    "        //cases like Profit: [1,1,2,2] , Deadline: [1,1,2,2] => Sort on Profit\n",
    "        //cases like Profit: [1,1,2,2] , Deadline: [1,2,3,4] => Sort on Deadline\n",
    "        \n",
    "        //therefore very different way\n",
    "        int maxDeadline = *max_element(deadline.begin(), deadline.end());\n",
    "        vector<int> slot(maxDeadline+1, -1);\n",
    "        for(int i = 0; i < profit.size(); i++)\n",
    "        {\n",
    "            int j = deadline[i];\n",
    "            while(j >= 1 && slot[j] != -1)\n",
    "            j--;\n",
    "            \n",
    "            if(j >= 1)\n",
    "            {\n",
    "                slot[j] = profit[i];\n",
    "            }\n",
    "        }\n",
    "        \n",
    "        int profitTotal = 0;\n",
    "        int jobCount = 0;\n",
    "        for(int i = 0; i < slot.size(); i++)\n",
    "        {\n",
    "            if(slot[i] != -1)\n",
    "            {\n",
    "                jobCount+=1;\n",
    "                profitTotal += slot[i];\n",
    "            }\n",
    "        }\n",
    "        return {jobCount, profitTotal};\n",
    "    }\n",
    "};"
   ]
  },
  {
   "cell_type": "markdown",
   "id": "96865ac3",
   "metadata": {},
   "source": [
    "### Method 1\n",
    "Time Complexity: O(n log n)    \n",
    "Space Complexity: O(n)\n",
    "###### where n is size of input array"
   ]
  },
  {
   "cell_type": "code",
   "execution_count": 3,
   "id": "edea7605",
   "metadata": {
    "vscode": {
     "languageId": "cpp"
    }
   },
   "outputs": [],
   "source": [
    "class Solution {\n",
    "  public:\n",
    "    vector<int> jobSequencing(vector<int> &deadline, vector<int> &profit) {\n",
    "        // code here\n",
    "        vector<pair<int,int>> customArray;\n",
    "        for(int i = 0; i < deadline.size(); i++)\n",
    "        {   \n",
    "            //assert start.size == end.size();\n",
    "            customArray.push_back({deadline[i],profit[i]});\n",
    "        }\n",
    "        \n",
    "        sort(customArray.begin(), customArray.end(), [&](pair<int,int> a, pair<int,int> b){\n",
    "            if(a.second == b.second)\n",
    "            return a.first < b.first;\n",
    "            else\n",
    "            return a.second > b.second;\n",
    "        });\n",
    "        \n",
    "        for(int i = 0; i < customArray.size(); i++)\n",
    "        {\n",
    "            deadline[i] = customArray[i].first;\n",
    "            profit[i] = customArray[i].second;\n",
    "        }\n",
    "        \n",
    "        //cases like Profit: [1,1,2,2] , Deadline: [1,1,2,2] => Sort on Profit\n",
    "        //cases like Profit: [1,1,2,2] , Deadline: [1,2,3,4] => Sort on Deadline\n",
    "        \n",
    "        //therefore very different way\n",
    "        //change\n",
    "        vector<int> slot(deadline.size(), -1);\n",
    "        for(int i = 0; i < profit.size(); i++)\n",
    "        {\n",
    "            //optimising space and managing index \n",
    "            int j = min(static_cast<int>(slot.size()-1), deadline[i]-1);\n",
    "            while(j >= 0 && slot[j] != -1)\n",
    "            j--;\n",
    "            \n",
    "            if(j >= 0)\n",
    "            {\n",
    "                slot[j] = profit[i];\n",
    "            }\n",
    "        }\n",
    "        \n",
    "        int profitTotal = 0;\n",
    "        int jobCount = 0;\n",
    "        for(int i = 0; i < slot.size(); i++)\n",
    "        {\n",
    "            if(slot[i] != -1)\n",
    "            {\n",
    "                jobCount+=1;\n",
    "                profitTotal += slot[i];\n",
    "            }\n",
    "        }\n",
    "        return {jobCount, profitTotal};\n",
    "    }\n",
    "};"
   ]
  },
  {
   "cell_type": "markdown",
   "id": "e1045b8e",
   "metadata": {},
   "source": [
    "### Method 3: \n",
    "Time Complexity: O(n log n)  \n",
    "Space Complexity: O(n)\n",
    "###### where n is size of input array\n",
    "## Space Optimised"
   ]
  },
  {
   "cell_type": "code",
   "execution_count": 4,
   "id": "91ed11b2",
   "metadata": {
    "vscode": {
     "languageId": "cpp"
    }
   },
   "outputs": [],
   "source": [
    "class Solution {\n",
    "  public:\n",
    "    vector<int> jobSequencing(vector<int> &deadline, vector<int> &profit) {\n",
    "        vector<pair<int,int>> customArray;\n",
    "        for(int i = 0; i < deadline.size(); i++)\n",
    "        {   \n",
    "            //assert start.size == end.size();\n",
    "            customArray.push_back({deadline[i],profit[i]});\n",
    "        }\n",
    "        \n",
    "        //sort on deadline (deadline asc)\n",
    "        sort(customArray.begin(), customArray.end());\n",
    "        \n",
    "        for(int i = 0; i < customArray.size(); i++)\n",
    "        {\n",
    "            deadline[i] = customArray[i].first;\n",
    "            profit[i] = customArray[i].second;\n",
    "        }\n",
    "        \n",
    "        //cases like Profit: [1,1,2,2] , Deadline: [1,1,2,2] => Sort on Profit\n",
    "        //cases like Profit: [1,1,2,2] , Deadline: [1,2,3,4] => Sort on Deadline\n",
    "        \n",
    "        //therefore very different way\n",
    "        //change\n",
    "        //change\n",
    "\n",
    "        //min heap for lowest profit at top but insert based on deadline shortest\n",
    "        priority_queue<int, vector<int>, greater<int>> pq;\n",
    "        for(int i = 0; i < profit.size(); i++)\n",
    "        {\n",
    "            if(pq.size() < deadline[i])\n",
    "            {\n",
    "                pq.push(profit[i]);\n",
    "            }\n",
    "            else if(!pq.empty() && pq.top() < profit[i])\n",
    "            {\n",
    "                pq.pop();\n",
    "                pq.push(profit[i]);\n",
    "            }\n",
    "        }\n",
    "        \n",
    "        int cnt = 0;\n",
    "        int profitTotal = 0;\n",
    "        while(!pq.empty())\n",
    "        {\n",
    "            cnt += 1;\n",
    "            profitTotal += pq.top();\n",
    "            pq.pop();\n",
    "        }\n",
    "        \n",
    "        return {cnt,profitTotal};\n",
    "    }\n",
    "};"
   ]
  }
 ],
 "metadata": {
  "kernelspec": {
   "display_name": "C++17",
   "language": "C++17",
   "name": "xcpp17"
  },
  "language_info": {
   "codemirror_mode": "text/x-c++src",
   "file_extension": ".cpp",
   "mimetype": "text/x-c++src",
   "name": "c++",
   "version": "17"
  }
 },
 "nbformat": 4,
 "nbformat_minor": 5
}
