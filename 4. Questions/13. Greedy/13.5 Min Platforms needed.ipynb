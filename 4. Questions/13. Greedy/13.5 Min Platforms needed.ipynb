{
 "cells": [
  {
   "cell_type": "code",
   "execution_count": null,
   "id": "b42e0a2e",
   "metadata": {
    "vscode": {
     "languageId": "plaintext"
    }
   },
   "outputs": [],
   "source": [
    "class Solution {\n",
    "  public:\n",
    "    struct comparePair {\n",
    "        bool operator()(pair<int,int>& a, pair<int,int>& b) {\n",
    "            return a.second > b.second;  \n",
    "            // Min-heap based on departure time\n",
    "            //different sign that vector\n",
    "        }\n",
    "    };\n",
    "\n",
    "    int findPlatform(vector<int>& arr, vector<int>& dep) {\n",
    "        vector<pair<int, int>> pvector;\n",
    "        for(int i = 0; i < arr.size(); i++) {\n",
    "            pvector.push_back({arr[i], dep[i]});\n",
    "        }\n",
    "\n",
    "        // Sort by arrival time\n",
    "        sort(pvector.begin(), pvector.end());\n",
    "\n",
    "        priority_queue<pair<int,int>, vector<pair<int,int>>, comparePair> pq;\n",
    "\n",
    "        int maxPlt = 0;\n",
    "        for(int i = 0; i < pvector.size(); i++) {\n",
    "            // Free platforms for trains that have departed\n",
    "            while(!pq.empty() && pq.top().second < pvector[i].first) //any train whose departure time is smaller than incoming train\n",
    "            {\n",
    "                pq.pop();   \n",
    "            }\n",
    "\n",
    "            // Push current train\n",
    "            pq.push(pvector[i]);\n",
    "            maxPlt = max((int)pq.size(), maxPlt);\n",
    "        }\n",
    "\n",
    "        return maxPlt;\n",
    "    }\n",
    "};\n"
   ]
  },
  {
   "cell_type": "markdown",
   "id": "34e75953",
   "metadata": {},
   "source": [
    "https://www.geeksforgeeks.org/problems/minimum-platforms-1587115620/1"
   ]
  }
 ],
 "metadata": {
  "language_info": {
   "name": "python"
  }
 },
 "nbformat": 4,
 "nbformat_minor": 5
}
