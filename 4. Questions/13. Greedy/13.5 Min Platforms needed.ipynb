{
 "cells": [
  {
   "cell_type": "markdown",
   "id": "9abb4c22",
   "metadata": {},
   "source": [
    "#### Chapter 13: Greedy"
   ]
  },
  {
   "cell_type": "code",
   "execution_count": 1,
   "id": "5e68f6e5",
   "metadata": {
    "vscode": {
     "languageId": "cpp"
    }
   },
   "outputs": [],
   "source": [
    "#include <vector>\n",
    "#include <queue>\n",
    "#include <algorithm>\n",
    "using namespace std;"
   ]
  },
  {
   "cell_type": "markdown",
   "id": "9aa15f36",
   "metadata": {},
   "source": [
    "### 5. Min Platform"
   ]
  },
  {
   "cell_type": "markdown",
   "id": "210d98a1",
   "metadata": {},
   "source": [
    "> You are given the arrival times arr[] and departure times dep[] of all trains that arrive at a railway station on the same day. Your task is to determine the minimum number of platforms required at the station to ensure that no train is kept waiting.  \n",
    "At any given time, the same platform cannot be used for both the arrival of one train and the departure of another. Therefore, when two trains arrive at the same time, or when one arrives before another departs, additional platforms are required to accommodate both trains."
   ]
  },
  {
   "cell_type": "markdown",
   "id": "34e75953",
   "metadata": {},
   "source": [
    "*Leetcode Link:* https://www.geeksforgeeks.org/problems/minimum-platforms-1587115620/1"
   ]
  },
  {
   "cell_type": "markdown",
   "id": "70225cd2",
   "metadata": {},
   "source": [
    "**Best Possible Solution:**"
   ]
  },
  {
   "cell_type": "markdown",
   "id": "2704ef3c",
   "metadata": {},
   "source": [
    "### Method 1:\n",
    "Time Complexity: O(n log n)  \n",
    "Space Complexity: O(n)\n",
    "###### where n is size of input array"
   ]
  },
  {
   "cell_type": "code",
   "execution_count": 2,
   "id": "b42e0a2e",
   "metadata": {
    "vscode": {
     "languageId": "cpp"
    }
   },
   "outputs": [],
   "source": [
    "class Solution {\n",
    "  public:\n",
    "    struct comparePair {\n",
    "        bool operator()(pair<int,int>& a, pair<int,int>& b) {\n",
    "            return a.second > b.second;  \n",
    "            // Min-heap based on departure time\n",
    "            //different sign that vector\n",
    "        }\n",
    "    };\n",
    "\n",
    "    int findPlatform(vector<int>& arr, vector<int>& dep) {\n",
    "        vector<pair<int, int>> pvector;\n",
    "        for(int i = 0; i < arr.size(); i++) {\n",
    "            pvector.push_back({arr[i], dep[i]});\n",
    "        }\n",
    "\n",
    "        // Sort by arrival time\n",
    "        sort(pvector.begin(), pvector.end());\n",
    "\n",
    "        priority_queue<pair<int,int>, vector<pair<int,int>>, comparePair> pq;\n",
    "\n",
    "        int maxPlt = 0;\n",
    "        for(int i = 0; i < pvector.size(); i++) {\n",
    "            // Free platforms for trains that have departed\n",
    "            while(!pq.empty() && pq.top().second < pvector[i].first) //any train whose departure time is smaller than incoming train\n",
    "            {\n",
    "                pq.pop();   \n",
    "            }\n",
    "\n",
    "            // Push current train\n",
    "            pq.push(pvector[i]);\n",
    "            maxPlt = max((int)pq.size(), maxPlt);\n",
    "        }\n",
    "\n",
    "        return maxPlt;\n",
    "    }\n",
    "};\n"
   ]
  }
 ],
 "metadata": {
  "kernelspec": {
   "display_name": "C++17",
   "language": "C++17",
   "name": "xcpp17"
  },
  "language_info": {
   "codemirror_mode": "text/x-c++src",
   "file_extension": ".cpp",
   "mimetype": "text/x-c++src",
   "name": "c++",
   "version": "17"
  }
 },
 "nbformat": 4,
 "nbformat_minor": 5
}
