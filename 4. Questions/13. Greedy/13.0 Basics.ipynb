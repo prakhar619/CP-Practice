{
 "cells": [
  {
   "cell_type": "code",
   "execution_count": 1,
   "id": "bfb15737",
   "metadata": {
    "vscode": {
     "languageId": "cpp"
    }
   },
   "outputs": [],
   "source": [
    "#include <iostream>\n",
    "#include <vector>\n",
    "using namespace std;"
   ]
  },
  {
   "cell_type": "markdown",
   "id": "ba364308",
   "metadata": {},
   "source": [
    "## Sort"
   ]
  },
  {
   "cell_type": "code",
   "execution_count": null,
   "id": "6a4a1961",
   "metadata": {
    "vscode": {
     "languageId": "cpp"
    }
   },
   "outputs": [],
   "source": [
    "vector<int> sortOrder = {111,98,84,72,61,59,43,30,29,11,0};"
   ]
  },
  {
   "cell_type": "markdown",
   "id": "7b4cee24",
   "metadata": {},
   "source": [
    "### Method 1:"
   ]
  },
  {
   "cell_type": "code",
   "execution_count": 3,
   "id": "366fd0b7",
   "metadata": {
    "vscode": {
     "languageId": "cpp"
    }
   },
   "outputs": [
    {
     "name": "stdout",
     "output_type": "stream",
     "text": [
      "0 11 29 30 43 59 61 72 84 98 111 "
     ]
    }
   ],
   "source": [
    "vector<int> individualSort = sortOrder;\n",
    "sort(individualSort.begin(), individualSort.end(), [&](int a, int b){\n",
    "    return a < b;\n",
    "});\n",
    "for(int i: individualSort)\n",
    "{\n",
    "    cout << i << \" \";\n",
    "}"
   ]
  },
  {
   "cell_type": "markdown",
   "id": "aab685d8",
   "metadata": {},
   "source": [
    "### Method 2:"
   ]
  },
  {
   "cell_type": "code",
   "execution_count": 4,
   "id": "a1cb05b4",
   "metadata": {
    "vscode": {
     "languageId": "cpp"
    }
   },
   "outputs": [],
   "source": [
    "bool compareFunction(int a, int b)\n",
    "{\n",
    "    return a < b;\n",
    "}"
   ]
  },
  {
   "cell_type": "code",
   "execution_count": 5,
   "id": "ff10233d",
   "metadata": {
    "vscode": {
     "languageId": "cpp"
    }
   },
   "outputs": [
    {
     "name": "stdout",
     "output_type": "stream",
     "text": [
      "0 11 29 30 43 59 61 72 84 98 111 "
     ]
    }
   ],
   "source": [
    "vector<int> individualSort2 = sortOrder;\n",
    "sort(individualSort2.begin(), individualSort2.end(), compareFunction);\n",
    "for(int i: individualSort2)\n",
    "{\n",
    "    cout << i << \" \";\n",
    "}"
   ]
  },
  {
   "cell_type": "markdown",
   "id": "a7dc4226",
   "metadata": {},
   "source": [
    "### Method 3"
   ]
  },
  {
   "cell_type": "code",
   "execution_count": 9,
   "id": "4af5632c",
   "metadata": {
    "vscode": {
     "languageId": "cpp"
    }
   },
   "outputs": [],
   "source": [
    "struct CompareByA {\n",
    "    const std::vector<int>& A;\n",
    "    CompareByA(const std::vector<int>& A) : A(A) {}\n",
    "    bool operator()(int a, int b) const {\n",
    "        return a < b;\n",
    "    }\n",
    "};"
   ]
  },
  {
   "cell_type": "code",
   "execution_count": 10,
   "id": "aaacd104",
   "metadata": {
    "vscode": {
     "languageId": "cpp"
    }
   },
   "outputs": [
    {
     "name": "stdout",
     "output_type": "stream",
     "text": [
      "0 11 29 30 43 59 61 72 84 98 111 "
     ]
    }
   ],
   "source": [
    "vector<int> individualSort3 = sortOrder;\n",
    "sort(individualSort3.begin(), individualSort3.end(), CompareByA(individualSort3));\n",
    "for(int i: individualSort3)\n",
    "{\n",
    "    cout << i << \" \";\n",
    "}"
   ]
  },
  {
   "cell_type": "markdown",
   "id": "0c4bc010",
   "metadata": {},
   "source": [
    "## Sort 2 Array "
   ]
  },
  {
   "cell_type": "code",
   "execution_count": null,
   "id": "e6de4809",
   "metadata": {
    "vscode": {
     "languageId": "cpp"
    }
   },
   "outputs": [],
   "source": [
    "vector<int> sortOrder = {111,98,84,72,61,59,43,30,29,11,0};\n",
    "vector<int> effected =  {10,11,23,34,41,55,62,79,81,90};"
   ]
  },
  {
   "cell_type": "markdown",
   "id": "b0076479",
   "metadata": {},
   "source": [
    "### Method 1"
   ]
  },
  {
   "cell_type": "code",
   "execution_count": null,
   "id": "131c39bf",
   "metadata": {
    "vscode": {
     "languageId": "cpp"
    }
   },
   "outputs": [],
   "source": [
    "vector<int> sortOrder1 = {111,98,84,72,61,59,43,30,29,11,0};\n",
    "vector<int> effected1 =  {10,11,23,34,41,55,62,79,81,90};"
   ]
  },
  {
   "cell_type": "code",
   "execution_count": null,
   "id": "810661cd",
   "metadata": {
    "vscode": {
     "languageId": "cpp"
    }
   },
   "outputs": [],
   "source": [
    "vector<pair<int,int>> customArray;\n",
    "for(int i = 0; i < start.size(); i++)\n",
    "{   \n",
    "    //assert start.size == end.size();\n",
    "    customArray.push_back({start[i],end[i]})\n",
    "}\n",
    "\n",
    "sort(customArray.begin(), customArray.end(), [&](pair<int,int> a, pair<int,int> b){\n",
    "    return a.second < b.second;\n",
    "});\n",
    "\n",
    "for(int i = 0; i < customArray.size(); i++)\n",
    "{\n",
    "    start[i] = customArray[i].first;\n",
    "    end[i] = customArray[i].second;\n",
    "}"
   ]
  },
  {
   "cell_type": "markdown",
   "id": "71953cbc",
   "metadata": {},
   "source": [
    "Also be vary of size(), always use static_cast<>\n",
    "Also for priorit_queue comparator need to be struct, cant be function"
   ]
  }
 ],
 "metadata": {
  "kernelspec": {
   "display_name": "C++17",
   "language": "C++17",
   "name": "xcpp17"
  },
  "language_info": {
   "codemirror_mode": "text/x-c++src",
   "file_extension": ".cpp",
   "mimetype": "text/x-c++src",
   "name": "c++",
   "version": "17"
  }
 },
 "nbformat": 4,
 "nbformat_minor": 5
}
