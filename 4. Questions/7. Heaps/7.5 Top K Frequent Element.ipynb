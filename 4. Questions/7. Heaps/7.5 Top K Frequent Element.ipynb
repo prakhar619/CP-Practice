{
 "cells": [
  {
   "cell_type": "code",
   "execution_count": null,
   "id": "897d2b73",
   "metadata": {
    "vscode": {
     "languageId": "plaintext"
    }
   },
   "outputs": [],
   "source": [
    "class Solution {\n",
    "public:\n",
    "    vector<int> topKFrequent(vector<int>& nums, int k1) {\n",
    "        unordered_map<int,int> umap;\n",
    "        for(int i: nums)\n",
    "        {\n",
    "            umap[i]++;\n",
    "        }\n",
    "\n",
    "        priority_queue<pair<int,int>, vector<pair<int,int>>, greater<pair<int,int>>> pq;\n",
    "        for(pair<int,int> k: umap)\n",
    "        {\n",
    "            pq.push({k.second,k.first});\n",
    "            if(pq.size() > k1)\n",
    "            pq.pop();\n",
    "        }\n",
    "\n",
    "        vector<int> ans;\n",
    "        while(k1 > 0)\n",
    "        {\n",
    "            k1--;\n",
    "            ans.push_back(pq.top().second);\n",
    "            pq.pop();\n",
    "        }\n",
    "        return ans;\n",
    "    }\n",
    "};"
   ]
  },
  {
   "cell_type": "markdown",
   "id": "f02d7baf",
   "metadata": {},
   "source": [
    "https://leetcode.com/problems/top-k-frequent-elements/"
   ]
  },
  {
   "cell_type": "code",
   "execution_count": null,
   "id": "5f94a778",
   "metadata": {
    "vscode": {
     "languageId": "plaintext"
    }
   },
   "outputs": [],
   "source": [
    "class Solution {\n",
    "public:\n",
    "    vector<int> topKFrequent(vector<int>& nums, int k1) {\n",
    "        unordered_map<int,int> umap;\n",
    "        for(int i: nums)\n",
    "        {\n",
    "            umap[i]++;\n",
    "        }\n",
    "\n",
    "        priority_queue<pair<int,int>, vector<pair<int,int>>, greater<pair<int,int>>> pq;\n",
    "        for(pair<int,int> k: umap)\n",
    "        {\n",
    "            pq.push({k.second,k.first});\n",
    "            if(pq.size() > k1)\n",
    "            pq.pop();\n",
    "        }\n",
    "\n",
    "        vector<int> ans;\n",
    "        while(k1 > 0)\n",
    "        {\n",
    "            k1--;\n",
    "            ans.push_back(pq.top().second);\n",
    "            pq.pop();\n",
    "        }\n",
    "        return ans;\n",
    "    }\n",
    "};"
   ]
  }
 ],
 "metadata": {
  "language_info": {
   "name": "python"
  }
 },
 "nbformat": 4,
 "nbformat_minor": 5
}
