{
 "cells": [
  {
   "cell_type": "markdown",
   "id": "6a429090",
   "metadata": {},
   "source": [
    "### Chapter 7: Heaps"
   ]
  },
  {
   "cell_type": "code",
   "execution_count": 1,
   "id": "2f586d48",
   "metadata": {
    "vscode": {
     "languageId": "cpp"
    }
   },
   "outputs": [],
   "source": [
    "#include <vector>\n",
    "#include <queue>\n",
    "using namespace std;"
   ]
  },
  {
   "cell_type": "markdown",
   "id": "e68ab81d",
   "metadata": {},
   "source": [
    "#### 5. Top K Frequent Element"
   ]
  },
  {
   "cell_type": "markdown",
   "id": "96e15d79",
   "metadata": {},
   "source": [
    "> Given an array find top k frequent element"
   ]
  },
  {
   "cell_type": "markdown",
   "id": "f02d7baf",
   "metadata": {},
   "source": [
    "*Leetcode Link:* https://leetcode.com/problems/top-k-frequent-elements/"
   ]
  },
  {
   "cell_type": "markdown",
   "id": "eb058e72",
   "metadata": {},
   "source": [
    "**Best Possible Solution:**"
   ]
  },
  {
   "cell_type": "markdown",
   "id": "94ac1e11",
   "metadata": {},
   "source": [
    "### Method 1:\n",
    "Time Complexity: O(n log k)    \n",
    "Space Complexity: O(n+k)\n",
    "###### where n is size of input array and k in 2nd input number"
   ]
  },
  {
   "cell_type": "code",
   "execution_count": 2,
   "id": "897d2b73",
   "metadata": {
    "vscode": {
     "languageId": "cpp"
    }
   },
   "outputs": [],
   "source": [
    "class Solution {\n",
    "public:\n",
    "    vector<int> topKFrequent(vector<int>& nums, int k1) {\n",
    "        unordered_map<int,int> umap;\n",
    "        for(int i: nums)\n",
    "        {\n",
    "            umap[i]++;\n",
    "        }\n",
    "\n",
    "        priority_queue<pair<int,int>, vector<pair<int,int>>, greater<pair<int,int>>> pq;\n",
    "        for(pair<int,int> k: umap)\n",
    "        {\n",
    "            pq.push({k.second,k.first});\n",
    "            if(pq.size() > k1)\n",
    "            pq.pop();\n",
    "        }\n",
    "\n",
    "        vector<int> ans;\n",
    "        while(k1 > 0)\n",
    "        {\n",
    "            k1--;\n",
    "            ans.push_back(pq.top().second);\n",
    "            pq.pop();\n",
    "        }\n",
    "        return ans;\n",
    "    }\n",
    "};"
   ]
  }
 ],
 "metadata": {
  "kernelspec": {
   "display_name": "C++17",
   "language": "C++17",
   "name": "xcpp17"
  },
  "language_info": {
   "codemirror_mode": "text/x-c++src",
   "file_extension": ".cpp",
   "mimetype": "text/x-c++src",
   "name": "C++17",
   "version": "17"
  }
 },
 "nbformat": 4,
 "nbformat_minor": 5
}
