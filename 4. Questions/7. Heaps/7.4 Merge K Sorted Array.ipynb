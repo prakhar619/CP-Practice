{
 "cells": [
  {
   "cell_type": "code",
   "execution_count": null,
   "id": "c66fa974",
   "metadata": {
    "vscode": {
     "languageId": "plaintext"
    }
   },
   "outputs": [],
   "source": [
    "class Solution {\n",
    "  public:\n",
    "    // Function to merge k sorted arrays.\n",
    "    vector<int> mergeKArrays(vector<vector<int>> arr, int K) {\n",
    "        // code here\n",
    "        vector<int> pointer(arr.size(),0);\n",
    "        priority_queue<pair<int,int>, vector<pair<int,int>>, greater<pair<int,int>>> pq;\n",
    "        \n",
    "        for(int i = 0; i < arr.size(); i++)\n",
    "        {\n",
    "            pq.push({arr[i][pointer[i]], i});\n",
    "            pointer[i]++;\n",
    "        }\n",
    "    \n",
    "        vector<int> ans;\n",
    "        while(!pq.empty())\n",
    "        {\n",
    "            pair<int,int> numRow = pq.top();\n",
    "            pq.pop();\n",
    "            ans.push_back(numRow.first);\n",
    "               \n",
    "            if(pointer[numRow.second] < arr[numRow.second].size())\n",
    "            {\n",
    "                pq.push({arr[numRow.second][pointer[numRow.second]], numRow.second});\n",
    "                pointer[numRow.second]++;\n",
    "            }   \n",
    "        }\n",
    "        \n",
    "        return ans;\n",
    "    }\n",
    "};"
   ]
  },
  {
   "cell_type": "markdown",
   "id": "984a6814",
   "metadata": {},
   "source": [
    "https://www.geeksforgeeks.org/problems/merge-k-sorted-arrays/"
   ]
  }
 ],
 "metadata": {
  "language_info": {
   "name": "python"
  }
 },
 "nbformat": 4,
 "nbformat_minor": 5
}
