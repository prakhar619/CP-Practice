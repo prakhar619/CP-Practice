{
 "cells": [
  {
   "cell_type": "markdown",
   "id": "ff7600d3",
   "metadata": {},
   "source": [
    "#### Chapter 7: Heaps"
   ]
  },
  {
   "cell_type": "code",
   "execution_count": 1,
   "id": "7596afe2",
   "metadata": {
    "vscode": {
     "languageId": "cpp"
    }
   },
   "outputs": [],
   "source": [
    "#include <vector>\n",
    "#include <queue>\n",
    "using namespace std;"
   ]
  },
  {
   "cell_type": "markdown",
   "id": "cb07f30b",
   "metadata": {},
   "source": [
    "### 4. Merge K Sorted Array"
   ]
  },
  {
   "cell_type": "markdown",
   "id": "58445437",
   "metadata": {},
   "source": [
    "> Merge K sorted Array into One sorted array"
   ]
  },
  {
   "cell_type": "markdown",
   "id": "984a6814",
   "metadata": {},
   "source": [
    "*Leetcode Link:* https://www.geeksforgeeks.org/problems/merge-k-sorted-arrays/"
   ]
  },
  {
   "cell_type": "markdown",
   "id": "827878ba",
   "metadata": {},
   "source": [
    "**Best Possible Solution:**"
   ]
  },
  {
   "cell_type": "markdown",
   "id": "153de573",
   "metadata": {},
   "source": [
    "### Method 1\n",
    "Time Complexity: O(mn log m)  \n",
    "Space Complexity: O(1) [excluding output array of mn]\n",
    "###### where m is no of arrays and n is size of each array  "
   ]
  },
  {
   "cell_type": "code",
   "execution_count": 3,
   "id": "c66fa974",
   "metadata": {
    "vscode": {
     "languageId": "cpp"
    }
   },
   "outputs": [],
   "source": [
    "class Solution {\n",
    "  public:\n",
    "    // Function to merge k sorted arrays.\n",
    "    vector<int> mergeKArrays(vector<vector<int>> arr, int K) {\n",
    "        // code here\n",
    "        vector<int> pointer(arr.size(),0);\n",
    "        priority_queue<pair<int,int>, vector<pair<int,int>>, greater<pair<int,int>>> pq;\n",
    "        \n",
    "        for(int i = 0; i < arr.size(); i++)\n",
    "        {\n",
    "            pq.push({arr[i][pointer[i]], i});\n",
    "            pointer[i]++;\n",
    "        }\n",
    "    \n",
    "        vector<int> ans;\n",
    "        while(!pq.empty())\n",
    "        {\n",
    "            pair<int,int> numRow = pq.top();\n",
    "            pq.pop();\n",
    "            ans.push_back(numRow.first);\n",
    "               \n",
    "            if(pointer[numRow.second] < arr[numRow.second].size())\n",
    "            {\n",
    "                pq.push({arr[numRow.second][pointer[numRow.second]], numRow.second});\n",
    "                pointer[numRow.second]++;\n",
    "            }   \n",
    "        }\n",
    "        \n",
    "        return ans;\n",
    "    }\n",
    "};"
   ]
  }
 ],
 "metadata": {
  "kernelspec": {
   "display_name": "C++17",
   "language": "C++17",
   "name": "xcpp17"
  },
  "language_info": {
   "codemirror_mode": "text/x-c++src",
   "file_extension": ".cpp",
   "mimetype": "text/x-c++src",
   "name": "c++",
   "version": "17"
  }
 },
 "nbformat": 4,
 "nbformat_minor": 5
}
