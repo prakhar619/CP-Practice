{
 "cells": [
  {
   "cell_type": "markdown",
   "id": "8b05324e",
   "metadata": {},
   "source": [
    "#### Chapter 7: Heaps"
   ]
  },
  {
   "cell_type": "code",
   "execution_count": 1,
   "id": "74cc2ed9",
   "metadata": {
    "vscode": {
     "languageId": "cpp"
    }
   },
   "outputs": [],
   "source": [
    "#include <queue>\n",
    "#include <vector>\n",
    "using namespace std;"
   ]
  },
  {
   "cell_type": "markdown",
   "id": "feb37efb",
   "metadata": {},
   "source": [
    "### 3. Find Median From Data Stream"
   ]
  },
  {
   "cell_type": "markdown",
   "id": "d80cd9cd",
   "metadata": {},
   "source": [
    "> Implement a data structure to take input stream data and give back median whenever required."
   ]
  },
  {
   "cell_type": "markdown",
   "id": "04c128fb",
   "metadata": {},
   "source": [
    "*Leetcode Link:* https://leetcode.com/problems/find-median-from-data-stream/description/"
   ]
  },
  {
   "cell_type": "markdown",
   "id": "c3fc2b48",
   "metadata": {},
   "source": [
    "**Best Possible Solution:**"
   ]
  },
  {
   "cell_type": "markdown",
   "id": "1f930a59",
   "metadata": {},
   "source": [
    "### Method 1:\n",
    "Time Complexity: O(2n log n)  \n",
    "Space Complexity: O(n)"
   ]
  },
  {
   "cell_type": "code",
   "execution_count": null,
   "id": "9885c584",
   "metadata": {
    "vscode": {
     "languageId": "cpp"
    }
   },
   "outputs": [],
   "source": [
    "class MedianFinder {\n",
    "public:\n",
    "    priority_queue<int,vector<int>> maxPQ;\n",
    "    priority_queue<int,vector<int>, greater<int>> minPQ;  \n",
    "    MedianFinder() {\n",
    "    }\n",
    "    \n",
    "    void addNum(int num) { \n",
    "         \n",
    "        minPQ.push(num);\n",
    "        maxPQ.push(minPQ.top());\n",
    "        minPQ.pop();\n",
    "        if(maxPQ.size() > minPQ.size())\n",
    "        {\n",
    "            minPQ.push(maxPQ.top());\n",
    "            maxPQ.pop();\n",
    "        }\n",
    "        \n",
    "\n",
    "        /* why this wont work\n",
    "        minPQ.push(num);\n",
    "        if(minPQ.size() > maxPQ.size()+1)\n",
    "        {\n",
    "            maxPQ.push(minPQ.top());\n",
    "            minPQ.pop();\n",
    "        }\n",
    "        */\n",
    "    }\n",
    "    \n",
    "    double findMedian() {\n",
    "        if(minPQ.size() > maxPQ.size())\n",
    "        return (maxPQ.top()*1.0);\n",
    "        else\n",
    "        return (maxPQ.top() + minPQ.top())/2.0;\n",
    "        \n",
    "    }\n",
    "};\n",
    "\n",
    "/**\n",
    " * Your MedianFinder object will be instantiated and called as such:\n",
    " * MedianFinder* obj = new MedianFinder();\n",
    " * obj->addNum(num);\n",
    " * double param_2 = obj->findMedian();\n",
    " */"
   ]
  }
 ],
 "metadata": {
  "kernelspec": {
   "display_name": "C++17",
   "language": "C++17",
   "name": "xcpp17"
  },
  "language_info": {
   "codemirror_mode": "text/x-c++src",
   "file_extension": ".cpp",
   "mimetype": "text/x-c++src",
   "name": "c++",
   "version": "17"
  }
 },
 "nbformat": 4,
 "nbformat_minor": 5
}
