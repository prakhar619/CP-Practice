{
 "cells": [
  {
   "cell_type": "code",
   "execution_count": null,
   "id": "9885c584",
   "metadata": {
    "vscode": {
     "languageId": "plaintext"
    }
   },
   "outputs": [],
   "source": [
    "class MedianFinder {\n",
    "public:\n",
    "    priority_queue<int,vector<int>> maxPQ;\n",
    "    priority_queue<int,vector<int>, greater<int>> minPQ;  \n",
    "    MedianFinder() {\n",
    "    }\n",
    "    \n",
    "    void addNum(int num) { \n",
    "         \n",
    "        minPQ.push(num);\n",
    "        maxPQ.push(minPQ.top());\n",
    "        minPQ.pop();\n",
    "        if(maxPQ.size() > minPQ.size())\n",
    "        {\n",
    "            minPQ.push(maxPQ.top());\n",
    "            maxPQ.pop();\n",
    "        }\n",
    "        \n",
    "\n",
    "        /* why this wont work\n",
    "        minPQ.push(num);\n",
    "        if(minPQ.size() > maxPQ.size()+1)\n",
    "        {\n",
    "            maxPQ.push(minPQ.top());\n",
    "            minPQ.pop();\n",
    "        }\n",
    "        */\n",
    "    }\n",
    "    \n",
    "    double findMedian() {\n",
    "        if(minPQ.size() > maxPQ.size())\n",
    "        return (maxPQ.top()*1.0);\n",
    "        else\n",
    "        return (maxPQ.top() + minPQ.top())/2.0;\n",
    "        \n",
    "    }\n",
    "};\n",
    "\n",
    "/**\n",
    " * Your MedianFinder object will be instantiated and called as such:\n",
    " * MedianFinder* obj = new MedianFinder();\n",
    " * obj->addNum(num);\n",
    " * double param_2 = obj->findMedian();\n",
    " */"
   ]
  },
  {
   "cell_type": "markdown",
   "id": "04c128fb",
   "metadata": {},
   "source": [
    "https://leetcode.com/problems/find-median-from-data-stream/description/"
   ]
  }
 ],
 "metadata": {
  "language_info": {
   "name": "python"
  }
 },
 "nbformat": 4,
 "nbformat_minor": 5
}
