{
 "cells": [
  {
   "cell_type": "code",
   "execution_count": null,
   "id": "882a7c83",
   "metadata": {
    "vscode": {
     "languageId": "plaintext"
    }
   },
   "outputs": [],
   "source": [
    "//Operations\n",
    "push()\n",
    "pop()\n",
    "empty()\n",
    "top()\n",
    "size()"
   ]
  },
  {
   "cell_type": "code",
   "execution_count": null,
   "id": "4ccb6bda",
   "metadata": {
    "vscode": {
     "languageId": "plaintext"
    }
   },
   "outputs": [],
   "source": [
    "struct Compare {\n",
    "    bool operator()(const pair<int,int>& a, const pair<int,int>& b) {\n",
    "        return a.first > b.first;  // min-heap based on .first\n",
    "    }\n",
    "};\n",
    "\n",
    "priority_queue<pair<int,int>, vector<pair<int,int>>, Compare> pq;\n"
   ]
  },
  {
   "cell_type": "code",
   "execution_count": null,
   "id": "c4d64ea3",
   "metadata": {
    "vscode": {
     "languageId": "plaintext"
    }
   },
   "outputs": [],
   "source": [
    "struct Node {\n",
    "    int val;\n",
    "    bool operator>(const Node& other) const {\n",
    "        return val > other.val;\n",
    "    }\n",
    "};\n",
    "\n",
    "priority_queue<Node, vector<Node>, greater<Node>> pq;\n"
   ]
  }
 ],
 "metadata": {
  "language_info": {
   "name": "python"
  }
 },
 "nbformat": 4,
 "nbformat_minor": 5
}
