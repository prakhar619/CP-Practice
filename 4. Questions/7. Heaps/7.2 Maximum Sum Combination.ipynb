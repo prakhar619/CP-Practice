{
 "cells": [
  {
   "cell_type": "markdown",
   "id": "e4451f15",
   "metadata": {},
   "source": [
    "#### Chapter 7: Heaps"
   ]
  },
  {
   "cell_type": "code",
   "execution_count": 1,
   "id": "a2aa3932",
   "metadata": {
    "vscode": {
     "languageId": "cpp"
    }
   },
   "outputs": [],
   "source": [
    "using namespace std;"
   ]
  },
  {
   "cell_type": "markdown",
   "id": "a3783719",
   "metadata": {},
   "source": [
    "### 2. Maximum Sum Combination"
   ]
  },
  {
   "cell_type": "markdown",
   "id": "a588bc87",
   "metadata": {},
   "source": [
    ">A sum combination is made by adding one element from array A and another element of array B.  \n",
    "Return the maximum K valid sum combinations from all the possible sum combinations.  \n",
    "Note : Output array must be sorted in non-increasing order."
   ]
  },
  {
   "cell_type": "markdown",
   "id": "35a250aa",
   "metadata": {},
   "source": [
    "*Leetcode Link:* https://www.geeksforgeeks.org/problems/maximum-sum-combination/1"
   ]
  },
  {
   "cell_type": "markdown",
   "id": "e212a8fe",
   "metadata": {},
   "source": [
    "**Best Possible Solution:**"
   ]
  },
  {
   "cell_type": "markdown",
   "id": "e516b860",
   "metadata": {},
   "source": [
    "### Method 1:\n",
    "Time Complexity: O(n^2)  \n",
    "Space Complexity: O(1)"
   ]
  },
  {
   "cell_type": "code",
   "execution_count": null,
   "id": "a59dd847",
   "metadata": {
    "vscode": {
     "languageId": "cpp"
    }
   },
   "outputs": [],
   "source": [
    "class Solution {\n",
    "  public:\n",
    "    vector<int> maxCombinations(int N, int K, vector<int> &A, vector<int> &B) {\n",
    "        // code here\n",
    "        sort(A.begin(),A.end(),greater<int>());\n",
    "        sort(B.begin(),B.end(),greater<int>());\n",
    "        \n",
    "        priority_queue<int,vector<int>> pq;\n",
    "        \n",
    "        for(int i = 0; i < K; i++)\n",
    "        for(int j = 0; j < K; j++)\n",
    "        {\n",
    "            pq.push(A[i]+B[j]);\n",
    "        }\n",
    "        \n",
    "        vector<int> ans;\n",
    "        for(int i = 0; i < K; i++)\n",
    "        {\n",
    "           ans.push_back(pq.top());\n",
    "           pq.pop();\n",
    "        }\n",
    "        \n",
    "        return ans;\n",
    "        \n",
    "    }\n",
    "};"
   ]
  },
  {
   "cell_type": "markdown",
   "id": "b33eab76",
   "metadata": {},
   "source": [
    "### Method 2\n",
    "Time Complexity: O(n log n)\n",
    "Space Complexity: O(n+k)\n",
    "###### where K in 2nd input number and n is size of input arrays"
   ]
  },
  {
   "cell_type": "code",
   "execution_count": null,
   "id": "3e415ca1",
   "metadata": {
    "vscode": {
     "languageId": "cpp"
    }
   },
   "outputs": [],
   "source": [
    "class Solution {\n",
    "  public:\n",
    "    vector<int> maxCombinations(int N, int K, vector<int> &A, vector<int> &B) {\n",
    "        // code here\n",
    "        sort(A.begin(),A.end(),greater<int>());\n",
    "        sort(B.begin(),B.end(),greater<int>());\n",
    "        \n",
    "        \n",
    "        vector<vector<int>> used (N, vector<int>(N,0));\n",
    "        \n",
    "        priority_queue<pair<int,pair<int,int>>, vector<pair<int,pair<int,int>>>> pq;\n",
    "        \n",
    "        int aIndex = 0;\n",
    "        int bIndex = 0;\n",
    "        used[aIndex][bIndex] = 1;\n",
    "        pq.push({A[aIndex]+B[bIndex], {aIndex,bIndex}});\n",
    "        \n",
    "        vector<int> ans;\n",
    "        while(!pq.empty() && K > 0)\n",
    "        {\n",
    "            pair<int,pair<int,int>> topElem = pq.top();\n",
    "            pq.pop();\n",
    "            ans.push_back(topElem.first);\n",
    "            K--;\n",
    "            \n",
    "            if(topElem.second.first+1 < A.size() && used[topElem.second.first+1][topElem.second.second] != 1)\n",
    "            {\n",
    "                pq.push({A[topElem.second.first+1]+B[topElem.second.second],pair<int,int>(topElem.second.first+1,topElem.second.second)});\n",
    "                used[topElem.second.first+1][topElem.second.second] = 1;\n",
    "            }\n",
    "            if(topElem.second.second+1 < B.size() && used[topElem.second.first][topElem.second.second+1] != 1)\n",
    "            {\n",
    "                pq.push({A[topElem.second.first]+B[topElem.second.second+1],pair<int,int>(topElem.second.first,topElem.second.second+1)});\n",
    "                used[topElem.second.first][topElem.second.second+1] = 1;\n",
    "            } \n",
    "        }\n",
    "        \n",
    "        return ans;\n",
    "        \n",
    "    }\n",
    "};"
   ]
  }
 ],
 "metadata": {
  "kernelspec": {
   "display_name": "C++17",
   "language": "C++17",
   "name": "xcpp17"
  },
  "language_info": {
   "codemirror_mode": "text/x-c++src",
   "file_extension": ".cpp",
   "mimetype": "text/x-c++src",
   "name": "c++",
   "version": "17"
  }
 },
 "nbformat": 4,
 "nbformat_minor": 5
}
