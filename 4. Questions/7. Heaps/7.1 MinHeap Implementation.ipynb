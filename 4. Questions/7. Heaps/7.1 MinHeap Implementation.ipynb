{
 "cells": [
  {
   "cell_type": "markdown",
   "id": "dae72a42",
   "metadata": {},
   "source": [
    "#### Chapter 7: Heaps"
   ]
  },
  {
   "cell_type": "code",
   "execution_count": 1,
   "id": "83f4a61b",
   "metadata": {
    "vscode": {
     "languageId": "cpp"
    }
   },
   "outputs": [],
   "source": [
    "#include <vector>\n",
    "using namespace std;"
   ]
  },
  {
   "cell_type": "markdown",
   "id": "4bcb347d",
   "metadata": {},
   "source": [
    "### 1. Min Heap Implementation"
   ]
  },
  {
   "cell_type": "markdown",
   "id": "8970069d",
   "metadata": {},
   "source": [
    "> Implement min heap using array"
   ]
  },
  {
   "cell_type": "markdown",
   "id": "dea02aca",
   "metadata": {},
   "source": [
    "*Leetcode Link:*"
   ]
  },
  {
   "cell_type": "markdown",
   "id": "eb0b6924",
   "metadata": {},
   "source": [
    "**Best Possible Solution:**"
   ]
  },
  {
   "cell_type": "markdown",
   "id": "35d55dce",
   "metadata": {},
   "source": [
    "### Method 1\n",
    "- Time Complexity: \n",
    "    1. upTheChain &emsp; O(log n)  \n",
    "    2. downTheChain &emsp; O(log n)\n",
    "    3. push &emsp; O(log n)\n",
    "    4. pop &emsp; O(log n)\n",
    "    5. top &emsp; O(1)  \n",
    "- Space Complexity"
   ]
  },
  {
   "cell_type": "code",
   "execution_count": null,
   "id": "3ec63c73",
   "metadata": {
    "vscode": {
     "languageId": "cpp"
    }
   },
   "outputs": [],
   "source": [
    "#include <iostream>\n",
    "#include <vector>\n",
    "#include <iostream>\n",
    "using namespace std;\n",
    "class MinHeap\n",
    "{\n",
    "    vector<int> _heapArray;\n",
    "    public:\n",
    "    MinHeap()\n",
    "    {}\n",
    "    \n",
    "    void upTheChain(int index)\n",
    "    {\n",
    "        //get parent index\n",
    "        int parentIndex = (index-1)/2;\n",
    "        if(_heapArray[parentIndex] > _heapArray[index])\n",
    "        {\n",
    "            swap(_heapArray[parentIndex], _heapArray[index]);\n",
    "            upTheChain(parentIndex);\n",
    "        }\n",
    "    }\n",
    "    \n",
    "    void downTheChain(int index)\n",
    "    {\n",
    "        if(index >= _heapArray.size())\n",
    "        return;\n",
    "        \n",
    "        //get child index\n",
    "        int child1 = index*2+1;\n",
    "        int child2 = index*2+2;\n",
    "        \n",
    "        if(child1 >= _heapArray.size())\n",
    "        return;\n",
    "        \n",
    "        if(child2 >= _heapArray.size())\n",
    "        {\n",
    "            if(_heapArray[child1] < _heapArray[index])\n",
    "            swap(_heapArray[child1] , _heapArray[index]);\n",
    "            return;\n",
    "        }\n",
    "        \n",
    "        if(_heapArray[child1] < _heapArray[child2] && _heapArray[child1] < _heapArray[index])\n",
    "        {\n",
    "            swap(_heapArray[child1], _heapArray[index]);\n",
    "            downTheChain(child1);\n",
    "        }\n",
    "        else if(_heapArray[child2] < _heapArray[child1] && _heapArray[child2] < _heapArray[index])\n",
    "        {\n",
    "            swap(_heapArray[child2], _heapArray[index]);\n",
    "            downTheChain(child2);\n",
    "        }\n",
    "        else\n",
    "        {}\n",
    "    }\n",
    "    \n",
    "    void push(int i)\n",
    "    {\n",
    "        _heapArray.push_back(i);\n",
    "        upTheChain(_heapArray.size()-1);\n",
    "    }\n",
    "    \n",
    "    void pop()\n",
    "    {\n",
    "       if(_heapArray.size() > 0)\n",
    "       {\n",
    "            swap(_heapArray[0],_heapArray[_heapArray.size()-1]);\n",
    "           _heapArray.pop_back();\n",
    "            downTheChain(0);\n",
    "       }\n",
    "    }\n",
    "    \n",
    "    int top()\n",
    "    {\n",
    "        return _heapArray[0];\n",
    "    }\n",
    "    \n",
    "};"
   ]
  },
  {
   "cell_type": "code",
   "execution_count": 3,
   "id": "26c43698",
   "metadata": {
    "vscode": {
     "languageId": "cpp"
    }
   },
   "outputs": [],
   "source": [
    "int main() {\n",
    "    // Write C++ code here\n",
    "    MinHeap heap;\n",
    "    heap.push(1);\n",
    "    heap.push(2);\n",
    "    heap.push(3);\n",
    "    \n",
    "    cout << heap.top() << endl;\n",
    "    \n",
    "    heap.push(0);\n",
    "    \n",
    "    cout << heap.top() << endl;\n",
    "    \n",
    "    heap.pop();\n",
    "    \n",
    "    cout << heap.top() << endl;\n",
    "    \n",
    "    heap.pop();\n",
    "    \n",
    "    cout << heap.top() << endl;\n",
    "\n",
    "    return 0;\n",
    "}"
   ]
  }
 ],
 "metadata": {
  "kernelspec": {
   "display_name": "C++17",
   "language": "C++17",
   "name": "xcpp17"
  },
  "language_info": {
   "codemirror_mode": "text/x-c++src",
   "file_extension": ".cpp",
   "mimetype": "text/x-c++src",
   "name": "c++",
   "version": "17"
  }
 },
 "nbformat": 4,
 "nbformat_minor": 5
}
