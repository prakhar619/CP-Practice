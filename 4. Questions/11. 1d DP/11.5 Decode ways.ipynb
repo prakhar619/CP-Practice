{
 "cells": [
  {
   "cell_type": "markdown",
   "id": "b4b4ff99",
   "metadata": {},
   "source": [
    "#### Chapter 11: 1D DP"
   ]
  },
  {
   "cell_type": "code",
   "execution_count": 4,
   "id": "b61afca6",
   "metadata": {
    "vscode": {
     "languageId": "cpp"
    }
   },
   "outputs": [],
   "source": [
    "#include <vector>\n",
    "#include <string>\n",
    "#include <unordered_map>\n",
    "using namespace std;"
   ]
  },
  {
   "cell_type": "markdown",
   "id": "216f70c6",
   "metadata": {},
   "source": [
    "### 5. Decode Ways"
   ]
  },
  {
   "cell_type": "markdown",
   "id": "6863275d",
   "metadata": {},
   "source": [
    "> You have intercepted a secret message encoded as a string of numbers. The message is decoded via the following mapping:  \n",
    "\"1\" -> 'A'  \n",
    "\"2\" -> 'B'  \n",
    "...  \n",
    "\"25\" -> 'Y'  \n",
    "\"26\" -> 'Z'  \n",
    "\n",
    "> However, while decoding the message, you realize that there are many different ways you can decode the message because some codes are contained in other codes (\"2\" and \"5\" vs \"25\").\n",
    "\n",
    "> Give how many ways a secret message can be decoded"
   ]
  },
  {
   "cell_type": "markdown",
   "id": "37f79432",
   "metadata": {},
   "source": [
    "*Leetcode Link:* https://leetcode.com/problems/decode-ways/"
   ]
  },
  {
   "cell_type": "markdown",
   "id": "1eb008e0",
   "metadata": {},
   "source": [
    "**Best Possible Solution:**"
   ]
  },
  {
   "cell_type": "markdown",
   "id": "4ca61c7e",
   "metadata": {},
   "source": [
    "### Method 1\n",
    "Time Complexity: O(n^2)  \n",
    "Space Complexity: O(n^2)\n",
    "###### Characteristic Eqn: T(n) = T(n-1) + T(n-2) + O(1) = O(2^n)"
   ]
  },
  {
   "cell_type": "code",
   "execution_count": 5,
   "id": "11c6422f",
   "metadata": {
    "vscode": {
     "languageId": "cpp"
    }
   },
   "outputs": [],
   "source": [
    "class Solution {\n",
    "public:\n",
    "    unordered_map<string,int> map;\n",
    "    int numDecodings(string s) {\n",
    "        if(s.length() == 1)\n",
    "        {\n",
    "            if(stoi(s) > 0)\n",
    "            return 1;\n",
    "            else \n",
    "            return 0;\n",
    "        }\n",
    "\n",
    "        //hate this condition\n",
    "        if(s.length() == 0)\n",
    "        return 1;\n",
    "\n",
    "        if(map.find(s) != map.end())\n",
    "        return map[s];\n",
    "\n",
    "        // one character difference\n",
    "        int ans = numDecodings(s.substr(0, s.length()-1)) * numDecodings(s.substr(s.length()-1, 1));\n",
    "\n",
    "        // if possible 2 character diff\n",
    "        if(s.length() >= 2 && stoi(s.substr(s.length()-2,2))  > 9 && stoi(s.substr(s.length()-2,2)) <= 26)\n",
    "        ans += numDecodings(s.substr(0, s.length()-2));\n",
    "\n",
    "        return map[s] = ans;\n",
    "    }\n",
    "};"
   ]
  },
  {
   "cell_type": "markdown",
   "id": "e73e368a",
   "metadata": {},
   "source": [
    "### Method 2: find better way (hint: tabulation and avoid substr)\n",
    "Time Complexity: O(n)  \n",
    "Space Complexity: O(n)"
   ]
  },
  {
   "cell_type": "code",
   "execution_count": null,
   "id": "d5673872",
   "metadata": {
    "vscode": {
     "languageId": "cpp"
    }
   },
   "outputs": [],
   "source": []
  }
 ],
 "metadata": {
  "kernelspec": {
   "display_name": "C++17",
   "language": "C++17",
   "name": "xcpp17"
  },
  "language_info": {
   "codemirror_mode": "text/x-c++src",
   "file_extension": ".cpp",
   "mimetype": "text/x-c++src",
   "name": "c++",
   "version": "17"
  }
 },
 "nbformat": 4,
 "nbformat_minor": 5
}
