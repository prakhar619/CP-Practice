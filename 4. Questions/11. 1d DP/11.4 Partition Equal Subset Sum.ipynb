{
 "cells": [
  {
   "cell_type": "markdown",
   "id": "f36eb46b",
   "metadata": {},
   "source": [
    "#### Chapter 11: 1D DP"
   ]
  },
  {
   "cell_type": "code",
   "execution_count": 1,
   "id": "075e4016",
   "metadata": {
    "vscode": {
     "languageId": "cpp"
    }
   },
   "outputs": [],
   "source": [
    "#include <vector>\n",
    "using namespace std;"
   ]
  },
  {
   "cell_type": "markdown",
   "id": "9f7abf1e",
   "metadata": {},
   "source": [
    "### 4. Partition Equal Subset Sum"
   ]
  },
  {
   "cell_type": "markdown",
   "id": "61128514",
   "metadata": {},
   "source": [
    "> Given an array, return whether array can be split into 2 parts such that sum of both parts are equal"
   ]
  },
  {
   "cell_type": "markdown",
   "id": "66f59851",
   "metadata": {},
   "source": [
    "*Leetcode:* https://leetcode.com/problems/partition-equal-subset-sum/"
   ]
  },
  {
   "cell_type": "markdown",
   "id": "9c220874",
   "metadata": {},
   "source": [
    "**Best Possible Solution:**"
   ]
  },
  {
   "cell_type": "markdown",
   "id": "3b4f16d9",
   "metadata": {},
   "source": [
    "### Method 1\n",
    "Time Complexity: O(2^n)  \n",
    "Space Complexity: O(n)\n",
    "###### Characteristic Eqn: T(n) = 2T(n-1) + O(1)"
   ]
  },
  {
   "cell_type": "code",
   "execution_count": null,
   "id": "3220a452",
   "metadata": {
    "vscode": {
     "languageId": "cpp"
    }
   },
   "outputs": [],
   "source": [
    "class Solution {\n",
    "public:\n",
    "    bool canPartition(vector<int>& nums, int sum = 0, int index = 0) {\n",
    "        if(index >= nums.size())\n",
    "        return sum == 0;\n",
    "\n",
    "        return canPartition(nums, sum+nums[index], index+1) || \n",
    "        canPartition(nums, sum-nums[index], index+1);\n",
    "    }\n",
    "};"
   ]
  },
  {
   "cell_type": "markdown",
   "id": "8550e199",
   "metadata": {},
   "source": [
    "### Method 2\n",
    "Time Complexity: O(n * target)  \n",
    "Space Complexity: O(target)"
   ]
  },
  {
   "cell_type": "code",
   "execution_count": null,
   "id": "c343114f",
   "metadata": {
    "vscode": {
     "languageId": "cpp"
    }
   },
   "outputs": [],
   "source": [
    "class Solution {\n",
    "public:\n",
    "\n",
    "    bool canPartition(vector<int>& nums) {\n",
    "        int sum = 0;\n",
    "        for(int i: nums)\n",
    "        sum += i;\n",
    "\n",
    "        if(sum%2 != 0)\n",
    "        return false;\n",
    "\n",
    "        //now our target is to include set of numbers to reach target\n",
    "        int target = sum/2;\n",
    "\n",
    "        vector<bool> dp(target+1, false);\n",
    "        dp[0] = true;\n",
    "        for(int num: nums)\n",
    "        {\n",
    "            //why this one wrong\n",
    "            //for(int i = num; i < dp.size() ; i++)\n",
    "            for(int i = target; i >= num; i--)\n",
    "            {\n",
    "                //if a target is possible, then by including num, target_new = target + num is also possible\n",
    "                if(dp[i-num] == true)\n",
    "                dp[i] = true;\n",
    "                if(dp[target]== true)\n",
    "                return true;\n",
    "            }\n",
    "        }\n",
    "\n",
    "        return dp[target];\n",
    "    }\n",
    "};"
   ]
  }
 ],
 "metadata": {
  "kernelspec": {
   "display_name": "C++17",
   "language": "C++17",
   "name": "xcpp17"
  },
  "language_info": {
   "codemirror_mode": "text/x-c++src",
   "file_extension": ".cpp",
   "mimetype": "text/x-c++src",
   "name": "c++",
   "version": "17"
  }
 },
 "nbformat": 4,
 "nbformat_minor": 5
}
