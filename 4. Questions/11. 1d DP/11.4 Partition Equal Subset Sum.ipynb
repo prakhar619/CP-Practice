{
 "cells": [
  {
   "cell_type": "code",
   "execution_count": null,
   "id": "3220a452",
   "metadata": {
    "vscode": {
     "languageId": "plaintext"
    }
   },
   "outputs": [],
   "source": [
    "class Solution {\n",
    "public:\n",
    "    bool canPartition(vector<int>& nums, int sum = 0, int index = 0) {\n",
    "        if(index >= nums.size())\n",
    "        return sum == 0;\n",
    "\n",
    "         return canPartition(nums, sum+nums[index], index+1) || \n",
    "        canPartition(nums, sum-nums[index], index+1);\n",
    "        \n",
    "    }\n",
    "};"
   ]
  },
  {
   "cell_type": "code",
   "execution_count": null,
   "id": "c343114f",
   "metadata": {
    "vscode": {
     "languageId": "plaintext"
    }
   },
   "outputs": [],
   "source": [
    "class Solution {\n",
    "public:\n",
    "\n",
    "    bool canPartition(vector<int>& nums) {\n",
    "        int sum = 0;\n",
    "        for(int i: nums)\n",
    "        sum += i;\n",
    "\n",
    "        if(sum%2 != 0)\n",
    "        return false;\n",
    "\n",
    "        //now our target is to include set of numbers to reach target\n",
    "        int target = sum/2;\n",
    "\n",
    "        vector<bool> dp(target+1, false);\n",
    "        dp[0] = true;\n",
    "        for(int num: nums)\n",
    "        {\n",
    "            //why this one wrong\n",
    "            //for(int i = num; i < dp.size() ; i++)\n",
    "            for(int i = target; i >= num; i--)\n",
    "            {\n",
    "                //if a target is possible, then including num, then target_new = target + num is also possible\n",
    "                if(dp[i-num] == true)\n",
    "                dp[i] = true;\n",
    "                if(dp[target]== true)\n",
    "                return true;\n",
    "            }\n",
    "        }\n",
    "\n",
    "        return dp[target];\n",
    "    }\n",
    "};"
   ]
  },
  {
   "cell_type": "markdown",
   "id": "66f59851",
   "metadata": {},
   "source": [
    "https://leetcode.com/problems/partition-equal-subset-sum/description/"
   ]
  }
 ],
 "metadata": {
  "language_info": {
   "name": "python"
  }
 },
 "nbformat": 4,
 "nbformat_minor": 5
}
