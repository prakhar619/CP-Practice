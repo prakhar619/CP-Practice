{
 "cells": [
  {
   "cell_type": "code",
   "execution_count": 1,
   "id": "0f08eebd",
   "metadata": {
    "vscode": {
     "languageId": "plaintext"
    }
   },
   "outputs": [
    {
     "name": "stderr",
     "output_type": "stream",
     "text": [
      "input_line_7:3:20: error: no template named 'vector'; did you mean 'std::vector'?\n",
      "    int maxProduct(vector<int>& nums) {\n",
      "                   ^~~~~~\n",
      "                   std::vector\n",
      "/opt/conda/bin/../lib/gcc/../../x86_64-conda-linux-gnu/include/c++/10.4.0/bits/stl_vector.h:389:11: note: 'std::vector' declared here\n",
      "    class vector : protected _Vector_base<_Tp, _Alloc>\n",
      "          ^\n",
      "input_line_7:4:16: error: use of undeclared identifier 'vector'\n",
      "        vector<vector<int>> dp = vector<vector<int>>(nums.size(), vector<int>(2));\n",
      "               ^\n",
      "input_line_7:5:19: error: use of undeclared identifier 'INT_MIN'\n",
      "        int ans = INT_MIN;\n",
      "                  ^\n",
      "input_line_7:8:9: error: use of undeclared identifier 'dp'\n",
      "        dp[0][0] = nums[0];\n",
      "        ^\n",
      "input_line_7:9:9: error: use of undeclared identifier 'dp'\n",
      "        dp[0][1] = nums[0];\n",
      "        ^\n",
      "input_line_7:10:19: error: use of undeclared identifier 'dp'\n",
      "        ans = max(dp[0][0], dp[0][1]);\n",
      "                  ^\n",
      "input_line_7:10:29: error: use of undeclared identifier 'dp'\n",
      "        ans = max(dp[0][0], dp[0][1]);\n",
      "                            ^\n",
      "input_line_7:11:28: error: use of undeclared identifier 'dp'\n",
      "        for(int i = 1; i < dp.size(); i++)\n",
      "                           ^\n",
      "input_line_7:15:17: error: use of undeclared identifier 'dp'\n",
      "                dp[i][0] = max(max(dp[i-1][0]*nums[i], dp[i-1][1]*nums[i]), nums[i]);\n",
      "                ^\n",
      "input_line_7:15:36: error: use of undeclared identifier 'dp'\n",
      "                dp[i][0] = max(max(dp[i-1][0]*nums[i], dp[i-1][1]*nums[i]), nums[i]);\n",
      "                                   ^\n",
      "input_line_7:15:56: error: use of undeclared identifier 'dp'\n",
      "                dp[i][0] = max(max(dp[i-1][0]*nums[i], dp[i-1][1]*nums[i]), nums[i]);\n",
      "                                                       ^\n",
      "input_line_7:16:17: error: use of undeclared identifier 'dp'\n",
      "                dp[i][1] = min(min(dp[i-1][0]*nums[i], dp[i-1][1]*nums[i]), nums[i]);\n",
      "                ^\n",
      "input_line_7:16:36: error: use of undeclared identifier 'dp'\n",
      "                dp[i][1] = min(min(dp[i-1][0]*nums[i], dp[i-1][1]*nums[i]), nums[i]);\n",
      "                                   ^\n",
      "input_line_7:16:56: error: use of undeclared identifier 'dp'\n",
      "                dp[i][1] = min(min(dp[i-1][0]*nums[i], dp[i-1][1]*nums[i]), nums[i]);\n",
      "                                                       ^\n",
      "input_line_7:18:31: error: use of undeclared identifier 'dp'\n",
      "            ans = max(ans,max(dp[i][0], dp[i][1]));\n",
      "                              ^\n",
      "input_line_7:18:41: error: use of undeclared identifier 'dp'\n",
      "            ans = max(ans,max(dp[i][0], dp[i][1]));\n",
      "                                        ^\n"
     ]
    },
    {
     "ename": "Interpreter Error",
     "evalue": "",
     "output_type": "error",
     "traceback": [
      "Interpreter Error: "
     ]
    }
   ],
   "source": [
    "class Solution {\n",
    "public:\n",
    "    int maxProduct(vector<int>& nums) {\n",
    "        vector<vector<int>> dp = vector<vector<int>>(nums.size(), vector<int>(2));\n",
    "        int ans = INT_MIN;\n",
    "\n",
    "        if(nums.size() <= 0)\n",
    "        return 0;\n",
    "\n",
    "        dp[0][0] = nums[0];\n",
    "        dp[0][1] = nums[0];\n",
    "        ans = max(dp[0][0], dp[0][1]);\n",
    "        for(int i = 1; i < dp.size(); i++)\n",
    "        {\n",
    "            if(nums[i] != 0)\n",
    "            {\n",
    "                dp[i][0] = max(max(dp[i-1][0]*nums[i], dp[i-1][1]*nums[i]), nums[i]);\n",
    "                dp[i][1] = min(min(dp[i-1][0]*nums[i], dp[i-1][1]*nums[i]), nums[i]);\n",
    "            }\n",
    "            ans = max(ans,max(dp[i][0], dp[i][1]));\n",
    "        }\n",
    "        return ans;\n",
    "    }\n",
    "};"
   ]
  },
  {
   "cell_type": "code",
   "execution_count": null,
   "id": "aab52dbc",
   "metadata": {
    "vscode": {
     "languageId": "plaintext"
    }
   },
   "outputs": [],
   "source": [
    "can be optimised further; do you really need array; are 2 variable enough?"
   ]
  }
 ],
 "metadata": {
  "kernelspec": {
   "display_name": "C++17",
   "language": "C++17",
   "name": "xcpp17"
  },
  "language_info": {
   "codemirror_mode": "text/x-c++src",
   "file_extension": ".cpp",
   "mimetype": "text/x-c++src",
   "name": "c++",
   "version": "17"
  }
 },
 "nbformat": 4,
 "nbformat_minor": 5
}
