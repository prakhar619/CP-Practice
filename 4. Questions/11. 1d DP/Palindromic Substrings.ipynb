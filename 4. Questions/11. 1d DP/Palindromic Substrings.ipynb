{
 "cells": [
  {
   "cell_type": "code",
   "execution_count": null,
   "id": "a8383316",
   "metadata": {
    "vscode": {
     "languageId": "plaintext"
    }
   },
   "outputs": [],
   "source": [
    "class Solution {\n",
    "public:\n",
    "    int countSubstrings(string s) {\n",
    "        int count = 0;\n",
    "        for(int i = 0; i < s.length(); i++)\n",
    "        {\n",
    "            int j = 0; \n",
    "            while(i-j >= 0 && i+j < s.length() && s[i-j] == s[i+j])\n",
    "            {\n",
    "                j++;\n",
    "                count += 1;\n",
    "                //cout << \"A:\" << count << endl;\n",
    "            }\n",
    "\n",
    "            j = 0;\n",
    "            while(i-j >= 0 && i+j+1 < s.length() && s[i-j] == s[i+j+1])\n",
    "            {\n",
    "                j++;\n",
    "                count += 1;\n",
    "                //cout << \"B:\" << count << endl;\n",
    "            }\n",
    "        }\n",
    "        return count;\n",
    "    }\n",
    "};"
   ]
  }
 ],
 "metadata": {
  "language_info": {
   "name": "python"
  }
 },
 "nbformat": 4,
 "nbformat_minor": 5
}
