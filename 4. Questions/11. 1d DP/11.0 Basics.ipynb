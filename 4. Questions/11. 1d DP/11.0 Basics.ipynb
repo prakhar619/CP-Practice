{
 "cells": [
  {
   "cell_type": "markdown",
   "id": "7100e585",
   "metadata": {},
   "source": [
    "### DP\n",
    "1. Recursive\n",
    "2. Memoization\n",
    "3. Tabulation"
   ]
  }
 ],
 "metadata": {
  "language_info": {
   "name": "python"
  }
 },
 "nbformat": 4,
 "nbformat_minor": 5
}
