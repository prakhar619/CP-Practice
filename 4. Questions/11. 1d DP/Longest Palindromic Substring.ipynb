{
 "cells": [
  {
   "cell_type": "code",
   "execution_count": 1,
   "id": "8e8f9b58",
   "metadata": {
    "vscode": {
     "languageId": "cpp"
    }
   },
   "outputs": [
    {
     "name": "stderr",
     "output_type": "stream",
     "text": [
      "input_line_7:3:5: error: unknown type name 'string'; did you mean 'std::string'?\n",
      "    string longestPalindrome(string s) {\n",
      "    ^~~~~~\n",
      "    std::string\n",
      "/opt/conda/bin/../lib/gcc/../../x86_64-conda-linux-gnu/include/c++/10.4.0/bits/stringfwd.h:79:33: note: 'std::string' declared here\n",
      "  typedef basic_string<char>    string;   \n",
      "                                ^\n",
      "input_line_7:3:30: error: unknown type name 'string'; did you mean 'std::string'?\n",
      "    string longestPalindrome(string s) {\n",
      "                             ^~~~~~\n",
      "                             std::string\n",
      "/opt/conda/bin/../lib/gcc/../../x86_64-conda-linux-gnu/include/c++/10.4.0/bits/stringfwd.h:79:33: note: 'std::string' declared here\n",
      "  typedef basic_string<char>    string;   \n",
      "                                ^\n",
      "input_line_7:6:16: error: use of undeclared identifier 'vector'\n",
      "        vector<vector<int>> dp (s.length()+2, vector<int>(s.length()+2, -1));\n",
      "               ^\n",
      "input_line_7:11:20: error: use of undeclared identifier 'dp'\n",
      "                if(dp[i][j] == -1)\n",
      "                   ^\n",
      "input_line_7:22:25: error: use of undeclared identifier 'dp'\n",
      "                        dp[i][j] = 1;\n",
      "                        ^\n",
      "input_line_7:26:25: error: use of undeclared identifier 'dp'\n",
      "                        dp[i][j] = 0;\n",
      "                        ^\n",
      "input_line_7:29:20: error: use of undeclared identifier 'dp'\n",
      "                if(dp[i][j] == 1)\n",
      "                   ^\n"
     ]
    },
    {
     "ename": "Interpreter Error",
     "evalue": "",
     "output_type": "error",
     "traceback": [
      "Interpreter Error: "
     ]
    }
   ],
   "source": [
    "class Solution {\n",
    "public:\n",
    "    string longestPalindrome(string s) {\n",
    "        int l = 0; \n",
    "        int r = 0;\n",
    "        vector<vector<int>> dp (s.length()+2, vector<int>(s.length()+2, -1));\n",
    "        for(int i = 0; i < s.length(); i++)\n",
    "        {\n",
    "            for(int j = s.length()-1; j >= i; j--)\n",
    "            {\n",
    "                if(dp[i][j] == -1)\n",
    "                {\n",
    "                    int tempI = i;\n",
    "                    int tempJ = j;\n",
    "                    while(tempI <= tempJ && s[tempI] == s[tempJ])\n",
    "                    {\n",
    "                        tempI++;\n",
    "                        tempJ--;\n",
    "                    }\n",
    "                    if(tempI > tempJ)\n",
    "                    {\n",
    "                        dp[i][j] = 1;\n",
    "                    }\n",
    "                    else\n",
    "                    {\n",
    "                        dp[i][j] = 0;\n",
    "                    }\n",
    "                }\n",
    "                if(dp[i][j] == 1)\n",
    "                {\n",
    "                    if(r-l < j-i)\n",
    "                    {\n",
    "                        l = i;\n",
    "                        r = j;\n",
    "                        //cout << l << \" \" << r << endl;\n",
    "                    }\n",
    "                }\n",
    "            }\n",
    "        }\n",
    "        return s.substr(l,r-l+1);\n",
    "    }\n",
    "};"
   ]
  },
  {
   "cell_type": "code",
   "execution_count": 2,
   "id": "a8c492d6",
   "metadata": {
    "vscode": {
     "languageId": "cpp"
    }
   },
   "outputs": [
    {
     "name": "stderr",
     "output_type": "stream",
     "text": [
      "input_line_8:3:5: error: unknown type name 'string'; did you mean 'std::string'?\n",
      "    string longestPalindrome(string s) {\n",
      "    ^~~~~~\n",
      "    std::string\n",
      "/opt/conda/bin/../lib/gcc/../../x86_64-conda-linux-gnu/include/c++/10.4.0/bits/stringfwd.h:79:33: note: 'std::string' declared here\n",
      "  typedef basic_string<char>    string;   \n",
      "                                ^\n",
      "input_line_8:3:30: error: unknown type name 'string'; did you mean 'std::string'?\n",
      "    string longestPalindrome(string s) {\n",
      "                             ^~~~~~\n",
      "                             std::string\n",
      "/opt/conda/bin/../lib/gcc/../../x86_64-conda-linux-gnu/include/c++/10.4.0/bits/stringfwd.h:79:33: note: 'std::string' declared here\n",
      "  typedef basic_string<char>    string;   \n",
      "                                ^\n"
     ]
    },
    {
     "ename": "Interpreter Error",
     "evalue": "",
     "output_type": "error",
     "traceback": [
      "Interpreter Error: "
     ]
    }
   ],
   "source": [
    "class Solution {\n",
    "public:\n",
    "    string longestPalindrome(string s) {\n",
    "        int l = 0; \n",
    "        int r = 0;\n",
    "        for(int i = 0; i < s.length(); i++)\n",
    "        {\n",
    "            for(int j = s.length()-1; j >= i; j--)\n",
    "            {\n",
    "                int tempI = i;\n",
    "                int tempJ = j;\n",
    "                while(tempI <= tempJ && s[tempI] == s[tempJ])\n",
    "                {\n",
    "                    tempI++;\n",
    "                    tempJ--;\n",
    "                }\n",
    "                if(tempI > tempJ)\n",
    "                {\n",
    "                    if(r-l < j-i)\n",
    "                    {\n",
    "                        l = i;\n",
    "                        r = j;\n",
    "                        //cout << l << \" \" << r << endl;\n",
    "                    }\n",
    "                }\n",
    "            }\n",
    "        }\n",
    "        return s.substr(l,r-l+1);\n",
    "    }\n",
    "};"
   ]
  },
  {
   "cell_type": "code",
   "execution_count": null,
   "id": "4233e1a4",
   "metadata": {
    "vscode": {
     "languageId": "cpp"
    }
   },
   "outputs": [],
   "source": []
  },
  {
   "cell_type": "code",
   "execution_count": null,
   "id": "32bb4e9f",
   "metadata": {
    "vscode": {
     "languageId": "cpp"
    }
   },
   "outputs": [],
   "source": []
  }
 ],
 "metadata": {
  "kernelspec": {
   "display_name": "C++17",
   "language": "C++17",
   "name": "xcpp17"
  },
  "language_info": {
   "codemirror_mode": "text/x-c++src",
   "file_extension": ".cpp",
   "mimetype": "text/x-c++src",
   "name": "c++",
   "version": "17"
  }
 },
 "nbformat": 4,
 "nbformat_minor": 5
}
