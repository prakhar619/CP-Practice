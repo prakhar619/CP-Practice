{
 "cells": [
  {
   "cell_type": "markdown",
   "id": "5d8f00a7",
   "metadata": {},
   "source": [
    "### Chapter 11: 1D Dynamic Programming"
   ]
  },
  {
   "cell_type": "code",
   "execution_count": 1,
   "id": "c5aaaf43",
   "metadata": {
    "vscode": {
     "languageId": "cpp"
    }
   },
   "outputs": [],
   "source": [
    "#include <vector>\n",
    "#include <climits>\n",
    "using namespace std;"
   ]
  },
  {
   "cell_type": "markdown",
   "id": "44779e70",
   "metadata": {},
   "source": [
    "#### 1. Maximum Product Subarray"
   ]
  },
  {
   "cell_type": "markdown",
   "id": "38858454",
   "metadata": {},
   "source": [
    ">Given an integer array nums, find a that has the largest product subarray, and return the product."
   ]
  },
  {
   "cell_type": "markdown",
   "id": "cd04e004",
   "metadata": {},
   "source": [
    "*Leetcode Link:* https://leetcode.com/problems/maximum-product-subarray/"
   ]
  },
  {
   "cell_type": "markdown",
   "id": "4faf3dab",
   "metadata": {},
   "source": [
    "**Best Possible Solution:**"
   ]
  },
  {
   "cell_type": "markdown",
   "id": "070787d0",
   "metadata": {},
   "source": [
    "### Method 1: \n",
    "Time Complexity: O(n)  \n",
    "Space Complexity: O(n)"
   ]
  },
  {
   "cell_type": "code",
   "execution_count": 2,
   "id": "0f08eebd",
   "metadata": {
    "vscode": {
     "languageId": "cpp"
    }
   },
   "outputs": [],
   "source": [
    "class Solution {\n",
    "public:\n",
    "    int maxProduct(vector<int>& nums) {\n",
    "        vector<vector<int>> dp = vector<vector<int>>(nums.size(), vector<int>(2));\n",
    "        int ans = INT_MIN;\n",
    "\n",
    "        if(nums.size() <= 0)\n",
    "        return 0;\n",
    "\n",
    "        dp[0][0] = nums[0];\n",
    "        dp[0][1] = nums[0];\n",
    "        ans = max(dp[0][0], dp[0][1]);\n",
    "        for(int i = 1; i < dp.size(); i++)\n",
    "        {\n",
    "            if(nums[i] != 0)\n",
    "            {\n",
    "                dp[i][0] = max(max(dp[i-1][0]*nums[i], dp[i-1][1]*nums[i]), nums[i]);\n",
    "                dp[i][1] = min(min(dp[i-1][0]*nums[i], dp[i-1][1]*nums[i]), nums[i]);\n",
    "            }\n",
    "            ans = max(ans,max(dp[i][0], dp[i][1]));\n",
    "        }\n",
    "        return ans;\n",
    "    }\n",
    "};"
   ]
  },
  {
   "cell_type": "markdown",
   "id": "5c9b5140",
   "metadata": {},
   "source": [
    "### Method 2\n",
    "Time Complexity: O(n)  \n",
    "Space Complexity: O(1)  "
   ]
  },
  {
   "cell_type": "code",
   "execution_count": 3,
   "id": "17116be9",
   "metadata": {
    "vscode": {
     "languageId": "cpp"
    }
   },
   "outputs": [],
   "source": [
    "class Solution {\n",
    "public:\n",
    "    int maxProduct(vector<int>& nums) {\n",
    "        //greatest question of all times\n",
    "        int maxx = nums[0];\n",
    "        int minn = nums[0];\n",
    "        int ans = nums[0];\n",
    "        for(int k = 1; k < nums.size(); k++)\n",
    "        {\n",
    "            int i = nums[k];\n",
    "\n",
    "            //why use temp\n",
    "            int temp = maxx;\n",
    "\n",
    "            //why not keep one pointer to multiply with all/ why one min and one max\n",
    "            //how to handle zero implicitly\n",
    "            maxx = max(max(maxx*i,minn*i),i);\n",
    "            minn = min(min(temp*i,minn*i),i);\n",
    "            ans = max(ans,maxx);\n",
    "        }\n",
    "\n",
    "        return ans;\n",
    "    }\n",
    "};"
   ]
  }
 ],
 "metadata": {
  "kernelspec": {
   "display_name": "C++17",
   "language": "C++17",
   "name": "xcpp17"
  },
  "language_info": {
   "codemirror_mode": "text/x-c++src",
   "file_extension": ".cpp",
   "mimetype": "text/x-c++src",
   "name": "c++",
   "version": "17"
  }
 },
 "nbformat": 4,
 "nbformat_minor": 5
}
