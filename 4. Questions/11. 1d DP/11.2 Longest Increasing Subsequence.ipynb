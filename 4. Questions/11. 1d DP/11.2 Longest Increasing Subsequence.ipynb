{
 "cells": [
  {
   "cell_type": "markdown",
   "id": "4e76bcdb",
   "metadata": {},
   "source": [
    "#### Chapter 11: 1D Dynamic Programming"
   ]
  },
  {
   "cell_type": "code",
   "execution_count": 1,
   "id": "d904ec2e",
   "metadata": {
    "vscode": {
     "languageId": "cpp"
    }
   },
   "outputs": [],
   "source": [
    "#include <vector>\n",
    "using namespace std;"
   ]
  },
  {
   "cell_type": "markdown",
   "id": "a5ed7619",
   "metadata": {},
   "source": [
    "### 2. Longest Increasing Subsequence"
   ]
  },
  {
   "cell_type": "markdown",
   "id": "ec9ccf90",
   "metadata": {},
   "source": [
    ">Given an integer array nums, return the length of the longest strictly increasing subsequence"
   ]
  },
  {
   "cell_type": "markdown",
   "id": "6b4446be",
   "metadata": {},
   "source": [
    "*Leetcode Link:* https://leetcode.com/problems/longest-increasing-subsequence/"
   ]
  },
  {
   "cell_type": "markdown",
   "id": "755a61f4",
   "metadata": {},
   "source": [
    "**Best Possible Solution:**"
   ]
  },
  {
   "cell_type": "markdown",
   "id": "bec323aa",
   "metadata": {},
   "source": [
    "### Method 1\n",
    "Time Complexity: O(n^2)  \n",
    "Space Complexity: O(n)"
   ]
  },
  {
   "cell_type": "code",
   "execution_count": 2,
   "id": "0f1f3df7",
   "metadata": {
    "vscode": {
     "languageId": "cpp"
    }
   },
   "outputs": [],
   "source": [
    "class Solution {\n",
    "public:\n",
    "    int lengthOfLIS(vector<int>& nums) {\n",
    "        vector<int> dp(nums.size(),0);\n",
    "\n",
    "        for(int i = nums.size()-1; i >= 0; i--)\n",
    "        {\n",
    "            int ans_i = 1;\n",
    "            for(int j = i+1; j < nums.size(); j++)\n",
    "            {\n",
    "                if(nums[j] > nums[i])\n",
    "                {\n",
    "                    ans_i = max(dp[j]+1,ans_i);\n",
    "                }\n",
    "            }\n",
    "            dp[i] = ans_i;\n",
    "        }\n",
    "\n",
    "        int ans = 0;\n",
    "        for(int i: dp)\n",
    "        ans = max(ans,i);\n",
    "\n",
    "        return ans;\n",
    "    }\n",
    "};"
   ]
  },
  {
   "cell_type": "markdown",
   "id": "8411014b",
   "metadata": {},
   "source": [
    "### Method 2: Patience Sorting\n",
    "Time Complexity: O(n logn)  \n",
    "Space Complexity: O(n)"
   ]
  },
  {
   "cell_type": "code",
   "execution_count": null,
   "id": "9c1789b7",
   "metadata": {
    "vscode": {
     "languageId": "cpp"
    }
   },
   "outputs": [],
   "source": [
    "class Solution {\n",
    "public:\n",
    "    int lengthOfLIS(vector<int>& nums) {\n",
    "        vector<int> arr ;\n",
    "        int n = nums.size() ;\n",
    "        for(int i=0 ; i<n ; i++)\n",
    "        {\n",
    "            //lower bound gives just bigger value\n",
    "            //searching in arr (not in nums)\n",
    "            int ind = lower_bound(arr.begin(),arr.end(),nums[i]) - arr.begin() ; \n",
    "\n",
    "            if(ind == arr.size()) arr.push_back(nums[i]) ;\n",
    "            else arr[ind] = nums[i];\n",
    "        }\n",
    "\n",
    "        return arr.size() ;\n",
    "    }\n",
    "};"
   ]
  }
 ],
 "metadata": {
  "kernelspec": {
   "display_name": "C++17",
   "language": "C++17",
   "name": "xcpp17"
  },
  "language_info": {
   "codemirror_mode": "text/x-c++src",
   "file_extension": ".cpp",
   "mimetype": "text/x-c++src",
   "name": "c++",
   "version": "17"
  }
 },
 "nbformat": 4,
 "nbformat_minor": 5
}
