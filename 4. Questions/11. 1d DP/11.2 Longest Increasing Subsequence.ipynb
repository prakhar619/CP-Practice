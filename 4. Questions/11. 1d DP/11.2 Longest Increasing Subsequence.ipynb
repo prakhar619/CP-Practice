{
 "cells": [
  {
   "cell_type": "code",
   "execution_count": null,
   "id": "0f1f3df7",
   "metadata": {
    "vscode": {
     "languageId": "plaintext"
    }
   },
   "outputs": [],
   "source": [
    "class Solution {\n",
    "public:\n",
    "    int lengthOfLIS(vector<int>& nums) {\n",
    "        vector<int> dp(nums.size(),0);\n",
    "\n",
    "        for(int i = nums.size()-1; i >= 0; i--)\n",
    "        {\n",
    "            int ans_i = 1;\n",
    "            for(int j = i+1; j < nums.size(); j++)\n",
    "            {\n",
    "                if(nums[j] > nums[i])\n",
    "                {\n",
    "                    ans_i = max(dp[j]+1,ans_i);\n",
    "                }\n",
    "            }\n",
    "            dp[i] = ans_i;\n",
    "        }\n",
    "\n",
    "        int ans = 0;\n",
    "        for(int i: dp)\n",
    "        ans = max(ans,i);\n",
    "\n",
    "        return ans;\n",
    "    }\n",
    "};"
   ]
  },
  {
   "cell_type": "markdown",
   "id": "6b4446be",
   "metadata": {},
   "source": [
    "https://leetcode.com/problems/longest-increasing-subsequence/description/"
   ]
  },
  {
   "cell_type": "code",
   "execution_count": null,
   "id": "9c1789b7",
   "metadata": {
    "vscode": {
     "languageId": "plaintext"
    }
   },
   "outputs": [],
   "source": [
    "class Solution {\n",
    "public:\n",
    "    int lengthOfLIS(vector<int>& nums) {\n",
    "        vector<int> arr ;\n",
    "        int n = nums.size() ;\n",
    "        for(int i=0 ; i<n ; i++)\n",
    "        {\n",
    "            //lower bound gives just bigger value\n",
    "            int ind = lower_bound(arr.begin(),arr.end(),nums[i]) - arr.begin() ; \n",
    "\n",
    "            if(ind == arr.size()) arr.push_back(nums[i]) ;\n",
    "            else arr[ind] = nums[i] ;\n",
    "        }\n",
    "\n",
    "        return arr.size() ;\n",
    "    }\n",
    "};"
   ]
  }
 ],
 "metadata": {
  "language_info": {
   "name": "python"
  }
 },
 "nbformat": 4,
 "nbformat_minor": 5
}
