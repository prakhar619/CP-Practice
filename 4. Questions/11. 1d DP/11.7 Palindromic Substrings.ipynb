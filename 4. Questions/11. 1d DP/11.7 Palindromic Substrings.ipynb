{
 "cells": [
  {
   "cell_type": "markdown",
   "id": "7bcaacd9",
   "metadata": {},
   "source": [
    "#### Chapter 11: 1D DP"
   ]
  },
  {
   "cell_type": "code",
   "execution_count": 1,
   "id": "e85bec1c",
   "metadata": {
    "vscode": {
     "languageId": "cpp"
    }
   },
   "outputs": [],
   "source": [
    "#include <string>\n",
    "using namespace std;"
   ]
  },
  {
   "cell_type": "markdown",
   "id": "d2e5abe4",
   "metadata": {},
   "source": [
    "### 7. Palindromic Substring"
   ]
  },
  {
   "cell_type": "markdown",
   "id": "ec507c02",
   "metadata": {},
   "source": [
    "> Given a string s, return the number of palindromic substrings in it."
   ]
  },
  {
   "cell_type": "markdown",
   "id": "00ce2d3a",
   "metadata": {},
   "source": [
    "*Leetcode Link:* https://leetcode.com/problems/palindromic-substrings/"
   ]
  },
  {
   "cell_type": "markdown",
   "id": "cf69a1af",
   "metadata": {},
   "source": [
    "**Best Possible Solution:**"
   ]
  },
  {
   "cell_type": "markdown",
   "id": "83511da4",
   "metadata": {},
   "source": [
    "### Method 1:\n",
    "Time Complexity: O(n^2)  \n",
    "Space Complexity: O(1)"
   ]
  },
  {
   "cell_type": "code",
   "execution_count": 2,
   "id": "a8383316",
   "metadata": {
    "vscode": {
     "languageId": "cpp"
    }
   },
   "outputs": [],
   "source": [
    "class Solution {\n",
    "public:\n",
    "    int countSubstrings(string s) {\n",
    "        int count = 0;\n",
    "        for(int i = 0; i < s.length(); i++)\n",
    "        {\n",
    "            int j = 0; \n",
    "            while(i-j >= 0 && i+j < s.length() && s[i-j] == s[i+j])\n",
    "            {\n",
    "                j++;\n",
    "                count += 1;\n",
    "                //cout << \"A:\" << count << endl;\n",
    "            }\n",
    "\n",
    "            j = 0;\n",
    "            while(i-j >= 0 && i+j+1 < s.length() && s[i-j] == s[i+j+1])\n",
    "            {\n",
    "                j++;\n",
    "                count += 1;\n",
    "                //cout << \"B:\" << count << endl;\n",
    "            }\n",
    "        }\n",
    "        return count;\n",
    "    }\n",
    "};"
   ]
  },
  {
   "cell_type": "code",
   "execution_count": null,
   "id": "54202a38",
   "metadata": {
    "vscode": {
     "languageId": "cpp"
    }
   },
   "outputs": [],
   "source": []
  }
 ],
 "metadata": {
  "kernelspec": {
   "display_name": "C++17",
   "language": "C++17",
   "name": "xcpp17"
  },
  "language_info": {
   "codemirror_mode": "text/x-c++src",
   "file_extension": ".cpp",
   "mimetype": "text/x-c++src",
   "name": "c++",
   "version": "17"
  }
 },
 "nbformat": 4,
 "nbformat_minor": 5
}
