{
 "cells": [
  {
   "cell_type": "markdown",
   "id": "694a7927",
   "metadata": {},
   "source": [
    "#### Chapter 11: 1D DP"
   ]
  },
  {
   "cell_type": "code",
   "execution_count": 2,
   "id": "8cbe210d",
   "metadata": {
    "vscode": {
     "languageId": "cpp"
    }
   },
   "outputs": [],
   "source": [
    "#include <string>\n",
    "using namespace std;"
   ]
  },
  {
   "cell_type": "markdown",
   "id": "ff9a72ba",
   "metadata": {},
   "source": [
    "### 6. Longest Palindromic Substring"
   ]
  },
  {
   "cell_type": "markdown",
   "id": "abc14864",
   "metadata": {},
   "source": [
    "> Given a string s, return the longest palindromic substring in s."
   ]
  },
  {
   "cell_type": "markdown",
   "id": "7f8b5723",
   "metadata": {},
   "source": [
    "*Leetcode Link:* https://leetcode.com/problems/longest-palindromic-substring/"
   ]
  },
  {
   "cell_type": "markdown",
   "id": "3f9c55c5",
   "metadata": {},
   "source": [
    "**Best Possible Solution**"
   ]
  },
  {
   "cell_type": "markdown",
   "id": "1d175b6f",
   "metadata": {},
   "source": [
    "### Method 1\n",
    "Time Complexity: O(n^2)  \n",
    "Space Complexity: O(1)\n",
    "###### where n is size of input string"
   ]
  },
  {
   "cell_type": "code",
   "execution_count": 4,
   "id": "a8c492d6",
   "metadata": {
    "vscode": {
     "languageId": "cpp"
    }
   },
   "outputs": [],
   "source": [
    "class Solution {\n",
    "public:\n",
    "    string longestPalindrome(string s) {\n",
    "        int l = 0; \n",
    "        int r = 0;\n",
    "        for(int i = 0; i < s.length(); i++)\n",
    "        {\n",
    "            for(int j = s.length()-1; j >= i; j--)\n",
    "            {\n",
    "                int tempI = i;\n",
    "                int tempJ = j;\n",
    "                while(tempI <= tempJ && s[tempI] == s[tempJ])\n",
    "                {\n",
    "                    tempI++;\n",
    "                    tempJ--;\n",
    "                }\n",
    "                if(tempI > tempJ)\n",
    "                {\n",
    "                    if(r-l < j-i)\n",
    "                    {\n",
    "                        l = i;\n",
    "                        r = j;\n",
    "                        //cout << l << \" \" << r << endl;\n",
    "                    }\n",
    "                }\n",
    "            }\n",
    "        }\n",
    "        return s.substr(l,r-l+1);\n",
    "    }\n",
    "};"
   ]
  },
  {
   "cell_type": "markdown",
   "id": "c74a29a0",
   "metadata": {},
   "source": [
    "### Method 2\n",
    "Time Complexity: O()  \n",
    "Space Complexity: O()"
   ]
  },
  {
   "cell_type": "code",
   "execution_count": null,
   "id": "8e8f9b58",
   "metadata": {
    "vscode": {
     "languageId": "cpp"
    }
   },
   "outputs": [],
   "source": [
    "class Solution {\n",
    "public:\n",
    "    string longestPalindrome(string& s, int i = 0, int j = INT_MIN) {\n",
    "        if (j == INT_MIN) {\n",
    "            string st = longestPalindrome(s, 0, s.length() - 1);\n",
    "            return (st == \"\") ? string(1, s[0]) : st;\n",
    "        }\n",
    "\n",
    "        if (i > j) return \"\";\n",
    "        if (i == j) return string(1, s[i]);\n",
    "        if (i + 1 == j) {\n",
    "            return (s[i] == s[j]) ? string(1, s[i]) + s[j] : \"\";\n",
    "        }\n",
    "\n",
    "        string sub = \"\";\n",
    "        if (s[i] == s[j]) {\n",
    "            string inner = longestPalindrome(s, i + 1, j - 1);\n",
    "            // Only consider this if the inner string spans full i+1 to j-1\n",
    "            //inner == \"\" is a weaker condition\n",
    "            if (inner.length() == (j - i - 1))\n",
    "                sub = s[i] + inner + s[j];\n",
    "        }\n",
    "\n",
    "        if (!sub.empty()) return sub;\n",
    "\n",
    "        string sub1 = longestPalindrome(s, i + 1, j);\n",
    "        string sub2 = longestPalindrome(s, i, j - 1);\n",
    "        return (sub1.length() > sub2.length()) ? sub1 : sub2;\n",
    "    }\n",
    "};\n"
   ]
  },
  {
   "cell_type": "code",
   "execution_count": null,
   "id": "32bb4e9f",
   "metadata": {
    "vscode": {
     "languageId": "cpp"
    }
   },
   "outputs": [],
   "source": []
  }
 ],
 "metadata": {
  "kernelspec": {
   "display_name": "C++17",
   "language": "C++17",
   "name": "xcpp17"
  },
  "language_info": {
   "codemirror_mode": "text/x-c++src",
   "file_extension": ".cpp",
   "mimetype": "text/x-c++src",
   "name": "c++",
   "version": "17"
  }
 },
 "nbformat": 4,
 "nbformat_minor": 5
}
