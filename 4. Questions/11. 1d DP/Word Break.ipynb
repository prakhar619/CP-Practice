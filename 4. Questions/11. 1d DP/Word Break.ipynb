{
 "cells": [
  {
   "cell_type": "code",
   "execution_count": null,
   "id": "5cce1e5a",
   "metadata": {
    "vscode": {
     "languageId": "plaintext"
    }
   },
   "outputs": [],
   "source": [
    "class Solution {\n",
    "public:\n",
    "    bool helper(string s, unordered_set<string>& set, unordered_map<string, bool>& map)\n",
    "    {\n",
    "        if(s == \"\")\n",
    "        {\n",
    "            return true;\n",
    "        }\n",
    "        if(map.find(s) != map.end())\n",
    "        {\n",
    "            return map[s];\n",
    "        }\n",
    "        string k = \"\";\n",
    "        bool ans = false;\n",
    "        for(int i = 0; i < s.length(); i++)\n",
    "        {\n",
    "            k += s[i];\n",
    "            if(set.find(k) != set.end())\n",
    "            {\n",
    "                ans = ans || helper(s.substr(i+1, s.length()- i), set, map);\n",
    "            }\n",
    "        }\n",
    "        return map[s] = ans;\n",
    "    }\n",
    "    bool wordBreak(string s, vector<string>& wordDict) {\n",
    "        unordered_set<string> set;\n",
    "        unordered_map<string, bool> map;\n",
    "        for(string k: wordDict)\n",
    "        {\n",
    "            set.insert(k);\n",
    "        }\n",
    "        return helper(s,set, map);\n",
    "    }\n",
    "};"
   ]
  },
  {
   "cell_type": "code",
   "execution_count": null,
   "id": "ced60273",
   "metadata": {
    "vscode": {
     "languageId": "plaintext"
    }
   },
   "outputs": [],
   "source": [
    "can be optimised further"
   ]
  }
 ],
 "metadata": {
  "language_info": {
   "name": "python"
  }
 },
 "nbformat": 4,
 "nbformat_minor": 5
}
