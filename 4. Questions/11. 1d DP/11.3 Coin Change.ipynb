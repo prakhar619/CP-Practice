{
 "cells": [
  {
   "cell_type": "markdown",
   "id": "04504a89",
   "metadata": {},
   "source": [
    "https://leetcode.com/problems/coin-change/description/"
   ]
  },
  {
   "cell_type": "code",
   "execution_count": null,
   "id": "8f0f82a6",
   "metadata": {
    "vscode": {
     "languageId": "plaintext"
    }
   },
   "outputs": [],
   "source": [
    "class Solution {\n",
    "public:\n",
    "    int coinChange(vector<int>& coins, int amount) {\n",
    "        //why not INT_MAX as max value\n",
    "        vector<int> sumups(amount+1, amount+1);\n",
    "\n",
    "        sumups[0] = 0;\n",
    "        sort(coins.begin(), coins.end(), greater<int>());\n",
    "\n",
    "        for(int i = 0; i < coins.size(); i++)\n",
    "        {\n",
    "            for(int j = 0; j < sumups.size(); j++)\n",
    "            {\n",
    "                if(j - coins[i]  >= 0)\n",
    "                sumups[j] = min(sumups[j-coins[i]]+1,sumups[j]);\n",
    "            }\n",
    "        }\n",
    "        //always handle the trivial case\n",
    "        return (sumups[amount] == amount+1)?-1: sumups[amount];\n",
    "\n",
    "    }\n",
    "};"
   ]
  }
 ],
 "metadata": {
  "language_info": {
   "name": "python"
  }
 },
 "nbformat": 4,
 "nbformat_minor": 5
}
