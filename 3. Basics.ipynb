{
 "cells": [
  {
   "cell_type": "markdown",
   "id": "c5c6ba45",
   "metadata": {},
   "source": [
    "# Introduction"
   ]
  },
  {
   "cell_type": "markdown",
   "id": "e69ff7f3",
   "metadata": {},
   "source": [
    "### 1. Difference b/w Production code and CP"
   ]
  },
  {
   "cell_type": "markdown",
   "id": "a4815672",
   "metadata": {},
   "source": [
    "1. Everything is public; No use of getters and setters  \n",
    "2. No protection against invalid inputs\n",
    "3. Usage of static fields causes loss of thread safety\n",
    "4. Short variable names "
   ]
  },
  {
   "cell_type": "markdown",
   "id": "00f5a739",
   "metadata": {},
   "source": [
    "### 2. Data Structures"
   ]
  },
  {
   "cell_type": "markdown",
   "id": "75a50f9e",
   "metadata": {},
   "source": [
    "#### 1. Primtive"
   ]
  },
  {
   "cell_type": "markdown",
   "id": "d88a7980",
   "metadata": {},
   "source": [
    "#### 2. Arrays"
   ]
  },
  {
   "cell_type": "markdown",
   "id": "bc5b4352",
   "metadata": {},
   "source": [
    "#### 3. Strings"
   ]
  },
  {
   "cell_type": "markdown",
   "id": "a0228801",
   "metadata": {},
   "source": [
    "#### 4. Lists"
   ]
  },
  {
   "cell_type": "markdown",
   "id": "03574be2",
   "metadata": {},
   "source": [
    "#### 5. Stacks"
   ]
  },
  {
   "cell_type": "markdown",
   "id": "fe361c24",
   "metadata": {},
   "source": [
    "#### 6. Queues"
   ]
  },
  {
   "cell_type": "markdown",
   "id": "903dc552",
   "metadata": {},
   "source": [
    "#### 7. Binary Trees"
   ]
  },
  {
   "cell_type": "markdown",
   "id": "1ae28df5",
   "metadata": {},
   "source": [
    "1. Hierachical Data\n",
    "2. Operation such as \n",
    "    1. Depth\n",
    "    2. Height \n",
    "    3. Leaves\n",
    "    4. Search Path \n",
    "    5. Traversal Sequences\n",
    "    6. Successor/Predecessor "
   ]
  },
  {
   "cell_type": "markdown",
   "id": "0ef351a4",
   "metadata": {},
   "source": [
    "#### 8. Heaps"
   ]
  },
  {
   "cell_type": "markdown",
   "id": "a87f51ce",
   "metadata": {},
   "source": [
    "Benefits:  \n",
    "1. Find-Max     &emsp;O(1)\n",
    "2. Insertion    &emsp;O(log n)\n",
    "3. Deletion     &emsp;O(log n)"
   ]
  },
  {
   "cell_type": "markdown",
   "id": "83247932",
   "metadata": {},
   "source": [
    "#### 9. Hash Tables"
   ]
  },
  {
   "cell_type": "markdown",
   "id": "999bb9a6",
   "metadata": {},
   "source": [
    "1. Benefits:\n",
    "    1. Insertion    &emsp;O(1)\n",
    "    2. Deletion     &emsp;O(1)\n",
    "    3. Lookup       &emsp;O(1)  \n",
    "2. Not suitable for:\n",
    "    1. Not for order related queries \n",
    "    2. Need resizing \n",
    "    3. Poor worst-case performance "
   ]
  },
  {
   "cell_type": "markdown",
   "id": "d2bb92c5",
   "metadata": {},
   "source": [
    "#### 10. Binary Search Trees"
   ]
  },
  {
   "cell_type": "markdown",
   "id": "06cb007e",
   "metadata": {},
   "source": [
    "Benefits:       (When Balanced)\n",
    "1. Insertions   &emsp;O(log n)\n",
    "2. Deletion     &emsp;O(log n)\n",
    "3. Lookup       &emsp;O(log n)\n",
    "4. Find-Min     &emsp;O(log n)\n",
    "5. Find-Max     &emsp;O(log n)\n",
    "6. Successor    &emsp;O(log n)\n",
    "7. Predecessor  &emsp;O(log n)"
   ]
  },
  {
   "cell_type": "markdown",
   "id": "81440180",
   "metadata": {},
   "source": [
    "### 3. Complexity"
   ]
  },
  {
   "cell_type": "markdown",
   "id": "02bb17b7",
   "metadata": {},
   "source": [
    "#### 1. Space Complexity "
   ]
  },
  {
   "cell_type": "markdown",
   "id": "6b62db99",
   "metadata": {},
   "source": [
    "######  O(1) means problems not only not uses dynamic memory allocation (either directly or through library routines) but also maximum depth of function call stack should also be constant, independent of input   \n",
    "###### DFS is O(n) is space complexity"
   ]
  },
  {
   "cell_type": "markdown",
   "id": "7a040ccc",
   "metadata": {},
   "source": [
    "#### 2. Time Complexity"
   ]
  },
  {
   "cell_type": "markdown",
   "id": "1f6bc617",
   "metadata": {},
   "source": [
    "1. T(n) = 2T(n/2) + O(1)  \n",
    "O(n)"
   ]
  },
  {
   "cell_type": "markdown",
   "id": "0f9824bb",
   "metadata": {},
   "source": [
    "### 4. Intractability"
   ]
  },
  {
   "cell_type": "markdown",
   "id": "018800ba",
   "metadata": {},
   "source": [
    "No efficient Solution exist for the problem"
   ]
  }
 ],
 "metadata": {
  "language_info": {
   "name": "python"
  }
 },
 "nbformat": 4,
 "nbformat_minor": 5
}
