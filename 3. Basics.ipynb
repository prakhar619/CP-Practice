{
 "cells": [
  {
   "cell_type": "markdown",
   "id": "c5c6ba45",
   "metadata": {},
   "source": [
    "# Introduction"
   ]
  },
  {
   "cell_type": "code",
   "execution_count": null,
   "id": "112093b5",
   "metadata": {
    "vscode": {
     "languageId": "cpp"
    }
   },
   "outputs": [],
   "source": [
    "// All library\n",
    "#include <bits/stdc++.h>\n",
    "using namespace std;"
   ]
  },
  {
   "cell_type": "markdown",
   "id": "f9f6e524",
   "metadata": {},
   "source": [
    "Add library for each and also for basic algorithm like sort"
   ]
  },
  {
   "cell_type": "markdown",
   "id": "e69ff7f3",
   "metadata": {},
   "source": [
    "### 1. Difference b/w Production code and CP"
   ]
  },
  {
   "cell_type": "markdown",
   "id": "a4815672",
   "metadata": {},
   "source": [
    "1. Everything is public; No use of getters and setters  \n",
    "2. No protection against invalid inputs\n",
    "3. Usage of static fields causes loss of thread safety\n",
    "4. Short variable names "
   ]
  },
  {
   "cell_type": "markdown",
   "id": "00f5a739",
   "metadata": {},
   "source": [
    "### 2. Data Structures"
   ]
  },
  {
   "cell_type": "markdown",
   "id": "75a50f9e",
   "metadata": {},
   "source": [
    "#### 1. Primitive"
   ]
  },
  {
   "cell_type": "markdown",
   "id": "d88a7980",
   "metadata": {},
   "source": [
    "#### 2. Arrays"
   ]
  },
  {
   "cell_type": "code",
   "execution_count": 2,
   "id": "88c59cce",
   "metadata": {
    "vscode": {
     "languageId": "cpp"
    }
   },
   "outputs": [],
   "source": [
    "//Library\n",
    "#include <vector>\n",
    "\n",
    "//Create\n",
    "vector<int> v;\n",
    "vector<int> v2(10, -1);\n",
    "\n",
    "//Operations\n",
    "v.push_back(10);"
   ]
  },
  {
   "cell_type": "markdown",
   "id": "bc5b4352",
   "metadata": {},
   "source": [
    "#### 3. Strings"
   ]
  },
  {
   "cell_type": "code",
   "execution_count": 3,
   "id": "1c6ddf1c",
   "metadata": {
    "vscode": {
     "languageId": "cpp"
    }
   },
   "outputs": [],
   "source": [
    "//Library\n",
    "#include <string>\n",
    "\n",
    "//Create\n",
    "string s = \"\";"
   ]
  },
  {
   "cell_type": "markdown",
   "id": "a0228801",
   "metadata": {},
   "source": [
    "#### 4. Lists"
   ]
  },
  {
   "cell_type": "code",
   "execution_count": 4,
   "id": "359f63a5",
   "metadata": {
    "vscode": {
     "languageId": "cpp"
    }
   },
   "outputs": [],
   "source": [
    "//Doubly linked list\n",
    "//Library\n",
    "#include <list>\n",
    "\n",
    "//Create\n",
    "list<int> l;\n",
    "\n",
    "//Operations\n",
    "l.push_back(10);\n",
    "l.push_front(1);\n"
   ]
  },
  {
   "cell_type": "markdown",
   "id": "03574be2",
   "metadata": {},
   "source": [
    "#### 5. Stacks"
   ]
  },
  {
   "cell_type": "code",
   "execution_count": 5,
   "id": "a5616112",
   "metadata": {
    "vscode": {
     "languageId": "cpp"
    }
   },
   "outputs": [
    {
     "data": {
      "text/plain": [
       "true"
      ]
     },
     "execution_count": 5,
     "metadata": {},
     "output_type": "execute_result"
    }
   ],
   "source": [
    "//Library\n",
    "#include <stack>\n",
    "\n",
    "//Create\n",
    "stack<int> s;\n",
    "\n",
    "//Operations\n",
    "s.push(10);\n",
    "s.top();\n",
    "s.pop();\n",
    "s.empty()"
   ]
  },
  {
   "cell_type": "markdown",
   "id": "fe361c24",
   "metadata": {},
   "source": [
    "#### 6. Queues"
   ]
  },
  {
   "cell_type": "code",
   "execution_count": 6,
   "id": "25567b75",
   "metadata": {
    "vscode": {
     "languageId": "cpp"
    }
   },
   "outputs": [],
   "source": [
    "//For Deque\n",
    "//Library\n",
    "#include <deque>\n",
    "\n",
    "//Create\n",
    "deque<int> dq;\n",
    "\n",
    "//Operations\n",
    "dq.push_front(10);\n",
    "dq.push_back(20);\n",
    "dq.front();\n",
    "dq.back();\n",
    "dq.empty();\n",
    "\n",
    "//For Queue and Priority Queue\n",
    "//Library\n",
    "#include <queue>\n",
    "\n",
    "//Create\n",
    "queue<int> q;\n",
    "priority_queue<int> pq;\n",
    "\n",
    "\n",
    "//Operations\n",
    "q.push(10);\n",
    "q.front();\n",
    "q.pop();\n",
    "q.empty();\n",
    "\n",
    "pq.push(10);\n",
    "pq.top();\n",
    "pq.pop();\n",
    "pq.empty();"
   ]
  },
  {
   "cell_type": "markdown",
   "id": "903dc552",
   "metadata": {},
   "source": [
    "#### 7. Binary Trees"
   ]
  },
  {
   "cell_type": "markdown",
   "id": "1ae28df5",
   "metadata": {},
   "source": [
    "1. Hierachical Data\n",
    "2. Operation such as \n",
    "    1. Depth\n",
    "    2. Height \n",
    "    3. Leaves\n",
    "    4. Search Path \n",
    "    5. Traversal Sequences\n",
    "    6. Successor/Predecessor "
   ]
  },
  {
   "cell_type": "markdown",
   "id": "0ef351a4",
   "metadata": {},
   "source": [
    "#### 8. Heaps"
   ]
  },
  {
   "cell_type": "code",
   "execution_count": 7,
   "id": "97a78bbc",
   "metadata": {
    "vscode": {
     "languageId": "cpp"
    }
   },
   "outputs": [],
   "source": [
    "//Library\n",
    "#include <queue>\n",
    "\n",
    "//Create\n",
    "priority_queue<int,vector<int>> maxHeap;\n",
    "priority_queue<int,vector<int>,greater<int>> minHeap;\n",
    "\n",
    "//Operations\n",
    "maxHeap.push(10);\n",
    "maxHeap.top();\n",
    "maxHeap.pop();\n",
    "maxHeap.empty();"
   ]
  },
  {
   "cell_type": "markdown",
   "id": "a87f51ce",
   "metadata": {},
   "source": [
    "Benefits:  \n",
    "1. Find-Max     &emsp;O(1)\n",
    "2. Insertion    &emsp;O(log n)\n",
    "3. Deletion     &emsp;O(log n)"
   ]
  },
  {
   "cell_type": "markdown",
   "id": "83247932",
   "metadata": {},
   "source": [
    "#### 9. Hash Tables"
   ]
  },
  {
   "cell_type": "code",
   "execution_count": 9,
   "id": "625c9b92",
   "metadata": {
    "vscode": {
     "languageId": "cpp"
    }
   },
   "outputs": [],
   "source": [
    "//Library\n",
    "#include <unordered_map>\n",
    "#include <unordered_set>\n",
    "#include <set>\n",
    "#include <map>\n",
    "\n",
    "//Create\n",
    "unordered_map<int,int> umap;\n",
    "unordered_set<int> uset;\n",
    "\n",
    "//Operations\n",
    "umap.insert(pair<int,int> (10,20));\n",
    "umap[20] = 30;\n",
    "uset.insert(10);"
   ]
  },
  {
   "cell_type": "markdown",
   "id": "999bb9a6",
   "metadata": {},
   "source": [
    "1. Benefits:\n",
    "    1. Insertion    &emsp;O(1)\n",
    "    2. Deletion     &emsp;O(1)\n",
    "    3. Lookup       &emsp;O(1)  \n",
    "2. Not suitable for:\n",
    "    1. Not for order related queries \n",
    "    2. Need resizing \n",
    "    3. Poor worst-case performance "
   ]
  },
  {
   "cell_type": "markdown",
   "id": "d2bb92c5",
   "metadata": {},
   "source": [
    "#### 10. Binary Search Trees"
   ]
  },
  {
   "cell_type": "markdown",
   "id": "06cb007e",
   "metadata": {},
   "source": [
    "Benefits:       (When Balanced)\n",
    "1. Insertions   &emsp;O(log n)\n",
    "2. Deletion     &emsp;O(log n)\n",
    "3. Lookup       &emsp;O(log n)\n",
    "4. Find-Min     &emsp;O(log n)\n",
    "5. Find-Max     &emsp;O(log n)\n",
    "6. Successor    &emsp;O(log n)\n",
    "7. Predecessor  &emsp;O(log n)"
   ]
  },
  {
   "cell_type": "markdown",
   "id": "81440180",
   "metadata": {},
   "source": [
    "### 3. Complexity"
   ]
  },
  {
   "cell_type": "markdown",
   "id": "02bb17b7",
   "metadata": {},
   "source": [
    "#### 1. Space Complexity "
   ]
  },
  {
   "cell_type": "markdown",
   "id": "6b62db99",
   "metadata": {},
   "source": [
    "######  O(1) means problems not only not uses dynamic memory allocation (either directly or through library routines) but also maximum depth of function call stack should also be constant, independent of input   \n",
    "###### DFS is O(n) is space complexity"
   ]
  },
  {
   "cell_type": "markdown",
   "id": "7a040ccc",
   "metadata": {},
   "source": [
    "#### 2. Time Complexity"
   ]
  },
  {
   "cell_type": "markdown",
   "id": "1f6bc617",
   "metadata": {},
   "source": [
    "1. T(n) = 2T(n/2) + O(1)  \n",
    "O(n)"
   ]
  },
  {
   "cell_type": "markdown",
   "id": "0f9824bb",
   "metadata": {},
   "source": [
    "### 4. Intractability"
   ]
  },
  {
   "cell_type": "markdown",
   "id": "018800ba",
   "metadata": {},
   "source": [
    "No efficient Solution exist for the problem"
   ]
  }
 ],
 "metadata": {
  "kernelspec": {
   "display_name": "C++17",
   "language": "C++17",
   "name": "xcpp17"
  },
  "language_info": {
   "codemirror_mode": "text/x-c++src",
   "file_extension": ".cpp",
   "mimetype": "text/x-c++src",
   "name": "c++",
   "version": "17"
  }
 },
 "nbformat": 4,
 "nbformat_minor": 5
}
